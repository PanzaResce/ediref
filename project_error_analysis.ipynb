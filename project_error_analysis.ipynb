{
  "cells": [
    {
      "cell_type": "code",
      "execution_count": 1,
      "metadata": {},
      "outputs": [],
      "source": [
        "# !pip install datasets\n",
        "# !pip install transformers[torch]\n",
        "# !pip install accelerate -U"
      ]
    },
    {
      "cell_type": "code",
      "execution_count": 1,
      "metadata": {
        "id": "Tb6JkaXPQ8c9"
      },
      "outputs": [],
      "source": [
        "import torch\n",
        "import torch.nn.functional as F\n",
        "from src.utils import *\n",
        "from src.models.models import Model_Phrase_Concatenation, Model_Phrase_Extraction, Model_concat_nopooling\n",
        "from src.models.baseline import Baseline\n",
        "from datasets import concatenate_datasets\n",
        "from sklearn.utils.class_weight import compute_class_weight\n",
        "from transformers import DefaultDataCollator, AutoTokenizer, TrainingArguments, Trainer"
      ]
    },
    {
      "cell_type": "code",
      "execution_count": 2,
      "metadata": {
        "colab": {
          "base_uri": "https://localhost:8080/"
        },
        "id": "R2MsBHCqQ8c_",
        "outputId": "4940d008-c6d5-494c-907a-8198446a460b"
      },
      "outputs": [
        {
          "name": "stdout",
          "output_type": "stream",
          "text": [
            "2.2.2+cu121\n",
            "True\n"
          ]
        }
      ],
      "source": [
        "RANDOM_SEED = 42\n",
        "set_seeds(RANDOM_SEED)\n",
        "\n",
        "print(torch.__version__)\n",
        "print(torch.cuda.is_available())"
      ]
    },
    {
      "cell_type": "code",
      "execution_count": 3,
      "metadata": {},
      "outputs": [
        {
          "name": "stdout",
          "output_type": "stream",
          "text": [
            "Current work directory: c:\\Users\\cacio\\Desktop\\jacopo\\scuola\\UNIBO MASTER\\NATURAL LANGUAGE PROCESSING\\project\\ediref\n"
          ]
        },
        {
          "data": {
            "text/html": [
              "<div>\n",
              "<style scoped>\n",
              "    .dataframe tbody tr th:only-of-type {\n",
              "        vertical-align: middle;\n",
              "    }\n",
              "\n",
              "    .dataframe tbody tr th {\n",
              "        vertical-align: top;\n",
              "    }\n",
              "\n",
              "    .dataframe thead th {\n",
              "        text-align: right;\n",
              "    }\n",
              "</style>\n",
              "<table border=\"1\" class=\"dataframe\">\n",
              "  <thead>\n",
              "    <tr style=\"text-align: right;\">\n",
              "      <th></th>\n",
              "      <th>episode</th>\n",
              "      <th>emotions</th>\n",
              "      <th>utterances</th>\n",
              "      <th>triggers</th>\n",
              "      <th>emotions_id</th>\n",
              "    </tr>\n",
              "  </thead>\n",
              "  <tbody>\n",
              "    <tr>\n",
              "      <th>0</th>\n",
              "      <td>utterance_0</td>\n",
              "      <td>[neutral, neutral, neutral, neutral, surprise]</td>\n",
              "      <td>[also I was the point person on my company's t...</td>\n",
              "      <td>[0, 0, 0, 1, 0]</td>\n",
              "      <td>[4, 4, 4, 4, 3]</td>\n",
              "    </tr>\n",
              "    <tr>\n",
              "      <th>1</th>\n",
              "      <td>utterance_1</td>\n",
              "      <td>[neutral, neutral, neutral, neutral, surprise,...</td>\n",
              "      <td>[also I was the point person on my company's t...</td>\n",
              "      <td>[0, 0, 0, 0, 0, 1, 0]</td>\n",
              "      <td>[4, 4, 4, 4, 3, 4, 4]</td>\n",
              "    </tr>\n",
              "    <tr>\n",
              "      <th>2</th>\n",
              "      <td>utterance_2</td>\n",
              "      <td>[neutral, neutral, neutral, neutral, surprise,...</td>\n",
              "      <td>[also I was the point person on my company's t...</td>\n",
              "      <td>[0, 0, 0, 0, 0, 0, 0, 1, 0, 1, 0]</td>\n",
              "      <td>[4, 4, 4, 4, 3, 4, 4, 4, 4, 4, 1]</td>\n",
              "    </tr>\n",
              "    <tr>\n",
              "      <th>3</th>\n",
              "      <td>utterance_3</td>\n",
              "      <td>[neutral, neutral, neutral, neutral, surprise,...</td>\n",
              "      <td>[also I was the point person on my company's t...</td>\n",
              "      <td>[0, 0, 0, 0, 0, 0, 0, 0, 0, 0, 0, 1, 0]</td>\n",
              "      <td>[4, 4, 4, 4, 3, 4, 4, 4, 4, 4, 1, 4, 3]</td>\n",
              "    </tr>\n",
              "    <tr>\n",
              "      <th>4</th>\n",
              "      <td>utterance_4</td>\n",
              "      <td>[surprise, sadness, surprise, fear]</td>\n",
              "      <td>[But then who? The waitress I went out with la...</td>\n",
              "      <td>[0, 0, 1, 0]</td>\n",
              "      <td>[3, 0, 3, 1]</td>\n",
              "    </tr>\n",
              "    <tr>\n",
              "      <th>...</th>\n",
              "      <td>...</td>\n",
              "      <td>...</td>\n",
              "      <td>...</td>\n",
              "      <td>...</td>\n",
              "      <td>...</td>\n",
              "    </tr>\n",
              "    <tr>\n",
              "      <th>3995</th>\n",
              "      <td>utterance_3995</td>\n",
              "      <td>[neutral, joy, neutral, neutral, surprise, dis...</td>\n",
              "      <td>[Hey., Hey!, So how was Joan?, I broke up with...</td>\n",
              "      <td>[0, 0, 0, 0, 0, 0, 0, 0, 0, 0, 0, 1]</td>\n",
              "      <td>[4, 6, 4, 4, 3, 2, 4, 2, 3, 4, 4, 2]</td>\n",
              "    </tr>\n",
              "    <tr>\n",
              "      <th>3996</th>\n",
              "      <td>utterance_3996</td>\n",
              "      <td>[neutral, joy, neutral, neutral, surprise, dis...</td>\n",
              "      <td>[Hey., Hey!, So how was Joan?, I broke up with...</td>\n",
              "      <td>[0, 0, 0, 0, 0, 0, 0, 0, 0, 0, 0, 0, 0, 1]</td>\n",
              "      <td>[4, 6, 4, 4, 3, 2, 4, 2, 3, 4, 4, 2, 2, 4]</td>\n",
              "    </tr>\n",
              "    <tr>\n",
              "      <th>3997</th>\n",
              "      <td>utterance_3997</td>\n",
              "      <td>[neutral, joy, neutral, neutral, surprise, dis...</td>\n",
              "      <td>[Hey., Hey!, So how was Joan?, I broke up with...</td>\n",
              "      <td>[0, 0, 0, 0, 0, 0, 0, 0, 0, 0, 0, 0, 0, 1, 0]</td>\n",
              "      <td>[4, 6, 4, 4, 3, 2, 4, 2, 3, 4, 4, 2, 2, 4, 4]</td>\n",
              "    </tr>\n",
              "    <tr>\n",
              "      <th>3998</th>\n",
              "      <td>utterance_3998</td>\n",
              "      <td>[neutral, joy, neutral, neutral, surprise, dis...</td>\n",
              "      <td>[Hey., Hey!, So how was Joan?, I broke up with...</td>\n",
              "      <td>[0, 0, 0, 0, 0, 0, 0, 0, 0, 0, 0, 0, 0, 0, 1, 0]</td>\n",
              "      <td>[4, 6, 4, 4, 3, 2, 4, 2, 3, 4, 4, 2, 2, 4, 4, 3]</td>\n",
              "    </tr>\n",
              "    <tr>\n",
              "      <th>3999</th>\n",
              "      <td>utterance_3999</td>\n",
              "      <td>[neutral, joy, neutral, neutral, surprise, dis...</td>\n",
              "      <td>[Hey., Hey!, So how was Joan?, I broke up with...</td>\n",
              "      <td>[0, 0, 0, 0, 0, 0, 0, 0, 0, 0, 0, 0, 0, 0, 0, ...</td>\n",
              "      <td>[4, 6, 4, 4, 3, 2, 4, 2, 3, 4, 4, 2, 2, 4, 4, ...</td>\n",
              "    </tr>\n",
              "  </tbody>\n",
              "</table>\n",
              "<p>4000 rows × 5 columns</p>\n",
              "</div>"
            ],
            "text/plain": [
              "             episode                                           emotions  \\\n",
              "0        utterance_0     [neutral, neutral, neutral, neutral, surprise]   \n",
              "1        utterance_1  [neutral, neutral, neutral, neutral, surprise,...   \n",
              "2        utterance_2  [neutral, neutral, neutral, neutral, surprise,...   \n",
              "3        utterance_3  [neutral, neutral, neutral, neutral, surprise,...   \n",
              "4        utterance_4                [surprise, sadness, surprise, fear]   \n",
              "...              ...                                                ...   \n",
              "3995  utterance_3995  [neutral, joy, neutral, neutral, surprise, dis...   \n",
              "3996  utterance_3996  [neutral, joy, neutral, neutral, surprise, dis...   \n",
              "3997  utterance_3997  [neutral, joy, neutral, neutral, surprise, dis...   \n",
              "3998  utterance_3998  [neutral, joy, neutral, neutral, surprise, dis...   \n",
              "3999  utterance_3999  [neutral, joy, neutral, neutral, surprise, dis...   \n",
              "\n",
              "                                             utterances  \\\n",
              "0     [also I was the point person on my company's t...   \n",
              "1     [also I was the point person on my company's t...   \n",
              "2     [also I was the point person on my company's t...   \n",
              "3     [also I was the point person on my company's t...   \n",
              "4     [But then who? The waitress I went out with la...   \n",
              "...                                                 ...   \n",
              "3995  [Hey., Hey!, So how was Joan?, I broke up with...   \n",
              "3996  [Hey., Hey!, So how was Joan?, I broke up with...   \n",
              "3997  [Hey., Hey!, So how was Joan?, I broke up with...   \n",
              "3998  [Hey., Hey!, So how was Joan?, I broke up with...   \n",
              "3999  [Hey., Hey!, So how was Joan?, I broke up with...   \n",
              "\n",
              "                                               triggers  \\\n",
              "0                                       [0, 0, 0, 1, 0]   \n",
              "1                                 [0, 0, 0, 0, 0, 1, 0]   \n",
              "2                     [0, 0, 0, 0, 0, 0, 0, 1, 0, 1, 0]   \n",
              "3               [0, 0, 0, 0, 0, 0, 0, 0, 0, 0, 0, 1, 0]   \n",
              "4                                          [0, 0, 1, 0]   \n",
              "...                                                 ...   \n",
              "3995               [0, 0, 0, 0, 0, 0, 0, 0, 0, 0, 0, 1]   \n",
              "3996         [0, 0, 0, 0, 0, 0, 0, 0, 0, 0, 0, 0, 0, 1]   \n",
              "3997      [0, 0, 0, 0, 0, 0, 0, 0, 0, 0, 0, 0, 0, 1, 0]   \n",
              "3998   [0, 0, 0, 0, 0, 0, 0, 0, 0, 0, 0, 0, 0, 0, 1, 0]   \n",
              "3999  [0, 0, 0, 0, 0, 0, 0, 0, 0, 0, 0, 0, 0, 0, 0, ...   \n",
              "\n",
              "                                            emotions_id  \n",
              "0                                       [4, 4, 4, 4, 3]  \n",
              "1                                 [4, 4, 4, 4, 3, 4, 4]  \n",
              "2                     [4, 4, 4, 4, 3, 4, 4, 4, 4, 4, 1]  \n",
              "3               [4, 4, 4, 4, 3, 4, 4, 4, 4, 4, 1, 4, 3]  \n",
              "4                                          [3, 0, 3, 1]  \n",
              "...                                                 ...  \n",
              "3995               [4, 6, 4, 4, 3, 2, 4, 2, 3, 4, 4, 2]  \n",
              "3996         [4, 6, 4, 4, 3, 2, 4, 2, 3, 4, 4, 2, 2, 4]  \n",
              "3997      [4, 6, 4, 4, 3, 2, 4, 2, 3, 4, 4, 2, 2, 4, 4]  \n",
              "3998   [4, 6, 4, 4, 3, 2, 4, 2, 3, 4, 4, 2, 2, 4, 4, 3]  \n",
              "3999  [4, 6, 4, 4, 3, 2, 4, 2, 3, 4, 4, 2, 2, 4, 4, ...  \n",
              "\n",
              "[4000 rows x 5 columns]"
            ]
          },
          "execution_count": 3,
          "metadata": {},
          "output_type": "execute_result"
        }
      ],
      "source": [
        "url = \"https://drive.google.com/uc?export=download&id=1wVNU2XvvhqjaGXZM-JLJwOt97gt4g9j2\"\n",
        "dataset_name = \"MELD_train_efr.json\"\n",
        "\n",
        "df_manager = DataframeManager(url, dataset_name)\n",
        "\n",
        "df = df_manager.produce_df()\n",
        "df"
      ]
    },
    {
      "cell_type": "code",
      "execution_count": 4,
      "metadata": {
        "id": "aYeINdxlLlYW",
        "outputId": "08317111-0a25-4b78-eac1-f6609fa7ee4b"
      },
      "outputs": [
        {
          "name": "stdout",
          "output_type": "stream",
          "text": [
            "(3200, 5)\n",
            "(400, 5)\n",
            "(400, 5)\n"
          ]
        },
        {
          "name": "stderr",
          "output_type": "stream",
          "text": [
            "c:\\Users\\cacio\\Desktop\\jacopo\\scuola\\UNIBO MASTER\\NATURAL LANGUAGE PROCESSING\\project\\ediref\\ediref\\Lib\\site-packages\\numpy\\core\\fromnumeric.py:59: FutureWarning: 'DataFrame.swapaxes' is deprecated and will be removed in a future version. Please use 'DataFrame.transpose' instead.\n",
            "  return bound(*args, **kwds)\n"
          ]
        }
      ],
      "source": [
        "train_df, val_df, test_df = df_manager.split_df(RANDOM_SEED)\n",
        "print(train_df.shape)\n",
        "print(val_df.shape)\n",
        "print(test_df.shape)"
      ]
    },
    {
      "cell_type": "code",
      "execution_count": 5,
      "metadata": {
        "colab": {
          "base_uri": "https://localhost:8080/",
          "height": 422
        },
        "id": "9TNd9SBUa60R",
        "outputId": "1ee58b4f-f7be-4347-8798-26bdcc1dd36c"
      },
      "outputs": [
        {
          "name": "stderr",
          "output_type": "stream",
          "text": [
            "c:\\Users\\cacio\\Desktop\\jacopo\\scuola\\UNIBO MASTER\\NATURAL LANGUAGE PROCESSING\\project\\ediref\\src\\utils.py:276: FutureWarning: pandas.value_counts is deprecated and will be removed in a future version. Use pd.Series(obj).value_counts() instead.\n",
            "  return pd.DataFrame({key: pd.value_counts(values)\n",
            "c:\\Users\\cacio\\Desktop\\jacopo\\scuola\\UNIBO MASTER\\NATURAL LANGUAGE PROCESSING\\project\\ediref\\src\\utils.py:276: FutureWarning: value_counts with argument that is not not a Series, Index, ExtensionArray, or np.ndarray is deprecated and will raise in a future version.\n",
            "  return pd.DataFrame({key: pd.value_counts(values)\n",
            "c:\\Users\\cacio\\Desktop\\jacopo\\scuola\\UNIBO MASTER\\NATURAL LANGUAGE PROCESSING\\project\\ediref\\src\\utils.py:276: FutureWarning: pandas.value_counts is deprecated and will be removed in a future version. Use pd.Series(obj).value_counts() instead.\n",
            "  return pd.DataFrame({key: pd.value_counts(values)\n",
            "c:\\Users\\cacio\\Desktop\\jacopo\\scuola\\UNIBO MASTER\\NATURAL LANGUAGE PROCESSING\\project\\ediref\\src\\utils.py:276: FutureWarning: value_counts with argument that is not not a Series, Index, ExtensionArray, or np.ndarray is deprecated and will raise in a future version.\n",
            "  return pd.DataFrame({key: pd.value_counts(values)\n",
            "c:\\Users\\cacio\\Desktop\\jacopo\\scuola\\UNIBO MASTER\\NATURAL LANGUAGE PROCESSING\\project\\ediref\\src\\utils.py:276: FutureWarning: pandas.value_counts is deprecated and will be removed in a future version. Use pd.Series(obj).value_counts() instead.\n",
            "  return pd.DataFrame({key: pd.value_counts(values)\n",
            "c:\\Users\\cacio\\Desktop\\jacopo\\scuola\\UNIBO MASTER\\NATURAL LANGUAGE PROCESSING\\project\\ediref\\src\\utils.py:276: FutureWarning: value_counts with argument that is not not a Series, Index, ExtensionArray, or np.ndarray is deprecated and will raise in a future version.\n",
            "  return pd.DataFrame({key: pd.value_counts(values)\n"
          ]
        },
        {
          "data": {
            "image/png": "[encoded data removed]",
            "text/plain": [
              "<Figure size 1200x400 with 3 Axes>"
            ]
          },
          "metadata": {},
          "output_type": "display_data"
        }
      ],
      "source": [
        "df_manager.plot_emotion_distribution(train_df, val_df, test_df)"
      ]
    },
    {
      "cell_type": "code",
      "execution_count": 6,
      "metadata": {},
      "outputs": [],
      "source": [
        "#ELECTRA TOKENIZER\n",
        "\n",
        "model_card = 'google/electra-base-discriminator'\n",
        "tokenizer = AutoTokenizer.from_pretrained(model_card)\n",
        "\n",
        "model_dir =  \"./model_dir/\"+model_card.split(\"/\")[-1]+\"/\"\n",
        "data_collator = DefaultDataCollator()"
      ]
    },
    {
      "cell_type": "code",
      "execution_count": 7,
      "metadata": {
        "id": "kOwxAe3qLlYZ"
      },
      "outputs": [],
      "source": [
        "#BERT TOKENIZER\n",
        "\n",
        "model_card = 'bert-base-uncased'\n",
        "tokenizer = AutoTokenizer.from_pretrained(model_card)\n",
        "\n",
        "model_dir = \"./model_dir/\"+model_card+\"/\"\n",
        "data_collator = DefaultDataCollator()"
      ]
    },
    {
      "cell_type": "code",
      "execution_count": 7,
      "metadata": {
        "id": "-UN6VqNKQ8dR",
        "outputId": "327af93c-801b-40fc-e9fc-49c93fad93ad"
      },
      "outputs": [
        {
          "name": "stderr",
          "output_type": "stream",
          "text": [
            "c:\\Users\\cacio\\Desktop\\jacopo\\scuola\\UNIBO MASTER\\NATURAL LANGUAGE PROCESSING\\project\\ediref\\ediref\\Lib\\site-packages\\numpy\\core\\fromnumeric.py:59: FutureWarning: 'DataFrame.swapaxes' is deprecated and will be removed in a future version. Please use 'DataFrame.transpose' instead.\n",
            "  return bound(*args, **kwds)\n"
          ]
        }
      ],
      "source": [
        "train_data_tokenized, val_data_tokenized, test_data_tokenized = df_manager.produce_dataset(tokenizer, RANDOM_SEED)"
      ]
    },
    {
      "cell_type": "code",
      "execution_count": 8,
      "metadata": {},
      "outputs": [
        {
          "name": "stdout",
          "output_type": "stream",
          "text": [
            "28062\n",
            "3437\n",
            "3501\n"
          ]
        }
      ],
      "source": [
        "print(len(train_data_tokenized))\n",
        "print(len(val_data_tokenized))\n",
        "print(len(test_data_tokenized))"
      ]
    },
    {
      "cell_type": "markdown",
      "metadata": {
        "id": "dJWSxdXFQ8dT"
      },
      "source": [
        "Models"
      ]
    },
    {
      "cell_type": "code",
      "execution_count": 9,
      "metadata": {},
      "outputs": [
        {
          "data": {
            "text/plain": [
              "Dataset({\n",
              "    features: ['episode', 'emotions_id_one_hot_encoding', 'emotions_id', 'triggers', 'dialogue_ids', 'dialogue_mask', 'dialogue_index', 'dialogue_text', 'utterance_ids', 'utterance_mask', 'utterance_index'],\n",
              "    num_rows: 3501\n",
              "})"
            ]
          },
          "execution_count": 9,
          "metadata": {},
          "output_type": "execute_result"
        }
      ],
      "source": [
        "test_data_tokenized"
      ]
    },
    {
      "cell_type": "code",
      "execution_count": 15,
      "metadata": {},
      "outputs": [],
      "source": [
        "#ELECTRA CLASS POS WEIGHT\n",
        "def init_pos_weight(data, labels_column, class_weights=True, factor=1):\n",
        "    #y = data[labels_column].numpy()\n",
        "    y = data[labels_column]\n",
        "    if class_weights:\n",
        "        return torch.tensor(compute_class_weight(class_weight=\"balanced\", classes=np.unique(y), y=y)).to(\"cuda\")\n",
        "    else:\n",
        "        return torch.tensor(compute_class_weight(class_weight=None, classes=np.unique(y), y=y)).to(\"cuda\")"
      ]
    },
    {
      "cell_type": "code",
      "execution_count": 13,
      "metadata": {
        "id": "wTA_dWYFLlYb"
      },
      "outputs": [],
      "source": [
        "#BERT CLASS POS WEIGHT\n",
        "def init_pos_weight(data, labels, class_weights=True, factor=1):\n",
        "    if class_weights:\n",
        "        pos_weight = list()\n",
        "        emotions_counts = {label:0 for label in df_manager.unique_emotions}\n",
        "        for sentence_emotions in data[df_manager.column_emotions_id]:\n",
        "            for emotion in sentence_emotions:\n",
        "                emotions_counts[emotion] = emotions_counts[emotion] + 1\n",
        "        sum_of_all_emotions = sum(emotions_counts.values())\n",
        "        for label in labels:\n",
        "            w = (sum_of_all_emotions-emotions_counts[label])/emotions_counts[label]   # num_neg/num_pos for each class as specified in the documentation for BCEWithLogitsLoss\n",
        "            if w > 1:                       # increase recall of minority classes\n",
        "                w*=factor                   # factor to magnify the weight (not standard)\n",
        "                pos_weight.append(w)\n",
        "            else:\n",
        "                pos_weight.append(1)        # non minority classes are not influenced (pos_weight = 1)\n",
        "        return torch.tensor(pos_weight).to(\"cuda\")\n",
        "    else:\n",
        "        return torch.ones([len(labels)]).to(\"cuda\")"
      ]
    },
    {
      "cell_type": "code",
      "execution_count": 16,
      "metadata": {},
      "outputs": [],
      "source": [
        "#ELECTRA CLASS TRAINER\n",
        "\n",
        "class MultiLabelTrainer(Trainer):\n",
        "    def __init__(self, pos_weight=None, **kwargs):\n",
        "        self.emotions_pos_weight, self.triggers_pos_weight = pos_weight\n",
        "        super().__init__(**kwargs)\n",
        "\n",
        "    def compute_loss(self, model, inputs, return_outputs=False):\n",
        "        emotions_true = inputs[\"emotions_id_one_hot_encoding\"].to(\"cuda\")\n",
        "        triggers_true = inputs[\"triggers\"].unsqueeze(1).float().to(\"cuda\")\n",
        "\n",
        "        result = model(**inputs)\n",
        "        \n",
        "        emotion_logits = result['emotion_logits'].to(\"cuda\")\n",
        "        trigger_logits = result['trigger_logits'].to(\"cuda\")\n",
        "        \n",
        "        loss_fct_emotions = torch.nn.CrossEntropyLoss(weight=self.emotions_pos_weight).to(\"cuda\")        \n",
        "        loss_fct_triggers = torch.nn.BCEWithLogitsLoss(pos_weight=self.triggers_pos_weight[1]).to(\"cuda\")\n",
        "        \n",
        "        loss_emotions = loss_fct_emotions(emotion_logits, emotions_true.float())\n",
        "        loss_triggers = loss_fct_triggers(trigger_logits, triggers_true)\n",
        "\n",
        "\n",
        "        loss_emotions_wt = 0.5\n",
        "        loss_triggers_wt = 0.5\n",
        "\n",
        "        loss = loss_emotions_wt*loss_emotions + loss_triggers_wt*loss_triggers\n",
        "        return (loss, {'emotion_logits': emotion_logits, 'trigger_logits': trigger_logits}) if return_outputs else loss\n",
        "\n",
        "def get_trainer(model, train, val, model_dir, class_weights=True, batch_size=1, epochs=20):\n",
        "    training_args = TrainingArguments(\n",
        "        output_dir=model_dir,\n",
        "        learning_rate=2e-5,\n",
        "        per_device_train_batch_size=batch_size,\n",
        "        per_device_eval_batch_size=batch_size,\n",
        "        num_train_epochs=epochs,\n",
        "        weight_decay=0.01,\n",
        "        evaluation_strategy=\"epoch\",\n",
        "        save_strategy=\"epoch\",\n",
        "        save_total_limit=1,\n",
        "        lr_scheduler_type=\"cosine\",\n",
        "        metric_for_best_model='u_avg_f1',\n",
        "        report_to='none',\n",
        "        label_names=[\"emotions_id\", \"triggers\", \"dialogue_index\"],\n",
        "    )\n",
        "\n",
        "    full_dataset = concatenate_datasets([train_data_tokenized, val_data_tokenized, test_data_tokenized])\n",
        "    pos_weight = (init_pos_weight(full_dataset, df_manager.column_emotions_id, class_weights), init_pos_weight(full_dataset, df_manager.column_triggers, class_weights))\n",
        "\n",
        "    trainer = MultiLabelTrainer(\n",
        "        pos_weight=pos_weight,\n",
        "        model=model,\n",
        "        args=training_args,\n",
        "        train_dataset=train,\n",
        "        eval_dataset=val,\n",
        "        tokenizer=tokenizer,\n",
        "        data_collator=data_collator,\n",
        "        compute_metrics=lambda pred: compute_metrics(pred, len(df_manager.emotion2id.keys()))\n",
        "    )\n",
        "\n",
        "    return trainer"
      ]
    },
    {
      "cell_type": "code",
      "execution_count": 15,
      "metadata": {
        "id": "ztKhP1pmLlYc"
      },
      "outputs": [],
      "source": [
        "#BERT CLASS TRAINER\n",
        "\n",
        "class MultiLabelTrainer(Trainer):\n",
        "    def __init__(self, pos_weight, **kwargs):\n",
        "        self.pos_weight = pos_weight\n",
        "        super().__init__(**kwargs)\n",
        "\n",
        "    def compute_loss(self, model, inputs, return_outputs=False):\n",
        "        emotions_true = inputs[\"emotions_id_one_hot_encoding\"].to(\"cuda\")\n",
        "        triggers_true = inputs[\"triggers\"].unsqueeze(1).float().to(\"cuda\")\n",
        "\n",
        "        result = model(**inputs)\n",
        "        \n",
        "        emotion_logits = result['emotion_logits'].to(\"cuda\")\n",
        "        trigger_logits = result['trigger_logits'].to(\"cuda\")\n",
        "        \n",
        "        loss_fct_emotions = torch.nn.CrossEntropyLoss().to(\"cuda\")        \n",
        "        loss_fct_triggers = torch.nn.BCEWithLogitsLoss().to(\"cuda\")\n",
        "\n",
        "        loss_emotions = loss_fct_emotions(emotion_logits, emotions_true.float())\n",
        "        loss_triggers = loss_fct_triggers(trigger_logits, triggers_true)\n",
        "\n",
        "        loss = loss_emotions + loss_triggers\n",
        "        return (loss, {'emotion_logits': emotion_logits, 'trigger_logits': trigger_logits}) if return_outputs else loss\n",
        "\n",
        "def get_trainer(model, train, val, model_dir, class_weights=True, batch_size=1, epochs=20):\n",
        "    training_args = TrainingArguments(\n",
        "        output_dir=model_dir,\n",
        "        learning_rate=2e-5,\n",
        "        per_device_train_batch_size=batch_size,\n",
        "        per_device_eval_batch_size=batch_size,\n",
        "        num_train_epochs=epochs,\n",
        "        weight_decay=0.01,\n",
        "        evaluation_strategy=\"steps\",\n",
        "        save_strategy=\"steps\",\n",
        "        lr_scheduler_type=\"cosine\",\n",
        "        save_total_limit = 1,\n",
        "        load_best_model_at_end=True,\n",
        "        metric_for_best_model='eval_loss',\n",
        "        report_to='none',\n",
        "        label_names=[\"emotions_id\", \"triggers\", \"dialogue_index\", \"emotions_id_one_hot_encoding\"],\n",
        "    )\n",
        "    pos_weight = init_pos_weight(concatenate_datasets([train_data_tokenized, val_data_tokenized, test_data_tokenized]), df_manager.emotion2id.keys(), False)\n",
        "    trainer = MultiLabelTrainer(\n",
        "        pos_weight=pos_weight,\n",
        "        model=model,\n",
        "        args=training_args,\n",
        "        train_dataset=train,\n",
        "        eval_dataset=val,\n",
        "        tokenizer=tokenizer,\n",
        "        data_collator=data_collator,\n",
        "        compute_metrics=lambda pred: compute_metrics(pred, len(df_manager.emotion2id.keys())),\n",
        "    )\n",
        "\n",
        "    return trainer"
      ]
    },
    {
      "cell_type": "code",
      "execution_count": 12,
      "metadata": {},
      "outputs": [],
      "source": [
        "#intialize class for error analysis (SELECT FIRST WHICH DATASET TO USE)\n",
        "from src import error\n",
        "import importlib\n",
        "importlib.reload(error)\n",
        "test_report = error.ErrorAnalysis(test_data_tokenized)\n",
        "val_report = error.ErrorAnalysis(val_data_tokenized)"
      ]
    },
    {
      "cell_type": "markdown",
      "metadata": {},
      "source": [
        "### BERT LOAD PREDICTIONS"
      ]
    },
    {
      "cell_type": "code",
      "execution_count": 76,
      "metadata": {},
      "outputs": [
        {
          "name": "stderr",
          "output_type": "stream",
          "text": [
            "c:\\Users\\cacio\\Desktop\\jacopo\\scuola\\UNIBO MASTER\\NATURAL LANGUAGE PROCESSING\\project\\ediref\\ediref\\Lib\\site-packages\\accelerate\\accelerator.py:432: FutureWarning: Passing the following arguments to `Accelerator` is deprecated and will be removed in version 1.0 of Accelerate: dict_keys(['dispatch_batches', 'split_batches', 'even_batches', 'use_seedable_sampler']). Please pass an `accelerate.DataLoaderConfiguration` instead: \n",
            "dataloader_config = DataLoaderConfiguration(dispatch_batches=None, split_batches=False, even_batches=True, use_seedable_sampler=True)\n",
            "  warnings.warn(\n"
          ]
        },
        {
          "data": {
            "application/vnd.jupyter.widget-view+json": {
              "model_id": "3202d8049e86426882c789b05136c277",
              "version_major": 2,
              "version_minor": 0
            },
            "text/plain": [
              "  0%|          | 0/860 [00:00<?, ?it/s]"
            ]
          },
          "metadata": {},
          "output_type": "display_data"
        },
        {
          "data": {
            "text/plain": [
              "PredictionOutput(predictions=(array([[-0.34950823, -1.8695816 , -1.9935911 , ..., -0.18335019,\n",
              "         0.25831404, -0.1901654 ],\n",
              "       [-1.4172022 , -1.8015509 , -0.44551998, ...,  5.6988673 ,\n",
              "        -0.06012411, -1.6183275 ],\n",
              "       [-1.4675945 , -1.6065032 , -1.9891231 , ...,  1.507411  ,\n",
              "        -0.3905949 , -1.3454388 ],\n",
              "       ...,\n",
              "       [ 0.11573264, -1.4254138 , -2.6632204 , ...,  6.4625273 ,\n",
              "        -0.6698389 , -0.22880372],\n",
              "       [-0.6532373 , -1.4303167 , -2.162873  , ...,  6.8264923 ,\n",
              "        -1.0507269 , -0.53007716],\n",
              "       [-0.98327625, -3.7471771 , -2.0632226 , ..., -0.6566795 ,\n",
              "         0.09050234,  1.1393502 ]], dtype=float32), array([[-3.022243 ],\n",
              "       [-1.2566403],\n",
              "       [-2.2619827],\n",
              "       ...,\n",
              "       [-3.7232473],\n",
              "       [-3.178554 ],\n",
              "       [-2.9150305]], dtype=float32)), label_ids=(array([3, 4, 6, ..., 4, 4, 3], dtype=int64), array([0, 1, 0, ..., 0, 0, 0], dtype=int64), array([  0,   0,   0, ..., 399, 399, 399], dtype=int64), array([[0, 0, 0, ..., 0, 0, 0],\n",
              "       [0, 0, 0, ..., 1, 0, 0],\n",
              "       [0, 0, 0, ..., 0, 0, 1],\n",
              "       ...,\n",
              "       [0, 0, 0, ..., 1, 0, 0],\n",
              "       [0, 0, 0, ..., 1, 0, 0],\n",
              "       [0, 0, 0, ..., 0, 0, 0]], dtype=int64)), metrics={'test_loss': 1.0648423433303833, 'test_accuracy_emotions': 0.8731, 'test_accuracy_triggers': 0.8289, 'test_u_avg_f1': 0.6544, 'test_u_f1scores_emotions': 0.836, 'test_u_f1scores_triggers': 0.4727, 'test_d_f1scores_emotions': 0.8661, 'test_d_f1scores_triggers': 0.7878, 'test_runtime': 64.9821, 'test_samples_per_second': 52.891, 'test_steps_per_second': 13.234})"
            ]
          },
          "execution_count": 76,
          "metadata": {},
          "output_type": "execute_result"
        }
      ],
      "source": [
        "import os\n",
        "model_dir = \"./already_trained_models/trained_models/bert_concat\"\n",
        "#set_seeds(49)\n",
        "base_model = Model_concat_nopooling(len(df_manager.unique_emotions), tokenizer.sep_token_id)\n",
        "model_path = os.path.join(model_dir, \"bert_concat_nopooling_49.pth\")\n",
        "base_model.load_state_dict(torch.load(model_path))\n",
        "\n",
        "trainer = get_trainer(base_model, train_data_tokenized, val_data_tokenized, './trained_models', class_weights=True, batch_size=4, epochs=5)\n",
        "prediction = trainer.predict(val_data_tokenized)\n",
        "prediction"
      ]
    },
    {
      "cell_type": "code",
      "execution_count": null,
      "metadata": {},
      "outputs": [],
      "source": [
        "#Table of bad vs goods\n",
        "#BERT CONCAT 49 --------------------> GOOD\n",
        "#BERT CONCAT NOOPOLING 49 --------------------> GOOD\n",
        "#BERT EXTRACTION 111 --------------------> GOOD\n",
        "#BERT EXTRACTION FREEZE 49 --------------------> GOOD\n",
        "#BERT EXTRACTION FREEZE 51 --------------------> GOOD\n",
        "#BERT EXTRACTION FREEZE 77 --------------------> GOOD\n",
        "#BERT EXTRACTION FREEZE 666 --------------------> GOOD\n",
        "#ELECTRA EXTRACTION 49 --------------------> \n",
        "#ELECTRA EXTRACTION 51 --------------------> \n",
        "#ELECTRA EXTRACTION 77 --------------------> \n",
        "#ELECTRA EXTRACTION 111 --------------------> \n",
        "#ELECTRA EXTRACTION 666 --------------------> "
      ]
    },
    {
      "cell_type": "code",
      "execution_count": 19,
      "metadata": {},
      "outputs": [
        {
          "data": {
            "text/plain": [
              "[{'path': './already_trained_models/trained_models/bert_extraction/bert_extraction_111.pth',\n",
              "  'name': 'bert_extraction_111',\n",
              "  'dir': './already_trained_models/trained_models/bert_extraction/',\n",
              "  't': 'extraction'},\n",
              " {'path': './already_trained_models/trained_models/bert_extraction/bert_extraction_49.pth',\n",
              "  'name': 'bert_extraction_49',\n",
              "  'dir': './already_trained_models/trained_models/bert_extraction/',\n",
              "  't': 'extraction'},\n",
              " {'path': './already_trained_models/trained_models/bert_extraction/bert_extraction_51.pth',\n",
              "  'name': 'bert_extraction_51',\n",
              "  'dir': './already_trained_models/trained_models/bert_extraction/',\n",
              "  't': 'extraction'},\n",
              " {'path': './already_trained_models/trained_models/bert_extraction/bert_extraction_666.pth',\n",
              "  'name': 'bert_extraction_666',\n",
              "  'dir': './already_trained_models/trained_models/bert_extraction/',\n",
              "  't': 'extraction'},\n",
              " {'path': './already_trained_models/trained_models/bert_extraction/bert_extraction_77.pth',\n",
              "  'name': 'bert_extraction_77',\n",
              "  'dir': './already_trained_models/trained_models/bert_extraction/',\n",
              "  't': 'extraction'},\n",
              " {'path': './already_trained_models/trained_models/bert_extraction/bert_extraction_freeze_111.pth',\n",
              "  'name': 'bert_extraction_freeze_111',\n",
              "  'dir': './already_trained_models/trained_models/bert_extraction/',\n",
              "  't': 'extraction'},\n",
              " {'path': './already_trained_models/trained_models/bert_extraction/bert_extraction_freeze_49.pth',\n",
              "  'name': 'bert_extraction_freeze_49',\n",
              "  'dir': './already_trained_models/trained_models/bert_extraction/',\n",
              "  't': 'extraction'},\n",
              " {'path': './already_trained_models/trained_models/bert_extraction/bert_extraction_freeze_51.pth',\n",
              "  'name': 'bert_extraction_freeze_51',\n",
              "  'dir': './already_trained_models/trained_models/bert_extraction/',\n",
              "  't': 'extraction'},\n",
              " {'path': './already_trained_models/trained_models/bert_extraction/bert_extraction_freeze_666.pth',\n",
              "  'name': 'bert_extraction_freeze_666',\n",
              "  'dir': './already_trained_models/trained_models/bert_extraction/',\n",
              "  't': 'extraction'},\n",
              " {'path': './already_trained_models/trained_models/bert_extraction/bert_extraction_freeze_77.pth',\n",
              "  'name': 'bert_extraction_freeze_77',\n",
              "  'dir': './already_trained_models/trained_models/bert_extraction/',\n",
              "  't': 'extraction'},\n",
              " {'path': './already_trained_models/trained_models/bert_concat/bert_concat_111.pth',\n",
              "  'name': 'bert_concat_111',\n",
              "  'dir': './already_trained_models/trained_models/bert_concat/',\n",
              "  't': 'concat'},\n",
              " {'path': './already_trained_models/trained_models/bert_concat/bert_concat_49.pth',\n",
              "  'name': 'bert_concat_49',\n",
              "  'dir': './already_trained_models/trained_models/bert_concat/',\n",
              "  't': 'concat'},\n",
              " {'path': './already_trained_models/trained_models/bert_concat/bert_concat_51.pth',\n",
              "  'name': 'bert_concat_51',\n",
              "  'dir': './already_trained_models/trained_models/bert_concat/',\n",
              "  't': 'concat'},\n",
              " {'path': './already_trained_models/trained_models/bert_concat/bert_concat_666.pth',\n",
              "  'name': 'bert_concat_666',\n",
              "  'dir': './already_trained_models/trained_models/bert_concat/',\n",
              "  't': 'concat'},\n",
              " {'path': './already_trained_models/trained_models/bert_concat/bert_concat_77.pth',\n",
              "  'name': 'bert_concat_77',\n",
              "  'dir': './already_trained_models/trained_models/bert_concat/',\n",
              "  't': 'concat'},\n",
              " {'path': './already_trained_models/trained_models/bert_concat_nopooling/bert_concat_nopooling_111.pth',\n",
              "  'name': 'bert_concat_nopooling_111',\n",
              "  'dir': './already_trained_models/trained_models/bert_concat_nopooling/',\n",
              "  't': 'nopooling'},\n",
              " {'path': './already_trained_models/trained_models/bert_concat_nopooling/bert_concat_nopooling_49.pth',\n",
              "  'name': 'bert_concat_nopooling_49',\n",
              "  'dir': './already_trained_models/trained_models/bert_concat_nopooling/',\n",
              "  't': 'nopooling'},\n",
              " {'path': './already_trained_models/trained_models/bert_concat_nopooling/bert_concat_nopooling_51.pth',\n",
              "  'name': 'bert_concat_nopooling_51',\n",
              "  'dir': './already_trained_models/trained_models/bert_concat_nopooling/',\n",
              "  't': 'nopooling'},\n",
              " {'path': './already_trained_models/trained_models/bert_concat_nopooling/bert_concat_nopooling_666.pth',\n",
              "  'name': 'bert_concat_nopooling_666',\n",
              "  'dir': './already_trained_models/trained_models/bert_concat_nopooling/',\n",
              "  't': 'nopooling'},\n",
              " {'path': './already_trained_models/trained_models/bert_concat_nopooling/bert_concat_nopooling_77.pth',\n",
              "  'name': 'bert_concat_nopooling_77',\n",
              "  'dir': './already_trained_models/trained_models/bert_concat_nopooling/',\n",
              "  't': 'nopooling'}]"
            ]
          },
          "execution_count": 19,
          "metadata": {},
          "output_type": "execute_result"
        }
      ],
      "source": [
        "import os\n",
        "#!Note at evaluation freeze and unfreeze are the same\n",
        "#berts extraction\n",
        "model_dir = \"./already_trained_models/trained_models/bert_extraction/\"\n",
        "model_filenames = [name for name in os.listdir(model_dir)]\n",
        "models = [{\"path\":os.path.join(model_dir,name), \"name\":name[:-4], \"dir\":model_dir, \"t\": \"extraction\"} for name in model_filenames]\n",
        "\n",
        "#bert concat\n",
        "model_dir = \"./already_trained_models/trained_models/bert_concat/\"\n",
        "model_filenames = [name for name in os.listdir(model_dir)]\n",
        "models = models + [{\"path\":os.path.join(model_dir,name), \"name\":name[:-4], \"dir\":model_dir, \"t\": \"concat\"} for name in model_filenames]\n",
        "\n",
        "#bert no pooling\n",
        "model_dir = \"./already_trained_models/trained_models/bert_concat_nopooling/\"\n",
        "model_filenames = [name for name in os.listdir(model_dir)]\n",
        "models = models + [{\"path\":os.path.join(model_dir,name), \"name\":name[:-4], \"dir\":model_dir, \"t\": \"nopooling\"} for name in model_filenames]\n",
        "\n",
        "models"
      ]
    },
    {
      "cell_type": "code",
      "execution_count": 24,
      "metadata": {
        "id": "0FNnputQLlYc",
        "outputId": "a24d3ea2-5984-4c53-b455-c97f8224d9f7"
      },
      "outputs": [
        {
          "name": "stderr",
          "output_type": "stream",
          "text": [
            "c:\\Users\\cacio\\Desktop\\jacopo\\scuola\\UNIBO MASTER\\NATURAL LANGUAGE PROCESSING\\project\\ediref\\ediref\\Lib\\site-packages\\accelerate\\accelerator.py:432: FutureWarning: Passing the following arguments to `Accelerator` is deprecated and will be removed in version 1.0 of Accelerate: dict_keys(['dispatch_batches', 'split_batches', 'even_batches', 'use_seedable_sampler']). Please pass an `accelerate.DataLoaderConfiguration` instead: \n",
            "dataloader_config = DataLoaderConfiguration(dispatch_batches=None, split_batches=False, even_batches=True, use_seedable_sampler=True)\n",
            "  warnings.warn(\n"
          ]
        },
        {
          "data": {
            "application/vnd.jupyter.widget-view+json": {
              "model_id": "f19f5df2acb944f395bf3a8f7c650c25",
              "version_major": 2,
              "version_minor": 0
            },
            "text/plain": [
              "  0%|          | 0/860 [00:00<?, ?it/s]"
            ]
          },
          "metadata": {},
          "output_type": "display_data"
        },
        {
          "name": "stdout",
          "output_type": "stream",
          "text": [
            "torch.Size([3437, 7]) torch.Size([3437, 1])\n",
            "Successfullty added model!(Successfullty added predictions for model bert_extraction_111!, Successfullty added predictions for model bert_extraction_111_t!)\n"
          ]
        },
        {
          "data": {
            "application/vnd.jupyter.widget-view+json": {
              "model_id": "79ab032910f04289b54aad0ac112d5ab",
              "version_major": 2,
              "version_minor": 0
            },
            "text/plain": [
              "  0%|          | 0/876 [00:00<?, ?it/s]"
            ]
          },
          "metadata": {},
          "output_type": "display_data"
        },
        {
          "name": "stdout",
          "output_type": "stream",
          "text": [
            "torch.Size([3501, 7]) torch.Size([3501, 1])\n",
            "Successfullty added model!(Successfullty added predictions for model bert_extraction_111!, Successfullty added predictions for model bert_extraction_111_t!)\n"
          ]
        },
        {
          "name": "stderr",
          "output_type": "stream",
          "text": [
            "c:\\Users\\cacio\\Desktop\\jacopo\\scuola\\UNIBO MASTER\\NATURAL LANGUAGE PROCESSING\\project\\ediref\\ediref\\Lib\\site-packages\\accelerate\\accelerator.py:432: FutureWarning: Passing the following arguments to `Accelerator` is deprecated and will be removed in version 1.0 of Accelerate: dict_keys(['dispatch_batches', 'split_batches', 'even_batches', 'use_seedable_sampler']). Please pass an `accelerate.DataLoaderConfiguration` instead: \n",
            "dataloader_config = DataLoaderConfiguration(dispatch_batches=None, split_batches=False, even_batches=True, use_seedable_sampler=True)\n",
            "  warnings.warn(\n"
          ]
        },
        {
          "data": {
            "application/vnd.jupyter.widget-view+json": {
              "model_id": "a2c8b0bc58824fa48daa379a519758c1",
              "version_major": 2,
              "version_minor": 0
            },
            "text/plain": [
              "  0%|          | 0/860 [00:00<?, ?it/s]"
            ]
          },
          "metadata": {},
          "output_type": "display_data"
        },
        {
          "name": "stdout",
          "output_type": "stream",
          "text": [
            "torch.Size([3437, 7]) torch.Size([3437, 1])\n",
            "Successfullty added model!(Successfullty added predictions for model bert_extraction_49!, Successfullty added predictions for model bert_extraction_49_t!)\n"
          ]
        },
        {
          "data": {
            "application/vnd.jupyter.widget-view+json": {
              "model_id": "6874ff4d70544e008c7950320e749706",
              "version_major": 2,
              "version_minor": 0
            },
            "text/plain": [
              "  0%|          | 0/876 [00:00<?, ?it/s]"
            ]
          },
          "metadata": {},
          "output_type": "display_data"
        },
        {
          "name": "stdout",
          "output_type": "stream",
          "text": [
            "torch.Size([3501, 7]) torch.Size([3501, 1])\n",
            "Successfullty added model!(Successfullty added predictions for model bert_extraction_49!, Successfullty added predictions for model bert_extraction_49_t!)\n"
          ]
        },
        {
          "name": "stderr",
          "output_type": "stream",
          "text": [
            "c:\\Users\\cacio\\Desktop\\jacopo\\scuola\\UNIBO MASTER\\NATURAL LANGUAGE PROCESSING\\project\\ediref\\ediref\\Lib\\site-packages\\accelerate\\accelerator.py:432: FutureWarning: Passing the following arguments to `Accelerator` is deprecated and will be removed in version 1.0 of Accelerate: dict_keys(['dispatch_batches', 'split_batches', 'even_batches', 'use_seedable_sampler']). Please pass an `accelerate.DataLoaderConfiguration` instead: \n",
            "dataloader_config = DataLoaderConfiguration(dispatch_batches=None, split_batches=False, even_batches=True, use_seedable_sampler=True)\n",
            "  warnings.warn(\n"
          ]
        },
        {
          "data": {
            "application/vnd.jupyter.widget-view+json": {
              "model_id": "29128d88118f40e8a34a84ad0fa42fdd",
              "version_major": 2,
              "version_minor": 0
            },
            "text/plain": [
              "  0%|          | 0/860 [00:00<?, ?it/s]"
            ]
          },
          "metadata": {},
          "output_type": "display_data"
        },
        {
          "name": "stdout",
          "output_type": "stream",
          "text": [
            "torch.Size([3437, 7]) torch.Size([3437, 1])\n",
            "Successfullty added model!(Successfullty added predictions for model bert_extraction_51!, Successfullty added predictions for model bert_extraction_51_t!)\n"
          ]
        },
        {
          "data": {
            "application/vnd.jupyter.widget-view+json": {
              "model_id": "52610dd7abb14dd58c07d8a8e8a47f32",
              "version_major": 2,
              "version_minor": 0
            },
            "text/plain": [
              "  0%|          | 0/876 [00:00<?, ?it/s]"
            ]
          },
          "metadata": {},
          "output_type": "display_data"
        },
        {
          "name": "stdout",
          "output_type": "stream",
          "text": [
            "torch.Size([3501, 7]) torch.Size([3501, 1])\n",
            "Successfullty added model!(Successfullty added predictions for model bert_extraction_51!, Successfullty added predictions for model bert_extraction_51_t!)\n"
          ]
        },
        {
          "name": "stderr",
          "output_type": "stream",
          "text": [
            "c:\\Users\\cacio\\Desktop\\jacopo\\scuola\\UNIBO MASTER\\NATURAL LANGUAGE PROCESSING\\project\\ediref\\ediref\\Lib\\site-packages\\accelerate\\accelerator.py:432: FutureWarning: Passing the following arguments to `Accelerator` is deprecated and will be removed in version 1.0 of Accelerate: dict_keys(['dispatch_batches', 'split_batches', 'even_batches', 'use_seedable_sampler']). Please pass an `accelerate.DataLoaderConfiguration` instead: \n",
            "dataloader_config = DataLoaderConfiguration(dispatch_batches=None, split_batches=False, even_batches=True, use_seedable_sampler=True)\n",
            "  warnings.warn(\n"
          ]
        },
        {
          "data": {
            "application/vnd.jupyter.widget-view+json": {
              "model_id": "eb9b2e02ea1c4a678a681c7d91f6d26b",
              "version_major": 2,
              "version_minor": 0
            },
            "text/plain": [
              "  0%|          | 0/860 [00:00<?, ?it/s]"
            ]
          },
          "metadata": {},
          "output_type": "display_data"
        },
        {
          "name": "stdout",
          "output_type": "stream",
          "text": [
            "torch.Size([3437, 7]) torch.Size([3437, 1])\n",
            "Successfullty added model!(Successfullty added predictions for model bert_extraction_666!, Successfullty added predictions for model bert_extraction_666_t!)\n"
          ]
        },
        {
          "data": {
            "application/vnd.jupyter.widget-view+json": {
              "model_id": "c8664d34de5541b09e4fe9032c9d9fde",
              "version_major": 2,
              "version_minor": 0
            },
            "text/plain": [
              "  0%|          | 0/876 [00:00<?, ?it/s]"
            ]
          },
          "metadata": {},
          "output_type": "display_data"
        },
        {
          "name": "stdout",
          "output_type": "stream",
          "text": [
            "torch.Size([3501, 7]) torch.Size([3501, 1])\n",
            "Successfullty added model!(Successfullty added predictions for model bert_extraction_666!, Successfullty added predictions for model bert_extraction_666_t!)\n"
          ]
        },
        {
          "name": "stderr",
          "output_type": "stream",
          "text": [
            "c:\\Users\\cacio\\Desktop\\jacopo\\scuola\\UNIBO MASTER\\NATURAL LANGUAGE PROCESSING\\project\\ediref\\ediref\\Lib\\site-packages\\accelerate\\accelerator.py:432: FutureWarning: Passing the following arguments to `Accelerator` is deprecated and will be removed in version 1.0 of Accelerate: dict_keys(['dispatch_batches', 'split_batches', 'even_batches', 'use_seedable_sampler']). Please pass an `accelerate.DataLoaderConfiguration` instead: \n",
            "dataloader_config = DataLoaderConfiguration(dispatch_batches=None, split_batches=False, even_batches=True, use_seedable_sampler=True)\n",
            "  warnings.warn(\n"
          ]
        },
        {
          "data": {
            "application/vnd.jupyter.widget-view+json": {
              "model_id": "16fed97a634c4b0e82679ed3562341bb",
              "version_major": 2,
              "version_minor": 0
            },
            "text/plain": [
              "  0%|          | 0/860 [00:00<?, ?it/s]"
            ]
          },
          "metadata": {},
          "output_type": "display_data"
        },
        {
          "name": "stdout",
          "output_type": "stream",
          "text": [
            "torch.Size([3437, 7]) torch.Size([3437, 1])\n",
            "Successfullty added model!(Successfullty added predictions for model bert_extraction_77!, Successfullty added predictions for model bert_extraction_77_t!)\n"
          ]
        },
        {
          "data": {
            "application/vnd.jupyter.widget-view+json": {
              "model_id": "53eb6ccab7dd4314a6df0e2fec30b0d1",
              "version_major": 2,
              "version_minor": 0
            },
            "text/plain": [
              "  0%|          | 0/876 [00:00<?, ?it/s]"
            ]
          },
          "metadata": {},
          "output_type": "display_data"
        },
        {
          "name": "stdout",
          "output_type": "stream",
          "text": [
            "torch.Size([3501, 7]) torch.Size([3501, 1])\n",
            "Successfullty added model!(Successfullty added predictions for model bert_extraction_77!, Successfullty added predictions for model bert_extraction_77_t!)\n"
          ]
        },
        {
          "name": "stderr",
          "output_type": "stream",
          "text": [
            "c:\\Users\\cacio\\Desktop\\jacopo\\scuola\\UNIBO MASTER\\NATURAL LANGUAGE PROCESSING\\project\\ediref\\ediref\\Lib\\site-packages\\accelerate\\accelerator.py:432: FutureWarning: Passing the following arguments to `Accelerator` is deprecated and will be removed in version 1.0 of Accelerate: dict_keys(['dispatch_batches', 'split_batches', 'even_batches', 'use_seedable_sampler']). Please pass an `accelerate.DataLoaderConfiguration` instead: \n",
            "dataloader_config = DataLoaderConfiguration(dispatch_batches=None, split_batches=False, even_batches=True, use_seedable_sampler=True)\n",
            "  warnings.warn(\n"
          ]
        },
        {
          "data": {
            "application/vnd.jupyter.widget-view+json": {
              "model_id": "b08a605c326e4b1bac360f35f4baab66",
              "version_major": 2,
              "version_minor": 0
            },
            "text/plain": [
              "  0%|          | 0/860 [00:00<?, ?it/s]"
            ]
          },
          "metadata": {},
          "output_type": "display_data"
        },
        {
          "name": "stdout",
          "output_type": "stream",
          "text": [
            "torch.Size([3437, 7]) torch.Size([3437, 1])\n",
            "Successfullty added model!(Successfullty added predictions for model bert_extraction_freeze_111!, Successfullty added predictions for model bert_extraction_freeze_111_t!)\n"
          ]
        },
        {
          "data": {
            "application/vnd.jupyter.widget-view+json": {
              "model_id": "006bb28fe9e84ab3953c0ce375ba675f",
              "version_major": 2,
              "version_minor": 0
            },
            "text/plain": [
              "  0%|          | 0/876 [00:00<?, ?it/s]"
            ]
          },
          "metadata": {},
          "output_type": "display_data"
        },
        {
          "name": "stdout",
          "output_type": "stream",
          "text": [
            "torch.Size([3501, 7]) torch.Size([3501, 1])\n",
            "Successfullty added model!(Successfullty added predictions for model bert_extraction_freeze_111!, Successfullty added predictions for model bert_extraction_freeze_111_t!)\n"
          ]
        },
        {
          "name": "stderr",
          "output_type": "stream",
          "text": [
            "c:\\Users\\cacio\\Desktop\\jacopo\\scuola\\UNIBO MASTER\\NATURAL LANGUAGE PROCESSING\\project\\ediref\\ediref\\Lib\\site-packages\\accelerate\\accelerator.py:432: FutureWarning: Passing the following arguments to `Accelerator` is deprecated and will be removed in version 1.0 of Accelerate: dict_keys(['dispatch_batches', 'split_batches', 'even_batches', 'use_seedable_sampler']). Please pass an `accelerate.DataLoaderConfiguration` instead: \n",
            "dataloader_config = DataLoaderConfiguration(dispatch_batches=None, split_batches=False, even_batches=True, use_seedable_sampler=True)\n",
            "  warnings.warn(\n"
          ]
        },
        {
          "data": {
            "application/vnd.jupyter.widget-view+json": {
              "model_id": "42083f79e00b4ef8b569b1a34510f238",
              "version_major": 2,
              "version_minor": 0
            },
            "text/plain": [
              "  0%|          | 0/860 [00:00<?, ?it/s]"
            ]
          },
          "metadata": {},
          "output_type": "display_data"
        },
        {
          "name": "stdout",
          "output_type": "stream",
          "text": [
            "torch.Size([3437, 7]) torch.Size([3437, 1])\n",
            "Successfullty added model!(Successfullty added predictions for model bert_extraction_freeze_49!, Successfullty added predictions for model bert_extraction_freeze_49_t!)\n"
          ]
        },
        {
          "data": {
            "application/vnd.jupyter.widget-view+json": {
              "model_id": "bb8775782db3487bb4f6d2bd693b3721",
              "version_major": 2,
              "version_minor": 0
            },
            "text/plain": [
              "  0%|          | 0/876 [00:00<?, ?it/s]"
            ]
          },
          "metadata": {},
          "output_type": "display_data"
        },
        {
          "name": "stdout",
          "output_type": "stream",
          "text": [
            "torch.Size([3501, 7]) torch.Size([3501, 1])\n",
            "Successfullty added model!(Successfullty added predictions for model bert_extraction_freeze_49!, Successfullty added predictions for model bert_extraction_freeze_49_t!)\n"
          ]
        },
        {
          "name": "stderr",
          "output_type": "stream",
          "text": [
            "c:\\Users\\cacio\\Desktop\\jacopo\\scuola\\UNIBO MASTER\\NATURAL LANGUAGE PROCESSING\\project\\ediref\\ediref\\Lib\\site-packages\\accelerate\\accelerator.py:432: FutureWarning: Passing the following arguments to `Accelerator` is deprecated and will be removed in version 1.0 of Accelerate: dict_keys(['dispatch_batches', 'split_batches', 'even_batches', 'use_seedable_sampler']). Please pass an `accelerate.DataLoaderConfiguration` instead: \n",
            "dataloader_config = DataLoaderConfiguration(dispatch_batches=None, split_batches=False, even_batches=True, use_seedable_sampler=True)\n",
            "  warnings.warn(\n"
          ]
        },
        {
          "data": {
            "application/vnd.jupyter.widget-view+json": {
              "model_id": "ef46b6f815c447b2abc82590dff924aa",
              "version_major": 2,
              "version_minor": 0
            },
            "text/plain": [
              "  0%|          | 0/860 [00:00<?, ?it/s]"
            ]
          },
          "metadata": {},
          "output_type": "display_data"
        },
        {
          "name": "stdout",
          "output_type": "stream",
          "text": [
            "torch.Size([3437, 7]) torch.Size([3437, 1])\n",
            "Successfullty added model!(Successfullty added predictions for model bert_extraction_freeze_51!, Successfullty added predictions for model bert_extraction_freeze_51_t!)\n"
          ]
        },
        {
          "data": {
            "application/vnd.jupyter.widget-view+json": {
              "model_id": "be6ca9203fa54a62898f2d5ce98df980",
              "version_major": 2,
              "version_minor": 0
            },
            "text/plain": [
              "  0%|          | 0/876 [00:00<?, ?it/s]"
            ]
          },
          "metadata": {},
          "output_type": "display_data"
        },
        {
          "name": "stdout",
          "output_type": "stream",
          "text": [
            "torch.Size([3501, 7]) torch.Size([3501, 1])\n",
            "Successfullty added model!(Successfullty added predictions for model bert_extraction_freeze_51!, Successfullty added predictions for model bert_extraction_freeze_51_t!)\n"
          ]
        },
        {
          "name": "stderr",
          "output_type": "stream",
          "text": [
            "c:\\Users\\cacio\\Desktop\\jacopo\\scuola\\UNIBO MASTER\\NATURAL LANGUAGE PROCESSING\\project\\ediref\\ediref\\Lib\\site-packages\\accelerate\\accelerator.py:432: FutureWarning: Passing the following arguments to `Accelerator` is deprecated and will be removed in version 1.0 of Accelerate: dict_keys(['dispatch_batches', 'split_batches', 'even_batches', 'use_seedable_sampler']). Please pass an `accelerate.DataLoaderConfiguration` instead: \n",
            "dataloader_config = DataLoaderConfiguration(dispatch_batches=None, split_batches=False, even_batches=True, use_seedable_sampler=True)\n",
            "  warnings.warn(\n"
          ]
        },
        {
          "data": {
            "application/vnd.jupyter.widget-view+json": {
              "model_id": "ed560efb928943aea9adcc0c3b14cf92",
              "version_major": 2,
              "version_minor": 0
            },
            "text/plain": [
              "  0%|          | 0/860 [00:00<?, ?it/s]"
            ]
          },
          "metadata": {},
          "output_type": "display_data"
        },
        {
          "name": "stdout",
          "output_type": "stream",
          "text": [
            "torch.Size([3437, 7]) torch.Size([3437, 1])\n",
            "Successfullty added model!(Successfullty added predictions for model bert_extraction_freeze_666!, Successfullty added predictions for model bert_extraction_freeze_666_t!)\n"
          ]
        },
        {
          "data": {
            "application/vnd.jupyter.widget-view+json": {
              "model_id": "0773d906a02d448db3d08fc672c56e97",
              "version_major": 2,
              "version_minor": 0
            },
            "text/plain": [
              "  0%|          | 0/876 [00:00<?, ?it/s]"
            ]
          },
          "metadata": {},
          "output_type": "display_data"
        },
        {
          "name": "stdout",
          "output_type": "stream",
          "text": [
            "torch.Size([3501, 7]) torch.Size([3501, 1])\n",
            "Successfullty added model!(Successfullty added predictions for model bert_extraction_freeze_666!, Successfullty added predictions for model bert_extraction_freeze_666_t!)\n"
          ]
        },
        {
          "name": "stderr",
          "output_type": "stream",
          "text": [
            "c:\\Users\\cacio\\Desktop\\jacopo\\scuola\\UNIBO MASTER\\NATURAL LANGUAGE PROCESSING\\project\\ediref\\ediref\\Lib\\site-packages\\accelerate\\accelerator.py:432: FutureWarning: Passing the following arguments to `Accelerator` is deprecated and will be removed in version 1.0 of Accelerate: dict_keys(['dispatch_batches', 'split_batches', 'even_batches', 'use_seedable_sampler']). Please pass an `accelerate.DataLoaderConfiguration` instead: \n",
            "dataloader_config = DataLoaderConfiguration(dispatch_batches=None, split_batches=False, even_batches=True, use_seedable_sampler=True)\n",
            "  warnings.warn(\n"
          ]
        },
        {
          "data": {
            "application/vnd.jupyter.widget-view+json": {
              "model_id": "49800bc33a2849f68c788b601da5df8c",
              "version_major": 2,
              "version_minor": 0
            },
            "text/plain": [
              "  0%|          | 0/860 [00:00<?, ?it/s]"
            ]
          },
          "metadata": {},
          "output_type": "display_data"
        },
        {
          "name": "stdout",
          "output_type": "stream",
          "text": [
            "torch.Size([3437, 7]) torch.Size([3437, 1])\n",
            "Successfullty added model!(Successfullty added predictions for model bert_extraction_freeze_77!, Successfullty added predictions for model bert_extraction_freeze_77_t!)\n"
          ]
        },
        {
          "data": {
            "application/vnd.jupyter.widget-view+json": {
              "model_id": "7df2a5b087af476d9946f8a9a0475fb9",
              "version_major": 2,
              "version_minor": 0
            },
            "text/plain": [
              "  0%|          | 0/876 [00:00<?, ?it/s]"
            ]
          },
          "metadata": {},
          "output_type": "display_data"
        },
        {
          "name": "stdout",
          "output_type": "stream",
          "text": [
            "torch.Size([3501, 7]) torch.Size([3501, 1])\n",
            "Successfullty added model!(Successfullty added predictions for model bert_extraction_freeze_77!, Successfullty added predictions for model bert_extraction_freeze_77_t!)\n"
          ]
        },
        {
          "name": "stderr",
          "output_type": "stream",
          "text": [
            "c:\\Users\\cacio\\Desktop\\jacopo\\scuola\\UNIBO MASTER\\NATURAL LANGUAGE PROCESSING\\project\\ediref\\ediref\\Lib\\site-packages\\accelerate\\accelerator.py:432: FutureWarning: Passing the following arguments to `Accelerator` is deprecated and will be removed in version 1.0 of Accelerate: dict_keys(['dispatch_batches', 'split_batches', 'even_batches', 'use_seedable_sampler']). Please pass an `accelerate.DataLoaderConfiguration` instead: \n",
            "dataloader_config = DataLoaderConfiguration(dispatch_batches=None, split_batches=False, even_batches=True, use_seedable_sampler=True)\n",
            "  warnings.warn(\n"
          ]
        },
        {
          "data": {
            "application/vnd.jupyter.widget-view+json": {
              "model_id": "c4cd15479f274c3883d6148d9db32a2b",
              "version_major": 2,
              "version_minor": 0
            },
            "text/plain": [
              "  0%|          | 0/860 [00:00<?, ?it/s]"
            ]
          },
          "metadata": {},
          "output_type": "display_data"
        },
        {
          "name": "stdout",
          "output_type": "stream",
          "text": [
            "torch.Size([3437, 7]) torch.Size([3437, 1])\n",
            "Successfullty added model!(Successfullty added predictions for model bert_concat_111!, Successfullty added predictions for model bert_concat_111_t!)\n"
          ]
        },
        {
          "data": {
            "application/vnd.jupyter.widget-view+json": {
              "model_id": "a0bc10280e324e5dac3fe018b5f1242e",
              "version_major": 2,
              "version_minor": 0
            },
            "text/plain": [
              "  0%|          | 0/876 [00:00<?, ?it/s]"
            ]
          },
          "metadata": {},
          "output_type": "display_data"
        },
        {
          "name": "stdout",
          "output_type": "stream",
          "text": [
            "torch.Size([3501, 7]) torch.Size([3501, 1])\n",
            "Successfullty added model!(Successfullty added predictions for model bert_concat_111!, Successfullty added predictions for model bert_concat_111_t!)\n"
          ]
        },
        {
          "name": "stderr",
          "output_type": "stream",
          "text": [
            "c:\\Users\\cacio\\Desktop\\jacopo\\scuola\\UNIBO MASTER\\NATURAL LANGUAGE PROCESSING\\project\\ediref\\ediref\\Lib\\site-packages\\accelerate\\accelerator.py:432: FutureWarning: Passing the following arguments to `Accelerator` is deprecated and will be removed in version 1.0 of Accelerate: dict_keys(['dispatch_batches', 'split_batches', 'even_batches', 'use_seedable_sampler']). Please pass an `accelerate.DataLoaderConfiguration` instead: \n",
            "dataloader_config = DataLoaderConfiguration(dispatch_batches=None, split_batches=False, even_batches=True, use_seedable_sampler=True)\n",
            "  warnings.warn(\n"
          ]
        },
        {
          "data": {
            "application/vnd.jupyter.widget-view+json": {
              "model_id": "0bcca68946db4bb081eb86f0f971a1e6",
              "version_major": 2,
              "version_minor": 0
            },
            "text/plain": [
              "  0%|          | 0/860 [00:00<?, ?it/s]"
            ]
          },
          "metadata": {},
          "output_type": "display_data"
        },
        {
          "name": "stdout",
          "output_type": "stream",
          "text": [
            "torch.Size([3437, 7]) torch.Size([3437, 1])\n",
            "Successfullty added model!(Successfullty added predictions for model bert_concat_49!, Successfullty added predictions for model bert_concat_49_t!)\n"
          ]
        },
        {
          "data": {
            "application/vnd.jupyter.widget-view+json": {
              "model_id": "33cf8991c8f64dcea726d7cefe237c06",
              "version_major": 2,
              "version_minor": 0
            },
            "text/plain": [
              "  0%|          | 0/876 [00:00<?, ?it/s]"
            ]
          },
          "metadata": {},
          "output_type": "display_data"
        },
        {
          "name": "stdout",
          "output_type": "stream",
          "text": [
            "torch.Size([3501, 7]) torch.Size([3501, 1])\n",
            "Successfullty added model!(Successfullty added predictions for model bert_concat_49!, Successfullty added predictions for model bert_concat_49_t!)\n"
          ]
        },
        {
          "name": "stderr",
          "output_type": "stream",
          "text": [
            "c:\\Users\\cacio\\Desktop\\jacopo\\scuola\\UNIBO MASTER\\NATURAL LANGUAGE PROCESSING\\project\\ediref\\ediref\\Lib\\site-packages\\accelerate\\accelerator.py:432: FutureWarning: Passing the following arguments to `Accelerator` is deprecated and will be removed in version 1.0 of Accelerate: dict_keys(['dispatch_batches', 'split_batches', 'even_batches', 'use_seedable_sampler']). Please pass an `accelerate.DataLoaderConfiguration` instead: \n",
            "dataloader_config = DataLoaderConfiguration(dispatch_batches=None, split_batches=False, even_batches=True, use_seedable_sampler=True)\n",
            "  warnings.warn(\n"
          ]
        },
        {
          "data": {
            "application/vnd.jupyter.widget-view+json": {
              "model_id": "e0e7a459471d41ab902716a07c5b1f07",
              "version_major": 2,
              "version_minor": 0
            },
            "text/plain": [
              "  0%|          | 0/860 [00:00<?, ?it/s]"
            ]
          },
          "metadata": {},
          "output_type": "display_data"
        },
        {
          "name": "stdout",
          "output_type": "stream",
          "text": [
            "torch.Size([3437, 7]) torch.Size([3437, 1])\n",
            "Successfullty added model!(Successfullty added predictions for model bert_concat_51!, Successfullty added predictions for model bert_concat_51_t!)\n"
          ]
        },
        {
          "data": {
            "application/vnd.jupyter.widget-view+json": {
              "model_id": "9fa54908891c4d11b9b6d88eb282d822",
              "version_major": 2,
              "version_minor": 0
            },
            "text/plain": [
              "  0%|          | 0/876 [00:00<?, ?it/s]"
            ]
          },
          "metadata": {},
          "output_type": "display_data"
        },
        {
          "name": "stdout",
          "output_type": "stream",
          "text": [
            "torch.Size([3501, 7]) torch.Size([3501, 1])\n",
            "Successfullty added model!(Successfullty added predictions for model bert_concat_51!, Successfullty added predictions for model bert_concat_51_t!)\n"
          ]
        },
        {
          "name": "stderr",
          "output_type": "stream",
          "text": [
            "c:\\Users\\cacio\\Desktop\\jacopo\\scuola\\UNIBO MASTER\\NATURAL LANGUAGE PROCESSING\\project\\ediref\\ediref\\Lib\\site-packages\\accelerate\\accelerator.py:432: FutureWarning: Passing the following arguments to `Accelerator` is deprecated and will be removed in version 1.0 of Accelerate: dict_keys(['dispatch_batches', 'split_batches', 'even_batches', 'use_seedable_sampler']). Please pass an `accelerate.DataLoaderConfiguration` instead: \n",
            "dataloader_config = DataLoaderConfiguration(dispatch_batches=None, split_batches=False, even_batches=True, use_seedable_sampler=True)\n",
            "  warnings.warn(\n"
          ]
        },
        {
          "data": {
            "application/vnd.jupyter.widget-view+json": {
              "model_id": "5b9da625802d48638e9208c10957f7e7",
              "version_major": 2,
              "version_minor": 0
            },
            "text/plain": [
              "  0%|          | 0/860 [00:00<?, ?it/s]"
            ]
          },
          "metadata": {},
          "output_type": "display_data"
        },
        {
          "name": "stdout",
          "output_type": "stream",
          "text": [
            "torch.Size([3437, 7]) torch.Size([3437, 1])\n",
            "Successfullty added model!(Successfullty added predictions for model bert_concat_666!, Successfullty added predictions for model bert_concat_666_t!)\n"
          ]
        },
        {
          "data": {
            "application/vnd.jupyter.widget-view+json": {
              "model_id": "2cba6eddfb034b9b9eb4d793d6754bb2",
              "version_major": 2,
              "version_minor": 0
            },
            "text/plain": [
              "  0%|          | 0/876 [00:00<?, ?it/s]"
            ]
          },
          "metadata": {},
          "output_type": "display_data"
        },
        {
          "name": "stdout",
          "output_type": "stream",
          "text": [
            "torch.Size([3501, 7]) torch.Size([3501, 1])\n",
            "Successfullty added model!(Successfullty added predictions for model bert_concat_666!, Successfullty added predictions for model bert_concat_666_t!)\n"
          ]
        },
        {
          "name": "stderr",
          "output_type": "stream",
          "text": [
            "c:\\Users\\cacio\\Desktop\\jacopo\\scuola\\UNIBO MASTER\\NATURAL LANGUAGE PROCESSING\\project\\ediref\\ediref\\Lib\\site-packages\\accelerate\\accelerator.py:432: FutureWarning: Passing the following arguments to `Accelerator` is deprecated and will be removed in version 1.0 of Accelerate: dict_keys(['dispatch_batches', 'split_batches', 'even_batches', 'use_seedable_sampler']). Please pass an `accelerate.DataLoaderConfiguration` instead: \n",
            "dataloader_config = DataLoaderConfiguration(dispatch_batches=None, split_batches=False, even_batches=True, use_seedable_sampler=True)\n",
            "  warnings.warn(\n"
          ]
        },
        {
          "data": {
            "application/vnd.jupyter.widget-view+json": {
              "model_id": "367d11cb3cb34e15ae91aaa1ab34541e",
              "version_major": 2,
              "version_minor": 0
            },
            "text/plain": [
              "  0%|          | 0/860 [00:00<?, ?it/s]"
            ]
          },
          "metadata": {},
          "output_type": "display_data"
        },
        {
          "name": "stdout",
          "output_type": "stream",
          "text": [
            "torch.Size([3437, 7]) torch.Size([3437, 1])\n",
            "Successfullty added model!(Successfullty added predictions for model bert_concat_77!, Successfullty added predictions for model bert_concat_77_t!)\n"
          ]
        },
        {
          "data": {
            "application/vnd.jupyter.widget-view+json": {
              "model_id": "26eedb32087a4bd7b7b96d51230ab84d",
              "version_major": 2,
              "version_minor": 0
            },
            "text/plain": [
              "  0%|          | 0/876 [00:00<?, ?it/s]"
            ]
          },
          "metadata": {},
          "output_type": "display_data"
        },
        {
          "name": "stdout",
          "output_type": "stream",
          "text": [
            "torch.Size([3501, 7]) torch.Size([3501, 1])\n",
            "Successfullty added model!(Successfullty added predictions for model bert_concat_77!, Successfullty added predictions for model bert_concat_77_t!)\n"
          ]
        },
        {
          "name": "stderr",
          "output_type": "stream",
          "text": [
            "c:\\Users\\cacio\\Desktop\\jacopo\\scuola\\UNIBO MASTER\\NATURAL LANGUAGE PROCESSING\\project\\ediref\\ediref\\Lib\\site-packages\\accelerate\\accelerator.py:432: FutureWarning: Passing the following arguments to `Accelerator` is deprecated and will be removed in version 1.0 of Accelerate: dict_keys(['dispatch_batches', 'split_batches', 'even_batches', 'use_seedable_sampler']). Please pass an `accelerate.DataLoaderConfiguration` instead: \n",
            "dataloader_config = DataLoaderConfiguration(dispatch_batches=None, split_batches=False, even_batches=True, use_seedable_sampler=True)\n",
            "  warnings.warn(\n"
          ]
        },
        {
          "data": {
            "application/vnd.jupyter.widget-view+json": {
              "model_id": "595f0b21a7db4171aaae7e827c80db24",
              "version_major": 2,
              "version_minor": 0
            },
            "text/plain": [
              "  0%|          | 0/860 [00:00<?, ?it/s]"
            ]
          },
          "metadata": {},
          "output_type": "display_data"
        },
        {
          "name": "stdout",
          "output_type": "stream",
          "text": [
            "torch.Size([3437, 7]) torch.Size([3437, 1])\n",
            "Successfullty added model!(Successfullty added predictions for model bert_concat_nopooling_111!, Successfullty added predictions for model bert_concat_nopooling_111_t!)\n"
          ]
        },
        {
          "data": {
            "application/vnd.jupyter.widget-view+json": {
              "model_id": "984ca371b0e94dd0a3e4046549008828",
              "version_major": 2,
              "version_minor": 0
            },
            "text/plain": [
              "  0%|          | 0/876 [00:00<?, ?it/s]"
            ]
          },
          "metadata": {},
          "output_type": "display_data"
        },
        {
          "name": "stdout",
          "output_type": "stream",
          "text": [
            "torch.Size([3501, 7]) torch.Size([3501, 1])\n",
            "Successfullty added model!(Successfullty added predictions for model bert_concat_nopooling_111!, Successfullty added predictions for model bert_concat_nopooling_111_t!)\n"
          ]
        },
        {
          "name": "stderr",
          "output_type": "stream",
          "text": [
            "c:\\Users\\cacio\\Desktop\\jacopo\\scuola\\UNIBO MASTER\\NATURAL LANGUAGE PROCESSING\\project\\ediref\\ediref\\Lib\\site-packages\\accelerate\\accelerator.py:432: FutureWarning: Passing the following arguments to `Accelerator` is deprecated and will be removed in version 1.0 of Accelerate: dict_keys(['dispatch_batches', 'split_batches', 'even_batches', 'use_seedable_sampler']). Please pass an `accelerate.DataLoaderConfiguration` instead: \n",
            "dataloader_config = DataLoaderConfiguration(dispatch_batches=None, split_batches=False, even_batches=True, use_seedable_sampler=True)\n",
            "  warnings.warn(\n"
          ]
        },
        {
          "data": {
            "application/vnd.jupyter.widget-view+json": {
              "model_id": "94c4654ad9804652b600c4e1f701fe22",
              "version_major": 2,
              "version_minor": 0
            },
            "text/plain": [
              "  0%|          | 0/860 [00:00<?, ?it/s]"
            ]
          },
          "metadata": {},
          "output_type": "display_data"
        },
        {
          "name": "stdout",
          "output_type": "stream",
          "text": [
            "torch.Size([3437, 7]) torch.Size([3437, 1])\n",
            "Successfullty added model!(Successfullty added predictions for model bert_concat_nopooling_49!, Successfullty added predictions for model bert_concat_nopooling_49_t!)\n"
          ]
        },
        {
          "data": {
            "application/vnd.jupyter.widget-view+json": {
              "model_id": "4adce3dcf5ad42ccacf9aa0f3341e55a",
              "version_major": 2,
              "version_minor": 0
            },
            "text/plain": [
              "  0%|          | 0/876 [00:00<?, ?it/s]"
            ]
          },
          "metadata": {},
          "output_type": "display_data"
        },
        {
          "name": "stdout",
          "output_type": "stream",
          "text": [
            "torch.Size([3501, 7]) torch.Size([3501, 1])\n",
            "Successfullty added model!(Successfullty added predictions for model bert_concat_nopooling_49!, Successfullty added predictions for model bert_concat_nopooling_49_t!)\n"
          ]
        },
        {
          "name": "stderr",
          "output_type": "stream",
          "text": [
            "c:\\Users\\cacio\\Desktop\\jacopo\\scuola\\UNIBO MASTER\\NATURAL LANGUAGE PROCESSING\\project\\ediref\\ediref\\Lib\\site-packages\\accelerate\\accelerator.py:432: FutureWarning: Passing the following arguments to `Accelerator` is deprecated and will be removed in version 1.0 of Accelerate: dict_keys(['dispatch_batches', 'split_batches', 'even_batches', 'use_seedable_sampler']). Please pass an `accelerate.DataLoaderConfiguration` instead: \n",
            "dataloader_config = DataLoaderConfiguration(dispatch_batches=None, split_batches=False, even_batches=True, use_seedable_sampler=True)\n",
            "  warnings.warn(\n"
          ]
        },
        {
          "data": {
            "application/vnd.jupyter.widget-view+json": {
              "model_id": "dc1479b7b652436ba1069430961eee1f",
              "version_major": 2,
              "version_minor": 0
            },
            "text/plain": [
              "  0%|          | 0/860 [00:00<?, ?it/s]"
            ]
          },
          "metadata": {},
          "output_type": "display_data"
        },
        {
          "name": "stdout",
          "output_type": "stream",
          "text": [
            "torch.Size([3437, 7]) torch.Size([3437, 1])\n",
            "Successfullty added model!(Successfullty added predictions for model bert_concat_nopooling_51!, Successfullty added predictions for model bert_concat_nopooling_51_t!)\n"
          ]
        },
        {
          "data": {
            "application/vnd.jupyter.widget-view+json": {
              "model_id": "0b6fec012a9841c986029725b80f9ab6",
              "version_major": 2,
              "version_minor": 0
            },
            "text/plain": [
              "  0%|          | 0/876 [00:00<?, ?it/s]"
            ]
          },
          "metadata": {},
          "output_type": "display_data"
        },
        {
          "name": "stdout",
          "output_type": "stream",
          "text": [
            "torch.Size([3501, 7]) torch.Size([3501, 1])\n",
            "Successfullty added model!(Successfullty added predictions for model bert_concat_nopooling_51!, Successfullty added predictions for model bert_concat_nopooling_51_t!)\n"
          ]
        },
        {
          "name": "stderr",
          "output_type": "stream",
          "text": [
            "c:\\Users\\cacio\\Desktop\\jacopo\\scuola\\UNIBO MASTER\\NATURAL LANGUAGE PROCESSING\\project\\ediref\\ediref\\Lib\\site-packages\\accelerate\\accelerator.py:432: FutureWarning: Passing the following arguments to `Accelerator` is deprecated and will be removed in version 1.0 of Accelerate: dict_keys(['dispatch_batches', 'split_batches', 'even_batches', 'use_seedable_sampler']). Please pass an `accelerate.DataLoaderConfiguration` instead: \n",
            "dataloader_config = DataLoaderConfiguration(dispatch_batches=None, split_batches=False, even_batches=True, use_seedable_sampler=True)\n",
            "  warnings.warn(\n"
          ]
        },
        {
          "data": {
            "application/vnd.jupyter.widget-view+json": {
              "model_id": "a684e32365e94812820c35254920df02",
              "version_major": 2,
              "version_minor": 0
            },
            "text/plain": [
              "  0%|          | 0/860 [00:00<?, ?it/s]"
            ]
          },
          "metadata": {},
          "output_type": "display_data"
        },
        {
          "name": "stdout",
          "output_type": "stream",
          "text": [
            "torch.Size([3437, 7]) torch.Size([3437, 1])\n",
            "Successfullty added model!(Successfullty added predictions for model bert_concat_nopooling_666!, Successfullty added predictions for model bert_concat_nopooling_666_t!)\n"
          ]
        },
        {
          "data": {
            "application/vnd.jupyter.widget-view+json": {
              "model_id": "0232692fd7e44b59bfc1faba41540404",
              "version_major": 2,
              "version_minor": 0
            },
            "text/plain": [
              "  0%|          | 0/876 [00:00<?, ?it/s]"
            ]
          },
          "metadata": {},
          "output_type": "display_data"
        },
        {
          "name": "stdout",
          "output_type": "stream",
          "text": [
            "torch.Size([3501, 7]) torch.Size([3501, 1])\n",
            "Successfullty added model!(Successfullty added predictions for model bert_concat_nopooling_666!, Successfullty added predictions for model bert_concat_nopooling_666_t!)\n"
          ]
        },
        {
          "name": "stderr",
          "output_type": "stream",
          "text": [
            "c:\\Users\\cacio\\Desktop\\jacopo\\scuola\\UNIBO MASTER\\NATURAL LANGUAGE PROCESSING\\project\\ediref\\ediref\\Lib\\site-packages\\accelerate\\accelerator.py:432: FutureWarning: Passing the following arguments to `Accelerator` is deprecated and will be removed in version 1.0 of Accelerate: dict_keys(['dispatch_batches', 'split_batches', 'even_batches', 'use_seedable_sampler']). Please pass an `accelerate.DataLoaderConfiguration` instead: \n",
            "dataloader_config = DataLoaderConfiguration(dispatch_batches=None, split_batches=False, even_batches=True, use_seedable_sampler=True)\n",
            "  warnings.warn(\n"
          ]
        },
        {
          "data": {
            "application/vnd.jupyter.widget-view+json": {
              "model_id": "b9cd12be4e904b7fb5ca4d53014560ff",
              "version_major": 2,
              "version_minor": 0
            },
            "text/plain": [
              "  0%|          | 0/860 [00:00<?, ?it/s]"
            ]
          },
          "metadata": {},
          "output_type": "display_data"
        },
        {
          "name": "stdout",
          "output_type": "stream",
          "text": [
            "torch.Size([3437, 7]) torch.Size([3437, 1])\n",
            "Successfullty added model!(Successfullty added predictions for model bert_concat_nopooling_77!, Successfullty added predictions for model bert_concat_nopooling_77_t!)\n"
          ]
        },
        {
          "data": {
            "application/vnd.jupyter.widget-view+json": {
              "model_id": "87f9c4b817104424b3fff44fdbfde9fa",
              "version_major": 2,
              "version_minor": 0
            },
            "text/plain": [
              "  0%|          | 0/876 [00:00<?, ?it/s]"
            ]
          },
          "metadata": {},
          "output_type": "display_data"
        },
        {
          "name": "stdout",
          "output_type": "stream",
          "text": [
            "torch.Size([3501, 7]) torch.Size([3501, 1])\n",
            "Successfullty added model!(Successfullty added predictions for model bert_concat_nopooling_77!, Successfullty added predictions for model bert_concat_nopooling_77_t!)\n"
          ]
        }
      ],
      "source": [
        "#LOOP FOR UPLOADING PREDICTIONS IN THE REPORT\n",
        "\n",
        "for model_setting in models:\n",
        "        model_name = model_setting['name']\n",
        "        model_path = model_setting['path']\n",
        "        model_dir = model_setting['dir']\n",
        "        t = model_setting['t']\n",
        "\n",
        "        if t == 'extraction':\n",
        "                base_model = Model_Phrase_Extraction(len(df_manager.unique_emotions), tokenizer.sep_token_id)\n",
        "        elif t == 'concat':\n",
        "                base_model = Model_Phrase_Concatenation(len(df_manager.unique_emotions), tokenizer.sep_token_id)\n",
        "        elif t == 'nopooling':\n",
        "                base_model = Model_concat_nopooling(len(df_manager.unique_emotions), tokenizer.sep_token_id)\n",
        "        else:\n",
        "                raise Exception(\"Type of model not found\")\n",
        "\n",
        "        base_model.load_state_dict(torch.load(model_path))\n",
        "\n",
        "        trainer = get_trainer(base_model, train_data_tokenized, val_data_tokenized, './trained_models', class_weights=True, batch_size=4, epochs=5)\n",
        "\n",
        "        # add predictions to the report\n",
        "        print(val_report.add_model(trainer, val_data_tokenized, model_name))\n",
        "        print(test_report.add_model(trainer, test_data_tokenized, model_name))"
      ]
    },
    {
      "cell_type": "markdown",
      "metadata": {},
      "source": [
        "### ELECTRA LOAD PREDICTIONS"
      ]
    },
    {
      "cell_type": "code",
      "execution_count": 18,
      "metadata": {},
      "outputs": [
        {
          "name": "stderr",
          "output_type": "stream",
          "text": [
            "c:\\Users\\cacio\\Desktop\\jacopo\\scuola\\UNIBO MASTER\\NATURAL LANGUAGE PROCESSING\\project\\ediref\\ediref\\Lib\\site-packages\\accelerate\\accelerator.py:432: FutureWarning: Passing the following arguments to `Accelerator` is deprecated and will be removed in version 1.0 of Accelerate: dict_keys(['dispatch_batches', 'split_batches', 'even_batches', 'use_seedable_sampler']). Please pass an `accelerate.DataLoaderConfiguration` instead: \n",
            "dataloader_config = DataLoaderConfiguration(dispatch_batches=None, split_batches=False, even_batches=True, use_seedable_sampler=True)\n",
            "  warnings.warn(\n"
          ]
        },
        {
          "data": {
            "application/vnd.jupyter.widget-view+json": {
              "model_id": "1f7f9846ccb543f396099eace4ab729c",
              "version_major": 2,
              "version_minor": 0
            },
            "text/plain": [
              "  0%|          | 0/860 [00:00<?, ?it/s]"
            ]
          },
          "metadata": {},
          "output_type": "display_data"
        },
        {
          "name": "stdout",
          "output_type": "stream",
          "text": [
            "Successfullty added model!(Successfullty added predictions for model electra_extraction_51!, Successfullty added predictions for model electra_extraction_51_t!)\n"
          ]
        },
        {
          "data": {
            "application/vnd.jupyter.widget-view+json": {
              "model_id": "1681c2bb65524eed87fdf4edd24ee5f5",
              "version_major": 2,
              "version_minor": 0
            },
            "text/plain": [
              "  0%|          | 0/876 [00:00<?, ?it/s]"
            ]
          },
          "metadata": {},
          "output_type": "display_data"
        },
        {
          "name": "stdout",
          "output_type": "stream",
          "text": [
            "Successfullty added model!(Successfullty added predictions for model electra_extraction_51!, Successfullty added predictions for model electra_extraction_51_t!)\n"
          ]
        }
      ],
      "source": [
        "import os\n",
        "model_dir = \"./already_trained_models/trained_models/electra\"\n",
        "#set_seeds(49)\n",
        "base_model = Model_Phrase_Extraction(len(df_manager.unique_emotions), tokenizer.sep_token_id, model_card='google/electra-base-discriminator')\n",
        "model_path = os.path.join(model_dir, \"electra_extraction_51.pth\")\n",
        "base_model.load_state_dict(torch.load(model_path))\n",
        "\n",
        "trainer = get_trainer(base_model, train_data_tokenized, val_data_tokenized, './trained_models', class_weights=True, batch_size=4, epochs=5)\n",
        "#prediction = trainer.predict(val_data_tokenized)\n",
        "#prediction\n",
        "\n",
        "# add predictions to the report\n",
        "print(val_report.add_model(trainer, val_data_tokenized, \"electra_extraction_51\", seed= 51))\n",
        "print(test_report.add_model(trainer, test_data_tokenized, \"electra_extraction_51\", seed= 51))"
      ]
    },
    {
      "cell_type": "code",
      "execution_count": 41,
      "metadata": {},
      "outputs": [
        {
          "data": {
            "text/plain": [
              "[{'path': './already_trained_models/trained_models/electra/electra_extraction_111.pth',\n",
              "  'name': 'electra_extraction_111',\n",
              "  'dir': './already_trained_models/trained_models/electra/',\n",
              "  't': 'electra'},\n",
              " {'path': './already_trained_models/trained_models/electra/electra_extraction_49.pth',\n",
              "  'name': 'electra_extraction_49',\n",
              "  'dir': './already_trained_models/trained_models/electra/',\n",
              "  't': 'electra'},\n",
              " {'path': './already_trained_models/trained_models/electra/electra_extraction_51.pth',\n",
              "  'name': 'electra_extraction_51',\n",
              "  'dir': './already_trained_models/trained_models/electra/',\n",
              "  't': 'electra'},\n",
              " {'path': './already_trained_models/trained_models/electra/electra_extraction_666.pth',\n",
              "  'name': 'electra_extraction_666',\n",
              "  'dir': './already_trained_models/trained_models/electra/',\n",
              "  't': 'electra'},\n",
              " {'path': './already_trained_models/trained_models/electra/electra_extraction_77.pth',\n",
              "  'name': 'electra_extraction_77',\n",
              "  'dir': './already_trained_models/trained_models/electra/',\n",
              "  't': 'electra'}]"
            ]
          },
          "execution_count": 41,
          "metadata": {},
          "output_type": "execute_result"
        }
      ],
      "source": [
        "import os\n",
        "#!Note at evaluation freeze and unfreeze are the same\n",
        "#berts extraction\n",
        "model_dir = \"./already_trained_models/trained_models/electra/\"\n",
        "model_filenames = [name for name in os.listdir(model_dir)]\n",
        "models = [{\"path\":os.path.join(model_dir,name), \"name\":name[:-4], \"dir\":model_dir, \"t\": \"electra\"} for name in model_filenames]\n",
        "\n",
        "models"
      ]
    },
    {
      "cell_type": "code",
      "execution_count": 106,
      "metadata": {},
      "outputs": [
        {
          "name": "stdout",
          "output_type": "stream",
          "text": [
            "electra_extraction 111\n"
          ]
        }
      ],
      "source": [
        "import re\n"
      ]
    },
    {
      "cell_type": "code",
      "execution_count": 42,
      "metadata": {},
      "outputs": [
        {
          "name": "stderr",
          "output_type": "stream",
          "text": [
            "c:\\Users\\cacio\\Desktop\\jacopo\\scuola\\UNIBO MASTER\\NATURAL LANGUAGE PROCESSING\\project\\ediref\\ediref\\Lib\\site-packages\\accelerate\\accelerator.py:432: FutureWarning: Passing the following arguments to `Accelerator` is deprecated and will be removed in version 1.0 of Accelerate: dict_keys(['dispatch_batches', 'split_batches', 'even_batches', 'use_seedable_sampler']). Please pass an `accelerate.DataLoaderConfiguration` instead: \n",
            "dataloader_config = DataLoaderConfiguration(dispatch_batches=None, split_batches=False, even_batches=True, use_seedable_sampler=True)\n",
            "  warnings.warn(\n"
          ]
        },
        {
          "data": {
            "application/vnd.jupyter.widget-view+json": {
              "model_id": "7873b4913c8a487ebc5b79dbdda830c3",
              "version_major": 2,
              "version_minor": 0
            },
            "text/plain": [
              "  0%|          | 0/860 [00:00<?, ?it/s]"
            ]
          },
          "metadata": {},
          "output_type": "display_data"
        },
        {
          "name": "stdout",
          "output_type": "stream",
          "text": [
            "torch.Size([3437, 7]) torch.Size([3437, 1])\n"
          ]
        },
        {
          "data": {
            "application/vnd.jupyter.widget-view+json": {
              "model_id": "1d4942414b12471998e2c7906444e4b8",
              "version_major": 2,
              "version_minor": 0
            },
            "text/plain": [
              "  0%|          | 0/876 [00:00<?, ?it/s]"
            ]
          },
          "metadata": {},
          "output_type": "display_data"
        },
        {
          "name": "stdout",
          "output_type": "stream",
          "text": [
            "torch.Size([3501, 7]) torch.Size([3501, 1])\n"
          ]
        },
        {
          "name": "stderr",
          "output_type": "stream",
          "text": [
            "c:\\Users\\cacio\\Desktop\\jacopo\\scuola\\UNIBO MASTER\\NATURAL LANGUAGE PROCESSING\\project\\ediref\\ediref\\Lib\\site-packages\\accelerate\\accelerator.py:432: FutureWarning: Passing the following arguments to `Accelerator` is deprecated and will be removed in version 1.0 of Accelerate: dict_keys(['dispatch_batches', 'split_batches', 'even_batches', 'use_seedable_sampler']). Please pass an `accelerate.DataLoaderConfiguration` instead: \n",
            "dataloader_config = DataLoaderConfiguration(dispatch_batches=None, split_batches=False, even_batches=True, use_seedable_sampler=True)\n",
            "  warnings.warn(\n"
          ]
        },
        {
          "data": {
            "application/vnd.jupyter.widget-view+json": {
              "model_id": "1d11eea68b1d4fe79776ea1b681a2337",
              "version_major": 2,
              "version_minor": 0
            },
            "text/plain": [
              "  0%|          | 0/860 [00:00<?, ?it/s]"
            ]
          },
          "metadata": {},
          "output_type": "display_data"
        },
        {
          "name": "stdout",
          "output_type": "stream",
          "text": [
            "torch.Size([3437, 7]) torch.Size([3437, 1])\n"
          ]
        },
        {
          "data": {
            "application/vnd.jupyter.widget-view+json": {
              "model_id": "d0893e1a847f4c239b1cecc40631fbc6",
              "version_major": 2,
              "version_minor": 0
            },
            "text/plain": [
              "  0%|          | 0/876 [00:00<?, ?it/s]"
            ]
          },
          "metadata": {},
          "output_type": "display_data"
        },
        {
          "name": "stdout",
          "output_type": "stream",
          "text": [
            "torch.Size([3501, 7]) torch.Size([3501, 1])\n"
          ]
        },
        {
          "name": "stderr",
          "output_type": "stream",
          "text": [
            "c:\\Users\\cacio\\Desktop\\jacopo\\scuola\\UNIBO MASTER\\NATURAL LANGUAGE PROCESSING\\project\\ediref\\ediref\\Lib\\site-packages\\accelerate\\accelerator.py:432: FutureWarning: Passing the following arguments to `Accelerator` is deprecated and will be removed in version 1.0 of Accelerate: dict_keys(['dispatch_batches', 'split_batches', 'even_batches', 'use_seedable_sampler']). Please pass an `accelerate.DataLoaderConfiguration` instead: \n",
            "dataloader_config = DataLoaderConfiguration(dispatch_batches=None, split_batches=False, even_batches=True, use_seedable_sampler=True)\n",
            "  warnings.warn(\n"
          ]
        },
        {
          "data": {
            "application/vnd.jupyter.widget-view+json": {
              "model_id": "c0e0b2babb6245f8ab5cb8ee0ea656ca",
              "version_major": 2,
              "version_minor": 0
            },
            "text/plain": [
              "  0%|          | 0/860 [00:00<?, ?it/s]"
            ]
          },
          "metadata": {},
          "output_type": "display_data"
        },
        {
          "name": "stdout",
          "output_type": "stream",
          "text": [
            "torch.Size([3437, 7]) torch.Size([3437, 1])\n"
          ]
        },
        {
          "data": {
            "application/vnd.jupyter.widget-view+json": {
              "model_id": "6904c95c23c44372bb8368d749eb6c5b",
              "version_major": 2,
              "version_minor": 0
            },
            "text/plain": [
              "  0%|          | 0/876 [00:00<?, ?it/s]"
            ]
          },
          "metadata": {},
          "output_type": "display_data"
        },
        {
          "name": "stdout",
          "output_type": "stream",
          "text": [
            "torch.Size([3501, 7]) torch.Size([3501, 1])\n"
          ]
        },
        {
          "name": "stderr",
          "output_type": "stream",
          "text": [
            "c:\\Users\\cacio\\Desktop\\jacopo\\scuola\\UNIBO MASTER\\NATURAL LANGUAGE PROCESSING\\project\\ediref\\ediref\\Lib\\site-packages\\accelerate\\accelerator.py:432: FutureWarning: Passing the following arguments to `Accelerator` is deprecated and will be removed in version 1.0 of Accelerate: dict_keys(['dispatch_batches', 'split_batches', 'even_batches', 'use_seedable_sampler']). Please pass an `accelerate.DataLoaderConfiguration` instead: \n",
            "dataloader_config = DataLoaderConfiguration(dispatch_batches=None, split_batches=False, even_batches=True, use_seedable_sampler=True)\n",
            "  warnings.warn(\n"
          ]
        },
        {
          "data": {
            "application/vnd.jupyter.widget-view+json": {
              "model_id": "58495edab0e24a0e8648ad0fcb38c949",
              "version_major": 2,
              "version_minor": 0
            },
            "text/plain": [
              "  0%|          | 0/860 [00:00<?, ?it/s]"
            ]
          },
          "metadata": {},
          "output_type": "display_data"
        },
        {
          "name": "stdout",
          "output_type": "stream",
          "text": [
            "torch.Size([3437, 7]) torch.Size([3437, 1])\n"
          ]
        },
        {
          "data": {
            "application/vnd.jupyter.widget-view+json": {
              "model_id": "8a77d1b11ca14d6faa6c13be6d2207db",
              "version_major": 2,
              "version_minor": 0
            },
            "text/plain": [
              "  0%|          | 0/876 [00:00<?, ?it/s]"
            ]
          },
          "metadata": {},
          "output_type": "display_data"
        },
        {
          "name": "stdout",
          "output_type": "stream",
          "text": [
            "torch.Size([3501, 7]) torch.Size([3501, 1])\n"
          ]
        },
        {
          "name": "stderr",
          "output_type": "stream",
          "text": [
            "c:\\Users\\cacio\\Desktop\\jacopo\\scuola\\UNIBO MASTER\\NATURAL LANGUAGE PROCESSING\\project\\ediref\\ediref\\Lib\\site-packages\\accelerate\\accelerator.py:432: FutureWarning: Passing the following arguments to `Accelerator` is deprecated and will be removed in version 1.0 of Accelerate: dict_keys(['dispatch_batches', 'split_batches', 'even_batches', 'use_seedable_sampler']). Please pass an `accelerate.DataLoaderConfiguration` instead: \n",
            "dataloader_config = DataLoaderConfiguration(dispatch_batches=None, split_batches=False, even_batches=True, use_seedable_sampler=True)\n",
            "  warnings.warn(\n"
          ]
        },
        {
          "data": {
            "application/vnd.jupyter.widget-view+json": {
              "model_id": "b757a02096614455848e285a150f93c9",
              "version_major": 2,
              "version_minor": 0
            },
            "text/plain": [
              "  0%|          | 0/860 [00:00<?, ?it/s]"
            ]
          },
          "metadata": {},
          "output_type": "display_data"
        },
        {
          "name": "stdout",
          "output_type": "stream",
          "text": [
            "torch.Size([3437, 7]) torch.Size([3437, 1])\n"
          ]
        },
        {
          "data": {
            "application/vnd.jupyter.widget-view+json": {
              "model_id": "5c28d83645084fe780e65a92a403fcdd",
              "version_major": 2,
              "version_minor": 0
            },
            "text/plain": [
              "  0%|          | 0/876 [00:00<?, ?it/s]"
            ]
          },
          "metadata": {},
          "output_type": "display_data"
        },
        {
          "name": "stdout",
          "output_type": "stream",
          "text": [
            "torch.Size([3501, 7]) torch.Size([3501, 1])\n"
          ]
        }
      ],
      "source": [
        "#LOOP FOR UPLOADING PREDICTIONS IN THE REPORT\n",
        "import re\n",
        "for model_setting in models:\n",
        "        match = re.search(\"_\\d+\", model_setting['name'])\n",
        "        model_name = model_setting['name'][:match.start()]\n",
        "        seed = int(model_setting['name'][match.start()+1:])\n",
        "        model_path = model_setting['path']\n",
        "        model_dir = model_setting['dir']\n",
        "        t = model_setting['t']\n",
        "\n",
        "        if t == 'electra':\n",
        "                base_model = Model_Phrase_Extraction(len(df_manager.unique_emotions), tokenizer.sep_token_id, model_card='google/electra-base-discriminator')\n",
        "        else:\n",
        "                raise Exception(\"Type of model not found\")\n",
        "\n",
        "        base_model.load_state_dict(torch.load(model_path))\n",
        "\n",
        "        trainer = get_trainer(base_model, train_data_tokenized, val_data_tokenized, './trained_models', class_weights=True, batch_size=4, epochs=5)\n",
        "\n",
        "        # add predictions to the report\n",
        "        print(val_report.add_model(trainer, val_data_tokenized, model_name, seed= seed))\n",
        "        print(test_report.add_model(trainer, test_data_tokenized, model_name, seed= seed))"
      ]
    },
    {
      "cell_type": "markdown",
      "metadata": {},
      "source": [
        "### BASELINE ERROR PREDICTION"
      ]
    },
    {
      "cell_type": "code",
      "execution_count": 45,
      "metadata": {},
      "outputs": [
        {
          "data": {
            "text/plain": [
              "'Successfullty added predictions for model majority_42_t!'"
            ]
          },
          "execution_count": 45,
          "metadata": {},
          "output_type": "execute_result"
        }
      ],
      "source": [
        "from sklearn.dummy import DummyClassifier\n",
        "#test import \n",
        "majority_cls = DummyClassifier(strategy='most_frequent')\n",
        "majority_cls.fit(test_data_tokenized, test_data_tokenized['emotions_id'])\n",
        "logits = torch.tensor([np.eye(7)[id,:].tolist() for id in majority_cls.predict(test_data_tokenized)]).type(torch.float16)\n",
        "test_report.add_predictions(logits, 'majority', seed=42, pred_type='emotions')\n",
        "majority_cls.fit(test_data_tokenized, test_data_tokenized['triggers'])\n",
        "logits = torch.tensor(majority_cls.predict(test_data_tokenized)).type(torch.float16)[:,None]\n",
        "test_report.add_predictions(logits, 'majority', seed=42, pred_type='trigger')\n",
        "\n",
        "#val import\n",
        "majority_cls.fit(val_data_tokenized, val_data_tokenized['emotions_id'])\n",
        "logits = torch.tensor([np.eye(7)[id,:].tolist() for id in majority_cls.predict(val_data_tokenized)]).type(torch.float16)\n",
        "val_report.add_predictions(logits, 'majority', seed=42, pred_type='emotions')\n",
        "majority_cls.fit(val_data_tokenized, val_data_tokenized['triggers'])\n",
        "logits = torch.tensor(majority_cls.predict(val_data_tokenized)).type(torch.float16)[:,None]\n",
        "val_report.add_predictions(logits, 'majority', seed=42, pred_type='trigger')\n"
      ]
    },
    {
      "cell_type": "code",
      "execution_count": 46,
      "metadata": {},
      "outputs": [
        {
          "data": {
            "text/plain": [
              "'Successfullty added predictions for model uniform_42_t!'"
            ]
          },
          "execution_count": 46,
          "metadata": {},
          "output_type": "execute_result"
        }
      ],
      "source": [
        "#test import \n",
        "uniform_cls = DummyClassifier(strategy='uniform')\n",
        "uniform_cls.fit(test_data_tokenized, test_data_tokenized['emotions_id'])\n",
        "logits = torch.tensor([np.eye(7)[id,:].tolist() for id in uniform_cls.predict(test_data_tokenized)]).type(torch.float16)\n",
        "test_report.add_predictions(logits, 'uniform', seed=42, pred_type='emotions')\n",
        "uniform_cls.fit(test_data_tokenized, test_data_tokenized['triggers'])\n",
        "logits = torch.tensor(uniform_cls.predict(test_data_tokenized)).type(torch.float16)[:,None]\n",
        "test_report.add_predictions(logits, 'uniform', seed=42, pred_type='trigger')\n",
        "\n",
        "#val import\n",
        "uniform_cls.fit(val_data_tokenized, val_data_tokenized['emotions_id'])\n",
        "logits = torch.tensor([np.eye(7)[id,:].tolist() for id in uniform_cls.predict(val_data_tokenized)]).type(torch.float16)\n",
        "val_report.add_predictions(logits, 'uniform', seed=42, pred_type='emotions')\n",
        "uniform_cls.fit(val_data_tokenized, val_data_tokenized['triggers'])\n",
        "logits = torch.tensor(uniform_cls.predict(val_data_tokenized)).type(torch.float16)[:,None]\n",
        "val_report.add_predictions(logits, 'uniform', seed=42, pred_type='trigger')"
      ]
    },
    {
      "cell_type": "markdown",
      "metadata": {},
      "source": [
        "### ERROR ANALYSIS\n",
        "Check if you have added models to the Error analysis class. After which you can call all the functions you want. Predictions should be stored inside a dataframe, emotions and triggers in two separated columns. The columns should have respectively \"<MODEL_NAME>_<SEED>\" and \"<MODEL_NAME>_<SEED>_T\" names. If they don't have been added but you still have the model, you can add predictions directly with .add_predictions()... Do it twice, onece adding emtions predictions and once adding trigger predictions. When adding, the model name should be just the name."
      ]
    },
    {
      "cell_type": "code",
      "execution_count": 56,
      "metadata": {},
      "outputs": [
        {
          "data": {
            "text/plain": [
              "<module 'src.error' from 'c:\\\\Users\\\\cacio\\\\Desktop\\\\jacopo\\\\scuola\\\\UNIBO MASTER\\\\NATURAL LANGUAGE PROCESSING\\\\project\\\\ediref\\\\src\\\\error.py'>"
            ]
          },
          "execution_count": 56,
          "metadata": {},
          "output_type": "execute_result"
        }
      ],
      "source": [
        "from src import error\n",
        "import importlib\n",
        "importlib.reload(error)"
      ]
    },
    {
      "cell_type": "code",
      "execution_count": 28,
      "metadata": {},
      "outputs": [],
      "source": [
        "#store temporarly predictions\n",
        "val_temp_df = val_report.df\n",
        "test_temp_df = test_report.df"
      ]
    },
    {
      "cell_type": "code",
      "execution_count": 59,
      "metadata": {},
      "outputs": [],
      "source": [
        "#load the temporary predictions\n",
        "val_report.df = val_temp_df\n",
        "test_report.df = test_temp_df"
      ]
    },
    {
      "cell_type": "code",
      "execution_count": 25,
      "metadata": {},
      "outputs": [],
      "source": [
        "test_report.emotion_labels = ['sadness', 'fear', 'disgust', 'surprise', 'neutral', 'anger', 'joy']\n",
        "val_report.emotion_labels = ['sadness', 'fear', 'disgust', 'surprise', 'neutral', 'anger', 'joy']"
      ]
    },
    {
      "cell_type": "code",
      "execution_count": 47,
      "metadata": {},
      "outputs": [
        {
          "name": "stdout",
          "output_type": "stream",
          "text": [
            "VAL_SPLIT PREFORMANCE TABLE\n"
          ]
        },
        {
          "data": {
            "text/html": [
              "<div>\n",
              "<style scoped>\n",
              "    .dataframe tbody tr th:only-of-type {\n",
              "        vertical-align: middle;\n",
              "    }\n",
              "\n",
              "    .dataframe tbody tr th {\n",
              "        vertical-align: top;\n",
              "    }\n",
              "\n",
              "    .dataframe thead th {\n",
              "        text-align: right;\n",
              "    }\n",
              "</style>\n",
              "<table border=\"1\" class=\"dataframe\">\n",
              "  <thead>\n",
              "    <tr style=\"text-align: right;\">\n",
              "      <th></th>\n",
              "      <th>name</th>\n",
              "      <th>accuracy</th>\n",
              "      <th>f1_macro</th>\n",
              "      <th>accuracy_t</th>\n",
              "      <th>f1_t</th>\n",
              "      <th>avg_accuracy</th>\n",
              "      <th>avg_f1</th>\n",
              "    </tr>\n",
              "  </thead>\n",
              "  <tbody>\n",
              "    <tr>\n",
              "      <th>0</th>\n",
              "      <td>bert_extraction_111</td>\n",
              "      <td>0.784696</td>\n",
              "      <td>0.761792</td>\n",
              "      <td>0.822811</td>\n",
              "      <td>0.496278</td>\n",
              "      <td>0.803753</td>\n",
              "      <td>0.629035</td>\n",
              "    </tr>\n",
              "    <tr>\n",
              "      <th>1</th>\n",
              "      <td>bert_extraction_49</td>\n",
              "      <td>0.806517</td>\n",
              "      <td>0.783011</td>\n",
              "      <td>0.827466</td>\n",
              "      <td>0.507884</td>\n",
              "      <td>0.816992</td>\n",
              "      <td>0.645448</td>\n",
              "    </tr>\n",
              "    <tr>\n",
              "      <th>2</th>\n",
              "      <td>bert_extraction_51</td>\n",
              "      <td>0.766366</td>\n",
              "      <td>0.738646</td>\n",
              "      <td>0.818446</td>\n",
              "      <td>0.493506</td>\n",
              "      <td>0.792406</td>\n",
              "      <td>0.616076</td>\n",
              "    </tr>\n",
              "    <tr>\n",
              "      <th>3</th>\n",
              "      <td>bert_extraction_666</td>\n",
              "      <td>0.817864</td>\n",
              "      <td>0.795835</td>\n",
              "      <td>0.826011</td>\n",
              "      <td>0.484483</td>\n",
              "      <td>0.821938</td>\n",
              "      <td>0.640159</td>\n",
              "    </tr>\n",
              "    <tr>\n",
              "      <th>4</th>\n",
              "      <td>bert_extraction_77</td>\n",
              "      <td>0.730288</td>\n",
              "      <td>0.681069</td>\n",
              "      <td>0.817282</td>\n",
              "      <td>0.488599</td>\n",
              "      <td>0.773785</td>\n",
              "      <td>0.584834</td>\n",
              "    </tr>\n",
              "    <tr>\n",
              "      <th>5</th>\n",
              "      <td>bert_extraction_freeze_111</td>\n",
              "      <td>0.385511</td>\n",
              "      <td>0.241155</td>\n",
              "      <td>0.818446</td>\n",
              "      <td>0.489362</td>\n",
              "      <td>0.601978</td>\n",
              "      <td>0.365258</td>\n",
              "    </tr>\n",
              "    <tr>\n",
              "      <th>6</th>\n",
              "      <td>bert_extraction_freeze_49</td>\n",
              "      <td>0.609543</td>\n",
              "      <td>0.537025</td>\n",
              "      <td>0.810300</td>\n",
              "      <td>0.511976</td>\n",
              "      <td>0.709921</td>\n",
              "      <td>0.524501</td>\n",
              "    </tr>\n",
              "    <tr>\n",
              "      <th>7</th>\n",
              "      <td>bert_extraction_freeze_51</td>\n",
              "      <td>0.599942</td>\n",
              "      <td>0.515383</td>\n",
              "      <td>0.817282</td>\n",
              "      <td>0.528529</td>\n",
              "      <td>0.708612</td>\n",
              "      <td>0.521956</td>\n",
              "    </tr>\n",
              "    <tr>\n",
              "      <th>8</th>\n",
              "      <td>bert_extraction_freeze_666</td>\n",
              "      <td>0.706721</td>\n",
              "      <td>0.670913</td>\n",
              "      <td>0.812918</td>\n",
              "      <td>0.504241</td>\n",
              "      <td>0.759820</td>\n",
              "      <td>0.587577</td>\n",
              "    </tr>\n",
              "    <tr>\n",
              "      <th>9</th>\n",
              "      <td>bert_extraction_freeze_77</td>\n",
              "      <td>0.738435</td>\n",
              "      <td>0.705437</td>\n",
              "      <td>0.815537</td>\n",
              "      <td>0.497623</td>\n",
              "      <td>0.776986</td>\n",
              "      <td>0.601530</td>\n",
              "    </tr>\n",
              "    <tr>\n",
              "      <th>10</th>\n",
              "      <td>bert_concat_111</td>\n",
              "      <td>0.849578</td>\n",
              "      <td>0.831362</td>\n",
              "      <td>0.803026</td>\n",
              "      <td>0.169325</td>\n",
              "      <td>0.826302</td>\n",
              "      <td>0.500344</td>\n",
              "    </tr>\n",
              "    <tr>\n",
              "      <th>11</th>\n",
              "      <td>bert_concat_49</td>\n",
              "      <td>0.852779</td>\n",
              "      <td>0.803618</td>\n",
              "      <td>0.835612</td>\n",
              "      <td>0.007030</td>\n",
              "      <td>0.844196</td>\n",
              "      <td>0.405324</td>\n",
              "    </tr>\n",
              "    <tr>\n",
              "      <th>12</th>\n",
              "      <td>bert_concat_51</td>\n",
              "      <td>0.858598</td>\n",
              "      <td>0.839781</td>\n",
              "      <td>0.805354</td>\n",
              "      <td>0.204518</td>\n",
              "      <td>0.831976</td>\n",
              "      <td>0.522150</td>\n",
              "    </tr>\n",
              "    <tr>\n",
              "      <th>13</th>\n",
              "      <td>bert_concat_666</td>\n",
              "      <td>0.864708</td>\n",
              "      <td>0.843389</td>\n",
              "      <td>0.801571</td>\n",
              "      <td>0.197647</td>\n",
              "      <td>0.833139</td>\n",
              "      <td>0.520518</td>\n",
              "    </tr>\n",
              "    <tr>\n",
              "      <th>14</th>\n",
              "      <td>bert_concat_77</td>\n",
              "      <td>0.828048</td>\n",
              "      <td>0.807166</td>\n",
              "      <td>0.810009</td>\n",
              "      <td>0.225386</td>\n",
              "      <td>0.819028</td>\n",
              "      <td>0.516276</td>\n",
              "    </tr>\n",
              "    <tr>\n",
              "      <th>15</th>\n",
              "      <td>bert_concat_nopooling_111</td>\n",
              "      <td>0.854233</td>\n",
              "      <td>0.833350</td>\n",
              "      <td>0.809718</td>\n",
              "      <td>0.182500</td>\n",
              "      <td>0.831976</td>\n",
              "      <td>0.507925</td>\n",
              "    </tr>\n",
              "    <tr>\n",
              "      <th>16</th>\n",
              "      <td>bert_concat_nopooling_49</td>\n",
              "      <td>0.873145</td>\n",
              "      <td>0.836024</td>\n",
              "      <td>0.828921</td>\n",
              "      <td>0.039216</td>\n",
              "      <td>0.851033</td>\n",
              "      <td>0.437620</td>\n",
              "    </tr>\n",
              "    <tr>\n",
              "      <th>17</th>\n",
              "      <td>bert_concat_nopooling_51</td>\n",
              "      <td>0.855397</td>\n",
              "      <td>0.832901</td>\n",
              "      <td>0.803317</td>\n",
              "      <td>0.179612</td>\n",
              "      <td>0.829357</td>\n",
              "      <td>0.506256</td>\n",
              "    </tr>\n",
              "    <tr>\n",
              "      <th>18</th>\n",
              "      <td>bert_concat_nopooling_666</td>\n",
              "      <td>0.866453</td>\n",
              "      <td>0.845175</td>\n",
              "      <td>0.806517</td>\n",
              "      <td>0.218566</td>\n",
              "      <td>0.836485</td>\n",
              "      <td>0.531871</td>\n",
              "    </tr>\n",
              "    <tr>\n",
              "      <th>19</th>\n",
              "      <td>bert_concat_nopooling_77</td>\n",
              "      <td>0.733779</td>\n",
              "      <td>0.666556</td>\n",
              "      <td>0.810009</td>\n",
              "      <td>0.125837</td>\n",
              "      <td>0.771894</td>\n",
              "      <td>0.396196</td>\n",
              "    </tr>\n",
              "    <tr>\n",
              "      <th>20</th>\n",
              "      <td>electra_extraction_111</td>\n",
              "      <td>0.775967</td>\n",
              "      <td>0.745250</td>\n",
              "      <td>0.816701</td>\n",
              "      <td>0.485294</td>\n",
              "      <td>0.796334</td>\n",
              "      <td>0.615272</td>\n",
              "    </tr>\n",
              "    <tr>\n",
              "      <th>21</th>\n",
              "      <td>electra_extraction_49</td>\n",
              "      <td>0.817864</td>\n",
              "      <td>0.798603</td>\n",
              "      <td>0.822229</td>\n",
              "      <td>0.489557</td>\n",
              "      <td>0.820047</td>\n",
              "      <td>0.644080</td>\n",
              "    </tr>\n",
              "    <tr>\n",
              "      <th>22</th>\n",
              "      <td>electra_extraction_51</td>\n",
              "      <td>0.837358</td>\n",
              "      <td>0.817411</td>\n",
              "      <td>0.827175</td>\n",
              "      <td>0.481675</td>\n",
              "      <td>0.832267</td>\n",
              "      <td>0.649543</td>\n",
              "    </tr>\n",
              "    <tr>\n",
              "      <th>23</th>\n",
              "      <td>electra_extraction_666</td>\n",
              "      <td>0.805935</td>\n",
              "      <td>0.783712</td>\n",
              "      <td>0.821938</td>\n",
              "      <td>0.492537</td>\n",
              "      <td>0.813937</td>\n",
              "      <td>0.638125</td>\n",
              "    </tr>\n",
              "    <tr>\n",
              "      <th>24</th>\n",
              "      <td>electra_extraction_77</td>\n",
              "      <td>0.815246</td>\n",
              "      <td>0.802487</td>\n",
              "      <td>0.821938</td>\n",
              "      <td>0.479592</td>\n",
              "      <td>0.818592</td>\n",
              "      <td>0.641039</td>\n",
              "    </tr>\n",
              "    <tr>\n",
              "      <th>25</th>\n",
              "      <td>majority_42</td>\n",
              "      <td>0.419552</td>\n",
              "      <td>0.084444</td>\n",
              "      <td>0.835031</td>\n",
              "      <td>0.000000</td>\n",
              "      <td>0.627291</td>\n",
              "      <td>0.042222</td>\n",
              "    </tr>\n",
              "    <tr>\n",
              "      <th>26</th>\n",
              "      <td>uniform_42</td>\n",
              "      <td>0.136165</td>\n",
              "      <td>0.114923</td>\n",
              "      <td>0.513529</td>\n",
              "      <td>0.268591</td>\n",
              "      <td>0.324847</td>\n",
              "      <td>0.191757</td>\n",
              "    </tr>\n",
              "  </tbody>\n",
              "</table>\n",
              "</div>"
            ],
            "text/plain": [
              "                          name  accuracy  f1_macro  accuracy_t      f1_t  \\\n",
              "0          bert_extraction_111  0.784696  0.761792    0.822811  0.496278   \n",
              "1           bert_extraction_49  0.806517  0.783011    0.827466  0.507884   \n",
              "2           bert_extraction_51  0.766366  0.738646    0.818446  0.493506   \n",
              "3          bert_extraction_666  0.817864  0.795835    0.826011  0.484483   \n",
              "4           bert_extraction_77  0.730288  0.681069    0.817282  0.488599   \n",
              "5   bert_extraction_freeze_111  0.385511  0.241155    0.818446  0.489362   \n",
              "6    bert_extraction_freeze_49  0.609543  0.537025    0.810300  0.511976   \n",
              "7    bert_extraction_freeze_51  0.599942  0.515383    0.817282  0.528529   \n",
              "8   bert_extraction_freeze_666  0.706721  0.670913    0.812918  0.504241   \n",
              "9    bert_extraction_freeze_77  0.738435  0.705437    0.815537  0.497623   \n",
              "10             bert_concat_111  0.849578  0.831362    0.803026  0.169325   \n",
              "11              bert_concat_49  0.852779  0.803618    0.835612  0.007030   \n",
              "12              bert_concat_51  0.858598  0.839781    0.805354  0.204518   \n",
              "13             bert_concat_666  0.864708  0.843389    0.801571  0.197647   \n",
              "14              bert_concat_77  0.828048  0.807166    0.810009  0.225386   \n",
              "15   bert_concat_nopooling_111  0.854233  0.833350    0.809718  0.182500   \n",
              "16    bert_concat_nopooling_49  0.873145  0.836024    0.828921  0.039216   \n",
              "17    bert_concat_nopooling_51  0.855397  0.832901    0.803317  0.179612   \n",
              "18   bert_concat_nopooling_666  0.866453  0.845175    0.806517  0.218566   \n",
              "19    bert_concat_nopooling_77  0.733779  0.666556    0.810009  0.125837   \n",
              "20      electra_extraction_111  0.775967  0.745250    0.816701  0.485294   \n",
              "21       electra_extraction_49  0.817864  0.798603    0.822229  0.489557   \n",
              "22       electra_extraction_51  0.837358  0.817411    0.827175  0.481675   \n",
              "23      electra_extraction_666  0.805935  0.783712    0.821938  0.492537   \n",
              "24       electra_extraction_77  0.815246  0.802487    0.821938  0.479592   \n",
              "25                 majority_42  0.419552  0.084444    0.835031  0.000000   \n",
              "26                  uniform_42  0.136165  0.114923    0.513529  0.268591   \n",
              "\n",
              "    avg_accuracy    avg_f1  \n",
              "0       0.803753  0.629035  \n",
              "1       0.816992  0.645448  \n",
              "2       0.792406  0.616076  \n",
              "3       0.821938  0.640159  \n",
              "4       0.773785  0.584834  \n",
              "5       0.601978  0.365258  \n",
              "6       0.709921  0.524501  \n",
              "7       0.708612  0.521956  \n",
              "8       0.759820  0.587577  \n",
              "9       0.776986  0.601530  \n",
              "10      0.826302  0.500344  \n",
              "11      0.844196  0.405324  \n",
              "12      0.831976  0.522150  \n",
              "13      0.833139  0.520518  \n",
              "14      0.819028  0.516276  \n",
              "15      0.831976  0.507925  \n",
              "16      0.851033  0.437620  \n",
              "17      0.829357  0.506256  \n",
              "18      0.836485  0.531871  \n",
              "19      0.771894  0.396196  \n",
              "20      0.796334  0.615272  \n",
              "21      0.820047  0.644080  \n",
              "22      0.832267  0.649543  \n",
              "23      0.813937  0.638125  \n",
              "24      0.818592  0.641039  \n",
              "25      0.627291  0.042222  \n",
              "26      0.324847  0.191757  "
            ]
          },
          "execution_count": 47,
          "metadata": {},
          "output_type": "execute_result"
        }
      ],
      "source": [
        "print(\"VAL_SPLIT PREFORMANCE TABLE\")\n",
        "table = val_report.get_performance_table(metrics = ['accuracy','f1_macro'])\n",
        "table_df = pd.DataFrame(table.values())\n",
        "table_df = table_df.map(lambda x: x.item() if type(x) == torch.Tensor else x)\n",
        "#create avg f1_score and avg_accuracy\n",
        "table_df['avg_accuracy'] = table_df[['accuracy','accuracy_t']].apply('mean', axis = 1)\n",
        "table_df['avg_f1'] = table_df[['f1_macro','f1_t']].apply('mean', axis = 1)\n",
        "table_df"
      ]
    },
    {
      "cell_type": "code",
      "execution_count": 106,
      "metadata": {},
      "outputs": [
        {
          "name": "stdout",
          "output_type": "stream",
          "text": [
            "TEST_SPLIT PREFORMANCE TABLE\n"
          ]
        },
        {
          "data": {
            "text/html": [
              "<div>\n",
              "<style scoped>\n",
              "    .dataframe tbody tr th:only-of-type {\n",
              "        vertical-align: middle;\n",
              "    }\n",
              "\n",
              "    .dataframe tbody tr th {\n",
              "        vertical-align: top;\n",
              "    }\n",
              "\n",
              "    .dataframe thead th {\n",
              "        text-align: right;\n",
              "    }\n",
              "</style>\n",
              "<table border=\"1\" class=\"dataframe\">\n",
              "  <thead>\n",
              "    <tr style=\"text-align: right;\">\n",
              "      <th></th>\n",
              "      <th>name</th>\n",
              "      <th>accuracy</th>\n",
              "      <th>f1_macro</th>\n",
              "      <th>accuracy_t</th>\n",
              "      <th>f1_t</th>\n",
              "      <th>avg_accuracy</th>\n",
              "      <th>avg_f1</th>\n",
              "    </tr>\n",
              "  </thead>\n",
              "  <tbody>\n",
              "    <tr>\n",
              "      <th>0</th>\n",
              "      <td>bert_extraction_111</td>\n",
              "      <td>0.787775</td>\n",
              "      <td>0.769679</td>\n",
              "      <td>0.818338</td>\n",
              "      <td>0.470000</td>\n",
              "      <td>0.803056</td>\n",
              "      <td>0.619840</td>\n",
              "    </tr>\n",
              "    <tr>\n",
              "      <th>1</th>\n",
              "      <td>bert_extraction_49</td>\n",
              "      <td>0.814910</td>\n",
              "      <td>0.786842</td>\n",
              "      <td>0.818052</td>\n",
              "      <td>0.470490</td>\n",
              "      <td>0.816481</td>\n",
              "      <td>0.628666</td>\n",
              "    </tr>\n",
              "    <tr>\n",
              "      <th>2</th>\n",
              "      <td>bert_extraction_51</td>\n",
              "      <td>0.761497</td>\n",
              "      <td>0.721204</td>\n",
              "      <td>0.817195</td>\n",
              "      <td>0.486356</td>\n",
              "      <td>0.789346</td>\n",
              "      <td>0.603780</td>\n",
              "    </tr>\n",
              "    <tr>\n",
              "      <th>3</th>\n",
              "      <td>bert_extraction_666</td>\n",
              "      <td>0.815481</td>\n",
              "      <td>0.792455</td>\n",
              "      <td>0.824907</td>\n",
              "      <td>0.478298</td>\n",
              "      <td>0.820194</td>\n",
              "      <td>0.635376</td>\n",
              "    </tr>\n",
              "    <tr>\n",
              "      <th>4</th>\n",
              "      <td>bert_extraction_77</td>\n",
              "      <td>0.732648</td>\n",
              "      <td>0.685872</td>\n",
              "      <td>0.818052</td>\n",
              "      <td>0.478296</td>\n",
              "      <td>0.775350</td>\n",
              "      <td>0.582084</td>\n",
              "    </tr>\n",
              "    <tr>\n",
              "      <th>5</th>\n",
              "      <td>bert_extraction_freeze_111</td>\n",
              "      <td>0.394459</td>\n",
              "      <td>0.241391</td>\n",
              "      <td>0.814053</td>\n",
              "      <td>0.456140</td>\n",
              "      <td>0.604256</td>\n",
              "      <td>0.348766</td>\n",
              "    </tr>\n",
              "    <tr>\n",
              "      <th>6</th>\n",
              "      <td>bert_extraction_freeze_49</td>\n",
              "      <td>0.621251</td>\n",
              "      <td>0.556739</td>\n",
              "      <td>0.812911</td>\n",
              "      <td>0.493426</td>\n",
              "      <td>0.717081</td>\n",
              "      <td>0.525083</td>\n",
              "    </tr>\n",
              "    <tr>\n",
              "      <th>7</th>\n",
              "      <td>bert_extraction_freeze_51</td>\n",
              "      <td>0.607255</td>\n",
              "      <td>0.526527</td>\n",
              "      <td>0.808912</td>\n",
              "      <td>0.496614</td>\n",
              "      <td>0.708083</td>\n",
              "      <td>0.511571</td>\n",
              "    </tr>\n",
              "    <tr>\n",
              "      <th>8</th>\n",
              "      <td>bert_extraction_freeze_666</td>\n",
              "      <td>0.703228</td>\n",
              "      <td>0.662444</td>\n",
              "      <td>0.811197</td>\n",
              "      <td>0.483190</td>\n",
              "      <td>0.757212</td>\n",
              "      <td>0.572817</td>\n",
              "    </tr>\n",
              "    <tr>\n",
              "      <th>9</th>\n",
              "      <td>bert_extraction_freeze_77</td>\n",
              "      <td>0.741217</td>\n",
              "      <td>0.717597</td>\n",
              "      <td>0.815196</td>\n",
              "      <td>0.481986</td>\n",
              "      <td>0.778206</td>\n",
              "      <td>0.599791</td>\n",
              "    </tr>\n",
              "    <tr>\n",
              "      <th>10</th>\n",
              "      <td>bert_concat_111</td>\n",
              "      <td>0.853756</td>\n",
              "      <td>0.837150</td>\n",
              "      <td>0.808340</td>\n",
              "      <td>0.168525</td>\n",
              "      <td>0.831048</td>\n",
              "      <td>0.502838</td>\n",
              "    </tr>\n",
              "    <tr>\n",
              "      <th>11</th>\n",
              "      <td>bert_concat_49</td>\n",
              "      <td>0.849186</td>\n",
              "      <td>0.790091</td>\n",
              "      <td>0.839474</td>\n",
              "      <td>0.003546</td>\n",
              "      <td>0.844330</td>\n",
              "      <td>0.396818</td>\n",
              "    </tr>\n",
              "    <tr>\n",
              "      <th>12</th>\n",
              "      <td>bert_concat_51</td>\n",
              "      <td>0.860040</td>\n",
              "      <td>0.838365</td>\n",
              "      <td>0.811482</td>\n",
              "      <td>0.185185</td>\n",
              "      <td>0.835761</td>\n",
              "      <td>0.511775</td>\n",
              "    </tr>\n",
              "    <tr>\n",
              "      <th>13</th>\n",
              "      <td>bert_concat_666</td>\n",
              "      <td>0.870323</td>\n",
              "      <td>0.858133</td>\n",
              "      <td>0.814910</td>\n",
              "      <td>0.187970</td>\n",
              "      <td>0.842616</td>\n",
              "      <td>0.523052</td>\n",
              "    </tr>\n",
              "    <tr>\n",
              "      <th>14</th>\n",
              "      <td>bert_concat_77</td>\n",
              "      <td>0.831191</td>\n",
              "      <td>0.810354</td>\n",
              "      <td>0.816053</td>\n",
              "      <td>0.176471</td>\n",
              "      <td>0.823622</td>\n",
              "      <td>0.493412</td>\n",
              "    </tr>\n",
              "    <tr>\n",
              "      <th>15</th>\n",
              "      <td>bert_concat_nopooling_111</td>\n",
              "      <td>0.857755</td>\n",
              "      <td>0.837835</td>\n",
              "      <td>0.810911</td>\n",
              "      <td>0.149100</td>\n",
              "      <td>0.834333</td>\n",
              "      <td>0.493467</td>\n",
              "    </tr>\n",
              "    <tr>\n",
              "      <th>16</th>\n",
              "      <td>bert_concat_nopooling_49</td>\n",
              "      <td>0.869180</td>\n",
              "      <td>0.833745</td>\n",
              "      <td>0.837761</td>\n",
              "      <td>0.065789</td>\n",
              "      <td>0.853470</td>\n",
              "      <td>0.449767</td>\n",
              "    </tr>\n",
              "    <tr>\n",
              "      <th>17</th>\n",
              "      <td>bert_concat_nopooling_51</td>\n",
              "      <td>0.859183</td>\n",
              "      <td>0.836034</td>\n",
              "      <td>0.815196</td>\n",
              "      <td>0.198265</td>\n",
              "      <td>0.837189</td>\n",
              "      <td>0.517149</td>\n",
              "    </tr>\n",
              "    <tr>\n",
              "      <th>18</th>\n",
              "      <td>bert_concat_nopooling_666</td>\n",
              "      <td>0.868609</td>\n",
              "      <td>0.853210</td>\n",
              "      <td>0.819766</td>\n",
              "      <td>0.200253</td>\n",
              "      <td>0.844187</td>\n",
              "      <td>0.526732</td>\n",
              "    </tr>\n",
              "    <tr>\n",
              "      <th>19</th>\n",
              "      <td>bert_concat_nopooling_77</td>\n",
              "      <td>0.737789</td>\n",
              "      <td>0.684127</td>\n",
              "      <td>0.819766</td>\n",
              "      <td>0.132050</td>\n",
              "      <td>0.778778</td>\n",
              "      <td>0.408088</td>\n",
              "    </tr>\n",
              "    <tr>\n",
              "      <th>20</th>\n",
              "      <td>electra_extraction_111</td>\n",
              "      <td>0.780063</td>\n",
              "      <td>0.745778</td>\n",
              "      <td>0.813767</td>\n",
              "      <td>0.469055</td>\n",
              "      <td>0.796915</td>\n",
              "      <td>0.607417</td>\n",
              "    </tr>\n",
              "    <tr>\n",
              "      <th>21</th>\n",
              "      <td>electra_extraction_49</td>\n",
              "      <td>0.820908</td>\n",
              "      <td>0.795016</td>\n",
              "      <td>0.816909</td>\n",
              "      <td>0.451668</td>\n",
              "      <td>0.818909</td>\n",
              "      <td>0.623342</td>\n",
              "    </tr>\n",
              "    <tr>\n",
              "      <th>22</th>\n",
              "      <td>electra_extraction_51</td>\n",
              "      <td>0.836047</td>\n",
              "      <td>0.818277</td>\n",
              "      <td>0.820908</td>\n",
              "      <td>0.458081</td>\n",
              "      <td>0.828478</td>\n",
              "      <td>0.638179</td>\n",
              "    </tr>\n",
              "    <tr>\n",
              "      <th>23</th>\n",
              "      <td>electra_extraction_666</td>\n",
              "      <td>0.805198</td>\n",
              "      <td>0.778731</td>\n",
              "      <td>0.822051</td>\n",
              "      <td>0.475147</td>\n",
              "      <td>0.813625</td>\n",
              "      <td>0.626939</td>\n",
              "    </tr>\n",
              "    <tr>\n",
              "      <th>24</th>\n",
              "      <td>electra_extraction_77</td>\n",
              "      <td>0.828620</td>\n",
              "      <td>0.814971</td>\n",
              "      <td>0.824050</td>\n",
              "      <td>0.485810</td>\n",
              "      <td>0.826335</td>\n",
              "      <td>0.650391</td>\n",
              "    </tr>\n",
              "    <tr>\n",
              "      <th>25</th>\n",
              "      <td>majority_42</td>\n",
              "      <td>0.427306</td>\n",
              "      <td>0.085537</td>\n",
              "      <td>0.840046</td>\n",
              "      <td>0.000000</td>\n",
              "      <td>0.633676</td>\n",
              "      <td>0.042769</td>\n",
              "    </tr>\n",
              "    <tr>\n",
              "      <th>26</th>\n",
              "      <td>uniform_42</td>\n",
              "      <td>0.145387</td>\n",
              "      <td>0.121880</td>\n",
              "      <td>0.501857</td>\n",
              "      <td>0.239092</td>\n",
              "      <td>0.323622</td>\n",
              "      <td>0.180486</td>\n",
              "    </tr>\n",
              "  </tbody>\n",
              "</table>\n",
              "</div>"
            ],
            "text/plain": [
              "                          name  accuracy  f1_macro  accuracy_t      f1_t  \\\n",
              "0          bert_extraction_111  0.787775  0.769679    0.818338  0.470000   \n",
              "1           bert_extraction_49  0.814910  0.786842    0.818052  0.470490   \n",
              "2           bert_extraction_51  0.761497  0.721204    0.817195  0.486356   \n",
              "3          bert_extraction_666  0.815481  0.792455    0.824907  0.478298   \n",
              "4           bert_extraction_77  0.732648  0.685872    0.818052  0.478296   \n",
              "5   bert_extraction_freeze_111  0.394459  0.241391    0.814053  0.456140   \n",
              "6    bert_extraction_freeze_49  0.621251  0.556739    0.812911  0.493426   \n",
              "7    bert_extraction_freeze_51  0.607255  0.526527    0.808912  0.496614   \n",
              "8   bert_extraction_freeze_666  0.703228  0.662444    0.811197  0.483190   \n",
              "9    bert_extraction_freeze_77  0.741217  0.717597    0.815196  0.481986   \n",
              "10             bert_concat_111  0.853756  0.837150    0.808340  0.168525   \n",
              "11              bert_concat_49  0.849186  0.790091    0.839474  0.003546   \n",
              "12              bert_concat_51  0.860040  0.838365    0.811482  0.185185   \n",
              "13             bert_concat_666  0.870323  0.858133    0.814910  0.187970   \n",
              "14              bert_concat_77  0.831191  0.810354    0.816053  0.176471   \n",
              "15   bert_concat_nopooling_111  0.857755  0.837835    0.810911  0.149100   \n",
              "16    bert_concat_nopooling_49  0.869180  0.833745    0.837761  0.065789   \n",
              "17    bert_concat_nopooling_51  0.859183  0.836034    0.815196  0.198265   \n",
              "18   bert_concat_nopooling_666  0.868609  0.853210    0.819766  0.200253   \n",
              "19    bert_concat_nopooling_77  0.737789  0.684127    0.819766  0.132050   \n",
              "20      electra_extraction_111  0.780063  0.745778    0.813767  0.469055   \n",
              "21       electra_extraction_49  0.820908  0.795016    0.816909  0.451668   \n",
              "22       electra_extraction_51  0.836047  0.818277    0.820908  0.458081   \n",
              "23      electra_extraction_666  0.805198  0.778731    0.822051  0.475147   \n",
              "24       electra_extraction_77  0.828620  0.814971    0.824050  0.485810   \n",
              "25                 majority_42  0.427306  0.085537    0.840046  0.000000   \n",
              "26                  uniform_42  0.145387  0.121880    0.501857  0.239092   \n",
              "\n",
              "    avg_accuracy    avg_f1  \n",
              "0       0.803056  0.619840  \n",
              "1       0.816481  0.628666  \n",
              "2       0.789346  0.603780  \n",
              "3       0.820194  0.635376  \n",
              "4       0.775350  0.582084  \n",
              "5       0.604256  0.348766  \n",
              "6       0.717081  0.525083  \n",
              "7       0.708083  0.511571  \n",
              "8       0.757212  0.572817  \n",
              "9       0.778206  0.599791  \n",
              "10      0.831048  0.502838  \n",
              "11      0.844330  0.396818  \n",
              "12      0.835761  0.511775  \n",
              "13      0.842616  0.523052  \n",
              "14      0.823622  0.493412  \n",
              "15      0.834333  0.493467  \n",
              "16      0.853470  0.449767  \n",
              "17      0.837189  0.517149  \n",
              "18      0.844187  0.526732  \n",
              "19      0.778778  0.408088  \n",
              "20      0.796915  0.607417  \n",
              "21      0.818909  0.623342  \n",
              "22      0.828478  0.638179  \n",
              "23      0.813625  0.626939  \n",
              "24      0.826335  0.650391  \n",
              "25      0.633676  0.042769  \n",
              "26      0.323622  0.180486  "
            ]
          },
          "execution_count": 106,
          "metadata": {},
          "output_type": "execute_result"
        }
      ],
      "source": [
        "print(\"TEST_SPLIT PREFORMANCE TABLE\")\n",
        "table = test_report.get_performance_table(metrics = ['accuracy','f1_macro'])\n",
        "table_df = pd.DataFrame(table.values())\n",
        "table_df = table_df.map(lambda x: x.item() if type(x) == torch.Tensor else x)\n",
        "#create avg f1_score and avg_accuracy\n",
        "table_df['avg_accuracy'] = table_df[['accuracy','accuracy_t']].apply('mean', axis = 1)\n",
        "table_df['avg_f1'] = table_df[['f1_macro','f1_t']].apply('mean', axis = 1)\n",
        "table_df"
      ]
    },
    {
      "cell_type": "code",
      "execution_count": 54,
      "metadata": {},
      "outputs": [],
      "source": [
        "# BEST MODEL ELECTRA EXTRACTION 51 UNFREEZED!\n",
        "\n",
        "#BEST MODEL FOR EACH CATEGORY\n",
        "#bert extraction 666\n",
        "#bert extraction freeze 77\n",
        "#bert concat 51\n",
        "#bert concat nopooling 666\n",
        "#electra extraction 51\n",
        "bests = ['bert_extraction_666', 'bert_extraction_freeze_77', 'bert_concat_51', 'bert_concat_nopooling_666', 'electra_extraction_51']"
      ]
    },
    {
      "cell_type": "code",
      "execution_count": 108,
      "metadata": {},
      "outputs": [
        {
          "name": "stdout",
          "output_type": "stream",
          "text": [
            "TEST_SPLIT BESTS PREFORMANCE TABLE\n"
          ]
        },
        {
          "data": {
            "text/html": [
              "<div>\n",
              "<style scoped>\n",
              "    .dataframe tbody tr th:only-of-type {\n",
              "        vertical-align: middle;\n",
              "    }\n",
              "\n",
              "    .dataframe tbody tr th {\n",
              "        vertical-align: top;\n",
              "    }\n",
              "\n",
              "    .dataframe thead th {\n",
              "        text-align: right;\n",
              "    }\n",
              "</style>\n",
              "<table border=\"1\" class=\"dataframe\">\n",
              "  <thead>\n",
              "    <tr style=\"text-align: right;\">\n",
              "      <th></th>\n",
              "      <th>name</th>\n",
              "      <th>accuracy</th>\n",
              "      <th>f1_macro</th>\n",
              "      <th>accuracy_t</th>\n",
              "      <th>f1_t</th>\n",
              "      <th>avg_accuracy</th>\n",
              "      <th>avg_f1</th>\n",
              "    </tr>\n",
              "  </thead>\n",
              "  <tbody>\n",
              "    <tr>\n",
              "      <th>3</th>\n",
              "      <td>bert_extraction_666</td>\n",
              "      <td>0.815481</td>\n",
              "      <td>0.792455</td>\n",
              "      <td>0.824907</td>\n",
              "      <td>0.478298</td>\n",
              "      <td>0.820194</td>\n",
              "      <td>0.635376</td>\n",
              "    </tr>\n",
              "    <tr>\n",
              "      <th>9</th>\n",
              "      <td>bert_extraction_freeze_77</td>\n",
              "      <td>0.741217</td>\n",
              "      <td>0.717597</td>\n",
              "      <td>0.815196</td>\n",
              "      <td>0.481986</td>\n",
              "      <td>0.778206</td>\n",
              "      <td>0.599791</td>\n",
              "    </tr>\n",
              "    <tr>\n",
              "      <th>12</th>\n",
              "      <td>bert_concat_51</td>\n",
              "      <td>0.860040</td>\n",
              "      <td>0.838365</td>\n",
              "      <td>0.811482</td>\n",
              "      <td>0.185185</td>\n",
              "      <td>0.835761</td>\n",
              "      <td>0.511775</td>\n",
              "    </tr>\n",
              "    <tr>\n",
              "      <th>18</th>\n",
              "      <td>bert_concat_nopooling_666</td>\n",
              "      <td>0.868609</td>\n",
              "      <td>0.853210</td>\n",
              "      <td>0.819766</td>\n",
              "      <td>0.200253</td>\n",
              "      <td>0.844187</td>\n",
              "      <td>0.526732</td>\n",
              "    </tr>\n",
              "    <tr>\n",
              "      <th>22</th>\n",
              "      <td>electra_extraction_51</td>\n",
              "      <td>0.836047</td>\n",
              "      <td>0.818277</td>\n",
              "      <td>0.820908</td>\n",
              "      <td>0.458081</td>\n",
              "      <td>0.828478</td>\n",
              "      <td>0.638179</td>\n",
              "    </tr>\n",
              "  </tbody>\n",
              "</table>\n",
              "</div>"
            ],
            "text/plain": [
              "                         name  accuracy  f1_macro  accuracy_t      f1_t  \\\n",
              "3         bert_extraction_666  0.815481  0.792455    0.824907  0.478298   \n",
              "9   bert_extraction_freeze_77  0.741217  0.717597    0.815196  0.481986   \n",
              "12             bert_concat_51  0.860040  0.838365    0.811482  0.185185   \n",
              "18  bert_concat_nopooling_666  0.868609  0.853210    0.819766  0.200253   \n",
              "22      electra_extraction_51  0.836047  0.818277    0.820908  0.458081   \n",
              "\n",
              "    avg_accuracy    avg_f1  \n",
              "3       0.820194  0.635376  \n",
              "9       0.778206  0.599791  \n",
              "12      0.835761  0.511775  \n",
              "18      0.844187  0.526732  \n",
              "22      0.828478  0.638179  "
            ]
          },
          "execution_count": 108,
          "metadata": {},
          "output_type": "execute_result"
        }
      ],
      "source": [
        "print(\"TEST_SPLIT BESTS PREFORMANCE TABLE\")\n",
        "table = test_report.get_performance_table(metrics = ['accuracy','f1_macro'])\n",
        "table_df = pd.DataFrame(table.values())\n",
        "table_df = table_df.map(lambda x: x.item() if type(x) == torch.Tensor else x)\n",
        "#create avg f1_score and avg_accuracy\n",
        "table_df['avg_accuracy'] = table_df[['accuracy','accuracy_t']].apply('mean', axis = 1)\n",
        "table_df['avg_f1'] = table_df[['f1_macro','f1_t']].apply('mean', axis = 1)\n",
        "table_df = table_df[table_df['name'].isin(bests)]\n",
        "table_df"
      ]
    },
    {
      "cell_type": "code",
      "execution_count": 20,
      "metadata": {},
      "outputs": [
        {
          "data": {
            "image/png": "[encoded data removed]",
            "text/plain": [
              "<Figure size 640x480 with 1 Axes>"
            ]
          },
          "metadata": {},
          "output_type": "display_data"
        },
        {
          "data": {
            "image/png": "[encoded data removed]",
            "text/plain": [
              "<Figure size 640x480 with 1 Axes>"
            ]
          },
          "metadata": {},
          "output_type": "display_data"
        }
      ],
      "source": [
        "_ = val_report.get_confusion_matrix('electra_extraction_51', plot = True)\n",
        "_ = val_report.get_confusion_matrix('electra_extraction_51_t', plot = True)"
      ]
    },
    {
      "cell_type": "code",
      "execution_count": 105,
      "metadata": {},
      "outputs": [
        {
          "data": {
            "text/html": [
              "<div>\n",
              "<style scoped>\n",
              "    .dataframe tbody tr th:only-of-type {\n",
              "        vertical-align: middle;\n",
              "    }\n",
              "\n",
              "    .dataframe tbody tr th {\n",
              "        vertical-align: top;\n",
              "    }\n",
              "\n",
              "    .dataframe thead tr th {\n",
              "        text-align: left;\n",
              "    }\n",
              "</style>\n",
              "<table border=\"1\" class=\"dataframe\">\n",
              "  <thead>\n",
              "    <tr>\n",
              "      <th></th>\n",
              "      <th colspan=\"2\" halign=\"left\">emotion_accuracy</th>\n",
              "      <th colspan=\"2\" halign=\"left\">support</th>\n",
              "    </tr>\n",
              "    <tr>\n",
              "      <th></th>\n",
              "      <th>correct_t</th>\n",
              "      <th>bad_t</th>\n",
              "      <th>correct_t</th>\n",
              "      <th>bad_t</th>\n",
              "    </tr>\n",
              "  </thead>\n",
              "  <tbody>\n",
              "    <tr>\n",
              "      <th>bert_extraction_666</th>\n",
              "      <td>0.675214</td>\n",
              "      <td>0.725000</td>\n",
              "      <td>205.0</td>\n",
              "      <td>355.0</td>\n",
              "    </tr>\n",
              "    <tr>\n",
              "      <th>bert_extraction_freeze_77</th>\n",
              "      <td>0.643411</td>\n",
              "      <td>0.636364</td>\n",
              "      <td>224.0</td>\n",
              "      <td>336.0</td>\n",
              "    </tr>\n",
              "    <tr>\n",
              "      <th>bert_concat_51</th>\n",
              "      <td>0.619048</td>\n",
              "      <td>0.744304</td>\n",
              "      <td>54.0</td>\n",
              "      <td>506.0</td>\n",
              "    </tr>\n",
              "    <tr>\n",
              "      <th>bert_concat_nopooling_666</th>\n",
              "      <td>0.833333</td>\n",
              "      <td>0.753117</td>\n",
              "      <td>52.0</td>\n",
              "      <td>508.0</td>\n",
              "    </tr>\n",
              "    <tr>\n",
              "      <th>electra_extraction_51</th>\n",
              "      <td>0.666667</td>\n",
              "      <td>0.715170</td>\n",
              "      <td>201.0</td>\n",
              "      <td>359.0</td>\n",
              "    </tr>\n",
              "  </tbody>\n",
              "</table>\n",
              "</div>"
            ],
            "text/plain": [
              "                          emotion_accuracy             support       \n",
              "                                 correct_t     bad_t correct_t  bad_t\n",
              "bert_extraction_666               0.675214  0.725000     205.0  355.0\n",
              "bert_extraction_freeze_77         0.643411  0.636364     224.0  336.0\n",
              "bert_concat_51                    0.619048  0.744304      54.0  506.0\n",
              "bert_concat_nopooling_666         0.833333  0.753117      52.0  508.0\n",
              "electra_extraction_51             0.666667  0.715170     201.0  359.0"
            ]
          },
          "execution_count": 105,
          "metadata": {},
          "output_type": "execute_result"
        }
      ],
      "source": [
        "#get trigger effects of best models\n",
        "table = {}\n",
        "for name in bests:\n",
        "    table.update(test_report.get_trigger_effect(name))\n",
        "values = [np.array([np.array([v for v in scores.values()]).flatten() for scores in model.values()]).flatten().tolist() for model in table.values()]\n",
        "columns = next(iter(table.values())).keys()\n",
        "sub_columns = next(iter(next(iter(table.values())).values())).keys()\n",
        "indexes = table.keys()\n",
        "report_df = pd.DataFrame(values, columns = pd.MultiIndex.from_product([tuple(columns), tuple(sub_columns)]), index=indexes)\n",
        "report_df"
      ]
    },
    {
      "cell_type": "code",
      "execution_count": 56,
      "metadata": {},
      "outputs": [
        {
          "name": "stdout",
          "output_type": "stream",
          "text": [
            "                accuracy  dialogue_len\n",
            "episode                               \n",
            "utterance_1408  0.000000           4.0\n",
            "utterance_1445  0.000000           4.0\n",
            "utterance_2214  0.000000           3.0\n",
            "utterance_1515  0.166667           6.0\n",
            "utterance_3881  0.250000          12.0\n",
            "utterance_640   0.250000          12.0\n",
            "utterance_317   0.250000           4.0\n",
            "utterance_956   0.250000           4.0\n",
            "utterance_202   0.333333           6.0\n",
            "utterance_1129  0.333333           3.0\n",
            "utterance_1631  0.333333           3.0\n",
            "utterance_1696  0.333333           3.0\n",
            "utterance_2255  0.333333           3.0\n",
            "utterance_2300  0.333333           3.0\n",
            "utterance_2433  0.333333           3.0\n",
            "utterance_2680  0.333333           3.0\n",
            "utterance_2888  0.333333           3.0\n",
            "utterance_2961  0.333333           3.0\n",
            "utterance_3296  0.333333           3.0\n",
            "utterance_3312  0.333333           3.0\n",
            "utterance_488   0.333333           3.0\n",
            "utterance_1522  0.375000           8.0\n",
            "utterance_1589  0.375000           8.0\n",
            "utterance_3880  0.375000           8.0\n",
            "utterance_641   0.384615          13.0\n",
            "utterance_2363  0.400000           5.0\n",
            "utterance_3459  0.400000           5.0\n",
            "utterance_3878  0.400000           5.0\n",
            "utterance_418   0.400000           5.0\n",
            "utterance_562   0.400000           5.0\n",
            "utterance_2799  0.454545          11.0\n",
            "utterance_3885  0.500000          12.0\n",
            "utterance_2556  0.500000          10.0\n",
            "utterance_3430  0.500000          10.0\n",
            "utterance_3582  0.500000          10.0\n",
            "utterance_400   0.500000          10.0\n",
            "utterance_3581  0.500000           8.0\n",
            "utterance_2773  0.500000           6.0\n",
            "utterance_2853  0.500000           6.0\n",
            "utterance_3134  0.500000           6.0\n",
            "utterance_3314  0.500000           6.0\n",
            "utterance_1076  0.500000           4.0\n",
            "utterance_1152  0.500000           4.0\n",
            "utterance_1369  0.500000           4.0\n",
            "utterance_200   0.500000           4.0\n",
            "utterance_2640  0.500000           4.0\n",
            "utterance_3458  0.500000           4.0\n",
            "utterance_3773  0.500000           4.0\n",
            "utterance_683   0.500000           4.0\n",
            "utterance_1981  0.500000           2.0\n",
            "utterance_2454  0.500000           2.0\n",
            "utterance_3478  0.500000           2.0\n",
            "utterance_2675  0.538462          13.0\n",
            "utterance_3445  0.538462          13.0\n",
            "utterance_2557  0.545455          11.0\n",
            "utterance_608   0.545455          11.0\n",
            "utterance_1154  0.555556           9.0\n",
            "utterance_1520  0.555556           9.0\n",
            "utterance_206   0.571429           7.0\n",
            "utterance_2267  0.571429           7.0\n",
            "utterance_2435  0.571429           7.0\n",
            "utterance_2869  0.571429           7.0\n",
            "utterance_452   0.571429           7.0\n",
            "utterance_1648  0.583333          12.0\n",
            "utterance_1130  0.600000           5.0\n",
            "utterance_1153  0.600000           5.0\n",
            "utterance_1367  0.600000           5.0\n",
            "utterance_1443  0.600000           5.0\n",
            "utterance_201   0.600000           5.0\n",
            "utterance_403   0.600000           5.0\n",
            "utterance_3397  0.625000           8.0\n",
            "utterance_391   0.625000           8.0\n",
            "utterance_648   0.636364          11.0\n",
            "utterance_2558  0.642857          14.0\n",
            "utterance_2101  0.666667          12.0\n",
            "utterance_3796  0.666667          12.0\n",
            "utterance_955   0.666667          12.0\n",
            "utterance_1059  0.666667           9.0\n",
            "utterance_1479  0.666667           9.0\n",
            "utterance_392   0.666667           9.0\n",
            "utterance_870   0.666667           9.0\n",
            "utterance_1923  0.666667           6.0\n",
            "utterance_2062  0.666667           6.0\n",
            "utterance_2489  0.666667           6.0\n",
            "utterance_2660  0.666667           6.0\n",
            "utterance_293   0.666667           6.0\n",
            "utterance_2999  0.666667           6.0\n",
            "utterance_3298  0.666667           6.0\n",
            "utterance_3499  0.666667           6.0\n",
            "utterance_1082  0.666667           3.0\n",
            "utterance_1438  0.666667           3.0\n",
            "utterance_1853  0.666667           3.0\n",
            "utterance_1930  0.666667           3.0\n",
            "utterance_2038  0.666667           3.0\n",
            "utterance_2041  0.666667           3.0\n",
            "utterance_2568  0.666667           3.0\n",
            "utterance_2612  0.666667           3.0\n",
            "utterance_3772  0.666667           3.0\n",
            "utterance_3982  0.666667           3.0\n",
            "utterance_492   0.666667           3.0\n",
            "utterance_860   0.666667           3.0\n",
            "utterance_3625  0.687500          16.0\n",
            "utterance_130   0.700000          10.0\n",
            "utterance_1734  0.700000          10.0\n",
            "utterance_2191  0.700000          10.0\n",
            "utterance_2863  0.700000          10.0\n",
            "utterance_3444  0.700000          10.0\n",
            "utterance_3690  0.700000          10.0\n",
            "utterance_3743  0.700000          10.0\n",
            "utterance_1162  0.714286           7.0\n",
            "utterance_1495  0.714286           7.0\n",
            "utterance_2146  0.714286           7.0\n",
            "utterance_2200  0.714286           7.0\n",
            "utterance_262   0.714286           7.0\n",
            "utterance_2777  0.714286           7.0\n",
            "utterance_3839  0.714286           7.0\n",
            "utterance_1698  0.727273          11.0\n",
            "utterance_2904  0.750000          12.0\n",
            "utterance_3060  0.750000          12.0\n",
            "utterance_3753  0.750000          12.0\n",
            "utterance_1478  0.750000           8.0\n",
            "utterance_1496  0.750000           8.0\n",
            "utterance_2796  0.750000           8.0\n",
            "utterance_3099  0.750000           8.0\n",
            "utterance_3255  0.750000           8.0\n",
            "utterance_863   0.750000           8.0\n",
            "utterance_1439  0.750000           4.0\n",
            "utterance_1585  0.750000           4.0\n",
            "utterance_2061  0.750000           4.0\n",
            "utterance_2198  0.750000           4.0\n",
            "utterance_2294  0.750000           4.0\n",
            "utterance_2301  0.750000           4.0\n",
            "utterance_2432  0.750000           4.0\n",
            "utterance_2598  0.750000           4.0\n",
            "utterance_2613  0.750000           4.0\n",
            "utterance_3533  0.750000           4.0\n",
            "utterance_623   0.750000           4.0\n",
            "utterance_1603  0.769231          13.0\n",
            "utterance_1638  0.769231          13.0\n",
            "utterance_1751  0.769231          13.0\n",
            "utterance_3547  0.769231          13.0\n",
            "utterance_1843  0.777778           9.0\n",
            "utterance_21    0.777778           9.0\n",
            "utterance_2919  0.777778           9.0\n",
            "utterance_3062  0.785714          14.0\n",
            "utterance_878   0.785714          14.0\n",
            "utterance_502   0.789474          19.0\n",
            "utterance_1796  0.800000          15.0\n",
            "utterance_2848  0.800000          15.0\n",
            "utterance_1500  0.800000          10.0\n",
            "utterance_1636  0.800000          10.0\n",
            "utterance_3385  0.800000          10.0\n",
            "utterance_1147  0.800000           5.0\n",
            "utterance_1682  0.800000           5.0\n",
            "utterance_1722  0.800000           5.0\n",
            "utterance_2139  0.800000           5.0\n",
            "utterance_3119  0.800000           5.0\n",
            "utterance_3302  0.800000           5.0\n",
            "utterance_3843  0.800000           5.0\n",
            "utterance_2734  0.812500          16.0\n",
            "utterance_1180  0.818182          22.0\n",
            "utterance_2343  0.818182          11.0\n",
            "utterance_2520  0.818182          11.0\n",
            "utterance_2731  0.818182          11.0\n",
            "utterance_2911  0.818182          11.0\n",
            "utterance_3184  0.823529          17.0\n",
            "utterance_3681  0.833333          12.0\n",
            "utterance_1238  0.833333           6.0\n",
            "utterance_1634  0.833333           6.0\n",
            "utterance_1881  0.833333           6.0\n",
            "utterance_2199  0.833333           6.0\n",
            "utterance_3457  0.833333           6.0\n",
            "utterance_3741  0.833333           6.0\n",
            "utterance_1794  0.846154          13.0\n",
            "utterance_2027  0.846154          13.0\n",
            "utterance_3157  0.846154          13.0\n",
            "utterance_3510  0.846154          13.0\n",
            "utterance_3862  0.846154          13.0\n",
            "utterance_600   0.846154          13.0\n",
            "utterance_877   0.846154          13.0\n",
            "utterance_3369  0.850000          20.0\n",
            "utterance_659   0.850000          20.0\n",
            "utterance_766   0.850000          20.0\n",
            "utterance_2976  0.857143          21.0\n",
            "utterance_1661  0.857143          14.0\n",
            "utterance_1184  0.857143           7.0\n",
            "utterance_3112  0.857143           7.0\n",
            "utterance_3627  0.857143           7.0\n",
            "utterance_3632  0.857143           7.0\n",
            "utterance_3769  0.857143           7.0\n",
            "utterance_3820  0.857143           7.0\n",
            "utterance_3890  0.857143           7.0\n",
            "utterance_795   0.857143           7.0\n",
            "utterance_2237  0.863636          22.0\n",
            "utterance_1570  0.866667          15.0\n",
            "utterance_3183  0.866667          15.0\n",
            "utterance_34    0.866667          15.0\n",
            "utterance_3805  0.866667          15.0\n",
            "utterance_1678  0.875000          16.0\n",
            "utterance_3810  0.875000          16.0\n",
            "utterance_466   0.875000          16.0\n",
            "utterance_1095  0.875000           8.0\n",
            "utterance_1733  0.875000           8.0\n",
            "utterance_2572  0.875000           8.0\n",
            "utterance_2767  0.875000           8.0\n",
            "utterance_646   0.875000           8.0\n",
            "utterance_95    0.875000           8.0\n",
            "utterance_2253  0.882353          17.0\n",
            "utterance_2511  0.882353          17.0\n",
            "utterance_2939  0.888889          18.0\n",
            "utterance_1136  0.888889           9.0\n",
            "utterance_2336  0.888889           9.0\n",
            "utterance_3219  0.888889           9.0\n",
            "utterance_337   0.888889           9.0\n",
            "utterance_835   0.888889           9.0\n",
            "utterance_1297  0.894737          19.0\n",
            "utterance_1016  0.900000          10.0\n",
            "utterance_146   0.900000          10.0\n",
            "utterance_1685  0.900000          10.0\n",
            "utterance_2088  0.900000          10.0\n",
            "utterance_2532  0.900000          10.0\n",
            "utterance_3092  0.900000          10.0\n",
            "utterance_3304  0.900000          10.0\n",
            "utterance_3507  0.900000          10.0\n",
            "utterance_3696  0.900000          10.0\n",
            "utterance_995   0.900000          10.0\n",
            "utterance_3234  0.904762          21.0\n",
            "utterance_1291  0.909091          11.0\n",
            "utterance_1434  0.909091          11.0\n",
            "utterance_1643  0.909091          11.0\n",
            "utterance_2068  0.909091          11.0\n",
            "utterance_2264  0.909091          11.0\n",
            "utterance_627   0.909091          11.0\n",
            "utterance_804   0.909091          11.0\n",
            "utterance_1215  0.913043          23.0\n",
            "utterance_1354  0.913043          23.0\n",
            "utterance_103   0.916667          12.0\n",
            "utterance_1267  0.916667          12.0\n",
            "utterance_2278  0.916667          12.0\n",
            "utterance_2160  0.923077          13.0\n",
            "utterance_3417  0.923077          13.0\n",
            "utterance_379   0.923077          13.0\n",
            "utterance_1695  0.928571          14.0\n",
            "utterance_2449  0.928571          14.0\n",
            "utterance_2814  0.928571          14.0\n",
            "utterance_459   0.928571          14.0\n",
            "utterance_197   0.933333          15.0\n",
            "utterance_2690  0.933333          15.0\n",
            "utterance_3342  0.933333          15.0\n",
            "utterance_3380  0.933333          15.0\n",
            "utterance_3419  0.933333          15.0\n",
            "utterance_1028  0.937500          16.0\n",
            "utterance_1294  0.937500          16.0\n",
            "utterance_1819  0.937500          16.0\n",
            "utterance_2317  0.937500          16.0\n",
            "utterance_3420  0.937500          16.0\n",
            "utterance_1363  0.941176          17.0\n",
            "utterance_1806  0.941176          17.0\n",
            "utterance_2450  0.941176          17.0\n",
            "utterance_3850  0.941176          17.0\n",
            "utterance_64    0.941176          17.0\n",
            "utterance_1597  0.947368          19.0\n",
            "utterance_2235  0.947368          19.0\n",
            "utterance_3899  0.947368          19.0\n",
            "utterance_1955  0.952381          21.0\n",
            "utterance_2327  1.000000          19.0\n",
            "utterance_2169  1.000000          18.0\n",
            "utterance_186   1.000000          17.0\n",
            "utterance_3073  1.000000          17.0\n",
            "utterance_763   1.000000          17.0\n",
            "utterance_1768  1.000000          16.0\n",
            "utterance_1895  1.000000          16.0\n",
            "utterance_709   1.000000          15.0\n",
            "utterance_2324  1.000000          14.0\n",
            "utterance_3202  1.000000          14.0\n",
            "utterance_3556  1.000000          14.0\n",
            "utterance_1306  1.000000          13.0\n",
            "utterance_2393  1.000000          13.0\n",
            "utterance_3735  1.000000          13.0\n",
            "utterance_3950  1.000000          13.0\n",
            "utterance_2604  1.000000          12.0\n",
            "utterance_2625  1.000000          12.0\n",
            "utterance_3895  1.000000          12.0\n",
            "utterance_3913  1.000000          12.0\n",
            "utterance_1327  1.000000          11.0\n",
            "utterance_1529  1.000000          11.0\n",
            "utterance_2391  1.000000          11.0\n",
            "utterance_2811  1.000000          11.0\n",
            "utterance_3171  1.000000          11.0\n",
            "utterance_3474  1.000000          11.0\n",
            "utterance_378   1.000000          11.0\n",
            "utterance_815   1.000000          11.0\n",
            "utterance_1528  1.000000          10.0\n",
            "utterance_1759  1.000000          10.0\n",
            "utterance_1863  1.000000          10.0\n",
            "utterance_1899  1.000000          10.0\n",
            "utterance_241   1.000000          10.0\n",
            "utterance_2790  1.000000          10.0\n",
            "utterance_3029  1.000000          10.0\n",
            "utterance_3912  1.000000          10.0\n",
            "utterance_854   1.000000          10.0\n",
            "utterance_122   1.000000           9.0\n",
            "utterance_1707  1.000000           9.0\n",
            "utterance_1802  1.000000           9.0\n",
            "utterance_2385  1.000000           9.0\n",
            "utterance_2729  1.000000           9.0\n",
            "utterance_3104  1.000000           9.0\n",
            "utterance_3170  1.000000           9.0\n",
            "utterance_663   1.000000           9.0\n",
            "utterance_779   1.000000           9.0\n",
            "utterance_1534  1.000000           8.0\n",
            "utterance_1757  1.000000           8.0\n",
            "utterance_1787  1.000000           8.0\n",
            "utterance_2049  1.000000           8.0\n",
            "utterance_2695  1.000000           8.0\n",
            "utterance_3485  1.000000           8.0\n",
            "utterance_3750  1.000000           8.0\n",
            "utterance_3798  1.000000           8.0\n",
            "utterance_769   1.000000           8.0\n",
            "utterance_1     1.000000           7.0\n",
            "utterance_1021  1.000000           7.0\n",
            "utterance_1275  1.000000           7.0\n",
            "utterance_1390  1.000000           7.0\n",
            "utterance_1485  1.000000           7.0\n",
            "utterance_2182  1.000000           7.0\n",
            "utterance_2879  1.000000           7.0\n",
            "utterance_3005  1.000000           7.0\n",
            "utterance_3638  1.000000           7.0\n",
            "utterance_3646  1.000000           7.0\n",
            "utterance_3893  1.000000           7.0\n",
            "utterance_455   1.000000           7.0\n",
            "utterance_586   1.000000           7.0\n",
            "utterance_747   1.000000           7.0\n",
            "utterance_972   1.000000           7.0\n",
            "utterance_1020  1.000000           6.0\n",
            "utterance_1051  1.000000           6.0\n",
            "utterance_1183  1.000000           6.0\n",
            "utterance_1400  1.000000           6.0\n",
            "utterance_1484  1.000000           6.0\n",
            "utterance_161   1.000000           6.0\n",
            "utterance_1998  1.000000           6.0\n",
            "utterance_2047  1.000000           6.0\n",
            "utterance_2135  1.000000           6.0\n",
            "utterance_2693  1.000000           6.0\n",
            "utterance_2945  1.000000           6.0\n",
            "utterance_2977  1.000000           6.0\n",
            "utterance_3242  1.000000           6.0\n",
            "utterance_3272  1.000000           6.0\n",
            "utterance_3461  1.000000           6.0\n",
            "utterance_3762  1.000000           6.0\n",
            "utterance_474   1.000000           6.0\n",
            "utterance_98    1.000000           6.0\n",
            "utterance_1038  1.000000           5.0\n",
            "utterance_1282  1.000000           5.0\n",
            "utterance_1579  1.000000           5.0\n",
            "utterance_1704  1.000000           5.0\n",
            "utterance_1884  1.000000           5.0\n",
            "utterance_253   1.000000           5.0\n",
            "utterance_2842  1.000000           5.0\n",
            "utterance_2944  1.000000           5.0\n",
            "utterance_3003  1.000000           5.0\n",
            "utterance_3152  1.000000           5.0\n",
            "utterance_3174  1.000000           5.0\n",
            "utterance_3289  1.000000           5.0\n",
            "utterance_3645  1.000000           5.0\n",
            "utterance_3791  1.000000           5.0\n",
            "utterance_563   1.000000           5.0\n",
            "utterance_1482  1.000000           4.0\n",
            "utterance_160   1.000000           4.0\n",
            "utterance_1663  1.000000           4.0\n",
            "utterance_2056  1.000000           4.0\n",
            "utterance_2931  1.000000           4.0\n",
            "utterance_3002  1.000000           4.0\n",
            "utterance_3748  1.000000           4.0\n",
            "utterance_3766  1.000000           4.0\n",
            "utterance_3886  1.000000           4.0\n",
            "utterance_397   1.000000           4.0\n",
            "utterance_775   1.000000           4.0\n",
            "utterance_1257  1.000000           3.0\n",
            "utterance_189   1.000000           3.0\n",
            "utterance_1919  1.000000           3.0\n",
            "utterance_1959  1.000000           3.0\n",
            "utterance_1969  1.000000           3.0\n",
            "utterance_1986  1.000000           3.0\n",
            "utterance_2824  1.000000           3.0\n",
            "utterance_3065  1.000000           3.0\n",
            "utterance_3108  1.000000           3.0\n",
            "utterance_3191  1.000000           3.0\n",
            "utterance_3561  1.000000           3.0\n",
            "utterance_3643  1.000000           3.0\n",
            "utterance_3923  1.000000           3.0\n",
            "utterance_540   1.000000           3.0\n",
            "utterance_698   1.000000           3.0\n",
            "utterance_702   1.000000           3.0\n",
            "utterance_791   1.000000           3.0\n",
            "utterance_880   1.000000           3.0\n",
            "utterance_960   1.000000           3.0\n",
            "utterance_975   1.000000           3.0\n",
            "utterance_2747  1.000000           2.0\n",
            "utterance_330   1.000000           2.0\n"
          ]
        }
      ],
      "source": [
        "with pd.option_context('display.max_rows', None):\n",
        "    print(test_report.get_utterance_ranking('electra_extraction_51'))\n",
        "#make a graph?"
      ]
    },
    {
      "cell_type": "code",
      "execution_count": 64,
      "metadata": {},
      "outputs": [
        {
          "data": {
            "text/plain": [
              "<Axes: title={'center': 'Dialogue emotion accuracy by length'}, xlabel='dialogue_len'>"
            ]
          },
          "execution_count": 64,
          "metadata": {},
          "output_type": "execute_result"
        },
        {
          "data": {
            "image/png": "[encoded data removed]",
            "text/plain": [
              "<Figure size 640x480 with 1 Axes>"
            ]
          },
          "metadata": {},
          "output_type": "display_data"
        }
      ],
      "source": [
        "#accuracy plot by len\n",
        "test_report.get_utterance_ranking('electra_extraction_51').groupby(['dialogue_len']).mean().plot(kind='bar', title='Dialogue emotion accuracy by length')"
      ]
    },
    {
      "cell_type": "code",
      "execution_count": 77,
      "metadata": {},
      "outputs": [
        {
          "data": {
            "text/html": [
              "<div>\n",
              "<style scoped>\n",
              "    .dataframe tbody tr th:only-of-type {\n",
              "        vertical-align: middle;\n",
              "    }\n",
              "\n",
              "    .dataframe tbody tr th {\n",
              "        vertical-align: top;\n",
              "    }\n",
              "\n",
              "    .dataframe thead th {\n",
              "        text-align: right;\n",
              "    }\n",
              "</style>\n",
              "<table border=\"1\" class=\"dataframe\">\n",
              "  <thead>\n",
              "    <tr style=\"text-align: right;\">\n",
              "      <th></th>\n",
              "      <th>name</th>\n",
              "      <th>sadness_acc</th>\n",
              "      <th>fear_acc</th>\n",
              "      <th>disgust_acc</th>\n",
              "      <th>surprise_acc</th>\n",
              "      <th>neutral_acc</th>\n",
              "      <th>anger_acc</th>\n",
              "      <th>joy_acc</th>\n",
              "      <th>sadness_f1</th>\n",
              "      <th>fear_f1</th>\n",
              "      <th>disgust_f1</th>\n",
              "      <th>surprise_f1</th>\n",
              "      <th>neutral_f1</th>\n",
              "      <th>anger_f1</th>\n",
              "      <th>joy_f1</th>\n",
              "    </tr>\n",
              "  </thead>\n",
              "  <tbody>\n",
              "    <tr>\n",
              "      <th>3</th>\n",
              "      <td>bert_extraction_666</td>\n",
              "      <td>0.750000</td>\n",
              "      <td>0.764228</td>\n",
              "      <td>0.747748</td>\n",
              "      <td>0.854167</td>\n",
              "      <td>0.826872</td>\n",
              "      <td>0.810345</td>\n",
              "      <td>0.813996</td>\n",
              "      <td>0.763441</td>\n",
              "      <td>0.773663</td>\n",
              "      <td>0.775701</td>\n",
              "      <td>0.789981</td>\n",
              "      <td>0.856648</td>\n",
              "      <td>0.794926</td>\n",
              "      <td>0.792825</td>\n",
              "    </tr>\n",
              "    <tr>\n",
              "      <th>9</th>\n",
              "      <td>bert_extraction_freeze_77</td>\n",
              "      <td>0.633803</td>\n",
              "      <td>0.788618</td>\n",
              "      <td>0.621622</td>\n",
              "      <td>0.825000</td>\n",
              "      <td>0.753342</td>\n",
              "      <td>0.706897</td>\n",
              "      <td>0.732965</td>\n",
              "      <td>0.634921</td>\n",
              "      <td>0.795082</td>\n",
              "      <td>0.660287</td>\n",
              "      <td>0.747875</td>\n",
              "      <td>0.793942</td>\n",
              "      <td>0.679089</td>\n",
              "      <td>0.711986</td>\n",
              "    </tr>\n",
              "    <tr>\n",
              "      <th>12</th>\n",
              "      <td>bert_concat_51</td>\n",
              "      <td>0.820423</td>\n",
              "      <td>0.829268</td>\n",
              "      <td>0.747748</td>\n",
              "      <td>0.875000</td>\n",
              "      <td>0.882353</td>\n",
              "      <td>0.836207</td>\n",
              "      <td>0.856354</td>\n",
              "      <td>0.802065</td>\n",
              "      <td>0.864407</td>\n",
              "      <td>0.772093</td>\n",
              "      <td>0.873181</td>\n",
              "      <td>0.892495</td>\n",
              "      <td>0.831726</td>\n",
              "      <td>0.832587</td>\n",
              "    </tr>\n",
              "    <tr>\n",
              "      <th>18</th>\n",
              "      <td>bert_concat_nopooling_666</td>\n",
              "      <td>0.823944</td>\n",
              "      <td>0.837398</td>\n",
              "      <td>0.801802</td>\n",
              "      <td>0.868750</td>\n",
              "      <td>0.887701</td>\n",
              "      <td>0.866379</td>\n",
              "      <td>0.861878</td>\n",
              "      <td>0.823944</td>\n",
              "      <td>0.887931</td>\n",
              "      <td>0.805430</td>\n",
              "      <td>0.861570</td>\n",
              "      <td>0.896994</td>\n",
              "      <td>0.852598</td>\n",
              "      <td>0.844004</td>\n",
              "    </tr>\n",
              "    <tr>\n",
              "      <th>22</th>\n",
              "      <td>electra_extraction_51</td>\n",
              "      <td>0.785211</td>\n",
              "      <td>0.821138</td>\n",
              "      <td>0.729730</td>\n",
              "      <td>0.875000</td>\n",
              "      <td>0.842246</td>\n",
              "      <td>0.840517</td>\n",
              "      <td>0.832413</td>\n",
              "      <td>0.779720</td>\n",
              "      <td>0.845188</td>\n",
              "      <td>0.778846</td>\n",
              "      <td>0.830861</td>\n",
              "      <td>0.869565</td>\n",
              "      <td>0.810811</td>\n",
              "      <td>0.812950</td>\n",
              "    </tr>\n",
              "  </tbody>\n",
              "</table>\n",
              "</div>"
            ],
            "text/plain": [
              "                         name  sadness_acc  fear_acc  disgust_acc  \\\n",
              "3         bert_extraction_666     0.750000  0.764228     0.747748   \n",
              "9   bert_extraction_freeze_77     0.633803  0.788618     0.621622   \n",
              "12             bert_concat_51     0.820423  0.829268     0.747748   \n",
              "18  bert_concat_nopooling_666     0.823944  0.837398     0.801802   \n",
              "22      electra_extraction_51     0.785211  0.821138     0.729730   \n",
              "\n",
              "    surprise_acc  neutral_acc  anger_acc   joy_acc  sadness_f1   fear_f1  \\\n",
              "3       0.854167     0.826872   0.810345  0.813996    0.763441  0.773663   \n",
              "9       0.825000     0.753342   0.706897  0.732965    0.634921  0.795082   \n",
              "12      0.875000     0.882353   0.836207  0.856354    0.802065  0.864407   \n",
              "18      0.868750     0.887701   0.866379  0.861878    0.823944  0.887931   \n",
              "22      0.875000     0.842246   0.840517  0.832413    0.779720  0.845188   \n",
              "\n",
              "    disgust_f1  surprise_f1  neutral_f1  anger_f1    joy_f1  \n",
              "3     0.775701     0.789981    0.856648  0.794926  0.792825  \n",
              "9     0.660287     0.747875    0.793942  0.679089  0.711986  \n",
              "12    0.772093     0.873181    0.892495  0.831726  0.832587  \n",
              "18    0.805430     0.861570    0.896994  0.852598  0.844004  \n",
              "22    0.778846     0.830861    0.869565  0.810811  0.812950  "
            ]
          },
          "execution_count": 77,
          "metadata": {},
          "output_type": "execute_result"
        }
      ],
      "source": [
        "table = test_report.get_emotions_table()\n",
        "table_df = pd.DataFrame(table.values())\n",
        "table_df = table_df.map(lambda x: x.item() if type(x) == torch.Tensor else x)\n",
        "table_df = table_df[table_df['name'].isin(bests)]\n",
        "table_df"
      ]
    },
    {
      "cell_type": "code",
      "execution_count": 24,
      "metadata": {},
      "outputs": [
        {
          "name": "stdout",
          "output_type": "stream",
          "text": [
            "             episode  utterance_index preds emotions  preds_t  triggers\n",
            "0     utterance_3881                0     4        4        0         0\n",
            "1     utterance_3881                1     3        4        0         0\n",
            "2     utterance_3881                2     6        6        0         0\n",
            "3     utterance_3881                3     4        2        0         0\n",
            "4     utterance_3881                4     5        2        0         0\n",
            "5     utterance_3881                5     4        0        0         0\n",
            "6     utterance_3881                6     5        4        0         0\n",
            "7     utterance_3881                7     4        6        0         0\n",
            "8     utterance_3881                8     4        4        0         0\n",
            "9     utterance_3881                9     3        2        0         0\n",
            "10    utterance_3881               10     5        4        1         0\n",
            "11    utterance_3881               11     5        6        1         1\n",
            "182   utterance_1445                0     4        5        0         0\n",
            "183   utterance_1445                1     5        6        0         0\n",
            "184   utterance_1445                2     4        0        0         0\n",
            "185   utterance_1445                3     3        0        0         0\n",
            "1426  utterance_1408                0     5        4        0         0\n",
            "1427  utterance_1408                1     5        6        1         0\n",
            "1428  utterance_1408                2     0        4        0         0\n",
            "1429  utterance_1408                3     5        3        0         0\n",
            "2912  utterance_2214                0     1        4        1         0\n",
            "2913  utterance_2214                1     0        2        1         1\n",
            "2914  utterance_2214                2     5        3        1         0\n",
            "3273  utterance_1515                0     4        4        0         0\n",
            "3274  utterance_1515                1     1        5        0         0\n",
            "3275  utterance_1515                2     6        5        0         0\n",
            "3276  utterance_1515                3     3        5        0         0\n",
            "3277  utterance_1515                4     6        5        0         0\n",
            "3278  utterance_1515                5     4        3        1         1\n",
            "                dialogue_index  utterance_index  \\\n",
            "episode                                           \n",
            "utterance_1408             165                0   \n",
            "utterance_1445              21                0   \n",
            "utterance_1515             375                0   \n",
            "utterance_2214             335                0   \n",
            "utterance_3881               0                0   \n",
            "\n",
            "                                                                                                                                                                                                                                                                                                                                                                                                                                                                  dialogue_text  \n",
            "episode                                                                                                                                                                                                                                                                                                                                                                                                                                                                          \n",
            "utterance_1408                                                                                                                                                                                                                                                                                               Really Mr. Geller, you don't have to do this.[SEP]Oh come on! Here we go!  Stand by for mission countdown![SEP]I'm an alien. I'm an alien.[SEP]Oh no! An asteroid!  \n",
            "utterance_1445                                                                                                                                                                                                                                                                                                                                  Well, that's not something a girl wants to hear.[SEP]No, come on don't start.  Ouch![SEP]What?[SEP]Stupid balls are in the way.  \n",
            "utterance_1515                                                                                                                                                                                                                                                                                                                               Oh good, okay, I can't take it anymore.[SEP]I can't take it anymore.[SEP]So you win, okay?[SEP]Here![SEP]Pheebs?[SEP]Flying a jet?  \n",
            "utterance_2214                                                                                                                                                                                                                                                                                                                       Okay, look, I-I know what you guys are going to say[SEP]You two will have very hairy children.[SEP]Okay, I didn't know you would say that.  \n",
            "utterance_3881  Hey, y'know what a really good rainy day game is?[SEP]What?![SEP]I mean naked game. Strip poker, we should totally play strip poker.[SEP]No, no![SEP]What are you crazy?![SEP]Come on! When you go away, you-you have to play, it's like a law![SEP]Allll done![SEP]Aww, thank you.[SEP]Okay, who's next?![SEP]No-o-o!  No way![SEP]Come on, please?! I'm boredddd! You let me do it once before.[SEP]Yeah well, if ah, if that's the rule this weekend...  No!  \n"
          ]
        },
        {
          "name": "stderr",
          "output_type": "stream",
          "text": [
            "C:\\Users\\cacio\\AppData\\Local\\Temp\\ipykernel_11084\\476799291.py:6: SettingWithCopyWarning: \n",
            "A value is trying to be set on a copy of a slice from a DataFrame.\n",
            "Try using .loc[row_indexer,col_indexer] = value instead\n",
            "\n",
            "See the caveats in the documentation: https://pandas.pydata.org/pandas-docs/stable/user_guide/indexing.html#returning-a-view-versus-a-copy\n",
            "  table['preds'] = table['electra_extraction_51'].apply(lambda x: labels[x.argmax(-1).item()])\n",
            "C:\\Users\\cacio\\AppData\\Local\\Temp\\ipykernel_11084\\476799291.py:7: SettingWithCopyWarning: \n",
            "A value is trying to be set on a copy of a slice from a DataFrame.\n",
            "Try using .loc[row_indexer,col_indexer] = value instead\n",
            "\n",
            "See the caveats in the documentation: https://pandas.pydata.org/pandas-docs/stable/user_guide/indexing.html#returning-a-view-versus-a-copy\n",
            "  table['emotions'] = table['emotions_id'].apply(lambda x: labels[int(x)])\n",
            "C:\\Users\\cacio\\AppData\\Local\\Temp\\ipykernel_11084\\476799291.py:8: SettingWithCopyWarning: \n",
            "A value is trying to be set on a copy of a slice from a DataFrame.\n",
            "Try using .loc[row_indexer,col_indexer] = value instead\n",
            "\n",
            "See the caveats in the documentation: https://pandas.pydata.org/pandas-docs/stable/user_guide/indexing.html#returning-a-view-versus-a-copy\n",
            "  table['preds_t'] = table['electra_extraction_51_t'].apply(lambda x: (x>0.5).int().item())\n"
          ]
        }
      ],
      "source": [
        "worsts_dialogues = test_report.get_utterance_ranking('electra_extraction_51').iloc[:5].index.values\n",
        "labels = test_report.emotion_labels\n",
        "\n",
        "table = test_report.df\n",
        "table = table[table['episode'].isin(worsts_dialogues)]\n",
        "table['preds'] = table['electra_extraction_51'].apply(lambda x: labels[x.argmax(-1).item()])\n",
        "table['emotions'] = table['emotions_id'].apply(lambda x: labels[int(x)])\n",
        "table['preds_t'] = table['electra_extraction_51_t'].apply(lambda x: (x>0.5).int().item())\n",
        "with pd.option_context('display.max_columns', None): \n",
        "    print(table[['episode','utterance_index','preds', 'emotions', 'preds_t', 'triggers',]])\n",
        "with pd.option_context('display.max_colwidth', None): \n",
        "    print(table.groupby('episode').first()[['dialogue_index','utterance_index','dialogue_text']])\n"
      ]
    },
    {
      "cell_type": "code",
      "execution_count": 38,
      "metadata": {},
      "outputs": [
        {
          "name": "stdout",
          "output_type": "stream",
          "text": [
            "             episode  utterance_index preds emotions  preds_t  triggers\n",
            "2559   utterance_815                0     6        6        0         0\n",
            "2560   utterance_815                1     4        4        0         0\n",
            "2561   utterance_815                2     4        4        0         0\n",
            "2562   utterance_815                3     6        6        0         0\n",
            "2563   utterance_815                4     0        0        0         0\n",
            "2564   utterance_815                5     6        6        0         0\n",
            "2565   utterance_815                6     4        4        0         0\n",
            "2566   utterance_815                7     4        4        0         0\n",
            "2567   utterance_815                8     6        6        1         0\n",
            "2568   utterance_815                9     4        4        1         0\n",
            "2569   utterance_815               10     6        6        1         1\n",
            "2972  utterance_1528                0     2        2        0         0\n",
            "2973  utterance_1528                1     3        3        0         0\n",
            "2974  utterance_1528                2     5        5        0         0\n",
            "2975  utterance_1528                3     6        6        0         0\n",
            "2976  utterance_1528                4     4        4        0         0\n",
            "2977  utterance_1528                5     4        4        0         0\n",
            "2978  utterance_1528                6     3        3        0         0\n",
            "2979  utterance_1528                7     4        4        0         1\n",
            "2980  utterance_1528                8     4        4        0         0\n",
            "2981  utterance_1528                9     4        4        1         0\n",
            "                dialogue_index  utterance_index  \\\n",
            "episode                                           \n",
            "utterance_1528             342                0   \n",
            "utterance_815              292                0   \n",
            "\n",
            "                                                                                                                                                                                                                                                                                                                                                                                                                                                                                                                                                                                     dialogue_text  \n",
            "episode                                                                                                                                                                                                                                                                                                                                                                                                                                                                                                                                                                                             \n",
            "utterance_1528                                                                                      I'm just sayin', if I see one more picture of Ed Begley, Jr. in that[SEP]I can't believe you'd rather go out with him than me.[SEP]Would you excuse me, please? I'm trying to have a date here.[SEP]Fine, just stop thinking about me.[SEP]Can't do it, can you?[SEP]So I'm thinking about you. So what?[SEP]I don't get it. What do you see in this guy, anyway?[SEP]Well... he happens to be a very nice... guy....[SEP]I mean, come on, buddy, get a[SEP]Rachel, come on. Give us a chance.  \n",
            "utterance_815   Bing! Ho! And the Bing-ette![SEP]Honey, you remember my boss Doug right?[SEP]Yes, hi.[SEP]Hi. So good news, the divorce is final. I signed the papers this A.M.[SEP]I didn't know you and Carol were getting divorced, I'm sorry.[SEP]Sorry? Finally chewed my leg out of that bear trap. Hey, congratulations to you guys though![SEP]No leg-chewing for us sir.[SEP]Oh well, give it time.[SEP]So the divorce, the marriage, we've got a lot to celebrate.[SEP]How about we all go out to dinner tomorrow night?[SEP]Tomorrow night it is then, I should be out of court by six.  \n",
            "[[\"I'm just sayin', if I see one more picture of Ed Begley, Jr. in that[SEP]I can't believe you'd rather go out with him than me.[SEP]Would you excuse me, please? I'm trying to have a date here.[SEP]Fine, just stop thinking about me.[SEP]Can't do it, can you?[SEP]So I'm thinking about you. So what?[SEP]I don't get it. What do you see in this guy, anyway?[SEP]Well... he happens to be a very nice... guy....[SEP]I mean, come on, buddy, get a[SEP]Rachel, come on. Give us a chance.\"]\n",
            " [\"Bing! Ho! And the Bing-ette![SEP]Honey, you remember my boss Doug right?[SEP]Yes, hi.[SEP]Hi. So good news, the divorce is final. I signed the papers this A.M.[SEP]I didn't know you and Carol were getting divorced, I'm sorry.[SEP]Sorry? Finally chewed my leg out of that bear trap. Hey, congratulations to you guys though![SEP]No leg-chewing for us sir.[SEP]Oh well, give it time.[SEP]So the divorce, the marriage, we've got a lot to celebrate.[SEP]How about we all go out to dinner tomorrow night?[SEP]Tomorrow night it is then, I should be out of court by six.\"]]\n"
          ]
        },
        {
          "name": "stderr",
          "output_type": "stream",
          "text": [
            "C:\\Users\\cacio\\AppData\\Local\\Temp\\ipykernel_11084\\1728414201.py:7: SettingWithCopyWarning: \n",
            "A value is trying to be set on a copy of a slice from a DataFrame.\n",
            "Try using .loc[row_indexer,col_indexer] = value instead\n",
            "\n",
            "See the caveats in the documentation: https://pandas.pydata.org/pandas-docs/stable/user_guide/indexing.html#returning-a-view-versus-a-copy\n",
            "  table['preds'] = table['electra_extraction_51'].apply(lambda x: labels[x.argmax(-1).item()])\n",
            "C:\\Users\\cacio\\AppData\\Local\\Temp\\ipykernel_11084\\1728414201.py:8: SettingWithCopyWarning: \n",
            "A value is trying to be set on a copy of a slice from a DataFrame.\n",
            "Try using .loc[row_indexer,col_indexer] = value instead\n",
            "\n",
            "See the caveats in the documentation: https://pandas.pydata.org/pandas-docs/stable/user_guide/indexing.html#returning-a-view-versus-a-copy\n",
            "  table['emotions'] = table['emotions_id'].apply(lambda x: labels[int(x)])\n",
            "C:\\Users\\cacio\\AppData\\Local\\Temp\\ipykernel_11084\\1728414201.py:9: SettingWithCopyWarning: \n",
            "A value is trying to be set on a copy of a slice from a DataFrame.\n",
            "Try using .loc[row_indexer,col_indexer] = value instead\n",
            "\n",
            "See the caveats in the documentation: https://pandas.pydata.org/pandas-docs/stable/user_guide/indexing.html#returning-a-view-versus-a-copy\n",
            "  table['preds_t'] = table['electra_extraction_51_t'].apply(lambda x: (x>0.5).int().item())\n"
          ]
        }
      ],
      "source": [
        "best_dialogues = test_report.get_utterance_ranking('electra_extraction_51').sort_values(['accuracy','dialogue_len'], ascending=[False, False]).iloc[26:28].index.values\n",
        "#best_dialogues = ['utterance_3913, utterance_3202']\n",
        "labels = test_report.emotion_labels\n",
        "\n",
        "table = test_report.df\n",
        "table = table[table['episode'].isin(best_dialogues)]\n",
        "table['preds'] = table['electra_extraction_51'].apply(lambda x: labels[x.argmax(-1).item()])\n",
        "table['emotions'] = table['emotions_id'].apply(lambda x: labels[int(x)])\n",
        "table['preds_t'] = table['electra_extraction_51_t'].apply(lambda x: (x>0.5).int().item())\n",
        "with pd.option_context('display.max_columns', None, 'display.max_rows', None): \n",
        "    print(table[['episode','utterance_index','preds', 'emotions', 'preds_t', 'triggers',]])\n",
        "with pd.option_context('display.max_colwidth', None, 'display.max_rows', None): \n",
        "    print(table.groupby('episode').first()[['dialogue_index','utterance_index','dialogue_text']])\n",
        "print(table.groupby('episode').first()[['dialogue_text']].values)\n",
        "\n",
        "# GOOD CORRECT DIALOGUES\n",
        "#utterance 3913\n",
        "#utterance 3202 not so much\n",
        "#utterance 815"
      ]
    },
    {
      "cell_type": "code",
      "execution_count": 164,
      "metadata": {},
      "outputs": [
        {
          "data": {
            "text/plain": [
              "3501"
            ]
          },
          "execution_count": 164,
          "metadata": {},
          "output_type": "execute_result"
        }
      ],
      "source": [
        "len(test_data_tokenized)"
      ]
    },
    {
      "cell_type": "code",
      "execution_count": 103,
      "metadata": {},
      "outputs": [],
      "source": [
        "# ALL IS WORKING FINE\n",
        "# report.get_trigger_effect('baseline_666')\n",
        "# report.get_confusion_matrix('baseline_666', plot = False)\n",
        "# report.get_confusion_matrix('baseline_666_t', plot = False)\n",
        "# report.get_precision_recall('baseline_666', plot = False)\n",
        "# report.get_precision_recall('baseline_666_t', plot = False)\n",
        "# report.get_emotions_table()\n",
        "# report.get_misclassified('baseline_666')\n",
        "# report.get_misclassified('baseline_666_t')\n",
        "# report.get_performance_table()\n",
        "# report.get_trigger_table()\n",
        "# report.get_utterance_ranking('baseline_666')\n",
        "# report.get_utterance_ranking('baseline_666_t')\n"
      ]
    },
    {
      "cell_type": "code",
      "execution_count": 39,
      "metadata": {},
      "outputs": [
        {
          "name": "stdout",
          "output_type": "stream",
          "text": [
            "{'baseline_666': {'name': 'baseline_666', '0_acc': tensor(0.), '1_acc': tensor(1.), '2_acc': tensor(0.), '3_acc': tensor(0.), '4_acc': tensor(0.), '5_acc': tensor(0.), '6_acc': tensor(0.), '0_f1': tensor(0.), '1_f1': tensor(0.6422), '2_f1': tensor(0.), '3_f1': tensor(0.), '4_f1': tensor(0.), '5_f1': tensor(0.), '6_f1': tensor(0.)}, 'support': {'1_acc': 149, '1_f1': 149, '4_acc': 45, '4_f1': 45, '3_acc': 36, '3_f1': 36, '6_acc': 34, '6_f1': 34, '2_acc': 29, '2_f1': 29, '5_acc': 11, '5_f1': 11, '0_acc': 11, '0_f1': 11, 'name': 'support'}}\n"
          ]
        },
        {
          "data": {
            "text/html": [
              "<div>\n",
              "<style scoped>\n",
              "    .dataframe tbody tr th:only-of-type {\n",
              "        vertical-align: middle;\n",
              "    }\n",
              "\n",
              "    .dataframe tbody tr th {\n",
              "        vertical-align: top;\n",
              "    }\n",
              "\n",
              "    .dataframe thead th {\n",
              "        text-align: right;\n",
              "    }\n",
              "</style>\n",
              "<table border=\"1\" class=\"dataframe\">\n",
              "  <thead>\n",
              "    <tr style=\"text-align: right;\">\n",
              "      <th></th>\n",
              "      <th>name</th>\n",
              "      <th>0_acc</th>\n",
              "      <th>1_acc</th>\n",
              "      <th>2_acc</th>\n",
              "      <th>3_acc</th>\n",
              "      <th>4_acc</th>\n",
              "      <th>5_acc</th>\n",
              "      <th>6_acc</th>\n",
              "      <th>0_f1</th>\n",
              "      <th>1_f1</th>\n",
              "      <th>2_f1</th>\n",
              "      <th>3_f1</th>\n",
              "      <th>4_f1</th>\n",
              "      <th>5_f1</th>\n",
              "      <th>6_f1</th>\n",
              "    </tr>\n",
              "  </thead>\n",
              "  <tbody>\n",
              "    <tr>\n",
              "      <th>0</th>\n",
              "      <td>baseline_666</td>\n",
              "      <td>0.0</td>\n",
              "      <td>1.0</td>\n",
              "      <td>0.0</td>\n",
              "      <td>0.0</td>\n",
              "      <td>0.0</td>\n",
              "      <td>0.0</td>\n",
              "      <td>0.0</td>\n",
              "      <td>0.0</td>\n",
              "      <td>0.642241</td>\n",
              "      <td>0.0</td>\n",
              "      <td>0.0</td>\n",
              "      <td>0.0</td>\n",
              "      <td>0.0</td>\n",
              "      <td>0.0</td>\n",
              "    </tr>\n",
              "    <tr>\n",
              "      <th>1</th>\n",
              "      <td>support</td>\n",
              "      <td>11.0</td>\n",
              "      <td>149.0</td>\n",
              "      <td>29.0</td>\n",
              "      <td>36.0</td>\n",
              "      <td>45.0</td>\n",
              "      <td>11.0</td>\n",
              "      <td>34.0</td>\n",
              "      <td>11.0</td>\n",
              "      <td>149.000000</td>\n",
              "      <td>29.0</td>\n",
              "      <td>36.0</td>\n",
              "      <td>45.0</td>\n",
              "      <td>11.0</td>\n",
              "      <td>34.0</td>\n",
              "    </tr>\n",
              "  </tbody>\n",
              "</table>\n",
              "</div>"
            ],
            "text/plain": [
              "           name  0_acc  1_acc  2_acc  3_acc  4_acc  5_acc  6_acc  0_f1  \\\n",
              "0  baseline_666    0.0    1.0    0.0    0.0    0.0    0.0    0.0   0.0   \n",
              "1       support   11.0  149.0   29.0   36.0   45.0   11.0   34.0  11.0   \n",
              "\n",
              "         1_f1  2_f1  3_f1  4_f1  5_f1  6_f1  \n",
              "0    0.642241   0.0   0.0   0.0   0.0   0.0  \n",
              "1  149.000000  29.0  36.0  45.0  11.0  34.0  "
            ]
          },
          "execution_count": 39,
          "metadata": {},
          "output_type": "execute_result"
        }
      ],
      "source": [
        "#Some functions return dict or list of dict. check usage in error_analysis.ipynb If you want dataframes visualization, you can do something like this\n",
        "table = report.get_emotions_table()\n",
        "print(table)\n",
        "table_df = pd.DataFrame(table.values())\n",
        "table_df = table_df.map(lambda x: x.item() if type(x) == torch.Tensor else x)\n",
        "table_df"
      ]
    },
    {
      "cell_type": "code",
      "execution_count": 58,
      "metadata": {},
      "outputs": [
        {
          "data": {
            "text/html": [
              "<div>\n",
              "<style scoped>\n",
              "    .dataframe tbody tr th:only-of-type {\n",
              "        vertical-align: middle;\n",
              "    }\n",
              "\n",
              "    .dataframe tbody tr th {\n",
              "        vertical-align: top;\n",
              "    }\n",
              "\n",
              "    .dataframe thead tr th {\n",
              "        text-align: left;\n",
              "    }\n",
              "</style>\n",
              "<table border=\"1\" class=\"dataframe\">\n",
              "  <thead>\n",
              "    <tr>\n",
              "      <th></th>\n",
              "      <th colspan=\"2\" halign=\"left\">emotion_accuracy</th>\n",
              "      <th colspan=\"2\" halign=\"left\">support</th>\n",
              "    </tr>\n",
              "    <tr>\n",
              "      <th></th>\n",
              "      <th>correct_t</th>\n",
              "      <th>bad_t</th>\n",
              "      <th>correct_t</th>\n",
              "      <th>bad_t</th>\n",
              "    </tr>\n",
              "  </thead>\n",
              "  <tbody>\n",
              "    <tr>\n",
              "      <th>baseline_666</th>\n",
              "      <td>0.0</td>\n",
              "      <td>0.42</td>\n",
              "      <td>0.0</td>\n",
              "      <td>60.0</td>\n",
              "    </tr>\n",
              "  </tbody>\n",
              "</table>\n",
              "</div>"
            ],
            "text/plain": [
              "             emotion_accuracy         support      \n",
              "                    correct_t bad_t correct_t bad_t\n",
              "baseline_666              0.0  0.42       0.0  60.0"
            ]
          },
          "execution_count": 58,
          "metadata": {},
          "output_type": "execute_result"
        }
      ],
      "source": [
        "#TABLE FOR TRIGGER ANALYSIS\n",
        "table = report.get_trigger_table()\n",
        "values = [np.array([np.array([v for v in scores.values()]).flatten() for scores in model.values()]).flatten().tolist() for model in table.values()]\n",
        "columns = next(iter(table.values())).keys()\n",
        "sub_columns = next(iter(next(iter(table.values())).values())).keys()\n",
        "indexes = table.keys()\n",
        "report_df = pd.DataFrame(values, columns = pd.MultiIndex.from_product([tuple(columns), tuple(sub_columns)]), index=indexes)\n",
        "report_df"
      ]
    }
  ],
  "metadata": {
    "accelerator": "GPU",
    "colab": {
      "provenance": []
    },
    "kernelspec": {
      "display_name": "Python 3",
      "name": "python3"
    },
    "language_info": {
      "codemirror_mode": {
        "name": "ipython",
        "version": 3
      },
      "file_extension": ".py",
      "mimetype": "text/x-python",
      "name": "python",
      "nbconvert_exporter": "python",
      "pygments_lexer": "ipython3",
      "version": "3.11.7"
    }
  },
  "nbformat": 4,
  "nbformat_minor": 0
}
