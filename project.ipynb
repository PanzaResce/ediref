{
  "cells": [
    {
      "cell_type": "code",
      "execution_count": 1,
      "metadata": {},
      "outputs": [],
      "source": [
        "# !pip install datasets\n",
        "# !pip install transformers[torch]\n",
        "# !pip install accelerate -U"
      ]
    },
    {
      "cell_type": "code",
      "execution_count": 12,
      "metadata": {
        "id": "Tb6JkaXPQ8c9"
      },
      "outputs": [],
      "source": [
        "import torch\n",
        "import torch.nn.functional as F\n",
        "from src.utils import *\n",
        "from src.models.models import Model_Phrase_Concatenation, Model_Phrase_Extraction, Model_concat_nopooling\n",
        "from src.models.baseline import Baseline\n",
        "from datasets import concatenate_datasets\n",
        "from sklearn.utils.class_weight import compute_class_weight\n",
        "from transformers import DefaultDataCollator, AutoTokenizer, TrainingArguments, Trainer"
      ]
    },
    {
      "cell_type": "code",
      "execution_count": 13,
      "metadata": {
        "colab": {
          "base_uri": "https://localhost:8080/"
        },
        "id": "R2MsBHCqQ8c_",
        "outputId": "4940d008-c6d5-494c-907a-8198446a460b"
      },
      "outputs": [
        {
          "name": "stdout",
          "output_type": "stream",
          "text": [
            "2.1.0+cu121\n",
            "True\n"
          ]
        }
      ],
      "source": [
        "RANDOM_SEED = 42\n",
        "set_seeds(RANDOM_SEED)\n",
        "\n",
        "print(torch.__version__)\n",
        "print(torch.cuda.is_available())"
      ]
    },
    {
      "cell_type": "code",
      "execution_count": 14,
      "metadata": {},
      "outputs": [
        {
          "name": "stdout",
          "output_type": "stream",
          "text": [
            "Current work directory: c:\\Users\\marco\\OneDrive\\Immagini\\Documenti\\GitHub\\ediref\n"
          ]
        },
        {
          "data": {
            "text/html": [
              "<div>\n",
              "<style scoped>\n",
              "    .dataframe tbody tr th:only-of-type {\n",
              "        vertical-align: middle;\n",
              "    }\n",
              "\n",
              "    .dataframe tbody tr th {\n",
              "        vertical-align: top;\n",
              "    }\n",
              "\n",
              "    .dataframe thead th {\n",
              "        text-align: right;\n",
              "    }\n",
              "</style>\n",
              "<table border=\"1\" class=\"dataframe\">\n",
              "  <thead>\n",
              "    <tr style=\"text-align: right;\">\n",
              "      <th></th>\n",
              "      <th>episode</th>\n",
              "      <th>emotions</th>\n",
              "      <th>utterances</th>\n",
              "      <th>triggers</th>\n",
              "      <th>emotions_id</th>\n",
              "    </tr>\n",
              "  </thead>\n",
              "  <tbody>\n",
              "    <tr>\n",
              "      <th>0</th>\n",
              "      <td>utterance_0</td>\n",
              "      <td>[neutral, neutral, neutral, neutral, surprise]</td>\n",
              "      <td>[also I was the point person on my company's t...</td>\n",
              "      <td>[0, 0, 0, 1, 0]</td>\n",
              "      <td>[4, 4, 4, 4, 3]</td>\n",
              "    </tr>\n",
              "    <tr>\n",
              "      <th>1</th>\n",
              "      <td>utterance_1</td>\n",
              "      <td>[neutral, neutral, neutral, neutral, surprise,...</td>\n",
              "      <td>[also I was the point person on my company's t...</td>\n",
              "      <td>[0, 0, 0, 0, 0, 1, 0]</td>\n",
              "      <td>[4, 4, 4, 4, 3, 4, 4]</td>\n",
              "    </tr>\n",
              "    <tr>\n",
              "      <th>2</th>\n",
              "      <td>utterance_2</td>\n",
              "      <td>[neutral, neutral, neutral, neutral, surprise,...</td>\n",
              "      <td>[also I was the point person on my company's t...</td>\n",
              "      <td>[0, 0, 0, 0, 0, 0, 0, 1, 0, 1, 0]</td>\n",
              "      <td>[4, 4, 4, 4, 3, 4, 4, 4, 4, 4, 1]</td>\n",
              "    </tr>\n",
              "    <tr>\n",
              "      <th>3</th>\n",
              "      <td>utterance_3</td>\n",
              "      <td>[neutral, neutral, neutral, neutral, surprise,...</td>\n",
              "      <td>[also I was the point person on my company's t...</td>\n",
              "      <td>[0, 0, 0, 0, 0, 0, 0, 0, 0, 0, 0, 1, 0]</td>\n",
              "      <td>[4, 4, 4, 4, 3, 4, 4, 4, 4, 4, 1, 4, 3]</td>\n",
              "    </tr>\n",
              "    <tr>\n",
              "      <th>4</th>\n",
              "      <td>utterance_4</td>\n",
              "      <td>[surprise, sadness, surprise, fear]</td>\n",
              "      <td>[But then who? The waitress I went out with la...</td>\n",
              "      <td>[0, 0, 1, 0]</td>\n",
              "      <td>[3, 0, 3, 1]</td>\n",
              "    </tr>\n",
              "    <tr>\n",
              "      <th>...</th>\n",
              "      <td>...</td>\n",
              "      <td>...</td>\n",
              "      <td>...</td>\n",
              "      <td>...</td>\n",
              "      <td>...</td>\n",
              "    </tr>\n",
              "    <tr>\n",
              "      <th>3995</th>\n",
              "      <td>utterance_3995</td>\n",
              "      <td>[neutral, joy, neutral, neutral, surprise, dis...</td>\n",
              "      <td>[Hey., Hey!, So how was Joan?, I broke up with...</td>\n",
              "      <td>[0, 0, 0, 0, 0, 0, 0, 0, 0, 0, 0, 1]</td>\n",
              "      <td>[4, 6, 4, 4, 3, 2, 4, 2, 3, 4, 4, 2]</td>\n",
              "    </tr>\n",
              "    <tr>\n",
              "      <th>3996</th>\n",
              "      <td>utterance_3996</td>\n",
              "      <td>[neutral, joy, neutral, neutral, surprise, dis...</td>\n",
              "      <td>[Hey., Hey!, So how was Joan?, I broke up with...</td>\n",
              "      <td>[0, 0, 0, 0, 0, 0, 0, 0, 0, 0, 0, 0, 0, 1]</td>\n",
              "      <td>[4, 6, 4, 4, 3, 2, 4, 2, 3, 4, 4, 2, 2, 4]</td>\n",
              "    </tr>\n",
              "    <tr>\n",
              "      <th>3997</th>\n",
              "      <td>utterance_3997</td>\n",
              "      <td>[neutral, joy, neutral, neutral, surprise, dis...</td>\n",
              "      <td>[Hey., Hey!, So how was Joan?, I broke up with...</td>\n",
              "      <td>[0, 0, 0, 0, 0, 0, 0, 0, 0, 0, 0, 0, 0, 1, 0]</td>\n",
              "      <td>[4, 6, 4, 4, 3, 2, 4, 2, 3, 4, 4, 2, 2, 4, 4]</td>\n",
              "    </tr>\n",
              "    <tr>\n",
              "      <th>3998</th>\n",
              "      <td>utterance_3998</td>\n",
              "      <td>[neutral, joy, neutral, neutral, surprise, dis...</td>\n",
              "      <td>[Hey., Hey!, So how was Joan?, I broke up with...</td>\n",
              "      <td>[0, 0, 0, 0, 0, 0, 0, 0, 0, 0, 0, 0, 0, 0, 1, 0]</td>\n",
              "      <td>[4, 6, 4, 4, 3, 2, 4, 2, 3, 4, 4, 2, 2, 4, 4, 3]</td>\n",
              "    </tr>\n",
              "    <tr>\n",
              "      <th>3999</th>\n",
              "      <td>utterance_3999</td>\n",
              "      <td>[neutral, joy, neutral, neutral, surprise, dis...</td>\n",
              "      <td>[Hey., Hey!, So how was Joan?, I broke up with...</td>\n",
              "      <td>[0, 0, 0, 0, 0, 0, 0, 0, 0, 0, 0, 0, 0, 0, 0, ...</td>\n",
              "      <td>[4, 6, 4, 4, 3, 2, 4, 2, 3, 4, 4, 2, 2, 4, 4, ...</td>\n",
              "    </tr>\n",
              "  </tbody>\n",
              "</table>\n",
              "<p>4000 rows × 5 columns</p>\n",
              "</div>"
            ],
            "text/plain": [
              "             episode                                           emotions  \\\n",
              "0        utterance_0     [neutral, neutral, neutral, neutral, surprise]   \n",
              "1        utterance_1  [neutral, neutral, neutral, neutral, surprise,...   \n",
              "2        utterance_2  [neutral, neutral, neutral, neutral, surprise,...   \n",
              "3        utterance_3  [neutral, neutral, neutral, neutral, surprise,...   \n",
              "4        utterance_4                [surprise, sadness, surprise, fear]   \n",
              "...              ...                                                ...   \n",
              "3995  utterance_3995  [neutral, joy, neutral, neutral, surprise, dis...   \n",
              "3996  utterance_3996  [neutral, joy, neutral, neutral, surprise, dis...   \n",
              "3997  utterance_3997  [neutral, joy, neutral, neutral, surprise, dis...   \n",
              "3998  utterance_3998  [neutral, joy, neutral, neutral, surprise, dis...   \n",
              "3999  utterance_3999  [neutral, joy, neutral, neutral, surprise, dis...   \n",
              "\n",
              "                                             utterances  \\\n",
              "0     [also I was the point person on my company's t...   \n",
              "1     [also I was the point person on my company's t...   \n",
              "2     [also I was the point person on my company's t...   \n",
              "3     [also I was the point person on my company's t...   \n",
              "4     [But then who? The waitress I went out with la...   \n",
              "...                                                 ...   \n",
              "3995  [Hey., Hey!, So how was Joan?, I broke up with...   \n",
              "3996  [Hey., Hey!, So how was Joan?, I broke up with...   \n",
              "3997  [Hey., Hey!, So how was Joan?, I broke up with...   \n",
              "3998  [Hey., Hey!, So how was Joan?, I broke up with...   \n",
              "3999  [Hey., Hey!, So how was Joan?, I broke up with...   \n",
              "\n",
              "                                               triggers  \\\n",
              "0                                       [0, 0, 0, 1, 0]   \n",
              "1                                 [0, 0, 0, 0, 0, 1, 0]   \n",
              "2                     [0, 0, 0, 0, 0, 0, 0, 1, 0, 1, 0]   \n",
              "3               [0, 0, 0, 0, 0, 0, 0, 0, 0, 0, 0, 1, 0]   \n",
              "4                                          [0, 0, 1, 0]   \n",
              "...                                                 ...   \n",
              "3995               [0, 0, 0, 0, 0, 0, 0, 0, 0, 0, 0, 1]   \n",
              "3996         [0, 0, 0, 0, 0, 0, 0, 0, 0, 0, 0, 0, 0, 1]   \n",
              "3997      [0, 0, 0, 0, 0, 0, 0, 0, 0, 0, 0, 0, 0, 1, 0]   \n",
              "3998   [0, 0, 0, 0, 0, 0, 0, 0, 0, 0, 0, 0, 0, 0, 1, 0]   \n",
              "3999  [0, 0, 0, 0, 0, 0, 0, 0, 0, 0, 0, 0, 0, 0, 0, ...   \n",
              "\n",
              "                                            emotions_id  \n",
              "0                                       [4, 4, 4, 4, 3]  \n",
              "1                                 [4, 4, 4, 4, 3, 4, 4]  \n",
              "2                     [4, 4, 4, 4, 3, 4, 4, 4, 4, 4, 1]  \n",
              "3               [4, 4, 4, 4, 3, 4, 4, 4, 4, 4, 1, 4, 3]  \n",
              "4                                          [3, 0, 3, 1]  \n",
              "...                                                 ...  \n",
              "3995               [4, 6, 4, 4, 3, 2, 4, 2, 3, 4, 4, 2]  \n",
              "3996         [4, 6, 4, 4, 3, 2, 4, 2, 3, 4, 4, 2, 2, 4]  \n",
              "3997      [4, 6, 4, 4, 3, 2, 4, 2, 3, 4, 4, 2, 2, 4, 4]  \n",
              "3998   [4, 6, 4, 4, 3, 2, 4, 2, 3, 4, 4, 2, 2, 4, 4, 3]  \n",
              "3999  [4, 6, 4, 4, 3, 2, 4, 2, 3, 4, 4, 2, 2, 4, 4, ...  \n",
              "\n",
              "[4000 rows x 5 columns]"
            ]
          },
          "execution_count": 14,
          "metadata": {},
          "output_type": "execute_result"
        }
      ],
      "source": [
        "url = \"https://drive.google.com/uc?export=download&id=1wVNU2XvvhqjaGXZM-JLJwOt97gt4g9j2\"\n",
        "dataset_name = \"MELD_train_efr.json\"\n",
        "\n",
        "df_manager = DataframeManager(url, dataset_name)\n",
        "\n",
        "df = df_manager.produce_df()\n",
        "df"
      ]
    },
    {
      "cell_type": "code",
      "execution_count": 15,
      "metadata": {
        "id": "aYeINdxlLlYW",
        "outputId": "08317111-0a25-4b78-eac1-f6609fa7ee4b"
      },
      "outputs": [
        {
          "name": "stdout",
          "output_type": "stream",
          "text": [
            "(3200, 5)\n",
            "(400, 5)\n",
            "(400, 5)\n"
          ]
        }
      ],
      "source": [
        "train_df, val_df, test_df = df_manager.split_df(RANDOM_SEED)\n",
        "print(train_df.shape)\n",
        "print(val_df.shape)\n",
        "print(test_df.shape)"
      ]
    },
    {
      "cell_type": "code",
      "execution_count": 5,
      "metadata": {},
      "outputs": [
        {
          "data": {
            "image/png": "[encoded data removed]",
            "text/plain": [
              "<Figure size 864x288 with 3 Axes>"
            ]
          },
          "metadata": {
            "needs_background": "light"
          },
          "output_type": "display_data"
        }
      ],
      "source": [
        "df_manager.plot_triggers_distribution(train_df, val_df, test_df)"
      ]
    },
    {
      "cell_type": "code",
      "execution_count": 6,
      "metadata": {
        "colab": {
          "base_uri": "https://localhost:8080/",
          "height": 422
        },
        "id": "9TNd9SBUa60R",
        "outputId": "1ee58b4f-f7be-4347-8798-26bdcc1dd36c"
      },
      "outputs": [
        {
          "data": {
            "image/png": "[encoded data removed]",
            "text/plain": [
              "<Figure size 864x288 with 3 Axes>"
            ]
          },
          "metadata": {
            "needs_background": "light"
          },
          "output_type": "display_data"
        }
      ],
      "source": [
        "df_manager.plot_emotion_distribution(train_df, val_df, test_df)"
      ]
    },
    {
      "cell_type": "code",
      "execution_count": 16,
      "metadata": {
        "id": "kOwxAe3qLlYZ"
      },
      "outputs": [],
      "source": [
        "model_card = 'bert-base-uncased'\n",
        "tokenizer = AutoTokenizer.from_pretrained(model_card)\n",
        "\n",
        "model_dir = \"./model_dir/\"+model_card+\"/\"\n",
        "data_collator = DefaultDataCollator()"
      ]
    },
    {
      "cell_type": "code",
      "execution_count": 26,
      "metadata": {
        "id": "-UN6VqNKQ8dR",
        "outputId": "327af93c-801b-40fc-e9fc-49c93fad93ad"
      },
      "outputs": [],
      "source": [
        "train_data_tokenized, val_data_tokenized, test_data_tokenized = df_manager.produce_dataset(tokenizer, RANDOM_SEED)"
      ]
    },
    {
      "cell_type": "code",
      "execution_count": 27,
      "metadata": {},
      "outputs": [
        {
          "name": "stdout",
          "output_type": "stream",
          "text": [
            "28062\n",
            "3437\n",
            "3501\n"
          ]
        }
      ],
      "source": [
        "print(len(train_data_tokenized))\n",
        "print(len(val_data_tokenized))\n",
        "print(len(test_data_tokenized))"
      ]
    },
    {
      "cell_type": "markdown",
      "metadata": {
        "id": "dJWSxdXFQ8dT"
      },
      "source": [
        "Models"
      ]
    },
    {
      "cell_type": "code",
      "execution_count": 18,
      "metadata": {
        "id": "OSNzNVyiLlYb"
      },
      "outputs": [],
      "source": [
        "seeds = [49, 666, 51, 77, 111]\n",
        "\n",
        "X = train_data_tokenized['dialogue_index']\n",
        "Y = train_data_tokenized.select_columns(['triggers', 'emotions_id'])\n",
        "seed_table = {'majority': {}, 'uniform': {}}\n",
        "\n",
        "id2emotion = df_manager.get_id2emotion()\n",
        "random_clf = Baseline(\"uniform\", X, Y)\n",
        "majority_clf = Baseline(\"most_frequent\", X, Y)\n",
        "for seed in seeds:\n",
        "    seed_table[\"uniform\"][seed] = random_clf.score()\n",
        "    seed_table[\"majority\"][seed] = majority_clf.score()"
      ]
    },
    {
      "cell_type": "code",
      "execution_count": 19,
      "metadata": {
        "id": "Tx520nvqLlYb",
        "outputId": "6c7d3294-88ee-44a5-c995-22a56d17676b"
      },
      "outputs": [
        {
          "data": {
            "text/plain": [
              "{'majority': {49: {'accuracy_emotions': 0.4392060437602452,\n",
              "   'accuracy_triggers': 0.8414938350794668,\n",
              "   'f1scores_emotions': 0.0872,\n",
              "   'f1scores_triggers': 0.1306,\n",
              "   'u_avg_f1': 0.1089},\n",
              "  666: {'accuracy_emotions': 0.4392060437602452,\n",
              "   'accuracy_triggers': 0.8414938350794668,\n",
              "   'f1scores_emotions': 0.0872,\n",
              "   'f1scores_triggers': 0.1306,\n",
              "   'u_avg_f1': 0.1089},\n",
              "  51: {'accuracy_emotions': 0.4392060437602452,\n",
              "   'accuracy_triggers': 0.8414938350794668,\n",
              "   'f1scores_emotions': 0.0872,\n",
              "   'f1scores_triggers': 0.1306,\n",
              "   'u_avg_f1': 0.1089},\n",
              "  77: {'accuracy_emotions': 0.4392060437602452,\n",
              "   'accuracy_triggers': 0.8414938350794668,\n",
              "   'f1scores_emotions': 0.0872,\n",
              "   'f1scores_triggers': 0.1306,\n",
              "   'u_avg_f1': 0.1089},\n",
              "  111: {'accuracy_emotions': 0.4392060437602452,\n",
              "   'accuracy_triggers': 0.8414938350794668,\n",
              "   'f1scores_emotions': 0.0872,\n",
              "   'f1scores_triggers': 0.1306,\n",
              "   'u_avg_f1': 0.1089}},\n",
              " 'uniform': {49: {'accuracy_emotions': 0.1433611289288005,\n",
              "   'accuracy_triggers': 0.5013185090157508,\n",
              "   'f1scores_emotions': 0.1175,\n",
              "   'f1scores_triggers': 0.1241,\n",
              "   'u_avg_f1': 0.1208},\n",
              "  666: {'accuracy_emotions': 0.1439669303684698,\n",
              "   'accuracy_triggers': 0.49668590977122085,\n",
              "   'f1scores_emotions': 0.1167,\n",
              "   'f1scores_triggers': 0.1225,\n",
              "   'u_avg_f1': 0.1196},\n",
              "  51: {'accuracy_emotions': 0.14125864157936,\n",
              "   'accuracy_triggers': 0.5000712707576082,\n",
              "   'f1scores_emotions': 0.1207,\n",
              "   'f1scores_triggers': 0.1237,\n",
              "   'u_avg_f1': 0.1222},\n",
              "  77: {'accuracy_emotions': 0.14393129498966575,\n",
              "   'accuracy_triggers': 0.5002494476516285,\n",
              "   'f1scores_emotions': 0.1172,\n",
              "   'f1scores_triggers': 0.1233,\n",
              "   'u_avg_f1': 0.1202},\n",
              "  111: {'accuracy_emotions': 0.1423277029434823,\n",
              "   'accuracy_triggers': 0.5043831515929015,\n",
              "   'f1scores_emotions': 0.1206,\n",
              "   'f1scores_triggers': 0.1244,\n",
              "   'u_avg_f1': 0.1225}}}"
            ]
          },
          "execution_count": 19,
          "metadata": {},
          "output_type": "execute_result"
        }
      ],
      "source": [
        "seed_table"
      ]
    },
    {
      "cell_type": "code",
      "execution_count": 13,
      "metadata": {},
      "outputs": [],
      "source": [
        "model_B = Model_Phrase_Extraction(len(df_manager.unique_emotions), tokenizer.sep_token_id)\n",
        "# model_B = concat_nopooling(df_manager)\n",
        "def try_model_Concatenation(batch_start, batch_end, model):\n",
        "    outputs_text = model(utterance_ids=train_data_tokenized[batch_start:batch_end]['utterance_ids'],\n",
        "            utterance_mask=train_data_tokenized[batch_start:batch_end]['utterance_mask'],\n",
        "            dialogue_ids=train_data_tokenized[batch_start:batch_end]['dialogue_ids'],\n",
        "            dialogue_mask=train_data_tokenized[batch_start:batch_end]['dialogue_mask'],\n",
        "            utterance_index=train_data_tokenized[batch_start:batch_end]['utterance_index'],\n",
        "            dialogue_index=train_data_tokenized[batch_start:batch_end]['dialogue_index'],\n",
        "            token_type_ids=None)\n",
        "    return outputs_text\n",
        "\n",
        "# outputs_text = try_model_Concatenation(2, 6, model_B)\n",
        "\n",
        "# print(outputs_text['emotion_logits'].shape)\n",
        "# print(outputs_text['trigger_logits'].shape)"
      ]
    },
    {
      "cell_type": "code",
      "execution_count": 7,
      "metadata": {},
      "outputs": [],
      "source": [
        "def init_pos_weight(data, labels_column, class_weights=True, factor=1):\n",
        "    y = data[labels_column].numpy()\n",
        "    if class_weights:\n",
        "        return torch.tensor(compute_class_weight(class_weight=\"balanced\", classes=np.unique(y), y=y)).to(\"cuda\")\n",
        "    else:\n",
        "        return torch.tensor(compute_class_weight(class_weight=None, classes=np.unique(y), y=y)).to(\"cuda\")"
      ]
    },
    {
      "cell_type": "code",
      "execution_count": 39,
      "metadata": {
        "id": "ztKhP1pmLlYc"
      },
      "outputs": [],
      "source": [
        "class MultiLabelTrainer(Trainer):\n",
        "    def __init__(self, pos_weight=None, **kwargs):\n",
        "        self.emotions_pos_weight, self.triggers_pos_weight = pos_weight\n",
        "        super().__init__(**kwargs)\n",
        "\n",
        "    def compute_loss(self, model, inputs, return_outputs=False):\n",
        "        emotions_true = inputs[\"emotions_id_one_hot_encoding\"].to(\"cuda\")\n",
        "        triggers_true = inputs[\"triggers\"].unsqueeze(1).float().to(\"cuda\")\n",
        "\n",
        "        result = model(**inputs)\n",
        "        \n",
        "        emotion_logits = result['emotion_logits'].to(\"cuda\")\n",
        "        trigger_logits = result['trigger_logits'].to(\"cuda\")\n",
        "        \n",
        "        loss_fct_emotions = torch.nn.CrossEntropyLoss(weight=self.emotions_pos_weight).to(\"cuda\")        \n",
        "        loss_fct_triggers = torch.nn.BCEWithLogitsLoss(pos_weight=self.triggers_pos_weight[1]).to(\"cuda\")\n",
        "        \n",
        "        # loss_fct_emotions = torch.nn.CrossEntropyLoss().to(\"cuda\")        \n",
        "        # loss_fct_triggers = torch.nn.BCEWithLogitsLoss().to(\"cuda\")\n",
        "\n",
        "        # preds = F.sigmoid(trigger_logits)\n",
        "        loss_emotions = loss_fct_emotions(emotion_logits, emotions_true.float())\n",
        "        loss_triggers = loss_fct_triggers(trigger_logits, triggers_true)\n",
        "\n",
        "        # l1 = torch.nn.CrossEntropyLoss()\n",
        "        # l2 = torch.nn.BCEWithLogitsLoss()\n",
        "        # e = l1(emotion_logits, emotions_true.float())\n",
        "        # t = l2(trigger_logits, triggers_true)\n",
        "\n",
        "        loss_emotions_wt = 0.5\n",
        "        loss_triggers_wt = 0.5\n",
        "\n",
        "        loss = loss_emotions_wt*loss_emotions + loss_triggers_wt*loss_triggers\n",
        "        return (loss, {'emotion_logits': emotion_logits, 'trigger_logits': trigger_logits}) if return_outputs else loss\n",
        "\n",
        "def get_trainer(model, train, val, model_dir, class_weights=True, batch_size=1, epochs=20):\n",
        "    training_args = TrainingArguments(\n",
        "        output_dir=model_dir,\n",
        "        learning_rate=2e-5,\n",
        "        per_device_train_batch_size=batch_size,\n",
        "        per_device_eval_batch_size=batch_size,\n",
        "        num_train_epochs=epochs,\n",
        "        weight_decay=0.01,\n",
        "        evaluation_strategy=\"no\",\n",
        "        save_strategy=\"epoch\",\n",
        "        save_total_limit=1,\n",
        "        lr_scheduler_type=\"cosine\",\n",
        "        report_to='none',\n",
        "        label_names=[\"emotions_id\", \"triggers\", \"dialogue_index\"],\n",
        "    )\n",
        "\n",
        "    full_dataset = concatenate_datasets([train_data_tokenized, val_data_tokenized, test_data_tokenized])\n",
        "    pos_weight = (init_pos_weight(full_dataset, df_manager.column_emotions_id, class_weights), init_pos_weight(full_dataset, df_manager.column_triggers, class_weights))\n",
        "\n",
        "    trainer = MultiLabelTrainer(\n",
        "        pos_weight=pos_weight,\n",
        "        model=model,\n",
        "        args=training_args,\n",
        "        train_dataset=train,\n",
        "        eval_dataset=val,\n",
        "        tokenizer=tokenizer,\n",
        "        data_collator=data_collator,\n",
        "        compute_metrics=lambda pred: compute_metrics(pred, len(df_manager.emotion2id.keys()))\n",
        "    )\n",
        "\n",
        "    return trainer"
      ]
    },
    {
      "cell_type": "code",
      "execution_count": 10,
      "metadata": {},
      "outputs": [],
      "source": [
        "num_emotions = len(df_manager.unique_emotions)\n",
        "models_to_train_abl = {\n",
        "    \"bert_concat\": Model_Phrase_Concatenation(num_emotions, tokenizer.sep_token_id),\n",
        "    \"bert_concat_nopooling\": Model_concat_nopooling(num_emotions, tokenizer.sep_token_id),\n",
        "    \"bert_extraction\": Model_Phrase_Extraction(num_emotions, tokenizer.sep_token_id)\n",
        "}"
      ]
    },
    {
      "cell_type": "code",
      "execution_count": 9,
      "metadata": {},
      "outputs": [],
      "source": [
        "def train_extr_model(seed, model_card=\"bert-base-uncased\", freeze=False):\n",
        "    set_seeds(seed)\n",
        "    base_model = Model_Phrase_Extraction(len(df_manager.unique_emotions), tokenizer.sep_token_id, model_card, freeze)\n",
        "    model_path = model_dir+\"bert_extraction_freeze_\"+str(seed) if freeze else model_dir+\"bert_extraction_\"+str(seed)\n",
        "\n",
        "    trainer = get_trainer(base_model, train_data_tokenized, val_data_tokenized, model_path, class_weights=True, batch_size=4, epochs=5)\n",
        "\n",
        "    print(f'Training EXTRACTION MODEL with seed {seed}:')\n",
        "\n",
        "    trainer.train()\n",
        "    save_name = \"/bert_extraction_freeze_\"+str(seed)+\".pth\" if freeze else \"/bert_extraction_\"+str(seed)+\".pth\"\n",
        "    torch.save(base_model.state_dict(), model_path+save_name)"
      ]
    },
    {
      "cell_type": "code",
      "execution_count": 32,
      "metadata": {},
      "outputs": [],
      "source": [
        "def train_nopooling_model(seed, model_card=\"bert-base-uncased\", freeze=False):\n",
        "    set_seeds(seed)\n",
        "    base_model = Model_concat_nopooling(len(df_manager.unique_emotions), tokenizer.sep_token_id, model_card, freeze)\n",
        "    model_path = model_dir+\"bert_concat_nopooling_freeze_\"+str(seed) if freeze else model_dir+\"bert_concat_nopooling_\"+str(seed)\n",
        "\n",
        "    trainer = get_trainer(base_model, train_data_tokenized, val_data_tokenized, model_path, class_weights=True, batch_size=4, epochs=5)\n",
        "\n",
        "    print(f'Training NOPOOLING MODEL with seed {seed}:')\n",
        "\n",
        "    trainer.train()\n",
        "    save_name = \"/bert_concat_nopooling_freeze_\"+str(seed)+\".pth\" if freeze else \"/bert_concat_nopooling_\"+str(seed)+\".pth\"\n",
        "    torch.save(base_model.state_dict(), model_path+save_name)"
      ]
    },
    {
      "cell_type": "code",
      "execution_count": 33,
      "metadata": {},
      "outputs": [],
      "source": [
        "def train_concat_model(seed, model_card=\"bert-base-uncased\", freeze=False):\n",
        "    set_seeds(seed)\n",
        "    base_model = Model_Phrase_Concatenation(len(df_manager.unique_emotions), tokenizer.sep_token_id, model_card, freeze)\n",
        "    model_path = model_dir+\"bert_concat_freeze_\"+str(seed) if freeze else model_dir+\"bert_concat_\"+str(seed)\n",
        "\n",
        "    trainer = get_trainer(base_model, train_data_tokenized, val_data_tokenized, model_path, class_weights=True, batch_size=4, epochs=5)\n",
        "\n",
        "    print(f'Training NOPOOLING MODEL with seed {seed}:')\n",
        "\n",
        "    trainer.train()\n",
        "    save_name = \"/bert_concat_freeze_\"+str(seed)+\".pth\" if freeze else \"/bert_concat_\"+str(seed)+\".pth\"\n",
        "    torch.save(base_model.state_dict(), model_path+save_name)"
      ]
    },
    {
      "cell_type": "code",
      "execution_count": null,
      "metadata": {},
      "outputs": [],
      "source": [
        "seeds = [666, 51, 77, 111]"
      ]
    },
    {
      "cell_type": "markdown",
      "metadata": {},
      "source": [
        "<h3>TRAIN NOPOOLING MODELS</h3>"
      ]
    },
    {
      "cell_type": "code",
      "execution_count": 34,
      "metadata": {},
      "outputs": [
        {
          "name": "stderr",
          "output_type": "stream",
          "text": [
            "c:\\Users\\marco\\anaconda3\\lib\\site-packages\\datasets\\table.py:1395: FutureWarning: promote has been superseded by mode='default'.\n",
            "  block_group = [InMemoryTable(cls._concat_blocks(list(block_group), axis=axis))]\n",
            "c:\\Users\\marco\\anaconda3\\lib\\site-packages\\datasets\\table.py:1421: FutureWarning: promote has been superseded by mode='default'.\n",
            "  table = cls._concat_blocks(blocks, axis=0)\n"
          ]
        },
        {
          "name": "stdout",
          "output_type": "stream",
          "text": [
            "Training NOPOOLING MODEL with seed 666:\n"
          ]
        },
        {
          "data": {
            "application/vnd.jupyter.widget-view+json": {
              "model_id": "141d0101ed1b4caeba01a2c0e2027341",
              "version_major": 2,
              "version_minor": 0
            },
            "text/plain": [
              "  0%|          | 0/35080 [00:00<?, ?it/s]"
            ]
          },
          "metadata": {},
          "output_type": "display_data"
        },
        {
          "name": "stderr",
          "output_type": "stream",
          "text": [
            "Could not estimate the number of tokens of the input, floating-point operations will not be computed\n"
          ]
        },
        {
          "name": "stdout",
          "output_type": "stream",
          "text": [
            "{'loss': 1.5435, 'grad_norm': 21.049175262451172, 'learning_rate': 1.9989976531650042e-05, 'epoch': 0.07}\n",
            "{'loss': 1.4689, 'grad_norm': 6.833110809326172, 'learning_rate': 1.9959926220583713e-05, 'epoch': 0.14}\n",
            "{'loss': 1.3946, 'grad_norm': 4.627593040466309, 'learning_rate': 1.9909909308469398e-05, 'epoch': 0.21}\n",
            "{'loss': 1.3846, 'grad_norm': 21.170927047729492, 'learning_rate': 1.9840026063894193e-05, 'epoch': 0.29}\n",
            "{'loss': 1.3771, 'grad_norm': 7.251065254211426, 'learning_rate': 1.9750416581356147e-05, 'epoch': 0.36}\n",
            "{'loss': 1.3497, 'grad_norm': 4.823225021362305, 'learning_rate': 1.9641260500417672e-05, 'epoch': 0.43}\n",
            "{'loss': 1.3686, 'grad_norm': 7.498763561248779, 'learning_rate': 1.9512776645583266e-05, 'epoch': 0.5}\n",
            "{'loss': 1.2957, 'grad_norm': 32.99750518798828, 'learning_rate': 1.9365222587623407e-05, 'epoch': 0.57}\n",
            "{'loss': 1.312, 'grad_norm': 9.95146656036377, 'learning_rate': 1.9198894127224075e-05, 'epoch': 0.64}\n",
            "{'loss': 1.2999, 'grad_norm': 13.090883255004883, 'learning_rate': 1.9014124701996973e-05, 'epoch': 0.71}\n",
            "{'loss': 1.2764, 'grad_norm': 19.28815460205078, 'learning_rate': 1.881128471803926e-05, 'epoch': 0.78}\n",
            "{'loss': 1.3271, 'grad_norm': 5.901036262512207, 'learning_rate': 1.859078080738279e-05, 'epoch': 0.86}\n",
            "{'loss': 1.2075, 'grad_norm': 12.471914291381836, 'learning_rate': 1.835305501282148e-05, 'epoch': 0.93}\n",
            "{'loss': 1.2053, 'grad_norm': 16.308483123779297, 'learning_rate': 1.809858390175087e-05, 'epoch': 1.0}\n"
          ]
        },
        {
          "data": {
            "application/vnd.jupyter.widget-view+json": {
              "model_id": "4ee7140967d14c4e9892dd65b50ce7b6",
              "version_major": 2,
              "version_minor": 0
            },
            "text/plain": [
              "  0%|          | 0/860 [00:00<?, ?it/s]"
            ]
          },
          "metadata": {},
          "output_type": "display_data"
        },
        {
          "name": "stdout",
          "output_type": "stream",
          "text": [
            "{'eval_loss': 1.2227733828617335, 'eval_accuracy_emotions': 0.5988, 'eval_accuracy_triggers': 0.7835, 'eval_u_avg_f1': 0.4794, 'eval_u_f1scores_emotions': 0.4664, 'eval_u_f1scores_triggers': 0.4924, 'eval_d_f1scores_emotions': 0.6072, 'eval_d_f1scores_triggers': 0.7535, 'eval_runtime': 643.9111, 'eval_samples_per_second': 5.338, 'eval_steps_per_second': 1.336, 'epoch': 1.0}\n",
            "{'loss': 1.1868, 'grad_norm': 14.961058616638184, 'learning_rate': 1.7827877610796515e-05, 'epoch': 1.07}\n",
            "{'loss': 1.1607, 'grad_norm': 26.275514602661133, 'learning_rate': 1.7541478823146328e-05, 'epoch': 1.14}\n",
            "{'loss': 1.134, 'grad_norm': 12.552483558654785, 'learning_rate': 1.7239961680637002e-05, 'epoch': 1.21}\n",
            "{'loss': 1.1519, 'grad_norm': 15.743618965148926, 'learning_rate': 1.6923930632775517e-05, 'epoch': 1.28}\n",
            "{'loss': 1.0236, 'grad_norm': 6.738943576812744, 'learning_rate': 1.6594019225003043e-05, 'epoch': 1.35}\n",
            "{'loss': 1.0659, 'grad_norm': 13.012080192565918, 'learning_rate': 1.62508888286304e-05, 'epoch': 1.43}\n",
            "{'loss': 1.1213, 'grad_norm': 10.040648460388184, 'learning_rate': 1.589522731499118e-05, 'epoch': 1.5}\n",
            "{'loss': 0.9958, 'grad_norm': 29.4213924407959, 'learning_rate': 1.552774767647043e-05, 'epoch': 1.57}\n",
            "{'loss': 1.0103, 'grad_norm': 3.931788444519043, 'learning_rate': 1.5149186597173348e-05, 'epoch': 1.64}\n",
            "{'loss': 0.9586, 'grad_norm': 9.6044921875, 'learning_rate': 1.4760302976099305e-05, 'epoch': 1.71}\n",
            "{'loss': 0.913, 'grad_norm': 14.459977149963379, 'learning_rate': 1.4361876405781835e-05, 'epoch': 1.78}\n",
            "{'loss': 0.9381, 'grad_norm': 10.124104499816895, 'learning_rate': 1.3954705609444403e-05, 'epoch': 1.85}\n",
            "{'loss': 0.9229, 'grad_norm': 23.351898193359375, 'learning_rate': 1.3539606839805037e-05, 'epoch': 1.92}\n",
            "{'loss': 0.9577, 'grad_norm': 28.39780616760254, 'learning_rate': 1.3117412242739655e-05, 'epoch': 2.0}\n"
          ]
        },
        {
          "data": {
            "application/vnd.jupyter.widget-view+json": {
              "model_id": "a38e7330dff7400c88998ca4dfd03d39",
              "version_major": 2,
              "version_minor": 0
            },
            "text/plain": [
              "  0%|          | 0/860 [00:00<?, ?it/s]"
            ]
          },
          "metadata": {},
          "output_type": "display_data"
        },
        {
          "name": "stdout",
          "output_type": "stream",
          "text": [
            "{'eval_loss': 0.9757741806734822, 'eval_accuracy_emotions': 0.7562, 'eval_accuracy_triggers': 0.8312, 'eval_u_avg_f1': 0.5954, 'eval_u_f1scores_emotions': 0.708, 'eval_u_f1scores_triggers': 0.4829, 'eval_d_f1scores_emotions': 0.749, 'eval_d_f1scores_triggers': 0.7913, 'eval_runtime': 641.3934, 'eval_samples_per_second': 5.359, 'eval_steps_per_second': 1.341, 'epoch': 2.0}\n",
            "{'loss': 0.806, 'grad_norm': 15.867147445678711, 'learning_rate': 1.2688968189084494e-05, 'epoch': 2.07}\n",
            "{'loss': 0.8413, 'grad_norm': 12.18295955657959, 'learning_rate': 1.225513357792187e-05, 'epoch': 2.14}\n",
            "{'loss': 0.8394, 'grad_norm': 30.812488555908203, 'learning_rate': 1.1816778114750594e-05, 'epoch': 2.21}\n",
            "{'loss': 0.8243, 'grad_norm': 29.343320846557617, 'learning_rate': 1.13747805679929e-05, 'epoch': 2.28}\n",
            "{'loss': 0.846, 'grad_norm': 11.432252883911133, 'learning_rate': 1.0930027007332924e-05, 'epoch': 2.35}\n",
            "{'loss': 0.813, 'grad_norm': 139.07350158691406, 'learning_rate': 1.0483409027418426e-05, 'epoch': 2.42}\n",
            "{'loss': 0.8046, 'grad_norm': 4.8390021324157715, 'learning_rate': 1.0035821960486643e-05, 'epoch': 2.49}\n",
            "{'loss': 0.8032, 'grad_norm': 15.368760108947754, 'learning_rate': 9.588163081497427e-06, 'epoch': 2.57}\n",
            "{'loss': 0.7957, 'grad_norm': 10.91066837310791, 'learning_rate': 9.141329809371803e-06, 'epoch': 2.64}\n",
            "{'loss': 0.7861, 'grad_norm': 11.777069091796875, 'learning_rate': 8.696217907941941e-06, 'epoch': 2.71}\n",
            "{'loss': 0.78, 'grad_norm': 25.900720596313477, 'learning_rate': 8.253719690219079e-06, 'epoch': 2.78}\n",
            "{'loss': 0.7321, 'grad_norm': 30.847652435302734, 'learning_rate': 7.814722229579263e-06, 'epoch': 2.85}\n",
            "{'loss': 0.8054, 'grad_norm': 11.804672241210938, 'learning_rate': 7.380105581452988e-06, 'epoch': 2.92}\n",
            "{'loss': 0.8039, 'grad_norm': 18.442184448242188, 'learning_rate': 6.9507410190836174e-06, 'epoch': 2.99}\n"
          ]
        },
        {
          "data": {
            "application/vnd.jupyter.widget-view+json": {
              "model_id": "80498e813ce74360b3e5ca108cad3e9a",
              "version_major": 2,
              "version_minor": 0
            },
            "text/plain": [
              "  0%|          | 0/860 [00:00<?, ?it/s]"
            ]
          },
          "metadata": {},
          "output_type": "display_data"
        },
        {
          "name": "stdout",
          "output_type": "stream",
          "text": [
            "{'eval_loss': 0.9132623331896397, 'eval_accuracy_emotions': 0.8184, 'eval_accuracy_triggers': 0.8231, 'eval_u_avg_f1': 0.644, 'eval_u_f1scores_emotions': 0.7933, 'eval_u_f1scores_triggers': 0.4946, 'eval_d_f1scores_emotions': 0.8106, 'eval_d_f1scores_triggers': 0.7853, 'eval_runtime': 642.186, 'eval_samples_per_second': 5.352, 'eval_steps_per_second': 1.339, 'epoch': 3.0}\n",
            "{'loss': 0.7222, 'grad_norm': 28.396488189697266, 'learning_rate': 6.527489286891458e-06, 'epoch': 3.06}\n",
            "{'loss': 0.7665, 'grad_norm': 15.410980224609375, 'learning_rate': 6.111198874944846e-06, 'epoch': 3.14}\n",
            "{'loss': 0.7007, 'grad_norm': 27.196365356445312, 'learning_rate': 5.702704317997491e-06, 'epoch': 3.21}\n",
            "{'loss': 0.7075, 'grad_norm': 16.874601364135742, 'learning_rate': 5.302824522501931e-06, 'epoch': 3.28}\n",
            "{'loss': 0.6879, 'grad_norm': 67.58008575439453, 'learning_rate': 4.912361124952949e-06, 'epoch': 3.35}\n",
            "{'loss': 0.7371, 'grad_norm': 12.793712615966797, 'learning_rate': 4.532096884851978e-06, 'epoch': 3.42}\n",
            "{'loss': 0.7505, 'grad_norm': 16.309864044189453, 'learning_rate': 4.162794115514078e-06, 'epoch': 3.49}\n",
            "{'loss': 0.7585, 'grad_norm': 29.61113166809082, 'learning_rate': 3.805193155863247e-06, 'epoch': 3.56}\n",
            "{'loss': 0.7179, 'grad_norm': 45.29264831542969, 'learning_rate': 3.460010886279681e-06, 'epoch': 3.63}\n",
            "{'loss': 0.7338, 'grad_norm': 20.618606567382812, 'learning_rate': 3.1279392914742047e-06, 'epoch': 3.71}\n",
            "{'loss': 0.7367, 'grad_norm': 0.789205014705658, 'learning_rate': 2.8096440732709085e-06, 'epoch': 3.78}\n",
            "{'loss': 0.7181, 'grad_norm': 9.440805435180664, 'learning_rate': 2.5057633160789186e-06, 'epoch': 3.85}\n",
            "{'loss': 0.6986, 'grad_norm': 35.96499252319336, 'learning_rate': 2.2169062077286072e-06, 'epoch': 3.92}\n",
            "{'loss': 0.6481, 'grad_norm': 10.55893611907959, 'learning_rate': 1.943651818236616e-06, 'epoch': 3.99}\n"
          ]
        },
        {
          "data": {
            "application/vnd.jupyter.widget-view+json": {
              "model_id": "3a9510d7f6364a81bd1fb5c6e7abc427",
              "version_major": 2,
              "version_minor": 0
            },
            "text/plain": [
              "  0%|          | 0/860 [00:00<?, ?it/s]"
            ]
          },
          "metadata": {},
          "output_type": "display_data"
        },
        {
          "name": "stdout",
          "output_type": "stream",
          "text": [
            "{'eval_loss': 0.9700639476682201, 'eval_accuracy_emotions': 0.8589, 'eval_accuracy_triggers': 0.8024, 'eval_u_avg_f1': 0.6948, 'eval_u_f1scores_emotions': 0.8404, 'eval_u_f1scores_triggers': 0.5492, 'eval_d_f1scores_emotions': 0.8533, 'eval_d_f1scores_triggers': 0.7693, 'eval_runtime': 644.7453, 'eval_samples_per_second': 5.331, 'eval_steps_per_second': 1.334, 'epoch': 4.0}\n",
            "{'loss': 0.7127, 'grad_norm': 20.369461059570312, 'learning_rate': 1.6865479389478545e-06, 'epoch': 4.06}\n",
            "{'loss': 0.6415, 'grad_norm': 67.45567321777344, 'learning_rate': 1.4461099843816684e-06, 'epoch': 4.13}\n",
            "{'loss': 0.6668, 'grad_norm': 48.73006057739258, 'learning_rate': 1.2228199589835998e-06, 'epoch': 4.2}\n",
            "{'loss': 0.6743, 'grad_norm': 45.05727005004883, 'learning_rate': 1.0171254908541373e-06, 'epoch': 4.28}\n",
            "{'loss': 0.7584, 'grad_norm': 7.581765174865723, 'learning_rate': 8.294389343914899e-07, 'epoch': 4.35}\n",
            "{'loss': 0.6768, 'grad_norm': 18.29268455505371, 'learning_rate': 6.601365436473439e-07, 'epoch': 4.42}\n",
            "{'loss': 0.6505, 'grad_norm': 26.74470329284668, 'learning_rate': 5.095577180527378e-07, 'epoch': 4.49}\n",
            "{'loss': 0.6211, 'grad_norm': 3.715139389038086, 'learning_rate': 3.780043220261764e-07, 'epoch': 4.56}\n",
            "{'loss': 0.6653, 'grad_norm': 1.6836628913879395, 'learning_rate': 2.6574007982793857e-07, 'epoch': 4.63}\n",
            "{'loss': 0.642, 'grad_norm': 32.31561279296875, 'learning_rate': 1.7299004687372666e-07, 'epoch': 4.7}\n",
            "{'loss': 0.7579, 'grad_norm': 47.79222106933594, 'learning_rate': 9.994015856749528e-08, 'epoch': 4.77}\n",
            "{'loss': 0.6814, 'grad_norm': 48.89878845214844, 'learning_rate': 4.673685755792523e-08, 'epoch': 4.85}\n",
            "{'loss': 0.691, 'grad_norm': 0.798092246055603, 'learning_rate': 1.3486800165773972e-08, 'epoch': 4.92}\n",
            "{'loss': 0.719, 'grad_norm': 32.5644416809082, 'learning_rate': 2.5664257062185673e-10, 'epoch': 4.99}\n"
          ]
        },
        {
          "data": {
            "application/vnd.jupyter.widget-view+json": {
              "model_id": "fcf44cf473e34380aaa493674b699093",
              "version_major": 2,
              "version_minor": 0
            },
            "text/plain": [
              "  0%|          | 0/860 [00:00<?, ?it/s]"
            ]
          },
          "metadata": {},
          "output_type": "display_data"
        },
        {
          "name": "stdout",
          "output_type": "stream",
          "text": [
            "{'eval_loss': 1.029063081651802, 'eval_accuracy_emotions': 0.8665, 'eval_accuracy_triggers': 0.8065, 'eval_u_avg_f1': 0.6996, 'eval_u_f1scores_emotions': 0.8452, 'eval_u_f1scores_triggers': 0.5541, 'eval_d_f1scores_emotions': 0.8589, 'eval_d_f1scores_triggers': 0.7742, 'eval_runtime': 641.9631, 'eval_samples_per_second': 5.354, 'eval_steps_per_second': 1.34, 'epoch': 5.0}\n",
            "{'train_runtime': 12727.6777, 'train_samples_per_second': 11.024, 'train_steps_per_second': 2.756, 'train_loss': 0.9176728591135997, 'epoch': 5.0}\n"
          ]
        }
      ],
      "source": [
        "train_nopooling_model(666)"
      ]
    },
    {
      "cell_type": "code",
      "execution_count": 35,
      "metadata": {},
      "outputs": [
        {
          "name": "stderr",
          "output_type": "stream",
          "text": [
            "c:\\Users\\marco\\anaconda3\\lib\\site-packages\\datasets\\table.py:1395: FutureWarning: promote has been superseded by mode='default'.\n",
            "  block_group = [InMemoryTable(cls._concat_blocks(list(block_group), axis=axis))]\n",
            "c:\\Users\\marco\\anaconda3\\lib\\site-packages\\datasets\\table.py:1421: FutureWarning: promote has been superseded by mode='default'.\n",
            "  table = cls._concat_blocks(blocks, axis=0)\n"
          ]
        },
        {
          "name": "stdout",
          "output_type": "stream",
          "text": [
            "Training NOPOOLING MODEL with seed 51:\n"
          ]
        },
        {
          "data": {
            "application/vnd.jupyter.widget-view+json": {
              "model_id": "329aff89e0fc4aedae823be40e728266",
              "version_major": 2,
              "version_minor": 0
            },
            "text/plain": [
              "  0%|          | 0/35080 [00:00<?, ?it/s]"
            ]
          },
          "metadata": {},
          "output_type": "display_data"
        },
        {
          "name": "stderr",
          "output_type": "stream",
          "text": [
            "Could not estimate the number of tokens of the input, floating-point operations will not be computed\n"
          ]
        },
        {
          "name": "stdout",
          "output_type": "stream",
          "text": [
            "{'loss': 1.5752, 'grad_norm': 17.321617126464844, 'learning_rate': 1.9989976531650042e-05, 'epoch': 0.07}\n",
            "{'loss': 1.4971, 'grad_norm': 6.476842880249023, 'learning_rate': 1.9959926220583713e-05, 'epoch': 0.14}\n",
            "{'loss': 1.4055, 'grad_norm': 4.3822126388549805, 'learning_rate': 1.9909909308469398e-05, 'epoch': 0.21}\n",
            "{'loss': 1.3876, 'grad_norm': 20.830284118652344, 'learning_rate': 1.9840026063894193e-05, 'epoch': 0.29}\n",
            "{'loss': 1.3987, 'grad_norm': 6.851800441741943, 'learning_rate': 1.9750416581356147e-05, 'epoch': 0.36}\n",
            "{'loss': 1.3711, 'grad_norm': 4.564669609069824, 'learning_rate': 1.9641260500417672e-05, 'epoch': 0.43}\n",
            "{'loss': 1.3812, 'grad_norm': 6.331668376922607, 'learning_rate': 1.9512776645583266e-05, 'epoch': 0.5}\n",
            "{'loss': 1.3197, 'grad_norm': 22.884294509887695, 'learning_rate': 1.9365222587623407e-05, 'epoch': 0.57}\n",
            "{'loss': 1.3296, 'grad_norm': 7.685431957244873, 'learning_rate': 1.9198894127224075e-05, 'epoch': 0.64}\n",
            "{'loss': 1.3401, 'grad_norm': 8.3024263381958, 'learning_rate': 1.9014124701996973e-05, 'epoch': 0.71}\n",
            "{'loss': 1.2964, 'grad_norm': 17.20943260192871, 'learning_rate': 1.881128471803926e-05, 'epoch': 0.78}\n",
            "{'loss': 1.3493, 'grad_norm': 4.826962471008301, 'learning_rate': 1.859078080738279e-05, 'epoch': 0.86}\n",
            "{'loss': 1.2214, 'grad_norm': 12.396567344665527, 'learning_rate': 1.835305501282148e-05, 'epoch': 0.93}\n",
            "{'loss': 1.2698, 'grad_norm': 9.721882820129395, 'learning_rate': 1.809858390175087e-05, 'epoch': 1.0}\n"
          ]
        },
        {
          "data": {
            "application/vnd.jupyter.widget-view+json": {
              "model_id": "fb03243ef9c1420e8dce2d6fb40be3e9",
              "version_major": 2,
              "version_minor": 0
            },
            "text/plain": [
              "  0%|          | 0/860 [00:00<?, ?it/s]"
            ]
          },
          "metadata": {},
          "output_type": "display_data"
        },
        {
          "name": "stdout",
          "output_type": "stream",
          "text": [
            "{'eval_loss': 1.2426002322762475, 'eval_accuracy_emotions': 0.5374, 'eval_accuracy_triggers': 0.7873, 'eval_u_avg_f1': 0.447, 'eval_u_f1scores_emotions': 0.3911, 'eval_u_f1scores_triggers': 0.5028, 'eval_d_f1scores_emotions': 0.5395, 'eval_d_f1scores_triggers': 0.7569, 'eval_runtime': 641.1818, 'eval_samples_per_second': 5.36, 'eval_steps_per_second': 1.341, 'epoch': 1.0}\n",
            "{'loss': 1.2426, 'grad_norm': 9.49957275390625, 'learning_rate': 1.7827877610796515e-05, 'epoch': 1.07}\n",
            "{'loss': 1.231, 'grad_norm': 10.063718795776367, 'learning_rate': 1.7541478823146328e-05, 'epoch': 1.14}\n",
            "{'loss': 1.1986, 'grad_norm': 19.602205276489258, 'learning_rate': 1.7239961680637002e-05, 'epoch': 1.21}\n",
            "{'loss': 1.1947, 'grad_norm': 8.824554443359375, 'learning_rate': 1.6923930632775517e-05, 'epoch': 1.28}\n",
            "{'loss': 1.0763, 'grad_norm': 10.201091766357422, 'learning_rate': 1.6594019225003043e-05, 'epoch': 1.35}\n",
            "{'loss': 1.1083, 'grad_norm': 15.650068283081055, 'learning_rate': 1.62508888286304e-05, 'epoch': 1.43}\n",
            "{'loss': 1.1982, 'grad_norm': 6.535671710968018, 'learning_rate': 1.589522731499118e-05, 'epoch': 1.5}\n",
            "{'loss': 1.0851, 'grad_norm': 23.902090072631836, 'learning_rate': 1.552774767647043e-05, 'epoch': 1.57}\n",
            "{'loss': 1.0958, 'grad_norm': 3.281163215637207, 'learning_rate': 1.5149186597173348e-05, 'epoch': 1.64}\n",
            "{'loss': 1.024, 'grad_norm': 10.062688827514648, 'learning_rate': 1.4760302976099305e-05, 'epoch': 1.71}\n",
            "{'loss': 0.9881, 'grad_norm': 14.69543170928955, 'learning_rate': 1.4361876405781835e-05, 'epoch': 1.78}\n",
            "{'loss': 1.0034, 'grad_norm': 3.9269587993621826, 'learning_rate': 1.3954705609444403e-05, 'epoch': 1.85}\n",
            "{'loss': 0.9871, 'grad_norm': 22.093046188354492, 'learning_rate': 1.3539606839805037e-05, 'epoch': 1.92}\n",
            "{'loss': 1.0049, 'grad_norm': 31.888586044311523, 'learning_rate': 1.3117412242739655e-05, 'epoch': 2.0}\n"
          ]
        },
        {
          "data": {
            "application/vnd.jupyter.widget-view+json": {
              "model_id": "a7c8ad92a2e94c30991a6c0eaecebcf8",
              "version_major": 2,
              "version_minor": 0
            },
            "text/plain": [
              "  0%|          | 0/860 [00:00<?, ?it/s]"
            ]
          },
          "metadata": {},
          "output_type": "display_data"
        },
        {
          "name": "stdout",
          "output_type": "stream",
          "text": [
            "{'eval_loss': 1.0443094371663264, 'eval_accuracy_emotions': 0.7219, 'eval_accuracy_triggers': 0.8199, 'eval_u_avg_f1': 0.5751, 'eval_u_f1scores_emotions': 0.6711, 'eval_u_f1scores_triggers': 0.4791, 'eval_d_f1scores_emotions': 0.7164, 'eval_d_f1scores_triggers': 0.7803, 'eval_runtime': 643.2842, 'eval_samples_per_second': 5.343, 'eval_steps_per_second': 1.337, 'epoch': 2.0}\n",
            "{'loss': 0.859, 'grad_norm': 21.250499725341797, 'learning_rate': 1.2688968189084494e-05, 'epoch': 2.07}\n",
            "{'loss': 0.8951, 'grad_norm': 13.3119478225708, 'learning_rate': 1.225513357792187e-05, 'epoch': 2.14}\n",
            "{'loss': 0.8869, 'grad_norm': 26.680709838867188, 'learning_rate': 1.1816778114750594e-05, 'epoch': 2.21}\n",
            "{'loss': 0.8412, 'grad_norm': 16.560510635375977, 'learning_rate': 1.13747805679929e-05, 'epoch': 2.28}\n",
            "{'loss': 0.8969, 'grad_norm': 9.181397438049316, 'learning_rate': 1.0930027007332924e-05, 'epoch': 2.35}\n",
            "{'loss': 0.8439, 'grad_norm': 56.86676788330078, 'learning_rate': 1.0483409027418426e-05, 'epoch': 2.42}\n",
            "{'loss': 0.854, 'grad_norm': 4.384901523590088, 'learning_rate': 1.0035821960486643e-05, 'epoch': 2.49}\n",
            "{'loss': 0.8414, 'grad_norm': 7.5734477043151855, 'learning_rate': 9.588163081497427e-06, 'epoch': 2.57}\n",
            "{'loss': 0.8589, 'grad_norm': 6.447962284088135, 'learning_rate': 9.141329809371803e-06, 'epoch': 2.64}\n",
            "{'loss': 0.818, 'grad_norm': 10.711236000061035, 'learning_rate': 8.696217907941941e-06, 'epoch': 2.71}\n",
            "{'loss': 0.8119, 'grad_norm': 14.8214693069458, 'learning_rate': 8.253719690219079e-06, 'epoch': 2.78}\n",
            "{'loss': 0.756, 'grad_norm': 17.76416015625, 'learning_rate': 7.814722229579263e-06, 'epoch': 2.85}\n",
            "{'loss': 0.8535, 'grad_norm': 9.733635902404785, 'learning_rate': 7.380105581452988e-06, 'epoch': 2.92}\n",
            "{'loss': 0.8078, 'grad_norm': 38.45851516723633, 'learning_rate': 6.9507410190836174e-06, 'epoch': 2.99}\n"
          ]
        },
        {
          "data": {
            "application/vnd.jupyter.widget-view+json": {
              "model_id": "7e22324aaac643ec98cc5acd9e610e01",
              "version_major": 2,
              "version_minor": 0
            },
            "text/plain": [
              "  0%|          | 0/860 [00:00<?, ?it/s]"
            ]
          },
          "metadata": {},
          "output_type": "display_data"
        },
        {
          "name": "stdout",
          "output_type": "stream",
          "text": [
            "{'eval_loss': 0.9327491590407251, 'eval_accuracy_emotions': 0.794, 'eval_accuracy_triggers': 0.8295, 'eval_u_avg_f1': 0.6217, 'eval_u_f1scores_emotions': 0.7643, 'eval_u_f1scores_triggers': 0.4791, 'eval_d_f1scores_emotions': 0.7856, 'eval_d_f1scores_triggers': 0.789, 'eval_runtime': 643.9679, 'eval_samples_per_second': 5.337, 'eval_steps_per_second': 1.335, 'epoch': 3.0}\n",
            "{'loss': 0.7338, 'grad_norm': 78.05684661865234, 'learning_rate': 6.527489286891458e-06, 'epoch': 3.06}\n",
            "{'loss': 0.7693, 'grad_norm': 18.218338012695312, 'learning_rate': 6.111198874944846e-06, 'epoch': 3.14}\n",
            "{'loss': 0.7319, 'grad_norm': 54.29219055175781, 'learning_rate': 5.702704317997491e-06, 'epoch': 3.21}\n",
            "{'loss': 0.7367, 'grad_norm': 11.57997989654541, 'learning_rate': 5.302824522501931e-06, 'epoch': 3.28}\n",
            "{'loss': 0.7236, 'grad_norm': 159.38169860839844, 'learning_rate': 4.912361124952949e-06, 'epoch': 3.35}\n",
            "{'loss': 0.7261, 'grad_norm': 10.150269508361816, 'learning_rate': 4.532096884851978e-06, 'epoch': 3.42}\n",
            "{'loss': 0.7518, 'grad_norm': 30.521366119384766, 'learning_rate': 4.162794115514078e-06, 'epoch': 3.49}\n",
            "{'loss': 0.7604, 'grad_norm': 48.73345947265625, 'learning_rate': 3.805193155863247e-06, 'epoch': 3.56}\n",
            "{'loss': 0.7465, 'grad_norm': 51.22230529785156, 'learning_rate': 3.460010886279681e-06, 'epoch': 3.63}\n",
            "{'loss': 0.7146, 'grad_norm': 27.053504943847656, 'learning_rate': 3.1279392914742047e-06, 'epoch': 3.71}\n",
            "{'loss': 0.7261, 'grad_norm': 1.4239161014556885, 'learning_rate': 2.8096440732709085e-06, 'epoch': 3.78}\n",
            "{'loss': 0.7342, 'grad_norm': 4.026556968688965, 'learning_rate': 2.5057633160789186e-06, 'epoch': 3.85}\n",
            "{'loss': 0.6871, 'grad_norm': 28.20022964477539, 'learning_rate': 2.2169062077286072e-06, 'epoch': 3.92}\n",
            "{'loss': 0.6906, 'grad_norm': 9.415982246398926, 'learning_rate': 1.943651818236616e-06, 'epoch': 3.99}\n"
          ]
        },
        {
          "data": {
            "application/vnd.jupyter.widget-view+json": {
              "model_id": "1618e3bd2dac450392f09f8a7cdacadd",
              "version_major": 2,
              "version_minor": 0
            },
            "text/plain": [
              "  0%|          | 0/860 [00:00<?, ?it/s]"
            ]
          },
          "metadata": {},
          "output_type": "display_data"
        },
        {
          "name": "stdout",
          "output_type": "stream",
          "text": [
            "{'eval_loss': 0.9455097333284872, 'eval_accuracy_emotions': 0.8542, 'eval_accuracy_triggers': 0.803, 'eval_u_avg_f1': 0.6797, 'eval_u_f1scores_emotions': 0.8296, 'eval_u_f1scores_triggers': 0.5298, 'eval_d_f1scores_emotions': 0.8505, 'eval_d_f1scores_triggers': 0.7686, 'eval_runtime': 640.5838, 'eval_samples_per_second': 5.365, 'eval_steps_per_second': 1.343, 'epoch': 4.0}\n",
            "{'loss': 0.729, 'grad_norm': 17.11652946472168, 'learning_rate': 1.6865479389478545e-06, 'epoch': 4.06}\n",
            "{'loss': 0.6428, 'grad_norm': 116.95448303222656, 'learning_rate': 1.4461099843816684e-06, 'epoch': 4.13}\n",
            "{'loss': 0.6326, 'grad_norm': 26.291603088378906, 'learning_rate': 1.2228199589835998e-06, 'epoch': 4.2}\n",
            "{'loss': 0.6885, 'grad_norm': 31.287939071655273, 'learning_rate': 1.0171254908541373e-06, 'epoch': 4.28}\n",
            "{'loss': 0.7504, 'grad_norm': 6.978219985961914, 'learning_rate': 8.294389343914899e-07, 'epoch': 4.35}\n",
            "{'loss': 0.667, 'grad_norm': 37.051353454589844, 'learning_rate': 6.601365436473439e-07, 'epoch': 4.42}\n",
            "{'loss': 0.6867, 'grad_norm': 38.52204895019531, 'learning_rate': 5.095577180527378e-07, 'epoch': 4.49}\n",
            "{'loss': 0.6387, 'grad_norm': 36.168216705322266, 'learning_rate': 3.780043220261764e-07, 'epoch': 4.56}\n",
            "{'loss': 0.6918, 'grad_norm': 1.9221874475479126, 'learning_rate': 2.6574007982793857e-07, 'epoch': 4.63}\n",
            "{'loss': 0.6584, 'grad_norm': 33.846675872802734, 'learning_rate': 1.7299004687372666e-07, 'epoch': 4.7}\n",
            "{'loss': 0.7208, 'grad_norm': 32.01460266113281, 'learning_rate': 9.994015856749528e-08, 'epoch': 4.77}\n",
            "{'loss': 0.6981, 'grad_norm': 68.00089263916016, 'learning_rate': 4.673685755792523e-08, 'epoch': 4.85}\n",
            "{'loss': 0.6901, 'grad_norm': 81.29095458984375, 'learning_rate': 1.3486800165773972e-08, 'epoch': 4.92}\n",
            "{'loss': 0.7093, 'grad_norm': 25.688003540039062, 'learning_rate': 2.5664257062185673e-10, 'epoch': 4.99}\n"
          ]
        },
        {
          "data": {
            "application/vnd.jupyter.widget-view+json": {
              "model_id": "82a3c784b7b04216abf7813734fcc5d6",
              "version_major": 2,
              "version_minor": 0
            },
            "text/plain": [
              "  0%|          | 0/860 [00:00<?, ?it/s]"
            ]
          },
          "metadata": {},
          "output_type": "display_data"
        },
        {
          "name": "stdout",
          "output_type": "stream",
          "text": [
            "{'eval_loss': 0.9969433511771446, 'eval_accuracy_emotions': 0.8554, 'eval_accuracy_triggers': 0.8033, 'eval_u_avg_f1': 0.6834, 'eval_u_f1scores_emotions': 0.8329, 'eval_u_f1scores_triggers': 0.5339, 'eval_d_f1scores_emotions': 0.8488, 'eval_d_f1scores_triggers': 0.7707, 'eval_runtime': 640.6516, 'eval_samples_per_second': 5.365, 'eval_steps_per_second': 1.342, 'epoch': 5.0}\n",
            "{'train_runtime': 12721.0733, 'train_samples_per_second': 11.03, 'train_steps_per_second': 2.758, 'train_loss': 0.9455921316636193, 'epoch': 5.0}\n"
          ]
        }
      ],
      "source": [
        "train_nopooling_model(51)"
      ]
    },
    {
      "cell_type": "code",
      "execution_count": 36,
      "metadata": {},
      "outputs": [
        {
          "name": "stderr",
          "output_type": "stream",
          "text": [
            "c:\\Users\\marco\\anaconda3\\lib\\site-packages\\datasets\\table.py:1395: FutureWarning: promote has been superseded by mode='default'.\n",
            "  block_group = [InMemoryTable(cls._concat_blocks(list(block_group), axis=axis))]\n",
            "c:\\Users\\marco\\anaconda3\\lib\\site-packages\\datasets\\table.py:1421: FutureWarning: promote has been superseded by mode='default'.\n",
            "  table = cls._concat_blocks(blocks, axis=0)\n"
          ]
        },
        {
          "name": "stdout",
          "output_type": "stream",
          "text": [
            "Training NOPOOLING MODEL with seed 77:\n"
          ]
        },
        {
          "data": {
            "application/vnd.jupyter.widget-view+json": {
              "model_id": "391f863c95eb4a4482f67d74238a4d15",
              "version_major": 2,
              "version_minor": 0
            },
            "text/plain": [
              "  0%|          | 0/35080 [00:00<?, ?it/s]"
            ]
          },
          "metadata": {},
          "output_type": "display_data"
        },
        {
          "name": "stderr",
          "output_type": "stream",
          "text": [
            "Could not estimate the number of tokens of the input, floating-point operations will not be computed\n"
          ]
        },
        {
          "name": "stdout",
          "output_type": "stream",
          "text": [
            "{'loss': 1.5696, 'grad_norm': 23.076730728149414, 'learning_rate': 1.9989976531650042e-05, 'epoch': 0.07}\n",
            "{'loss': 1.4859, 'grad_norm': 6.132292747497559, 'learning_rate': 1.9959926220583713e-05, 'epoch': 0.14}\n",
            "{'loss': 1.4003, 'grad_norm': 5.022042274475098, 'learning_rate': 1.9909909308469398e-05, 'epoch': 0.21}\n",
            "{'loss': 1.495, 'grad_norm': 21.29616355895996, 'learning_rate': 1.9840026063894193e-05, 'epoch': 0.29}\n",
            "{'loss': 1.4605, 'grad_norm': 4.247101306915283, 'learning_rate': 1.9750416581356147e-05, 'epoch': 0.36}\n",
            "{'loss': 1.4602, 'grad_norm': 5.142590522766113, 'learning_rate': 1.9641260500417672e-05, 'epoch': 0.43}\n",
            "{'loss': 1.4605, 'grad_norm': 11.402143478393555, 'learning_rate': 1.9512776645583266e-05, 'epoch': 0.5}\n",
            "{'loss': 1.3851, 'grad_norm': 23.576309204101562, 'learning_rate': 1.9365222587623407e-05, 'epoch': 0.57}\n",
            "{'loss': 1.4079, 'grad_norm': 7.862736225128174, 'learning_rate': 1.9198894127224075e-05, 'epoch': 0.64}\n",
            "{'loss': 1.4748, 'grad_norm': 6.277125358581543, 'learning_rate': 1.9014124701996973e-05, 'epoch': 0.71}\n",
            "{'loss': 1.4206, 'grad_norm': 16.665163040161133, 'learning_rate': 1.881128471803926e-05, 'epoch': 0.78}\n",
            "{'loss': 1.4806, 'grad_norm': 4.556296348571777, 'learning_rate': 1.859078080738279e-05, 'epoch': 0.86}\n",
            "{'loss': 1.3655, 'grad_norm': 6.7275567054748535, 'learning_rate': 1.835305501282148e-05, 'epoch': 0.93}\n",
            "{'loss': 1.3658, 'grad_norm': 11.941734313964844, 'learning_rate': 1.809858390175087e-05, 'epoch': 1.0}\n"
          ]
        },
        {
          "data": {
            "application/vnd.jupyter.widget-view+json": {
              "model_id": "aa7cac6712b749c69fed530d27a29c81",
              "version_major": 2,
              "version_minor": 0
            },
            "text/plain": [
              "  0%|          | 0/860 [00:00<?, ?it/s]"
            ]
          },
          "metadata": {},
          "output_type": "display_data"
        },
        {
          "name": "stdout",
          "output_type": "stream",
          "text": [
            "{'eval_loss': 1.3683534543700018, 'eval_accuracy_emotions': 0.4737, 'eval_accuracy_triggers': 0.835, 'eval_u_avg_f1': 0.3402, 'eval_u_f1scores_emotions': 0.2254, 'eval_u_f1scores_triggers': 0.455, 'eval_d_f1scores_emotions': 0.4762, 'eval_d_f1scores_triggers': 0.7938, 'eval_runtime': 644.3647, 'eval_samples_per_second': 5.334, 'eval_steps_per_second': 1.335, 'epoch': 1.0}\n",
            "{'loss': 1.4366, 'grad_norm': 7.953241348266602, 'learning_rate': 1.7827877610796515e-05, 'epoch': 1.07}\n",
            "{'loss': 1.4182, 'grad_norm': 2.8942368030548096, 'learning_rate': 1.7541478823146328e-05, 'epoch': 1.14}\n",
            "{'loss': 1.3651, 'grad_norm': 22.310771942138672, 'learning_rate': 1.7239961680637002e-05, 'epoch': 1.21}\n",
            "{'loss': 1.3956, 'grad_norm': 8.185952186584473, 'learning_rate': 1.6923930632775517e-05, 'epoch': 1.28}\n",
            "{'loss': 1.2956, 'grad_norm': 6.737220287322998, 'learning_rate': 1.6594019225003043e-05, 'epoch': 1.35}\n",
            "{'loss': 1.3122, 'grad_norm': 11.679232597351074, 'learning_rate': 1.62508888286304e-05, 'epoch': 1.43}\n",
            "{'loss': 1.4138, 'grad_norm': 12.862060546875, 'learning_rate': 1.589522731499118e-05, 'epoch': 1.5}\n",
            "{'loss': 1.2768, 'grad_norm': 18.892290115356445, 'learning_rate': 1.552774767647043e-05, 'epoch': 1.57}\n",
            "{'loss': 1.3401, 'grad_norm': 12.641032218933105, 'learning_rate': 1.5149186597173348e-05, 'epoch': 1.64}\n",
            "{'loss': 1.2715, 'grad_norm': 12.789833068847656, 'learning_rate': 1.4760302976099305e-05, 'epoch': 1.71}\n",
            "{'loss': 1.2645, 'grad_norm': 30.33854866027832, 'learning_rate': 1.4361876405781835e-05, 'epoch': 1.78}\n",
            "{'loss': 1.2663, 'grad_norm': 6.548035621643066, 'learning_rate': 1.3954705609444403e-05, 'epoch': 1.85}\n",
            "{'loss': 1.3234, 'grad_norm': 10.498653411865234, 'learning_rate': 1.3539606839805037e-05, 'epoch': 1.92}\n",
            "{'loss': 1.2645, 'grad_norm': 21.668405532836914, 'learning_rate': 1.3117412242739655e-05, 'epoch': 2.0}\n"
          ]
        },
        {
          "data": {
            "application/vnd.jupyter.widget-view+json": {
              "model_id": "2a7186e8c08c4a329ab85767f99e2388",
              "version_major": 2,
              "version_minor": 0
            },
            "text/plain": [
              "  0%|          | 0/860 [00:00<?, ?it/s]"
            ]
          },
          "metadata": {},
          "output_type": "display_data"
        },
        {
          "name": "stdout",
          "output_type": "stream",
          "text": [
            "{'eval_loss': 1.3347824936499322, 'eval_accuracy_emotions': 0.5426, 'eval_accuracy_triggers': 0.835, 'eval_u_avg_f1': 0.3944, 'eval_u_f1scores_emotions': 0.3337, 'eval_u_f1scores_triggers': 0.455, 'eval_d_f1scores_emotions': 0.5399, 'eval_d_f1scores_triggers': 0.7938, 'eval_runtime': 641.2436, 'eval_samples_per_second': 5.36, 'eval_steps_per_second': 1.341, 'epoch': 2.0}\n",
            "{'loss': 1.2468, 'grad_norm': 7.841518402099609, 'learning_rate': 1.2688968189084494e-05, 'epoch': 2.07}\n",
            "{'loss': 1.2238, 'grad_norm': 12.256824493408203, 'learning_rate': 1.225513357792187e-05, 'epoch': 2.14}\n",
            "{'loss': 1.2458, 'grad_norm': 123.78314208984375, 'learning_rate': 1.1816778114750594e-05, 'epoch': 2.21}\n",
            "{'loss': 1.1989, 'grad_norm': 18.218656539916992, 'learning_rate': 1.13747805679929e-05, 'epoch': 2.28}\n",
            "{'loss': 1.2299, 'grad_norm': 13.572213172912598, 'learning_rate': 1.0930027007332924e-05, 'epoch': 2.35}\n",
            "{'loss': 1.1966, 'grad_norm': 25.44835090637207, 'learning_rate': 1.0483409027418426e-05, 'epoch': 2.42}\n",
            "{'loss': 1.1626, 'grad_norm': 9.015119552612305, 'learning_rate': 1.0035821960486643e-05, 'epoch': 2.49}\n",
            "{'loss': 1.1857, 'grad_norm': 13.721827507019043, 'learning_rate': 9.588163081497427e-06, 'epoch': 2.57}\n",
            "{'loss': 1.2074, 'grad_norm': 15.704741477966309, 'learning_rate': 9.141329809371803e-06, 'epoch': 2.64}\n",
            "{'loss': 1.1544, 'grad_norm': 16.599733352661133, 'learning_rate': 8.696217907941941e-06, 'epoch': 2.71}\n",
            "{'loss': 1.1248, 'grad_norm': 25.42499351501465, 'learning_rate': 8.253719690219079e-06, 'epoch': 2.78}\n",
            "{'loss': 1.0722, 'grad_norm': 15.651933670043945, 'learning_rate': 7.814722229579263e-06, 'epoch': 2.85}\n",
            "{'loss': 1.1673, 'grad_norm': 10.506170272827148, 'learning_rate': 7.380105581452988e-06, 'epoch': 2.92}\n",
            "{'loss': 1.1108, 'grad_norm': 24.79093360900879, 'learning_rate': 6.9507410190836174e-06, 'epoch': 2.99}\n"
          ]
        },
        {
          "data": {
            "application/vnd.jupyter.widget-view+json": {
              "model_id": "eb3b86c5a70c45f78c754b41dc200188",
              "version_major": 2,
              "version_minor": 0
            },
            "text/plain": [
              "  0%|          | 0/860 [00:00<?, ?it/s]"
            ]
          },
          "metadata": {},
          "output_type": "display_data"
        },
        {
          "name": "stdout",
          "output_type": "stream",
          "text": [
            "{'eval_loss': 1.1384856922376478, 'eval_accuracy_emotions': 0.6351, 'eval_accuracy_triggers': 0.8152, 'eval_u_avg_f1': 0.5105, 'eval_u_f1scores_emotions': 0.5227, 'eval_u_f1scores_triggers': 0.4982, 'eval_d_f1scores_emotions': 0.6383, 'eval_d_f1scores_triggers': 0.7783, 'eval_runtime': 638.8207, 'eval_samples_per_second': 5.38, 'eval_steps_per_second': 1.346, 'epoch': 3.0}\n",
            "{'loss': 1.023, 'grad_norm': 29.307058334350586, 'learning_rate': 6.527489286891458e-06, 'epoch': 3.06}\n",
            "{'loss': 1.0448, 'grad_norm': 21.722152709960938, 'learning_rate': 6.111198874944846e-06, 'epoch': 3.14}\n",
            "{'loss': 1.0289, 'grad_norm': 116.28885650634766, 'learning_rate': 5.702704317997491e-06, 'epoch': 3.21}\n",
            "{'loss': 1.0044, 'grad_norm': 35.56200408935547, 'learning_rate': 5.302824522501931e-06, 'epoch': 3.28}\n",
            "{'loss': 1.0465, 'grad_norm': 49.4491081237793, 'learning_rate': 4.912361124952949e-06, 'epoch': 3.35}\n",
            "{'loss': 0.9734, 'grad_norm': 9.203435897827148, 'learning_rate': 4.532096884851978e-06, 'epoch': 3.42}\n",
            "{'loss': 0.9874, 'grad_norm': 235.65835571289062, 'learning_rate': 4.162794115514078e-06, 'epoch': 3.49}\n",
            "{'loss': 0.9752, 'grad_norm': 20.889997482299805, 'learning_rate': 3.805193155863247e-06, 'epoch': 3.56}\n",
            "{'loss': 0.9563, 'grad_norm': 61.71240997314453, 'learning_rate': 3.460010886279681e-06, 'epoch': 3.63}\n",
            "{'loss': 0.9657, 'grad_norm': 60.59741973876953, 'learning_rate': 3.1279392914742047e-06, 'epoch': 3.71}\n",
            "{'loss': 0.9692, 'grad_norm': 13.398284912109375, 'learning_rate': 2.8096440732709085e-06, 'epoch': 3.78}\n",
            "{'loss': 0.9644, 'grad_norm': 13.07990550994873, 'learning_rate': 2.5057633160789186e-06, 'epoch': 3.85}\n",
            "{'loss': 0.9289, 'grad_norm': 16.186750411987305, 'learning_rate': 2.2169062077286072e-06, 'epoch': 3.92}\n",
            "{'loss': 0.886, 'grad_norm': 7.789889812469482, 'learning_rate': 1.943651818236616e-06, 'epoch': 3.99}\n"
          ]
        },
        {
          "data": {
            "application/vnd.jupyter.widget-view+json": {
              "model_id": "23ae1ecece714b3cb0b1aff48f969637",
              "version_major": 2,
              "version_minor": 0
            },
            "text/plain": [
              "  0%|          | 0/860 [00:00<?, ?it/s]"
            ]
          },
          "metadata": {},
          "output_type": "display_data"
        },
        {
          "name": "stdout",
          "output_type": "stream",
          "text": [
            "{'eval_loss': 1.0735636953327445, 'eval_accuracy_emotions': 0.7201, 'eval_accuracy_triggers': 0.8182, 'eval_u_avg_f1': 0.576, 'eval_u_f1scores_emotions': 0.6523, 'eval_u_f1scores_triggers': 0.4998, 'eval_d_f1scores_emotions': 0.7182, 'eval_d_f1scores_triggers': 0.7804, 'eval_runtime': 642.6165, 'eval_samples_per_second': 5.348, 'eval_steps_per_second': 1.338, 'epoch': 4.0}\n",
            "{'loss': 0.8902, 'grad_norm': 24.29273223876953, 'learning_rate': 1.6865479389478545e-06, 'epoch': 4.06}\n",
            "{'loss': 0.8616, 'grad_norm': 126.81484985351562, 'learning_rate': 1.4461099843816684e-06, 'epoch': 4.13}\n",
            "{'loss': 0.8406, 'grad_norm': 28.251375198364258, 'learning_rate': 1.2228199589835998e-06, 'epoch': 4.2}\n",
            "{'loss': 0.8946, 'grad_norm': 26.608909606933594, 'learning_rate': 1.0171254908541373e-06, 'epoch': 4.28}\n",
            "{'loss': 0.9266, 'grad_norm': 10.111003875732422, 'learning_rate': 8.294389343914899e-07, 'epoch': 4.35}\n",
            "{'loss': 0.8931, 'grad_norm': 21.485729217529297, 'learning_rate': 6.601365436473439e-07, 'epoch': 4.42}\n",
            "{'loss': 0.8802, 'grad_norm': 60.968692779541016, 'learning_rate': 5.095577180527378e-07, 'epoch': 4.49}\n",
            "{'loss': 0.8469, 'grad_norm': 22.92032241821289, 'learning_rate': 3.780043220261764e-07, 'epoch': 4.56}\n",
            "{'loss': 0.9364, 'grad_norm': 10.655570983886719, 'learning_rate': 2.6574007982793857e-07, 'epoch': 4.63}\n",
            "{'loss': 0.846, 'grad_norm': 31.65884017944336, 'learning_rate': 1.7299004687372666e-07, 'epoch': 4.7}\n",
            "{'loss': 0.8912, 'grad_norm': 32.91435623168945, 'learning_rate': 9.994015856749528e-08, 'epoch': 4.77}\n",
            "{'loss': 0.8753, 'grad_norm': 30.659257888793945, 'learning_rate': 4.673685755792523e-08, 'epoch': 4.85}\n",
            "{'loss': 0.8578, 'grad_norm': 10.98905086517334, 'learning_rate': 1.3486800165773972e-08, 'epoch': 4.92}\n",
            "{'loss': 0.8527, 'grad_norm': 10.6593656539917, 'learning_rate': 2.5664257062185673e-10, 'epoch': 4.99}\n"
          ]
        },
        {
          "data": {
            "application/vnd.jupyter.widget-view+json": {
              "model_id": "8bbf112acd064ee78b3d32738d7c507e",
              "version_major": 2,
              "version_minor": 0
            },
            "text/plain": [
              "  0%|          | 0/860 [00:00<?, ?it/s]"
            ]
          },
          "metadata": {},
          "output_type": "display_data"
        },
        {
          "name": "stdout",
          "output_type": "stream",
          "text": [
            "{'eval_loss': 1.0535296302580814, 'eval_accuracy_emotions': 0.7338, 'eval_accuracy_triggers': 0.81, 'eval_u_avg_f1': 0.5881, 'eval_u_f1scores_emotions': 0.6666, 'eval_u_f1scores_triggers': 0.5096, 'eval_d_f1scores_emotions': 0.7309, 'eval_d_f1scores_triggers': 0.7742, 'eval_runtime': 660.8594, 'eval_samples_per_second': 5.201, 'eval_steps_per_second': 1.301, 'epoch': 5.0}\n",
            "{'train_runtime': 12884.9477, 'train_samples_per_second': 10.889, 'train_steps_per_second': 2.723, 'train_loss': 1.1629944667576928, 'epoch': 5.0}\n"
          ]
        }
      ],
      "source": [
        "train_nopooling_model(77)"
      ]
    },
    {
      "cell_type": "code",
      "execution_count": 41,
      "metadata": {},
      "outputs": [
        {
          "name": "stderr",
          "output_type": "stream",
          "text": [
            "c:\\Users\\marco\\anaconda3\\lib\\site-packages\\datasets\\table.py:1395: FutureWarning: promote has been superseded by mode='default'.\n",
            "  block_group = [InMemoryTable(cls._concat_blocks(list(block_group), axis=axis))]\n",
            "c:\\Users\\marco\\anaconda3\\lib\\site-packages\\datasets\\table.py:1421: FutureWarning: promote has been superseded by mode='default'.\n",
            "  table = cls._concat_blocks(blocks, axis=0)\n"
          ]
        },
        {
          "name": "stdout",
          "output_type": "stream",
          "text": [
            "Training NOPOOLING MODEL with seed 111:\n"
          ]
        },
        {
          "data": {
            "application/vnd.jupyter.widget-view+json": {
              "model_id": "c063f48aa10244c18003ba6e84b1e4d2",
              "version_major": 2,
              "version_minor": 0
            },
            "text/plain": [
              "  0%|          | 0/35080 [00:00<?, ?it/s]"
            ]
          },
          "metadata": {},
          "output_type": "display_data"
        },
        {
          "name": "stderr",
          "output_type": "stream",
          "text": [
            "Could not estimate the number of tokens of the input, floating-point operations will not be computed\n"
          ]
        },
        {
          "name": "stdout",
          "output_type": "stream",
          "text": [
            "{'loss': 1.5684, 'grad_norm': 25.229841232299805, 'learning_rate': 1.9989976531650042e-05, 'epoch': 0.07}\n",
            "{'loss': 1.4908, 'grad_norm': 6.358502388000488, 'learning_rate': 1.9959926220583713e-05, 'epoch': 0.14}\n",
            "{'loss': 1.3963, 'grad_norm': 4.444218158721924, 'learning_rate': 1.9909909308469398e-05, 'epoch': 0.21}\n",
            "{'loss': 1.3867, 'grad_norm': 20.7325496673584, 'learning_rate': 1.9840026063894193e-05, 'epoch': 0.29}\n",
            "{'loss': 1.3797, 'grad_norm': 6.934471607208252, 'learning_rate': 1.9750416581356147e-05, 'epoch': 0.36}\n",
            "{'loss': 1.3522, 'grad_norm': 4.501838207244873, 'learning_rate': 1.9641260500417672e-05, 'epoch': 0.43}\n",
            "{'loss': 1.3715, 'grad_norm': 7.1990251541137695, 'learning_rate': 1.9512776645583266e-05, 'epoch': 0.5}\n",
            "{'loss': 1.3062, 'grad_norm': 23.94189453125, 'learning_rate': 1.9365222587623407e-05, 'epoch': 0.57}\n",
            "{'loss': 1.3147, 'grad_norm': 8.062478065490723, 'learning_rate': 1.9198894127224075e-05, 'epoch': 0.64}\n",
            "{'loss': 1.3091, 'grad_norm': 6.942187786102295, 'learning_rate': 1.9014124701996973e-05, 'epoch': 0.71}\n",
            "{'loss': 1.2822, 'grad_norm': 17.216136932373047, 'learning_rate': 1.881128471803926e-05, 'epoch': 0.78}\n",
            "{'loss': 1.345, 'grad_norm': 4.466555595397949, 'learning_rate': 1.859078080738279e-05, 'epoch': 0.86}\n",
            "{'loss': 1.2218, 'grad_norm': 13.005210876464844, 'learning_rate': 1.835305501282148e-05, 'epoch': 0.93}\n",
            "{'loss': 1.2272, 'grad_norm': 12.302738189697266, 'learning_rate': 1.809858390175087e-05, 'epoch': 1.0}\n",
            "{'loss': 1.2004, 'grad_norm': 11.594841957092285, 'learning_rate': 1.7827877610796515e-05, 'epoch': 1.07}\n",
            "{'loss': 1.164, 'grad_norm': 10.353135108947754, 'learning_rate': 1.7541478823146328e-05, 'epoch': 1.14}\n",
            "{'loss': 1.1516, 'grad_norm': 27.591854095458984, 'learning_rate': 1.7239961680637002e-05, 'epoch': 1.21}\n",
            "{'loss': 1.1445, 'grad_norm': 15.165986061096191, 'learning_rate': 1.6923930632775517e-05, 'epoch': 1.28}\n",
            "{'loss': 1.0378, 'grad_norm': 6.150088787078857, 'learning_rate': 1.6594019225003043e-05, 'epoch': 1.35}\n",
            "{'loss': 1.0771, 'grad_norm': 14.180497169494629, 'learning_rate': 1.62508888286304e-05, 'epoch': 1.43}\n",
            "{'loss': 1.1156, 'grad_norm': 7.689883708953857, 'learning_rate': 1.589522731499118e-05, 'epoch': 1.5}\n",
            "{'loss': 1.0455, 'grad_norm': 20.569181442260742, 'learning_rate': 1.552774767647043e-05, 'epoch': 1.57}\n",
            "{'loss': 1.0502, 'grad_norm': 3.3762214183807373, 'learning_rate': 1.5149186597173348e-05, 'epoch': 1.64}\n",
            "{'loss': 0.9864, 'grad_norm': 26.541019439697266, 'learning_rate': 1.4760302976099305e-05, 'epoch': 1.71}\n",
            "{'loss': 0.9546, 'grad_norm': 9.361268997192383, 'learning_rate': 1.4361876405781835e-05, 'epoch': 1.78}\n",
            "{'loss': 0.9609, 'grad_norm': 14.490998268127441, 'learning_rate': 1.3954705609444403e-05, 'epoch': 1.85}\n",
            "{'loss': 0.959, 'grad_norm': 29.947650909423828, 'learning_rate': 1.3539606839805037e-05, 'epoch': 1.92}\n",
            "{'loss': 0.98, 'grad_norm': 38.91189956665039, 'learning_rate': 1.3117412242739655e-05, 'epoch': 2.0}\n",
            "{'loss': 0.8487, 'grad_norm': 18.979753494262695, 'learning_rate': 1.2688968189084494e-05, 'epoch': 2.07}\n",
            "{'loss': 0.8593, 'grad_norm': 11.775139808654785, 'learning_rate': 1.225513357792187e-05, 'epoch': 2.14}\n",
            "{'loss': 0.8569, 'grad_norm': 23.10791015625, 'learning_rate': 1.1816778114750594e-05, 'epoch': 2.21}\n",
            "{'loss': 0.8584, 'grad_norm': 10.695769309997559, 'learning_rate': 1.13747805679929e-05, 'epoch': 2.28}\n",
            "{'loss': 0.8394, 'grad_norm': 24.205915451049805, 'learning_rate': 1.0930027007332924e-05, 'epoch': 2.35}\n",
            "{'loss': 0.8353, 'grad_norm': 125.38517761230469, 'learning_rate': 1.0483409027418426e-05, 'epoch': 2.42}\n",
            "{'loss': 0.824, 'grad_norm': 4.50251579284668, 'learning_rate': 1.0035821960486643e-05, 'epoch': 2.49}\n",
            "{'loss': 0.8523, 'grad_norm': 13.080422401428223, 'learning_rate': 9.588163081497427e-06, 'epoch': 2.57}\n",
            "{'loss': 0.8498, 'grad_norm': 10.147734642028809, 'learning_rate': 9.141329809371803e-06, 'epoch': 2.64}\n",
            "{'loss': 0.8177, 'grad_norm': 9.584163665771484, 'learning_rate': 8.696217907941941e-06, 'epoch': 2.71}\n",
            "{'loss': 0.7999, 'grad_norm': 7.385477066040039, 'learning_rate': 8.253719690219079e-06, 'epoch': 2.78}\n",
            "{'loss': 0.753, 'grad_norm': 19.806640625, 'learning_rate': 7.814722229579263e-06, 'epoch': 2.85}\n",
            "{'loss': 0.8229, 'grad_norm': 7.616967678070068, 'learning_rate': 7.380105581452988e-06, 'epoch': 2.92}\n",
            "{'loss': 0.8217, 'grad_norm': 14.737154960632324, 'learning_rate': 6.9507410190836174e-06, 'epoch': 2.99}\n",
            "{'loss': 0.7213, 'grad_norm': 30.542640686035156, 'learning_rate': 6.527489286891458e-06, 'epoch': 3.06}\n",
            "{'loss': 0.8114, 'grad_norm': 3.1216800212860107, 'learning_rate': 6.111198874944846e-06, 'epoch': 3.14}\n",
            "{'loss': 0.7232, 'grad_norm': 25.696592330932617, 'learning_rate': 5.702704317997491e-06, 'epoch': 3.21}\n",
            "{'loss': 0.7543, 'grad_norm': 17.839088439941406, 'learning_rate': 5.302824522501931e-06, 'epoch': 3.28}\n",
            "{'loss': 0.7272, 'grad_norm': 8.901792526245117, 'learning_rate': 4.912361124952949e-06, 'epoch': 3.35}\n",
            "{'loss': 0.7271, 'grad_norm': 18.44851303100586, 'learning_rate': 4.532096884851978e-06, 'epoch': 3.42}\n",
            "{'loss': 0.7547, 'grad_norm': 51.66048049926758, 'learning_rate': 4.162794115514078e-06, 'epoch': 3.49}\n",
            "{'loss': 0.7208, 'grad_norm': 35.362388610839844, 'learning_rate': 3.805193155863247e-06, 'epoch': 3.56}\n",
            "{'loss': 0.7471, 'grad_norm': 82.03229522705078, 'learning_rate': 3.460010886279681e-06, 'epoch': 3.63}\n",
            "{'loss': 0.739, 'grad_norm': 26.529226303100586, 'learning_rate': 3.1279392914742047e-06, 'epoch': 3.71}\n",
            "{'loss': 0.6967, 'grad_norm': 0.6127509474754333, 'learning_rate': 2.8096440732709085e-06, 'epoch': 3.78}\n",
            "{'loss': 0.7132, 'grad_norm': 14.24749755859375, 'learning_rate': 2.5057633160789186e-06, 'epoch': 3.85}\n",
            "{'loss': 0.7143, 'grad_norm': 29.01473045349121, 'learning_rate': 2.2169062077286072e-06, 'epoch': 3.92}\n",
            "{'loss': 0.6829, 'grad_norm': 6.811180591583252, 'learning_rate': 1.943651818236616e-06, 'epoch': 3.99}\n",
            "{'loss': 0.7262, 'grad_norm': 30.11241912841797, 'learning_rate': 1.6865479389478545e-06, 'epoch': 4.06}\n",
            "{'loss': 0.635, 'grad_norm': 96.84687042236328, 'learning_rate': 1.4461099843816684e-06, 'epoch': 4.13}\n",
            "{'loss': 0.6691, 'grad_norm': 25.128389358520508, 'learning_rate': 1.2228199589835998e-06, 'epoch': 4.2}\n",
            "{'loss': 0.6598, 'grad_norm': 26.945144653320312, 'learning_rate': 1.0171254908541373e-06, 'epoch': 4.28}\n",
            "{'loss': 0.7557, 'grad_norm': 6.592710018157959, 'learning_rate': 8.294389343914899e-07, 'epoch': 4.35}\n",
            "{'loss': 0.6931, 'grad_norm': 37.99740219116211, 'learning_rate': 6.601365436473439e-07, 'epoch': 4.42}\n",
            "{'loss': 0.6732, 'grad_norm': 21.364957809448242, 'learning_rate': 5.095577180527378e-07, 'epoch': 4.49}\n",
            "{'loss': 0.6565, 'grad_norm': 34.633277893066406, 'learning_rate': 3.780043220261764e-07, 'epoch': 4.56}\n",
            "{'loss': 0.6945, 'grad_norm': 1.6955958604812622, 'learning_rate': 2.6574007982793857e-07, 'epoch': 4.63}\n",
            "{'loss': 0.6573, 'grad_norm': 11.200568199157715, 'learning_rate': 1.7299004687372666e-07, 'epoch': 4.7}\n",
            "{'loss': 0.7665, 'grad_norm': 82.39360809326172, 'learning_rate': 9.994015856749528e-08, 'epoch': 4.77}\n",
            "{'loss': 0.6914, 'grad_norm': 45.98023986816406, 'learning_rate': 4.673685755792523e-08, 'epoch': 4.85}\n",
            "{'loss': 0.718, 'grad_norm': 2.81256365776062, 'learning_rate': 1.3486800165773972e-08, 'epoch': 4.92}\n",
            "{'loss': 0.7055, 'grad_norm': 19.823772430419922, 'learning_rate': 2.5664257062185673e-10, 'epoch': 4.99}\n",
            "{'train_runtime': 9926.4724, 'train_samples_per_second': 14.135, 'train_steps_per_second': 3.534, 'train_loss': 0.9331524784779739, 'epoch': 5.0}\n"
          ]
        }
      ],
      "source": [
        "train_nopooling_model(111)"
      ]
    },
    {
      "cell_type": "markdown",
      "metadata": {},
      "source": [
        "<h3>TRAIN CONCAT MODELS</h3>"
      ]
    },
    {
      "cell_type": "code",
      "execution_count": 42,
      "metadata": {},
      "outputs": [
        {
          "name": "stderr",
          "output_type": "stream",
          "text": [
            "c:\\Users\\marco\\anaconda3\\lib\\site-packages\\datasets\\table.py:1395: FutureWarning: promote has been superseded by mode='default'.\n",
            "  block_group = [InMemoryTable(cls._concat_blocks(list(block_group), axis=axis))]\n",
            "c:\\Users\\marco\\anaconda3\\lib\\site-packages\\datasets\\table.py:1421: FutureWarning: promote has been superseded by mode='default'.\n",
            "  table = cls._concat_blocks(blocks, axis=0)\n"
          ]
        },
        {
          "name": "stdout",
          "output_type": "stream",
          "text": [
            "Training NOPOOLING MODEL with seed 111:\n"
          ]
        },
        {
          "data": {
            "application/vnd.jupyter.widget-view+json": {
              "model_id": "7572759a24e5472b92ca8e20f517951e",
              "version_major": 2,
              "version_minor": 0
            },
            "text/plain": [
              "  0%|          | 0/35080 [00:00<?, ?it/s]"
            ]
          },
          "metadata": {},
          "output_type": "display_data"
        },
        {
          "name": "stderr",
          "output_type": "stream",
          "text": [
            "Could not estimate the number of tokens of the input, floating-point operations will not be computed\n"
          ]
        },
        {
          "name": "stdout",
          "output_type": "stream",
          "text": [
            "{'loss': 1.5571, 'grad_norm': 18.909095764160156, 'learning_rate': 1.9989976531650042e-05, 'epoch': 0.07}\n",
            "{'loss': 1.5003, 'grad_norm': 6.414953708648682, 'learning_rate': 1.9959926220583713e-05, 'epoch': 0.14}\n",
            "{'loss': 1.3966, 'grad_norm': 4.351469039916992, 'learning_rate': 1.9909909308469398e-05, 'epoch': 0.21}\n",
            "{'loss': 1.3971, 'grad_norm': 20.230846405029297, 'learning_rate': 1.9840026063894193e-05, 'epoch': 0.29}\n",
            "{'loss': 1.3823, 'grad_norm': 6.860861301422119, 'learning_rate': 1.9750416581356147e-05, 'epoch': 0.36}\n",
            "{'loss': 1.3517, 'grad_norm': 5.201844215393066, 'learning_rate': 1.9641260500417672e-05, 'epoch': 0.43}\n",
            "{'loss': 1.3799, 'grad_norm': 5.940913200378418, 'learning_rate': 1.9512776645583266e-05, 'epoch': 0.5}\n",
            "{'loss': 1.309, 'grad_norm': 22.433626174926758, 'learning_rate': 1.9365222587623407e-05, 'epoch': 0.57}\n",
            "{'loss': 1.3244, 'grad_norm': 11.196382522583008, 'learning_rate': 1.9198894127224075e-05, 'epoch': 0.64}\n",
            "{'loss': 1.3359, 'grad_norm': 12.532732009887695, 'learning_rate': 1.9014124701996973e-05, 'epoch': 0.71}\n",
            "{'loss': 1.2933, 'grad_norm': 19.129680633544922, 'learning_rate': 1.881128471803926e-05, 'epoch': 0.78}\n",
            "{'loss': 1.3525, 'grad_norm': 5.885744571685791, 'learning_rate': 1.859078080738279e-05, 'epoch': 0.86}\n",
            "{'loss': 1.2377, 'grad_norm': 8.560867309570312, 'learning_rate': 1.835305501282148e-05, 'epoch': 0.93}\n",
            "{'loss': 1.2304, 'grad_norm': 12.0833101272583, 'learning_rate': 1.809858390175087e-05, 'epoch': 1.0}\n",
            "{'loss': 1.2177, 'grad_norm': 10.750467300415039, 'learning_rate': 1.7827877610796515e-05, 'epoch': 1.07}\n",
            "{'loss': 1.183, 'grad_norm': 12.770759582519531, 'learning_rate': 1.7541478823146328e-05, 'epoch': 1.14}\n",
            "{'loss': 1.1637, 'grad_norm': 25.28839111328125, 'learning_rate': 1.7239961680637002e-05, 'epoch': 1.21}\n",
            "{'loss': 1.1623, 'grad_norm': 11.75378131866455, 'learning_rate': 1.6923930632775517e-05, 'epoch': 1.28}\n",
            "{'loss': 1.0299, 'grad_norm': 6.126554012298584, 'learning_rate': 1.6594019225003043e-05, 'epoch': 1.35}\n",
            "{'loss': 1.0888, 'grad_norm': 11.794914245605469, 'learning_rate': 1.62508888286304e-05, 'epoch': 1.43}\n",
            "{'loss': 1.144, 'grad_norm': 7.7422261238098145, 'learning_rate': 1.589522731499118e-05, 'epoch': 1.5}\n",
            "{'loss': 1.0402, 'grad_norm': 15.47843074798584, 'learning_rate': 1.552774767647043e-05, 'epoch': 1.57}\n",
            "{'loss': 1.0406, 'grad_norm': 2.747549295425415, 'learning_rate': 1.5149186597173348e-05, 'epoch': 1.64}\n",
            "{'loss': 0.9676, 'grad_norm': 21.852323532104492, 'learning_rate': 1.4760302976099305e-05, 'epoch': 1.71}\n",
            "{'loss': 0.9522, 'grad_norm': 13.585457801818848, 'learning_rate': 1.4361876405781835e-05, 'epoch': 1.78}\n",
            "{'loss': 0.9632, 'grad_norm': 10.647173881530762, 'learning_rate': 1.3954705609444403e-05, 'epoch': 1.85}\n",
            "{'loss': 0.9376, 'grad_norm': 14.62403392791748, 'learning_rate': 1.3539606839805037e-05, 'epoch': 1.92}\n",
            "{'loss': 0.971, 'grad_norm': 33.55460739135742, 'learning_rate': 1.3117412242739655e-05, 'epoch': 2.0}\n",
            "{'loss': 0.8273, 'grad_norm': 21.322521209716797, 'learning_rate': 1.2688968189084494e-05, 'epoch': 2.07}\n",
            "{'loss': 0.8563, 'grad_norm': 11.129010200500488, 'learning_rate': 1.225513357792187e-05, 'epoch': 2.14}\n",
            "{'loss': 0.8787, 'grad_norm': 5.83489990234375, 'learning_rate': 1.1816778114750594e-05, 'epoch': 2.21}\n",
            "{'loss': 0.8651, 'grad_norm': 29.909278869628906, 'learning_rate': 1.13747805679929e-05, 'epoch': 2.28}\n",
            "{'loss': 0.834, 'grad_norm': 8.709114074707031, 'learning_rate': 1.0930027007332924e-05, 'epoch': 2.35}\n",
            "{'loss': 0.8366, 'grad_norm': 154.09454345703125, 'learning_rate': 1.0483409027418426e-05, 'epoch': 2.42}\n",
            "{'loss': 0.8121, 'grad_norm': 3.131085157394409, 'learning_rate': 1.0035821960486643e-05, 'epoch': 2.49}\n",
            "{'loss': 0.7926, 'grad_norm': 26.921049118041992, 'learning_rate': 9.588163081497427e-06, 'epoch': 2.57}\n",
            "{'loss': 0.8379, 'grad_norm': 7.712055206298828, 'learning_rate': 9.141329809371803e-06, 'epoch': 2.64}\n",
            "{'loss': 0.821, 'grad_norm': 8.828959465026855, 'learning_rate': 8.696217907941941e-06, 'epoch': 2.71}\n",
            "{'loss': 0.8084, 'grad_norm': 36.357566833496094, 'learning_rate': 8.253719690219079e-06, 'epoch': 2.78}\n",
            "{'loss': 0.7346, 'grad_norm': 15.470312118530273, 'learning_rate': 7.814722229579263e-06, 'epoch': 2.85}\n",
            "{'loss': 0.8279, 'grad_norm': 5.443047046661377, 'learning_rate': 7.380105581452988e-06, 'epoch': 2.92}\n",
            "{'loss': 0.7658, 'grad_norm': 44.38978576660156, 'learning_rate': 6.9507410190836174e-06, 'epoch': 2.99}\n",
            "{'loss': 0.7301, 'grad_norm': 19.88636589050293, 'learning_rate': 6.527489286891458e-06, 'epoch': 3.06}\n",
            "{'loss': 0.7966, 'grad_norm': 3.907413959503174, 'learning_rate': 6.111198874944846e-06, 'epoch': 3.14}\n",
            "{'loss': 0.7272, 'grad_norm': 128.7032470703125, 'learning_rate': 5.702704317997491e-06, 'epoch': 3.21}\n",
            "{'loss': 0.7225, 'grad_norm': 11.439533233642578, 'learning_rate': 5.302824522501931e-06, 'epoch': 3.28}\n",
            "{'loss': 0.6999, 'grad_norm': 82.46162414550781, 'learning_rate': 4.912361124952949e-06, 'epoch': 3.35}\n",
            "{'loss': 0.7199, 'grad_norm': 41.030067443847656, 'learning_rate': 4.532096884851978e-06, 'epoch': 3.42}\n",
            "{'loss': 0.7268, 'grad_norm': 16.01929473876953, 'learning_rate': 4.162794115514078e-06, 'epoch': 3.49}\n",
            "{'loss': 0.7224, 'grad_norm': 129.9741973876953, 'learning_rate': 3.805193155863247e-06, 'epoch': 3.56}\n",
            "{'loss': 0.7415, 'grad_norm': 57.28186798095703, 'learning_rate': 3.460010886279681e-06, 'epoch': 3.63}\n",
            "{'loss': 0.7569, 'grad_norm': 20.029247283935547, 'learning_rate': 3.1279392914742047e-06, 'epoch': 3.71}\n",
            "{'loss': 0.7187, 'grad_norm': 0.9164089560508728, 'learning_rate': 2.8096440732709085e-06, 'epoch': 3.78}\n",
            "{'loss': 0.6924, 'grad_norm': 3.1571950912475586, 'learning_rate': 2.5057633160789186e-06, 'epoch': 3.85}\n",
            "{'loss': 0.7038, 'grad_norm': 23.698890686035156, 'learning_rate': 2.2169062077286072e-06, 'epoch': 3.92}\n",
            "{'loss': 0.6603, 'grad_norm': 9.900269508361816, 'learning_rate': 1.943651818236616e-06, 'epoch': 3.99}\n",
            "{'loss': 0.7256, 'grad_norm': 18.932092666625977, 'learning_rate': 1.6865479389478545e-06, 'epoch': 4.06}\n",
            "{'loss': 0.6216, 'grad_norm': 47.5035400390625, 'learning_rate': 1.4461099843816684e-06, 'epoch': 4.13}\n",
            "{'loss': 0.6781, 'grad_norm': 24.82504653930664, 'learning_rate': 1.2228199589835998e-06, 'epoch': 4.2}\n",
            "{'loss': 0.6467, 'grad_norm': 40.95148468017578, 'learning_rate': 1.0171254908541373e-06, 'epoch': 4.28}\n",
            "{'loss': 0.7552, 'grad_norm': 10.555276870727539, 'learning_rate': 8.294389343914899e-07, 'epoch': 4.35}\n",
            "{'loss': 0.678, 'grad_norm': 54.98349380493164, 'learning_rate': 6.601365436473439e-07, 'epoch': 4.42}\n",
            "{'loss': 0.6826, 'grad_norm': 46.14461898803711, 'learning_rate': 5.095577180527378e-07, 'epoch': 4.49}\n",
            "{'loss': 0.6279, 'grad_norm': 34.68830490112305, 'learning_rate': 3.780043220261764e-07, 'epoch': 4.56}\n",
            "{'loss': 0.6842, 'grad_norm': 1.296415090560913, 'learning_rate': 2.6574007982793857e-07, 'epoch': 4.63}\n",
            "{'loss': 0.6723, 'grad_norm': 13.472867012023926, 'learning_rate': 1.7299004687372666e-07, 'epoch': 4.7}\n",
            "{'loss': 0.7576, 'grad_norm': 58.53404998779297, 'learning_rate': 9.994015856749528e-08, 'epoch': 4.77}\n",
            "{'loss': 0.7027, 'grad_norm': 21.39432144165039, 'learning_rate': 4.673685755792523e-08, 'epoch': 4.85}\n",
            "{'loss': 0.7163, 'grad_norm': 35.15727615356445, 'learning_rate': 1.3486800165773972e-08, 'epoch': 4.92}\n",
            "{'loss': 0.705, 'grad_norm': 16.68864631652832, 'learning_rate': 2.5664257062185673e-10, 'epoch': 4.99}\n",
            "{'train_runtime': 9844.5025, 'train_samples_per_second': 14.253, 'train_steps_per_second': 3.563, 'train_loss': 0.9306438310116427, 'epoch': 5.0}\n"
          ]
        }
      ],
      "source": [
        "train_concat_model(111)"
      ]
    },
    {
      "cell_type": "code",
      "execution_count": 47,
      "metadata": {},
      "outputs": [
        {
          "name": "stderr",
          "output_type": "stream",
          "text": [
            "c:\\Users\\marco\\anaconda3\\lib\\site-packages\\datasets\\table.py:1395: FutureWarning: promote has been superseded by mode='default'.\n",
            "  block_group = [InMemoryTable(cls._concat_blocks(list(block_group), axis=axis))]\n",
            "c:\\Users\\marco\\anaconda3\\lib\\site-packages\\datasets\\table.py:1421: FutureWarning: promote has been superseded by mode='default'.\n",
            "  table = cls._concat_blocks(blocks, axis=0)\n"
          ]
        },
        {
          "name": "stdout",
          "output_type": "stream",
          "text": [
            "Training NOPOOLING MODEL with seed 51:\n"
          ]
        },
        {
          "data": {
            "application/vnd.jupyter.widget-view+json": {
              "model_id": "e376f2f272a84790b580ed3329cf2c4b",
              "version_major": 2,
              "version_minor": 0
            },
            "text/plain": [
              "  0%|          | 0/35080 [00:00<?, ?it/s]"
            ]
          },
          "metadata": {},
          "output_type": "display_data"
        },
        {
          "name": "stderr",
          "output_type": "stream",
          "text": [
            "Could not estimate the number of tokens of the input, floating-point operations will not be computed\n"
          ]
        },
        {
          "name": "stdout",
          "output_type": "stream",
          "text": [
            "{'loss': 1.572, 'grad_norm': 16.69851303100586, 'learning_rate': 1.9989976531650042e-05, 'epoch': 0.07}\n",
            "{'loss': 1.4843, 'grad_norm': 6.446956634521484, 'learning_rate': 1.9959926220583713e-05, 'epoch': 0.14}\n",
            "{'loss': 1.4041, 'grad_norm': 4.457241058349609, 'learning_rate': 1.9909909308469398e-05, 'epoch': 0.21}\n",
            "{'loss': 1.3906, 'grad_norm': 21.565473556518555, 'learning_rate': 1.9840026063894193e-05, 'epoch': 0.29}\n",
            "{'loss': 1.3943, 'grad_norm': 7.052147388458252, 'learning_rate': 1.9750416581356147e-05, 'epoch': 0.36}\n",
            "{'loss': 1.3541, 'grad_norm': 4.456978797912598, 'learning_rate': 1.9641260500417672e-05, 'epoch': 0.43}\n",
            "{'loss': 1.3792, 'grad_norm': 6.670575141906738, 'learning_rate': 1.9512776645583266e-05, 'epoch': 0.5}\n",
            "{'loss': 1.3094, 'grad_norm': 25.4512996673584, 'learning_rate': 1.9365222587623407e-05, 'epoch': 0.57}\n",
            "{'loss': 1.323, 'grad_norm': 8.583334922790527, 'learning_rate': 1.9198894127224075e-05, 'epoch': 0.64}\n",
            "{'loss': 1.3316, 'grad_norm': 13.036541938781738, 'learning_rate': 1.9014124701996973e-05, 'epoch': 0.71}\n",
            "{'loss': 1.2955, 'grad_norm': 20.178266525268555, 'learning_rate': 1.881128471803926e-05, 'epoch': 0.78}\n",
            "{'loss': 1.3424, 'grad_norm': 5.975505828857422, 'learning_rate': 1.859078080738279e-05, 'epoch': 0.86}\n",
            "{'loss': 1.22, 'grad_norm': 13.58251953125, 'learning_rate': 1.835305501282148e-05, 'epoch': 0.93}\n",
            "{'loss': 1.2431, 'grad_norm': 13.625890731811523, 'learning_rate': 1.809858390175087e-05, 'epoch': 1.0}\n",
            "{'loss': 1.2238, 'grad_norm': 24.986177444458008, 'learning_rate': 1.7827877610796515e-05, 'epoch': 1.07}\n",
            "{'loss': 1.2077, 'grad_norm': 14.07217025756836, 'learning_rate': 1.7541478823146328e-05, 'epoch': 1.14}\n",
            "{'loss': 1.1701, 'grad_norm': 20.348674774169922, 'learning_rate': 1.7239961680637002e-05, 'epoch': 1.21}\n",
            "{'loss': 1.1859, 'grad_norm': 10.58557415008545, 'learning_rate': 1.6923930632775517e-05, 'epoch': 1.28}\n",
            "{'loss': 1.0578, 'grad_norm': 6.244375228881836, 'learning_rate': 1.6594019225003043e-05, 'epoch': 1.35}\n",
            "{'loss': 1.0961, 'grad_norm': 11.949854850769043, 'learning_rate': 1.62508888286304e-05, 'epoch': 1.43}\n",
            "{'loss': 1.1339, 'grad_norm': 7.743278980255127, 'learning_rate': 1.589522731499118e-05, 'epoch': 1.5}\n",
            "{'loss': 1.0309, 'grad_norm': 14.057028770446777, 'learning_rate': 1.552774767647043e-05, 'epoch': 1.57}\n",
            "{'loss': 1.0812, 'grad_norm': 4.765120506286621, 'learning_rate': 1.5149186597173348e-05, 'epoch': 1.64}\n",
            "{'loss': 0.9926, 'grad_norm': 8.978031158447266, 'learning_rate': 1.4760302976099305e-05, 'epoch': 1.71}\n",
            "{'loss': 0.9731, 'grad_norm': 14.637786865234375, 'learning_rate': 1.4361876405781835e-05, 'epoch': 1.78}\n",
            "{'loss': 0.975, 'grad_norm': 8.369575500488281, 'learning_rate': 1.3954705609444403e-05, 'epoch': 1.85}\n",
            "{'loss': 0.9669, 'grad_norm': 32.576507568359375, 'learning_rate': 1.3539606839805037e-05, 'epoch': 1.92}\n",
            "{'loss': 0.9878, 'grad_norm': 20.859352111816406, 'learning_rate': 1.3117412242739655e-05, 'epoch': 2.0}\n",
            "{'loss': 0.8327, 'grad_norm': 23.996145248413086, 'learning_rate': 1.2688968189084494e-05, 'epoch': 2.07}\n",
            "{'loss': 0.8689, 'grad_norm': 10.53404426574707, 'learning_rate': 1.225513357792187e-05, 'epoch': 2.14}\n",
            "{'loss': 0.8734, 'grad_norm': 20.683059692382812, 'learning_rate': 1.1816778114750594e-05, 'epoch': 2.21}\n",
            "{'loss': 0.8436, 'grad_norm': 13.947122573852539, 'learning_rate': 1.13747805679929e-05, 'epoch': 2.28}\n",
            "{'loss': 0.8781, 'grad_norm': 7.953203201293945, 'learning_rate': 1.0930027007332924e-05, 'epoch': 2.35}\n",
            "{'loss': 0.793, 'grad_norm': 8.863924026489258, 'learning_rate': 1.0483409027418426e-05, 'epoch': 2.42}\n",
            "{'loss': 0.8477, 'grad_norm': 4.594309329986572, 'learning_rate': 1.0035821960486643e-05, 'epoch': 2.49}\n",
            "{'loss': 0.811, 'grad_norm': 15.570588111877441, 'learning_rate': 9.588163081497427e-06, 'epoch': 2.57}\n",
            "{'loss': 0.8484, 'grad_norm': 6.661624908447266, 'learning_rate': 9.141329809371803e-06, 'epoch': 2.64}\n",
            "{'loss': 0.8085, 'grad_norm': 10.733543395996094, 'learning_rate': 8.696217907941941e-06, 'epoch': 2.71}\n",
            "{'loss': 0.8035, 'grad_norm': 9.565520286560059, 'learning_rate': 8.253719690219079e-06, 'epoch': 2.78}\n",
            "{'loss': 0.7481, 'grad_norm': 10.919828414916992, 'learning_rate': 7.814722229579263e-06, 'epoch': 2.85}\n",
            "{'loss': 0.8309, 'grad_norm': 7.828898906707764, 'learning_rate': 7.380105581452988e-06, 'epoch': 2.92}\n",
            "{'loss': 0.7795, 'grad_norm': 67.88227844238281, 'learning_rate': 6.9507410190836174e-06, 'epoch': 2.99}\n",
            "{'loss': 0.7355, 'grad_norm': 112.22067260742188, 'learning_rate': 6.527489286891458e-06, 'epoch': 3.06}\n",
            "{'loss': 0.7523, 'grad_norm': 14.860010147094727, 'learning_rate': 6.111198874944846e-06, 'epoch': 3.14}\n",
            "{'loss': 0.7124, 'grad_norm': 205.56793212890625, 'learning_rate': 5.702704317997491e-06, 'epoch': 3.21}\n",
            "{'loss': 0.7002, 'grad_norm': 34.824562072753906, 'learning_rate': 5.302824522501931e-06, 'epoch': 3.28}\n",
            "{'loss': 0.7186, 'grad_norm': 11.527061462402344, 'learning_rate': 4.912361124952949e-06, 'epoch': 3.35}\n",
            "{'loss': 0.7012, 'grad_norm': 12.545036315917969, 'learning_rate': 4.532096884851978e-06, 'epoch': 3.42}\n",
            "{'loss': 0.7363, 'grad_norm': 22.846267700195312, 'learning_rate': 4.162794115514078e-06, 'epoch': 3.49}\n",
            "{'loss': 0.7398, 'grad_norm': 29.595233917236328, 'learning_rate': 3.805193155863247e-06, 'epoch': 3.56}\n",
            "{'loss': 0.7398, 'grad_norm': 39.721126556396484, 'learning_rate': 3.460010886279681e-06, 'epoch': 3.63}\n",
            "{'loss': 0.7275, 'grad_norm': 26.584888458251953, 'learning_rate': 3.1279392914742047e-06, 'epoch': 3.71}\n",
            "{'loss': 0.7696, 'grad_norm': 2.3646788597106934, 'learning_rate': 2.8096440732709085e-06, 'epoch': 3.78}\n",
            "{'loss': 0.7401, 'grad_norm': 11.07820987701416, 'learning_rate': 2.5057633160789186e-06, 'epoch': 3.85}\n",
            "{'loss': 0.6741, 'grad_norm': 31.876882553100586, 'learning_rate': 2.2169062077286072e-06, 'epoch': 3.92}\n",
            "{'loss': 0.6689, 'grad_norm': 10.071808815002441, 'learning_rate': 1.943651818236616e-06, 'epoch': 3.99}\n",
            "{'loss': 0.7304, 'grad_norm': 22.5146484375, 'learning_rate': 1.6865479389478545e-06, 'epoch': 4.06}\n",
            "{'loss': 0.6299, 'grad_norm': 74.38966369628906, 'learning_rate': 1.4461099843816684e-06, 'epoch': 4.13}\n",
            "{'loss': 0.6471, 'grad_norm': 15.784512519836426, 'learning_rate': 1.2228199589835998e-06, 'epoch': 4.2}\n",
            "{'loss': 0.6976, 'grad_norm': 42.91740417480469, 'learning_rate': 1.0171254908541373e-06, 'epoch': 4.28}\n",
            "{'loss': 0.7702, 'grad_norm': 7.893071174621582, 'learning_rate': 8.294389343914899e-07, 'epoch': 4.35}\n",
            "{'loss': 0.6508, 'grad_norm': 27.09467887878418, 'learning_rate': 6.601365436473439e-07, 'epoch': 4.42}\n",
            "{'loss': 0.7102, 'grad_norm': 57.56452560424805, 'learning_rate': 5.095577180527378e-07, 'epoch': 4.49}\n",
            "{'loss': 0.6427, 'grad_norm': 19.27518081665039, 'learning_rate': 3.780043220261764e-07, 'epoch': 4.56}\n",
            "{'loss': 0.6936, 'grad_norm': 1.018850326538086, 'learning_rate': 2.6574007982793857e-07, 'epoch': 4.63}\n",
            "{'loss': 0.6675, 'grad_norm': 14.041678428649902, 'learning_rate': 1.7299004687372666e-07, 'epoch': 4.7}\n",
            "{'loss': 0.7176, 'grad_norm': 63.465972900390625, 'learning_rate': 9.994015856749528e-08, 'epoch': 4.77}\n",
            "{'loss': 0.696, 'grad_norm': 33.205101013183594, 'learning_rate': 4.673685755792523e-08, 'epoch': 4.85}\n",
            "{'loss': 0.6992, 'grad_norm': 41.847877502441406, 'learning_rate': 1.3486800165773972e-08, 'epoch': 4.92}\n",
            "{'loss': 0.7024, 'grad_norm': 12.724003791809082, 'learning_rate': 2.5664257062185673e-10, 'epoch': 4.99}\n",
            "{'train_runtime': 9769.565, 'train_samples_per_second': 14.362, 'train_steps_per_second': 3.591, 'train_loss': 0.9346673877372437, 'epoch': 5.0}\n"
          ]
        }
      ],
      "source": [
        "train_concat_model(51)"
      ]
    },
    {
      "cell_type": "code",
      "execution_count": 48,
      "metadata": {},
      "outputs": [
        {
          "name": "stderr",
          "output_type": "stream",
          "text": [
            "c:\\Users\\marco\\anaconda3\\lib\\site-packages\\datasets\\table.py:1395: FutureWarning: promote has been superseded by mode='default'.\n",
            "  block_group = [InMemoryTable(cls._concat_blocks(list(block_group), axis=axis))]\n",
            "c:\\Users\\marco\\anaconda3\\lib\\site-packages\\datasets\\table.py:1421: FutureWarning: promote has been superseded by mode='default'.\n",
            "  table = cls._concat_blocks(blocks, axis=0)\n"
          ]
        },
        {
          "name": "stdout",
          "output_type": "stream",
          "text": [
            "Training NOPOOLING MODEL with seed 666:\n"
          ]
        },
        {
          "data": {
            "application/vnd.jupyter.widget-view+json": {
              "model_id": "d0cb458b5e964d96b30dde3f7745c410",
              "version_major": 2,
              "version_minor": 0
            },
            "text/plain": [
              "  0%|          | 0/35080 [00:00<?, ?it/s]"
            ]
          },
          "metadata": {},
          "output_type": "display_data"
        },
        {
          "name": "stderr",
          "output_type": "stream",
          "text": [
            "Could not estimate the number of tokens of the input, floating-point operations will not be computed\n"
          ]
        },
        {
          "name": "stdout",
          "output_type": "stream",
          "text": [
            "{'loss': 1.5416, 'grad_norm': 20.798067092895508, 'learning_rate': 1.9989976531650042e-05, 'epoch': 0.07}\n",
            "{'loss': 1.4702, 'grad_norm': 6.732389450073242, 'learning_rate': 1.9959926220583713e-05, 'epoch': 0.14}\n",
            "{'loss': 1.3935, 'grad_norm': 4.60252046585083, 'learning_rate': 1.9909909308469398e-05, 'epoch': 0.21}\n",
            "{'loss': 1.3843, 'grad_norm': 20.86981964111328, 'learning_rate': 1.9840026063894193e-05, 'epoch': 0.29}\n",
            "{'loss': 1.3778, 'grad_norm': 7.112163543701172, 'learning_rate': 1.9750416581356147e-05, 'epoch': 0.36}\n",
            "{'loss': 1.3512, 'grad_norm': 4.812227725982666, 'learning_rate': 1.9641260500417672e-05, 'epoch': 0.43}\n",
            "{'loss': 1.3713, 'grad_norm': 7.407326698303223, 'learning_rate': 1.9512776645583266e-05, 'epoch': 0.5}\n",
            "{'loss': 1.2968, 'grad_norm': 27.31293487548828, 'learning_rate': 1.9365222587623407e-05, 'epoch': 0.57}\n",
            "{'loss': 1.318, 'grad_norm': 7.984620094299316, 'learning_rate': 1.9198894127224075e-05, 'epoch': 0.64}\n",
            "{'loss': 1.3023, 'grad_norm': 9.48029613494873, 'learning_rate': 1.9014124701996973e-05, 'epoch': 0.71}\n",
            "{'loss': 1.2825, 'grad_norm': 20.64252471923828, 'learning_rate': 1.881128471803926e-05, 'epoch': 0.78}\n",
            "{'loss': 1.3317, 'grad_norm': 7.857845783233643, 'learning_rate': 1.859078080738279e-05, 'epoch': 0.86}\n",
            "{'loss': 1.212, 'grad_norm': 14.273720741271973, 'learning_rate': 1.835305501282148e-05, 'epoch': 0.93}\n",
            "{'loss': 1.207, 'grad_norm': 15.302474975585938, 'learning_rate': 1.809858390175087e-05, 'epoch': 1.0}\n",
            "{'loss': 1.1818, 'grad_norm': 13.049038887023926, 'learning_rate': 1.7827877610796515e-05, 'epoch': 1.07}\n",
            "{'loss': 1.1639, 'grad_norm': 21.946823120117188, 'learning_rate': 1.7541478823146328e-05, 'epoch': 1.14}\n",
            "{'loss': 1.1366, 'grad_norm': 15.230104446411133, 'learning_rate': 1.7239961680637002e-05, 'epoch': 1.21}\n",
            "{'loss': 1.1411, 'grad_norm': 11.16176700592041, 'learning_rate': 1.6923930632775517e-05, 'epoch': 1.28}\n",
            "{'loss': 1.0372, 'grad_norm': 6.292109489440918, 'learning_rate': 1.6594019225003043e-05, 'epoch': 1.35}\n",
            "{'loss': 1.0738, 'grad_norm': 13.19726276397705, 'learning_rate': 1.62508888286304e-05, 'epoch': 1.43}\n",
            "{'loss': 1.1233, 'grad_norm': 11.458992004394531, 'learning_rate': 1.589522731499118e-05, 'epoch': 1.5}\n",
            "{'loss': 1.0014, 'grad_norm': 22.50693130493164, 'learning_rate': 1.552774767647043e-05, 'epoch': 1.57}\n",
            "{'loss': 1.0105, 'grad_norm': 3.9908974170684814, 'learning_rate': 1.5149186597173348e-05, 'epoch': 1.64}\n",
            "{'loss': 0.9381, 'grad_norm': 9.187277793884277, 'learning_rate': 1.4760302976099305e-05, 'epoch': 1.71}\n",
            "{'loss': 0.9251, 'grad_norm': 21.577241897583008, 'learning_rate': 1.4361876405781835e-05, 'epoch': 1.78}\n",
            "{'loss': 0.9267, 'grad_norm': 16.732501983642578, 'learning_rate': 1.3954705609444403e-05, 'epoch': 1.85}\n",
            "{'loss': 0.9223, 'grad_norm': 17.077735900878906, 'learning_rate': 1.3539606839805037e-05, 'epoch': 1.92}\n",
            "{'loss': 0.9483, 'grad_norm': 31.908985137939453, 'learning_rate': 1.3117412242739655e-05, 'epoch': 2.0}\n",
            "{'loss': 0.7898, 'grad_norm': 20.77692985534668, 'learning_rate': 1.2688968189084494e-05, 'epoch': 2.07}\n",
            "{'loss': 0.8346, 'grad_norm': 12.115752220153809, 'learning_rate': 1.225513357792187e-05, 'epoch': 2.14}\n",
            "{'loss': 0.8363, 'grad_norm': 63.02537155151367, 'learning_rate': 1.1816778114750594e-05, 'epoch': 2.21}\n",
            "{'loss': 0.8193, 'grad_norm': 18.224624633789062, 'learning_rate': 1.13747805679929e-05, 'epoch': 2.28}\n",
            "{'loss': 0.8327, 'grad_norm': 10.570571899414062, 'learning_rate': 1.0930027007332924e-05, 'epoch': 2.35}\n",
            "{'loss': 0.8032, 'grad_norm': 227.0124969482422, 'learning_rate': 1.0483409027418426e-05, 'epoch': 2.42}\n",
            "{'loss': 0.7696, 'grad_norm': 3.953207015991211, 'learning_rate': 1.0035821960486643e-05, 'epoch': 2.49}\n",
            "{'loss': 0.7785, 'grad_norm': 13.711090087890625, 'learning_rate': 9.588163081497427e-06, 'epoch': 2.57}\n",
            "{'loss': 0.8108, 'grad_norm': 6.886131763458252, 'learning_rate': 9.141329809371803e-06, 'epoch': 2.64}\n",
            "{'loss': 0.7769, 'grad_norm': 11.942139625549316, 'learning_rate': 8.696217907941941e-06, 'epoch': 2.71}\n",
            "{'loss': 0.7775, 'grad_norm': 30.290206909179688, 'learning_rate': 8.253719690219079e-06, 'epoch': 2.78}\n",
            "{'loss': 0.742, 'grad_norm': 24.793819427490234, 'learning_rate': 7.814722229579263e-06, 'epoch': 2.85}\n",
            "{'loss': 0.8053, 'grad_norm': 6.880094051361084, 'learning_rate': 7.380105581452988e-06, 'epoch': 2.92}\n",
            "{'loss': 0.7893, 'grad_norm': 12.351740837097168, 'learning_rate': 6.9507410190836174e-06, 'epoch': 2.99}\n",
            "{'loss': 0.7497, 'grad_norm': 44.58565902709961, 'learning_rate': 6.527489286891458e-06, 'epoch': 3.06}\n",
            "{'loss': 0.7642, 'grad_norm': 9.401988983154297, 'learning_rate': 6.111198874944846e-06, 'epoch': 3.14}\n",
            "{'loss': 0.6959, 'grad_norm': 22.843324661254883, 'learning_rate': 5.702704317997491e-06, 'epoch': 3.21}\n",
            "{'loss': 0.6959, 'grad_norm': 10.934174537658691, 'learning_rate': 5.302824522501931e-06, 'epoch': 3.28}\n",
            "{'loss': 0.6998, 'grad_norm': 70.11357116699219, 'learning_rate': 4.912361124952949e-06, 'epoch': 3.35}\n",
            "{'loss': 0.7139, 'grad_norm': 14.028738021850586, 'learning_rate': 4.532096884851978e-06, 'epoch': 3.42}\n",
            "{'loss': 0.726, 'grad_norm': 13.598775863647461, 'learning_rate': 4.162794115514078e-06, 'epoch': 3.49}\n",
            "{'loss': 0.7341, 'grad_norm': 33.38312911987305, 'learning_rate': 3.805193155863247e-06, 'epoch': 3.56}\n",
            "{'loss': 0.6998, 'grad_norm': 50.34593200683594, 'learning_rate': 3.460010886279681e-06, 'epoch': 3.63}\n",
            "{'loss': 0.718, 'grad_norm': 17.55769157409668, 'learning_rate': 3.1279392914742047e-06, 'epoch': 3.71}\n",
            "{'loss': 0.7115, 'grad_norm': 0.6696853637695312, 'learning_rate': 2.8096440732709085e-06, 'epoch': 3.78}\n",
            "{'loss': 0.7024, 'grad_norm': 15.259893417358398, 'learning_rate': 2.5057633160789186e-06, 'epoch': 3.85}\n",
            "{'loss': 0.6975, 'grad_norm': 62.216976165771484, 'learning_rate': 2.2169062077286072e-06, 'epoch': 3.92}\n",
            "{'loss': 0.6504, 'grad_norm': 12.350667953491211, 'learning_rate': 1.943651818236616e-06, 'epoch': 3.99}\n",
            "{'loss': 0.7181, 'grad_norm': 21.939464569091797, 'learning_rate': 1.6865479389478545e-06, 'epoch': 4.06}\n",
            "{'loss': 0.6394, 'grad_norm': 80.69341278076172, 'learning_rate': 1.4461099843816684e-06, 'epoch': 4.13}\n",
            "{'loss': 0.6363, 'grad_norm': 45.279911041259766, 'learning_rate': 1.2228199589835998e-06, 'epoch': 4.2}\n",
            "{'loss': 0.671, 'grad_norm': 36.606136322021484, 'learning_rate': 1.0171254908541373e-06, 'epoch': 4.28}\n",
            "{'loss': 0.7264, 'grad_norm': 6.87037467956543, 'learning_rate': 8.294389343914899e-07, 'epoch': 4.35}\n",
            "{'loss': 0.6565, 'grad_norm': 16.268705368041992, 'learning_rate': 6.601365436473439e-07, 'epoch': 4.42}\n",
            "{'loss': 0.6547, 'grad_norm': 27.974206924438477, 'learning_rate': 5.095577180527378e-07, 'epoch': 4.49}\n",
            "{'loss': 0.6134, 'grad_norm': 8.497971534729004, 'learning_rate': 3.780043220261764e-07, 'epoch': 4.56}\n",
            "{'loss': 0.6721, 'grad_norm': 2.7565267086029053, 'learning_rate': 2.6574007982793857e-07, 'epoch': 4.63}\n",
            "{'loss': 0.6406, 'grad_norm': 20.547332763671875, 'learning_rate': 1.7299004687372666e-07, 'epoch': 4.7}\n",
            "{'loss': 0.7376, 'grad_norm': 30.869985580444336, 'learning_rate': 9.994015856749528e-08, 'epoch': 4.77}\n",
            "{'loss': 0.6683, 'grad_norm': 40.60651779174805, 'learning_rate': 4.673685755792523e-08, 'epoch': 4.85}\n",
            "{'loss': 0.6879, 'grad_norm': 0.9353729486465454, 'learning_rate': 1.3486800165773972e-08, 'epoch': 4.92}\n",
            "{'loss': 0.7104, 'grad_norm': 46.69189453125, 'learning_rate': 2.5664257062185673e-10, 'epoch': 4.99}\n",
            "{'train_runtime': 9665.9373, 'train_samples_per_second': 14.516, 'train_steps_per_second': 3.629, 'train_loss': 0.9127697174742121, 'epoch': 5.0}\n"
          ]
        }
      ],
      "source": [
        "train_concat_model(666)"
      ]
    },
    {
      "cell_type": "code",
      "execution_count": 49,
      "metadata": {},
      "outputs": [
        {
          "name": "stderr",
          "output_type": "stream",
          "text": [
            "c:\\Users\\marco\\anaconda3\\lib\\site-packages\\datasets\\table.py:1395: FutureWarning: promote has been superseded by mode='default'.\n",
            "  block_group = [InMemoryTable(cls._concat_blocks(list(block_group), axis=axis))]\n",
            "c:\\Users\\marco\\anaconda3\\lib\\site-packages\\datasets\\table.py:1421: FutureWarning: promote has been superseded by mode='default'.\n",
            "  table = cls._concat_blocks(blocks, axis=0)\n"
          ]
        },
        {
          "name": "stdout",
          "output_type": "stream",
          "text": [
            "Training NOPOOLING MODEL with seed 77:\n"
          ]
        },
        {
          "data": {
            "application/vnd.jupyter.widget-view+json": {
              "model_id": "5e8df31ac2554874ae6f67b820b148e6",
              "version_major": 2,
              "version_minor": 0
            },
            "text/plain": [
              "  0%|          | 0/35080 [00:00<?, ?it/s]"
            ]
          },
          "metadata": {},
          "output_type": "display_data"
        },
        {
          "name": "stderr",
          "output_type": "stream",
          "text": [
            "Could not estimate the number of tokens of the input, floating-point operations will not be computed\n"
          ]
        },
        {
          "name": "stdout",
          "output_type": "stream",
          "text": [
            "{'loss': 1.5747, 'grad_norm': 19.66422462463379, 'learning_rate': 1.9989976531650042e-05, 'epoch': 0.07}\n",
            "{'loss': 1.5083, 'grad_norm': 11.031586647033691, 'learning_rate': 1.9959926220583713e-05, 'epoch': 0.14}\n",
            "{'loss': 1.4368, 'grad_norm': 4.961527347564697, 'learning_rate': 1.9909909308469398e-05, 'epoch': 0.21}\n",
            "{'loss': 1.4029, 'grad_norm': 22.68647003173828, 'learning_rate': 1.9840026063894193e-05, 'epoch': 0.29}\n",
            "{'loss': 1.4059, 'grad_norm': 7.253540515899658, 'learning_rate': 1.9750416581356147e-05, 'epoch': 0.36}\n",
            "{'loss': 1.3718, 'grad_norm': 4.413951873779297, 'learning_rate': 1.9641260500417672e-05, 'epoch': 0.43}\n",
            "{'loss': 1.3907, 'grad_norm': 8.92558479309082, 'learning_rate': 1.9512776645583266e-05, 'epoch': 0.5}\n",
            "{'loss': 1.3205, 'grad_norm': 24.485050201416016, 'learning_rate': 1.9365222587623407e-05, 'epoch': 0.57}\n",
            "{'loss': 1.3397, 'grad_norm': 9.63909912109375, 'learning_rate': 1.9198894127224075e-05, 'epoch': 0.64}\n",
            "{'loss': 1.3583, 'grad_norm': 8.076789855957031, 'learning_rate': 1.9014124701996973e-05, 'epoch': 0.71}\n",
            "{'loss': 1.3164, 'grad_norm': 23.05971908569336, 'learning_rate': 1.881128471803926e-05, 'epoch': 0.78}\n",
            "{'loss': 1.3745, 'grad_norm': 7.125422477722168, 'learning_rate': 1.859078080738279e-05, 'epoch': 0.86}\n",
            "{'loss': 1.2435, 'grad_norm': 17.383054733276367, 'learning_rate': 1.835305501282148e-05, 'epoch': 0.93}\n",
            "{'loss': 1.264, 'grad_norm': 16.15097999572754, 'learning_rate': 1.809858390175087e-05, 'epoch': 1.0}\n",
            "{'loss': 1.2774, 'grad_norm': 8.758539199829102, 'learning_rate': 1.7827877610796515e-05, 'epoch': 1.07}\n",
            "{'loss': 1.2555, 'grad_norm': 11.679105758666992, 'learning_rate': 1.7541478823146328e-05, 'epoch': 1.14}\n",
            "{'loss': 1.2011, 'grad_norm': 28.108266830444336, 'learning_rate': 1.7239961680637002e-05, 'epoch': 1.21}\n",
            "{'loss': 1.2282, 'grad_norm': 10.937009811401367, 'learning_rate': 1.6923930632775517e-05, 'epoch': 1.28}\n",
            "{'loss': 1.1324, 'grad_norm': 10.863539695739746, 'learning_rate': 1.6594019225003043e-05, 'epoch': 1.35}\n",
            "{'loss': 1.147, 'grad_norm': 10.910531997680664, 'learning_rate': 1.62508888286304e-05, 'epoch': 1.43}\n",
            "{'loss': 1.2002, 'grad_norm': 8.314458847045898, 'learning_rate': 1.589522731499118e-05, 'epoch': 1.5}\n",
            "{'loss': 1.1207, 'grad_norm': 14.285390853881836, 'learning_rate': 1.552774767647043e-05, 'epoch': 1.57}\n",
            "{'loss': 1.1632, 'grad_norm': 4.3693366050720215, 'learning_rate': 1.5149186597173348e-05, 'epoch': 1.64}\n",
            "{'loss': 1.0441, 'grad_norm': 23.389753341674805, 'learning_rate': 1.4760302976099305e-05, 'epoch': 1.71}\n",
            "{'loss': 1.0443, 'grad_norm': 23.413480758666992, 'learning_rate': 1.4361876405781835e-05, 'epoch': 1.78}\n",
            "{'loss': 1.0422, 'grad_norm': 11.999119758605957, 'learning_rate': 1.3954705609444403e-05, 'epoch': 1.85}\n",
            "{'loss': 1.068, 'grad_norm': 22.807918548583984, 'learning_rate': 1.3539606839805037e-05, 'epoch': 1.92}\n",
            "{'loss': 1.0524, 'grad_norm': 21.187808990478516, 'learning_rate': 1.3117412242739655e-05, 'epoch': 2.0}\n",
            "{'loss': 0.9283, 'grad_norm': 12.923676490783691, 'learning_rate': 1.2688968189084494e-05, 'epoch': 2.07}\n",
            "{'loss': 0.9636, 'grad_norm': 9.598072052001953, 'learning_rate': 1.225513357792187e-05, 'epoch': 2.14}\n",
            "{'loss': 0.9505, 'grad_norm': 46.26083755493164, 'learning_rate': 1.1816778114750594e-05, 'epoch': 2.21}\n",
            "{'loss': 0.9175, 'grad_norm': 8.929697036743164, 'learning_rate': 1.13747805679929e-05, 'epoch': 2.28}\n",
            "{'loss': 0.9457, 'grad_norm': 9.055727005004883, 'learning_rate': 1.0930027007332924e-05, 'epoch': 2.35}\n",
            "{'loss': 0.8947, 'grad_norm': 102.32466125488281, 'learning_rate': 1.0483409027418426e-05, 'epoch': 2.42}\n",
            "{'loss': 0.8992, 'grad_norm': 6.171835422515869, 'learning_rate': 1.0035821960486643e-05, 'epoch': 2.49}\n",
            "{'loss': 0.882, 'grad_norm': 13.251957893371582, 'learning_rate': 9.588163081497427e-06, 'epoch': 2.57}\n",
            "{'loss': 0.941, 'grad_norm': 11.418295860290527, 'learning_rate': 9.141329809371803e-06, 'epoch': 2.64}\n",
            "{'loss': 0.8771, 'grad_norm': 11.151371002197266, 'learning_rate': 8.696217907941941e-06, 'epoch': 2.71}\n",
            "{'loss': 0.8886, 'grad_norm': 36.639888763427734, 'learning_rate': 8.253719690219079e-06, 'epoch': 2.78}\n",
            "{'loss': 0.7952, 'grad_norm': 13.926753997802734, 'learning_rate': 7.814722229579263e-06, 'epoch': 2.85}\n",
            "{'loss': 0.9101, 'grad_norm': 27.902992248535156, 'learning_rate': 7.380105581452988e-06, 'epoch': 2.92}\n",
            "{'loss': 0.8649, 'grad_norm': 30.24588966369629, 'learning_rate': 6.9507410190836174e-06, 'epoch': 2.99}\n",
            "{'loss': 0.7703, 'grad_norm': 47.84738540649414, 'learning_rate': 6.527489286891458e-06, 'epoch': 3.06}\n",
            "{'loss': 0.8656, 'grad_norm': 24.698875427246094, 'learning_rate': 6.111198874944846e-06, 'epoch': 3.14}\n",
            "{'loss': 0.7823, 'grad_norm': 81.40248107910156, 'learning_rate': 5.702704317997491e-06, 'epoch': 3.21}\n",
            "{'loss': 0.7474, 'grad_norm': 5.032830238342285, 'learning_rate': 5.302824522501931e-06, 'epoch': 3.28}\n",
            "{'loss': 0.7995, 'grad_norm': 170.4537353515625, 'learning_rate': 4.912361124952949e-06, 'epoch': 3.35}\n",
            "{'loss': 0.788, 'grad_norm': 18.79695701599121, 'learning_rate': 4.532096884851978e-06, 'epoch': 3.42}\n",
            "{'loss': 0.7836, 'grad_norm': 10.974570274353027, 'learning_rate': 4.162794115514078e-06, 'epoch': 3.49}\n",
            "{'loss': 0.8085, 'grad_norm': 42.96542739868164, 'learning_rate': 3.805193155863247e-06, 'epoch': 3.56}\n",
            "{'loss': 0.7574, 'grad_norm': 71.91598510742188, 'learning_rate': 3.460010886279681e-06, 'epoch': 3.63}\n",
            "{'loss': 0.8069, 'grad_norm': 105.76566314697266, 'learning_rate': 3.1279392914742047e-06, 'epoch': 3.71}\n",
            "{'loss': 0.7667, 'grad_norm': 1.0400493144989014, 'learning_rate': 2.8096440732709085e-06, 'epoch': 3.78}\n",
            "{'loss': 0.7831, 'grad_norm': 4.401678085327148, 'learning_rate': 2.5057633160789186e-06, 'epoch': 3.85}\n",
            "{'loss': 0.7437, 'grad_norm': 28.76861572265625, 'learning_rate': 2.2169062077286072e-06, 'epoch': 3.92}\n",
            "{'loss': 0.6999, 'grad_norm': 8.560012817382812, 'learning_rate': 1.943651818236616e-06, 'epoch': 3.99}\n",
            "{'loss': 0.7375, 'grad_norm': 19.197649002075195, 'learning_rate': 1.6865479389478545e-06, 'epoch': 4.06}\n",
            "{'loss': 0.6942, 'grad_norm': 130.51266479492188, 'learning_rate': 1.4461099843816684e-06, 'epoch': 4.13}\n",
            "{'loss': 0.6538, 'grad_norm': 12.568619728088379, 'learning_rate': 1.2228199589835998e-06, 'epoch': 4.2}\n",
            "{'loss': 0.7475, 'grad_norm': 37.48319625854492, 'learning_rate': 1.0171254908541373e-06, 'epoch': 4.28}\n",
            "{'loss': 0.7817, 'grad_norm': 7.86894416809082, 'learning_rate': 8.294389343914899e-07, 'epoch': 4.35}\n",
            "{'loss': 0.6656, 'grad_norm': 126.49752807617188, 'learning_rate': 6.601365436473439e-07, 'epoch': 4.42}\n",
            "{'loss': 0.7376, 'grad_norm': 35.94780731201172, 'learning_rate': 5.095577180527378e-07, 'epoch': 4.49}\n",
            "{'loss': 0.6779, 'grad_norm': 44.84183883666992, 'learning_rate': 3.780043220261764e-07, 'epoch': 4.56}\n",
            "{'loss': 0.7271, 'grad_norm': 2.769869089126587, 'learning_rate': 2.6574007982793857e-07, 'epoch': 4.63}\n",
            "{'loss': 0.7131, 'grad_norm': 14.631805419921875, 'learning_rate': 1.7299004687372666e-07, 'epoch': 4.7}\n",
            "{'loss': 0.7694, 'grad_norm': 59.63166427612305, 'learning_rate': 9.994015856749528e-08, 'epoch': 4.77}\n",
            "{'loss': 0.7291, 'grad_norm': 22.23362159729004, 'learning_rate': 4.673685755792523e-08, 'epoch': 4.85}\n",
            "{'loss': 0.757, 'grad_norm': 14.149423599243164, 'learning_rate': 1.3486800165773972e-08, 'epoch': 4.92}\n",
            "{'loss': 0.7426, 'grad_norm': 17.15409278869629, 'learning_rate': 2.5664257062185673e-10, 'epoch': 4.99}\n",
            "{'train_runtime': 9706.9373, 'train_samples_per_second': 14.455, 'train_steps_per_second': 3.614, 'train_loss': 0.9848484902724437, 'epoch': 5.0}\n"
          ]
        }
      ],
      "source": [
        "train_concat_model(77)"
      ]
    },
    {
      "cell_type": "markdown",
      "metadata": {},
      "source": [
        "<h3>TRAIN EXTRACTION MODELS</h3>"
      ]
    },
    {
      "cell_type": "code",
      "execution_count": 29,
      "metadata": {},
      "outputs": [
        {
          "name": "stderr",
          "output_type": "stream",
          "text": [
            "c:\\Users\\marco\\anaconda3\\lib\\site-packages\\datasets\\table.py:1395: FutureWarning: promote has been superseded by mode='default'.\n",
            "  block_group = [InMemoryTable(cls._concat_blocks(list(block_group), axis=axis))]\n",
            "c:\\Users\\marco\\anaconda3\\lib\\site-packages\\datasets\\table.py:1421: FutureWarning: promote has been superseded by mode='default'.\n",
            "  table = cls._concat_blocks(blocks, axis=0)\n"
          ]
        },
        {
          "name": "stdout",
          "output_type": "stream",
          "text": [
            "Training EXTRACTION MODEL with seed 77:\n"
          ]
        },
        {
          "data": {
            "application/vnd.jupyter.widget-view+json": {
              "model_id": "e269ec22a6384d5bb323f7464ca23481",
              "version_major": 2,
              "version_minor": 0
            },
            "text/plain": [
              "  0%|          | 0/35080 [00:00<?, ?it/s]"
            ]
          },
          "metadata": {},
          "output_type": "display_data"
        },
        {
          "name": "stderr",
          "output_type": "stream",
          "text": [
            "Could not estimate the number of tokens of the input, floating-point operations will not be computed\n"
          ]
        },
        {
          "name": "stdout",
          "output_type": "stream",
          "text": [
            "{'loss': 1.5665, 'grad_norm': 18.377416610717773, 'learning_rate': 1.9989976531650042e-05, 'epoch': 0.07}\n",
            "{'loss': 1.5145, 'grad_norm': 7.188172817230225, 'learning_rate': 1.9959926220583713e-05, 'epoch': 0.14}\n",
            "{'loss': 1.3948, 'grad_norm': 3.081557273864746, 'learning_rate': 1.9909909308469398e-05, 'epoch': 0.21}\n",
            "{'loss': 1.4106, 'grad_norm': 20.663869857788086, 'learning_rate': 1.9840026063894193e-05, 'epoch': 0.29}\n",
            "{'loss': 1.4141, 'grad_norm': 4.097904682159424, 'learning_rate': 1.9750416581356147e-05, 'epoch': 0.36}\n",
            "{'loss': 1.3724, 'grad_norm': 3.805527925491333, 'learning_rate': 1.9641260500417672e-05, 'epoch': 0.43}\n",
            "{'loss': 1.3709, 'grad_norm': 6.701464653015137, 'learning_rate': 1.9512776645583266e-05, 'epoch': 0.5}\n",
            "{'loss': 1.3068, 'grad_norm': 24.170408248901367, 'learning_rate': 1.9365222587623407e-05, 'epoch': 0.57}\n",
            "{'loss': 1.3509, 'grad_norm': 3.4699249267578125, 'learning_rate': 1.9198894127224075e-05, 'epoch': 0.64}\n",
            "{'loss': 1.3392, 'grad_norm': 6.089230060577393, 'learning_rate': 1.9014124701996973e-05, 'epoch': 0.71}\n",
            "{'loss': 1.2995, 'grad_norm': 5.099404811859131, 'learning_rate': 1.881128471803926e-05, 'epoch': 0.78}\n",
            "{'loss': 1.3675, 'grad_norm': 3.8938028812408447, 'learning_rate': 1.859078080738279e-05, 'epoch': 0.86}\n",
            "{'loss': 1.262, 'grad_norm': 7.975705146789551, 'learning_rate': 1.835305501282148e-05, 'epoch': 0.93}\n",
            "{'loss': 1.2983, 'grad_norm': 12.270520210266113, 'learning_rate': 1.809858390175087e-05, 'epoch': 1.0}\n"
          ]
        },
        {
          "data": {
            "application/vnd.jupyter.widget-view+json": {
              "model_id": "fdae349745af497fa3bd762de2776513",
              "version_major": 2,
              "version_minor": 0
            },
            "text/plain": [
              "  0%|          | 0/860 [00:00<?, ?it/s]"
            ]
          },
          "metadata": {},
          "output_type": "display_data"
        },
        {
          "name": "stdout",
          "output_type": "stream",
          "text": [
            "{'eval_loss': 1.2840577164118785, 'eval_accuracy_emotions': 0.4274, 'eval_accuracy_triggers': 0.8272, 'eval_u_avg_f1': 0.4934, 'eval_u_f1scores_emotions': 0.3, 'eval_u_f1scores_triggers': 0.6868, 'eval_d_f1scores_emotions': 0.4446, 'eval_d_f1scores_triggers': 0.7906, 'eval_runtime': 689.7914, 'eval_samples_per_second': 4.983, 'eval_steps_per_second': 1.247, 'epoch': 1.0}\n",
            "{'loss': 1.2751, 'grad_norm': 5.145366668701172, 'learning_rate': 1.7827877610796515e-05, 'epoch': 1.07}\n",
            "{'loss': 1.2846, 'grad_norm': 7.035181522369385, 'learning_rate': 1.7541478823146328e-05, 'epoch': 1.14}\n",
            "{'loss': 1.235, 'grad_norm': 7.122843265533447, 'learning_rate': 1.7239961680637002e-05, 'epoch': 1.21}\n",
            "{'loss': 1.237, 'grad_norm': 7.4482293128967285, 'learning_rate': 1.6923930632775517e-05, 'epoch': 1.28}\n",
            "{'loss': 1.1926, 'grad_norm': 4.841318607330322, 'learning_rate': 1.6594019225003043e-05, 'epoch': 1.35}\n",
            "{'loss': 1.2115, 'grad_norm': 8.111562728881836, 'learning_rate': 1.62508888286304e-05, 'epoch': 1.43}\n",
            "{'loss': 1.2879, 'grad_norm': 3.605949640274048, 'learning_rate': 1.589522731499118e-05, 'epoch': 1.5}\n",
            "{'loss': 1.1593, 'grad_norm': 20.989303588867188, 'learning_rate': 1.552774767647043e-05, 'epoch': 1.57}\n",
            "{'loss': 1.237, 'grad_norm': 4.454388618469238, 'learning_rate': 1.5149186597173348e-05, 'epoch': 1.64}\n",
            "{'loss': 1.131, 'grad_norm': 13.852839469909668, 'learning_rate': 1.4760302976099305e-05, 'epoch': 1.71}\n",
            "{'loss': 1.1371, 'grad_norm': 8.013567924499512, 'learning_rate': 1.4361876405781835e-05, 'epoch': 1.78}\n",
            "{'loss': 1.1593, 'grad_norm': 9.829216003417969, 'learning_rate': 1.3954705609444403e-05, 'epoch': 1.85}\n",
            "{'loss': 1.1937, 'grad_norm': 13.815990447998047, 'learning_rate': 1.3539606839805037e-05, 'epoch': 1.92}\n",
            "{'loss': 1.145, 'grad_norm': 12.28516674041748, 'learning_rate': 1.3117412242739655e-05, 'epoch': 2.0}\n"
          ]
        },
        {
          "data": {
            "application/vnd.jupyter.widget-view+json": {
              "model_id": "5897beab4fe546c09d402e82374e4a11",
              "version_major": 2,
              "version_minor": 0
            },
            "text/plain": [
              "  0%|          | 0/860 [00:00<?, ?it/s]"
            ]
          },
          "metadata": {},
          "output_type": "display_data"
        },
        {
          "name": "stdout",
          "output_type": "stream",
          "text": [
            "{'eval_loss': 1.1667199411279008, 'eval_accuracy_emotions': 0.5356, 'eval_accuracy_triggers': 0.8176, 'eval_u_avg_f1': 0.55, 'eval_u_f1scores_emotions': 0.4308, 'eval_u_f1scores_triggers': 0.6692, 'eval_d_f1scores_emotions': 0.5445, 'eval_d_f1scores_triggers': 0.7797, 'eval_runtime': 691.4968, 'eval_samples_per_second': 4.97, 'eval_steps_per_second': 1.244, 'epoch': 2.0}\n",
            "{'loss': 1.0767, 'grad_norm': 7.3604302406311035, 'learning_rate': 1.2688968189084494e-05, 'epoch': 2.07}\n",
            "{'loss': 1.0532, 'grad_norm': 2.6837282180786133, 'learning_rate': 1.225513357792187e-05, 'epoch': 2.14}\n",
            "{'loss': 1.0494, 'grad_norm': 34.13399124145508, 'learning_rate': 1.1816778114750594e-05, 'epoch': 2.21}\n",
            "{'loss': 1.0511, 'grad_norm': 8.345114707946777, 'learning_rate': 1.13747805679929e-05, 'epoch': 2.28}\n",
            "{'loss': 1.0875, 'grad_norm': 8.688597679138184, 'learning_rate': 1.0930027007332924e-05, 'epoch': 2.35}\n",
            "{'loss': 1.0332, 'grad_norm': 93.12825775146484, 'learning_rate': 1.0483409027418426e-05, 'epoch': 2.42}\n",
            "{'loss': 0.9831, 'grad_norm': 7.247027397155762, 'learning_rate': 1.0035821960486643e-05, 'epoch': 2.49}\n",
            "{'loss': 0.9826, 'grad_norm': 24.921039581298828, 'learning_rate': 9.588163081497427e-06, 'epoch': 2.57}\n",
            "{'loss': 0.9932, 'grad_norm': 14.008461952209473, 'learning_rate': 9.141329809371803e-06, 'epoch': 2.64}\n",
            "{'loss': 0.9798, 'grad_norm': 77.84880065917969, 'learning_rate': 8.696217907941941e-06, 'epoch': 2.71}\n",
            "{'loss': 0.9914, 'grad_norm': 11.104613304138184, 'learning_rate': 8.253719690219079e-06, 'epoch': 2.78}\n",
            "{'loss': 0.9292, 'grad_norm': 16.21489143371582, 'learning_rate': 7.814722229579263e-06, 'epoch': 2.85}\n",
            "{'loss': 0.9925, 'grad_norm': 10.899611473083496, 'learning_rate': 7.380105581452988e-06, 'epoch': 2.92}\n",
            "{'loss': 0.9516, 'grad_norm': 23.80299186706543, 'learning_rate': 6.9507410190836174e-06, 'epoch': 2.99}\n"
          ]
        },
        {
          "data": {
            "application/vnd.jupyter.widget-view+json": {
              "model_id": "3e78d3f5086c416b941787ba9f59c7ac",
              "version_major": 2,
              "version_minor": 0
            },
            "text/plain": [
              "  0%|          | 0/860 [00:00<?, ?it/s]"
            ]
          },
          "metadata": {},
          "output_type": "display_data"
        },
        {
          "name": "stdout",
          "output_type": "stream",
          "text": [
            "{'eval_loss': 0.9640400430791959, 'eval_accuracy_emotions': 0.6223, 'eval_accuracy_triggers': 0.7958, 'eval_u_avg_f1': 0.6176, 'eval_u_f1scores_emotions': 0.554, 'eval_u_f1scores_triggers': 0.6811, 'eval_d_f1scores_emotions': 0.6091, 'eval_d_f1scores_triggers': 0.759, 'eval_runtime': 691.4858, 'eval_samples_per_second': 4.97, 'eval_steps_per_second': 1.244, 'epoch': 3.0}\n",
            "{'loss': 0.8424, 'grad_norm': 14.6768798828125, 'learning_rate': 6.527489286891458e-06, 'epoch': 3.06}\n",
            "{'loss': 0.8731, 'grad_norm': 10.729345321655273, 'learning_rate': 6.111198874944846e-06, 'epoch': 3.14}\n",
            "{'loss': 0.8183, 'grad_norm': 27.23920440673828, 'learning_rate': 5.702704317997491e-06, 'epoch': 3.21}\n",
            "{'loss': 0.8236, 'grad_norm': 20.687496185302734, 'learning_rate': 5.302824522501931e-06, 'epoch': 3.28}\n",
            "{'loss': 0.8696, 'grad_norm': 74.28255462646484, 'learning_rate': 4.912361124952949e-06, 'epoch': 3.35}\n",
            "{'loss': 0.8118, 'grad_norm': 27.098796844482422, 'learning_rate': 4.532096884851978e-06, 'epoch': 3.42}\n",
            "{'loss': 0.8038, 'grad_norm': 31.933229446411133, 'learning_rate': 4.162794115514078e-06, 'epoch': 3.49}\n",
            "{'loss': 0.8056, 'grad_norm': 62.884761810302734, 'learning_rate': 3.805193155863247e-06, 'epoch': 3.56}\n",
            "{'loss': 0.7904, 'grad_norm': 40.67734909057617, 'learning_rate': 3.460010886279681e-06, 'epoch': 3.63}\n",
            "{'loss': 0.7673, 'grad_norm': 14.88040828704834, 'learning_rate': 3.1279392914742047e-06, 'epoch': 3.71}\n",
            "{'loss': 0.802, 'grad_norm': 4.563460826873779, 'learning_rate': 2.8096440732709085e-06, 'epoch': 3.78}\n",
            "{'loss': 0.7949, 'grad_norm': 9.854113578796387, 'learning_rate': 2.5057633160789186e-06, 'epoch': 3.85}\n",
            "{'loss': 0.7833, 'grad_norm': 19.042499542236328, 'learning_rate': 2.2169062077286072e-06, 'epoch': 3.92}\n",
            "{'loss': 0.7256, 'grad_norm': 8.880021095275879, 'learning_rate': 1.943651818236616e-06, 'epoch': 3.99}\n"
          ]
        },
        {
          "data": {
            "application/vnd.jupyter.widget-view+json": {
              "model_id": "e0acf9d7bb8c4b3cb029387f3fef8b1a",
              "version_major": 2,
              "version_minor": 0
            },
            "text/plain": [
              "  0%|          | 0/860 [00:00<?, ?it/s]"
            ]
          },
          "metadata": {},
          "output_type": "display_data"
        },
        {
          "name": "stdout",
          "output_type": "stream",
          "text": [
            "{'eval_loss': 0.8707716455246146, 'eval_accuracy_emotions': 0.7181, 'eval_accuracy_triggers': 0.8074, 'eval_u_avg_f1': 0.6752, 'eval_u_f1scores_emotions': 0.658, 'eval_u_f1scores_triggers': 0.6925, 'eval_d_f1scores_emotions': 0.7103, 'eval_d_f1scores_triggers': 0.7705, 'eval_runtime': 692.2186, 'eval_samples_per_second': 4.965, 'eval_steps_per_second': 1.242, 'epoch': 4.0}\n",
            "{'loss': 0.7047, 'grad_norm': 11.683077812194824, 'learning_rate': 1.6865479389478545e-06, 'epoch': 4.06}\n",
            "{'loss': 0.7281, 'grad_norm': 62.7010383605957, 'learning_rate': 1.4461099843816684e-06, 'epoch': 4.13}\n",
            "{'loss': 0.6868, 'grad_norm': 23.74823760986328, 'learning_rate': 1.2228199589835998e-06, 'epoch': 4.2}\n",
            "{'loss': 0.7344, 'grad_norm': 17.786006927490234, 'learning_rate': 1.0171254908541373e-06, 'epoch': 4.28}\n",
            "{'loss': 0.7351, 'grad_norm': 6.203692436218262, 'learning_rate': 8.294389343914899e-07, 'epoch': 4.35}\n",
            "{'loss': 0.7063, 'grad_norm': 13.621657371520996, 'learning_rate': 6.601365436473439e-07, 'epoch': 4.42}\n",
            "{'loss': 0.7128, 'grad_norm': 27.9608097076416, 'learning_rate': 5.095577180527378e-07, 'epoch': 4.49}\n",
            "{'loss': 0.7095, 'grad_norm': 32.18104934692383, 'learning_rate': 3.780043220261764e-07, 'epoch': 4.56}\n",
            "{'loss': 0.7359, 'grad_norm': 2.1953489780426025, 'learning_rate': 2.6574007982793857e-07, 'epoch': 4.63}\n",
            "{'loss': 0.684, 'grad_norm': 138.55776977539062, 'learning_rate': 1.7299004687372666e-07, 'epoch': 4.7}\n",
            "{'loss': 0.7237, 'grad_norm': 14.723156929016113, 'learning_rate': 9.994015856749528e-08, 'epoch': 4.77}\n",
            "{'loss': 0.6471, 'grad_norm': 21.15260124206543, 'learning_rate': 4.673685755792523e-08, 'epoch': 4.85}\n",
            "{'loss': 0.6694, 'grad_norm': 41.16729736328125, 'learning_rate': 1.3486800165773972e-08, 'epoch': 4.92}\n",
            "{'loss': 0.6753, 'grad_norm': 9.48182487487793, 'learning_rate': 2.5664257062185673e-10, 'epoch': 4.99}\n"
          ]
        },
        {
          "data": {
            "application/vnd.jupyter.widget-view+json": {
              "model_id": "eb0a38ea25f345b6866fffb00fc3ee68",
              "version_major": 2,
              "version_minor": 0
            },
            "text/plain": [
              "  0%|          | 0/860 [00:00<?, ?it/s]"
            ]
          },
          "metadata": {},
          "output_type": "display_data"
        },
        {
          "name": "stdout",
          "output_type": "stream",
          "text": [
            "{'eval_loss': 0.855483139147214, 'eval_accuracy_emotions': 0.7303, 'eval_accuracy_triggers': 0.8173, 'eval_u_avg_f1': 0.6849, 'eval_u_f1scores_emotions': 0.6811, 'eval_u_f1scores_triggers': 0.6887, 'eval_d_f1scores_emotions': 0.7196, 'eval_d_f1scores_triggers': 0.7768, 'eval_runtime': 691.2706, 'eval_samples_per_second': 4.972, 'eval_steps_per_second': 1.244, 'epoch': 5.0}\n",
            "{'train_runtime': 11474.891, 'train_samples_per_second': 12.228, 'train_steps_per_second': 3.057, 'train_loss': 1.020235451270944, 'epoch': 5.0}\n"
          ]
        }
      ],
      "source": [
        "# Training model with seed 77\n",
        "train_extr_model(77)"
      ]
    },
    {
      "cell_type": "code",
      "execution_count": 11,
      "metadata": {},
      "outputs": [
        {
          "name": "stderr",
          "output_type": "stream",
          "text": [
            "c:\\Users\\marco\\anaconda3\\lib\\site-packages\\datasets\\table.py:1395: FutureWarning: promote has been superseded by mode='default'.\n",
            "  block_group = [InMemoryTable(cls._concat_blocks(list(block_group), axis=axis))]\n",
            "c:\\Users\\marco\\anaconda3\\lib\\site-packages\\datasets\\table.py:1421: FutureWarning: promote has been superseded by mode='default'.\n",
            "  table = cls._concat_blocks(blocks, axis=0)\n"
          ]
        },
        {
          "name": "stdout",
          "output_type": "stream",
          "text": [
            "Training EXTRACTION MODEL with seed 111:\n"
          ]
        },
        {
          "data": {
            "application/vnd.jupyter.widget-view+json": {
              "model_id": "174417408e414abd96cd50ad75e6abef",
              "version_major": 2,
              "version_minor": 0
            },
            "text/plain": [
              "  0%|          | 0/35080 [00:00<?, ?it/s]"
            ]
          },
          "metadata": {},
          "output_type": "display_data"
        },
        {
          "name": "stderr",
          "output_type": "stream",
          "text": [
            "Could not estimate the number of tokens of the input, floating-point operations will not be computed\n"
          ]
        },
        {
          "name": "stdout",
          "output_type": "stream",
          "text": [
            "{'loss': 1.5486, 'grad_norm': 17.80193328857422, 'learning_rate': 1.9989976531650042e-05, 'epoch': 0.07}\n",
            "{'loss': 1.4818, 'grad_norm': 8.996939659118652, 'learning_rate': 1.9959926220583713e-05, 'epoch': 0.14}\n",
            "{'loss': 1.3533, 'grad_norm': 4.325868129730225, 'learning_rate': 1.9909909308469398e-05, 'epoch': 0.21}\n",
            "{'loss': 1.3473, 'grad_norm': 15.984439849853516, 'learning_rate': 1.9840026063894193e-05, 'epoch': 0.29}\n",
            "{'loss': 1.374, 'grad_norm': 3.700855016708374, 'learning_rate': 1.9750416581356147e-05, 'epoch': 0.36}\n",
            "{'loss': 1.3339, 'grad_norm': 2.0504705905914307, 'learning_rate': 1.9641260500417672e-05, 'epoch': 0.43}\n",
            "{'loss': 1.3508, 'grad_norm': 7.986011505126953, 'learning_rate': 1.9512776645583266e-05, 'epoch': 0.5}\n",
            "{'loss': 1.277, 'grad_norm': 34.078277587890625, 'learning_rate': 1.9365222587623407e-05, 'epoch': 0.57}\n",
            "{'loss': 1.3119, 'grad_norm': 4.179061412811279, 'learning_rate': 1.9198894127224075e-05, 'epoch': 0.64}\n",
            "{'loss': 1.2988, 'grad_norm': 5.24502420425415, 'learning_rate': 1.9014124701996973e-05, 'epoch': 0.71}\n",
            "{'loss': 1.2624, 'grad_norm': 5.469994068145752, 'learning_rate': 1.881128471803926e-05, 'epoch': 0.78}\n",
            "{'loss': 1.3378, 'grad_norm': 4.861839294433594, 'learning_rate': 1.859078080738279e-05, 'epoch': 0.86}\n",
            "{'loss': 1.2205, 'grad_norm': 5.619431972503662, 'learning_rate': 1.835305501282148e-05, 'epoch': 0.93}\n",
            "{'loss': 1.2499, 'grad_norm': 12.762581825256348, 'learning_rate': 1.809858390175087e-05, 'epoch': 1.0}\n"
          ]
        },
        {
          "data": {
            "application/vnd.jupyter.widget-view+json": {
              "model_id": "24055439e62f49bc9ff924b2c8044614",
              "version_major": 2,
              "version_minor": 0
            },
            "text/plain": [
              "  0%|          | 0/860 [00:00<?, ?it/s]"
            ]
          },
          "metadata": {},
          "output_type": "display_data"
        },
        {
          "name": "stdout",
          "output_type": "stream",
          "text": [
            "{'eval_loss': 1.2414930243544164, 'eval_accuracy_emotions': 0.476, 'eval_accuracy_triggers': 0.8147, 'eval_u_avg_f1': 0.5144, 'eval_u_f1scores_emotions': 0.3664, 'eval_u_f1scores_triggers': 0.6625, 'eval_d_f1scores_emotions': 0.4812, 'eval_d_f1scores_triggers': 0.777, 'eval_runtime': 687.212, 'eval_samples_per_second': 5.001, 'eval_steps_per_second': 1.251, 'epoch': 1.0}\n",
            "{'loss': 1.2053, 'grad_norm': 4.374792098999023, 'learning_rate': 1.7827877610796515e-05, 'epoch': 1.07}\n",
            "{'loss': 1.2017, 'grad_norm': 10.007293701171875, 'learning_rate': 1.7541478823146328e-05, 'epoch': 1.14}\n",
            "{'loss': 1.1783, 'grad_norm': 13.580232620239258, 'learning_rate': 1.7239961680637002e-05, 'epoch': 1.21}\n",
            "{'loss': 1.1782, 'grad_norm': 6.268212795257568, 'learning_rate': 1.6923930632775517e-05, 'epoch': 1.28}\n",
            "{'loss': 1.1034, 'grad_norm': 6.264955997467041, 'learning_rate': 1.6594019225003043e-05, 'epoch': 1.35}\n",
            "{'loss': 1.1428, 'grad_norm': 8.674097061157227, 'learning_rate': 1.62508888286304e-05, 'epoch': 1.43}\n",
            "{'loss': 1.1977, 'grad_norm': 3.9553799629211426, 'learning_rate': 1.589522731499118e-05, 'epoch': 1.5}\n",
            "{'loss': 1.0621, 'grad_norm': 40.36129379272461, 'learning_rate': 1.552774767647043e-05, 'epoch': 1.57}\n",
            "{'loss': 1.1495, 'grad_norm': 2.0671017169952393, 'learning_rate': 1.5149186597173348e-05, 'epoch': 1.64}\n",
            "{'loss': 1.05, 'grad_norm': 21.08570098876953, 'learning_rate': 1.4760302976099305e-05, 'epoch': 1.71}\n",
            "{'loss': 1.0557, 'grad_norm': 7.201554298400879, 'learning_rate': 1.4361876405781835e-05, 'epoch': 1.78}\n",
            "{'loss': 1.064, 'grad_norm': 4.555069923400879, 'learning_rate': 1.3954705609444403e-05, 'epoch': 1.85}\n",
            "{'loss': 1.0425, 'grad_norm': 9.925602912902832, 'learning_rate': 1.3539606839805037e-05, 'epoch': 1.92}\n",
            "{'loss': 1.0016, 'grad_norm': 44.92448043823242, 'learning_rate': 1.3117412242739655e-05, 'epoch': 2.0}\n"
          ]
        },
        {
          "data": {
            "application/vnd.jupyter.widget-view+json": {
              "model_id": "243f9a5304df4c1c9f46e04f2c5d3e4e",
              "version_major": 2,
              "version_minor": 0
            },
            "text/plain": [
              "  0%|          | 0/860 [00:00<?, ?it/s]"
            ]
          },
          "metadata": {},
          "output_type": "display_data"
        },
        {
          "name": "stdout",
          "output_type": "stream",
          "text": [
            "{'eval_loss': 1.062898746321832, 'eval_accuracy_emotions': 0.5534, 'eval_accuracy_triggers': 0.8251, 'eval_u_avg_f1': 0.5776, 'eval_u_f1scores_emotions': 0.4886, 'eval_u_f1scores_triggers': 0.6666, 'eval_d_f1scores_emotions': 0.5556, 'eval_d_f1scores_triggers': 0.7865, 'eval_runtime': 688.001, 'eval_samples_per_second': 4.996, 'eval_steps_per_second': 1.25, 'epoch': 2.0}\n",
            "{'loss': 0.9377, 'grad_norm': 8.050713539123535, 'learning_rate': 1.2688968189084494e-05, 'epoch': 2.07}\n",
            "{'loss': 0.9373, 'grad_norm': 6.193169593811035, 'learning_rate': 1.225513357792187e-05, 'epoch': 2.14}\n",
            "{'loss': 0.9199, 'grad_norm': 44.868011474609375, 'learning_rate': 1.1816778114750594e-05, 'epoch': 2.21}\n",
            "{'loss': 0.9013, 'grad_norm': 7.290295124053955, 'learning_rate': 1.13747805679929e-05, 'epoch': 2.28}\n",
            "{'loss': 0.9357, 'grad_norm': 16.711355209350586, 'learning_rate': 1.0930027007332924e-05, 'epoch': 2.35}\n",
            "{'loss': 0.9337, 'grad_norm': 80.26470184326172, 'learning_rate': 1.0483409027418426e-05, 'epoch': 2.42}\n",
            "{'loss': 0.8641, 'grad_norm': 12.10429573059082, 'learning_rate': 1.0035821960486643e-05, 'epoch': 2.49}\n",
            "{'loss': 0.8694, 'grad_norm': 24.772737503051758, 'learning_rate': 9.588163081497427e-06, 'epoch': 2.57}\n",
            "{'loss': 0.8484, 'grad_norm': 2.5006396770477295, 'learning_rate': 9.141329809371803e-06, 'epoch': 2.64}\n",
            "{'loss': 0.8498, 'grad_norm': 32.70418167114258, 'learning_rate': 8.696217907941941e-06, 'epoch': 2.71}\n",
            "{'loss': 0.8463, 'grad_norm': 21.550390243530273, 'learning_rate': 8.253719690219079e-06, 'epoch': 2.78}\n",
            "{'loss': 0.8015, 'grad_norm': 21.42188262939453, 'learning_rate': 7.814722229579263e-06, 'epoch': 2.85}\n",
            "{'loss': 0.8671, 'grad_norm': 8.978997230529785, 'learning_rate': 7.380105581452988e-06, 'epoch': 2.92}\n",
            "{'loss': 0.8265, 'grad_norm': 19.065349578857422, 'learning_rate': 6.9507410190836174e-06, 'epoch': 2.99}\n"
          ]
        },
        {
          "data": {
            "application/vnd.jupyter.widget-view+json": {
              "model_id": "77534d267f95475ead50a3f6fd8128a2",
              "version_major": 2,
              "version_minor": 0
            },
            "text/plain": [
              "  0%|          | 0/860 [00:00<?, ?it/s]"
            ]
          },
          "metadata": {},
          "output_type": "display_data"
        },
        {
          "name": "stdout",
          "output_type": "stream",
          "text": [
            "{'eval_loss': 0.8320291438148364, 'eval_accuracy_emotions': 0.691, 'eval_accuracy_triggers': 0.8176, 'eval_u_avg_f1': 0.6756, 'eval_u_f1scores_emotions': 0.6467, 'eval_u_f1scores_triggers': 0.7045, 'eval_d_f1scores_emotions': 0.6702, 'eval_d_f1scores_triggers': 0.7785, 'eval_runtime': 688.2683, 'eval_samples_per_second': 4.994, 'eval_steps_per_second': 1.25, 'epoch': 3.0}\n",
            "{'loss': 0.7316, 'grad_norm': 20.102375030517578, 'learning_rate': 6.527489286891458e-06, 'epoch': 3.06}\n",
            "{'loss': 0.7868, 'grad_norm': 9.32190227508545, 'learning_rate': 6.111198874944846e-06, 'epoch': 3.14}\n",
            "{'loss': 0.6971, 'grad_norm': 45.53240966796875, 'learning_rate': 5.702704317997491e-06, 'epoch': 3.21}\n",
            "{'loss': 0.6974, 'grad_norm': 8.432028770446777, 'learning_rate': 5.302824522501931e-06, 'epoch': 3.28}\n",
            "{'loss': 0.7387, 'grad_norm': 75.95780181884766, 'learning_rate': 4.912361124952949e-06, 'epoch': 3.35}\n",
            "{'loss': 0.6739, 'grad_norm': 36.87929916381836, 'learning_rate': 4.532096884851978e-06, 'epoch': 3.42}\n",
            "{'loss': 0.6666, 'grad_norm': 27.375354766845703, 'learning_rate': 4.162794115514078e-06, 'epoch': 3.49}\n",
            "{'loss': 0.6866, 'grad_norm': 45.60110855102539, 'learning_rate': 3.805193155863247e-06, 'epoch': 3.56}\n",
            "{'loss': 0.6532, 'grad_norm': 33.035728454589844, 'learning_rate': 3.460010886279681e-06, 'epoch': 3.63}\n",
            "{'loss': 0.6476, 'grad_norm': 11.591699600219727, 'learning_rate': 3.1279392914742047e-06, 'epoch': 3.71}\n",
            "{'loss': 0.6736, 'grad_norm': 6.650328159332275, 'learning_rate': 2.8096440732709085e-06, 'epoch': 3.78}\n",
            "{'loss': 0.655, 'grad_norm': 8.250913619995117, 'learning_rate': 2.5057633160789186e-06, 'epoch': 3.85}\n",
            "{'loss': 0.6442, 'grad_norm': 24.026611328125, 'learning_rate': 2.2169062077286072e-06, 'epoch': 3.92}\n",
            "{'loss': 0.6234, 'grad_norm': 13.353082656860352, 'learning_rate': 1.943651818236616e-06, 'epoch': 3.99}\n"
          ]
        },
        {
          "data": {
            "application/vnd.jupyter.widget-view+json": {
              "model_id": "b104902648004851b523468da88c4908",
              "version_major": 2,
              "version_minor": 0
            },
            "text/plain": [
              "  0%|          | 0/860 [00:00<?, ?it/s]"
            ]
          },
          "metadata": {},
          "output_type": "display_data"
        },
        {
          "name": "stdout",
          "output_type": "stream",
          "text": [
            "{'eval_loss': 0.7570977134885727, 'eval_accuracy_emotions': 0.7701, 'eval_accuracy_triggers': 0.819, 'eval_u_avg_f1': 0.7207, 'eval_u_f1scores_emotions': 0.7378, 'eval_u_f1scores_triggers': 0.7036, 'eval_d_f1scores_emotions': 0.7611, 'eval_d_f1scores_triggers': 0.7776, 'eval_runtime': 688.4879, 'eval_samples_per_second': 4.992, 'eval_steps_per_second': 1.249, 'epoch': 4.0}\n",
            "{'loss': 0.5883, 'grad_norm': 9.0853910446167, 'learning_rate': 1.6865479389478545e-06, 'epoch': 4.06}\n",
            "{'loss': 0.6092, 'grad_norm': 44.74871063232422, 'learning_rate': 1.4461099843816684e-06, 'epoch': 4.13}\n",
            "{'loss': 0.5904, 'grad_norm': 16.358474731445312, 'learning_rate': 1.2228199589835998e-06, 'epoch': 4.2}\n",
            "{'loss': 0.6186, 'grad_norm': 14.376166343688965, 'learning_rate': 1.0171254908541373e-06, 'epoch': 4.28}\n",
            "{'loss': 0.605, 'grad_norm': 7.927257061004639, 'learning_rate': 8.294389343914899e-07, 'epoch': 4.35}\n",
            "{'loss': 0.5805, 'grad_norm': 17.53046417236328, 'learning_rate': 6.601365436473439e-07, 'epoch': 4.42}\n",
            "{'loss': 0.6016, 'grad_norm': 26.998966217041016, 'learning_rate': 5.095577180527378e-07, 'epoch': 4.49}\n",
            "{'loss': 0.5798, 'grad_norm': 31.774995803833008, 'learning_rate': 3.780043220261764e-07, 'epoch': 4.56}\n",
            "{'loss': 0.6087, 'grad_norm': 3.5380187034606934, 'learning_rate': 2.6574007982793857e-07, 'epoch': 4.63}\n",
            "{'loss': 0.5628, 'grad_norm': 17.044130325317383, 'learning_rate': 1.7299004687372666e-07, 'epoch': 4.7}\n",
            "{'loss': 0.6357, 'grad_norm': 15.83751392364502, 'learning_rate': 9.994015856749528e-08, 'epoch': 4.77}\n",
            "{'loss': 0.5601, 'grad_norm': 10.379165649414062, 'learning_rate': 4.673685755792523e-08, 'epoch': 4.85}\n",
            "{'loss': 0.5875, 'grad_norm': 24.590362548828125, 'learning_rate': 1.3486800165773972e-08, 'epoch': 4.92}\n",
            "{'loss': 0.5737, 'grad_norm': 9.411850929260254, 'learning_rate': 2.5664257062185673e-10, 'epoch': 4.99}\n"
          ]
        },
        {
          "data": {
            "application/vnd.jupyter.widget-view+json": {
              "model_id": "74376d5fa0d2435d932a56aeb1cf65ce",
              "version_major": 2,
              "version_minor": 0
            },
            "text/plain": [
              "  0%|          | 0/860 [00:00<?, ?it/s]"
            ]
          },
          "metadata": {},
          "output_type": "display_data"
        },
        {
          "name": "stdout",
          "output_type": "stream",
          "text": [
            "{'eval_loss': 0.7610925864617913, 'eval_accuracy_emotions': 0.7847, 'eval_accuracy_triggers': 0.8228, 'eval_u_avg_f1': 0.7281, 'eval_u_f1scores_emotions': 0.7618, 'eval_u_f1scores_triggers': 0.6944, 'eval_d_f1scores_emotions': 0.7713, 'eval_d_f1scores_triggers': 0.7819, 'eval_runtime': 687.6897, 'eval_samples_per_second': 4.998, 'eval_steps_per_second': 1.251, 'epoch': 5.0}\n",
            "{'train_runtime': 10954.4103, 'train_samples_per_second': 12.809, 'train_steps_per_second': 3.202, 'train_loss': 0.9220450930883566, 'epoch': 5.0}\n"
          ]
        }
      ],
      "source": [
        "# Training model with seed 111\n",
        "train_extr_model(111)"
      ]
    },
    {
      "cell_type": "code",
      "execution_count": 30,
      "metadata": {},
      "outputs": [
        {
          "name": "stderr",
          "output_type": "stream",
          "text": [
            "c:\\Users\\marco\\anaconda3\\lib\\site-packages\\datasets\\table.py:1395: FutureWarning: promote has been superseded by mode='default'.\n",
            "  block_group = [InMemoryTable(cls._concat_blocks(list(block_group), axis=axis))]\n",
            "c:\\Users\\marco\\anaconda3\\lib\\site-packages\\datasets\\table.py:1421: FutureWarning: promote has been superseded by mode='default'.\n",
            "  table = cls._concat_blocks(blocks, axis=0)\n"
          ]
        },
        {
          "name": "stdout",
          "output_type": "stream",
          "text": [
            "Training EXTRACTION MODEL with seed 51:\n"
          ]
        },
        {
          "data": {
            "application/vnd.jupyter.widget-view+json": {
              "model_id": "8c7a5a2491164020a3a70553d2e13002",
              "version_major": 2,
              "version_minor": 0
            },
            "text/plain": [
              "  0%|          | 0/35080 [00:00<?, ?it/s]"
            ]
          },
          "metadata": {},
          "output_type": "display_data"
        },
        {
          "name": "stderr",
          "output_type": "stream",
          "text": [
            "Could not estimate the number of tokens of the input, floating-point operations will not be computed\n"
          ]
        },
        {
          "name": "stdout",
          "output_type": "stream",
          "text": [
            "{'loss': 1.5555, 'grad_norm': 18.832500457763672, 'learning_rate': 1.9989976531650042e-05, 'epoch': 0.07}\n",
            "{'loss': 1.4938, 'grad_norm': 7.642202854156494, 'learning_rate': 1.9959926220583713e-05, 'epoch': 0.14}\n",
            "{'loss': 1.3579, 'grad_norm': 3.605273962020874, 'learning_rate': 1.9909909308469398e-05, 'epoch': 0.21}\n",
            "{'loss': 1.3526, 'grad_norm': 18.823993682861328, 'learning_rate': 1.9840026063894193e-05, 'epoch': 0.29}\n",
            "{'loss': 1.3796, 'grad_norm': 3.944539785385132, 'learning_rate': 1.9750416581356147e-05, 'epoch': 0.36}\n",
            "{'loss': 1.346, 'grad_norm': 2.5796878337860107, 'learning_rate': 1.9641260500417672e-05, 'epoch': 0.43}\n",
            "{'loss': 1.3666, 'grad_norm': 5.86821985244751, 'learning_rate': 1.9512776645583266e-05, 'epoch': 0.5}\n",
            "{'loss': 1.2946, 'grad_norm': 29.448530197143555, 'learning_rate': 1.9365222587623407e-05, 'epoch': 0.57}\n",
            "{'loss': 1.3371, 'grad_norm': 4.3936614990234375, 'learning_rate': 1.9198894127224075e-05, 'epoch': 0.64}\n",
            "{'loss': 1.3334, 'grad_norm': 5.497613906860352, 'learning_rate': 1.9014124701996973e-05, 'epoch': 0.71}\n",
            "{'loss': 1.2816, 'grad_norm': 5.389469623565674, 'learning_rate': 1.881128471803926e-05, 'epoch': 0.78}\n",
            "{'loss': 1.356, 'grad_norm': 3.7482101917266846, 'learning_rate': 1.859078080738279e-05, 'epoch': 0.86}\n",
            "{'loss': 1.2351, 'grad_norm': 7.134990215301514, 'learning_rate': 1.835305501282148e-05, 'epoch': 0.93}\n",
            "{'loss': 1.2787, 'grad_norm': 16.2694091796875, 'learning_rate': 1.809858390175087e-05, 'epoch': 1.0}\n"
          ]
        },
        {
          "data": {
            "application/vnd.jupyter.widget-view+json": {
              "model_id": "6dba1706a93246e3bd5c14fcadcbfa38",
              "version_major": 2,
              "version_minor": 0
            },
            "text/plain": [
              "  0%|          | 0/860 [00:00<?, ?it/s]"
            ]
          },
          "metadata": {},
          "output_type": "display_data"
        },
        {
          "name": "stdout",
          "output_type": "stream",
          "text": [
            "{'eval_loss': 1.264062178365112, 'eval_accuracy_emotions': 0.485, 'eval_accuracy_triggers': 0.8074, 'eval_u_avg_f1': 0.4979, 'eval_u_f1scores_emotions': 0.3171, 'eval_u_f1scores_triggers': 0.6787, 'eval_d_f1scores_emotions': 0.5005, 'eval_d_f1scores_triggers': 0.7676, 'eval_runtime': 692.0715, 'eval_samples_per_second': 4.966, 'eval_steps_per_second': 1.243, 'epoch': 1.0}\n",
            "{'loss': 1.2804, 'grad_norm': 4.7781147956848145, 'learning_rate': 1.7827877610796515e-05, 'epoch': 1.07}\n",
            "{'loss': 1.2683, 'grad_norm': 8.709813117980957, 'learning_rate': 1.7541478823146328e-05, 'epoch': 1.14}\n",
            "{'loss': 1.2159, 'grad_norm': 12.892685890197754, 'learning_rate': 1.7239961680637002e-05, 'epoch': 1.21}\n",
            "{'loss': 1.2208, 'grad_norm': 11.913092613220215, 'learning_rate': 1.6923930632775517e-05, 'epoch': 1.28}\n",
            "{'loss': 1.1638, 'grad_norm': 9.596714973449707, 'learning_rate': 1.6594019225003043e-05, 'epoch': 1.35}\n",
            "{'loss': 1.1809, 'grad_norm': 6.788118839263916, 'learning_rate': 1.62508888286304e-05, 'epoch': 1.43}\n",
            "{'loss': 1.2316, 'grad_norm': 6.213817596435547, 'learning_rate': 1.589522731499118e-05, 'epoch': 1.5}\n",
            "{'loss': 1.1251, 'grad_norm': 21.870277404785156, 'learning_rate': 1.552774767647043e-05, 'epoch': 1.57}\n",
            "{'loss': 1.1828, 'grad_norm': 1.9042809009552002, 'learning_rate': 1.5149186597173348e-05, 'epoch': 1.64}\n",
            "{'loss': 1.0991, 'grad_norm': 16.265907287597656, 'learning_rate': 1.4760302976099305e-05, 'epoch': 1.71}\n",
            "{'loss': 1.1161, 'grad_norm': 6.778221607208252, 'learning_rate': 1.4361876405781835e-05, 'epoch': 1.78}\n",
            "{'loss': 1.119, 'grad_norm': 5.9569878578186035, 'learning_rate': 1.3954705609444403e-05, 'epoch': 1.85}\n",
            "{'loss': 1.1232, 'grad_norm': 10.556565284729004, 'learning_rate': 1.3539606839805037e-05, 'epoch': 1.92}\n",
            "{'loss': 1.074, 'grad_norm': 24.871488571166992, 'learning_rate': 1.3117412242739655e-05, 'epoch': 2.0}\n"
          ]
        },
        {
          "data": {
            "application/vnd.jupyter.widget-view+json": {
              "model_id": "09a6bd427ce443b581891dd8479783fe",
              "version_major": 2,
              "version_minor": 0
            },
            "text/plain": [
              "  0%|          | 0/860 [00:00<?, ?it/s]"
            ]
          },
          "metadata": {},
          "output_type": "display_data"
        },
        {
          "name": "stdout",
          "output_type": "stream",
          "text": [
            "{'eval_loss': 1.1089428116450675, 'eval_accuracy_emotions': 0.5386, 'eval_accuracy_triggers': 0.8179, 'eval_u_avg_f1': 0.5686, 'eval_u_f1scores_emotions': 0.4705, 'eval_u_f1scores_triggers': 0.6666, 'eval_d_f1scores_emotions': 0.5482, 'eval_d_f1scores_triggers': 0.781, 'eval_runtime': 690.7302, 'eval_samples_per_second': 4.976, 'eval_steps_per_second': 1.245, 'epoch': 2.0}\n",
            "{'loss': 0.9922, 'grad_norm': 13.011868476867676, 'learning_rate': 1.2688968189084494e-05, 'epoch': 2.07}\n",
            "{'loss': 0.9976, 'grad_norm': 4.57537841796875, 'learning_rate': 1.225513357792187e-05, 'epoch': 2.14}\n",
            "{'loss': 0.9775, 'grad_norm': 47.5555534362793, 'learning_rate': 1.1816778114750594e-05, 'epoch': 2.21}\n",
            "{'loss': 0.9727, 'grad_norm': 9.01534652709961, 'learning_rate': 1.13747805679929e-05, 'epoch': 2.28}\n",
            "{'loss': 1.0023, 'grad_norm': 23.69876480102539, 'learning_rate': 1.0930027007332924e-05, 'epoch': 2.35}\n",
            "{'loss': 0.9738, 'grad_norm': 45.41794204711914, 'learning_rate': 1.0483409027418426e-05, 'epoch': 2.42}\n",
            "{'loss': 0.9099, 'grad_norm': 8.818656921386719, 'learning_rate': 1.0035821960486643e-05, 'epoch': 2.49}\n",
            "{'loss': 0.9479, 'grad_norm': 35.38209533691406, 'learning_rate': 9.588163081497427e-06, 'epoch': 2.57}\n",
            "{'loss': 0.9179, 'grad_norm': 5.142099857330322, 'learning_rate': 9.141329809371803e-06, 'epoch': 2.64}\n",
            "{'loss': 0.9118, 'grad_norm': 45.095306396484375, 'learning_rate': 8.696217907941941e-06, 'epoch': 2.71}\n",
            "{'loss': 0.9089, 'grad_norm': 16.880874633789062, 'learning_rate': 8.253719690219079e-06, 'epoch': 2.78}\n",
            "{'loss': 0.8718, 'grad_norm': 24.668954849243164, 'learning_rate': 7.814722229579263e-06, 'epoch': 2.85}\n",
            "{'loss': 0.9306, 'grad_norm': 6.898287773132324, 'learning_rate': 7.380105581452988e-06, 'epoch': 2.92}\n",
            "{'loss': 0.895, 'grad_norm': 22.644229888916016, 'learning_rate': 6.9507410190836174e-06, 'epoch': 2.99}\n"
          ]
        },
        {
          "data": {
            "application/vnd.jupyter.widget-view+json": {
              "model_id": "d1dd490db6f64cbf9eb77b6b200c0494",
              "version_major": 2,
              "version_minor": 0
            },
            "text/plain": [
              "  0%|          | 0/860 [00:00<?, ?it/s]"
            ]
          },
          "metadata": {},
          "output_type": "display_data"
        },
        {
          "name": "stdout",
          "output_type": "stream",
          "text": [
            "{'eval_loss': 0.9089449520619204, 'eval_accuracy_emotions': 0.6791, 'eval_accuracy_triggers': 0.8144, 'eval_u_avg_f1': 0.6641, 'eval_u_f1scores_emotions': 0.6276, 'eval_u_f1scores_triggers': 0.7006, 'eval_d_f1scores_emotions': 0.6729, 'eval_d_f1scores_triggers': 0.7778, 'eval_runtime': 691.6768, 'eval_samples_per_second': 4.969, 'eval_steps_per_second': 1.243, 'epoch': 3.0}\n",
            "{'loss': 0.7764, 'grad_norm': 13.635966300964355, 'learning_rate': 6.527489286891458e-06, 'epoch': 3.06}\n",
            "{'loss': 0.8378, 'grad_norm': 9.083273887634277, 'learning_rate': 6.111198874944846e-06, 'epoch': 3.14}\n",
            "{'loss': 0.7524, 'grad_norm': 31.2106876373291, 'learning_rate': 5.702704317997491e-06, 'epoch': 3.21}\n",
            "{'loss': 0.7624, 'grad_norm': 14.432787895202637, 'learning_rate': 5.302824522501931e-06, 'epoch': 3.28}\n",
            "{'loss': 0.7926, 'grad_norm': 97.30465698242188, 'learning_rate': 4.912361124952949e-06, 'epoch': 3.35}\n",
            "{'loss': 0.7403, 'grad_norm': 43.10676574707031, 'learning_rate': 4.532096884851978e-06, 'epoch': 3.42}\n",
            "{'loss': 0.7431, 'grad_norm': 55.60447692871094, 'learning_rate': 4.162794115514078e-06, 'epoch': 3.49}\n",
            "{'loss': 0.7584, 'grad_norm': 35.77888870239258, 'learning_rate': 3.805193155863247e-06, 'epoch': 3.56}\n",
            "{'loss': 0.7286, 'grad_norm': 84.46614074707031, 'learning_rate': 3.460010886279681e-06, 'epoch': 3.63}\n",
            "{'loss': 0.7184, 'grad_norm': 12.47534465789795, 'learning_rate': 3.1279392914742047e-06, 'epoch': 3.71}\n",
            "{'loss': 0.7569, 'grad_norm': 3.659508466720581, 'learning_rate': 2.8096440732709085e-06, 'epoch': 3.78}\n",
            "{'loss': 0.741, 'grad_norm': 6.727537155151367, 'learning_rate': 2.5057633160789186e-06, 'epoch': 3.85}\n",
            "{'loss': 0.6888, 'grad_norm': 12.902487754821777, 'learning_rate': 2.2169062077286072e-06, 'epoch': 3.92}\n",
            "{'loss': 0.6635, 'grad_norm': 8.895620346069336, 'learning_rate': 1.943651818236616e-06, 'epoch': 3.99}\n"
          ]
        },
        {
          "data": {
            "application/vnd.jupyter.widget-view+json": {
              "model_id": "56e1cc22b60b43ae8637797ff5ef98b5",
              "version_major": 2,
              "version_minor": 0
            },
            "text/plain": [
              "  0%|          | 0/860 [00:00<?, ?it/s]"
            ]
          },
          "metadata": {},
          "output_type": "display_data"
        },
        {
          "name": "stdout",
          "output_type": "stream",
          "text": [
            "{'eval_loss': 0.8097074884282444, 'eval_accuracy_emotions': 0.7425, 'eval_accuracy_triggers': 0.8164, 'eval_u_avg_f1': 0.7044, 'eval_u_f1scores_emotions': 0.7024, 'eval_u_f1scores_triggers': 0.7064, 'eval_d_f1scores_emotions': 0.7451, 'eval_d_f1scores_triggers': 0.7749, 'eval_runtime': 690.2134, 'eval_samples_per_second': 4.98, 'eval_steps_per_second': 1.246, 'epoch': 4.0}\n",
            "{'loss': 0.6395, 'grad_norm': 9.754467010498047, 'learning_rate': 1.6865479389478545e-06, 'epoch': 4.06}\n",
            "{'loss': 0.6727, 'grad_norm': 106.34945678710938, 'learning_rate': 1.4461099843816684e-06, 'epoch': 4.13}\n",
            "{'loss': 0.6378, 'grad_norm': 26.245515823364258, 'learning_rate': 1.2228199589835998e-06, 'epoch': 4.2}\n",
            "{'loss': 0.6795, 'grad_norm': 19.640962600708008, 'learning_rate': 1.0171254908541373e-06, 'epoch': 4.28}\n",
            "{'loss': 0.6551, 'grad_norm': 8.009134292602539, 'learning_rate': 8.294389343914899e-07, 'epoch': 4.35}\n",
            "{'loss': 0.6645, 'grad_norm': 11.364273071289062, 'learning_rate': 6.601365436473439e-07, 'epoch': 4.42}\n",
            "{'loss': 0.658, 'grad_norm': 19.152572631835938, 'learning_rate': 5.095577180527378e-07, 'epoch': 4.49}\n",
            "{'loss': 0.6383, 'grad_norm': 33.826744079589844, 'learning_rate': 3.780043220261764e-07, 'epoch': 4.56}\n",
            "{'loss': 0.6896, 'grad_norm': 1.282148838043213, 'learning_rate': 2.6574007982793857e-07, 'epoch': 4.63}\n",
            "{'loss': 0.6431, 'grad_norm': 8.405571937561035, 'learning_rate': 1.7299004687372666e-07, 'epoch': 4.7}\n",
            "{'loss': 0.6742, 'grad_norm': 12.054601669311523, 'learning_rate': 9.994015856749528e-08, 'epoch': 4.77}\n",
            "{'loss': 0.6098, 'grad_norm': 18.376266479492188, 'learning_rate': 4.673685755792523e-08, 'epoch': 4.85}\n",
            "{'loss': 0.6291, 'grad_norm': 30.414405822753906, 'learning_rate': 1.3486800165773972e-08, 'epoch': 4.92}\n",
            "{'loss': 0.6183, 'grad_norm': 15.859907150268555, 'learning_rate': 2.5664257062185673e-10, 'epoch': 4.99}\n"
          ]
        },
        {
          "data": {
            "application/vnd.jupyter.widget-view+json": {
              "model_id": "fd54185d09f34b95a38be1eae0b0e6be",
              "version_major": 2,
              "version_minor": 0
            },
            "text/plain": [
              "  0%|          | 0/860 [00:00<?, ?it/s]"
            ]
          },
          "metadata": {},
          "output_type": "display_data"
        },
        {
          "name": "stdout",
          "output_type": "stream",
          "text": [
            "{'eval_loss': 0.8072840056462811, 'eval_accuracy_emotions': 0.7664, 'eval_accuracy_triggers': 0.8184, 'eval_u_avg_f1': 0.715, 'eval_u_f1scores_emotions': 0.7386, 'eval_u_f1scores_triggers': 0.6915, 'eval_d_f1scores_emotions': 0.7632, 'eval_d_f1scores_triggers': 0.7775, 'eval_runtime': 691.4911, 'eval_samples_per_second': 4.97, 'eval_steps_per_second': 1.244, 'epoch': 5.0}\n",
            "{'train_runtime': 11428.3544, 'train_samples_per_second': 12.277, 'train_steps_per_second': 3.07, 'train_loss': 0.9727949126144635, 'epoch': 5.0}\n"
          ]
        }
      ],
      "source": [
        "# Training model with seed 51\n",
        "train_extr_model(51)"
      ]
    },
    {
      "cell_type": "code",
      "execution_count": 31,
      "metadata": {},
      "outputs": [
        {
          "name": "stderr",
          "output_type": "stream",
          "text": [
            "c:\\Users\\marco\\anaconda3\\lib\\site-packages\\datasets\\table.py:1395: FutureWarning: promote has been superseded by mode='default'.\n",
            "  block_group = [InMemoryTable(cls._concat_blocks(list(block_group), axis=axis))]\n",
            "c:\\Users\\marco\\anaconda3\\lib\\site-packages\\datasets\\table.py:1421: FutureWarning: promote has been superseded by mode='default'.\n",
            "  table = cls._concat_blocks(blocks, axis=0)\n"
          ]
        },
        {
          "name": "stdout",
          "output_type": "stream",
          "text": [
            "Training EXTRACTION MODEL with seed 666:\n"
          ]
        },
        {
          "data": {
            "application/vnd.jupyter.widget-view+json": {
              "model_id": "4627c771be2c472393fa1bbcc6f0b164",
              "version_major": 2,
              "version_minor": 0
            },
            "text/plain": [
              "  0%|          | 0/35080 [00:00<?, ?it/s]"
            ]
          },
          "metadata": {},
          "output_type": "display_data"
        },
        {
          "name": "stderr",
          "output_type": "stream",
          "text": [
            "Could not estimate the number of tokens of the input, floating-point operations will not be computed\n"
          ]
        },
        {
          "name": "stdout",
          "output_type": "stream",
          "text": [
            "{'loss': 1.5455, 'grad_norm': 17.883642196655273, 'learning_rate': 1.9989976531650042e-05, 'epoch': 0.07}\n",
            "{'loss': 1.4613, 'grad_norm': 6.613398551940918, 'learning_rate': 1.9959926220583713e-05, 'epoch': 0.14}\n",
            "{'loss': 1.3438, 'grad_norm': 3.1198196411132812, 'learning_rate': 1.9909909308469398e-05, 'epoch': 0.21}\n",
            "{'loss': 1.3474, 'grad_norm': 15.932950973510742, 'learning_rate': 1.9840026063894193e-05, 'epoch': 0.29}\n",
            "{'loss': 1.3518, 'grad_norm': 4.3627848625183105, 'learning_rate': 1.9750416581356147e-05, 'epoch': 0.36}\n",
            "{'loss': 1.3196, 'grad_norm': 1.7432825565338135, 'learning_rate': 1.9641260500417672e-05, 'epoch': 0.43}\n",
            "{'loss': 1.3413, 'grad_norm': 7.337068557739258, 'learning_rate': 1.9512776645583266e-05, 'epoch': 0.5}\n",
            "{'loss': 1.2773, 'grad_norm': 26.30140495300293, 'learning_rate': 1.9365222587623407e-05, 'epoch': 0.57}\n",
            "{'loss': 1.2863, 'grad_norm': 5.915427207946777, 'learning_rate': 1.9198894127224075e-05, 'epoch': 0.64}\n",
            "{'loss': 1.286, 'grad_norm': 7.643270969390869, 'learning_rate': 1.9014124701996973e-05, 'epoch': 0.71}\n",
            "{'loss': 1.2441, 'grad_norm': 6.1755242347717285, 'learning_rate': 1.881128471803926e-05, 'epoch': 0.78}\n",
            "{'loss': 1.3107, 'grad_norm': 3.9276349544525146, 'learning_rate': 1.859078080738279e-05, 'epoch': 0.86}\n",
            "{'loss': 1.1763, 'grad_norm': 7.577219009399414, 'learning_rate': 1.835305501282148e-05, 'epoch': 0.93}\n",
            "{'loss': 1.2331, 'grad_norm': 10.167333602905273, 'learning_rate': 1.809858390175087e-05, 'epoch': 1.0}\n"
          ]
        },
        {
          "data": {
            "application/vnd.jupyter.widget-view+json": {
              "model_id": "32cd28564a6f40bdb27bd03c704b3ac5",
              "version_major": 2,
              "version_minor": 0
            },
            "text/plain": [
              "  0%|          | 0/860 [00:00<?, ?it/s]"
            ]
          },
          "metadata": {},
          "output_type": "display_data"
        },
        {
          "name": "stdout",
          "output_type": "stream",
          "text": [
            "{'eval_loss': 1.1965432638697076, 'eval_accuracy_emotions': 0.533, 'eval_accuracy_triggers': 0.8065, 'eval_u_avg_f1': 0.5392, 'eval_u_f1scores_emotions': 0.4077, 'eval_u_f1scores_triggers': 0.6706, 'eval_d_f1scores_emotions': 0.5346, 'eval_d_f1scores_triggers': 0.7693, 'eval_runtime': 689.8741, 'eval_samples_per_second': 4.982, 'eval_steps_per_second': 1.247, 'epoch': 1.0}\n",
            "{'loss': 1.1747, 'grad_norm': 6.383932590484619, 'learning_rate': 1.7827877610796515e-05, 'epoch': 1.07}\n",
            "{'loss': 1.1745, 'grad_norm': 9.974156379699707, 'learning_rate': 1.7541478823146328e-05, 'epoch': 1.14}\n",
            "{'loss': 1.119, 'grad_norm': 10.338711738586426, 'learning_rate': 1.7239961680637002e-05, 'epoch': 1.21}\n",
            "{'loss': 1.1223, 'grad_norm': 8.359457969665527, 'learning_rate': 1.6923930632775517e-05, 'epoch': 1.28}\n",
            "{'loss': 1.0602, 'grad_norm': 4.319998741149902, 'learning_rate': 1.6594019225003043e-05, 'epoch': 1.35}\n",
            "{'loss': 1.0866, 'grad_norm': 5.423220634460449, 'learning_rate': 1.62508888286304e-05, 'epoch': 1.43}\n",
            "{'loss': 1.1437, 'grad_norm': 4.680651664733887, 'learning_rate': 1.589522731499118e-05, 'epoch': 1.5}\n",
            "{'loss': 1.0334, 'grad_norm': 24.961084365844727, 'learning_rate': 1.552774767647043e-05, 'epoch': 1.57}\n",
            "{'loss': 1.0829, 'grad_norm': 2.3156566619873047, 'learning_rate': 1.5149186597173348e-05, 'epoch': 1.64}\n",
            "{'loss': 1.0065, 'grad_norm': 17.852920532226562, 'learning_rate': 1.4760302976099305e-05, 'epoch': 1.71}\n",
            "{'loss': 0.9965, 'grad_norm': 9.817002296447754, 'learning_rate': 1.4361876405781835e-05, 'epoch': 1.78}\n",
            "{'loss': 1.004, 'grad_norm': 4.904285907745361, 'learning_rate': 1.3954705609444403e-05, 'epoch': 1.85}\n",
            "{'loss': 1.0039, 'grad_norm': 15.350953102111816, 'learning_rate': 1.3539606839805037e-05, 'epoch': 1.92}\n",
            "{'loss': 0.972, 'grad_norm': 20.10147476196289, 'learning_rate': 1.3117412242739655e-05, 'epoch': 2.0}\n"
          ]
        },
        {
          "data": {
            "application/vnd.jupyter.widget-view+json": {
              "model_id": "36cbce1c3a0d438a92dd4274da882fe1",
              "version_major": 2,
              "version_minor": 0
            },
            "text/plain": [
              "  0%|          | 0/860 [00:00<?, ?it/s]"
            ]
          },
          "metadata": {},
          "output_type": "display_data"
        },
        {
          "name": "stdout",
          "output_type": "stream",
          "text": [
            "{'eval_loss': 1.021186722708281, 'eval_accuracy_emotions': 0.6078, 'eval_accuracy_triggers': 0.8205, 'eval_u_avg_f1': 0.6088, 'eval_u_f1scores_emotions': 0.5456, 'eval_u_f1scores_triggers': 0.6721, 'eval_d_f1scores_emotions': 0.6031, 'eval_d_f1scores_triggers': 0.7813, 'eval_runtime': 752.0046, 'eval_samples_per_second': 4.57, 'eval_steps_per_second': 1.144, 'epoch': 2.0}\n",
            "{'loss': 0.8766, 'grad_norm': 5.208678722381592, 'learning_rate': 1.2688968189084494e-05, 'epoch': 2.07}\n",
            "{'loss': 0.8927, 'grad_norm': 4.651729583740234, 'learning_rate': 1.225513357792187e-05, 'epoch': 2.14}\n",
            "{'loss': 0.8764, 'grad_norm': 28.970102310180664, 'learning_rate': 1.1816778114750594e-05, 'epoch': 2.21}\n",
            "{'loss': 0.8502, 'grad_norm': 6.044000625610352, 'learning_rate': 1.13747805679929e-05, 'epoch': 2.28}\n",
            "{'loss': 0.875, 'grad_norm': 12.26456069946289, 'learning_rate': 1.0930027007332924e-05, 'epoch': 2.35}\n",
            "{'loss': 0.8709, 'grad_norm': 48.30747604370117, 'learning_rate': 1.0483409027418426e-05, 'epoch': 2.42}\n",
            "{'loss': 0.8064, 'grad_norm': 22.16484832763672, 'learning_rate': 1.0035821960486643e-05, 'epoch': 2.49}\n",
            "{'loss': 0.8352, 'grad_norm': 22.17677116394043, 'learning_rate': 9.588163081497427e-06, 'epoch': 2.57}\n",
            "{'loss': 0.8203, 'grad_norm': 5.44455623626709, 'learning_rate': 9.141329809371803e-06, 'epoch': 2.64}\n",
            "{'loss': 0.8143, 'grad_norm': 35.570594787597656, 'learning_rate': 8.696217907941941e-06, 'epoch': 2.71}\n",
            "{'loss': 0.8173, 'grad_norm': 18.7852783203125, 'learning_rate': 8.253719690219079e-06, 'epoch': 2.78}\n",
            "{'loss': 0.7459, 'grad_norm': 27.34844207763672, 'learning_rate': 7.814722229579263e-06, 'epoch': 2.85}\n",
            "{'loss': 0.8063, 'grad_norm': 5.922713279724121, 'learning_rate': 7.380105581452988e-06, 'epoch': 2.92}\n",
            "{'loss': 0.7804, 'grad_norm': 15.070128440856934, 'learning_rate': 6.9507410190836174e-06, 'epoch': 2.99}\n"
          ]
        },
        {
          "data": {
            "application/vnd.jupyter.widget-view+json": {
              "model_id": "572b038bbba0450e932f373ec37bf569",
              "version_major": 2,
              "version_minor": 0
            },
            "text/plain": [
              "  0%|          | 0/860 [00:00<?, ?it/s]"
            ]
          },
          "metadata": {},
          "output_type": "display_data"
        },
        {
          "name": "stdout",
          "output_type": "stream",
          "text": [
            "{'eval_loss': 0.8041666043396103, 'eval_accuracy_emotions': 0.7349, 'eval_accuracy_triggers': 0.8187, 'eval_u_avg_f1': 0.6946, 'eval_u_f1scores_emotions': 0.6871, 'eval_u_f1scores_triggers': 0.7022, 'eval_d_f1scores_emotions': 0.7177, 'eval_d_f1scores_triggers': 0.7828, 'eval_runtime': 694.691, 'eval_samples_per_second': 4.948, 'eval_steps_per_second': 1.238, 'epoch': 3.0}\n",
            "{'loss': 0.6828, 'grad_norm': 18.10382652282715, 'learning_rate': 6.527489286891458e-06, 'epoch': 3.06}\n",
            "{'loss': 0.7285, 'grad_norm': 9.364639282226562, 'learning_rate': 6.111198874944846e-06, 'epoch': 3.14}\n",
            "{'loss': 0.6343, 'grad_norm': 28.35895538330078, 'learning_rate': 5.702704317997491e-06, 'epoch': 3.21}\n",
            "{'loss': 0.6462, 'grad_norm': 8.710488319396973, 'learning_rate': 5.302824522501931e-06, 'epoch': 3.28}\n",
            "{'loss': 0.6763, 'grad_norm': 17.407514572143555, 'learning_rate': 4.912361124952949e-06, 'epoch': 3.35}\n",
            "{'loss': 0.6236, 'grad_norm': 37.24601745605469, 'learning_rate': 4.532096884851978e-06, 'epoch': 3.42}\n",
            "{'loss': 0.6455, 'grad_norm': 73.12812805175781, 'learning_rate': 4.162794115514078e-06, 'epoch': 3.49}\n",
            "{'loss': 0.6525, 'grad_norm': 46.18777847290039, 'learning_rate': 3.805193155863247e-06, 'epoch': 3.56}\n",
            "{'loss': 0.637, 'grad_norm': 95.77540588378906, 'learning_rate': 3.460010886279681e-06, 'epoch': 3.63}\n",
            "{'loss': 0.6229, 'grad_norm': 31.63456916809082, 'learning_rate': 3.1279392914742047e-06, 'epoch': 3.71}\n",
            "{'loss': 0.6267, 'grad_norm': 11.022844314575195, 'learning_rate': 2.8096440732709085e-06, 'epoch': 3.78}\n",
            "{'loss': 0.6249, 'grad_norm': 6.901886463165283, 'learning_rate': 2.5057633160789186e-06, 'epoch': 3.85}\n",
            "{'loss': 0.6079, 'grad_norm': 23.853445053100586, 'learning_rate': 2.2169062077286072e-06, 'epoch': 3.92}\n",
            "{'loss': 0.5806, 'grad_norm': 9.271303176879883, 'learning_rate': 1.943651818236616e-06, 'epoch': 3.99}\n"
          ]
        },
        {
          "data": {
            "application/vnd.jupyter.widget-view+json": {
              "model_id": "d61ca344868b4163858479724ae956f0",
              "version_major": 2,
              "version_minor": 0
            },
            "text/plain": [
              "  0%|          | 0/860 [00:00<?, ?it/s]"
            ]
          },
          "metadata": {},
          "output_type": "display_data"
        },
        {
          "name": "stdout",
          "output_type": "stream",
          "text": [
            "{'eval_loss': 0.7298704705726259, 'eval_accuracy_emotions': 0.8086, 'eval_accuracy_triggers': 0.8167, 'eval_u_avg_f1': 0.7381, 'eval_u_f1scores_emotions': 0.7775, 'eval_u_f1scores_triggers': 0.6987, 'eval_d_f1scores_emotions': 0.7987, 'eval_d_f1scores_triggers': 0.7743, 'eval_runtime': 688.6614, 'eval_samples_per_second': 4.991, 'eval_steps_per_second': 1.249, 'epoch': 4.0}\n",
            "{'loss': 0.5512, 'grad_norm': 8.321831703186035, 'learning_rate': 1.6865479389478545e-06, 'epoch': 4.06}\n",
            "{'loss': 0.565, 'grad_norm': 35.19001007080078, 'learning_rate': 1.4461099843816684e-06, 'epoch': 4.13}\n",
            "{'loss': 0.5447, 'grad_norm': 8.165038108825684, 'learning_rate': 1.2228199589835998e-06, 'epoch': 4.2}\n",
            "{'loss': 0.5972, 'grad_norm': 16.562562942504883, 'learning_rate': 1.0171254908541373e-06, 'epoch': 4.28}\n",
            "{'loss': 0.5549, 'grad_norm': 11.985882759094238, 'learning_rate': 8.294389343914899e-07, 'epoch': 4.35}\n",
            "{'loss': 0.5572, 'grad_norm': 10.403803825378418, 'learning_rate': 6.601365436473439e-07, 'epoch': 4.42}\n",
            "{'loss': 0.5587, 'grad_norm': 13.504671096801758, 'learning_rate': 5.095577180527378e-07, 'epoch': 4.49}\n",
            "{'loss': 0.5302, 'grad_norm': 50.72241973876953, 'learning_rate': 3.780043220261764e-07, 'epoch': 4.56}\n",
            "{'loss': 0.5845, 'grad_norm': 1.0793317556381226, 'learning_rate': 2.6574007982793857e-07, 'epoch': 4.63}\n",
            "{'loss': 0.5301, 'grad_norm': 25.253650665283203, 'learning_rate': 1.7299004687372666e-07, 'epoch': 4.7}\n",
            "{'loss': 0.5786, 'grad_norm': 16.837251663208008, 'learning_rate': 9.994015856749528e-08, 'epoch': 4.77}\n",
            "{'loss': 0.5326, 'grad_norm': 7.4649152755737305, 'learning_rate': 4.673685755792523e-08, 'epoch': 4.85}\n",
            "{'loss': 0.5505, 'grad_norm': 28.764806747436523, 'learning_rate': 1.3486800165773972e-08, 'epoch': 4.92}\n",
            "{'loss': 0.5414, 'grad_norm': 14.06982135772705, 'learning_rate': 2.5664257062185673e-10, 'epoch': 4.99}\n"
          ]
        },
        {
          "data": {
            "application/vnd.jupyter.widget-view+json": {
              "model_id": "107760703d68415ebb9f0d6a7a5dd632",
              "version_major": 2,
              "version_minor": 0
            },
            "text/plain": [
              "  0%|          | 0/860 [00:00<?, ?it/s]"
            ]
          },
          "metadata": {},
          "output_type": "display_data"
        },
        {
          "name": "stdout",
          "output_type": "stream",
          "text": [
            "{'eval_loss': 0.7408899538003193, 'eval_accuracy_emotions': 0.8179, 'eval_accuracy_triggers': 0.826, 'eval_u_avg_f1': 0.7428, 'eval_u_f1scores_emotions': 0.7958, 'eval_u_f1scores_triggers': 0.6899, 'eval_d_f1scores_emotions': 0.8085, 'eval_d_f1scores_triggers': 0.7841, 'eval_runtime': 688.7512, 'eval_samples_per_second': 4.99, 'eval_steps_per_second': 1.249, 'epoch': 5.0}\n",
            "{'train_runtime': 11447.3643, 'train_samples_per_second': 12.257, 'train_steps_per_second': 3.064, 'train_loss': 0.8841403148872958, 'epoch': 5.0}\n"
          ]
        }
      ],
      "source": [
        "# Training model with seed 666\n",
        "train_extr_model(666)"
      ]
    },
    {
      "cell_type": "markdown",
      "metadata": {},
      "source": [
        "<h3>Training extraction models with freezed backbone</h3>"
      ]
    },
    {
      "cell_type": "code",
      "execution_count": 40,
      "metadata": {},
      "outputs": [
        {
          "name": "stdout",
          "output_type": "stream",
          "text": [
            "Training EXTRACTION MODEL with seed 111:\n"
          ]
        },
        {
          "data": {
            "application/vnd.jupyter.widget-view+json": {
              "model_id": "b9036afb78fc4366bea4880fb388ffcf",
              "version_major": 2,
              "version_minor": 0
            },
            "text/plain": [
              "  0%|          | 0/35080 [00:00<?, ?it/s]"
            ]
          },
          "metadata": {},
          "output_type": "display_data"
        },
        {
          "name": "stderr",
          "output_type": "stream",
          "text": [
            "Could not estimate the number of tokens of the input, floating-point operations will not be computed\n"
          ]
        },
        {
          "name": "stdout",
          "output_type": "stream",
          "text": [
            "{'loss': 1.5492, 'grad_norm': 14.838455200195312, 'learning_rate': 1.9989976531650042e-05, 'epoch': 0.07}\n",
            "{'loss': 1.544, 'grad_norm': 8.234915733337402, 'learning_rate': 1.9959926220583713e-05, 'epoch': 0.14}\n",
            "{'loss': 1.4845, 'grad_norm': 4.067464351654053, 'learning_rate': 1.9909909308469398e-05, 'epoch': 0.21}\n",
            "{'loss': 1.4655, 'grad_norm': 16.11844825744629, 'learning_rate': 1.9840026063894193e-05, 'epoch': 0.29}\n",
            "{'loss': 1.4698, 'grad_norm': 3.956395149230957, 'learning_rate': 1.9750416581356147e-05, 'epoch': 0.36}\n",
            "{'loss': 1.4706, 'grad_norm': 1.650980830192566, 'learning_rate': 1.9641260500417672e-05, 'epoch': 0.43}\n",
            "{'loss': 1.5062, 'grad_norm': 3.4690792560577393, 'learning_rate': 1.9512776645583266e-05, 'epoch': 0.5}\n",
            "{'loss': 1.4207, 'grad_norm': 20.20341682434082, 'learning_rate': 1.9365222587623407e-05, 'epoch': 0.57}\n",
            "{'loss': 1.4485, 'grad_norm': 3.8825266361236572, 'learning_rate': 1.9198894127224075e-05, 'epoch': 0.64}\n",
            "{'loss': 1.451, 'grad_norm': 10.946393966674805, 'learning_rate': 1.9014124701996973e-05, 'epoch': 0.71}\n",
            "{'loss': 1.4647, 'grad_norm': 4.540071964263916, 'learning_rate': 1.881128471803926e-05, 'epoch': 0.78}\n",
            "{'loss': 1.4918, 'grad_norm': 3.1286280155181885, 'learning_rate': 1.859078080738279e-05, 'epoch': 0.86}\n",
            "{'loss': 1.3955, 'grad_norm': 4.033392906188965, 'learning_rate': 1.835305501282148e-05, 'epoch': 0.93}\n",
            "{'loss': 1.4294, 'grad_norm': 4.854104518890381, 'learning_rate': 1.809858390175087e-05, 'epoch': 1.0}\n",
            "{'loss': 1.4423, 'grad_norm': 2.0030605792999268, 'learning_rate': 1.7827877610796515e-05, 'epoch': 1.07}\n",
            "{'loss': 1.4379, 'grad_norm': 2.580645799636841, 'learning_rate': 1.7541478823146328e-05, 'epoch': 1.14}\n",
            "{'loss': 1.3848, 'grad_norm': 5.182637691497803, 'learning_rate': 1.7239961680637002e-05, 'epoch': 1.21}\n",
            "{'loss': 1.4243, 'grad_norm': 5.979974269866943, 'learning_rate': 1.6923930632775517e-05, 'epoch': 1.28}\n",
            "{'loss': 1.3649, 'grad_norm': 7.3425445556640625, 'learning_rate': 1.6594019225003043e-05, 'epoch': 1.35}\n",
            "{'loss': 1.3569, 'grad_norm': 2.222402334213257, 'learning_rate': 1.62508888286304e-05, 'epoch': 1.43}\n",
            "{'loss': 1.471, 'grad_norm': 2.0692803859710693, 'learning_rate': 1.589522731499118e-05, 'epoch': 1.5}\n",
            "{'loss': 1.3136, 'grad_norm': 9.658992767333984, 'learning_rate': 1.552774767647043e-05, 'epoch': 1.57}\n",
            "{'loss': 1.4186, 'grad_norm': 6.829138278961182, 'learning_rate': 1.5149186597173348e-05, 'epoch': 1.64}\n",
            "{'loss': 1.3305, 'grad_norm': 4.439594268798828, 'learning_rate': 1.4760302976099305e-05, 'epoch': 1.71}\n",
            "{'loss': 1.355, 'grad_norm': 3.278566360473633, 'learning_rate': 1.4361876405781835e-05, 'epoch': 1.78}\n",
            "{'loss': 1.3614, 'grad_norm': 4.170882225036621, 'learning_rate': 1.3954705609444403e-05, 'epoch': 1.85}\n",
            "{'loss': 1.3854, 'grad_norm': 3.3382070064544678, 'learning_rate': 1.3539606839805037e-05, 'epoch': 1.92}\n",
            "{'loss': 1.352, 'grad_norm': 5.704845428466797, 'learning_rate': 1.3117412242739655e-05, 'epoch': 2.0}\n",
            "{'loss': 1.357, 'grad_norm': 4.539325714111328, 'learning_rate': 1.2688968189084494e-05, 'epoch': 2.07}\n",
            "{'loss': 1.3637, 'grad_norm': 7.703869342803955, 'learning_rate': 1.225513357792187e-05, 'epoch': 2.14}\n",
            "{'loss': 1.3335, 'grad_norm': 8.158239364624023, 'learning_rate': 1.1816778114750594e-05, 'epoch': 2.21}\n",
            "{'loss': 1.3162, 'grad_norm': 2.9816741943359375, 'learning_rate': 1.13747805679929e-05, 'epoch': 2.28}\n",
            "{'loss': 1.3728, 'grad_norm': 5.498876571655273, 'learning_rate': 1.0930027007332924e-05, 'epoch': 2.35}\n",
            "{'loss': 1.3424, 'grad_norm': 11.450515747070312, 'learning_rate': 1.0483409027418426e-05, 'epoch': 2.42}\n",
            "{'loss': 1.3077, 'grad_norm': 2.0929811000823975, 'learning_rate': 1.0035821960486643e-05, 'epoch': 2.49}\n",
            "{'loss': 1.323, 'grad_norm': 7.4099931716918945, 'learning_rate': 9.588163081497427e-06, 'epoch': 2.57}\n",
            "{'loss': 1.3336, 'grad_norm': 4.4497785568237305, 'learning_rate': 9.141329809371803e-06, 'epoch': 2.64}\n",
            "{'loss': 1.3711, 'grad_norm': 22.665298461914062, 'learning_rate': 8.696217907941941e-06, 'epoch': 2.71}\n",
            "{'loss': 1.3031, 'grad_norm': 3.6582961082458496, 'learning_rate': 8.253719690219079e-06, 'epoch': 2.78}\n",
            "{'loss': 1.2981, 'grad_norm': 12.039227485656738, 'learning_rate': 7.814722229579263e-06, 'epoch': 2.85}\n",
            "{'loss': 1.4048, 'grad_norm': 3.8396456241607666, 'learning_rate': 7.380105581452988e-06, 'epoch': 2.92}\n",
            "{'loss': 1.3294, 'grad_norm': 6.123582363128662, 'learning_rate': 6.9507410190836174e-06, 'epoch': 2.99}\n",
            "{'loss': 1.2908, 'grad_norm': 3.113597869873047, 'learning_rate': 6.527489286891458e-06, 'epoch': 3.06}\n",
            "{'loss': 1.3308, 'grad_norm': 2.4183030128479004, 'learning_rate': 6.111198874944846e-06, 'epoch': 3.14}\n",
            "{'loss': 1.311, 'grad_norm': 4.981258392333984, 'learning_rate': 5.702704317997491e-06, 'epoch': 3.21}\n",
            "{'loss': 1.2941, 'grad_norm': 2.7442574501037598, 'learning_rate': 5.302824522501931e-06, 'epoch': 3.28}\n",
            "{'loss': 1.3176, 'grad_norm': 20.18598747253418, 'learning_rate': 4.912361124952949e-06, 'epoch': 3.35}\n",
            "{'loss': 1.3002, 'grad_norm': 12.308127403259277, 'learning_rate': 4.532096884851978e-06, 'epoch': 3.42}\n",
            "{'loss': 1.2718, 'grad_norm': 11.573726654052734, 'learning_rate': 4.162794115514078e-06, 'epoch': 3.49}\n",
            "{'loss': 1.2962, 'grad_norm': 10.915327072143555, 'learning_rate': 3.805193155863247e-06, 'epoch': 3.56}\n",
            "{'loss': 1.2798, 'grad_norm': 13.265582084655762, 'learning_rate': 3.460010886279681e-06, 'epoch': 3.63}\n",
            "{'loss': 1.3025, 'grad_norm': 8.926401138305664, 'learning_rate': 3.1279392914742047e-06, 'epoch': 3.71}\n",
            "{'loss': 1.3142, 'grad_norm': 4.313704967498779, 'learning_rate': 2.8096440732709085e-06, 'epoch': 3.78}\n",
            "{'loss': 1.351, 'grad_norm': 2.4350743293762207, 'learning_rate': 2.5057633160789186e-06, 'epoch': 3.85}\n",
            "{'loss': 1.2948, 'grad_norm': 9.487919807434082, 'learning_rate': 2.2169062077286072e-06, 'epoch': 3.92}\n",
            "{'loss': 1.2894, 'grad_norm': 5.307805061340332, 'learning_rate': 1.943651818236616e-06, 'epoch': 3.99}\n",
            "{'loss': 1.2822, 'grad_norm': 2.306335210800171, 'learning_rate': 1.6865479389478545e-06, 'epoch': 4.06}\n",
            "{'loss': 1.2852, 'grad_norm': 7.596158504486084, 'learning_rate': 1.4461099843816684e-06, 'epoch': 4.13}\n",
            "{'loss': 1.2487, 'grad_norm': 71.869873046875, 'learning_rate': 1.2228199589835998e-06, 'epoch': 4.2}\n",
            "{'loss': 1.2661, 'grad_norm': 11.721434593200684, 'learning_rate': 1.0171254908541373e-06, 'epoch': 4.28}\n",
            "{'loss': 1.3094, 'grad_norm': 1.9243899583816528, 'learning_rate': 8.294389343914899e-07, 'epoch': 4.35}\n",
            "{'loss': 1.3226, 'grad_norm': 2.8700766563415527, 'learning_rate': 6.601365436473439e-07, 'epoch': 4.42}\n",
            "{'loss': 1.2823, 'grad_norm': 4.29768705368042, 'learning_rate': 5.095577180527378e-07, 'epoch': 4.49}\n",
            "{'loss': 1.2792, 'grad_norm': 11.224781036376953, 'learning_rate': 3.780043220261764e-07, 'epoch': 4.56}\n",
            "{'loss': 1.2811, 'grad_norm': 1.5293749570846558, 'learning_rate': 2.6574007982793857e-07, 'epoch': 4.63}\n",
            "{'loss': 1.2868, 'grad_norm': 12.005107879638672, 'learning_rate': 1.7299004687372666e-07, 'epoch': 4.7}\n",
            "{'loss': 1.3071, 'grad_norm': 5.6632537841796875, 'learning_rate': 9.994015856749528e-08, 'epoch': 4.77}\n",
            "{'loss': 1.2368, 'grad_norm': 4.750190258026123, 'learning_rate': 4.673685755792523e-08, 'epoch': 4.85}\n",
            "{'loss': 1.2305, 'grad_norm': 5.839746475219727, 'learning_rate': 1.3486800165773972e-08, 'epoch': 4.92}\n",
            "{'loss': 1.2518, 'grad_norm': 5.868353843688965, 'learning_rate': 2.5664257062185673e-10, 'epoch': 4.99}\n",
            "{'train_runtime': 7755.6553, 'train_samples_per_second': 18.091, 'train_steps_per_second': 4.523, 'train_loss': 1.3549637419331984, 'epoch': 5.0}\n"
          ]
        }
      ],
      "source": [
        "train_extr_model(111, freeze=True)"
      ]
    },
    {
      "cell_type": "code",
      "execution_count": 28,
      "metadata": {},
      "outputs": [
        {
          "name": "stderr",
          "output_type": "stream",
          "text": [
            "c:\\Users\\marco\\anaconda3\\lib\\site-packages\\datasets\\table.py:1395: FutureWarning: promote has been superseded by mode='default'.\n",
            "  block_group = [InMemoryTable(cls._concat_blocks(list(block_group), axis=axis))]\n",
            "c:\\Users\\marco\\anaconda3\\lib\\site-packages\\datasets\\table.py:1421: FutureWarning: promote has been superseded by mode='default'.\n",
            "  table = cls._concat_blocks(blocks, axis=0)\n"
          ]
        },
        {
          "name": "stdout",
          "output_type": "stream",
          "text": [
            "Training EXTRACTION MODEL with seed 49:\n"
          ]
        },
        {
          "data": {
            "application/vnd.jupyter.widget-view+json": {
              "model_id": "c75c4216e18c47a49c125ef17c700495",
              "version_major": 2,
              "version_minor": 0
            },
            "text/plain": [
              "  0%|          | 0/35080 [00:00<?, ?it/s]"
            ]
          },
          "metadata": {},
          "output_type": "display_data"
        },
        {
          "name": "stderr",
          "output_type": "stream",
          "text": [
            "Could not estimate the number of tokens of the input, floating-point operations will not be computed\n"
          ]
        },
        {
          "name": "stdout",
          "output_type": "stream",
          "text": [
            "{'loss': 1.5657, 'grad_norm': 18.450267791748047, 'learning_rate': 1.9989976531650042e-05, 'epoch': 0.07}\n",
            "{'loss': 1.5325, 'grad_norm': 8.232815742492676, 'learning_rate': 1.9959926220583713e-05, 'epoch': 0.14}\n",
            "{'loss': 1.438, 'grad_norm': 4.269628524780273, 'learning_rate': 1.9909909308469398e-05, 'epoch': 0.21}\n",
            "{'loss': 1.4167, 'grad_norm': 18.718040466308594, 'learning_rate': 1.9840026063894193e-05, 'epoch': 0.29}\n",
            "{'loss': 1.4185, 'grad_norm': 3.6587908267974854, 'learning_rate': 1.9750416581356147e-05, 'epoch': 0.36}\n",
            "{'loss': 1.3759, 'grad_norm': 1.833230972290039, 'learning_rate': 1.9641260500417672e-05, 'epoch': 0.43}\n",
            "{'loss': 1.4057, 'grad_norm': 5.99094820022583, 'learning_rate': 1.9512776645583266e-05, 'epoch': 0.5}\n",
            "{'loss': 1.3232, 'grad_norm': 14.736427307128906, 'learning_rate': 1.9365222587623407e-05, 'epoch': 0.57}\n",
            "{'loss': 1.3569, 'grad_norm': 4.150155067443848, 'learning_rate': 1.9198894127224075e-05, 'epoch': 0.64}\n",
            "{'loss': 1.3827, 'grad_norm': 3.766526460647583, 'learning_rate': 1.9014124701996973e-05, 'epoch': 0.71}\n",
            "{'loss': 1.3378, 'grad_norm': 4.141134262084961, 'learning_rate': 1.881128471803926e-05, 'epoch': 0.78}\n",
            "{'loss': 1.39, 'grad_norm': 2.5842843055725098, 'learning_rate': 1.859078080738279e-05, 'epoch': 0.86}\n",
            "{'loss': 1.301, 'grad_norm': 4.272189617156982, 'learning_rate': 1.835305501282148e-05, 'epoch': 0.93}\n",
            "{'loss': 1.3334, 'grad_norm': 9.729001998901367, 'learning_rate': 1.809858390175087e-05, 'epoch': 1.0}\n"
          ]
        },
        {
          "data": {
            "application/vnd.jupyter.widget-view+json": {
              "model_id": "6af9d12ee47643c797d4bb8e361f7633",
              "version_major": 2,
              "version_minor": 0
            },
            "text/plain": [
              "  0%|          | 0/860 [00:00<?, ?it/s]"
            ]
          },
          "metadata": {},
          "output_type": "display_data"
        },
        {
          "name": "stdout",
          "output_type": "stream",
          "text": [
            "{'eval_loss': 1.3307310922425764, 'eval_accuracy_emotions': 0.4632, 'eval_accuracy_triggers': 0.8097, 'eval_u_avg_f1': 0.464, 'eval_u_f1scores_emotions': 0.2542, 'eval_u_f1scores_triggers': 0.6737, 'eval_d_f1scores_emotions': 0.4686, 'eval_d_f1scores_triggers': 0.7803, 'eval_runtime': 695.3389, 'eval_samples_per_second': 4.943, 'eval_steps_per_second': 1.237, 'epoch': 1.0}\n",
            "{'loss': 1.37, 'grad_norm': 3.8645308017730713, 'learning_rate': 1.7827877610796515e-05, 'epoch': 1.07}\n",
            "{'loss': 1.3388, 'grad_norm': 4.691288471221924, 'learning_rate': 1.7541478823146328e-05, 'epoch': 1.14}\n",
            "{'loss': 1.3287, 'grad_norm': 5.7727742195129395, 'learning_rate': 1.7239961680637002e-05, 'epoch': 1.21}\n",
            "{'loss': 1.3407, 'grad_norm': 5.435129642486572, 'learning_rate': 1.6923930632775517e-05, 'epoch': 1.28}\n",
            "{'loss': 1.2788, 'grad_norm': 4.938207626342773, 'learning_rate': 1.6594019225003043e-05, 'epoch': 1.35}\n",
            "{'loss': 1.2762, 'grad_norm': 2.8198869228363037, 'learning_rate': 1.62508888286304e-05, 'epoch': 1.43}\n",
            "{'loss': 1.3738, 'grad_norm': 2.8222951889038086, 'learning_rate': 1.589522731499118e-05, 'epoch': 1.5}\n",
            "{'loss': 1.2497, 'grad_norm': 18.57208251953125, 'learning_rate': 1.552774767647043e-05, 'epoch': 1.57}\n",
            "{'loss': 1.3512, 'grad_norm': 10.98707389831543, 'learning_rate': 1.5149186597173348e-05, 'epoch': 1.64}\n",
            "{'loss': 1.2366, 'grad_norm': 6.470167636871338, 'learning_rate': 1.4760302976099305e-05, 'epoch': 1.71}\n",
            "{'loss': 1.2556, 'grad_norm': 3.79469895362854, 'learning_rate': 1.4361876405781835e-05, 'epoch': 1.78}\n",
            "{'loss': 1.2652, 'grad_norm': 4.225520610809326, 'learning_rate': 1.3954705609444403e-05, 'epoch': 1.85}\n",
            "{'loss': 1.2974, 'grad_norm': 5.265694618225098, 'learning_rate': 1.3539606839805037e-05, 'epoch': 1.92}\n",
            "{'loss': 1.2555, 'grad_norm': 7.987071990966797, 'learning_rate': 1.3117412242739655e-05, 'epoch': 2.0}\n"
          ]
        },
        {
          "data": {
            "application/vnd.jupyter.widget-view+json": {
              "model_id": "fbdd893b225c443e9ad992014ba75163",
              "version_major": 2,
              "version_minor": 0
            },
            "text/plain": [
              "  0%|          | 0/860 [00:00<?, ?it/s]"
            ]
          },
          "metadata": {},
          "output_type": "display_data"
        },
        {
          "name": "stdout",
          "output_type": "stream",
          "text": [
            "{'eval_loss': 1.2950144946514448, 'eval_accuracy_emotions': 0.4318, 'eval_accuracy_triggers': 0.8106, 'eval_u_avg_f1': 0.4824, 'eval_u_f1scores_emotions': 0.2907, 'eval_u_f1scores_triggers': 0.6742, 'eval_d_f1scores_emotions': 0.4395, 'eval_d_f1scores_triggers': 0.7808, 'eval_runtime': 693.7708, 'eval_samples_per_second': 4.954, 'eval_steps_per_second': 1.24, 'epoch': 2.0}\n",
            "{'loss': 1.2389, 'grad_norm': 2.874058723449707, 'learning_rate': 1.2688968189084494e-05, 'epoch': 2.07}\n",
            "{'loss': 1.2135, 'grad_norm': 5.245074272155762, 'learning_rate': 1.225513357792187e-05, 'epoch': 2.14}\n",
            "{'loss': 1.1965, 'grad_norm': 9.157520294189453, 'learning_rate': 1.1816778114750594e-05, 'epoch': 2.21}\n",
            "{'loss': 1.2009, 'grad_norm': 3.38816237449646, 'learning_rate': 1.13747805679929e-05, 'epoch': 2.28}\n",
            "{'loss': 1.2678, 'grad_norm': 3.774139165878296, 'learning_rate': 1.0930027007332924e-05, 'epoch': 2.35}\n",
            "{'loss': 1.2131, 'grad_norm': 10.332027435302734, 'learning_rate': 1.0483409027418426e-05, 'epoch': 2.42}\n",
            "{'loss': 1.177, 'grad_norm': 2.5150351524353027, 'learning_rate': 1.0035821960486643e-05, 'epoch': 2.49}\n",
            "{'loss': 1.1673, 'grad_norm': 6.99776029586792, 'learning_rate': 9.588163081497427e-06, 'epoch': 2.57}\n",
            "{'loss': 1.1991, 'grad_norm': 3.5791258811950684, 'learning_rate': 9.141329809371803e-06, 'epoch': 2.64}\n",
            "{'loss': 1.2059, 'grad_norm': 16.46786880493164, 'learning_rate': 8.696217907941941e-06, 'epoch': 2.71}\n",
            "{'loss': 1.1557, 'grad_norm': 4.894476890563965, 'learning_rate': 8.253719690219079e-06, 'epoch': 2.78}\n",
            "{'loss': 1.1483, 'grad_norm': 9.580620765686035, 'learning_rate': 7.814722229579263e-06, 'epoch': 2.85}\n",
            "{'loss': 1.2178, 'grad_norm': 3.452359676361084, 'learning_rate': 7.380105581452988e-06, 'epoch': 2.92}\n",
            "{'loss': 1.1481, 'grad_norm': 6.664706230163574, 'learning_rate': 6.9507410190836174e-06, 'epoch': 2.99}\n"
          ]
        },
        {
          "data": {
            "application/vnd.jupyter.widget-view+json": {
              "model_id": "f66a3390d5204a68b204ab3c34662a61",
              "version_major": 2,
              "version_minor": 0
            },
            "text/plain": [
              "  0%|          | 0/860 [00:00<?, ?it/s]"
            ]
          },
          "metadata": {},
          "output_type": "display_data"
        },
        {
          "name": "stdout",
          "output_type": "stream",
          "text": [
            "{'eval_loss': 1.131265260927371, 'eval_accuracy_emotions': 0.5176, 'eval_accuracy_triggers': 0.8068, 'eval_u_avg_f1': 0.5592, 'eval_u_f1scores_emotions': 0.4224, 'eval_u_f1scores_triggers': 0.696, 'eval_d_f1scores_emotions': 0.5094, 'eval_d_f1scores_triggers': 0.7692, 'eval_runtime': 691.4669, 'eval_samples_per_second': 4.971, 'eval_steps_per_second': 1.244, 'epoch': 3.0}\n",
            "{'loss': 1.0696, 'grad_norm': 3.784980535507202, 'learning_rate': 6.527489286891458e-06, 'epoch': 3.06}\n",
            "{'loss': 1.1256, 'grad_norm': 4.3140130043029785, 'learning_rate': 6.111198874944846e-06, 'epoch': 3.14}\n",
            "{'loss': 1.0558, 'grad_norm': 14.105894088745117, 'learning_rate': 5.702704317997491e-06, 'epoch': 3.21}\n",
            "{'loss': 1.0725, 'grad_norm': 4.124650478363037, 'learning_rate': 5.302824522501931e-06, 'epoch': 3.28}\n",
            "{'loss': 1.0982, 'grad_norm': 23.1065731048584, 'learning_rate': 4.912361124952949e-06, 'epoch': 3.35}\n",
            "{'loss': 1.0105, 'grad_norm': 18.930145263671875, 'learning_rate': 4.532096884851978e-06, 'epoch': 3.42}\n",
            "{'loss': 1.0297, 'grad_norm': 25.064983367919922, 'learning_rate': 4.162794115514078e-06, 'epoch': 3.49}\n",
            "{'loss': 1.0366, 'grad_norm': 14.292471885681152, 'learning_rate': 3.805193155863247e-06, 'epoch': 3.56}\n",
            "{'loss': 0.9939, 'grad_norm': 31.583555221557617, 'learning_rate': 3.460010886279681e-06, 'epoch': 3.63}\n",
            "{'loss': 1.026, 'grad_norm': 9.295305252075195, 'learning_rate': 3.1279392914742047e-06, 'epoch': 3.71}\n",
            "{'loss': 1.035, 'grad_norm': 8.047000885009766, 'learning_rate': 2.8096440732709085e-06, 'epoch': 3.78}\n",
            "{'loss': 1.0458, 'grad_norm': 2.621889114379883, 'learning_rate': 2.5057633160789186e-06, 'epoch': 3.85}\n",
            "{'loss': 1.0198, 'grad_norm': 11.36110782623291, 'learning_rate': 2.2169062077286072e-06, 'epoch': 3.92}\n",
            "{'loss': 0.9737, 'grad_norm': 4.311038017272949, 'learning_rate': 1.943651818236616e-06, 'epoch': 3.99}\n"
          ]
        },
        {
          "data": {
            "application/vnd.jupyter.widget-view+json": {
              "model_id": "ede76d4726564b8da406c75b3010924f",
              "version_major": 2,
              "version_minor": 0
            },
            "text/plain": [
              "  0%|          | 0/860 [00:00<?, ?it/s]"
            ]
          },
          "metadata": {},
          "output_type": "display_data"
        },
        {
          "name": "stdout",
          "output_type": "stream",
          "text": [
            "{'eval_loss': 1.0803717321204604, 'eval_accuracy_emotions': 0.5831, 'eval_accuracy_triggers': 0.8088, 'eval_u_avg_f1': 0.6044, 'eval_u_f1scores_emotions': 0.5081, 'eval_u_f1scores_triggers': 0.7007, 'eval_d_f1scores_emotions': 0.5792, 'eval_d_f1scores_triggers': 0.7693, 'eval_runtime': 691.1113, 'eval_samples_per_second': 4.973, 'eval_steps_per_second': 1.244, 'epoch': 4.0}\n",
            "{'loss': 0.9337, 'grad_norm': 4.730769157409668, 'learning_rate': 1.6865479389478545e-06, 'epoch': 4.06}\n",
            "{'loss': 0.9525, 'grad_norm': 31.361745834350586, 'learning_rate': 1.4461099843816684e-06, 'epoch': 4.13}\n",
            "{'loss': 0.9274, 'grad_norm': 8.364360809326172, 'learning_rate': 1.2228199589835998e-06, 'epoch': 4.2}\n",
            "{'loss': 0.9796, 'grad_norm': 7.988509178161621, 'learning_rate': 1.0171254908541373e-06, 'epoch': 4.28}\n",
            "{'loss': 0.9704, 'grad_norm': 2.249042510986328, 'learning_rate': 8.294389343914899e-07, 'epoch': 4.35}\n",
            "{'loss': 0.9693, 'grad_norm': 6.633907794952393, 'learning_rate': 6.601365436473439e-07, 'epoch': 4.42}\n",
            "{'loss': 0.9428, 'grad_norm': 16.26006507873535, 'learning_rate': 5.095577180527378e-07, 'epoch': 4.49}\n",
            "{'loss': 0.9253, 'grad_norm': 10.946760177612305, 'learning_rate': 3.780043220261764e-07, 'epoch': 4.56}\n",
            "{'loss': 0.9737, 'grad_norm': 1.9709194898605347, 'learning_rate': 2.6574007982793857e-07, 'epoch': 4.63}\n",
            "{'loss': 0.9162, 'grad_norm': 42.29143142700195, 'learning_rate': 1.7299004687372666e-07, 'epoch': 4.7}\n",
            "{'loss': 0.9767, 'grad_norm': 5.2933807373046875, 'learning_rate': 9.994015856749528e-08, 'epoch': 4.77}\n",
            "{'loss': 0.8841, 'grad_norm': 12.772083282470703, 'learning_rate': 4.673685755792523e-08, 'epoch': 4.85}\n",
            "{'loss': 0.9019, 'grad_norm': 13.303361892700195, 'learning_rate': 1.3486800165773972e-08, 'epoch': 4.92}\n",
            "{'loss': 0.8922, 'grad_norm': 9.588769912719727, 'learning_rate': 2.5664257062185673e-10, 'epoch': 4.99}\n"
          ]
        },
        {
          "data": {
            "application/vnd.jupyter.widget-view+json": {
              "model_id": "2be81640fcd845c4a466959282704e66",
              "version_major": 2,
              "version_minor": 0
            },
            "text/plain": [
              "  0%|          | 0/860 [00:00<?, ?it/s]"
            ]
          },
          "metadata": {},
          "output_type": "display_data"
        },
        {
          "name": "stdout",
          "output_type": "stream",
          "text": [
            "{'eval_loss': 1.0383558622910898, 'eval_accuracy_emotions': 0.6095, 'eval_accuracy_triggers': 0.8103, 'eval_u_avg_f1': 0.6171, 'eval_u_f1scores_emotions': 0.537, 'eval_u_f1scores_triggers': 0.6971, 'eval_d_f1scores_emotions': 0.6031, 'eval_d_f1scores_triggers': 0.7722, 'eval_runtime': 691.189, 'eval_samples_per_second': 4.973, 'eval_steps_per_second': 1.244, 'epoch': 5.0}\n",
            "{'train_runtime': 11093.1524, 'train_samples_per_second': 12.648, 'train_steps_per_second': 3.162, 'train_loss': 1.1749329531070445, 'epoch': 5.0}\n"
          ]
        }
      ],
      "source": [
        "train_extr_model(49, freeze=True)"
      ]
    },
    {
      "cell_type": "code",
      "execution_count": 12,
      "metadata": {},
      "outputs": [
        {
          "name": "stderr",
          "output_type": "stream",
          "text": [
            "c:\\Users\\marco\\anaconda3\\lib\\site-packages\\datasets\\table.py:1395: FutureWarning: promote has been superseded by mode='default'.\n",
            "  block_group = [InMemoryTable(cls._concat_blocks(list(block_group), axis=axis))]\n",
            "c:\\Users\\marco\\anaconda3\\lib\\site-packages\\datasets\\table.py:1421: FutureWarning: promote has been superseded by mode='default'.\n",
            "  table = cls._concat_blocks(blocks, axis=0)\n",
            "c:\\Users\\marco\\anaconda3\\lib\\site-packages\\accelerate\\accelerator.py:436: FutureWarning: Passing the following arguments to `Accelerator` is deprecated and will be removed in version 1.0 of Accelerate: dict_keys(['dispatch_batches', 'split_batches']). Please pass an `accelerate.DataLoaderConfiguration` instead: \n",
            "dataloader_config = DataLoaderConfiguration(dispatch_batches=None, split_batches=False)\n",
            "  warnings.warn(\n"
          ]
        },
        {
          "name": "stdout",
          "output_type": "stream",
          "text": [
            "Training EXTRACTION MODEL with seed 666:\n"
          ]
        },
        {
          "data": {
            "application/vnd.jupyter.widget-view+json": {
              "model_id": "90048db258654f2d847f215446553421",
              "version_major": 2,
              "version_minor": 0
            },
            "text/plain": [
              "  0%|          | 0/35080 [00:00<?, ?it/s]"
            ]
          },
          "metadata": {},
          "output_type": "display_data"
        },
        {
          "name": "stderr",
          "output_type": "stream",
          "text": [
            "Could not estimate the number of tokens of the input, floating-point operations will not be computed\n"
          ]
        },
        {
          "name": "stdout",
          "output_type": "stream",
          "text": [
            "{'loss': 1.5479, 'learning_rate': 1.9989976531650042e-05, 'epoch': 0.07}\n",
            "{'loss': 1.4065, 'learning_rate': 1.9959926220583713e-05, 'epoch': 0.14}\n",
            "{'loss': 1.3931, 'learning_rate': 1.9909909308469398e-05, 'epoch': 0.21}\n",
            "{'loss': 1.4099, 'learning_rate': 1.9840026063894193e-05, 'epoch': 0.29}\n",
            "{'loss': 1.4088, 'learning_rate': 1.9750416581356147e-05, 'epoch': 0.36}\n",
            "{'loss': 1.3489, 'learning_rate': 1.9641260500417672e-05, 'epoch': 0.43}\n",
            "{'loss': 1.3816, 'learning_rate': 1.9512776645583266e-05, 'epoch': 0.5}\n",
            "{'loss': 1.3572, 'learning_rate': 1.9365222587623407e-05, 'epoch': 0.57}\n",
            "{'loss': 1.3988, 'learning_rate': 1.9198894127224075e-05, 'epoch': 0.64}\n",
            "{'loss': 1.316, 'learning_rate': 1.9014124701996973e-05, 'epoch': 0.71}\n",
            "{'loss': 1.3422, 'learning_rate': 1.881128471803926e-05, 'epoch': 0.78}\n",
            "{'loss': 1.3678, 'learning_rate': 1.859078080738279e-05, 'epoch': 0.86}\n",
            "{'loss': 1.2946, 'learning_rate': 1.835305501282148e-05, 'epoch': 0.93}\n",
            "{'loss': 1.3082, 'learning_rate': 1.809858390175087e-05, 'epoch': 1.0}\n"
          ]
        },
        {
          "data": {
            "application/vnd.jupyter.widget-view+json": {
              "model_id": "3c8e3529f9684a7daeb61c8abe919dda",
              "version_major": 2,
              "version_minor": 0
            },
            "text/plain": [
              "  0%|          | 0/860 [00:00<?, ?it/s]"
            ]
          },
          "metadata": {},
          "output_type": "display_data"
        },
        {
          "name": "stdout",
          "output_type": "stream",
          "text": [
            "{'eval_loss': 1.362312016397055, 'eval_accuracy_emotions': 0.3532, 'eval_accuracy_triggers': 0.8298, 'eval_u_avg_f1': 0.4412, 'eval_u_f1scores_emotions': 0.254, 'eval_u_f1scores_triggers': 0.6285, 'eval_d_f1scores_emotions': 0.3555, 'eval_d_f1scores_triggers': 0.7939, 'eval_runtime': 689.2708, 'eval_samples_per_second': 4.986, 'eval_steps_per_second': 1.248, 'epoch': 1.0}\n",
            "{'loss': 1.3256, 'learning_rate': 1.7827877610796515e-05, 'epoch': 1.07}\n",
            "{'loss': 1.3324, 'learning_rate': 1.7541478823146328e-05, 'epoch': 1.14}\n",
            "{'loss': 1.3169, 'learning_rate': 1.7239961680637002e-05, 'epoch': 1.21}\n",
            "{'loss': 1.2559, 'learning_rate': 1.6923930632775517e-05, 'epoch': 1.28}\n",
            "{'loss': 1.2552, 'learning_rate': 1.6594019225003043e-05, 'epoch': 1.35}\n",
            "{'loss': 1.2641, 'learning_rate': 1.62508888286304e-05, 'epoch': 1.43}\n",
            "{'loss': 1.2793, 'learning_rate': 1.589522731499118e-05, 'epoch': 1.5}\n",
            "{'loss': 1.2835, 'learning_rate': 1.552774767647043e-05, 'epoch': 1.57}\n",
            "{'loss': 1.2434, 'learning_rate': 1.5149186597173348e-05, 'epoch': 1.64}\n",
            "{'loss': 1.2232, 'learning_rate': 1.4760302976099305e-05, 'epoch': 1.71}\n",
            "{'loss': 1.2311, 'learning_rate': 1.4361876405781835e-05, 'epoch': 1.78}\n",
            "{'loss': 1.252, 'learning_rate': 1.3954705609444403e-05, 'epoch': 1.85}\n",
            "{'loss': 1.2617, 'learning_rate': 1.3539606839805037e-05, 'epoch': 1.92}\n",
            "{'loss': 1.261, 'learning_rate': 1.3117412242739655e-05, 'epoch': 2.0}\n"
          ]
        },
        {
          "data": {
            "application/vnd.jupyter.widget-view+json": {
              "model_id": "5e47c79a3fb142e88eae5bd085d3d82d",
              "version_major": 2,
              "version_minor": 0
            },
            "text/plain": [
              "  0%|          | 0/860 [00:00<?, ?it/s]"
            ]
          },
          "metadata": {},
          "output_type": "display_data"
        },
        {
          "name": "stdout",
          "output_type": "stream",
          "text": [
            "{'eval_loss': 1.1866681726778947, 'eval_accuracy_emotions': 0.4571, 'eval_accuracy_triggers': 0.7984, 'eval_u_avg_f1': 0.5263, 'eval_u_f1scores_emotions': 0.3676, 'eval_u_f1scores_triggers': 0.685, 'eval_d_f1scores_emotions': 0.4526, 'eval_d_f1scores_triggers': 0.7627, 'eval_runtime': 690.6115, 'eval_samples_per_second': 4.977, 'eval_steps_per_second': 1.245, 'epoch': 2.0}\n",
            "{'loss': 1.1485, 'learning_rate': 1.2688968189084494e-05, 'epoch': 2.07}\n",
            "{'loss': 1.1685, 'learning_rate': 1.225513357792187e-05, 'epoch': 2.14}\n",
            "{'loss': 1.1214, 'learning_rate': 1.1816778114750594e-05, 'epoch': 2.21}\n",
            "{'loss': 1.1424, 'learning_rate': 1.13747805679929e-05, 'epoch': 2.28}\n",
            "{'loss': 1.1234, 'learning_rate': 1.0930027007332924e-05, 'epoch': 2.35}\n",
            "{'loss': 1.0758, 'learning_rate': 1.0483409027418426e-05, 'epoch': 2.42}\n",
            "{'loss': 1.1101, 'learning_rate': 1.0035821960486643e-05, 'epoch': 2.49}\n",
            "{'loss': 1.0635, 'learning_rate': 9.588163081497427e-06, 'epoch': 2.57}\n",
            "{'loss': 1.087, 'learning_rate': 9.141329809371803e-06, 'epoch': 2.64}\n",
            "{'loss': 1.0557, 'learning_rate': 8.696217907941941e-06, 'epoch': 2.71}\n",
            "{'loss': 1.0889, 'learning_rate': 8.253719690219079e-06, 'epoch': 2.78}\n",
            "{'loss': 0.9962, 'learning_rate': 7.814722229579263e-06, 'epoch': 2.85}\n",
            "{'loss': 1.032, 'learning_rate': 7.380105581452988e-06, 'epoch': 2.92}\n",
            "{'loss': 1.0406, 'learning_rate': 6.9507410190836174e-06, 'epoch': 2.99}\n"
          ]
        },
        {
          "data": {
            "application/vnd.jupyter.widget-view+json": {
              "model_id": "c51c6196b475431f8e79d4d5865cc217",
              "version_major": 2,
              "version_minor": 0
            },
            "text/plain": [
              "  0%|          | 0/860 [00:00<?, ?it/s]"
            ]
          },
          "metadata": {},
          "output_type": "display_data"
        },
        {
          "name": "stdout",
          "output_type": "stream",
          "text": [
            "{'eval_loss': 1.0282259326742489, 'eval_accuracy_emotions': 0.5854, 'eval_accuracy_triggers': 0.7899, 'eval_u_avg_f1': 0.5916, 'eval_u_f1scores_emotions': 0.4919, 'eval_u_f1scores_triggers': 0.6913, 'eval_d_f1scores_emotions': 0.5757, 'eval_d_f1scores_triggers': 0.745, 'eval_runtime': 692.7899, 'eval_samples_per_second': 4.961, 'eval_steps_per_second': 1.241, 'epoch': 3.0}\n",
            "{'loss': 0.9472, 'learning_rate': 6.527489286891458e-06, 'epoch': 3.06}\n",
            "{'loss': 0.9217, 'learning_rate': 6.111198874944846e-06, 'epoch': 3.14}\n",
            "{'loss': 0.9199, 'learning_rate': 5.702704317997491e-06, 'epoch': 3.21}\n",
            "{'loss': 0.8854, 'learning_rate': 5.302824522501931e-06, 'epoch': 3.28}\n",
            "{'loss': 0.8986, 'learning_rate': 4.912361124952949e-06, 'epoch': 3.35}\n",
            "{'loss': 0.8668, 'learning_rate': 4.532096884851978e-06, 'epoch': 3.42}\n",
            "{'loss': 0.8772, 'learning_rate': 4.162794115514078e-06, 'epoch': 3.49}\n",
            "{'loss': 0.8456, 'learning_rate': 3.805193155863247e-06, 'epoch': 3.56}\n",
            "{'loss': 0.843, 'learning_rate': 3.460010886279681e-06, 'epoch': 3.63}\n",
            "{'loss': 0.8463, 'learning_rate': 3.1279392914742047e-06, 'epoch': 3.71}\n",
            "{'loss': 0.8505, 'learning_rate': 2.8096440732709085e-06, 'epoch': 3.78}\n",
            "{'loss': 0.8606, 'learning_rate': 2.5057633160789186e-06, 'epoch': 3.85}\n",
            "{'loss': 0.8958, 'learning_rate': 2.2169062077286072e-06, 'epoch': 3.92}\n",
            "{'loss': 0.8706, 'learning_rate': 1.943651818236616e-06, 'epoch': 3.99}\n"
          ]
        },
        {
          "data": {
            "application/vnd.jupyter.widget-view+json": {
              "model_id": "3b297b9309c6417ea89096f4fef66fe8",
              "version_major": 2,
              "version_minor": 0
            },
            "text/plain": [
              "  0%|          | 0/860 [00:00<?, ?it/s]"
            ]
          },
          "metadata": {},
          "output_type": "display_data"
        },
        {
          "name": "stdout",
          "output_type": "stream",
          "text": [
            "{'eval_loss': 0.9273907900013865, 'eval_accuracy_emotions': 0.696, 'eval_accuracy_triggers': 0.8158, 'eval_u_avg_f1': 0.6728, 'eval_u_f1scores_emotions': 0.6529, 'eval_u_f1scores_triggers': 0.6926, 'eval_d_f1scores_emotions': 0.686, 'eval_d_f1scores_triggers': 0.7752, 'eval_runtime': 349.9281, 'eval_samples_per_second': 9.822, 'eval_steps_per_second': 2.458, 'epoch': 4.0}\n",
            "{'loss': 0.7892, 'learning_rate': 1.6865479389478545e-06, 'epoch': 4.06}\n",
            "{'loss': 0.7436, 'learning_rate': 1.4461099843816684e-06, 'epoch': 4.13}\n",
            "{'loss': 0.8519, 'learning_rate': 1.2228199589835998e-06, 'epoch': 4.2}\n",
            "{'loss': 0.7737, 'learning_rate': 1.0171254908541373e-06, 'epoch': 4.28}\n",
            "{'loss': 0.7463, 'learning_rate': 8.294389343914899e-07, 'epoch': 4.35}\n",
            "{'loss': 0.7591, 'learning_rate': 6.601365436473439e-07, 'epoch': 4.42}\n",
            "{'loss': 0.7559, 'learning_rate': 5.095577180527378e-07, 'epoch': 4.49}\n",
            "{'loss': 0.7419, 'learning_rate': 3.780043220261764e-07, 'epoch': 4.56}\n",
            "{'loss': 0.7643, 'learning_rate': 2.6574007982793857e-07, 'epoch': 4.63}\n",
            "{'loss': 0.743, 'learning_rate': 1.7299004687372666e-07, 'epoch': 4.7}\n",
            "{'loss': 0.7797, 'learning_rate': 9.994015856749528e-08, 'epoch': 4.77}\n",
            "{'loss': 0.7365, 'learning_rate': 4.673685755792523e-08, 'epoch': 4.85}\n",
            "{'loss': 0.7693, 'learning_rate': 1.3486800165773972e-08, 'epoch': 4.92}\n",
            "{'loss': 0.7573, 'learning_rate': 2.5664257062185673e-10, 'epoch': 4.99}\n"
          ]
        },
        {
          "data": {
            "application/vnd.jupyter.widget-view+json": {
              "model_id": "84051115ee614f34835d931d58ca13f9",
              "version_major": 2,
              "version_minor": 0
            },
            "text/plain": [
              "  0%|          | 0/860 [00:00<?, ?it/s]"
            ]
          },
          "metadata": {},
          "output_type": "display_data"
        },
        {
          "name": "stdout",
          "output_type": "stream",
          "text": [
            "{'eval_loss': 0.8804423948597356, 'eval_accuracy_emotions': 0.7067, 'eval_accuracy_triggers': 0.8129, 'eval_u_avg_f1': 0.6827, 'eval_u_f1scores_emotions': 0.6709, 'eval_u_f1scores_triggers': 0.6945, 'eval_d_f1scores_emotions': 0.6929, 'eval_d_f1scores_triggers': 0.772, 'eval_runtime': 366.8666, 'eval_samples_per_second': 9.369, 'eval_steps_per_second': 2.344, 'epoch': 5.0}\n",
            "{'train_runtime': 10078.0086, 'train_samples_per_second': 13.922, 'train_steps_per_second': 3.481, 'train_loss': 1.0757926437438825, 'epoch': 5.0}\n"
          ]
        }
      ],
      "source": [
        "train_extr_model(666, freeze=True)"
      ]
    },
    {
      "cell_type": "code",
      "execution_count": 21,
      "metadata": {},
      "outputs": [
        {
          "name": "stderr",
          "output_type": "stream",
          "text": [
            "c:\\Users\\marco\\anaconda3\\lib\\site-packages\\datasets\\table.py:1395: FutureWarning: promote has been superseded by mode='default'.\n",
            "  block_group = [InMemoryTable(cls._concat_blocks(list(block_group), axis=axis))]\n",
            "c:\\Users\\marco\\anaconda3\\lib\\site-packages\\datasets\\table.py:1421: FutureWarning: promote has been superseded by mode='default'.\n",
            "  table = cls._concat_blocks(blocks, axis=0)\n",
            "c:\\Users\\marco\\anaconda3\\lib\\site-packages\\accelerate\\accelerator.py:436: FutureWarning: Passing the following arguments to `Accelerator` is deprecated and will be removed in version 1.0 of Accelerate: dict_keys(['dispatch_batches', 'split_batches']). Please pass an `accelerate.DataLoaderConfiguration` instead: \n",
            "dataloader_config = DataLoaderConfiguration(dispatch_batches=None, split_batches=False)\n",
            "  warnings.warn(\n"
          ]
        },
        {
          "name": "stdout",
          "output_type": "stream",
          "text": [
            "Resume training of model with seed 51:\n"
          ]
        },
        {
          "data": {
            "application/vnd.jupyter.widget-view+json": {
              "model_id": "9427310421d24932a93e591c290791f7",
              "version_major": 2,
              "version_minor": 0
            },
            "text/plain": [
              "  0%|          | 0/35080 [00:00<?, ?it/s]"
            ]
          },
          "metadata": {},
          "output_type": "display_data"
        },
        {
          "name": "stderr",
          "output_type": "stream",
          "text": [
            "Could not estimate the number of tokens of the input, floating-point operations will not be computed\n"
          ]
        },
        {
          "name": "stdout",
          "output_type": "stream",
          "text": [
            "{'loss': 0.9917, 'learning_rate': 1.6865479389478545e-06, 'epoch': 4.06}\n",
            "{'loss': 0.949, 'learning_rate': 1.4461099843816684e-06, 'epoch': 4.13}\n",
            "{'loss': 1.0184, 'learning_rate': 1.2228199589835998e-06, 'epoch': 4.2}\n",
            "{'loss': 0.9588, 'learning_rate': 1.0171254908541373e-06, 'epoch': 4.28}\n",
            "{'loss': 0.9228, 'learning_rate': 8.294389343914899e-07, 'epoch': 4.35}\n",
            "{'loss': 0.9775, 'learning_rate': 6.601365436473439e-07, 'epoch': 4.42}\n",
            "{'loss': 0.913, 'learning_rate': 5.095577180527378e-07, 'epoch': 4.49}\n",
            "{'loss': 0.9348, 'learning_rate': 3.780043220261764e-07, 'epoch': 4.56}\n",
            "{'loss': 0.9842, 'learning_rate': 2.6574007982793857e-07, 'epoch': 4.63}\n",
            "{'loss': 0.9705, 'learning_rate': 1.7299004687372666e-07, 'epoch': 4.7}\n",
            "{'loss': 0.942, 'learning_rate': 9.994015856749528e-08, 'epoch': 4.77}\n",
            "{'loss': 0.9504, 'learning_rate': 4.673685755792523e-08, 'epoch': 4.85}\n",
            "{'loss': 0.9806, 'learning_rate': 1.3486800165773972e-08, 'epoch': 4.92}\n",
            "{'loss': 0.9837, 'learning_rate': 2.5664257062185673e-10, 'epoch': 4.99}\n"
          ]
        },
        {
          "data": {
            "application/vnd.jupyter.widget-view+json": {
              "model_id": "12c2e516c6af411c8976f1c27acf10af",
              "version_major": 2,
              "version_minor": 0
            },
            "text/plain": [
              "  0%|          | 0/860 [00:00<?, ?it/s]"
            ]
          },
          "metadata": {},
          "output_type": "display_data"
        },
        {
          "name": "stdout",
          "output_type": "stream",
          "text": [
            "{'eval_loss': 1.0482772934625284, 'eval_accuracy_emotions': 0.5999, 'eval_accuracy_triggers': 0.8173, 'eval_u_avg_f1': 0.6115, 'eval_u_f1scores_emotions': 0.5154, 'eval_u_f1scores_triggers': 0.7076, 'eval_d_f1scores_emotions': 0.5968, 'eval_d_f1scores_triggers': 0.7798, 'eval_runtime': 355.6757, 'eval_samples_per_second': 9.663, 'eval_steps_per_second': 2.418, 'epoch': 5.0}\n",
            "{'train_runtime': 1789.0831, 'train_samples_per_second': 78.426, 'train_steps_per_second': 19.608, 'train_loss': 0.19245738091463374, 'epoch': 5.0}\n"
          ]
        }
      ],
      "source": [
        "train_extr_model(51, freeze=True)"
      ]
    },
    {
      "cell_type": "code",
      "execution_count": 12,
      "metadata": {},
      "outputs": [
        {
          "name": "stdout",
          "output_type": "stream",
          "text": [
            "Resume training of model with seed 77:\n"
          ]
        },
        {
          "data": {
            "application/vnd.jupyter.widget-view+json": {
              "model_id": "9d773dc8239543bc893f2efd5b9c6fb6",
              "version_major": 2,
              "version_minor": 0
            },
            "text/plain": [
              "  0%|          | 0/35080 [00:00<?, ?it/s]"
            ]
          },
          "metadata": {},
          "output_type": "display_data"
        },
        {
          "name": "stderr",
          "output_type": "stream",
          "text": [
            "Could not estimate the number of tokens of the input, floating-point operations will not be computed\n"
          ]
        },
        {
          "name": "stdout",
          "output_type": "stream",
          "text": [
            "{'loss': 1.0898, 'learning_rate': 1.2688968189084494e-05, 'epoch': 2.07}\n",
            "{'loss': 1.1178, 'learning_rate': 1.225513357792187e-05, 'epoch': 2.14}\n",
            "{'loss': 1.0622, 'learning_rate': 1.1816778114750594e-05, 'epoch': 2.21}\n",
            "{'loss': 1.0539, 'learning_rate': 1.13747805679929e-05, 'epoch': 2.28}\n",
            "{'loss': 1.0728, 'learning_rate': 1.0930027007332924e-05, 'epoch': 2.35}\n",
            "{'loss': 1.0251, 'learning_rate': 1.0483409027418426e-05, 'epoch': 2.42}\n",
            "{'loss': 1.0267, 'learning_rate': 1.0035821960486643e-05, 'epoch': 2.49}\n",
            "{'loss': 1.0041, 'learning_rate': 9.588163081497427e-06, 'epoch': 2.57}\n",
            "{'loss': 1.0126, 'learning_rate': 9.141329809371803e-06, 'epoch': 2.64}\n",
            "{'loss': 0.989, 'learning_rate': 8.696217907941941e-06, 'epoch': 2.71}\n",
            "{'loss': 0.9817, 'learning_rate': 8.253719690219079e-06, 'epoch': 2.78}\n",
            "{'loss': 0.9443, 'learning_rate': 7.814722229579263e-06, 'epoch': 2.85}\n",
            "{'loss': 0.9618, 'learning_rate': 7.380105581452988e-06, 'epoch': 2.92}\n",
            "{'loss': 0.9776, 'learning_rate': 6.9507410190836174e-06, 'epoch': 2.99}\n"
          ]
        },
        {
          "data": {
            "application/vnd.jupyter.widget-view+json": {
              "model_id": "5c5defbfb9104e79ba623b72d37175f4",
              "version_major": 2,
              "version_minor": 0
            },
            "text/plain": [
              "  0%|          | 0/860 [00:00<?, ?it/s]"
            ]
          },
          "metadata": {},
          "output_type": "display_data"
        },
        {
          "name": "stdout",
          "output_type": "stream",
          "text": [
            "{'eval_loss': 0.9763263730470587, 'eval_accuracy_emotions': 0.6226, 'eval_accuracy_triggers': 0.7958, 'eval_u_avg_f1': 0.6207, 'eval_u_f1scores_emotions': 0.5498, 'eval_u_f1scores_triggers': 0.6917, 'eval_d_f1scores_emotions': 0.6154, 'eval_d_f1scores_triggers': 0.7475, 'eval_runtime': 688.4671, 'eval_samples_per_second': 4.992, 'eval_steps_per_second': 1.249, 'epoch': 3.0}\n",
            "{'loss': 0.867, 'learning_rate': 6.527489286891458e-06, 'epoch': 3.06}\n",
            "{'loss': 0.8528, 'learning_rate': 6.111198874944846e-06, 'epoch': 3.14}\n",
            "{'loss': 0.8294, 'learning_rate': 5.702704317997491e-06, 'epoch': 3.21}\n",
            "{'loss': 0.7756, 'learning_rate': 5.302824522501931e-06, 'epoch': 3.28}\n",
            "{'loss': 0.8373, 'learning_rate': 4.912361124952949e-06, 'epoch': 3.35}\n",
            "{'loss': 0.8031, 'learning_rate': 4.532096884851978e-06, 'epoch': 3.42}\n",
            "{'loss': 0.8292, 'learning_rate': 4.162794115514078e-06, 'epoch': 3.49}\n",
            "{'loss': 0.7796, 'learning_rate': 3.805193155863247e-06, 'epoch': 3.56}\n",
            "{'loss': 0.7975, 'learning_rate': 3.460010886279681e-06, 'epoch': 3.63}\n",
            "{'loss': 0.7721, 'learning_rate': 3.1279392914742047e-06, 'epoch': 3.71}\n",
            "{'loss': 0.7934, 'learning_rate': 2.8096440732709085e-06, 'epoch': 3.78}\n",
            "{'loss': 0.7855, 'learning_rate': 2.5057633160789186e-06, 'epoch': 3.85}\n",
            "{'loss': 0.8418, 'learning_rate': 2.2169062077286072e-06, 'epoch': 3.92}\n",
            "{'loss': 0.7767, 'learning_rate': 1.943651818236616e-06, 'epoch': 3.99}\n"
          ]
        },
        {
          "data": {
            "application/vnd.jupyter.widget-view+json": {
              "model_id": "05125fdcbe564bd38bee1ef1ad0a4d81",
              "version_major": 2,
              "version_minor": 0
            },
            "text/plain": [
              "  0%|          | 0/860 [00:00<?, ?it/s]"
            ]
          },
          "metadata": {},
          "output_type": "display_data"
        },
        {
          "name": "stdout",
          "output_type": "stream",
          "text": [
            "{'eval_loss': 0.8558470848885419, 'eval_accuracy_emotions': 0.7347, 'eval_accuracy_triggers': 0.8228, 'eval_u_avg_f1': 0.6985, 'eval_u_f1scores_emotions': 0.6946, 'eval_u_f1scores_triggers': 0.7024, 'eval_d_f1scores_emotions': 0.728, 'eval_d_f1scores_triggers': 0.7862, 'eval_runtime': 688.0453, 'eval_samples_per_second': 4.995, 'eval_steps_per_second': 1.25, 'epoch': 4.0}\n",
            "{'loss': 0.7212, 'learning_rate': 1.6865479389478545e-06, 'epoch': 4.06}\n",
            "{'loss': 0.6711, 'learning_rate': 1.4461099843816684e-06, 'epoch': 4.13}\n",
            "{'loss': 0.758, 'learning_rate': 1.2228199589835998e-06, 'epoch': 4.2}\n",
            "{'loss': 0.6984, 'learning_rate': 1.0171254908541373e-06, 'epoch': 4.28}\n",
            "{'loss': 0.6783, 'learning_rate': 8.294389343914899e-07, 'epoch': 4.35}\n",
            "{'loss': 0.6988, 'learning_rate': 6.601365436473439e-07, 'epoch': 4.42}\n",
            "{'loss': 0.6871, 'learning_rate': 5.095577180527378e-07, 'epoch': 4.49}\n",
            "{'loss': 0.6754, 'learning_rate': 3.780043220261764e-07, 'epoch': 4.56}\n",
            "{'loss': 0.7042, 'learning_rate': 2.6574007982793857e-07, 'epoch': 4.63}\n",
            "{'loss': 0.677, 'learning_rate': 1.7299004687372666e-07, 'epoch': 4.7}\n",
            "{'loss': 0.6762, 'learning_rate': 9.994015856749528e-08, 'epoch': 4.77}\n",
            "{'loss': 0.6735, 'learning_rate': 4.673685755792523e-08, 'epoch': 4.85}\n",
            "{'loss': 0.7148, 'learning_rate': 1.3486800165773972e-08, 'epoch': 4.92}\n",
            "{'loss': 0.7304, 'learning_rate': 2.5664257062185673e-10, 'epoch': 4.99}\n"
          ]
        },
        {
          "data": {
            "application/vnd.jupyter.widget-view+json": {
              "model_id": "9fc79da9bea944898422641495dc9512",
              "version_major": 2,
              "version_minor": 0
            },
            "text/plain": [
              "  0%|          | 0/860 [00:00<?, ?it/s]"
            ]
          },
          "metadata": {},
          "output_type": "display_data"
        },
        {
          "name": "stdout",
          "output_type": "stream",
          "text": [
            "{'eval_loss': 0.8342511233608884, 'eval_accuracy_emotions': 0.7384, 'eval_accuracy_triggers': 0.8155, 'eval_u_avg_f1': 0.6988, 'eval_u_f1scores_emotions': 0.7054, 'eval_u_f1scores_triggers': 0.6923, 'eval_d_f1scores_emotions': 0.729, 'eval_d_f1scores_triggers': 0.7763, 'eval_runtime': 687.7026, 'eval_samples_per_second': 4.998, 'eval_steps_per_second': 1.251, 'epoch': 5.0}\n",
            "{'train_runtime': 8414.8813, 'train_samples_per_second': 16.674, 'train_steps_per_second': 4.169, 'train_loss': 0.5054696475630339, 'epoch': 5.0}\n"
          ]
        }
      ],
      "source": [
        "# train_extr_model(77, freeze=True)\n",
        "set_seeds(77)\n",
        "base_model = Model_Phrase_Extraction(len(df_manager.unique_emotions), tokenizer.sep_token_id, True)\n",
        "model_path = model_dir+\"bert_extraction_freeze_\"+str(77)\n",
        "\n",
        "trainer = get_trainer(base_model, train_data_tokenized, val_data_tokenized, model_path, class_weights=True, batch_size=4, epochs=5)\n",
        "\n",
        "print(f'Resume training of model with seed 77:')\n",
        "\n",
        "trainer.train(model_path+\"/tmp-checkpoint-14032\")\n",
        "torch.save(base_model.state_dict(), model_path+\"/bert_extraction_freeze_\"+str(77)+\".pth\")"
      ]
    },
    {
      "cell_type": "markdown",
      "metadata": {},
      "source": [
        "### ERROR ANALYSIS\n",
        "Check if you have added models to the Error analysis class. After which you can call all the functions you want. Predictions should be stored inside a dataframe, emotions and triggers in two separated columns. The columns should have respectively \"<MODEL_NAME>_<SEED>\" and \"<MODEL_NAME>_<SEED>_T\" names. If they don't have been added but you still have the model, you can add predictions directly with .add_predictions()... Do it twice, onece adding emtions predictions and once adding trigger predictions. When adding, the model name should be just the name."
      ]
    },
    {
      "cell_type": "code",
      "execution_count": 30,
      "metadata": {},
      "outputs": [
        {
          "name": "stderr",
          "output_type": "stream",
          "text": [
            "c:\\Users\\marco\\anaconda3\\lib\\site-packages\\torchvision\\io\\image.py:13: UserWarning: Failed to load image Python extension: [WinError 127] The specified procedure could not be found\n",
            "  warn(f\"Failed to load image Python extension: {e}\")\n"
          ]
        },
        {
          "data": {
            "text/plain": [
              "<module 'src.error' from 'c:\\\\Users\\\\marco\\\\OneDrive\\\\Immagini\\\\Documenti\\\\GitHub\\\\ediref\\\\src\\\\error.py'>"
            ]
          },
          "execution_count": 30,
          "metadata": {},
          "output_type": "execute_result"
        }
      ],
      "source": [
        "from src import error\n",
        "import importlib\n",
        "importlib.reload(error)"
      ]
    },
    {
      "cell_type": "code",
      "execution_count": 31,
      "metadata": {},
      "outputs": [],
      "source": [
        "report = error.ErrorAnalysis(test_data_tokenized)"
      ]
    },
    {
      "cell_type": "code",
      "execution_count": 32,
      "metadata": {},
      "outputs": [
        {
          "data": {
            "application/vnd.jupyter.widget-view+json": {
              "model_id": "ecdf89c871cb485489dbdc9e4451bedc",
              "version_major": 2,
              "version_minor": 0
            },
            "text/plain": [
              "  0%|          | 0/876 [00:00<?, ?it/s]"
            ]
          },
          "metadata": {},
          "output_type": "display_data"
        },
        {
          "name": "stdout",
          "output_type": "stream",
          "text": [
            "torch.Size([3501, 7]) torch.Size([3501, 1])\n"
          ]
        },
        {
          "data": {
            "text/plain": [
              "'Successfullty added model!'"
            ]
          },
          "execution_count": 32,
          "metadata": {},
          "output_type": "execute_result"
        }
      ],
      "source": [
        "report.add_model(trainer, test_data_tokenized, 'baseline', seeds[0])"
      ]
    },
    {
      "cell_type": "code",
      "execution_count": 36,
      "metadata": {},
      "outputs": [
        {
          "data": {
            "image/png": "[encoded data removed]",
            "text/plain": [
              "<Figure size 640x480 with 1 Axes>"
            ]
          },
          "metadata": {},
          "output_type": "display_data"
        }
      ],
      "source": [
        "_ = report.get_confusion_matrix('baseline_49', plot = True)"
      ]
    },
    {
      "cell_type": "code",
      "execution_count": 37,
      "metadata": {},
      "outputs": [
        {
          "ename": "AttributeError",
          "evalue": "'DataFrame' object has no attribute 'map'",
          "output_type": "error",
          "traceback": [
            "\u001b[1;31m---------------------------------------------------------------------------\u001b[0m",
            "\u001b[1;31mAttributeError\u001b[0m                            Traceback (most recent call last)",
            "Input \u001b[1;32mIn [37]\u001b[0m, in \u001b[0;36m<cell line: 3>\u001b[1;34m()\u001b[0m\n\u001b[0;32m      1\u001b[0m table \u001b[38;5;241m=\u001b[39m report\u001b[38;5;241m.\u001b[39mget_performance_table(metrics \u001b[38;5;241m=\u001b[39m [\u001b[38;5;124m'\u001b[39m\u001b[38;5;124maccuracy\u001b[39m\u001b[38;5;124m'\u001b[39m,\u001b[38;5;124m'\u001b[39m\u001b[38;5;124mf1_macro\u001b[39m\u001b[38;5;124m'\u001b[39m,\u001b[38;5;124m'\u001b[39m\u001b[38;5;124mf1_micro\u001b[39m\u001b[38;5;124m'\u001b[39m,\u001b[38;5;124m'\u001b[39m\u001b[38;5;124mf1_weighted\u001b[39m\u001b[38;5;124m'\u001b[39m])\n\u001b[0;32m      2\u001b[0m report_df \u001b[38;5;241m=\u001b[39m pd\u001b[38;5;241m.\u001b[39mDataFrame(table\u001b[38;5;241m.\u001b[39mvalues())\n\u001b[1;32m----> 3\u001b[0m report_df \u001b[38;5;241m=\u001b[39m \u001b[43mreport_df\u001b[49m\u001b[38;5;241;43m.\u001b[39;49m\u001b[43mmap\u001b[49m(\u001b[38;5;28;01mlambda\u001b[39;00m x: x\u001b[38;5;241m.\u001b[39mitem() \u001b[38;5;28;01mif\u001b[39;00m \u001b[38;5;28mtype\u001b[39m(x) \u001b[38;5;241m==\u001b[39m torch\u001b[38;5;241m.\u001b[39mTensor \u001b[38;5;28;01melse\u001b[39;00m x)\n\u001b[0;32m      4\u001b[0m report_df\n",
            "File \u001b[1;32mc:\\Users\\marco\\anaconda3\\lib\\site-packages\\pandas\\core\\generic.py:5575\u001b[0m, in \u001b[0;36mNDFrame.__getattr__\u001b[1;34m(self, name)\u001b[0m\n\u001b[0;32m   5568\u001b[0m \u001b[38;5;28;01mif\u001b[39;00m (\n\u001b[0;32m   5569\u001b[0m     name \u001b[38;5;129;01mnot\u001b[39;00m \u001b[38;5;129;01min\u001b[39;00m \u001b[38;5;28mself\u001b[39m\u001b[38;5;241m.\u001b[39m_internal_names_set\n\u001b[0;32m   5570\u001b[0m     \u001b[38;5;129;01mand\u001b[39;00m name \u001b[38;5;129;01mnot\u001b[39;00m \u001b[38;5;129;01min\u001b[39;00m \u001b[38;5;28mself\u001b[39m\u001b[38;5;241m.\u001b[39m_metadata\n\u001b[0;32m   5571\u001b[0m     \u001b[38;5;129;01mand\u001b[39;00m name \u001b[38;5;129;01mnot\u001b[39;00m \u001b[38;5;129;01min\u001b[39;00m \u001b[38;5;28mself\u001b[39m\u001b[38;5;241m.\u001b[39m_accessors\n\u001b[0;32m   5572\u001b[0m     \u001b[38;5;129;01mand\u001b[39;00m \u001b[38;5;28mself\u001b[39m\u001b[38;5;241m.\u001b[39m_info_axis\u001b[38;5;241m.\u001b[39m_can_hold_identifiers_and_holds_name(name)\n\u001b[0;32m   5573\u001b[0m ):\n\u001b[0;32m   5574\u001b[0m     \u001b[38;5;28;01mreturn\u001b[39;00m \u001b[38;5;28mself\u001b[39m[name]\n\u001b[1;32m-> 5575\u001b[0m \u001b[38;5;28;01mreturn\u001b[39;00m \u001b[38;5;28;43mobject\u001b[39;49m\u001b[38;5;241;43m.\u001b[39;49m\u001b[38;5;21;43m__getattribute__\u001b[39;49m\u001b[43m(\u001b[49m\u001b[38;5;28;43mself\u001b[39;49m\u001b[43m,\u001b[49m\u001b[43m \u001b[49m\u001b[43mname\u001b[49m\u001b[43m)\u001b[49m\n",
            "\u001b[1;31mAttributeError\u001b[0m: 'DataFrame' object has no attribute 'map'"
          ]
        }
      ],
      "source": [
        "table = report.get_performance_table(metrics = ['accuracy','f1_macro','f1_micro','f1_weighted'])\n",
        "report_df = pd.DataFrame(table.values())\n",
        "report_df = report_df.map(lambda x: x.item() if type(x) == torch.Tensor else x)\n",
        "report_df"
      ]
    },
    {
      "cell_type": "code",
      "execution_count": 57,
      "metadata": {},
      "outputs": [
        {
          "data": {
            "text/html": [
              "<div>\n",
              "<style scoped>\n",
              "    .dataframe tbody tr th:only-of-type {\n",
              "        vertical-align: middle;\n",
              "    }\n",
              "\n",
              "    .dataframe tbody tr th {\n",
              "        vertical-align: top;\n",
              "    }\n",
              "\n",
              "    .dataframe thead th {\n",
              "        text-align: right;\n",
              "    }\n",
              "</style>\n",
              "<table border=\"1\" class=\"dataframe\">\n",
              "  <thead>\n",
              "    <tr style=\"text-align: right;\">\n",
              "      <th></th>\n",
              "      <th>accuracy</th>\n",
              "      <th>dialogue_len</th>\n",
              "    </tr>\n",
              "    <tr>\n",
              "      <th>episode</th>\n",
              "      <th></th>\n",
              "      <th></th>\n",
              "    </tr>\n",
              "  </thead>\n",
              "  <tbody>\n",
              "    <tr>\n",
              "      <th>utterance_2863</th>\n",
              "      <td>0.200000</td>\n",
              "      <td>10.0</td>\n",
              "    </tr>\n",
              "    <tr>\n",
              "      <th>utterance_2848</th>\n",
              "      <td>0.333333</td>\n",
              "      <td>15.0</td>\n",
              "    </tr>\n",
              "    <tr>\n",
              "      <th>utterance_3191</th>\n",
              "      <td>0.333333</td>\n",
              "      <td>3.0</td>\n",
              "    </tr>\n",
              "    <tr>\n",
              "      <th>utterance_1443</th>\n",
              "      <td>0.400000</td>\n",
              "      <td>5.0</td>\n",
              "    </tr>\n",
              "    <tr>\n",
              "      <th>utterance_1682</th>\n",
              "      <td>0.600000</td>\n",
              "      <td>5.0</td>\n",
              "    </tr>\n",
              "    <tr>\n",
              "      <th>utterance_3791</th>\n",
              "      <td>0.600000</td>\n",
              "      <td>5.0</td>\n",
              "    </tr>\n",
              "    <tr>\n",
              "      <th>utterance_2199</th>\n",
              "      <td>0.666667</td>\n",
              "      <td>6.0</td>\n",
              "    </tr>\n",
              "    <tr>\n",
              "      <th>utterance_1696</th>\n",
              "      <td>0.666667</td>\n",
              "      <td>3.0</td>\n",
              "    </tr>\n",
              "    <tr>\n",
              "      <th>utterance_1919</th>\n",
              "      <td>0.666667</td>\n",
              "      <td>3.0</td>\n",
              "    </tr>\n",
              "    <tr>\n",
              "      <th>utterance_2255</th>\n",
              "      <td>0.666667</td>\n",
              "      <td>3.0</td>\n",
              "    </tr>\n",
              "    <tr>\n",
              "      <th>utterance_2961</th>\n",
              "      <td>0.666667</td>\n",
              "      <td>3.0</td>\n",
              "    </tr>\n",
              "    <tr>\n",
              "      <th>utterance_103</th>\n",
              "      <td>0.750000</td>\n",
              "      <td>12.0</td>\n",
              "    </tr>\n",
              "    <tr>\n",
              "      <th>utterance_160</th>\n",
              "      <td>0.750000</td>\n",
              "      <td>4.0</td>\n",
              "    </tr>\n",
              "    <tr>\n",
              "      <th>utterance_2056</th>\n",
              "      <td>0.750000</td>\n",
              "      <td>4.0</td>\n",
              "    </tr>\n",
              "    <tr>\n",
              "      <th>utterance_1704</th>\n",
              "      <td>0.800000</td>\n",
              "      <td>5.0</td>\n",
              "    </tr>\n",
              "    <tr>\n",
              "      <th>utterance_1884</th>\n",
              "      <td>0.800000</td>\n",
              "      <td>5.0</td>\n",
              "    </tr>\n",
              "    <tr>\n",
              "      <th>utterance_253</th>\n",
              "      <td>0.800000</td>\n",
              "      <td>5.0</td>\n",
              "    </tr>\n",
              "    <tr>\n",
              "      <th>utterance_403</th>\n",
              "      <td>0.800000</td>\n",
              "      <td>5.0</td>\n",
              "    </tr>\n",
              "    <tr>\n",
              "      <th>utterance_3298</th>\n",
              "      <td>0.833333</td>\n",
              "      <td>6.0</td>\n",
              "    </tr>\n",
              "    <tr>\n",
              "      <th>utterance_3741</th>\n",
              "      <td>0.833333</td>\n",
              "      <td>6.0</td>\n",
              "    </tr>\n",
              "    <tr>\n",
              "      <th>utterance_98</th>\n",
              "      <td>0.833333</td>\n",
              "      <td>6.0</td>\n",
              "    </tr>\n",
              "    <tr>\n",
              "      <th>utterance_2869</th>\n",
              "      <td>0.857143</td>\n",
              "      <td>7.0</td>\n",
              "    </tr>\n",
              "    <tr>\n",
              "      <th>utterance_3769</th>\n",
              "      <td>0.857143</td>\n",
              "      <td>7.0</td>\n",
              "    </tr>\n",
              "    <tr>\n",
              "      <th>utterance_3880</th>\n",
              "      <td>0.875000</td>\n",
              "      <td>8.0</td>\n",
              "    </tr>\n",
              "    <tr>\n",
              "      <th>utterance_1154</th>\n",
              "      <td>0.888889</td>\n",
              "      <td>9.0</td>\n",
              "    </tr>\n",
              "    <tr>\n",
              "      <th>utterance_3170</th>\n",
              "      <td>0.888889</td>\n",
              "      <td>9.0</td>\n",
              "    </tr>\n",
              "    <tr>\n",
              "      <th>utterance_2557</th>\n",
              "      <td>0.909091</td>\n",
              "      <td>11.0</td>\n",
              "    </tr>\n",
              "    <tr>\n",
              "      <th>utterance_627</th>\n",
              "      <td>0.909091</td>\n",
              "      <td>11.0</td>\n",
              "    </tr>\n",
              "    <tr>\n",
              "      <th>utterance_1648</th>\n",
              "      <td>0.916667</td>\n",
              "      <td>12.0</td>\n",
              "    </tr>\n",
              "    <tr>\n",
              "      <th>utterance_2101</th>\n",
              "      <td>0.916667</td>\n",
              "      <td>12.0</td>\n",
              "    </tr>\n",
              "    <tr>\n",
              "      <th>utterance_3881</th>\n",
              "      <td>0.916667</td>\n",
              "      <td>12.0</td>\n",
              "    </tr>\n",
              "    <tr>\n",
              "      <th>utterance_1603</th>\n",
              "      <td>0.923077</td>\n",
              "      <td>13.0</td>\n",
              "    </tr>\n",
              "    <tr>\n",
              "      <th>utterance_877</th>\n",
              "      <td>0.923077</td>\n",
              "      <td>13.0</td>\n",
              "    </tr>\n",
              "    <tr>\n",
              "      <th>utterance_3062</th>\n",
              "      <td>0.928571</td>\n",
              "      <td>14.0</td>\n",
              "    </tr>\n",
              "    <tr>\n",
              "      <th>utterance_3183</th>\n",
              "      <td>0.933333</td>\n",
              "      <td>15.0</td>\n",
              "    </tr>\n",
              "    <tr>\n",
              "      <th>utterance_3234</th>\n",
              "      <td>0.952381</td>\n",
              "      <td>21.0</td>\n",
              "    </tr>\n",
              "    <tr>\n",
              "      <th>utterance_2200</th>\n",
              "      <td>1.000000</td>\n",
              "      <td>7.0</td>\n",
              "    </tr>\n",
              "    <tr>\n",
              "      <th>utterance_586</th>\n",
              "      <td>1.000000</td>\n",
              "      <td>7.0</td>\n",
              "    </tr>\n",
              "    <tr>\n",
              "      <th>utterance_1445</th>\n",
              "      <td>1.000000</td>\n",
              "      <td>4.0</td>\n",
              "    </tr>\n",
              "    <tr>\n",
              "      <th>utterance_956</th>\n",
              "      <td>1.000000</td>\n",
              "      <td>4.0</td>\n",
              "    </tr>\n",
              "  </tbody>\n",
              "</table>\n",
              "</div>"
            ],
            "text/plain": [
              "                accuracy  dialogue_len\n",
              "episode                               \n",
              "utterance_2863  0.200000          10.0\n",
              "utterance_2848  0.333333          15.0\n",
              "utterance_3191  0.333333           3.0\n",
              "utterance_1443  0.400000           5.0\n",
              "utterance_1682  0.600000           5.0\n",
              "utterance_3791  0.600000           5.0\n",
              "utterance_2199  0.666667           6.0\n",
              "utterance_1696  0.666667           3.0\n",
              "utterance_1919  0.666667           3.0\n",
              "utterance_2255  0.666667           3.0\n",
              "utterance_2961  0.666667           3.0\n",
              "utterance_103   0.750000          12.0\n",
              "utterance_160   0.750000           4.0\n",
              "utterance_2056  0.750000           4.0\n",
              "utterance_1704  0.800000           5.0\n",
              "utterance_1884  0.800000           5.0\n",
              "utterance_253   0.800000           5.0\n",
              "utterance_403   0.800000           5.0\n",
              "utterance_3298  0.833333           6.0\n",
              "utterance_3741  0.833333           6.0\n",
              "utterance_98    0.833333           6.0\n",
              "utterance_2869  0.857143           7.0\n",
              "utterance_3769  0.857143           7.0\n",
              "utterance_3880  0.875000           8.0\n",
              "utterance_1154  0.888889           9.0\n",
              "utterance_3170  0.888889           9.0\n",
              "utterance_2557  0.909091          11.0\n",
              "utterance_627   0.909091          11.0\n",
              "utterance_1648  0.916667          12.0\n",
              "utterance_2101  0.916667          12.0\n",
              "utterance_3881  0.916667          12.0\n",
              "utterance_1603  0.923077          13.0\n",
              "utterance_877   0.923077          13.0\n",
              "utterance_3062  0.928571          14.0\n",
              "utterance_3183  0.933333          15.0\n",
              "utterance_3234  0.952381          21.0\n",
              "utterance_2200  1.000000           7.0\n",
              "utterance_586   1.000000           7.0\n",
              "utterance_1445  1.000000           4.0\n",
              "utterance_956   1.000000           4.0"
            ]
          },
          "execution_count": 57,
          "metadata": {},
          "output_type": "execute_result"
        }
      ],
      "source": [
        "# ALL IS WORKING FINE\n",
        "report.get_trigger_effect('baseline_666')\n",
        "report.get_confusion_matrix('baseline_666', plot = False)\n",
        "report.get_confusion_matrix('baseline_666_t', plot = False)\n",
        "report.get_precision_recall('baseline_666', plot = False)\n",
        "report.get_precision_recall('baseline_666_t', plot = False)\n",
        "report.get_emotions_table()\n",
        "report.get_misclassified('baseline_666')\n",
        "report.get_misclassified('baseline_666_t')\n",
        "report.get_performance_table()\n",
        "report.get_trigger_table()\n",
        "report.get_utterance_ranking('baseline_666')\n",
        "report.get_utterance_ranking('baseline_666_t')\n"
      ]
    },
    {
      "cell_type": "code",
      "execution_count": 39,
      "metadata": {},
      "outputs": [
        {
          "name": "stdout",
          "output_type": "stream",
          "text": [
            "{'baseline_666': {'name': 'baseline_666', '0_acc': tensor(0.), '1_acc': tensor(1.), '2_acc': tensor(0.), '3_acc': tensor(0.), '4_acc': tensor(0.), '5_acc': tensor(0.), '6_acc': tensor(0.), '0_f1': tensor(0.), '1_f1': tensor(0.6422), '2_f1': tensor(0.), '3_f1': tensor(0.), '4_f1': tensor(0.), '5_f1': tensor(0.), '6_f1': tensor(0.)}, 'support': {'1_acc': 149, '1_f1': 149, '4_acc': 45, '4_f1': 45, '3_acc': 36, '3_f1': 36, '6_acc': 34, '6_f1': 34, '2_acc': 29, '2_f1': 29, '5_acc': 11, '5_f1': 11, '0_acc': 11, '0_f1': 11, 'name': 'support'}}\n"
          ]
        },
        {
          "data": {
            "text/html": [
              "<div>\n",
              "<style scoped>\n",
              "    .dataframe tbody tr th:only-of-type {\n",
              "        vertical-align: middle;\n",
              "    }\n",
              "\n",
              "    .dataframe tbody tr th {\n",
              "        vertical-align: top;\n",
              "    }\n",
              "\n",
              "    .dataframe thead th {\n",
              "        text-align: right;\n",
              "    }\n",
              "</style>\n",
              "<table border=\"1\" class=\"dataframe\">\n",
              "  <thead>\n",
              "    <tr style=\"text-align: right;\">\n",
              "      <th></th>\n",
              "      <th>name</th>\n",
              "      <th>0_acc</th>\n",
              "      <th>1_acc</th>\n",
              "      <th>2_acc</th>\n",
              "      <th>3_acc</th>\n",
              "      <th>4_acc</th>\n",
              "      <th>5_acc</th>\n",
              "      <th>6_acc</th>\n",
              "      <th>0_f1</th>\n",
              "      <th>1_f1</th>\n",
              "      <th>2_f1</th>\n",
              "      <th>3_f1</th>\n",
              "      <th>4_f1</th>\n",
              "      <th>5_f1</th>\n",
              "      <th>6_f1</th>\n",
              "    </tr>\n",
              "  </thead>\n",
              "  <tbody>\n",
              "    <tr>\n",
              "      <th>0</th>\n",
              "      <td>baseline_666</td>\n",
              "      <td>0.0</td>\n",
              "      <td>1.0</td>\n",
              "      <td>0.0</td>\n",
              "      <td>0.0</td>\n",
              "      <td>0.0</td>\n",
              "      <td>0.0</td>\n",
              "      <td>0.0</td>\n",
              "      <td>0.0</td>\n",
              "      <td>0.642241</td>\n",
              "      <td>0.0</td>\n",
              "      <td>0.0</td>\n",
              "      <td>0.0</td>\n",
              "      <td>0.0</td>\n",
              "      <td>0.0</td>\n",
              "    </tr>\n",
              "    <tr>\n",
              "      <th>1</th>\n",
              "      <td>support</td>\n",
              "      <td>11.0</td>\n",
              "      <td>149.0</td>\n",
              "      <td>29.0</td>\n",
              "      <td>36.0</td>\n",
              "      <td>45.0</td>\n",
              "      <td>11.0</td>\n",
              "      <td>34.0</td>\n",
              "      <td>11.0</td>\n",
              "      <td>149.000000</td>\n",
              "      <td>29.0</td>\n",
              "      <td>36.0</td>\n",
              "      <td>45.0</td>\n",
              "      <td>11.0</td>\n",
              "      <td>34.0</td>\n",
              "    </tr>\n",
              "  </tbody>\n",
              "</table>\n",
              "</div>"
            ],
            "text/plain": [
              "           name  0_acc  1_acc  2_acc  3_acc  4_acc  5_acc  6_acc  0_f1  \\\n",
              "0  baseline_666    0.0    1.0    0.0    0.0    0.0    0.0    0.0   0.0   \n",
              "1       support   11.0  149.0   29.0   36.0   45.0   11.0   34.0  11.0   \n",
              "\n",
              "         1_f1  2_f1  3_f1  4_f1  5_f1  6_f1  \n",
              "0    0.642241   0.0   0.0   0.0   0.0   0.0  \n",
              "1  149.000000  29.0  36.0  45.0  11.0  34.0  "
            ]
          },
          "execution_count": 39,
          "metadata": {},
          "output_type": "execute_result"
        }
      ],
      "source": [
        "#Some functions return dict or list of dict. check usage in error_analysis.ipynb If you want dataframes visualization, you can do something like this\n",
        "table = report.get_emotions_table()\n",
        "print(table)\n",
        "table_df = pd.DataFrame(table.values())\n",
        "table_df = table_df.map(lambda x: x.item() if type(x) == torch.Tensor else x)\n",
        "table_df"
      ]
    },
    {
      "cell_type": "code",
      "execution_count": 58,
      "metadata": {},
      "outputs": [
        {
          "data": {
            "text/html": [
              "<div>\n",
              "<style scoped>\n",
              "    .dataframe tbody tr th:only-of-type {\n",
              "        vertical-align: middle;\n",
              "    }\n",
              "\n",
              "    .dataframe tbody tr th {\n",
              "        vertical-align: top;\n",
              "    }\n",
              "\n",
              "    .dataframe thead tr th {\n",
              "        text-align: left;\n",
              "    }\n",
              "</style>\n",
              "<table border=\"1\" class=\"dataframe\">\n",
              "  <thead>\n",
              "    <tr>\n",
              "      <th></th>\n",
              "      <th colspan=\"2\" halign=\"left\">emotion_accuracy</th>\n",
              "      <th colspan=\"2\" halign=\"left\">support</th>\n",
              "    </tr>\n",
              "    <tr>\n",
              "      <th></th>\n",
              "      <th>correct_t</th>\n",
              "      <th>bad_t</th>\n",
              "      <th>correct_t</th>\n",
              "      <th>bad_t</th>\n",
              "    </tr>\n",
              "  </thead>\n",
              "  <tbody>\n",
              "    <tr>\n",
              "      <th>baseline_666</th>\n",
              "      <td>0.0</td>\n",
              "      <td>0.42</td>\n",
              "      <td>0.0</td>\n",
              "      <td>60.0</td>\n",
              "    </tr>\n",
              "  </tbody>\n",
              "</table>\n",
              "</div>"
            ],
            "text/plain": [
              "             emotion_accuracy         support      \n",
              "                    correct_t bad_t correct_t bad_t\n",
              "baseline_666              0.0  0.42       0.0  60.0"
            ]
          },
          "execution_count": 58,
          "metadata": {},
          "output_type": "execute_result"
        }
      ],
      "source": [
        "#TABLE FOR TRIGGER ANALYSIS\n",
        "table = report.get_trigger_table()\n",
        "values = [np.array([np.array([v for v in scores.values()]).flatten() for scores in model.values()]).flatten().tolist() for model in table.values()]\n",
        "columns = next(iter(table.values())).keys()\n",
        "sub_columns = next(iter(next(iter(table.values())).values())).keys()\n",
        "indexes = table.keys()\n",
        "report_df = pd.DataFrame(values, columns = pd.MultiIndex.from_product([tuple(columns), tuple(sub_columns)]), index=indexes)\n",
        "report_df"
      ]
    }
  ],
  "metadata": {
    "accelerator": "GPU",
    "colab": {
      "provenance": []
    },
    "kernelspec": {
      "display_name": "Python 3",
      "name": "python3"
    },
    "language_info": {
      "codemirror_mode": {
        "name": "ipython",
        "version": 3
      },
      "file_extension": ".py",
      "mimetype": "text/x-python",
      "name": "python",
      "nbconvert_exporter": "python",
      "pygments_lexer": "ipython3",
      "version": "3.9.12"
    }
  },
  "nbformat": 4,
  "nbformat_minor": 0
}
