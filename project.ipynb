{
  "cells": [
    {
      "cell_type": "code",
      "execution_count": 1,
      "metadata": {},
      "outputs": [],
      "source": [
        "# !pip install datasets\n",
        "# !pip install transformers[torch]\n",
        "# !pip install accelerate -U"
      ]
    },
    {
      "cell_type": "code",
      "execution_count": 2,
      "metadata": {
        "id": "Tb6JkaXPQ8c9"
      },
      "outputs": [
        {
          "name": "stderr",
          "output_type": "stream",
          "text": [
            "C:\\Users\\mpsta\\AppData\\Local\\Packages\\PythonSoftwareFoundation.Python.3.12_qbz5n2kfra8p0\\LocalCache\\local-packages\\Python312\\site-packages\\tqdm\\auto.py:21: TqdmWarning: IProgress not found. Please update jupyter and ipywidgets. See https://ipywidgets.readthedocs.io/en/stable/user_install.html\n",
            "  from .autonotebook import tqdm as notebook_tqdm\n"
          ]
        }
      ],
      "source": [
        "import torch\n",
        "from src.utils import *\n",
        "from src.models.BERT_Model_Phrase_Concatenation import *\n",
        "from src.models.BERT_Model_Phrase_Extraction import *\n",
        "from src.models.baseline import Baseline\n",
        "from datasets import concatenate_datasets\n",
        "from transformers import DefaultDataCollator, AutoTokenizer, TrainingArguments, Trainer"
      ]
    },
    {
      "cell_type": "code",
      "execution_count": 3,
      "metadata": {
        "colab": {
          "base_uri": "https://localhost:8080/"
        },
        "id": "R2MsBHCqQ8c_",
        "outputId": "4940d008-c6d5-494c-907a-8198446a460b"
      },
      "outputs": [
        {
          "name": "stdout",
          "output_type": "stream",
          "text": [
            "2.2.2+cu121\n",
            "True\n"
          ]
        }
      ],
      "source": [
        "RANDOM_SEED = 42\n",
        "set_seeds(RANDOM_SEED)\n",
        "\n",
        "print(torch.__version__)\n",
        "print(torch.cuda.is_available())"
      ]
    },
    {
      "cell_type": "code",
      "execution_count": 4,
      "metadata": {},
      "outputs": [
        {
          "name": "stdout",
          "output_type": "stream",
          "text": [
            "Current work directory: d:\\bologna\\codes\\ediref\n"
          ]
        },
        {
          "data": {
            "text/html": [
              "<div>\n",
              "<style scoped>\n",
              "    .dataframe tbody tr th:only-of-type {\n",
              "        vertical-align: middle;\n",
              "    }\n",
              "\n",
              "    .dataframe tbody tr th {\n",
              "        vertical-align: top;\n",
              "    }\n",
              "\n",
              "    .dataframe thead th {\n",
              "        text-align: right;\n",
              "    }\n",
              "</style>\n",
              "<table border=\"1\" class=\"dataframe\">\n",
              "  <thead>\n",
              "    <tr style=\"text-align: right;\">\n",
              "      <th></th>\n",
              "      <th>episode</th>\n",
              "      <th>emotions</th>\n",
              "      <th>utterances</th>\n",
              "      <th>triggers</th>\n",
              "      <th>emotions_id</th>\n",
              "    </tr>\n",
              "  </thead>\n",
              "  <tbody>\n",
              "    <tr>\n",
              "      <th>0</th>\n",
              "      <td>utterance_0</td>\n",
              "      <td>[neutral, neutral, neutral, neutral, surprise]</td>\n",
              "      <td>[also I was the point person on my company's t...</td>\n",
              "      <td>[0, 0, 0, 1, 0]</td>\n",
              "      <td>[6, 6, 6, 6, 5]</td>\n",
              "    </tr>\n",
              "    <tr>\n",
              "      <th>1</th>\n",
              "      <td>utterance_1</td>\n",
              "      <td>[neutral, neutral, neutral, neutral, surprise,...</td>\n",
              "      <td>[also I was the point person on my company's t...</td>\n",
              "      <td>[0, 0, 0, 0, 0, 1, 0]</td>\n",
              "      <td>[6, 6, 6, 6, 5, 6, 6]</td>\n",
              "    </tr>\n",
              "    <tr>\n",
              "      <th>2</th>\n",
              "      <td>utterance_2</td>\n",
              "      <td>[neutral, neutral, neutral, neutral, surprise,...</td>\n",
              "      <td>[also I was the point person on my company's t...</td>\n",
              "      <td>[0, 0, 0, 0, 0, 0, 0, 1, 0, 1, 0]</td>\n",
              "      <td>[6, 6, 6, 6, 5, 6, 6, 6, 6, 6, 3]</td>\n",
              "    </tr>\n",
              "    <tr>\n",
              "      <th>3</th>\n",
              "      <td>utterance_3</td>\n",
              "      <td>[neutral, neutral, neutral, neutral, surprise,...</td>\n",
              "      <td>[also I was the point person on my company's t...</td>\n",
              "      <td>[0, 0, 0, 0, 0, 0, 0, 0, 0, 0, 0, 1, 0]</td>\n",
              "      <td>[6, 6, 6, 6, 5, 6, 6, 6, 6, 6, 3, 6, 5]</td>\n",
              "    </tr>\n",
              "    <tr>\n",
              "      <th>4</th>\n",
              "      <td>utterance_4</td>\n",
              "      <td>[surprise, sadness, surprise, fear]</td>\n",
              "      <td>[But then who? The waitress I went out with la...</td>\n",
              "      <td>[0, 0, 1, 0]</td>\n",
              "      <td>[5, 0, 5, 3]</td>\n",
              "    </tr>\n",
              "    <tr>\n",
              "      <th>...</th>\n",
              "      <td>...</td>\n",
              "      <td>...</td>\n",
              "      <td>...</td>\n",
              "      <td>...</td>\n",
              "      <td>...</td>\n",
              "    </tr>\n",
              "    <tr>\n",
              "      <th>3995</th>\n",
              "      <td>utterance_3995</td>\n",
              "      <td>[neutral, joy, neutral, neutral, surprise, dis...</td>\n",
              "      <td>[Hey., Hey!, So how was Joan?, I broke up with...</td>\n",
              "      <td>[0, 0, 0, 0, 0, 0, 0, 0, 0, 0, 0, 1]</td>\n",
              "      <td>[6, 2, 6, 6, 5, 1, 6, 1, 5, 6, 6, 1]</td>\n",
              "    </tr>\n",
              "    <tr>\n",
              "      <th>3996</th>\n",
              "      <td>utterance_3996</td>\n",
              "      <td>[neutral, joy, neutral, neutral, surprise, dis...</td>\n",
              "      <td>[Hey., Hey!, So how was Joan?, I broke up with...</td>\n",
              "      <td>[0, 0, 0, 0, 0, 0, 0, 0, 0, 0, 0, 0, 0, 1]</td>\n",
              "      <td>[6, 2, 6, 6, 5, 1, 6, 1, 5, 6, 6, 1, 1, 6]</td>\n",
              "    </tr>\n",
              "    <tr>\n",
              "      <th>3997</th>\n",
              "      <td>utterance_3997</td>\n",
              "      <td>[neutral, joy, neutral, neutral, surprise, dis...</td>\n",
              "      <td>[Hey., Hey!, So how was Joan?, I broke up with...</td>\n",
              "      <td>[0, 0, 0, 0, 0, 0, 0, 0, 0, 0, 0, 0, 0, 1, 0]</td>\n",
              "      <td>[6, 2, 6, 6, 5, 1, 6, 1, 5, 6, 6, 1, 1, 6, 6]</td>\n",
              "    </tr>\n",
              "    <tr>\n",
              "      <th>3998</th>\n",
              "      <td>utterance_3998</td>\n",
              "      <td>[neutral, joy, neutral, neutral, surprise, dis...</td>\n",
              "      <td>[Hey., Hey!, So how was Joan?, I broke up with...</td>\n",
              "      <td>[0, 0, 0, 0, 0, 0, 0, 0, 0, 0, 0, 0, 0, 0, 1, 0]</td>\n",
              "      <td>[6, 2, 6, 6, 5, 1, 6, 1, 5, 6, 6, 1, 1, 6, 6, 5]</td>\n",
              "    </tr>\n",
              "    <tr>\n",
              "      <th>3999</th>\n",
              "      <td>utterance_3999</td>\n",
              "      <td>[neutral, joy, neutral, neutral, surprise, dis...</td>\n",
              "      <td>[Hey., Hey!, So how was Joan?, I broke up with...</td>\n",
              "      <td>[0, 0, 0, 0, 0, 0, 0, 0, 0, 0, 0, 0, 0, 0, 0, ...</td>\n",
              "      <td>[6, 2, 6, 6, 5, 1, 6, 1, 5, 6, 6, 1, 1, 6, 6, ...</td>\n",
              "    </tr>\n",
              "  </tbody>\n",
              "</table>\n",
              "<p>4000 rows × 5 columns</p>\n",
              "</div>"
            ],
            "text/plain": [
              "             episode                                           emotions  \\\n",
              "0        utterance_0     [neutral, neutral, neutral, neutral, surprise]   \n",
              "1        utterance_1  [neutral, neutral, neutral, neutral, surprise,...   \n",
              "2        utterance_2  [neutral, neutral, neutral, neutral, surprise,...   \n",
              "3        utterance_3  [neutral, neutral, neutral, neutral, surprise,...   \n",
              "4        utterance_4                [surprise, sadness, surprise, fear]   \n",
              "...              ...                                                ...   \n",
              "3995  utterance_3995  [neutral, joy, neutral, neutral, surprise, dis...   \n",
              "3996  utterance_3996  [neutral, joy, neutral, neutral, surprise, dis...   \n",
              "3997  utterance_3997  [neutral, joy, neutral, neutral, surprise, dis...   \n",
              "3998  utterance_3998  [neutral, joy, neutral, neutral, surprise, dis...   \n",
              "3999  utterance_3999  [neutral, joy, neutral, neutral, surprise, dis...   \n",
              "\n",
              "                                             utterances  \\\n",
              "0     [also I was the point person on my company's t...   \n",
              "1     [also I was the point person on my company's t...   \n",
              "2     [also I was the point person on my company's t...   \n",
              "3     [also I was the point person on my company's t...   \n",
              "4     [But then who? The waitress I went out with la...   \n",
              "...                                                 ...   \n",
              "3995  [Hey., Hey!, So how was Joan?, I broke up with...   \n",
              "3996  [Hey., Hey!, So how was Joan?, I broke up with...   \n",
              "3997  [Hey., Hey!, So how was Joan?, I broke up with...   \n",
              "3998  [Hey., Hey!, So how was Joan?, I broke up with...   \n",
              "3999  [Hey., Hey!, So how was Joan?, I broke up with...   \n",
              "\n",
              "                                               triggers  \\\n",
              "0                                       [0, 0, 0, 1, 0]   \n",
              "1                                 [0, 0, 0, 0, 0, 1, 0]   \n",
              "2                     [0, 0, 0, 0, 0, 0, 0, 1, 0, 1, 0]   \n",
              "3               [0, 0, 0, 0, 0, 0, 0, 0, 0, 0, 0, 1, 0]   \n",
              "4                                          [0, 0, 1, 0]   \n",
              "...                                                 ...   \n",
              "3995               [0, 0, 0, 0, 0, 0, 0, 0, 0, 0, 0, 1]   \n",
              "3996         [0, 0, 0, 0, 0, 0, 0, 0, 0, 0, 0, 0, 0, 1]   \n",
              "3997      [0, 0, 0, 0, 0, 0, 0, 0, 0, 0, 0, 0, 0, 1, 0]   \n",
              "3998   [0, 0, 0, 0, 0, 0, 0, 0, 0, 0, 0, 0, 0, 0, 1, 0]   \n",
              "3999  [0, 0, 0, 0, 0, 0, 0, 0, 0, 0, 0, 0, 0, 0, 0, ...   \n",
              "\n",
              "                                            emotions_id  \n",
              "0                                       [6, 6, 6, 6, 5]  \n",
              "1                                 [6, 6, 6, 6, 5, 6, 6]  \n",
              "2                     [6, 6, 6, 6, 5, 6, 6, 6, 6, 6, 3]  \n",
              "3               [6, 6, 6, 6, 5, 6, 6, 6, 6, 6, 3, 6, 5]  \n",
              "4                                          [5, 0, 5, 3]  \n",
              "...                                                 ...  \n",
              "3995               [6, 2, 6, 6, 5, 1, 6, 1, 5, 6, 6, 1]  \n",
              "3996         [6, 2, 6, 6, 5, 1, 6, 1, 5, 6, 6, 1, 1, 6]  \n",
              "3997      [6, 2, 6, 6, 5, 1, 6, 1, 5, 6, 6, 1, 1, 6, 6]  \n",
              "3998   [6, 2, 6, 6, 5, 1, 6, 1, 5, 6, 6, 1, 1, 6, 6, 5]  \n",
              "3999  [6, 2, 6, 6, 5, 1, 6, 1, 5, 6, 6, 1, 1, 6, 6, ...  \n",
              "\n",
              "[4000 rows x 5 columns]"
            ]
          },
          "execution_count": 4,
          "metadata": {},
          "output_type": "execute_result"
        }
      ],
      "source": [
        "url = \"https://drive.google.com/uc?export=download&id=1wVNU2XvvhqjaGXZM-JLJwOt97gt4g9j2\"\n",
        "dataset_name = \"MELD_train_efr.json\"\n",
        "\n",
        "df_manager = DataframeManager(url, dataset_name)\n",
        "\n",
        "df = df_manager.produce_df()\n",
        "df"
      ]
    },
    {
      "cell_type": "code",
      "execution_count": 5,
      "metadata": {
        "id": "aYeINdxlLlYW",
        "outputId": "08317111-0a25-4b78-eac1-f6609fa7ee4b"
      },
      "outputs": [
        {
          "name": "stdout",
          "output_type": "stream",
          "text": [
            "(3200, 5)\n",
            "(400, 5)\n",
            "(400, 5)\n"
          ]
        },
        {
          "name": "stderr",
          "output_type": "stream",
          "text": [
            "C:\\Users\\mpsta\\AppData\\Local\\Packages\\PythonSoftwareFoundation.Python.3.12_qbz5n2kfra8p0\\LocalCache\\local-packages\\Python312\\site-packages\\numpy\\core\\fromnumeric.py:59: FutureWarning: 'DataFrame.swapaxes' is deprecated and will be removed in a future version. Please use 'DataFrame.transpose' instead.\n",
            "  return bound(*args, **kwds)\n"
          ]
        }
      ],
      "source": [
        "train_df, val_df, test_df = df_manager.split_df(RANDOM_SEED)\n",
        "print(train_df.shape)\n",
        "print(val_df.shape)\n",
        "print(test_df.shape)"
      ]
    },
    {
      "cell_type": "code",
      "execution_count": 6,
      "metadata": {
        "colab": {
          "base_uri": "https://localhost:8080/",
          "height": 422
        },
        "id": "9TNd9SBUa60R",
        "outputId": "1ee58b4f-f7be-4347-8798-26bdcc1dd36c"
      },
      "outputs": [
        {
          "name": "stderr",
          "output_type": "stream",
          "text": [
            "d:\\bologna\\codes\\ediref\\src\\utils.py:267: FutureWarning: pandas.value_counts is deprecated and will be removed in a future version. Use pd.Series(obj).value_counts() instead.\n",
            "  return pd.DataFrame({key: pd.value_counts(values)\n",
            "d:\\bologna\\codes\\ediref\\src\\utils.py:267: FutureWarning: value_counts with argument that is not not a Series, Index, ExtensionArray, or np.ndarray is deprecated and will raise in a future version.\n",
            "  return pd.DataFrame({key: pd.value_counts(values)\n",
            "d:\\bologna\\codes\\ediref\\src\\utils.py:267: FutureWarning: pandas.value_counts is deprecated and will be removed in a future version. Use pd.Series(obj).value_counts() instead.\n",
            "  return pd.DataFrame({key: pd.value_counts(values)\n",
            "d:\\bologna\\codes\\ediref\\src\\utils.py:267: FutureWarning: value_counts with argument that is not not a Series, Index, ExtensionArray, or np.ndarray is deprecated and will raise in a future version.\n",
            "  return pd.DataFrame({key: pd.value_counts(values)\n",
            "d:\\bologna\\codes\\ediref\\src\\utils.py:267: FutureWarning: pandas.value_counts is deprecated and will be removed in a future version. Use pd.Series(obj).value_counts() instead.\n",
            "  return pd.DataFrame({key: pd.value_counts(values)\n",
            "d:\\bologna\\codes\\ediref\\src\\utils.py:267: FutureWarning: value_counts with argument that is not not a Series, Index, ExtensionArray, or np.ndarray is deprecated and will raise in a future version.\n",
            "  return pd.DataFrame({key: pd.value_counts(values)\n"
          ]
        },
        {
          "data": {
            "image/png": "[encoded data removed]",
            "text/plain": [
              "<Figure size 1200x400 with 3 Axes>"
            ]
          },
          "metadata": {},
          "output_type": "display_data"
        }
      ],
      "source": [
        "df_manager.plot_emotion_distribution(train_df, val_df, test_df)"
      ]
    },
    {
      "cell_type": "code",
      "execution_count": 7,
      "metadata": {
        "id": "kOwxAe3qLlYZ"
      },
      "outputs": [],
      "source": [
        "model_card = 'bert-base-uncased'\n",
        "tokenizer = AutoTokenizer.from_pretrained(model_card)\n",
        "\n",
        "model_dir = \"./model_dir/\"+model_card+\"/\"\n",
        "data_collator = DefaultDataCollator()"
      ]
    },
    {
      "cell_type": "code",
      "execution_count": 8,
      "metadata": {
        "id": "-UN6VqNKQ8dR",
        "outputId": "327af93c-801b-40fc-e9fc-49c93fad93ad"
      },
      "outputs": [
        {
          "name": "stderr",
          "output_type": "stream",
          "text": [
            "C:\\Users\\mpsta\\AppData\\Local\\Packages\\PythonSoftwareFoundation.Python.3.12_qbz5n2kfra8p0\\LocalCache\\local-packages\\Python312\\site-packages\\numpy\\core\\fromnumeric.py:59: FutureWarning: 'DataFrame.swapaxes' is deprecated and will be removed in a future version. Please use 'DataFrame.transpose' instead.\n",
            "  return bound(*args, **kwds)\n"
          ]
        }
      ],
      "source": [
        "train_data_tokenized, val_data_tokenized, test_data_tokenized = df_manager.produce_dataset(tokenizer, RANDOM_SEED)"
      ]
    },
    {
      "cell_type": "code",
      "execution_count": 9,
      "metadata": {},
      "outputs": [
        {
          "name": "stdout",
          "output_type": "stream",
          "text": [
            "58\n",
            "8\n",
            "27\n"
          ]
        }
      ],
      "source": [
        "print(len(train_data_tokenized))\n",
        "print(len(val_data_tokenized))\n",
        "print(len(test_data_tokenized))"
      ]
    },
    {
      "cell_type": "code",
      "execution_count": 10,
      "metadata": {},
      "outputs": [
        {
          "name": "stdout",
          "output_type": "stream",
          "text": [
            "2\n",
            "[0, 4]\n"
          ]
        }
      ],
      "source": [
        "print(len(train_df['utterances'][555]))\n",
        "print(train_df['emotions_id'][555])"
      ]
    },
    {
      "cell_type": "markdown",
      "metadata": {
        "id": "dJWSxdXFQ8dT"
      },
      "source": [
        "Models"
      ]
    },
    {
      "cell_type": "code",
      "execution_count": 11,
      "metadata": {
        "id": "OSNzNVyiLlYb"
      },
      "outputs": [],
      "source": [
        "seeds = [666, 55, 42]\n",
        "\n",
        "X = train_data_tokenized['dialogue_index']\n",
        "Y = train_data_tokenized.select_columns(['triggers', 'emotions_id'])\n",
        "seed_table = {'majority': {}, 'uniform': {},\n",
        "              'model_BERT': {}, 'model_BERT_Freezed': {}}\n",
        "\n",
        "id2emotion = df_manager.get_id2emotion()\n",
        "random_clf = Baseline(\"uniform\", X, Y)\n",
        "majority_clf = Baseline(\"most_frequent\", X, Y)\n",
        "for seed in seeds:\n",
        "    seed_table[\"uniform\"][seed] = random_clf.score()\n",
        "    seed_table[\"majority\"][seed] = majority_clf.score()"
      ]
    },
    {
      "cell_type": "code",
      "execution_count": 12,
      "metadata": {
        "id": "Tx520nvqLlYb",
        "outputId": "6c7d3294-88ee-44a5-c995-22a56d17676b"
      },
      "outputs": [
        {
          "data": {
            "text/plain": [
              "{'majority': {666: {'accuracy_emotions': 0.1724,\n",
              "   'accuracy_triggers': 0.0,\n",
              "   'f1scores_emotions_instance': 0.0405,\n",
              "   'f1scores_emotions_flatten': 0.042,\n",
              "   'f1scores_triggers_instance': 0.0,\n",
              "   'f1scores_triggers_flatten': 0.0},\n",
              "  55: {'accuracy_emotions': 0.1724,\n",
              "   'accuracy_triggers': 0.0,\n",
              "   'f1scores_emotions_instance': 0.0405,\n",
              "   'f1scores_emotions_flatten': 0.042,\n",
              "   'f1scores_triggers_instance': 0.0,\n",
              "   'f1scores_triggers_flatten': 0.0},\n",
              "  42: {'accuracy_emotions': 0.1724,\n",
              "   'accuracy_triggers': 0.0,\n",
              "   'f1scores_emotions_instance': 0.0405,\n",
              "   'f1scores_emotions_flatten': 0.042,\n",
              "   'f1scores_triggers_instance': 0.0,\n",
              "   'f1scores_triggers_flatten': 0.0}},\n",
              " 'uniform': {666: {'accuracy_emotions': 0.0862,\n",
              "   'accuracy_triggers': 0.1724,\n",
              "   'f1scores_emotions_instance': 0.0329,\n",
              "   'f1scores_emotions_flatten': 0.0395,\n",
              "   'f1scores_triggers_instance': 0.2378,\n",
              "   'f1scores_triggers_flatten': 0.3064},\n",
              "  55: {'accuracy_emotions': 0.1379,\n",
              "   'accuracy_triggers': 0.0517,\n",
              "   'f1scores_emotions_instance': 0.051,\n",
              "   'f1scores_emotions_flatten': 0.0508,\n",
              "   'f1scores_triggers_instance': 0.1033,\n",
              "   'f1scores_triggers_flatten': 0.1311},\n",
              "  42: {'accuracy_emotions': 0.1034,\n",
              "   'accuracy_triggers': 0.1724,\n",
              "   'f1scores_emotions_instance': 0.0312,\n",
              "   'f1scores_emotions_flatten': 0.0447,\n",
              "   'f1scores_triggers_instance': 0.212,\n",
              "   'f1scores_triggers_flatten': 0.2481}},\n",
              " 'model_BERT': {},\n",
              " 'model_BERT_Freezed': {}}"
            ]
          },
          "execution_count": 12,
          "metadata": {},
          "output_type": "execute_result"
        }
      ],
      "source": [
        "seed_table"
      ]
    },
    {
      "cell_type": "code",
      "execution_count": 13,
      "metadata": {
        "id": "wTA_dWYFLlYb"
      },
      "outputs": [],
      "source": [
        "def init_pos_weight(data, labels, class_weights=True, factor=1):\n",
        "    if class_weights:\n",
        "        pos_weight = list()\n",
        "        emotions_counts = {label:0 for label in df_manager.unique_emotions}\n",
        "        for sentence_emotions in data[df_manager.column_emotions_id]:\n",
        "            for emotion in sentence_emotions:\n",
        "                emotions_counts[emotion] = emotions_counts[emotion] + 1\n",
        "        sum_of_all_emotions = sum(emotions_counts.values())\n",
        "        for label in labels:\n",
        "            w = (sum_of_all_emotions-emotions_counts[label])/emotions_counts[label]   # num_neg/num_pos for each class as specified in the documentation for BCEWithLogitsLoss\n",
        "            if w > 1:                       # increase recall of minority classes\n",
        "                w*=factor                   # factor to magnify the weight (not standard)\n",
        "                pos_weight.append(w)\n",
        "            else:\n",
        "                pos_weight.append(1)        # non minority classes are not influenced (pos_weight = 1)\n",
        "        return torch.tensor(pos_weight).to(\"cuda\")\n",
        "    else:\n",
        "        return torch.ones([len(labels)]).to(\"cuda\")"
      ]
    },
    {
      "cell_type": "code",
      "execution_count": 14,
      "metadata": {},
      "outputs": [],
      "source": [
        "model_B = BERT_Model_Phrase_Concatenation(df_manager)\n",
        "def try_model_Concatenation(batch_start, batch_end):\n",
        "        outputs_text = model_B(utterance_ids=train_data_tokenized[batch_start:batch_end]['utterance_ids'],\n",
        "                utterance_mask=train_data_tokenized[batch_start:batch_end]['utterance_mask'],\n",
        "                dialogue_ids=train_data_tokenized[batch_start:batch_end]['dialogue_ids'],\n",
        "                dialogue_mask=train_data_tokenized[batch_start:batch_end]['dialogue_mask'],\n",
        "                token_type_ids=None)\n",
        "        return outputs_text\n",
        "#outputs_text = try_model_Concatenation(0, 30)\n",
        "#print(outputs_text['emotion_logits'].shape)\n",
        "#print(outputs_text['trigger_logits'].shape)"
      ]
    },
    {
      "cell_type": "code",
      "execution_count": 15,
      "metadata": {
        "id": "ztKhP1pmLlYc"
      },
      "outputs": [],
      "source": [
        "class MultiLabelTrainer(Trainer):\n",
        "    def __init__(self, pos_weight, **kwargs):\n",
        "        self.pos_weight = pos_weight\n",
        "        super().__init__(**kwargs)\n",
        "\n",
        "    def compute_loss(self, model, inputs, return_outputs=False):\n",
        "        emotions_true = inputs[\"emotions_id_one_hot_encoding\"].to(\"cuda\")\n",
        "        triggers_true = inputs[\"triggers\"].float().unsqueeze(1).to(\"cuda\")\n",
        "\n",
        "        result = model(**inputs)\n",
        "        \n",
        "        emotion_logits = result['emotion_logits'].to(\"cuda\")\n",
        "        trigger_logits = result['trigger_logits'].to(\"cuda\")\n",
        "        \n",
        "        loss_fct_emotions = torch.nn.BCEWithLogitsLoss(pos_weight=self.pos_weight)        \n",
        "        loss_fct_triggers = torch.nn.BCEWithLogitsLoss()\n",
        "\n",
        "        loss_triggers = loss_fct_triggers(trigger_logits, triggers_true)\n",
        "        loss_emotions = loss_fct_emotions(emotion_logits, emotions_true.float())\n",
        "\n",
        "        loss = loss_emotions + loss_triggers\n",
        "        return (loss, {'emotion_logits': emotion_logits, 'trigger_logits': trigger_logits}) if return_outputs else loss\n",
        "\n",
        "def get_trainer(model, train, val, model_dir, class_weights=True, batch_size=1, epochs=20):\n",
        "    training_args = TrainingArguments(\n",
        "        output_dir=model_dir,\n",
        "        learning_rate=2e-5,\n",
        "        per_device_train_batch_size=batch_size,\n",
        "        per_device_eval_batch_size=batch_size,\n",
        "        num_train_epochs=epochs,\n",
        "        weight_decay=0.01,\n",
        "        evaluation_strategy=\"epoch\",\n",
        "        save_strategy=\"epoch\",\n",
        "        lr_scheduler_type=\"cosine_with_restarts\",\n",
        "        save_total_limit = 1,\n",
        "        load_best_model_at_end=True,\n",
        "        metric_for_best_model='f1scores_emotions_instance',\n",
        "        report_to='none',\n",
        "        label_names=[\"emotions_id\", \"triggers\", \"dialogue_index\", \"emotions_id_one_hot_encoding\"],\n",
        "    )\n",
        "    pos_weight = init_pos_weight(concatenate_datasets([train_data_tokenized, val_data_tokenized, test_data_tokenized]), df_manager.emotion2id.keys(), False)\n",
        "    trainer = MultiLabelTrainer(\n",
        "        pos_weight=pos_weight,\n",
        "        model=model,\n",
        "        args=training_args,\n",
        "        train_dataset=train,\n",
        "        eval_dataset=val,\n",
        "        tokenizer=tokenizer,\n",
        "        data_collator=data_collator,\n",
        "        compute_metrics=compute_metrics_for_trainer,\n",
        "    )\n",
        "\n",
        "    return trainer"
      ]
    },
    {
      "cell_type": "code",
      "execution_count": 16,
      "metadata": {
        "id": "0FNnputQLlYc",
        "outputId": "a24d3ea2-5984-4c53-b455-c97f8224d9f7"
      },
      "outputs": [
        {
          "name": "stderr",
          "output_type": "stream",
          "text": [
            "C:\\Users\\mpsta\\AppData\\Local\\Packages\\PythonSoftwareFoundation.Python.3.12_qbz5n2kfra8p0\\LocalCache\\local-packages\\Python312\\site-packages\\accelerate\\accelerator.py:432: FutureWarning: Passing the following arguments to `Accelerator` is deprecated and will be removed in version 1.0 of Accelerate: dict_keys(['dispatch_batches', 'split_batches', 'even_batches', 'use_seedable_sampler']). Please pass an `accelerate.DataLoaderConfiguration` instead: \n",
            "dataloader_config = DataLoaderConfiguration(dispatch_batches=None, split_batches=False, even_batches=True, use_seedable_sampler=True)\n",
            "  warnings.warn(\n"
          ]
        },
        {
          "name": "stdout",
          "output_type": "stream",
          "text": [
            "Training BASE_MODEL with seed 666:\n"
          ]
        },
        {
          "name": "stderr",
          "output_type": "stream",
          "text": [
            "  0%|          | 0/580 [00:00<?, ?it/s]Could not estimate the number of tokens of the input, floating-point operations will not be computed\n",
            "                                                \n",
            " 10%|█         | 58/580 [00:09<01:19,  6.54it/s]"
          ]
        },
        {
          "name": "stdout",
          "output_type": "stream",
          "text": [
            "before =  (array([[3.7695054e-04, 1.7802056e-04, 2.1880974e-04, 7.2865419e-05,\n",
            "        5.5733541e-05, 6.7003522e-05, 9.9903071e-01],\n",
            "       [3.8497444e-04, 1.9325920e-04, 2.3306040e-04, 7.6501972e-05,\n",
            "        5.3190499e-05, 6.4498941e-05, 9.9899453e-01],\n",
            "       [3.7630188e-04, 1.9636186e-04, 2.3159465e-04, 7.7094592e-05,\n",
            "        5.3656549e-05, 6.6178189e-05, 9.9899882e-01],\n",
            "       [3.7049418e-04, 1.7544038e-04, 2.1458739e-04, 6.6800632e-05,\n",
            "        5.6342880e-05, 6.3732972e-05, 9.9905258e-01],\n",
            "       [3.5577978e-04, 1.7092605e-04, 2.1254957e-04, 6.8909845e-05,\n",
            "        5.7589292e-05, 6.7701636e-05, 9.9906653e-01],\n",
            "       [3.8068389e-04, 1.9337636e-04, 2.3070144e-04, 7.2536888e-05,\n",
            "        5.4367632e-05, 6.6698813e-05, 9.9900168e-01],\n",
            "       [3.8395065e-04, 1.8289880e-04, 2.1672036e-04, 6.9376474e-05,\n",
            "        5.5714689e-05, 6.6988076e-05, 9.9902427e-01],\n",
            "       [3.7049418e-04, 1.7544038e-04, 2.1458739e-04, 6.6800632e-05,\n",
            "        5.6342880e-05, 6.3732972e-05, 9.9905258e-01]], dtype=float32), array([[0.0003073 ],\n",
            "       [0.00031718],\n",
            "       [0.0003116 ],\n",
            "       [0.00031052],\n",
            "       [0.00030747],\n",
            "       [0.00030871],\n",
            "       [0.00030671],\n",
            "       [0.00031052]], dtype=float32))\n",
            "after =  ([6, 6, 6, 6, 6, 6, 6, 6], [False, False, False, False, False, False, False, False])\n",
            "{'eval_loss': 1.4035570621490479, 'eval_accuracy_emotions': 0.5, 'eval_accuracy_triggers': 0.75, 'eval_f1scores_emotions_instance': 0.0893, 'eval_f1scores_emotions_flatten': 0.0952, 'eval_f1scores_triggers_instance': 0.4222, 'eval_f1scores_triggers_flatten': 0.4286, 'eval_runtime': 0.3296, 'eval_samples_per_second': 24.272, 'eval_steps_per_second': 24.272, 'epoch': 1.0}\n"
          ]
        },
        {
          "name": "stderr",
          "output_type": "stream",
          "text": [
            "                                                 \n",
            " 20%|██        | 116/580 [00:20<01:13,  6.34it/s]"
          ]
        },
        {
          "name": "stdout",
          "output_type": "stream",
          "text": [
            "before =  (array([[7.93257786e-04, 3.33290722e-04, 4.35494003e-04, 1.42975303e-04,\n",
            "        1.05185885e-04, 1.18324242e-04, 9.98071611e-01],\n",
            "       [8.23378330e-04, 3.66405817e-04, 4.71347914e-04, 1.52161010e-04,\n",
            "        1.02288657e-04, 1.15705348e-04, 9.97968733e-01],\n",
            "       [8.05683376e-04, 3.72105889e-04, 4.68219980e-04, 1.53295754e-04,\n",
            "        1.03093742e-04, 1.18551572e-04, 9.97978985e-01],\n",
            "       [7.82770687e-04, 3.29898496e-04, 4.29319072e-04, 1.32036497e-04,\n",
            "        1.07006905e-04, 1.13063536e-04, 9.98105884e-01],\n",
            "       [7.43821147e-04, 3.18058446e-04, 4.20117896e-04, 1.34391143e-04,\n",
            "        1.07989290e-04, 1.18583011e-04, 9.98156965e-01],\n",
            "       [8.10103898e-04, 3.64824606e-04, 4.63941018e-04, 1.44015023e-04,\n",
            "        1.04007981e-04, 1.18968463e-04, 9.97994065e-01],\n",
            "       [8.11185280e-04, 3.43442895e-04, 4.33502515e-04, 1.37064606e-04,\n",
            "        1.05889150e-04, 1.18798045e-04, 9.98050094e-01],\n",
            "       [7.82770687e-04, 3.29898496e-04, 4.29319072e-04, 1.32036497e-04,\n",
            "        1.07006905e-04, 1.13063536e-04, 9.98105884e-01]], dtype=float32), array([[0.00012551],\n",
            "       [0.00012805],\n",
            "       [0.00012613],\n",
            "       [0.00012602],\n",
            "       [0.00012586],\n",
            "       [0.00012516],\n",
            "       [0.00012482],\n",
            "       [0.00012602]], dtype=float32))\n",
            "after =  ([6, 6, 6, 6, 6, 6, 6, 6], [False, False, False, False, False, False, False, False])\n",
            "{'eval_loss': 1.403538703918457, 'eval_accuracy_emotions': 0.5, 'eval_accuracy_triggers': 0.75, 'eval_f1scores_emotions_instance': 0.0893, 'eval_f1scores_emotions_flatten': 0.0952, 'eval_f1scores_triggers_instance': 0.4222, 'eval_f1scores_triggers_flatten': 0.4286, 'eval_runtime': 0.4213, 'eval_samples_per_second': 18.991, 'eval_steps_per_second': 18.991, 'epoch': 2.0}\n"
          ]
        },
        {
          "name": "stderr",
          "output_type": "stream",
          "text": [
            "                                                 \n",
            " 30%|███       | 174/580 [00:31<00:59,  6.86it/s]"
          ]
        },
        {
          "name": "stdout",
          "output_type": "stream",
          "text": [
            "before =  (array([[2.4564376e-03, 6.2781433e-04, 9.9124154e-04, 2.9321379e-04,\n",
            "        2.0141047e-04, 2.2428008e-04, 9.9520564e-01],\n",
            "       [2.6180227e-03, 7.0204912e-04, 1.0945374e-03, 3.1793246e-04,\n",
            "        1.9967367e-04, 2.2308285e-04, 9.9484468e-01],\n",
            "       [2.5633636e-03, 7.1358273e-04, 1.0878368e-03, 3.2034985e-04,\n",
            "        2.0124484e-04, 2.2851008e-04, 9.9488515e-01],\n",
            "       [2.4246818e-03, 6.2154396e-04, 9.7867067e-04, 2.7072316e-04,\n",
            "        2.0528525e-04, 2.1456870e-04, 9.9528450e-01],\n",
            "       [2.2717530e-03, 5.9398136e-04, 9.4696379e-04, 2.7279882e-04,\n",
            "        2.0509932e-04, 2.2270286e-04, 9.9548656e-01],\n",
            "       [2.5443225e-03, 6.9303613e-04, 1.0676445e-03, 2.9839904e-04,\n",
            "        2.0130184e-04, 2.2776795e-04, 9.9496764e-01],\n",
            "       [2.5144408e-03, 6.4715935e-04, 9.8853291e-04, 2.8135837e-04,\n",
            "        2.0340357e-04, 2.2566099e-04, 9.9513948e-01],\n",
            "       [2.4246818e-03, 6.2154396e-04, 9.7867067e-04, 2.7072316e-04,\n",
            "        2.0528525e-04, 2.1456870e-04, 9.9528450e-01]], dtype=float32), array([[8.157796e-05],\n",
            "       [8.319379e-05],\n",
            "       [8.183601e-05],\n",
            "       [8.189847e-05],\n",
            "       [8.169115e-05],\n",
            "       [8.138472e-05],\n",
            "       [8.127567e-05],\n",
            "       [8.189847e-05]], dtype=float32))\n",
            "after =  ([6, 6, 6, 6, 6, 6, 6, 6], [False, False, False, False, False, False, False, False])\n",
            "{'eval_loss': 1.4036147594451904, 'eval_accuracy_emotions': 0.5, 'eval_accuracy_triggers': 0.75, 'eval_f1scores_emotions_instance': 0.0893, 'eval_f1scores_emotions_flatten': 0.0952, 'eval_f1scores_triggers_instance': 0.4222, 'eval_f1scores_triggers_flatten': 0.4286, 'eval_runtime': 0.4038, 'eval_samples_per_second': 19.814, 'eval_steps_per_second': 19.814, 'epoch': 3.0}\n"
          ]
        },
        {
          "name": "stderr",
          "output_type": "stream",
          "text": [
            "                                                 \n",
            " 40%|████      | 232/580 [00:42<00:49,  6.98it/s]"
          ]
        },
        {
          "name": "stdout",
          "output_type": "stream",
          "text": [
            "before =  (array([[8.3756112e-03, 1.1665733e-03, 3.3609408e-03, 7.1868778e-04,\n",
            "        4.4685983e-04, 4.7541814e-04, 9.8545581e-01],\n",
            "       [9.3310336e-03, 1.3363131e-03, 3.8354078e-03, 8.0420129e-04,\n",
            "        4.5689964e-04, 4.8607844e-04, 9.8375016e-01],\n",
            "       [9.2931790e-03, 1.3723104e-03, 3.8516878e-03, 8.1884320e-04,\n",
            "        4.6421253e-04, 5.0117431e-04, 9.8369861e-01],\n",
            "       [7.6730121e-03, 1.1030613e-03, 3.1767511e-03, 6.3184078e-04,\n",
            "        4.3749198e-04, 4.3952529e-04, 9.8653841e-01],\n",
            "       [7.4611851e-03, 1.0799250e-03, 3.1225639e-03, 6.5077457e-04,\n",
            "        4.4456596e-04, 4.6199560e-04, 9.8677897e-01],\n",
            "       [8.4323399e-03, 1.2619797e-03, 3.5716183e-03, 7.1892038e-04,\n",
            "        4.4173267e-04, 4.7776877e-04, 9.8509568e-01],\n",
            "       [7.9737529e-03, 1.1488589e-03, 3.2134852e-03, 6.5739598e-04,\n",
            "        4.3463113e-04, 4.6237351e-04, 9.8610955e-01],\n",
            "       [7.6730121e-03, 1.1030613e-03, 3.1767511e-03, 6.3184078e-04,\n",
            "        4.3749198e-04, 4.3952529e-04, 9.8653841e-01]], dtype=float32), array([[5.8264370e-05],\n",
            "       [5.9404167e-05],\n",
            "       [5.8285539e-05],\n",
            "       [5.8857095e-05],\n",
            "       [5.8365742e-05],\n",
            "       [5.8402547e-05],\n",
            "       [5.8444719e-05],\n",
            "       [5.8857095e-05]], dtype=float32))\n",
            "after =  ([6, 6, 6, 6, 6, 6, 6, 6], [False, False, False, False, False, False, False, False])\n",
            "{'eval_loss': 1.4038636684417725, 'eval_accuracy_emotions': 0.5, 'eval_accuracy_triggers': 0.75, 'eval_f1scores_emotions_instance': 0.0893, 'eval_f1scores_emotions_flatten': 0.0952, 'eval_f1scores_triggers_instance': 0.4222, 'eval_f1scores_triggers_flatten': 0.4286, 'eval_runtime': 0.3487, 'eval_samples_per_second': 22.94, 'eval_steps_per_second': 22.94, 'epoch': 4.0}\n"
          ]
        },
        {
          "name": "stderr",
          "output_type": "stream",
          "text": [
            "                                                 \n",
            " 50%|█████     | 290/580 [00:53<00:42,  6.82it/s]"
          ]
        },
        {
          "name": "stdout",
          "output_type": "stream",
          "text": [
            "before =  (array([[6.9831323e-04, 4.6961827e-04, 1.5313808e-03, 2.6232938e-04,\n",
            "        1.9941271e-04, 2.1500156e-04, 9.9662399e-01],\n",
            "       [7.3736743e-04, 5.1775592e-04, 1.6914080e-03, 2.8286822e-04,\n",
            "        1.9728187e-04, 2.1357043e-04, 9.9635977e-01],\n",
            "       [7.4480620e-04, 5.3619139e-04, 1.7140363e-03, 2.9086325e-04,\n",
            "        2.0168653e-04, 2.2118867e-04, 9.9629128e-01],\n",
            "       [6.1278575e-04, 4.3284206e-04, 1.4038689e-03, 2.2585464e-04,\n",
            "        1.9079527e-04, 1.9647591e-04, 9.9693727e-01],\n",
            "       [6.3442369e-04, 4.3987657e-04, 1.4315281e-03, 2.4096455e-04,\n",
            "        2.0008066e-04, 2.1192204e-04, 9.9684107e-01],\n",
            "       [6.6407997e-04, 4.9061002e-04, 1.5694229e-03, 2.5351375e-04,\n",
            "        1.9177327e-04, 2.1076096e-04, 9.9661982e-01],\n",
            "       [6.3243910e-04, 4.4860144e-04, 1.4153157e-03, 2.3318391e-04,\n",
            "        1.8865701e-04, 2.0532163e-04, 9.9687648e-01],\n",
            "       [6.1278575e-04, 4.3284206e-04, 1.4038689e-03, 2.2585464e-04,\n",
            "        1.9079527e-04, 1.9647591e-04, 9.9693727e-01]], dtype=float32), array([[7.4629570e-05],\n",
            "       [7.4886848e-05],\n",
            "       [7.3380550e-05],\n",
            "       [7.6983772e-05],\n",
            "       [7.6204655e-05],\n",
            "       [7.5387834e-05],\n",
            "       [7.6106320e-05],\n",
            "       [7.6983772e-05]], dtype=float32))\n",
            "after =  ([6, 6, 6, 6, 6, 6, 6, 6], [False, False, False, False, False, False, False, False])\n",
            "{'eval_loss': 1.4035272598266602, 'eval_accuracy_emotions': 0.5, 'eval_accuracy_triggers': 0.75, 'eval_f1scores_emotions_instance': 0.0893, 'eval_f1scores_emotions_flatten': 0.0952, 'eval_f1scores_triggers_instance': 0.4222, 'eval_f1scores_triggers_flatten': 0.4286, 'eval_runtime': 0.2792, 'eval_samples_per_second': 28.652, 'eval_steps_per_second': 28.652, 'epoch': 5.0}\n"
          ]
        },
        {
          "name": "stderr",
          "output_type": "stream",
          "text": [
            "                                                 \n",
            " 60%|██████    | 348/580 [01:04<00:30,  7.52it/s]"
          ]
        },
        {
          "name": "stdout",
          "output_type": "stream",
          "text": [
            "before =  (array([[1.1732969e-03, 6.7773031e-04, 2.9569669e-03, 4.2095163e-04,\n",
            "        2.9755494e-04, 3.1230156e-04, 9.9416107e-01],\n",
            "       [1.2565741e-03, 7.5686642e-04, 3.3200439e-03, 4.6045170e-04,\n",
            "        2.9814627e-04, 3.1383493e-04, 9.9359411e-01],\n",
            "       [1.2713803e-03, 7.8544806e-04, 3.3719451e-03, 4.7449555e-04,\n",
            "        3.0532278e-04, 3.2557469e-04, 9.9346584e-01],\n",
            "       [1.0203728e-03, 6.1897654e-04, 2.6822768e-03, 3.5835916e-04,\n",
            "        2.8244889e-04, 2.8302241e-04, 9.9475467e-01],\n",
            "       [1.0570551e-03, 6.2974554e-04, 2.7364660e-03, 3.8297620e-04,\n",
            "        2.9651198e-04, 3.0548757e-04, 9.9459177e-01],\n",
            "       [1.1174892e-03, 7.0836669e-04, 3.0353456e-03, 4.0712015e-04,\n",
            "        2.8649290e-04, 3.0641610e-04, 9.9413884e-01],\n",
            "       [1.0536120e-03, 6.4155489e-04, 2.7041347e-03, 3.7022468e-04,\n",
            "        2.7937433e-04, 2.9588991e-04, 9.9465525e-01],\n",
            "       [1.0203728e-03, 6.1897654e-04, 2.6822768e-03, 3.5835916e-04,\n",
            "        2.8244889e-04, 2.8302241e-04, 9.9475467e-01]], dtype=float32), array([[5.8420199e-05],\n",
            "       [5.8742145e-05],\n",
            "       [5.7573307e-05],\n",
            "       [6.0122766e-05],\n",
            "       [5.9521375e-05],\n",
            "       [5.8981608e-05],\n",
            "       [5.9481488e-05],\n",
            "       [6.0122766e-05]], dtype=float32))\n",
            "after =  ([6, 6, 6, 6, 6, 6, 6, 6], [False, False, False, False, False, False, False, False])\n",
            "{'eval_loss': 1.403551459312439, 'eval_accuracy_emotions': 0.5, 'eval_accuracy_triggers': 0.75, 'eval_f1scores_emotions_instance': 0.0893, 'eval_f1scores_emotions_flatten': 0.0952, 'eval_f1scores_triggers_instance': 0.4222, 'eval_f1scores_triggers_flatten': 0.4286, 'eval_runtime': 0.3809, 'eval_samples_per_second': 21.004, 'eval_steps_per_second': 21.004, 'epoch': 6.0}\n"
          ]
        },
        {
          "name": "stderr",
          "output_type": "stream",
          "text": [
            "                                                 \n",
            " 70%|███████   | 406/580 [01:15<00:22,  7.62it/s]"
          ]
        },
        {
          "name": "stdout",
          "output_type": "stream",
          "text": [
            "before =  (array([[3.5549821e-03, 1.7998471e-03, 1.5946757e-02, 1.3133348e-03,\n",
            "        7.3129259e-04, 7.4656669e-04, 9.7590715e-01],\n",
            "       [3.9035499e-03, 2.0612318e-03, 1.8472444e-02, 1.4777117e-03,\n",
            "        7.5089099e-04, 7.6802913e-04, 9.7256607e-01],\n",
            "       [3.9657741e-03, 2.1507454e-03, 1.8873392e-02, 1.5312374e-03,\n",
            "        7.7239762e-04, 8.0022105e-04, 9.7190619e-01],\n",
            "       [3.0346338e-03, 1.6122191e-03, 1.4136194e-02, 1.0897554e-03,\n",
            "        6.8228884e-04, 6.6400680e-04, 9.7878087e-01],\n",
            "       [3.1495655e-03, 1.6417940e-03, 1.4419762e-02, 1.1683288e-03,\n",
            "        7.1775814e-04, 7.1783277e-04, 9.7818494e-01],\n",
            "       [3.3929416e-03, 1.8829524e-03, 1.6418759e-02, 1.2716022e-03,\n",
            "        7.0574228e-04, 7.3408231e-04, 9.7559398e-01],\n",
            "       [3.1352290e-03, 1.6698004e-03, 1.4242576e-02, 1.1269175e-03,\n",
            "        6.7512470e-04, 6.9427863e-04, 9.7845614e-01],\n",
            "       [3.0346338e-03, 1.6122191e-03, 1.4136194e-02, 1.0897554e-03,\n",
            "        6.8228884e-04, 6.6400680e-04, 9.7878087e-01]], dtype=float32), array([[4.3162014e-05],\n",
            "       [4.4009619e-05],\n",
            "       [4.3184165e-05],\n",
            "       [4.4129101e-05],\n",
            "       [4.3638302e-05],\n",
            "       [4.3718774e-05],\n",
            "       [4.3701268e-05],\n",
            "       [4.4129101e-05]], dtype=float32))\n",
            "after =  ([6, 6, 6, 6, 6, 6, 6, 6], [False, False, False, False, False, False, False, False])\n",
            "{'eval_loss': 1.4036701917648315, 'eval_accuracy_emotions': 0.5, 'eval_accuracy_triggers': 0.75, 'eval_f1scores_emotions_instance': 0.0893, 'eval_f1scores_emotions_flatten': 0.0952, 'eval_f1scores_triggers_instance': 0.4222, 'eval_f1scores_triggers_flatten': 0.4286, 'eval_runtime': 0.2986, 'eval_samples_per_second': 26.789, 'eval_steps_per_second': 26.789, 'epoch': 7.0}\n"
          ]
        },
        {
          "name": "stderr",
          "output_type": "stream",
          "text": [
            "                                                 \n",
            " 80%|████████  | 464/580 [01:26<00:18,  6.36it/s]"
          ]
        },
        {
          "name": "stdout",
          "output_type": "stream",
          "text": [
            "before =  (array([[0.00883909, 0.00298373, 0.05143853, 0.00271831, 0.00138921,\n",
            "        0.00130319, 0.931328  ],\n",
            "       [0.01009038, 0.00354871, 0.06272578, 0.00319028, 0.00147125,\n",
            "        0.00137788, 0.9175956 ],\n",
            "       [0.01039737, 0.00376878, 0.06559534, 0.003374  , 0.00153546,\n",
            "        0.00145554, 0.91387355],\n",
            "       [0.00698021, 0.00246278, 0.04052754, 0.00203113, 0.00120915,\n",
            "        0.00108622, 0.9457029 ],\n",
            "       [0.00755114, 0.00263049, 0.04426742, 0.00231491, 0.00132774,\n",
            "        0.00122012, 0.94068813],\n",
            "       [0.00820239, 0.00303008, 0.05069588, 0.00252784, 0.00130492,\n",
            "        0.00125044, 0.9329884 ],\n",
            "       [0.00723816, 0.00256229, 0.04101449, 0.00211146, 0.00119848,\n",
            "        0.00114056, 0.9447346 ],\n",
            "       [0.00698021, 0.00246278, 0.04052754, 0.00203113, 0.00120915,\n",
            "        0.00108622, 0.9457029 ]], dtype=float32), array([[3.8718917e-05],\n",
            "       [3.9988190e-05],\n",
            "       [3.9225924e-05],\n",
            "       [3.9592800e-05],\n",
            "       [3.8929735e-05],\n",
            "       [3.9360901e-05],\n",
            "       [3.9191451e-05],\n",
            "       [3.9592800e-05]], dtype=float32))\n",
            "after =  ([6, 6, 6, 6, 6, 6, 6, 6], [False, False, False, False, False, False, False, False])\n",
            "{'eval_loss': 1.4036740064620972, 'eval_accuracy_emotions': 0.5, 'eval_accuracy_triggers': 0.75, 'eval_f1scores_emotions_instance': 0.0893, 'eval_f1scores_emotions_flatten': 0.0952, 'eval_f1scores_triggers_instance': 0.4222, 'eval_f1scores_triggers_flatten': 0.4286, 'eval_runtime': 0.3518, 'eval_samples_per_second': 22.743, 'eval_steps_per_second': 22.743, 'epoch': 8.0}\n"
          ]
        },
        {
          "name": "stderr",
          "output_type": "stream",
          "text": [
            " 86%|████████▋ | 501/580 [01:33<00:12,  6.53it/s]"
          ]
        },
        {
          "name": "stdout",
          "output_type": "stream",
          "text": [
            "{'loss': 1.4337, 'grad_norm': 0.12284259498119354, 'learning_rate': 9.242458032904311e-07, 'epoch': 8.62}\n"
          ]
        },
        {
          "name": "stderr",
          "output_type": "stream",
          "text": [
            "                                                 \n",
            " 90%|█████████ | 522/580 [01:37<00:08,  6.96it/s]"
          ]
        },
        {
          "name": "stdout",
          "output_type": "stream",
          "text": [
            "before =  (array([[0.01555728, 0.00445369, 0.11394073, 0.00476799, 0.0021094 ,\n",
            "        0.00195981, 0.8572111 ],\n",
            "       [0.01801058, 0.00538175, 0.14202292, 0.00569557, 0.0022504 ,\n",
            "        0.00208693, 0.8245519 ],\n",
            "       [0.01873614, 0.00579065, 0.15099107, 0.00612044, 0.00237295,\n",
            "        0.00222718, 0.8137615 ],\n",
            "       [0.01153914, 0.00344609, 0.08148988, 0.00325903, 0.00174067,\n",
            "        0.00154993, 0.8969753 ],\n",
            "       [0.01293839, 0.00382651, 0.09424792, 0.00391506, 0.00198187,\n",
            "        0.0018006 , 0.8812897 ],\n",
            "       [0.01406613, 0.00441281, 0.10809252, 0.0042744 , 0.00193383,\n",
            "        0.00184022, 0.8653802 ],\n",
            "       [0.01200898, 0.00359991, 0.08273146, 0.00340389, 0.0017272 ,\n",
            "        0.00163404, 0.89489454],\n",
            "       [0.01153914, 0.00344609, 0.08148988, 0.00325903, 0.00174067,\n",
            "        0.00154993, 0.8969753 ]], dtype=float32), array([[3.7496229e-05],\n",
            "       [3.9459592e-05],\n",
            "       [3.8853075e-05],\n",
            "       [3.7897058e-05],\n",
            "       [3.7324698e-05],\n",
            "       [3.8102491e-05],\n",
            "       [3.7497946e-05],\n",
            "       [3.7897058e-05]], dtype=float32))\n",
            "after =  ([6, 6, 6, 6, 6, 6, 6, 6], [False, False, False, False, False, False, False, False])\n",
            "{'eval_loss': 1.4035382270812988, 'eval_accuracy_emotions': 0.5, 'eval_accuracy_triggers': 0.75, 'eval_f1scores_emotions_instance': 0.0893, 'eval_f1scores_emotions_flatten': 0.0952, 'eval_f1scores_triggers_instance': 0.4222, 'eval_f1scores_triggers_flatten': 0.4286, 'eval_runtime': 0.4167, 'eval_samples_per_second': 19.2, 'eval_steps_per_second': 19.2, 'epoch': 9.0}\n"
          ]
        },
        {
          "name": "stderr",
          "output_type": "stream",
          "text": [
            "                                                 \n",
            "100%|██████████| 580/580 [01:48<00:00,  5.72it/s]"
          ]
        },
        {
          "name": "stdout",
          "output_type": "stream",
          "text": [
            "before =  (array([[0.01991186, 0.0056069 , 0.17632198, 0.00632236, 0.0025765 ,\n",
            "        0.00238546, 0.78687495],\n",
            "       [0.02290825, 0.00675311, 0.21920092, 0.00752638, 0.00272708,\n",
            "        0.00252055, 0.7383637 ],\n",
            "       [0.02378858, 0.00726882, 0.23313151, 0.00809557, 0.00287367,\n",
            "        0.00268915, 0.7221527 ],\n",
            "       [0.01463394, 0.00428888, 0.123597  , 0.00423451, 0.00211348,\n",
            "        0.00187168, 0.8492605 ],\n",
            "       [0.01652044, 0.00479958, 0.14486343, 0.00515549, 0.00242382,\n",
            "        0.00219102, 0.82404625],\n",
            "       [0.01791663, 0.00553135, 0.16600901, 0.00562242, 0.00235241,\n",
            "        0.00223157, 0.80033666],\n",
            "       [0.01525566, 0.00448731, 0.12565131, 0.00443334, 0.002098  ,\n",
            "        0.00197651, 0.8460978 ],\n",
            "       [0.01463394, 0.00428888, 0.123597  , 0.00423451, 0.00211348,\n",
            "        0.00187168, 0.8492605 ]], dtype=float32), array([[3.7567417e-05],\n",
            "       [4.0085248e-05],\n",
            "       [3.9623246e-05],\n",
            "       [3.7457026e-05],\n",
            "       [3.7067392e-05],\n",
            "       [3.8103652e-05],\n",
            "       [3.7062793e-05],\n",
            "       [3.7457026e-05]], dtype=float32))\n",
            "after =  ([6, 6, 6, 6, 6, 6, 6, 6], [False, False, False, False, False, False, False, False])\n",
            "{'eval_loss': 1.4036403894424438, 'eval_accuracy_emotions': 0.5, 'eval_accuracy_triggers': 0.75, 'eval_f1scores_emotions_instance': 0.0893, 'eval_f1scores_emotions_flatten': 0.0952, 'eval_f1scores_triggers_instance': 0.4222, 'eval_f1scores_triggers_flatten': 0.4286, 'eval_runtime': 0.4909, 'eval_samples_per_second': 16.297, 'eval_steps_per_second': 16.297, 'epoch': 10.0}\n"
          ]
        },
        {
          "name": "stderr",
          "output_type": "stream",
          "text": [
            "100%|██████████| 580/580 [01:51<00:00,  5.21it/s]"
          ]
        },
        {
          "name": "stdout",
          "output_type": "stream",
          "text": [
            "{'train_runtime': 111.3056, 'train_samples_per_second': 5.211, 'train_steps_per_second': 5.211, 'train_loss': 1.433266751519565, 'epoch': 10.0}\n"
          ]
        },
        {
          "name": "stderr",
          "output_type": "stream",
          "text": [
            "\n"
          ]
        }
      ],
      "source": [
        "seeds = [666]\n",
        "for seed in seeds:\n",
        "        set_seeds(seed)\n",
        "        base_model = BERT_Model_Phrase_Concatenation(df_manager)\n",
        "        # base_model_freezed = BERT_Model(freeze=True)\n",
        "\n",
        "        # Create trainer for Conclusion only\n",
        "        trainer = get_trainer(base_model, train_data_tokenized, val_data_tokenized, model_dir+\"baseline\", class_weights=True, batch_size=1, epochs=10)\n",
        "\n",
        "        # Create trainer for Conclusion+Premises\n",
        "        # trainer_freezed = get_trainer(base_model_freezed, train_dataset, val_dataset, model_dir+\"baseline_freezed\", class_weights=True, batch_size=1, epochs=10)\n",
        "        print(f'Training BASE_MODEL with seed {seed}:')\n",
        "        #trainer.evaluate(val_data_tokenized[0])\n",
        "\n",
        "        trainer.train()\n",
        "\n",
        "        #print(f'Training BASE_MODEL_FREEZED with seed {seed}:')\n",
        "        #trainer_freezed.train()\n",
        "\n",
        "        #test_prediction_info = trainer.predict(dataset)\n",
        "        #test_predictions, test_labels = test_prediction_info.predictions, test_prediction_info.label_ids\n",
        "        #test_metrics.append(compute_metrics([test_predictions, test_labels], list(level_2.keys())))\n",
        "#\n",
        "        ## fill seed table\n",
        "        #seed_table[\"model_BERT\"][seed] = test_bert\n",
        "        #seed_table[\"model_BERT_Freezed\"][seed] = test_CP"
      ]
    }
  ],
  "metadata": {
    "accelerator": "GPU",
    "colab": {
      "provenance": []
    },
    "kernelspec": {
      "display_name": "Python 3",
      "name": "python3"
    },
    "language_info": {
      "codemirror_mode": {
        "name": "ipython",
        "version": 3
      },
      "file_extension": ".py",
      "mimetype": "text/x-python",
      "name": "python",
      "nbconvert_exporter": "python",
      "pygments_lexer": "ipython3",
      "version": "3.12.2"
    }
  },
  "nbformat": 4,
  "nbformat_minor": 0
}
