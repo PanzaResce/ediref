{
  "cells": [
    {
      "cell_type": "code",
      "execution_count": 2,
      "metadata": {},
      "outputs": [],
      "source": [
        "# !pip install datasets\n",
        "# !pip install transformers[torch]\n",
        "# !pip install accelerate -U"
      ]
    },
    {
      "cell_type": "code",
      "execution_count": 1,
      "metadata": {
        "id": "Tb6JkaXPQ8c9"
      },
      "outputs": [
        {
          "name": "stderr",
          "output_type": "stream",
          "text": [
            "c:\\Users\\marco\\anaconda3\\lib\\site-packages\\scipy\\__init__.py:146: UserWarning: A NumPy version >=1.16.5 and <1.23.0 is required for this version of SciPy (detected version 1.26.2\n",
            "  warnings.warn(f\"A NumPy version >={np_minversion} and <{np_maxversion}\"\n"
          ]
        },
        {
          "name": "stdout",
          "output_type": "stream",
          "text": [
            "WARNING:tensorflow:From c:\\Users\\marco\\anaconda3\\lib\\site-packages\\keras\\src\\losses.py:2976: The name tf.losses.sparse_softmax_cross_entropy is deprecated. Please use tf.compat.v1.losses.sparse_softmax_cross_entropy instead.\n",
            "\n"
          ]
        }
      ],
      "source": [
        "import torch\n",
        "import torch.nn.functional as F\n",
        "from src.utils import *\n",
        "from src.models.models import Model_Phrase_Concatenation, Model_Phrase_Extraction, Model_concat_nopooling\n",
        "from src.models.baseline import Baseline\n",
        "from datasets import concatenate_datasets\n",
        "from transformers import DefaultDataCollator, AutoTokenizer, TrainingArguments, Trainer"
      ]
    },
    {
      "cell_type": "code",
      "execution_count": 2,
      "metadata": {
        "colab": {
          "base_uri": "https://localhost:8080/"
        },
        "id": "R2MsBHCqQ8c_",
        "outputId": "4940d008-c6d5-494c-907a-8198446a460b"
      },
      "outputs": [
        {
          "name": "stdout",
          "output_type": "stream",
          "text": [
            "2.1.0+cu121\n",
            "True\n"
          ]
        }
      ],
      "source": [
        "RANDOM_SEED = 42\n",
        "set_seeds(RANDOM_SEED)\n",
        "\n",
        "print(torch.__version__)\n",
        "print(torch.cuda.is_available())"
      ]
    },
    {
      "cell_type": "code",
      "execution_count": 3,
      "metadata": {},
      "outputs": [
        {
          "name": "stdout",
          "output_type": "stream",
          "text": [
            "Current work directory: c:\\Users\\marco\\OneDrive\\Immagini\\Documenti\\GitHub\\ediref\n"
          ]
        },
        {
          "data": {
            "text/html": [
              "<div>\n",
              "<style scoped>\n",
              "    .dataframe tbody tr th:only-of-type {\n",
              "        vertical-align: middle;\n",
              "    }\n",
              "\n",
              "    .dataframe tbody tr th {\n",
              "        vertical-align: top;\n",
              "    }\n",
              "\n",
              "    .dataframe thead th {\n",
              "        text-align: right;\n",
              "    }\n",
              "</style>\n",
              "<table border=\"1\" class=\"dataframe\">\n",
              "  <thead>\n",
              "    <tr style=\"text-align: right;\">\n",
              "      <th></th>\n",
              "      <th>episode</th>\n",
              "      <th>emotions</th>\n",
              "      <th>utterances</th>\n",
              "      <th>triggers</th>\n",
              "      <th>emotions_id</th>\n",
              "    </tr>\n",
              "  </thead>\n",
              "  <tbody>\n",
              "    <tr>\n",
              "      <th>0</th>\n",
              "      <td>utterance_0</td>\n",
              "      <td>[neutral, neutral, neutral, neutral, surprise]</td>\n",
              "      <td>[also I was the point person on my company's t...</td>\n",
              "      <td>[0, 0, 0, 1, 0]</td>\n",
              "      <td>[5, 5, 5, 5, 4]</td>\n",
              "    </tr>\n",
              "    <tr>\n",
              "      <th>1</th>\n",
              "      <td>utterance_1</td>\n",
              "      <td>[neutral, neutral, neutral, neutral, surprise,...</td>\n",
              "      <td>[also I was the point person on my company's t...</td>\n",
              "      <td>[0, 0, 0, 0, 0, 1, 0]</td>\n",
              "      <td>[5, 5, 5, 5, 4, 5, 5]</td>\n",
              "    </tr>\n",
              "    <tr>\n",
              "      <th>2</th>\n",
              "      <td>utterance_2</td>\n",
              "      <td>[neutral, neutral, neutral, neutral, surprise,...</td>\n",
              "      <td>[also I was the point person on my company's t...</td>\n",
              "      <td>[0, 0, 0, 0, 0, 0, 0, 1, 0, 1, 0]</td>\n",
              "      <td>[5, 5, 5, 5, 4, 5, 5, 5, 5, 5, 6]</td>\n",
              "    </tr>\n",
              "    <tr>\n",
              "      <th>3</th>\n",
              "      <td>utterance_3</td>\n",
              "      <td>[neutral, neutral, neutral, neutral, surprise,...</td>\n",
              "      <td>[also I was the point person on my company's t...</td>\n",
              "      <td>[0, 0, 0, 0, 0, 0, 0, 0, 0, 0, 0, 1, 0]</td>\n",
              "      <td>[5, 5, 5, 5, 4, 5, 5, 5, 5, 5, 6, 5, 4]</td>\n",
              "    </tr>\n",
              "    <tr>\n",
              "      <th>4</th>\n",
              "      <td>utterance_4</td>\n",
              "      <td>[surprise, sadness, surprise, fear]</td>\n",
              "      <td>[But then who? The waitress I went out with la...</td>\n",
              "      <td>[0, 0, 1, 0]</td>\n",
              "      <td>[4, 1, 4, 6]</td>\n",
              "    </tr>\n",
              "    <tr>\n",
              "      <th>...</th>\n",
              "      <td>...</td>\n",
              "      <td>...</td>\n",
              "      <td>...</td>\n",
              "      <td>...</td>\n",
              "      <td>...</td>\n",
              "    </tr>\n",
              "    <tr>\n",
              "      <th>3995</th>\n",
              "      <td>utterance_3995</td>\n",
              "      <td>[neutral, joy, neutral, neutral, surprise, dis...</td>\n",
              "      <td>[Hey., Hey!, So how was Joan?, I broke up with...</td>\n",
              "      <td>[0, 0, 0, 0, 0, 0, 0, 0, 0, 0, 0, 1]</td>\n",
              "      <td>[5, 0, 5, 5, 4, 3, 5, 3, 4, 5, 5, 3]</td>\n",
              "    </tr>\n",
              "    <tr>\n",
              "      <th>3996</th>\n",
              "      <td>utterance_3996</td>\n",
              "      <td>[neutral, joy, neutral, neutral, surprise, dis...</td>\n",
              "      <td>[Hey., Hey!, So how was Joan?, I broke up with...</td>\n",
              "      <td>[0, 0, 0, 0, 0, 0, 0, 0, 0, 0, 0, 0, 0, 1]</td>\n",
              "      <td>[5, 0, 5, 5, 4, 3, 5, 3, 4, 5, 5, 3, 3, 5]</td>\n",
              "    </tr>\n",
              "    <tr>\n",
              "      <th>3997</th>\n",
              "      <td>utterance_3997</td>\n",
              "      <td>[neutral, joy, neutral, neutral, surprise, dis...</td>\n",
              "      <td>[Hey., Hey!, So how was Joan?, I broke up with...</td>\n",
              "      <td>[0, 0, 0, 0, 0, 0, 0, 0, 0, 0, 0, 0, 0, 1, 0]</td>\n",
              "      <td>[5, 0, 5, 5, 4, 3, 5, 3, 4, 5, 5, 3, 3, 5, 5]</td>\n",
              "    </tr>\n",
              "    <tr>\n",
              "      <th>3998</th>\n",
              "      <td>utterance_3998</td>\n",
              "      <td>[neutral, joy, neutral, neutral, surprise, dis...</td>\n",
              "      <td>[Hey., Hey!, So how was Joan?, I broke up with...</td>\n",
              "      <td>[0, 0, 0, 0, 0, 0, 0, 0, 0, 0, 0, 0, 0, 0, 1, 0]</td>\n",
              "      <td>[5, 0, 5, 5, 4, 3, 5, 3, 4, 5, 5, 3, 3, 5, 5, 4]</td>\n",
              "    </tr>\n",
              "    <tr>\n",
              "      <th>3999</th>\n",
              "      <td>utterance_3999</td>\n",
              "      <td>[neutral, joy, neutral, neutral, surprise, dis...</td>\n",
              "      <td>[Hey., Hey!, So how was Joan?, I broke up with...</td>\n",
              "      <td>[0, 0, 0, 0, 0, 0, 0, 0, 0, 0, 0, 0, 0, 0, 0, ...</td>\n",
              "      <td>[5, 0, 5, 5, 4, 3, 5, 3, 4, 5, 5, 3, 3, 5, 5, ...</td>\n",
              "    </tr>\n",
              "  </tbody>\n",
              "</table>\n",
              "<p>4000 rows × 5 columns</p>\n",
              "</div>"
            ],
            "text/plain": [
              "             episode                                           emotions  \\\n",
              "0        utterance_0     [neutral, neutral, neutral, neutral, surprise]   \n",
              "1        utterance_1  [neutral, neutral, neutral, neutral, surprise,...   \n",
              "2        utterance_2  [neutral, neutral, neutral, neutral, surprise,...   \n",
              "3        utterance_3  [neutral, neutral, neutral, neutral, surprise,...   \n",
              "4        utterance_4                [surprise, sadness, surprise, fear]   \n",
              "...              ...                                                ...   \n",
              "3995  utterance_3995  [neutral, joy, neutral, neutral, surprise, dis...   \n",
              "3996  utterance_3996  [neutral, joy, neutral, neutral, surprise, dis...   \n",
              "3997  utterance_3997  [neutral, joy, neutral, neutral, surprise, dis...   \n",
              "3998  utterance_3998  [neutral, joy, neutral, neutral, surprise, dis...   \n",
              "3999  utterance_3999  [neutral, joy, neutral, neutral, surprise, dis...   \n",
              "\n",
              "                                             utterances  \\\n",
              "0     [also I was the point person on my company's t...   \n",
              "1     [also I was the point person on my company's t...   \n",
              "2     [also I was the point person on my company's t...   \n",
              "3     [also I was the point person on my company's t...   \n",
              "4     [But then who? The waitress I went out with la...   \n",
              "...                                                 ...   \n",
              "3995  [Hey., Hey!, So how was Joan?, I broke up with...   \n",
              "3996  [Hey., Hey!, So how was Joan?, I broke up with...   \n",
              "3997  [Hey., Hey!, So how was Joan?, I broke up with...   \n",
              "3998  [Hey., Hey!, So how was Joan?, I broke up with...   \n",
              "3999  [Hey., Hey!, So how was Joan?, I broke up with...   \n",
              "\n",
              "                                               triggers  \\\n",
              "0                                       [0, 0, 0, 1, 0]   \n",
              "1                                 [0, 0, 0, 0, 0, 1, 0]   \n",
              "2                     [0, 0, 0, 0, 0, 0, 0, 1, 0, 1, 0]   \n",
              "3               [0, 0, 0, 0, 0, 0, 0, 0, 0, 0, 0, 1, 0]   \n",
              "4                                          [0, 0, 1, 0]   \n",
              "...                                                 ...   \n",
              "3995               [0, 0, 0, 0, 0, 0, 0, 0, 0, 0, 0, 1]   \n",
              "3996         [0, 0, 0, 0, 0, 0, 0, 0, 0, 0, 0, 0, 0, 1]   \n",
              "3997      [0, 0, 0, 0, 0, 0, 0, 0, 0, 0, 0, 0, 0, 1, 0]   \n",
              "3998   [0, 0, 0, 0, 0, 0, 0, 0, 0, 0, 0, 0, 0, 0, 1, 0]   \n",
              "3999  [0, 0, 0, 0, 0, 0, 0, 0, 0, 0, 0, 0, 0, 0, 0, ...   \n",
              "\n",
              "                                            emotions_id  \n",
              "0                                       [5, 5, 5, 5, 4]  \n",
              "1                                 [5, 5, 5, 5, 4, 5, 5]  \n",
              "2                     [5, 5, 5, 5, 4, 5, 5, 5, 5, 5, 6]  \n",
              "3               [5, 5, 5, 5, 4, 5, 5, 5, 5, 5, 6, 5, 4]  \n",
              "4                                          [4, 1, 4, 6]  \n",
              "...                                                 ...  \n",
              "3995               [5, 0, 5, 5, 4, 3, 5, 3, 4, 5, 5, 3]  \n",
              "3996         [5, 0, 5, 5, 4, 3, 5, 3, 4, 5, 5, 3, 3, 5]  \n",
              "3997      [5, 0, 5, 5, 4, 3, 5, 3, 4, 5, 5, 3, 3, 5, 5]  \n",
              "3998   [5, 0, 5, 5, 4, 3, 5, 3, 4, 5, 5, 3, 3, 5, 5, 4]  \n",
              "3999  [5, 0, 5, 5, 4, 3, 5, 3, 4, 5, 5, 3, 3, 5, 5, ...  \n",
              "\n",
              "[4000 rows x 5 columns]"
            ]
          },
          "execution_count": 3,
          "metadata": {},
          "output_type": "execute_result"
        }
      ],
      "source": [
        "url = \"https://drive.google.com/uc?export=download&id=1wVNU2XvvhqjaGXZM-JLJwOt97gt4g9j2\"\n",
        "dataset_name = \"MELD_train_efr.json\"\n",
        "\n",
        "df_manager = DataframeManager(url, dataset_name)\n",
        "\n",
        "df = df_manager.produce_df()\n",
        "df"
      ]
    },
    {
      "cell_type": "code",
      "execution_count": 6,
      "metadata": {
        "id": "aYeINdxlLlYW",
        "outputId": "08317111-0a25-4b78-eac1-f6609fa7ee4b"
      },
      "outputs": [
        {
          "name": "stdout",
          "output_type": "stream",
          "text": [
            "(3200, 5)\n",
            "(400, 5)\n",
            "(400, 5)\n"
          ]
        }
      ],
      "source": [
        "train_df, val_df, test_df = df_manager.split_df(RANDOM_SEED)\n",
        "print(train_df.shape)\n",
        "print(val_df.shape)\n",
        "print(test_df.shape)"
      ]
    },
    {
      "cell_type": "code",
      "execution_count": 7,
      "metadata": {
        "colab": {
          "base_uri": "https://localhost:8080/",
          "height": 422
        },
        "id": "9TNd9SBUa60R",
        "outputId": "1ee58b4f-f7be-4347-8798-26bdcc1dd36c"
      },
      "outputs": [
        {
          "data": {
            "image/png": "[encoded data removed]",
            "text/plain": [
              "<Figure size 864x288 with 3 Axes>"
            ]
          },
          "metadata": {
            "needs_background": "light"
          },
          "output_type": "display_data"
        }
      ],
      "source": [
        "df_manager.plot_emotion_distribution(train_df, val_df, test_df)"
      ]
    },
    {
      "cell_type": "code",
      "execution_count": 7,
      "metadata": {
        "id": "kOwxAe3qLlYZ"
      },
      "outputs": [],
      "source": [
        "model_card = 'bert-base-uncased'\n",
        "tokenizer = AutoTokenizer.from_pretrained(model_card)\n",
        "\n",
        "model_dir = \"./model_dir/\"+model_card+\"/\"\n",
        "data_collator = DefaultDataCollator()"
      ]
    },
    {
      "cell_type": "code",
      "execution_count": 8,
      "metadata": {
        "id": "-UN6VqNKQ8dR",
        "outputId": "327af93c-801b-40fc-e9fc-49c93fad93ad"
      },
      "outputs": [],
      "source": [
        "train_data_tokenized, val_data_tokenized, test_data_tokenized = df_manager.produce_dataset(tokenizer, RANDOM_SEED)"
      ]
    },
    {
      "cell_type": "code",
      "execution_count": 10,
      "metadata": {},
      "outputs": [
        {
          "name": "stdout",
          "output_type": "stream",
          "text": [
            "28062\n",
            "3437\n",
            "3501\n"
          ]
        }
      ],
      "source": [
        "print(len(train_data_tokenized))\n",
        "print(len(val_data_tokenized))\n",
        "print(len(test_data_tokenized))"
      ]
    },
    {
      "cell_type": "markdown",
      "metadata": {
        "id": "dJWSxdXFQ8dT"
      },
      "source": [
        "Models"
      ]
    },
    {
      "cell_type": "code",
      "execution_count": 11,
      "metadata": {
        "id": "OSNzNVyiLlYb"
      },
      "outputs": [],
      "source": [
        "seeds = [666, 55, 42]\n",
        "\n",
        "X = train_data_tokenized['dialogue_index']\n",
        "Y = train_data_tokenized.select_columns(['triggers', 'emotions_id'])\n",
        "seed_table = {'majority': {}, 'uniform': {},\n",
        "              'model_BERT': {}, 'model_BERT_Freezed': {}}\n",
        "\n",
        "id2emotion = df_manager.get_id2emotion()\n",
        "random_clf = Baseline(\"uniform\", X, Y)\n",
        "majority_clf = Baseline(\"most_frequent\", X, Y)\n",
        "for seed in seeds:\n",
        "    seed_table[\"uniform\"][seed] = random_clf.score()\n",
        "    seed_table[\"majority\"][seed] = majority_clf.score()"
      ]
    },
    {
      "cell_type": "code",
      "execution_count": 12,
      "metadata": {
        "id": "Tx520nvqLlYb",
        "outputId": "6c7d3294-88ee-44a5-c995-22a56d17676b"
      },
      "outputs": [
        {
          "data": {
            "text/plain": [
              "{'majority': {666: {'accuracy_emotions': 0.4392060437602452,\n",
              "   'accuracy_triggers': 0.8414938350794668,\n",
              "   'f1scores_emotions_flatten': 0.0002,\n",
              "   'f1scores_triggers_flatten': 0.0001},\n",
              "  55: {'accuracy_emotions': 0.4392060437602452,\n",
              "   'accuracy_triggers': 0.8414938350794668,\n",
              "   'f1scores_emotions_flatten': 0.0002,\n",
              "   'f1scores_triggers_flatten': 0.0001},\n",
              "  42: {'accuracy_emotions': 0.4392060437602452,\n",
              "   'accuracy_triggers': 0.8414938350794668,\n",
              "   'f1scores_emotions_flatten': 0.0002,\n",
              "   'f1scores_triggers_flatten': 0.0001}},\n",
              " 'uniform': {666: {'accuracy_emotions': 0.14293350438315158,\n",
              "   'accuracy_triggers': 0.5053453068206115,\n",
              "   'f1scores_emotions_flatten': 0.0002,\n",
              "   'f1scores_triggers_flatten': 0.0001},\n",
              "  55: {'accuracy_emotions': 0.140332121730454,\n",
              "   'accuracy_triggers': 0.4973986173473024,\n",
              "   'f1scores_emotions_flatten': 0.0002,\n",
              "   'f1scores_triggers_flatten': 0.0001},\n",
              "  42: {'accuracy_emotions': 0.14239897370109045,\n",
              "   'accuracy_triggers': 0.5001781768940203,\n",
              "   'f1scores_emotions_flatten': 0.0002,\n",
              "   'f1scores_triggers_flatten': 0.0001}},\n",
              " 'model_BERT': {},\n",
              " 'model_BERT_Freezed': {}}"
            ]
          },
          "execution_count": 12,
          "metadata": {},
          "output_type": "execute_result"
        }
      ],
      "source": [
        "seed_table"
      ]
    },
    {
      "cell_type": "code",
      "execution_count": 13,
      "metadata": {
        "id": "wTA_dWYFLlYb"
      },
      "outputs": [],
      "source": [
        "def init_pos_weight(data, labels, class_weights=True, factor=1):\n",
        "    if class_weights:\n",
        "        pos_weight = list()\n",
        "        emotions_counts = {label:0 for label in df_manager.unique_emotions}\n",
        "        for sentence_emotions in data[df_manager.column_emotions_id]:\n",
        "            for emotion in sentence_emotions:\n",
        "                emotions_counts[emotion] = emotions_counts[emotion] + 1\n",
        "        sum_of_all_emotions = sum(emotions_counts.values())\n",
        "        for label in labels:\n",
        "            w = (sum_of_all_emotions-emotions_counts[label])/emotions_counts[label]   # num_neg/num_pos for each class as specified in the documentation for BCEWithLogitsLoss\n",
        "            if w > 1:                       # increase recall of minority classes\n",
        "                w*=factor                   # factor to magnify the weight (not standard)\n",
        "                pos_weight.append(w)\n",
        "            else:\n",
        "                pos_weight.append(1)        # non minority classes are not influenced (pos_weight = 1)\n",
        "        return torch.tensor(pos_weight).to(\"cuda\")\n",
        "    else:\n",
        "        return torch.ones([len(labels)]).to(\"cuda\")"
      ]
    },
    {
      "cell_type": "code",
      "execution_count": 14,
      "metadata": {},
      "outputs": [],
      "source": [
        "from src.models.models import BERT_Model_Phrase_Concatenation\n",
        "model_B = Model_Phrase_Concatenation(df_manager)\n",
        "def try_model_Concatenation(batch_start, batch_end):\n",
        "        outputs_text = model_B(utterance_ids=train_data_tokenized[batch_start:batch_end]['utterance_ids'],\n",
        "                utterance_mask=train_data_tokenized[batch_start:batch_end]['utterance_mask'],\n",
        "                dialogue_ids=train_data_tokenized[batch_start:batch_end]['dialogue_ids'],\n",
        "                dialogue_mask=train_data_tokenized[batch_start:batch_end]['dialogue_mask'],\n",
        "                utterance_index=train_data_tokenized[batch_start:batch_end]['utterance_index'],\n",
        "                dialogue_index=train_data_tokenized[batch_start:batch_end]['dialogue_index'],\n",
        "                token_type_ids=None)\n",
        "        return outputs_text\n",
        "\n",
        "# outputs_text = try_model_Concatenation(0, 4)\n",
        "# print(outputs_text['emotion_logits'].shape)\n",
        "# print(outputs_text['trigger_logits'].shape)"
      ]
    },
    {
      "cell_type": "code",
      "execution_count": 15,
      "metadata": {
        "id": "ztKhP1pmLlYc"
      },
      "outputs": [],
      "source": [
        "class MultiLabelTrainer(Trainer):\n",
        "    def __init__(self, pos_weight, **kwargs):\n",
        "        self.pos_weight = pos_weight\n",
        "        super().__init__(**kwargs)\n",
        "\n",
        "    def compute_loss(self, model, inputs, return_outputs=False):\n",
        "        emotions_true = inputs[\"emotions_id_one_hot_encoding\"].to(\"cuda\")\n",
        "        triggers_true = inputs[\"triggers\"].unsqueeze(1).float().to(\"cuda\")\n",
        "\n",
        "        result = model(**inputs)\n",
        "        \n",
        "        emotion_logits = result['emotion_logits'].to(\"cuda\")\n",
        "        trigger_logits = result['trigger_logits'].to(\"cuda\")\n",
        "        \n",
        "        loss_fct_emotions = torch.nn.CrossEntropyLoss().to(\"cuda\")        \n",
        "        loss_fct_triggers = torch.nn.BCEWithLogitsLoss().to(\"cuda\")\n",
        "\n",
        "        loss_emotions = loss_fct_emotions(emotion_logits, emotions_true.float())\n",
        "        loss_triggers = loss_fct_triggers(trigger_logits, triggers_true)\n",
        "\n",
        "        loss = loss_emotions + loss_triggers\n",
        "        return (loss, {'emotion_logits': emotion_logits, 'trigger_logits': trigger_logits}) if return_outputs else loss\n",
        "\n",
        "def get_trainer(model, train, val, model_dir, class_weights=True, batch_size=1, epochs=20):\n",
        "    training_args = TrainingArguments(\n",
        "        output_dir=model_dir,\n",
        "        learning_rate=2e-5,\n",
        "        per_device_train_batch_size=batch_size,\n",
        "        per_device_eval_batch_size=batch_size,\n",
        "        num_train_epochs=epochs,\n",
        "        weight_decay=0.01,\n",
        "        evaluation_strategy=\"steps\",\n",
        "        save_strategy=\"steps\",\n",
        "        lr_scheduler_type=\"cosine\",\n",
        "        save_total_limit = 1,\n",
        "        load_best_model_at_end=True,\n",
        "        metric_for_best_model='eval_loss',\n",
        "        report_to='none',\n",
        "        label_names=[\"emotions_id\", \"triggers\", \"dialogue_index\", \"emotions_id_one_hot_encoding\"],\n",
        "    )\n",
        "    pos_weight = init_pos_weight(concatenate_datasets([train_data_tokenized, val_data_tokenized, test_data_tokenized]), df_manager.emotion2id.keys(), False)\n",
        "    trainer = MultiLabelTrainer(\n",
        "        pos_weight=pos_weight,\n",
        "        model=model,\n",
        "        args=training_args,\n",
        "        train_dataset=train,\n",
        "        eval_dataset=val,\n",
        "        tokenizer=tokenizer,\n",
        "        data_collator=data_collator,\n",
        "        compute_metrics=lambda pred: compute_metrics(pred, len(df_manager.emotion2id.keys())),\n",
        "    )\n",
        "\n",
        "    return trainer"
      ]
    },
    {
      "cell_type": "code",
      "execution_count": null,
      "metadata": {},
      "outputs": [],
      "source": [
        "#intialize class for error analysis (SELECT FIRST WHICH DATASET TO USE)\n",
        "\n",
        "from src import error\n",
        "report = error.ErrorAnalysis(test_data_tokenized)\n",
        "train_report = error.ErrorAnalysis(train_data_tokenized)"
      ]
    },
    {
      "cell_type": "code",
      "execution_count": null,
      "metadata": {
        "id": "0FNnputQLlYc",
        "outputId": "a24d3ea2-5984-4c53-b455-c97f8224d9f7"
      },
      "outputs": [],
      "source": [
        "seeds = [49]\n",
        "for seed in seeds:\n",
        "        set_seeds(seed)\n",
        "        base_model = Model_Phrase_Extraction(len(df_manager.unique_emotions), tokenizer.sep_token_id)\n",
        "\n",
        "        # Create trainer for Conclusion only\n",
        "        trainer = get_trainer(base_model, train_data_tokenized, val_data_tokenized, model_dir+\"baseline\", class_weights=False, batch_size=8, epochs=10)\n",
        "\n",
        "        # Create trainer for Conclusion+Premises\n",
        "        # trainer_freezed = get_trainer(base_model_freezed, train_dataset, val_dataset, model_dir+\"baseline_freezed\", class_weights=True, batch_size=1, epochs=10)\n",
        "        print(f'Training BASE_MODEL with seed {seed}:')\n",
        "        #trainer.evaluate(val_data_tokenized[0])\n",
        "\n",
        "        trainer.train()\n",
        "\n",
        "        #print(f'Training BASE_MODEL_FREEZED with seed {seed}:')\n",
        "        #trainer_freezed.train()\n",
        "\n",
        "        #add predictions to the error analysis report for later analysis\n",
        "        # train_report.add_model(trainer, train_data_tokenized, 'baseline', seed)\n",
        "        # report.add_model(trainer, test_data_tokenized, 'baseline', seed)\n",
        "\n",
        "        #test_prediction_info = trainer.predict(dataset)\n",
        "        #test_predictions, test_labels = test_prediction_info.predictions, test_prediction_info.label_ids\n",
        "        #test_metrics.append(compute_metrics([test_predictions, test_labels], list(level_2.keys())))\n",
        "\n",
        "        ## fill seed table\n",
        "        #seed_table[\"model_BERT\"][seed] = test_bert\n",
        "        #seed_table[\"model_BERT_Freezed\"][seed] = test_CP"
      ]
    },
    {
      "cell_type": "code",
      "execution_count": null,
      "metadata": {},
      "outputs": [],
      "source": [
        "# How to load a model\n",
        "# b = Model_Phrase_Extraction(len(df_manager.unique_emotions), tokenizer.sep_token_id)\n",
        "# model_path = model_dir + \"bert_extraction_51\"\n",
        "# b.load_state_dict(torch.load(model_path+\"/bert_extraction_51.pth\"))\n",
        "# tr = get_trainer(b, train_data_tokenized, val_data_tokenized, model_path, class_weights=True, batch_size=4, epochs=5)\n",
        "# tr.evaluate(test_data_tokenized)"
      ]
    },
    {
      "cell_type": "code",
      "execution_count": null,
      "metadata": {},
      "outputs": [],
      "source": [
        "def train_extr_model(seed, freeze=False):\n",
        "    set_seeds(seed)\n",
        "    base_model = Model_Phrase_Extraction(len(df_manager.unique_emotions), tokenizer.sep_token_id, freeze)\n",
        "    model_path = model_dir+\"bert_extraction_freeze_\"+str(seed) if freeze else model_dir+\"bert_extraction_\"+str(seed)\n",
        "\n",
        "    trainer = get_trainer(base_model, train_data_tokenized, val_data_tokenized, model_path, class_weights=True, batch_size=4, epochs=5)\n",
        "\n",
        "    print(f'Training EXTRACTION MODEL with seed {seed}:')\n",
        "\n",
        "    trainer.train()\n",
        "    save_name = \"/bert_extraction_freeze_\"+str(seed)+\".pth\" if freeze else \"/bert_extraction_\"+str(seed)+\".pth\"\n",
        "    torch.save(base_model.state_dict(), model_path+save_name)"
      ]
    },
    {
      "cell_type": "code",
      "execution_count": null,
      "metadata": {},
      "outputs": [],
      "source": [
        "# Recover from checkpoint\n",
        "# set_seeds(77)\n",
        "# base_model = Model_Phrase_Extraction(len(df_manager.unique_emotions), tokenizer.sep_token_id)\n",
        "# model_path = model_dir+\"bert_extraction_\"+str(77)\n",
        "\n",
        "# trainer = get_trainer(base_model, train_data_tokenized, val_data_tokenized, model_path, class_weights=True, batch_size=4, epochs=5)\n",
        "\n",
        "# print(f'Resume training of model with seed 77:')\n",
        "\n",
        "# trainer.train(model_path+\"/checkpoint-24000\")\n",
        "# torch.save(base_model.state_dict(), model_path+\"/bert_extraction_\"+str(77)+\".pth\")"
      ]
    },
    {
      "cell_type": "markdown",
      "metadata": {},
      "source": [
        "### ERROR ANALYSIS\n",
        "Check if you have added models to the Error analysis class. After which you can call all the functions you want. Predictions should be stored inside a dataframe, emotions and triggers in two separated columns. The columns should have respectively \"<MODEL_NAME>_<SEED>\" and \"<MODEL_NAME>_<SEED>_T\" names. If they don't have been added but you still have the model, you can add predictions directly with .add_predictions()... Do it twice, onece adding emtions predictions and once adding trigger predictions. When adding, the model name should be just the name."
      ]
    },
    {
      "cell_type": "code",
      "execution_count": 51,
      "metadata": {},
      "outputs": [
        {
          "data": {
            "text/plain": [
              "<module 'src.error' from 'c:\\\\Users\\\\cacio\\\\Desktop\\\\jacopo\\\\scuola\\\\UNIBO MASTER\\\\NATURAL LANGUAGE PROCESSING\\\\project\\\\ediref\\\\src\\\\error.py'>"
            ]
          },
          "execution_count": 51,
          "metadata": {},
          "output_type": "execute_result"
        }
      ],
      "source": [
        "from src import error\n",
        "import importlib\n",
        "importlib.reload(error)"
      ]
    },
    {
      "cell_type": "code",
      "execution_count": 52,
      "metadata": {},
      "outputs": [],
      "source": [
        "report = error.ErrorAnalysis(test_data_tokenized)"
      ]
    },
    {
      "cell_type": "code",
      "execution_count": 53,
      "metadata": {},
      "outputs": [
        {
          "name": "stderr",
          "output_type": "stream",
          "text": [
            "100%|██████████| 315/315 [00:08<00:00, 38.44it/s]"
          ]
        },
        {
          "name": "stdout",
          "output_type": "stream",
          "text": [
            "torch.Size([315, 7]) torch.Size([315, 1])\n"
          ]
        },
        {
          "name": "stderr",
          "output_type": "stream",
          "text": [
            "\n"
          ]
        },
        {
          "data": {
            "text/plain": [
              "'Successfullty added model!'"
            ]
          },
          "execution_count": 53,
          "metadata": {},
          "output_type": "execute_result"
        }
      ],
      "source": [
        "report.add_model(trainer, test_data_tokenized, 'baseline', seeds[0])"
      ]
    },
    {
      "cell_type": "code",
      "execution_count": 54,
      "metadata": {},
      "outputs": [
        {
          "data": {
            "image/png": "[encoded data removed]",
            "text/plain": [
              "<Figure size 640x480 with 1 Axes>"
            ]
          },
          "metadata": {},
          "output_type": "display_data"
        }
      ],
      "source": [
        "_ = report.get_confusion_matrix('baseline_666', plot = True)"
      ]
    },
    {
      "cell_type": "code",
      "execution_count": 55,
      "metadata": {},
      "outputs": [
        {
          "data": {
            "text/html": [
              "<div>\n",
              "<style scoped>\n",
              "    .dataframe tbody tr th:only-of-type {\n",
              "        vertical-align: middle;\n",
              "    }\n",
              "\n",
              "    .dataframe tbody tr th {\n",
              "        vertical-align: top;\n",
              "    }\n",
              "\n",
              "    .dataframe thead th {\n",
              "        text-align: right;\n",
              "    }\n",
              "</style>\n",
              "<table border=\"1\" class=\"dataframe\">\n",
              "  <thead>\n",
              "    <tr style=\"text-align: right;\">\n",
              "      <th></th>\n",
              "      <th>name</th>\n",
              "      <th>accuracy</th>\n",
              "      <th>f1_micro</th>\n",
              "      <th>f1_macro</th>\n",
              "      <th>f1_weighted</th>\n",
              "      <th>accuracy_t</th>\n",
              "      <th>f1_t</th>\n",
              "    </tr>\n",
              "  </thead>\n",
              "  <tbody>\n",
              "    <tr>\n",
              "      <th>0</th>\n",
              "      <td>baseline_666</td>\n",
              "      <td>0.142857</td>\n",
              "      <td>0.473016</td>\n",
              "      <td>0.091749</td>\n",
              "      <td>0.30379</td>\n",
              "      <td>0.809524</td>\n",
              "      <td>0.0</td>\n",
              "    </tr>\n",
              "  </tbody>\n",
              "</table>\n",
              "</div>"
            ],
            "text/plain": [
              "           name  accuracy  f1_micro  f1_macro  f1_weighted  accuracy_t  f1_t\n",
              "0  baseline_666  0.142857  0.473016  0.091749      0.30379    0.809524   0.0"
            ]
          },
          "execution_count": 55,
          "metadata": {},
          "output_type": "execute_result"
        }
      ],
      "source": [
        "table = report.get_performance_table(metrics = ['accuracy','f1_macro','f1_micro','f1_weighted'])\n",
        "report_df = pd.DataFrame(table.values())\n",
        "report_df = report_df.map(lambda x: x.item() if type(x) == torch.Tensor else x)\n",
        "report_df"
      ]
    },
    {
      "cell_type": "code",
      "execution_count": 57,
      "metadata": {},
      "outputs": [
        {
          "data": {
            "text/html": [
              "<div>\n",
              "<style scoped>\n",
              "    .dataframe tbody tr th:only-of-type {\n",
              "        vertical-align: middle;\n",
              "    }\n",
              "\n",
              "    .dataframe tbody tr th {\n",
              "        vertical-align: top;\n",
              "    }\n",
              "\n",
              "    .dataframe thead th {\n",
              "        text-align: right;\n",
              "    }\n",
              "</style>\n",
              "<table border=\"1\" class=\"dataframe\">\n",
              "  <thead>\n",
              "    <tr style=\"text-align: right;\">\n",
              "      <th></th>\n",
              "      <th>accuracy</th>\n",
              "      <th>dialogue_len</th>\n",
              "    </tr>\n",
              "    <tr>\n",
              "      <th>episode</th>\n",
              "      <th></th>\n",
              "      <th></th>\n",
              "    </tr>\n",
              "  </thead>\n",
              "  <tbody>\n",
              "    <tr>\n",
              "      <th>utterance_2863</th>\n",
              "      <td>0.200000</td>\n",
              "      <td>10.0</td>\n",
              "    </tr>\n",
              "    <tr>\n",
              "      <th>utterance_2848</th>\n",
              "      <td>0.333333</td>\n",
              "      <td>15.0</td>\n",
              "    </tr>\n",
              "    <tr>\n",
              "      <th>utterance_3191</th>\n",
              "      <td>0.333333</td>\n",
              "      <td>3.0</td>\n",
              "    </tr>\n",
              "    <tr>\n",
              "      <th>utterance_1443</th>\n",
              "      <td>0.400000</td>\n",
              "      <td>5.0</td>\n",
              "    </tr>\n",
              "    <tr>\n",
              "      <th>utterance_1682</th>\n",
              "      <td>0.600000</td>\n",
              "      <td>5.0</td>\n",
              "    </tr>\n",
              "    <tr>\n",
              "      <th>utterance_3791</th>\n",
              "      <td>0.600000</td>\n",
              "      <td>5.0</td>\n",
              "    </tr>\n",
              "    <tr>\n",
              "      <th>utterance_2199</th>\n",
              "      <td>0.666667</td>\n",
              "      <td>6.0</td>\n",
              "    </tr>\n",
              "    <tr>\n",
              "      <th>utterance_1696</th>\n",
              "      <td>0.666667</td>\n",
              "      <td>3.0</td>\n",
              "    </tr>\n",
              "    <tr>\n",
              "      <th>utterance_1919</th>\n",
              "      <td>0.666667</td>\n",
              "      <td>3.0</td>\n",
              "    </tr>\n",
              "    <tr>\n",
              "      <th>utterance_2255</th>\n",
              "      <td>0.666667</td>\n",
              "      <td>3.0</td>\n",
              "    </tr>\n",
              "    <tr>\n",
              "      <th>utterance_2961</th>\n",
              "      <td>0.666667</td>\n",
              "      <td>3.0</td>\n",
              "    </tr>\n",
              "    <tr>\n",
              "      <th>utterance_103</th>\n",
              "      <td>0.750000</td>\n",
              "      <td>12.0</td>\n",
              "    </tr>\n",
              "    <tr>\n",
              "      <th>utterance_160</th>\n",
              "      <td>0.750000</td>\n",
              "      <td>4.0</td>\n",
              "    </tr>\n",
              "    <tr>\n",
              "      <th>utterance_2056</th>\n",
              "      <td>0.750000</td>\n",
              "      <td>4.0</td>\n",
              "    </tr>\n",
              "    <tr>\n",
              "      <th>utterance_1704</th>\n",
              "      <td>0.800000</td>\n",
              "      <td>5.0</td>\n",
              "    </tr>\n",
              "    <tr>\n",
              "      <th>utterance_1884</th>\n",
              "      <td>0.800000</td>\n",
              "      <td>5.0</td>\n",
              "    </tr>\n",
              "    <tr>\n",
              "      <th>utterance_253</th>\n",
              "      <td>0.800000</td>\n",
              "      <td>5.0</td>\n",
              "    </tr>\n",
              "    <tr>\n",
              "      <th>utterance_403</th>\n",
              "      <td>0.800000</td>\n",
              "      <td>5.0</td>\n",
              "    </tr>\n",
              "    <tr>\n",
              "      <th>utterance_3298</th>\n",
              "      <td>0.833333</td>\n",
              "      <td>6.0</td>\n",
              "    </tr>\n",
              "    <tr>\n",
              "      <th>utterance_3741</th>\n",
              "      <td>0.833333</td>\n",
              "      <td>6.0</td>\n",
              "    </tr>\n",
              "    <tr>\n",
              "      <th>utterance_98</th>\n",
              "      <td>0.833333</td>\n",
              "      <td>6.0</td>\n",
              "    </tr>\n",
              "    <tr>\n",
              "      <th>utterance_2869</th>\n",
              "      <td>0.857143</td>\n",
              "      <td>7.0</td>\n",
              "    </tr>\n",
              "    <tr>\n",
              "      <th>utterance_3769</th>\n",
              "      <td>0.857143</td>\n",
              "      <td>7.0</td>\n",
              "    </tr>\n",
              "    <tr>\n",
              "      <th>utterance_3880</th>\n",
              "      <td>0.875000</td>\n",
              "      <td>8.0</td>\n",
              "    </tr>\n",
              "    <tr>\n",
              "      <th>utterance_1154</th>\n",
              "      <td>0.888889</td>\n",
              "      <td>9.0</td>\n",
              "    </tr>\n",
              "    <tr>\n",
              "      <th>utterance_3170</th>\n",
              "      <td>0.888889</td>\n",
              "      <td>9.0</td>\n",
              "    </tr>\n",
              "    <tr>\n",
              "      <th>utterance_2557</th>\n",
              "      <td>0.909091</td>\n",
              "      <td>11.0</td>\n",
              "    </tr>\n",
              "    <tr>\n",
              "      <th>utterance_627</th>\n",
              "      <td>0.909091</td>\n",
              "      <td>11.0</td>\n",
              "    </tr>\n",
              "    <tr>\n",
              "      <th>utterance_1648</th>\n",
              "      <td>0.916667</td>\n",
              "      <td>12.0</td>\n",
              "    </tr>\n",
              "    <tr>\n",
              "      <th>utterance_2101</th>\n",
              "      <td>0.916667</td>\n",
              "      <td>12.0</td>\n",
              "    </tr>\n",
              "    <tr>\n",
              "      <th>utterance_3881</th>\n",
              "      <td>0.916667</td>\n",
              "      <td>12.0</td>\n",
              "    </tr>\n",
              "    <tr>\n",
              "      <th>utterance_1603</th>\n",
              "      <td>0.923077</td>\n",
              "      <td>13.0</td>\n",
              "    </tr>\n",
              "    <tr>\n",
              "      <th>utterance_877</th>\n",
              "      <td>0.923077</td>\n",
              "      <td>13.0</td>\n",
              "    </tr>\n",
              "    <tr>\n",
              "      <th>utterance_3062</th>\n",
              "      <td>0.928571</td>\n",
              "      <td>14.0</td>\n",
              "    </tr>\n",
              "    <tr>\n",
              "      <th>utterance_3183</th>\n",
              "      <td>0.933333</td>\n",
              "      <td>15.0</td>\n",
              "    </tr>\n",
              "    <tr>\n",
              "      <th>utterance_3234</th>\n",
              "      <td>0.952381</td>\n",
              "      <td>21.0</td>\n",
              "    </tr>\n",
              "    <tr>\n",
              "      <th>utterance_2200</th>\n",
              "      <td>1.000000</td>\n",
              "      <td>7.0</td>\n",
              "    </tr>\n",
              "    <tr>\n",
              "      <th>utterance_586</th>\n",
              "      <td>1.000000</td>\n",
              "      <td>7.0</td>\n",
              "    </tr>\n",
              "    <tr>\n",
              "      <th>utterance_1445</th>\n",
              "      <td>1.000000</td>\n",
              "      <td>4.0</td>\n",
              "    </tr>\n",
              "    <tr>\n",
              "      <th>utterance_956</th>\n",
              "      <td>1.000000</td>\n",
              "      <td>4.0</td>\n",
              "    </tr>\n",
              "  </tbody>\n",
              "</table>\n",
              "</div>"
            ],
            "text/plain": [
              "                accuracy  dialogue_len\n",
              "episode                               \n",
              "utterance_2863  0.200000          10.0\n",
              "utterance_2848  0.333333          15.0\n",
              "utterance_3191  0.333333           3.0\n",
              "utterance_1443  0.400000           5.0\n",
              "utterance_1682  0.600000           5.0\n",
              "utterance_3791  0.600000           5.0\n",
              "utterance_2199  0.666667           6.0\n",
              "utterance_1696  0.666667           3.0\n",
              "utterance_1919  0.666667           3.0\n",
              "utterance_2255  0.666667           3.0\n",
              "utterance_2961  0.666667           3.0\n",
              "utterance_103   0.750000          12.0\n",
              "utterance_160   0.750000           4.0\n",
              "utterance_2056  0.750000           4.0\n",
              "utterance_1704  0.800000           5.0\n",
              "utterance_1884  0.800000           5.0\n",
              "utterance_253   0.800000           5.0\n",
              "utterance_403   0.800000           5.0\n",
              "utterance_3298  0.833333           6.0\n",
              "utterance_3741  0.833333           6.0\n",
              "utterance_98    0.833333           6.0\n",
              "utterance_2869  0.857143           7.0\n",
              "utterance_3769  0.857143           7.0\n",
              "utterance_3880  0.875000           8.0\n",
              "utterance_1154  0.888889           9.0\n",
              "utterance_3170  0.888889           9.0\n",
              "utterance_2557  0.909091          11.0\n",
              "utterance_627   0.909091          11.0\n",
              "utterance_1648  0.916667          12.0\n",
              "utterance_2101  0.916667          12.0\n",
              "utterance_3881  0.916667          12.0\n",
              "utterance_1603  0.923077          13.0\n",
              "utterance_877   0.923077          13.0\n",
              "utterance_3062  0.928571          14.0\n",
              "utterance_3183  0.933333          15.0\n",
              "utterance_3234  0.952381          21.0\n",
              "utterance_2200  1.000000           7.0\n",
              "utterance_586   1.000000           7.0\n",
              "utterance_1445  1.000000           4.0\n",
              "utterance_956   1.000000           4.0"
            ]
          },
          "execution_count": 57,
          "metadata": {},
          "output_type": "execute_result"
        }
      ],
      "source": [
        "# ALL IS WORKING FINE\n",
        "report.get_trigger_effect('baseline_666')\n",
        "report.get_confusion_matrix('baseline_666', plot = False)\n",
        "report.get_confusion_matrix('baseline_666_t', plot = False)\n",
        "report.get_precision_recall('baseline_666', plot = False)\n",
        "report.get_precision_recall('baseline_666_t', plot = False)\n",
        "report.get_emotions_table()\n",
        "report.get_misclassified('baseline_666')\n",
        "report.get_misclassified('baseline_666_t')\n",
        "report.get_performance_table()\n",
        "report.get_trigger_table()\n",
        "report.get_utterance_ranking('baseline_666')\n",
        "report.get_utterance_ranking('baseline_666_t')\n"
      ]
    },
    {
      "cell_type": "code",
      "execution_count": 39,
      "metadata": {},
      "outputs": [
        {
          "name": "stdout",
          "output_type": "stream",
          "text": [
            "{'baseline_666': {'name': 'baseline_666', '0_acc': tensor(0.), '1_acc': tensor(1.), '2_acc': tensor(0.), '3_acc': tensor(0.), '4_acc': tensor(0.), '5_acc': tensor(0.), '6_acc': tensor(0.), '0_f1': tensor(0.), '1_f1': tensor(0.6422), '2_f1': tensor(0.), '3_f1': tensor(0.), '4_f1': tensor(0.), '5_f1': tensor(0.), '6_f1': tensor(0.)}, 'support': {'1_acc': 149, '1_f1': 149, '4_acc': 45, '4_f1': 45, '3_acc': 36, '3_f1': 36, '6_acc': 34, '6_f1': 34, '2_acc': 29, '2_f1': 29, '5_acc': 11, '5_f1': 11, '0_acc': 11, '0_f1': 11, 'name': 'support'}}\n"
          ]
        },
        {
          "data": {
            "text/html": [
              "<div>\n",
              "<style scoped>\n",
              "    .dataframe tbody tr th:only-of-type {\n",
              "        vertical-align: middle;\n",
              "    }\n",
              "\n",
              "    .dataframe tbody tr th {\n",
              "        vertical-align: top;\n",
              "    }\n",
              "\n",
              "    .dataframe thead th {\n",
              "        text-align: right;\n",
              "    }\n",
              "</style>\n",
              "<table border=\"1\" class=\"dataframe\">\n",
              "  <thead>\n",
              "    <tr style=\"text-align: right;\">\n",
              "      <th></th>\n",
              "      <th>name</th>\n",
              "      <th>0_acc</th>\n",
              "      <th>1_acc</th>\n",
              "      <th>2_acc</th>\n",
              "      <th>3_acc</th>\n",
              "      <th>4_acc</th>\n",
              "      <th>5_acc</th>\n",
              "      <th>6_acc</th>\n",
              "      <th>0_f1</th>\n",
              "      <th>1_f1</th>\n",
              "      <th>2_f1</th>\n",
              "      <th>3_f1</th>\n",
              "      <th>4_f1</th>\n",
              "      <th>5_f1</th>\n",
              "      <th>6_f1</th>\n",
              "    </tr>\n",
              "  </thead>\n",
              "  <tbody>\n",
              "    <tr>\n",
              "      <th>0</th>\n",
              "      <td>baseline_666</td>\n",
              "      <td>0.0</td>\n",
              "      <td>1.0</td>\n",
              "      <td>0.0</td>\n",
              "      <td>0.0</td>\n",
              "      <td>0.0</td>\n",
              "      <td>0.0</td>\n",
              "      <td>0.0</td>\n",
              "      <td>0.0</td>\n",
              "      <td>0.642241</td>\n",
              "      <td>0.0</td>\n",
              "      <td>0.0</td>\n",
              "      <td>0.0</td>\n",
              "      <td>0.0</td>\n",
              "      <td>0.0</td>\n",
              "    </tr>\n",
              "    <tr>\n",
              "      <th>1</th>\n",
              "      <td>support</td>\n",
              "      <td>11.0</td>\n",
              "      <td>149.0</td>\n",
              "      <td>29.0</td>\n",
              "      <td>36.0</td>\n",
              "      <td>45.0</td>\n",
              "      <td>11.0</td>\n",
              "      <td>34.0</td>\n",
              "      <td>11.0</td>\n",
              "      <td>149.000000</td>\n",
              "      <td>29.0</td>\n",
              "      <td>36.0</td>\n",
              "      <td>45.0</td>\n",
              "      <td>11.0</td>\n",
              "      <td>34.0</td>\n",
              "    </tr>\n",
              "  </tbody>\n",
              "</table>\n",
              "</div>"
            ],
            "text/plain": [
              "           name  0_acc  1_acc  2_acc  3_acc  4_acc  5_acc  6_acc  0_f1  \\\n",
              "0  baseline_666    0.0    1.0    0.0    0.0    0.0    0.0    0.0   0.0   \n",
              "1       support   11.0  149.0   29.0   36.0   45.0   11.0   34.0  11.0   \n",
              "\n",
              "         1_f1  2_f1  3_f1  4_f1  5_f1  6_f1  \n",
              "0    0.642241   0.0   0.0   0.0   0.0   0.0  \n",
              "1  149.000000  29.0  36.0  45.0  11.0  34.0  "
            ]
          },
          "execution_count": 39,
          "metadata": {},
          "output_type": "execute_result"
        }
      ],
      "source": [
        "#Some functions return dict or list of dict. check usage in error_analysis.ipynb If you want dataframes visualization, you can do something like this\n",
        "table = report.get_emotions_table()\n",
        "print(table)\n",
        "table_df = pd.DataFrame(table.values())\n",
        "table_df = table_df.map(lambda x: x.item() if type(x) == torch.Tensor else x)\n",
        "table_df"
      ]
    },
    {
      "cell_type": "code",
      "execution_count": 58,
      "metadata": {},
      "outputs": [
        {
          "data": {
            "text/html": [
              "<div>\n",
              "<style scoped>\n",
              "    .dataframe tbody tr th:only-of-type {\n",
              "        vertical-align: middle;\n",
              "    }\n",
              "\n",
              "    .dataframe tbody tr th {\n",
              "        vertical-align: top;\n",
              "    }\n",
              "\n",
              "    .dataframe thead tr th {\n",
              "        text-align: left;\n",
              "    }\n",
              "</style>\n",
              "<table border=\"1\" class=\"dataframe\">\n",
              "  <thead>\n",
              "    <tr>\n",
              "      <th></th>\n",
              "      <th colspan=\"2\" halign=\"left\">emotion_accuracy</th>\n",
              "      <th colspan=\"2\" halign=\"left\">support</th>\n",
              "    </tr>\n",
              "    <tr>\n",
              "      <th></th>\n",
              "      <th>correct_t</th>\n",
              "      <th>bad_t</th>\n",
              "      <th>correct_t</th>\n",
              "      <th>bad_t</th>\n",
              "    </tr>\n",
              "  </thead>\n",
              "  <tbody>\n",
              "    <tr>\n",
              "      <th>baseline_666</th>\n",
              "      <td>0.0</td>\n",
              "      <td>0.42</td>\n",
              "      <td>0.0</td>\n",
              "      <td>60.0</td>\n",
              "    </tr>\n",
              "  </tbody>\n",
              "</table>\n",
              "</div>"
            ],
            "text/plain": [
              "             emotion_accuracy         support      \n",
              "                    correct_t bad_t correct_t bad_t\n",
              "baseline_666              0.0  0.42       0.0  60.0"
            ]
          },
          "execution_count": 58,
          "metadata": {},
          "output_type": "execute_result"
        }
      ],
      "source": [
        "#TABLE FOR TRIGGER ANALYSIS\n",
        "table = report.get_trigger_table()\n",
        "values = [np.array([np.array([v for v in scores.values()]).flatten() for scores in model.values()]).flatten().tolist() for model in table.values()]\n",
        "columns = next(iter(table.values())).keys()\n",
        "sub_columns = next(iter(next(iter(table.values())).values())).keys()\n",
        "indexes = table.keys()\n",
        "report_df = pd.DataFrame(values, columns = pd.MultiIndex.from_product([tuple(columns), tuple(sub_columns)]), index=indexes)\n",
        "report_df"
      ]
    }
  ],
  "metadata": {
    "accelerator": "GPU",
    "colab": {
      "provenance": []
    },
    "kernelspec": {
      "display_name": "Python 3",
      "name": "python3"
    },
    "language_info": {
      "codemirror_mode": {
        "name": "ipython",
        "version": 3
      },
      "file_extension": ".py",
      "mimetype": "text/x-python",
      "name": "python",
      "nbconvert_exporter": "python",
      "pygments_lexer": "ipython3",
      "version": "3.9.12"
    }
  },
  "nbformat": 4,
  "nbformat_minor": 0
}
