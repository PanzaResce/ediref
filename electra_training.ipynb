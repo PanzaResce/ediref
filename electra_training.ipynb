{
 "cells": [
  {
   "cell_type": "code",
   "execution_count": 1,
   "metadata": {},
   "outputs": [
    {
     "name": "stderr",
     "output_type": "stream",
     "text": [
      "c:\\Users\\marco\\anaconda3\\lib\\site-packages\\scipy\\__init__.py:146: UserWarning: A NumPy version >=1.16.5 and <1.23.0 is required for this version of SciPy (detected version 1.26.2\n",
      "  warnings.warn(f\"A NumPy version >={np_minversion} and <{np_maxversion}\"\n"
     ]
    },
    {
     "name": "stdout",
     "output_type": "stream",
     "text": [
      "WARNING:tensorflow:From c:\\Users\\marco\\anaconda3\\lib\\site-packages\\keras\\src\\losses.py:2976: The name tf.losses.sparse_softmax_cross_entropy is deprecated. Please use tf.compat.v1.losses.sparse_softmax_cross_entropy instead.\n",
      "\n"
     ]
    }
   ],
   "source": [
    "import torch\n",
    "import torch.nn.functional as F\n",
    "from src.utils import *\n",
    "from src.models.models import Model_Phrase_Concatenation, Model_Phrase_Extraction, Model_concat_nopooling\n",
    "from src.models.baseline import Baseline\n",
    "from datasets import concatenate_datasets\n",
    "from sklearn.utils.class_weight import compute_class_weight\n",
    "from transformers import DefaultDataCollator, AutoTokenizer, TrainingArguments, Trainer"
   ]
  },
  {
   "cell_type": "code",
   "execution_count": 2,
   "metadata": {},
   "outputs": [
    {
     "name": "stdout",
     "output_type": "stream",
     "text": [
      "2.1.0+cu121\n",
      "True\n"
     ]
    }
   ],
   "source": [
    "RANDOM_SEED = 42\n",
    "set_seeds(RANDOM_SEED)\n",
    "\n",
    "print(torch.__version__)\n",
    "print(torch.cuda.is_available())"
   ]
  },
  {
   "cell_type": "code",
   "execution_count": 3,
   "metadata": {},
   "outputs": [
    {
     "name": "stdout",
     "output_type": "stream",
     "text": [
      "Current work directory: c:\\Users\\marco\\OneDrive\\Immagini\\Documenti\\GitHub\\ediref\n"
     ]
    },
    {
     "data": {
      "text/html": [
       "<div>\n",
       "<style scoped>\n",
       "    .dataframe tbody tr th:only-of-type {\n",
       "        vertical-align: middle;\n",
       "    }\n",
       "\n",
       "    .dataframe tbody tr th {\n",
       "        vertical-align: top;\n",
       "    }\n",
       "\n",
       "    .dataframe thead th {\n",
       "        text-align: right;\n",
       "    }\n",
       "</style>\n",
       "<table border=\"1\" class=\"dataframe\">\n",
       "  <thead>\n",
       "    <tr style=\"text-align: right;\">\n",
       "      <th></th>\n",
       "      <th>episode</th>\n",
       "      <th>emotions</th>\n",
       "      <th>utterances</th>\n",
       "      <th>triggers</th>\n",
       "      <th>emotions_id</th>\n",
       "    </tr>\n",
       "  </thead>\n",
       "  <tbody>\n",
       "    <tr>\n",
       "      <th>0</th>\n",
       "      <td>utterance_0</td>\n",
       "      <td>[neutral, neutral, neutral, neutral, surprise]</td>\n",
       "      <td>[also I was the point person on my company's t...</td>\n",
       "      <td>[0, 0, 0, 1, 0]</td>\n",
       "      <td>[4, 4, 4, 4, 3]</td>\n",
       "    </tr>\n",
       "    <tr>\n",
       "      <th>1</th>\n",
       "      <td>utterance_1</td>\n",
       "      <td>[neutral, neutral, neutral, neutral, surprise,...</td>\n",
       "      <td>[also I was the point person on my company's t...</td>\n",
       "      <td>[0, 0, 0, 0, 0, 1, 0]</td>\n",
       "      <td>[4, 4, 4, 4, 3, 4, 4]</td>\n",
       "    </tr>\n",
       "    <tr>\n",
       "      <th>2</th>\n",
       "      <td>utterance_2</td>\n",
       "      <td>[neutral, neutral, neutral, neutral, surprise,...</td>\n",
       "      <td>[also I was the point person on my company's t...</td>\n",
       "      <td>[0, 0, 0, 0, 0, 0, 0, 1, 0, 1, 0]</td>\n",
       "      <td>[4, 4, 4, 4, 3, 4, 4, 4, 4, 4, 1]</td>\n",
       "    </tr>\n",
       "    <tr>\n",
       "      <th>3</th>\n",
       "      <td>utterance_3</td>\n",
       "      <td>[neutral, neutral, neutral, neutral, surprise,...</td>\n",
       "      <td>[also I was the point person on my company's t...</td>\n",
       "      <td>[0, 0, 0, 0, 0, 0, 0, 0, 0, 0, 0, 1, 0]</td>\n",
       "      <td>[4, 4, 4, 4, 3, 4, 4, 4, 4, 4, 1, 4, 3]</td>\n",
       "    </tr>\n",
       "    <tr>\n",
       "      <th>4</th>\n",
       "      <td>utterance_4</td>\n",
       "      <td>[surprise, sadness, surprise, fear]</td>\n",
       "      <td>[But then who? The waitress I went out with la...</td>\n",
       "      <td>[0, 0, 1, 0]</td>\n",
       "      <td>[3, 0, 3, 1]</td>\n",
       "    </tr>\n",
       "    <tr>\n",
       "      <th>...</th>\n",
       "      <td>...</td>\n",
       "      <td>...</td>\n",
       "      <td>...</td>\n",
       "      <td>...</td>\n",
       "      <td>...</td>\n",
       "    </tr>\n",
       "    <tr>\n",
       "      <th>3995</th>\n",
       "      <td>utterance_3995</td>\n",
       "      <td>[neutral, joy, neutral, neutral, surprise, dis...</td>\n",
       "      <td>[Hey., Hey!, So how was Joan?, I broke up with...</td>\n",
       "      <td>[0, 0, 0, 0, 0, 0, 0, 0, 0, 0, 0, 1]</td>\n",
       "      <td>[4, 6, 4, 4, 3, 2, 4, 2, 3, 4, 4, 2]</td>\n",
       "    </tr>\n",
       "    <tr>\n",
       "      <th>3996</th>\n",
       "      <td>utterance_3996</td>\n",
       "      <td>[neutral, joy, neutral, neutral, surprise, dis...</td>\n",
       "      <td>[Hey., Hey!, So how was Joan?, I broke up with...</td>\n",
       "      <td>[0, 0, 0, 0, 0, 0, 0, 0, 0, 0, 0, 0, 0, 1]</td>\n",
       "      <td>[4, 6, 4, 4, 3, 2, 4, 2, 3, 4, 4, 2, 2, 4]</td>\n",
       "    </tr>\n",
       "    <tr>\n",
       "      <th>3997</th>\n",
       "      <td>utterance_3997</td>\n",
       "      <td>[neutral, joy, neutral, neutral, surprise, dis...</td>\n",
       "      <td>[Hey., Hey!, So how was Joan?, I broke up with...</td>\n",
       "      <td>[0, 0, 0, 0, 0, 0, 0, 0, 0, 0, 0, 0, 0, 1, 0]</td>\n",
       "      <td>[4, 6, 4, 4, 3, 2, 4, 2, 3, 4, 4, 2, 2, 4, 4]</td>\n",
       "    </tr>\n",
       "    <tr>\n",
       "      <th>3998</th>\n",
       "      <td>utterance_3998</td>\n",
       "      <td>[neutral, joy, neutral, neutral, surprise, dis...</td>\n",
       "      <td>[Hey., Hey!, So how was Joan?, I broke up with...</td>\n",
       "      <td>[0, 0, 0, 0, 0, 0, 0, 0, 0, 0, 0, 0, 0, 0, 1, 0]</td>\n",
       "      <td>[4, 6, 4, 4, 3, 2, 4, 2, 3, 4, 4, 2, 2, 4, 4, 3]</td>\n",
       "    </tr>\n",
       "    <tr>\n",
       "      <th>3999</th>\n",
       "      <td>utterance_3999</td>\n",
       "      <td>[neutral, joy, neutral, neutral, surprise, dis...</td>\n",
       "      <td>[Hey., Hey!, So how was Joan?, I broke up with...</td>\n",
       "      <td>[0, 0, 0, 0, 0, 0, 0, 0, 0, 0, 0, 0, 0, 0, 0, ...</td>\n",
       "      <td>[4, 6, 4, 4, 3, 2, 4, 2, 3, 4, 4, 2, 2, 4, 4, ...</td>\n",
       "    </tr>\n",
       "  </tbody>\n",
       "</table>\n",
       "<p>4000 rows × 5 columns</p>\n",
       "</div>"
      ],
      "text/plain": [
       "             episode                                           emotions  \\\n",
       "0        utterance_0     [neutral, neutral, neutral, neutral, surprise]   \n",
       "1        utterance_1  [neutral, neutral, neutral, neutral, surprise,...   \n",
       "2        utterance_2  [neutral, neutral, neutral, neutral, surprise,...   \n",
       "3        utterance_3  [neutral, neutral, neutral, neutral, surprise,...   \n",
       "4        utterance_4                [surprise, sadness, surprise, fear]   \n",
       "...              ...                                                ...   \n",
       "3995  utterance_3995  [neutral, joy, neutral, neutral, surprise, dis...   \n",
       "3996  utterance_3996  [neutral, joy, neutral, neutral, surprise, dis...   \n",
       "3997  utterance_3997  [neutral, joy, neutral, neutral, surprise, dis...   \n",
       "3998  utterance_3998  [neutral, joy, neutral, neutral, surprise, dis...   \n",
       "3999  utterance_3999  [neutral, joy, neutral, neutral, surprise, dis...   \n",
       "\n",
       "                                             utterances  \\\n",
       "0     [also I was the point person on my company's t...   \n",
       "1     [also I was the point person on my company's t...   \n",
       "2     [also I was the point person on my company's t...   \n",
       "3     [also I was the point person on my company's t...   \n",
       "4     [But then who? The waitress I went out with la...   \n",
       "...                                                 ...   \n",
       "3995  [Hey., Hey!, So how was Joan?, I broke up with...   \n",
       "3996  [Hey., Hey!, So how was Joan?, I broke up with...   \n",
       "3997  [Hey., Hey!, So how was Joan?, I broke up with...   \n",
       "3998  [Hey., Hey!, So how was Joan?, I broke up with...   \n",
       "3999  [Hey., Hey!, So how was Joan?, I broke up with...   \n",
       "\n",
       "                                               triggers  \\\n",
       "0                                       [0, 0, 0, 1, 0]   \n",
       "1                                 [0, 0, 0, 0, 0, 1, 0]   \n",
       "2                     [0, 0, 0, 0, 0, 0, 0, 1, 0, 1, 0]   \n",
       "3               [0, 0, 0, 0, 0, 0, 0, 0, 0, 0, 0, 1, 0]   \n",
       "4                                          [0, 0, 1, 0]   \n",
       "...                                                 ...   \n",
       "3995               [0, 0, 0, 0, 0, 0, 0, 0, 0, 0, 0, 1]   \n",
       "3996         [0, 0, 0, 0, 0, 0, 0, 0, 0, 0, 0, 0, 0, 1]   \n",
       "3997      [0, 0, 0, 0, 0, 0, 0, 0, 0, 0, 0, 0, 0, 1, 0]   \n",
       "3998   [0, 0, 0, 0, 0, 0, 0, 0, 0, 0, 0, 0, 0, 0, 1, 0]   \n",
       "3999  [0, 0, 0, 0, 0, 0, 0, 0, 0, 0, 0, 0, 0, 0, 0, ...   \n",
       "\n",
       "                                            emotions_id  \n",
       "0                                       [4, 4, 4, 4, 3]  \n",
       "1                                 [4, 4, 4, 4, 3, 4, 4]  \n",
       "2                     [4, 4, 4, 4, 3, 4, 4, 4, 4, 4, 1]  \n",
       "3               [4, 4, 4, 4, 3, 4, 4, 4, 4, 4, 1, 4, 3]  \n",
       "4                                          [3, 0, 3, 1]  \n",
       "...                                                 ...  \n",
       "3995               [4, 6, 4, 4, 3, 2, 4, 2, 3, 4, 4, 2]  \n",
       "3996         [4, 6, 4, 4, 3, 2, 4, 2, 3, 4, 4, 2, 2, 4]  \n",
       "3997      [4, 6, 4, 4, 3, 2, 4, 2, 3, 4, 4, 2, 2, 4, 4]  \n",
       "3998   [4, 6, 4, 4, 3, 2, 4, 2, 3, 4, 4, 2, 2, 4, 4, 3]  \n",
       "3999  [4, 6, 4, 4, 3, 2, 4, 2, 3, 4, 4, 2, 2, 4, 4, ...  \n",
       "\n",
       "[4000 rows x 5 columns]"
      ]
     },
     "execution_count": 3,
     "metadata": {},
     "output_type": "execute_result"
    }
   ],
   "source": [
    "url = \"https://drive.google.com/uc?export=download&id=1wVNU2XvvhqjaGXZM-JLJwOt97gt4g9j2\"\n",
    "dataset_name = \"MELD_train_efr.json\"\n",
    "\n",
    "df_manager = DataframeManager(url, dataset_name)\n",
    "\n",
    "df = df_manager.produce_df()\n",
    "df"
   ]
  },
  {
   "cell_type": "code",
   "execution_count": 4,
   "metadata": {},
   "outputs": [],
   "source": [
    "model_card = 'google/electra-base-discriminator'\n",
    "\n",
    "tokenizer = AutoTokenizer.from_pretrained(model_card)\n",
    "\n",
    "model_dir = \"./model_dir/\"+model_card.split(\"/\")[-1]+\"/\"\n",
    "data_collator = DefaultDataCollator()"
   ]
  },
  {
   "cell_type": "code",
   "execution_count": 5,
   "metadata": {},
   "outputs": [],
   "source": [
    "train_data_tokenized, val_data_tokenized, test_data_tokenized = df_manager.produce_dataset(tokenizer, RANDOM_SEED)"
   ]
  },
  {
   "cell_type": "code",
   "execution_count": 6,
   "metadata": {},
   "outputs": [
    {
     "data": {
      "text/plain": [
       "28062"
      ]
     },
     "execution_count": 6,
     "metadata": {},
     "output_type": "execute_result"
    }
   ],
   "source": [
    "len(train_data_tokenized)"
   ]
  },
  {
   "cell_type": "code",
   "execution_count": 7,
   "metadata": {},
   "outputs": [],
   "source": [
    "def init_pos_weight(data, labels_column, class_weights=True, factor=1):\n",
    "    y = data[labels_column].numpy()\n",
    "    if class_weights:\n",
    "        return torch.tensor(compute_class_weight(class_weight=\"balanced\", classes=np.unique(y), y=y)).to(\"cuda\")\n",
    "    else:\n",
    "        return torch.tensor(compute_class_weight(class_weight=None, classes=np.unique(y), y=y)).to(\"cuda\")"
   ]
  },
  {
   "cell_type": "code",
   "execution_count": 8,
   "metadata": {},
   "outputs": [],
   "source": [
    "class MultiLabelTrainer(Trainer):\n",
    "    def __init__(self, pos_weight=None, **kwargs):\n",
    "        self.emotions_pos_weight, self.triggers_pos_weight = pos_weight\n",
    "        super().__init__(**kwargs)\n",
    "\n",
    "    def compute_loss(self, model, inputs, return_outputs=False):\n",
    "        emotions_true = inputs[\"emotions_id_one_hot_encoding\"].to(\"cuda\")\n",
    "        triggers_true = inputs[\"triggers\"].unsqueeze(1).float().to(\"cuda\")\n",
    "\n",
    "        result = model(**inputs)\n",
    "        \n",
    "        emotion_logits = result['emotion_logits'].to(\"cuda\")\n",
    "        trigger_logits = result['trigger_logits'].to(\"cuda\")\n",
    "        \n",
    "        loss_fct_emotions = torch.nn.CrossEntropyLoss(weight=self.emotions_pos_weight).to(\"cuda\")        \n",
    "        loss_fct_triggers = torch.nn.BCEWithLogitsLoss(pos_weight=self.triggers_pos_weight[1]).to(\"cuda\")\n",
    "        \n",
    "        loss_emotions = loss_fct_emotions(emotion_logits, emotions_true.float())\n",
    "        loss_triggers = loss_fct_triggers(trigger_logits, triggers_true)\n",
    "\n",
    "\n",
    "        loss_emotions_wt = 0.5\n",
    "        loss_triggers_wt = 0.5\n",
    "\n",
    "        loss = loss_emotions_wt*loss_emotions + loss_triggers_wt*loss_triggers\n",
    "        return (loss, {'emotion_logits': emotion_logits, 'trigger_logits': trigger_logits}) if return_outputs else loss\n",
    "\n",
    "def get_trainer(model, train, val, model_dir, class_weights=True, batch_size=1, epochs=20):\n",
    "    training_args = TrainingArguments(\n",
    "        output_dir=model_dir,\n",
    "        learning_rate=2e-5,\n",
    "        per_device_train_batch_size=batch_size,\n",
    "        per_device_eval_batch_size=batch_size,\n",
    "        num_train_epochs=epochs,\n",
    "        weight_decay=0.01,\n",
    "        evaluation_strategy=\"epoch\",\n",
    "        save_strategy=\"epoch\",\n",
    "        save_total_limit=1,\n",
    "        lr_scheduler_type=\"cosine\",\n",
    "        metric_for_best_model='u_avg_f1',\n",
    "        report_to='none',\n",
    "        label_names=[\"emotions_id\", \"triggers\", \"dialogue_index\"],\n",
    "    )\n",
    "\n",
    "    full_dataset = concatenate_datasets([train_data_tokenized, val_data_tokenized, test_data_tokenized])\n",
    "    pos_weight = (init_pos_weight(full_dataset, df_manager.column_emotions_id, class_weights), init_pos_weight(full_dataset, df_manager.column_triggers, class_weights))\n",
    "\n",
    "    trainer = MultiLabelTrainer(\n",
    "        pos_weight=pos_weight,\n",
    "        model=model,\n",
    "        args=training_args,\n",
    "        train_dataset=train,\n",
    "        eval_dataset=val,\n",
    "        tokenizer=tokenizer,\n",
    "        data_collator=data_collator,\n",
    "        compute_metrics=lambda pred: compute_metrics(pred, len(df_manager.emotion2id.keys()))\n",
    "    )\n",
    "\n",
    "    return trainer"
   ]
  },
  {
   "cell_type": "code",
   "execution_count": 8,
   "metadata": {},
   "outputs": [],
   "source": [
    "# How to load a model\n",
    "# b = Model_Phrase_Extraction(len(df_manager.unique_emotions), tokenizer.sep_token_id)\n",
    "# model_path = model_dir + \"bert_extraction_51\"\n",
    "# b.load_state_dict(torch.load(model_path+\"/bert_extraction_51.pth\"))\n",
    "# tr = get_trainer(b, train_data_tokenized, val_data_tokenized, model_path, class_weights=True, batch_size=4, epochs=5)\n",
    "# tr.evaluate(val_data_tokenized)"
   ]
  },
  {
   "cell_type": "code",
   "execution_count": 11,
   "metadata": {},
   "outputs": [],
   "source": [
    "def train_extr_model(seed, model_card, freeze=False):\n",
    "    set_seeds(seed)\n",
    "    base_model = Model_Phrase_Extraction(len(df_manager.unique_emotions), tokenizer.sep_token_id, model_card, freeze)\n",
    "    model_path = model_dir+\"electra_extraction_freeze_\"+str(seed) if freeze else model_dir+\"electra_extraction_\"+str(seed)\n",
    "\n",
    "    trainer = get_trainer(base_model, train_data_tokenized, val_data_tokenized, model_path, class_weights=True, batch_size=4, epochs=5)\n",
    "\n",
    "    print(f'Training EXTRACTION MODEL with seed {seed}:')\n",
    "\n",
    "    trainer.train()\n",
    "    save_name = \"/electra_extraction_freeze_\"+str(seed)+\".pth\" if freeze else \"/electra_extraction_\"+str(seed)+\".pth\"\n",
    "    torch.save(base_model.state_dict(), model_path+save_name)"
   ]
  },
  {
   "cell_type": "code",
   "execution_count": 10,
   "metadata": {},
   "outputs": [],
   "source": [
    "seeds = [49, 666, 51, 77, 111]"
   ]
  },
  {
   "cell_type": "code",
   "execution_count": 12,
   "metadata": {},
   "outputs": [
    {
     "name": "stderr",
     "output_type": "stream",
     "text": [
      "c:\\Users\\marco\\anaconda3\\lib\\site-packages\\datasets\\table.py:1395: FutureWarning: promote has been superseded by mode='default'.\n",
      "  block_group = [InMemoryTable(cls._concat_blocks(list(block_group), axis=axis))]\n",
      "c:\\Users\\marco\\anaconda3\\lib\\site-packages\\datasets\\table.py:1421: FutureWarning: promote has been superseded by mode='default'.\n",
      "  table = cls._concat_blocks(blocks, axis=0)\n"
     ]
    },
    {
     "name": "stdout",
     "output_type": "stream",
     "text": [
      "Training EXTRACTION MODEL with seed 49:\n"
     ]
    },
    {
     "data": {
      "application/vnd.jupyter.widget-view+json": {
       "model_id": "099947307f044ba3a5f28610e3a12ac3",
       "version_major": 2,
       "version_minor": 0
      },
      "text/plain": [
       "  0%|          | 0/35080 [00:00<?, ?it/s]"
      ]
     },
     "metadata": {},
     "output_type": "display_data"
    },
    {
     "name": "stderr",
     "output_type": "stream",
     "text": [
      "Could not estimate the number of tokens of the input, floating-point operations will not be computed\n"
     ]
    },
    {
     "name": "stdout",
     "output_type": "stream",
     "text": [
      "{'loss': 1.5503, 'grad_norm': 23.523033142089844, 'learning_rate': 1.9989976531650042e-05, 'epoch': 0.07}\n",
      "{'loss': 1.4815, 'grad_norm': 14.407891273498535, 'learning_rate': 1.9959926220583713e-05, 'epoch': 0.14}\n",
      "{'loss': 1.3513, 'grad_norm': 5.53718900680542, 'learning_rate': 1.9909909308469398e-05, 'epoch': 0.21}\n",
      "{'loss': 1.3482, 'grad_norm': 13.497732162475586, 'learning_rate': 1.9840026063894193e-05, 'epoch': 0.29}\n",
      "{'loss': 1.3739, 'grad_norm': 4.764459609985352, 'learning_rate': 1.9750416581356147e-05, 'epoch': 0.36}\n",
      "{'loss': 1.3332, 'grad_norm': 2.6084022521972656, 'learning_rate': 1.9641260500417672e-05, 'epoch': 0.43}\n",
      "{'loss': 1.3642, 'grad_norm': 7.200868129730225, 'learning_rate': 1.9512776645583266e-05, 'epoch': 0.5}\n",
      "{'loss': 1.2698, 'grad_norm': 28.135955810546875, 'learning_rate': 1.9365222587623407e-05, 'epoch': 0.57}\n",
      "{'loss': 1.3, 'grad_norm': 4.9596781730651855, 'learning_rate': 1.9198894127224075e-05, 'epoch': 0.64}\n",
      "{'loss': 1.3046, 'grad_norm': 8.886441230773926, 'learning_rate': 1.9014124701996973e-05, 'epoch': 0.71}\n",
      "{'loss': 1.2499, 'grad_norm': 6.7416791915893555, 'learning_rate': 1.881128471803926e-05, 'epoch': 0.78}\n",
      "{'loss': 1.317, 'grad_norm': 3.6095969676971436, 'learning_rate': 1.859078080738279e-05, 'epoch': 0.86}\n",
      "{'loss': 1.1823, 'grad_norm': 7.907238006591797, 'learning_rate': 1.835305501282148e-05, 'epoch': 0.93}\n",
      "{'loss': 1.241, 'grad_norm': 8.620452880859375, 'learning_rate': 1.809858390175087e-05, 'epoch': 1.0}\n"
     ]
    },
    {
     "data": {
      "application/vnd.jupyter.widget-view+json": {
       "model_id": "82782a1e0b2340779ea51e7f010323ff",
       "version_major": 2,
       "version_minor": 0
      },
      "text/plain": [
       "  0%|          | 0/860 [00:00<?, ?it/s]"
      ]
     },
     "metadata": {},
     "output_type": "display_data"
    },
    {
     "name": "stdout",
     "output_type": "stream",
     "text": [
      "{'eval_loss': 1.2258921397153542, 'eval_accuracy_emotions': 0.5278, 'eval_accuracy_triggers': 0.828, 'eval_u_avg_f1': 0.5334, 'eval_u_f1scores_emotions': 0.4036, 'eval_u_f1scores_triggers': 0.6633, 'eval_d_f1scores_emotions': 0.5369, 'eval_d_f1scores_triggers': 0.7931, 'eval_runtime': 687.9695, 'eval_samples_per_second': 4.996, 'eval_steps_per_second': 1.25, 'epoch': 1.0}\n",
      "{'loss': 1.1847, 'grad_norm': 4.730344295501709, 'learning_rate': 1.7827877610796515e-05, 'epoch': 1.07}\n",
      "{'loss': 1.1864, 'grad_norm': 8.70012092590332, 'learning_rate': 1.7541478823146328e-05, 'epoch': 1.14}\n",
      "{'loss': 1.1209, 'grad_norm': 12.081023216247559, 'learning_rate': 1.7239961680637002e-05, 'epoch': 1.21}\n",
      "{'loss': 1.1398, 'grad_norm': 7.351411819458008, 'learning_rate': 1.6923930632775517e-05, 'epoch': 1.28}\n",
      "{'loss': 1.0389, 'grad_norm': 5.166856288909912, 'learning_rate': 1.6594019225003043e-05, 'epoch': 1.35}\n",
      "{'loss': 1.0742, 'grad_norm': 6.098517417907715, 'learning_rate': 1.62508888286304e-05, 'epoch': 1.43}\n",
      "{'loss': 1.1438, 'grad_norm': 4.175447463989258, 'learning_rate': 1.589522731499118e-05, 'epoch': 1.5}\n",
      "{'loss': 1.025, 'grad_norm': 20.66605567932129, 'learning_rate': 1.552774767647043e-05, 'epoch': 1.57}\n",
      "{'loss': 1.0906, 'grad_norm': 6.872016906738281, 'learning_rate': 1.5149186597173348e-05, 'epoch': 1.64}\n",
      "{'loss': 1.0095, 'grad_norm': 12.495412826538086, 'learning_rate': 1.4760302976099305e-05, 'epoch': 1.71}\n",
      "{'loss': 1.0063, 'grad_norm': 9.613592147827148, 'learning_rate': 1.4361876405781835e-05, 'epoch': 1.78}\n",
      "{'loss': 1.0241, 'grad_norm': 5.664312839508057, 'learning_rate': 1.3954705609444403e-05, 'epoch': 1.85}\n",
      "{'loss': 1.0196, 'grad_norm': 10.8612699508667, 'learning_rate': 1.3539606839805037e-05, 'epoch': 1.92}\n",
      "{'loss': 0.9648, 'grad_norm': 34.00212478637695, 'learning_rate': 1.3117412242739655e-05, 'epoch': 2.0}\n"
     ]
    },
    {
     "data": {
      "application/vnd.jupyter.widget-view+json": {
       "model_id": "b215eb5d0b5747f488c6f39ef28e0bb2",
       "version_major": 2,
       "version_minor": 0
      },
      "text/plain": [
       "  0%|          | 0/860 [00:00<?, ?it/s]"
      ]
     },
     "metadata": {},
     "output_type": "display_data"
    },
    {
     "name": "stdout",
     "output_type": "stream",
     "text": [
      "{'eval_loss': 1.0037077160306693, 'eval_accuracy_emotions': 0.6026, 'eval_accuracy_triggers': 0.8164, 'eval_u_avg_f1': 0.6162, 'eval_u_f1scores_emotions': 0.5538, 'eval_u_f1scores_triggers': 0.6787, 'eval_d_f1scores_emotions': 0.6017, 'eval_d_f1scores_triggers': 0.7807, 'eval_runtime': 687.9829, 'eval_samples_per_second': 4.996, 'eval_steps_per_second': 1.25, 'epoch': 2.0}\n",
      "{'loss': 0.8511, 'grad_norm': 7.77825403213501, 'learning_rate': 1.2688968189084494e-05, 'epoch': 2.07}\n",
      "{'loss': 0.8637, 'grad_norm': 5.907987117767334, 'learning_rate': 1.225513357792187e-05, 'epoch': 2.14}\n",
      "{'loss': 0.8893, 'grad_norm': 67.90797424316406, 'learning_rate': 1.1816778114750594e-05, 'epoch': 2.21}\n",
      "{'loss': 0.8565, 'grad_norm': 5.908543586730957, 'learning_rate': 1.13747805679929e-05, 'epoch': 2.28}\n",
      "{'loss': 0.8985, 'grad_norm': 13.548846244812012, 'learning_rate': 1.0930027007332924e-05, 'epoch': 2.35}\n",
      "{'loss': 0.8602, 'grad_norm': 20.146947860717773, 'learning_rate': 1.0483409027418426e-05, 'epoch': 2.42}\n",
      "{'loss': 0.816, 'grad_norm': 10.10700798034668, 'learning_rate': 1.0035821960486643e-05, 'epoch': 2.49}\n",
      "{'loss': 0.8126, 'grad_norm': 25.99091148376465, 'learning_rate': 9.588163081497427e-06, 'epoch': 2.57}\n",
      "{'loss': 0.8349, 'grad_norm': 4.064088344573975, 'learning_rate': 9.141329809371803e-06, 'epoch': 2.64}\n",
      "{'loss': 0.7925, 'grad_norm': 38.16193389892578, 'learning_rate': 8.696217907941941e-06, 'epoch': 2.71}\n",
      "{'loss': 0.7885, 'grad_norm': 17.00670623779297, 'learning_rate': 8.253719690219079e-06, 'epoch': 2.78}\n",
      "{'loss': 0.7443, 'grad_norm': 29.663209915161133, 'learning_rate': 7.814722229579263e-06, 'epoch': 2.85}\n",
      "{'loss': 0.8339, 'grad_norm': 5.8783464431762695, 'learning_rate': 7.380105581452988e-06, 'epoch': 2.92}\n",
      "{'loss': 0.7985, 'grad_norm': 16.8697566986084, 'learning_rate': 6.9507410190836174e-06, 'epoch': 2.99}\n"
     ]
    },
    {
     "data": {
      "application/vnd.jupyter.widget-view+json": {
       "model_id": "d3384b9cc8ce4be4bf643b74b7015466",
       "version_major": 2,
       "version_minor": 0
      },
      "text/plain": [
       "  0%|          | 0/860 [00:00<?, ?it/s]"
      ]
     },
     "metadata": {},
     "output_type": "display_data"
    },
    {
     "name": "stdout",
     "output_type": "stream",
     "text": [
      "{'eval_loss': 0.7938696966618242, 'eval_accuracy_emotions': 0.7373, 'eval_accuracy_triggers': 0.8086, 'eval_u_avg_f1': 0.695, 'eval_u_f1scores_emotions': 0.6911, 'eval_u_f1scores_triggers': 0.6988, 'eval_d_f1scores_emotions': 0.7215, 'eval_d_f1scores_triggers': 0.7629, 'eval_runtime': 688.0721, 'eval_samples_per_second': 4.995, 'eval_steps_per_second': 1.25, 'epoch': 3.0}\n",
      "{'loss': 0.6747, 'grad_norm': 21.591777801513672, 'learning_rate': 6.527489286891458e-06, 'epoch': 3.06}\n",
      "{'loss': 0.7254, 'grad_norm': 8.639361381530762, 'learning_rate': 6.111198874944846e-06, 'epoch': 3.14}\n",
      "{'loss': 0.6415, 'grad_norm': 36.58537292480469, 'learning_rate': 5.702704317997491e-06, 'epoch': 3.21}\n",
      "{'loss': 0.6582, 'grad_norm': 9.00691032409668, 'learning_rate': 5.302824522501931e-06, 'epoch': 3.28}\n",
      "{'loss': 0.6819, 'grad_norm': 78.05694580078125, 'learning_rate': 4.912361124952949e-06, 'epoch': 3.35}\n",
      "{'loss': 0.6355, 'grad_norm': 44.683773040771484, 'learning_rate': 4.532096884851978e-06, 'epoch': 3.42}\n",
      "{'loss': 0.6528, 'grad_norm': 16.795780181884766, 'learning_rate': 4.162794115514078e-06, 'epoch': 3.49}\n",
      "{'loss': 0.6392, 'grad_norm': 51.349449157714844, 'learning_rate': 3.805193155863247e-06, 'epoch': 3.56}\n",
      "{'loss': 0.6375, 'grad_norm': 54.17124557495117, 'learning_rate': 3.460010886279681e-06, 'epoch': 3.63}\n",
      "{'loss': 0.606, 'grad_norm': 11.160689353942871, 'learning_rate': 3.1279392914742047e-06, 'epoch': 3.71}\n",
      "{'loss': 0.6537, 'grad_norm': 5.24110221862793, 'learning_rate': 2.8096440732709085e-06, 'epoch': 3.78}\n",
      "{'loss': 0.6201, 'grad_norm': 6.091979503631592, 'learning_rate': 2.5057633160789186e-06, 'epoch': 3.85}\n",
      "{'loss': 0.5926, 'grad_norm': 25.15923500061035, 'learning_rate': 2.2169062077286072e-06, 'epoch': 3.92}\n",
      "{'loss': 0.5822, 'grad_norm': 13.943392753601074, 'learning_rate': 1.943651818236616e-06, 'epoch': 3.99}\n"
     ]
    },
    {
     "data": {
      "application/vnd.jupyter.widget-view+json": {
       "model_id": "81fd9355fbc24a7c93c116a85666e52e",
       "version_major": 2,
       "version_minor": 0
      },
      "text/plain": [
       "  0%|          | 0/860 [00:00<?, ?it/s]"
      ]
     },
     "metadata": {},
     "output_type": "display_data"
    },
    {
     "name": "stdout",
     "output_type": "stream",
     "text": [
      "{'eval_loss': 0.7240359774864472, 'eval_accuracy_emotions': 0.8013, 'eval_accuracy_triggers': 0.8179, 'eval_u_avg_f1': 0.7388, 'eval_u_f1scores_emotions': 0.7804, 'eval_u_f1scores_triggers': 0.6973, 'eval_d_f1scores_emotions': 0.7912, 'eval_d_f1scores_triggers': 0.7727, 'eval_runtime': 688.1218, 'eval_samples_per_second': 4.995, 'eval_steps_per_second': 1.25, 'epoch': 4.0}\n",
      "{'loss': 0.5582, 'grad_norm': 9.661345481872559, 'learning_rate': 1.6865479389478545e-06, 'epoch': 4.06}\n",
      "{'loss': 0.5658, 'grad_norm': 99.94718170166016, 'learning_rate': 1.4461099843816684e-06, 'epoch': 4.13}\n",
      "{'loss': 0.562, 'grad_norm': 30.64739418029785, 'learning_rate': 1.2228199589835998e-06, 'epoch': 4.2}\n",
      "{'loss': 0.5751, 'grad_norm': 15.452826499938965, 'learning_rate': 1.0171254908541373e-06, 'epoch': 4.28}\n",
      "{'loss': 0.5748, 'grad_norm': 11.17940616607666, 'learning_rate': 8.294389343914899e-07, 'epoch': 4.35}\n",
      "{'loss': 0.5607, 'grad_norm': 7.925429344177246, 'learning_rate': 6.601365436473439e-07, 'epoch': 4.42}\n",
      "{'loss': 0.5699, 'grad_norm': 42.80105209350586, 'learning_rate': 5.095577180527378e-07, 'epoch': 4.49}\n",
      "{'loss': 0.5423, 'grad_norm': 33.72835159301758, 'learning_rate': 3.780043220261764e-07, 'epoch': 4.56}\n",
      "{'loss': 0.5695, 'grad_norm': 1.4024453163146973, 'learning_rate': 2.6574007982793857e-07, 'epoch': 4.63}\n",
      "{'loss': 0.5361, 'grad_norm': 19.430883407592773, 'learning_rate': 1.7299004687372666e-07, 'epoch': 4.7}\n",
      "{'loss': 0.5814, 'grad_norm': 14.916864395141602, 'learning_rate': 9.994015856749528e-08, 'epoch': 4.77}\n",
      "{'loss': 0.5248, 'grad_norm': 12.983224868774414, 'learning_rate': 4.673685755792523e-08, 'epoch': 4.85}\n",
      "{'loss': 0.5475, 'grad_norm': 29.027040481567383, 'learning_rate': 1.3486800165773972e-08, 'epoch': 4.92}\n",
      "{'loss': 0.5447, 'grad_norm': 11.418900489807129, 'learning_rate': 2.5664257062185673e-10, 'epoch': 4.99}\n"
     ]
    },
    {
     "data": {
      "application/vnd.jupyter.widget-view+json": {
       "model_id": "549a5115629b49c2855e01ddde95216e",
       "version_major": 2,
       "version_minor": 0
      },
      "text/plain": [
       "  0%|          | 0/860 [00:00<?, ?it/s]"
      ]
     },
     "metadata": {},
     "output_type": "display_data"
    },
    {
     "name": "stdout",
     "output_type": "stream",
     "text": [
      "{'eval_loss': 0.7348935926066839, 'eval_accuracy_emotions': 0.8179, 'eval_accuracy_triggers': 0.8222, 'eval_u_avg_f1': 0.7448, 'eval_u_f1scores_emotions': 0.7986, 'eval_u_f1scores_triggers': 0.691, 'eval_d_f1scores_emotions': 0.8057, 'eval_d_f1scores_triggers': 0.7765, 'eval_runtime': 688.0526, 'eval_samples_per_second': 4.995, 'eval_steps_per_second': 1.25, 'epoch': 5.0}\n",
      "{'train_runtime': 11173.1558, 'train_samples_per_second': 12.558, 'train_steps_per_second': 3.14, 'train_loss': 0.8870776417861642, 'epoch': 5.0}\n"
     ]
    }
   ],
   "source": [
    "# Training model with seed 49\n",
    "train_extr_model(49, model_card)"
   ]
  },
  {
   "cell_type": "code",
   "execution_count": 13,
   "metadata": {},
   "outputs": [
    {
     "name": "stderr",
     "output_type": "stream",
     "text": [
      "c:\\Users\\marco\\anaconda3\\lib\\site-packages\\datasets\\table.py:1395: FutureWarning: promote has been superseded by mode='default'.\n",
      "  block_group = [InMemoryTable(cls._concat_blocks(list(block_group), axis=axis))]\n",
      "c:\\Users\\marco\\anaconda3\\lib\\site-packages\\datasets\\table.py:1421: FutureWarning: promote has been superseded by mode='default'.\n",
      "  table = cls._concat_blocks(blocks, axis=0)\n"
     ]
    },
    {
     "name": "stdout",
     "output_type": "stream",
     "text": [
      "Training EXTRACTION MODEL with seed 666:\n"
     ]
    },
    {
     "data": {
      "application/vnd.jupyter.widget-view+json": {
       "model_id": "0dc67880714644508912a31dcd86c639",
       "version_major": 2,
       "version_minor": 0
      },
      "text/plain": [
       "  0%|          | 0/35080 [00:00<?, ?it/s]"
      ]
     },
     "metadata": {},
     "output_type": "display_data"
    },
    {
     "name": "stderr",
     "output_type": "stream",
     "text": [
      "Could not estimate the number of tokens of the input, floating-point operations will not be computed\n"
     ]
    },
    {
     "name": "stdout",
     "output_type": "stream",
     "text": [
      "{'loss': 1.5579, 'grad_norm': 18.56740379333496, 'learning_rate': 1.9989976531650042e-05, 'epoch': 0.07}\n",
      "{'loss': 1.4716, 'grad_norm': 7.754338264465332, 'learning_rate': 1.9959926220583713e-05, 'epoch': 0.14}\n",
      "{'loss': 1.3423, 'grad_norm': 4.732564926147461, 'learning_rate': 1.9909909308469398e-05, 'epoch': 0.21}\n",
      "{'loss': 1.3347, 'grad_norm': 12.34620189666748, 'learning_rate': 1.9840026063894193e-05, 'epoch': 0.29}\n",
      "{'loss': 1.3627, 'grad_norm': 4.137117862701416, 'learning_rate': 1.9750416581356147e-05, 'epoch': 0.36}\n",
      "{'loss': 1.3194, 'grad_norm': 1.6340515613555908, 'learning_rate': 1.9641260500417672e-05, 'epoch': 0.43}\n",
      "{'loss': 1.3324, 'grad_norm': 7.403370380401611, 'learning_rate': 1.9512776645583266e-05, 'epoch': 0.5}\n",
      "{'loss': 1.2725, 'grad_norm': 16.576576232910156, 'learning_rate': 1.9365222587623407e-05, 'epoch': 0.57}\n",
      "{'loss': 1.3033, 'grad_norm': 5.041884422302246, 'learning_rate': 1.9198894127224075e-05, 'epoch': 0.64}\n",
      "{'loss': 1.302, 'grad_norm': 5.951294898986816, 'learning_rate': 1.9014124701996973e-05, 'epoch': 0.71}\n",
      "{'loss': 1.2542, 'grad_norm': 5.223366737365723, 'learning_rate': 1.881128471803926e-05, 'epoch': 0.78}\n",
      "{'loss': 1.3142, 'grad_norm': 4.0261101722717285, 'learning_rate': 1.859078080738279e-05, 'epoch': 0.86}\n",
      "{'loss': 1.2044, 'grad_norm': 4.931028366088867, 'learning_rate': 1.835305501282148e-05, 'epoch': 0.93}\n",
      "{'loss': 1.2344, 'grad_norm': 11.834390640258789, 'learning_rate': 1.809858390175087e-05, 'epoch': 1.0}\n"
     ]
    },
    {
     "data": {
      "application/vnd.jupyter.widget-view+json": {
       "model_id": "b7d8829d21f84553bd0895db0a5ca8ae",
       "version_major": 2,
       "version_minor": 0
      },
      "text/plain": [
       "  0%|          | 0/860 [00:00<?, ?it/s]"
      ]
     },
     "metadata": {},
     "output_type": "display_data"
    },
    {
     "name": "stdout",
     "output_type": "stream",
     "text": [
      "{'eval_loss': 1.1969608082962853, 'eval_accuracy_emotions': 0.4745, 'eval_accuracy_triggers': 0.8118, 'eval_u_avg_f1': 0.5246, 'eval_u_f1scores_emotions': 0.3685, 'eval_u_f1scores_triggers': 0.6807, 'eval_d_f1scores_emotions': 0.4856, 'eval_d_f1scores_triggers': 0.7736, 'eval_runtime': 688.2279, 'eval_samples_per_second': 4.994, 'eval_steps_per_second': 1.25, 'epoch': 1.0}\n",
      "{'loss': 1.2048, 'grad_norm': 6.208807945251465, 'learning_rate': 1.7827877610796515e-05, 'epoch': 1.07}\n",
      "{'loss': 1.1869, 'grad_norm': 7.521693229675293, 'learning_rate': 1.7541478823146328e-05, 'epoch': 1.14}\n",
      "{'loss': 1.1449, 'grad_norm': 11.467703819274902, 'learning_rate': 1.7239961680637002e-05, 'epoch': 1.21}\n",
      "{'loss': 1.1537, 'grad_norm': 5.670267105102539, 'learning_rate': 1.6923930632775517e-05, 'epoch': 1.28}\n",
      "{'loss': 1.073, 'grad_norm': 6.837320327758789, 'learning_rate': 1.6594019225003043e-05, 'epoch': 1.35}\n",
      "{'loss': 1.1039, 'grad_norm': 7.393533706665039, 'learning_rate': 1.62508888286304e-05, 'epoch': 1.43}\n",
      "{'loss': 1.1601, 'grad_norm': 2.975226879119873, 'learning_rate': 1.589522731499118e-05, 'epoch': 1.5}\n",
      "{'loss': 1.0589, 'grad_norm': 24.553382873535156, 'learning_rate': 1.552774767647043e-05, 'epoch': 1.57}\n",
      "{'loss': 1.1055, 'grad_norm': 2.0198962688446045, 'learning_rate': 1.5149186597173348e-05, 'epoch': 1.64}\n",
      "{'loss': 1.0285, 'grad_norm': 19.041118621826172, 'learning_rate': 1.4760302976099305e-05, 'epoch': 1.71}\n",
      "{'loss': 1.0183, 'grad_norm': 11.399547576904297, 'learning_rate': 1.4361876405781835e-05, 'epoch': 1.78}\n",
      "{'loss': 1.0196, 'grad_norm': 6.644716262817383, 'learning_rate': 1.3954705609444403e-05, 'epoch': 1.85}\n",
      "{'loss': 1.0143, 'grad_norm': 16.116867065429688, 'learning_rate': 1.3539606839805037e-05, 'epoch': 1.92}\n",
      "{'loss': 1.0028, 'grad_norm': 33.39649963378906, 'learning_rate': 1.3117412242739655e-05, 'epoch': 2.0}\n"
     ]
    },
    {
     "data": {
      "application/vnd.jupyter.widget-view+json": {
       "model_id": "d0cae5ce32c54a4eaa279065bcdb6547",
       "version_major": 2,
       "version_minor": 0
      },
      "text/plain": [
       "  0%|          | 0/860 [00:00<?, ?it/s]"
      ]
     },
     "metadata": {},
     "output_type": "display_data"
    },
    {
     "name": "stdout",
     "output_type": "stream",
     "text": [
      "{'eval_loss': 1.0389991013595463, 'eval_accuracy_emotions': 0.5985, 'eval_accuracy_triggers': 0.8208, 'eval_u_avg_f1': 0.608, 'eval_u_f1scores_emotions': 0.5337, 'eval_u_f1scores_triggers': 0.6823, 'eval_d_f1scores_emotions': 0.6016, 'eval_d_f1scores_triggers': 0.7795, 'eval_runtime': 688.1068, 'eval_samples_per_second': 4.995, 'eval_steps_per_second': 1.25, 'epoch': 2.0}\n",
      "{'loss': 0.8677, 'grad_norm': 5.7922868728637695, 'learning_rate': 1.2688968189084494e-05, 'epoch': 2.07}\n",
      "{'loss': 0.9171, 'grad_norm': 6.638861656188965, 'learning_rate': 1.225513357792187e-05, 'epoch': 2.14}\n",
      "{'loss': 0.8998, 'grad_norm': 41.45229721069336, 'learning_rate': 1.1816778114750594e-05, 'epoch': 2.21}\n",
      "{'loss': 0.8851, 'grad_norm': 7.716005802154541, 'learning_rate': 1.13747805679929e-05, 'epoch': 2.28}\n",
      "{'loss': 0.8937, 'grad_norm': 22.192787170410156, 'learning_rate': 1.0930027007332924e-05, 'epoch': 2.35}\n",
      "{'loss': 0.9022, 'grad_norm': 60.65625, 'learning_rate': 1.0483409027418426e-05, 'epoch': 2.42}\n",
      "{'loss': 0.8318, 'grad_norm': 12.449830055236816, 'learning_rate': 1.0035821960486643e-05, 'epoch': 2.49}\n",
      "{'loss': 0.8264, 'grad_norm': 29.18038558959961, 'learning_rate': 9.588163081497427e-06, 'epoch': 2.57}\n",
      "{'loss': 0.855, 'grad_norm': 4.374197006225586, 'learning_rate': 9.141329809371803e-06, 'epoch': 2.64}\n",
      "{'loss': 0.8265, 'grad_norm': 35.92293167114258, 'learning_rate': 8.696217907941941e-06, 'epoch': 2.71}\n",
      "{'loss': 0.8243, 'grad_norm': 15.348289489746094, 'learning_rate': 8.253719690219079e-06, 'epoch': 2.78}\n",
      "{'loss': 0.7778, 'grad_norm': 25.248653411865234, 'learning_rate': 7.814722229579263e-06, 'epoch': 2.85}\n",
      "{'loss': 0.8367, 'grad_norm': 7.406229019165039, 'learning_rate': 7.380105581452988e-06, 'epoch': 2.92}\n",
      "{'loss': 0.8138, 'grad_norm': 18.85930061340332, 'learning_rate': 6.9507410190836174e-06, 'epoch': 2.99}\n"
     ]
    },
    {
     "data": {
      "application/vnd.jupyter.widget-view+json": {
       "model_id": "9edc7c55c6c74476ab892ee1c66bae86",
       "version_major": 2,
       "version_minor": 0
      },
      "text/plain": [
       "  0%|          | 0/860 [00:00<?, ?it/s]"
      ]
     },
     "metadata": {},
     "output_type": "display_data"
    },
    {
     "name": "stdout",
     "output_type": "stream",
     "text": [
      "{'eval_loss': 0.8131707961034943, 'eval_accuracy_emotions': 0.7163, 'eval_accuracy_triggers': 0.815, 'eval_u_avg_f1': 0.6889, 'eval_u_f1scores_emotions': 0.6799, 'eval_u_f1scores_triggers': 0.698, 'eval_d_f1scores_emotions': 0.7073, 'eval_d_f1scores_triggers': 0.7753, 'eval_runtime': 688.1819, 'eval_samples_per_second': 4.994, 'eval_steps_per_second': 1.25, 'epoch': 3.0}\n",
      "{'loss': 0.675, 'grad_norm': 35.65281677246094, 'learning_rate': 6.527489286891458e-06, 'epoch': 3.06}\n",
      "{'loss': 0.7426, 'grad_norm': 9.14625072479248, 'learning_rate': 6.111198874944846e-06, 'epoch': 3.14}\n",
      "{'loss': 0.6422, 'grad_norm': 38.97269058227539, 'learning_rate': 5.702704317997491e-06, 'epoch': 3.21}\n",
      "{'loss': 0.669, 'grad_norm': 5.674678325653076, 'learning_rate': 5.302824522501931e-06, 'epoch': 3.28}\n",
      "{'loss': 0.7189, 'grad_norm': 126.68789672851562, 'learning_rate': 4.912361124952949e-06, 'epoch': 3.35}\n",
      "{'loss': 0.6437, 'grad_norm': 41.55527877807617, 'learning_rate': 4.532096884851978e-06, 'epoch': 3.42}\n",
      "{'loss': 0.6458, 'grad_norm': 10.934069633483887, 'learning_rate': 4.162794115514078e-06, 'epoch': 3.49}\n",
      "{'loss': 0.6582, 'grad_norm': 54.86209487915039, 'learning_rate': 3.805193155863247e-06, 'epoch': 3.56}\n",
      "{'loss': 0.662, 'grad_norm': 52.056758880615234, 'learning_rate': 3.460010886279681e-06, 'epoch': 3.63}\n",
      "{'loss': 0.6414, 'grad_norm': 8.433241844177246, 'learning_rate': 3.1279392914742047e-06, 'epoch': 3.71}\n",
      "{'loss': 0.6733, 'grad_norm': 5.909763336181641, 'learning_rate': 2.8096440732709085e-06, 'epoch': 3.78}\n",
      "{'loss': 0.648, 'grad_norm': 7.9902849197387695, 'learning_rate': 2.5057633160789186e-06, 'epoch': 3.85}\n",
      "{'loss': 0.6081, 'grad_norm': 20.19768714904785, 'learning_rate': 2.2169062077286072e-06, 'epoch': 3.92}\n",
      "{'loss': 0.5987, 'grad_norm': 8.179474830627441, 'learning_rate': 1.943651818236616e-06, 'epoch': 3.99}\n"
     ]
    },
    {
     "data": {
      "application/vnd.jupyter.widget-view+json": {
       "model_id": "800b79973b5d4f7d8a4c0545957df3af",
       "version_major": 2,
       "version_minor": 0
      },
      "text/plain": [
       "  0%|          | 0/860 [00:00<?, ?it/s]"
      ]
     },
     "metadata": {},
     "output_type": "display_data"
    },
    {
     "name": "stdout",
     "output_type": "stream",
     "text": [
      "{'eval_loss': 0.7415418211046875, 'eval_accuracy_emotions': 0.7914, 'eval_accuracy_triggers': 0.8161, 'eval_u_avg_f1': 0.7334, 'eval_u_f1scores_emotions': 0.7663, 'eval_u_f1scores_triggers': 0.7006, 'eval_d_f1scores_emotions': 0.7914, 'eval_d_f1scores_triggers': 0.7736, 'eval_runtime': 688.0581, 'eval_samples_per_second': 4.995, 'eval_steps_per_second': 1.25, 'epoch': 4.0}\n",
      "{'loss': 0.5735, 'grad_norm': 19.47225570678711, 'learning_rate': 1.6865479389478545e-06, 'epoch': 4.06}\n",
      "{'loss': 0.5784, 'grad_norm': 89.74699401855469, 'learning_rate': 1.4461099843816684e-06, 'epoch': 4.13}\n",
      "{'loss': 0.5634, 'grad_norm': 17.595260620117188, 'learning_rate': 1.2228199589835998e-06, 'epoch': 4.2}\n",
      "{'loss': 0.6189, 'grad_norm': 17.248289108276367, 'learning_rate': 1.0171254908541373e-06, 'epoch': 4.28}\n",
      "{'loss': 0.5946, 'grad_norm': 7.25916862487793, 'learning_rate': 8.294389343914899e-07, 'epoch': 4.35}\n",
      "{'loss': 0.5863, 'grad_norm': 5.552279472351074, 'learning_rate': 6.601365436473439e-07, 'epoch': 4.42}\n",
      "{'loss': 0.586, 'grad_norm': 56.112709045410156, 'learning_rate': 5.095577180527378e-07, 'epoch': 4.49}\n",
      "{'loss': 0.5792, 'grad_norm': 46.580413818359375, 'learning_rate': 3.780043220261764e-07, 'epoch': 4.56}\n",
      "{'loss': 0.6028, 'grad_norm': 2.6905059814453125, 'learning_rate': 2.6574007982793857e-07, 'epoch': 4.63}\n",
      "{'loss': 0.5584, 'grad_norm': 14.388148307800293, 'learning_rate': 1.7299004687372666e-07, 'epoch': 4.7}\n",
      "{'loss': 0.5908, 'grad_norm': 23.773157119750977, 'learning_rate': 9.994015856749528e-08, 'epoch': 4.77}\n",
      "{'loss': 0.5281, 'grad_norm': 14.304542541503906, 'learning_rate': 4.673685755792523e-08, 'epoch': 4.85}\n",
      "{'loss': 0.5828, 'grad_norm': 25.520030975341797, 'learning_rate': 1.3486800165773972e-08, 'epoch': 4.92}\n",
      "{'loss': 0.5589, 'grad_norm': 18.434110641479492, 'learning_rate': 2.5664257062185673e-10, 'epoch': 4.99}\n"
     ]
    },
    {
     "data": {
      "application/vnd.jupyter.widget-view+json": {
       "model_id": "00fd880207ab4a0aa5de17b01d1bb0b8",
       "version_major": 2,
       "version_minor": 0
      },
      "text/plain": [
       "  0%|          | 0/860 [00:00<?, ?it/s]"
      ]
     },
     "metadata": {},
     "output_type": "display_data"
    },
    {
     "name": "stdout",
     "output_type": "stream",
     "text": [
      "{'eval_loss': 0.755768913634494, 'eval_accuracy_emotions': 0.8059, 'eval_accuracy_triggers': 0.8219, 'eval_u_avg_f1': 0.738, 'eval_u_f1scores_emotions': 0.7837, 'eval_u_f1scores_triggers': 0.6923, 'eval_d_f1scores_emotions': 0.7979, 'eval_d_f1scores_triggers': 0.7812, 'eval_runtime': 687.817, 'eval_samples_per_second': 4.997, 'eval_steps_per_second': 1.25, 'epoch': 5.0}\n",
      "{'train_runtime': 11113.1561, 'train_samples_per_second': 12.626, 'train_steps_per_second': 3.157, 'train_loss': 0.9015629147450219, 'epoch': 5.0}\n"
     ]
    }
   ],
   "source": [
    "# Training model with seed 666\n",
    "train_extr_model(666, model_card)"
   ]
  },
  {
   "cell_type": "code",
   "execution_count": 14,
   "metadata": {},
   "outputs": [
    {
     "name": "stderr",
     "output_type": "stream",
     "text": [
      "c:\\Users\\marco\\anaconda3\\lib\\site-packages\\datasets\\table.py:1395: FutureWarning: promote has been superseded by mode='default'.\n",
      "  block_group = [InMemoryTable(cls._concat_blocks(list(block_group), axis=axis))]\n",
      "c:\\Users\\marco\\anaconda3\\lib\\site-packages\\datasets\\table.py:1421: FutureWarning: promote has been superseded by mode='default'.\n",
      "  table = cls._concat_blocks(blocks, axis=0)\n"
     ]
    },
    {
     "name": "stdout",
     "output_type": "stream",
     "text": [
      "Training EXTRACTION MODEL with seed 51:\n"
     ]
    },
    {
     "data": {
      "application/vnd.jupyter.widget-view+json": {
       "model_id": "bbcb1590091e42ad96eaae681a4b8fd1",
       "version_major": 2,
       "version_minor": 0
      },
      "text/plain": [
       "  0%|          | 0/35080 [00:00<?, ?it/s]"
      ]
     },
     "metadata": {},
     "output_type": "display_data"
    },
    {
     "name": "stderr",
     "output_type": "stream",
     "text": [
      "Could not estimate the number of tokens of the input, floating-point operations will not be computed\n"
     ]
    },
    {
     "name": "stdout",
     "output_type": "stream",
     "text": [
      "{'loss': 1.5472, 'grad_norm': 19.608644485473633, 'learning_rate': 1.9989976531650042e-05, 'epoch': 0.07}\n",
      "{'loss': 1.4529, 'grad_norm': 8.400200843811035, 'learning_rate': 1.9959926220583713e-05, 'epoch': 0.14}\n",
      "{'loss': 1.3483, 'grad_norm': 3.9104936122894287, 'learning_rate': 1.9909909308469398e-05, 'epoch': 0.21}\n",
      "{'loss': 1.3438, 'grad_norm': 14.281896591186523, 'learning_rate': 1.9840026063894193e-05, 'epoch': 0.29}\n",
      "{'loss': 1.3507, 'grad_norm': 4.627607345581055, 'learning_rate': 1.9750416581356147e-05, 'epoch': 0.36}\n",
      "{'loss': 1.3079, 'grad_norm': 2.688399314880371, 'learning_rate': 1.9641260500417672e-05, 'epoch': 0.43}\n",
      "{'loss': 1.343, 'grad_norm': 9.18236255645752, 'learning_rate': 1.9512776645583266e-05, 'epoch': 0.5}\n",
      "{'loss': 1.2604, 'grad_norm': 22.711729049682617, 'learning_rate': 1.9365222587623407e-05, 'epoch': 0.57}\n",
      "{'loss': 1.277, 'grad_norm': 4.372272491455078, 'learning_rate': 1.9198894127224075e-05, 'epoch': 0.64}\n",
      "{'loss': 1.2629, 'grad_norm': 4.408370494842529, 'learning_rate': 1.9014124701996973e-05, 'epoch': 0.71}\n",
      "{'loss': 1.2136, 'grad_norm': 7.262394905090332, 'learning_rate': 1.881128471803926e-05, 'epoch': 0.78}\n",
      "{'loss': 1.2936, 'grad_norm': 3.5997848510742188, 'learning_rate': 1.859078080738279e-05, 'epoch': 0.86}\n",
      "{'loss': 1.1543, 'grad_norm': 9.316798210144043, 'learning_rate': 1.835305501282148e-05, 'epoch': 0.93}\n",
      "{'loss': 1.21, 'grad_norm': 9.258076667785645, 'learning_rate': 1.809858390175087e-05, 'epoch': 1.0}\n"
     ]
    },
    {
     "data": {
      "application/vnd.jupyter.widget-view+json": {
       "model_id": "ca212151a95241f4a1ac7e1a568e4c06",
       "version_major": 2,
       "version_minor": 0
      },
      "text/plain": [
       "  0%|          | 0/860 [00:00<?, ?it/s]"
      ]
     },
     "metadata": {},
     "output_type": "display_data"
    },
    {
     "name": "stdout",
     "output_type": "stream",
     "text": [
      "{'eval_loss': 1.161741598481461, 'eval_accuracy_emotions': 0.5333, 'eval_accuracy_triggers': 0.8109, 'eval_u_avg_f1': 0.5549, 'eval_u_f1scores_emotions': 0.4288, 'eval_u_f1scores_triggers': 0.681, 'eval_d_f1scores_emotions': 0.5411, 'eval_d_f1scores_triggers': 0.7734, 'eval_runtime': 688.0708, 'eval_samples_per_second': 4.995, 'eval_steps_per_second': 1.25, 'epoch': 1.0}\n",
      "{'loss': 1.1526, 'grad_norm': 5.3143439292907715, 'learning_rate': 1.7827877610796515e-05, 'epoch': 1.07}\n",
      "{'loss': 1.0983, 'grad_norm': 10.162651062011719, 'learning_rate': 1.7541478823146328e-05, 'epoch': 1.14}\n",
      "{'loss': 1.0819, 'grad_norm': 16.898889541625977, 'learning_rate': 1.7239961680637002e-05, 'epoch': 1.21}\n",
      "{'loss': 1.0812, 'grad_norm': 7.683900833129883, 'learning_rate': 1.6923930632775517e-05, 'epoch': 1.28}\n",
      "{'loss': 1.0102, 'grad_norm': 8.674668312072754, 'learning_rate': 1.6594019225003043e-05, 'epoch': 1.35}\n",
      "{'loss': 1.0457, 'grad_norm': 6.801219940185547, 'learning_rate': 1.62508888286304e-05, 'epoch': 1.43}\n",
      "{'loss': 1.0598, 'grad_norm': 5.798793792724609, 'learning_rate': 1.589522731499118e-05, 'epoch': 1.5}\n",
      "{'loss': 0.9742, 'grad_norm': 21.30132293701172, 'learning_rate': 1.552774767647043e-05, 'epoch': 1.57}\n",
      "{'loss': 1.032, 'grad_norm': 4.188333034515381, 'learning_rate': 1.5149186597173348e-05, 'epoch': 1.64}\n",
      "{'loss': 0.9666, 'grad_norm': 16.55119514465332, 'learning_rate': 1.4760302976099305e-05, 'epoch': 1.71}\n",
      "{'loss': 0.9373, 'grad_norm': 6.908608913421631, 'learning_rate': 1.4361876405781835e-05, 'epoch': 1.78}\n",
      "{'loss': 0.9596, 'grad_norm': 3.4276585578918457, 'learning_rate': 1.3954705609444403e-05, 'epoch': 1.85}\n",
      "{'loss': 0.9488, 'grad_norm': 12.957011222839355, 'learning_rate': 1.3539606839805037e-05, 'epoch': 1.92}\n",
      "{'loss': 0.9146, 'grad_norm': 29.490385055541992, 'learning_rate': 1.3117412242739655e-05, 'epoch': 2.0}\n"
     ]
    },
    {
     "data": {
      "application/vnd.jupyter.widget-view+json": {
       "model_id": "d86e43eeaa954ed79e9e47407a26f4c2",
       "version_major": 2,
       "version_minor": 0
      },
      "text/plain": [
       "  0%|          | 0/860 [00:00<?, ?it/s]"
      ]
     },
     "metadata": {},
     "output_type": "display_data"
    },
    {
     "name": "stdout",
     "output_type": "stream",
     "text": [
      "{'eval_loss': 0.9618715810653982, 'eval_accuracy_emotions': 0.6375, 'eval_accuracy_triggers': 0.8152, 'eval_u_avg_f1': 0.636, 'eval_u_f1scores_emotions': 0.5889, 'eval_u_f1scores_triggers': 0.683, 'eval_d_f1scores_emotions': 0.6395, 'eval_d_f1scores_triggers': 0.7797, 'eval_runtime': 688.1187, 'eval_samples_per_second': 4.995, 'eval_steps_per_second': 1.25, 'epoch': 2.0}\n",
      "{'loss': 0.8177, 'grad_norm': 6.732967376708984, 'learning_rate': 1.2688968189084494e-05, 'epoch': 2.07}\n",
      "{'loss': 0.8295, 'grad_norm': 5.495974540710449, 'learning_rate': 1.225513357792187e-05, 'epoch': 2.14}\n",
      "{'loss': 0.8213, 'grad_norm': 70.8066177368164, 'learning_rate': 1.1816778114750594e-05, 'epoch': 2.21}\n",
      "{'loss': 0.8152, 'grad_norm': 22.77823257446289, 'learning_rate': 1.13747805679929e-05, 'epoch': 2.28}\n",
      "{'loss': 0.8456, 'grad_norm': 27.501218795776367, 'learning_rate': 1.0930027007332924e-05, 'epoch': 2.35}\n",
      "{'loss': 0.8107, 'grad_norm': 36.165592193603516, 'learning_rate': 1.0483409027418426e-05, 'epoch': 2.42}\n",
      "{'loss': 0.7613, 'grad_norm': 10.709559440612793, 'learning_rate': 1.0035821960486643e-05, 'epoch': 2.49}\n",
      "{'loss': 0.7835, 'grad_norm': 35.55194091796875, 'learning_rate': 9.588163081497427e-06, 'epoch': 2.57}\n",
      "{'loss': 0.7705, 'grad_norm': 2.0929715633392334, 'learning_rate': 9.141329809371803e-06, 'epoch': 2.64}\n",
      "{'loss': 0.762, 'grad_norm': 51.21437072753906, 'learning_rate': 8.696217907941941e-06, 'epoch': 2.71}\n",
      "{'loss': 0.7365, 'grad_norm': 18.7487850189209, 'learning_rate': 8.253719690219079e-06, 'epoch': 2.78}\n",
      "{'loss': 0.7105, 'grad_norm': 37.27434539794922, 'learning_rate': 7.814722229579263e-06, 'epoch': 2.85}\n",
      "{'loss': 0.7614, 'grad_norm': 13.045207977294922, 'learning_rate': 7.380105581452988e-06, 'epoch': 2.92}\n",
      "{'loss': 0.7418, 'grad_norm': 18.661752700805664, 'learning_rate': 6.9507410190836174e-06, 'epoch': 2.99}\n"
     ]
    },
    {
     "data": {
      "application/vnd.jupyter.widget-view+json": {
       "model_id": "7bb123de7b5647c08aae2f36d94fefe0",
       "version_major": 2,
       "version_minor": 0
      },
      "text/plain": [
       "  0%|          | 0/860 [00:00<?, ?it/s]"
      ]
     },
     "metadata": {},
     "output_type": "display_data"
    },
    {
     "name": "stdout",
     "output_type": "stream",
     "text": [
      "{'eval_loss': 0.7649085547133277, 'eval_accuracy_emotions': 0.7664, 'eval_accuracy_triggers': 0.8042, 'eval_u_avg_f1': 0.7132, 'eval_u_f1scores_emotions': 0.7321, 'eval_u_f1scores_triggers': 0.6944, 'eval_d_f1scores_emotions': 0.7548, 'eval_d_f1scores_triggers': 0.7604, 'eval_runtime': 688.0941, 'eval_samples_per_second': 4.995, 'eval_steps_per_second': 1.25, 'epoch': 3.0}\n",
      "{'loss': 0.6233, 'grad_norm': 21.648862838745117, 'learning_rate': 6.527489286891458e-06, 'epoch': 3.06}\n",
      "{'loss': 0.6654, 'grad_norm': 5.890345096588135, 'learning_rate': 6.111198874944846e-06, 'epoch': 3.14}\n",
      "{'loss': 0.6085, 'grad_norm': 22.171417236328125, 'learning_rate': 5.702704317997491e-06, 'epoch': 3.21}\n",
      "{'loss': 0.6064, 'grad_norm': 7.3182525634765625, 'learning_rate': 5.302824522501931e-06, 'epoch': 3.28}\n",
      "{'loss': 0.6259, 'grad_norm': 57.36540603637695, 'learning_rate': 4.912361124952949e-06, 'epoch': 3.35}\n",
      "{'loss': 0.5876, 'grad_norm': 34.90696334838867, 'learning_rate': 4.532096884851978e-06, 'epoch': 3.42}\n",
      "{'loss': 0.592, 'grad_norm': 16.480571746826172, 'learning_rate': 4.162794115514078e-06, 'epoch': 3.49}\n",
      "{'loss': 0.5857, 'grad_norm': 34.24777603149414, 'learning_rate': 3.805193155863247e-06, 'epoch': 3.56}\n",
      "{'loss': 0.6037, 'grad_norm': 57.91353225708008, 'learning_rate': 3.460010886279681e-06, 'epoch': 3.63}\n",
      "{'loss': 0.5809, 'grad_norm': 14.657571792602539, 'learning_rate': 3.1279392914742047e-06, 'epoch': 3.71}\n",
      "{'loss': 0.6041, 'grad_norm': 2.455134153366089, 'learning_rate': 2.8096440732709085e-06, 'epoch': 3.78}\n",
      "{'loss': 0.5918, 'grad_norm': 6.150232315063477, 'learning_rate': 2.5057633160789186e-06, 'epoch': 3.85}\n",
      "{'loss': 0.552, 'grad_norm': 21.6651611328125, 'learning_rate': 2.2169062077286072e-06, 'epoch': 3.92}\n",
      "{'loss': 0.5305, 'grad_norm': 11.293025970458984, 'learning_rate': 1.943651818236616e-06, 'epoch': 3.99}\n"
     ]
    },
    {
     "data": {
      "application/vnd.jupyter.widget-view+json": {
       "model_id": "024506860f794f4289b78a6f7597d474",
       "version_major": 2,
       "version_minor": 0
      },
      "text/plain": [
       "  0%|          | 0/860 [00:00<?, ?it/s]"
      ]
     },
     "metadata": {},
     "output_type": "display_data"
    },
    {
     "name": "stdout",
     "output_type": "stream",
     "text": [
      "{'eval_loss': 0.7131614371977548, 'eval_accuracy_emotions': 0.826, 'eval_accuracy_triggers': 0.8164, 'eval_u_avg_f1': 0.7475, 'eval_u_f1scores_emotions': 0.8023, 'eval_u_f1scores_triggers': 0.6928, 'eval_d_f1scores_emotions': 0.8181, 'eval_d_f1scores_triggers': 0.774, 'eval_runtime': 688.1333, 'eval_samples_per_second': 4.995, 'eval_steps_per_second': 1.25, 'epoch': 4.0}\n",
      "{'loss': 0.5226, 'grad_norm': 13.5438871383667, 'learning_rate': 1.6865479389478545e-06, 'epoch': 4.06}\n",
      "{'loss': 0.5298, 'grad_norm': 35.197288513183594, 'learning_rate': 1.4461099843816684e-06, 'epoch': 4.13}\n",
      "{'loss': 0.5156, 'grad_norm': 15.259615898132324, 'learning_rate': 1.2228199589835998e-06, 'epoch': 4.2}\n",
      "{'loss': 0.5412, 'grad_norm': 20.333227157592773, 'learning_rate': 1.0171254908541373e-06, 'epoch': 4.28}\n",
      "{'loss': 0.5267, 'grad_norm': 12.428129196166992, 'learning_rate': 8.294389343914899e-07, 'epoch': 4.35}\n",
      "{'loss': 0.5161, 'grad_norm': 9.315380096435547, 'learning_rate': 6.601365436473439e-07, 'epoch': 4.42}\n",
      "{'loss': 0.5305, 'grad_norm': 16.60586166381836, 'learning_rate': 5.095577180527378e-07, 'epoch': 4.49}\n",
      "{'loss': 0.4966, 'grad_norm': 22.7423095703125, 'learning_rate': 3.780043220261764e-07, 'epoch': 4.56}\n",
      "{'loss': 0.545, 'grad_norm': 1.3336725234985352, 'learning_rate': 2.6574007982793857e-07, 'epoch': 4.63}\n",
      "{'loss': 0.5048, 'grad_norm': 5.322073936462402, 'learning_rate': 1.7299004687372666e-07, 'epoch': 4.7}\n",
      "{'loss': 0.5377, 'grad_norm': 28.83951187133789, 'learning_rate': 9.994015856749528e-08, 'epoch': 4.77}\n",
      "{'loss': 0.4979, 'grad_norm': 22.848691940307617, 'learning_rate': 4.673685755792523e-08, 'epoch': 4.85}\n",
      "{'loss': 0.5162, 'grad_norm': 46.96196746826172, 'learning_rate': 1.3486800165773972e-08, 'epoch': 4.92}\n",
      "{'loss': 0.5216, 'grad_norm': 12.468949317932129, 'learning_rate': 2.5664257062185673e-10, 'epoch': 4.99}\n"
     ]
    },
    {
     "data": {
      "application/vnd.jupyter.widget-view+json": {
       "model_id": "533f22c64cbe4432a61a7eae077dc671",
       "version_major": 2,
       "version_minor": 0
      },
      "text/plain": [
       "  0%|          | 0/860 [00:00<?, ?it/s]"
      ]
     },
     "metadata": {},
     "output_type": "display_data"
    },
    {
     "name": "stdout",
     "output_type": "stream",
     "text": [
      "{'eval_loss': 0.7381752438258306, 'eval_accuracy_emotions': 0.8374, 'eval_accuracy_triggers': 0.8272, 'eval_u_avg_f1': 0.7532, 'eval_u_f1scores_emotions': 0.8174, 'eval_u_f1scores_triggers': 0.689, 'eval_d_f1scores_emotions': 0.8268, 'eval_d_f1scores_triggers': 0.7854, 'eval_runtime': 688.1447, 'eval_samples_per_second': 4.995, 'eval_steps_per_second': 1.25, 'epoch': 5.0}\n",
      "{'train_runtime': 11098.1396, 'train_samples_per_second': 12.643, 'train_steps_per_second': 3.161, 'train_loss': 0.845754943986847, 'epoch': 5.0}\n"
     ]
    }
   ],
   "source": [
    "# Training model with seed 51\n",
    "train_extr_model(51, model_card)"
   ]
  },
  {
   "cell_type": "code",
   "execution_count": 15,
   "metadata": {},
   "outputs": [
    {
     "name": "stderr",
     "output_type": "stream",
     "text": [
      "c:\\Users\\marco\\anaconda3\\lib\\site-packages\\datasets\\table.py:1395: FutureWarning: promote has been superseded by mode='default'.\n",
      "  block_group = [InMemoryTable(cls._concat_blocks(list(block_group), axis=axis))]\n",
      "c:\\Users\\marco\\anaconda3\\lib\\site-packages\\datasets\\table.py:1421: FutureWarning: promote has been superseded by mode='default'.\n",
      "  table = cls._concat_blocks(blocks, axis=0)\n"
     ]
    },
    {
     "name": "stdout",
     "output_type": "stream",
     "text": [
      "Training EXTRACTION MODEL with seed 77:\n"
     ]
    },
    {
     "data": {
      "application/vnd.jupyter.widget-view+json": {
       "model_id": "dc1cbf9eade54a85a6d7529899d7065a",
       "version_major": 2,
       "version_minor": 0
      },
      "text/plain": [
       "  0%|          | 0/35080 [00:00<?, ?it/s]"
      ]
     },
     "metadata": {},
     "output_type": "display_data"
    },
    {
     "name": "stderr",
     "output_type": "stream",
     "text": [
      "Could not estimate the number of tokens of the input, floating-point operations will not be computed\n"
     ]
    },
    {
     "name": "stdout",
     "output_type": "stream",
     "text": [
      "{'loss': 1.55, 'grad_norm': 20.195926666259766, 'learning_rate': 1.9989976531650042e-05, 'epoch': 0.07}\n",
      "{'loss': 1.4791, 'grad_norm': 7.536732196807861, 'learning_rate': 1.9959926220583713e-05, 'epoch': 0.14}\n",
      "{'loss': 1.3439, 'grad_norm': 6.286160469055176, 'learning_rate': 1.9909909308469398e-05, 'epoch': 0.21}\n",
      "{'loss': 1.3465, 'grad_norm': 11.505781173706055, 'learning_rate': 1.9840026063894193e-05, 'epoch': 0.29}\n",
      "{'loss': 1.3554, 'grad_norm': 4.116151809692383, 'learning_rate': 1.9750416581356147e-05, 'epoch': 0.36}\n",
      "{'loss': 1.3187, 'grad_norm': 2.221175193786621, 'learning_rate': 1.9641260500417672e-05, 'epoch': 0.43}\n",
      "{'loss': 1.3309, 'grad_norm': 7.87340784072876, 'learning_rate': 1.9512776645583266e-05, 'epoch': 0.5}\n",
      "{'loss': 1.2638, 'grad_norm': 18.67973518371582, 'learning_rate': 1.9365222587623407e-05, 'epoch': 0.57}\n",
      "{'loss': 1.2878, 'grad_norm': 4.627801895141602, 'learning_rate': 1.9198894127224075e-05, 'epoch': 0.64}\n",
      "{'loss': 1.2847, 'grad_norm': 5.233429908752441, 'learning_rate': 1.9014124701996973e-05, 'epoch': 0.71}\n",
      "{'loss': 1.2222, 'grad_norm': 6.062933921813965, 'learning_rate': 1.881128471803926e-05, 'epoch': 0.78}\n",
      "{'loss': 1.317, 'grad_norm': 3.7824549674987793, 'learning_rate': 1.859078080738279e-05, 'epoch': 0.86}\n",
      "{'loss': 1.1843, 'grad_norm': 6.513548374176025, 'learning_rate': 1.835305501282148e-05, 'epoch': 0.93}\n",
      "{'loss': 1.2241, 'grad_norm': 7.398650646209717, 'learning_rate': 1.809858390175087e-05, 'epoch': 1.0}\n"
     ]
    },
    {
     "data": {
      "application/vnd.jupyter.widget-view+json": {
       "model_id": "6d159b03e71c4fa0a0395fcd68e0288e",
       "version_major": 2,
       "version_minor": 0
      },
      "text/plain": [
       "  0%|          | 0/860 [00:00<?, ?it/s]"
      ]
     },
     "metadata": {},
     "output_type": "display_data"
    },
    {
     "name": "stdout",
     "output_type": "stream",
     "text": [
      "{'eval_loss': 1.1897829642751019, 'eval_accuracy_emotions': 0.5412, 'eval_accuracy_triggers': 0.8123, 'eval_u_avg_f1': 0.5357, 'eval_u_f1scores_emotions': 0.4148, 'eval_u_f1scores_triggers': 0.6567, 'eval_d_f1scores_emotions': 0.5484, 'eval_d_f1scores_triggers': 0.7753, 'eval_runtime': 688.1403, 'eval_samples_per_second': 4.995, 'eval_steps_per_second': 1.25, 'epoch': 1.0}\n",
      "{'loss': 1.1705, 'grad_norm': 5.365209579467773, 'learning_rate': 1.7827877610796515e-05, 'epoch': 1.07}\n",
      "{'loss': 1.1518, 'grad_norm': 9.975178718566895, 'learning_rate': 1.7541478823146328e-05, 'epoch': 1.14}\n",
      "{'loss': 1.1006, 'grad_norm': 9.860774040222168, 'learning_rate': 1.7239961680637002e-05, 'epoch': 1.21}\n",
      "{'loss': 1.1273, 'grad_norm': 10.404792785644531, 'learning_rate': 1.6923930632775517e-05, 'epoch': 1.28}\n",
      "{'loss': 1.0385, 'grad_norm': 11.451273918151855, 'learning_rate': 1.6594019225003043e-05, 'epoch': 1.35}\n",
      "{'loss': 1.0651, 'grad_norm': 4.713058948516846, 'learning_rate': 1.62508888286304e-05, 'epoch': 1.43}\n",
      "{'loss': 1.0935, 'grad_norm': 5.148773193359375, 'learning_rate': 1.589522731499118e-05, 'epoch': 1.5}\n",
      "{'loss': 1.0133, 'grad_norm': 22.08142852783203, 'learning_rate': 1.552774767647043e-05, 'epoch': 1.57}\n",
      "{'loss': 1.0615, 'grad_norm': 1.8322372436523438, 'learning_rate': 1.5149186597173348e-05, 'epoch': 1.64}\n",
      "{'loss': 0.9986, 'grad_norm': 19.415021896362305, 'learning_rate': 1.4760302976099305e-05, 'epoch': 1.71}\n",
      "{'loss': 0.9643, 'grad_norm': 10.310466766357422, 'learning_rate': 1.4361876405781835e-05, 'epoch': 1.78}\n",
      "{'loss': 0.9952, 'grad_norm': 7.128332614898682, 'learning_rate': 1.3954705609444403e-05, 'epoch': 1.85}\n",
      "{'loss': 0.9917, 'grad_norm': 8.268177032470703, 'learning_rate': 1.3539606839805037e-05, 'epoch': 1.92}\n",
      "{'loss': 0.9627, 'grad_norm': 38.39742660522461, 'learning_rate': 1.3117412242739655e-05, 'epoch': 2.0}\n"
     ]
    },
    {
     "data": {
      "application/vnd.jupyter.widget-view+json": {
       "model_id": "d6c990e3227d4ef39ebcb8ff912f2d03",
       "version_major": 2,
       "version_minor": 0
      },
      "text/plain": [
       "  0%|          | 0/860 [00:00<?, ?it/s]"
      ]
     },
     "metadata": {},
     "output_type": "display_data"
    },
    {
     "name": "stdout",
     "output_type": "stream",
     "text": [
      "{'eval_loss': 1.0289282789212422, 'eval_accuracy_emotions': 0.6119, 'eval_accuracy_triggers': 0.8234, 'eval_u_avg_f1': 0.6069, 'eval_u_f1scores_emotions': 0.5585, 'eval_u_f1scores_triggers': 0.6553, 'eval_d_f1scores_emotions': 0.6132, 'eval_d_f1scores_triggers': 0.7867, 'eval_runtime': 687.989, 'eval_samples_per_second': 4.996, 'eval_steps_per_second': 1.25, 'epoch': 2.0}\n",
      "{'loss': 0.8471, 'grad_norm': 9.569546699523926, 'learning_rate': 1.2688968189084494e-05, 'epoch': 2.07}\n",
      "{'loss': 0.8615, 'grad_norm': 4.843546390533447, 'learning_rate': 1.225513357792187e-05, 'epoch': 2.14}\n",
      "{'loss': 0.8635, 'grad_norm': 35.08657455444336, 'learning_rate': 1.1816778114750594e-05, 'epoch': 2.21}\n",
      "{'loss': 0.8269, 'grad_norm': 8.162013053894043, 'learning_rate': 1.13747805679929e-05, 'epoch': 2.28}\n",
      "{'loss': 0.8743, 'grad_norm': 9.844584465026855, 'learning_rate': 1.0930027007332924e-05, 'epoch': 2.35}\n",
      "{'loss': 0.8348, 'grad_norm': 54.52912521362305, 'learning_rate': 1.0483409027418426e-05, 'epoch': 2.42}\n",
      "{'loss': 0.7909, 'grad_norm': 13.597539901733398, 'learning_rate': 1.0035821960486643e-05, 'epoch': 2.49}\n",
      "{'loss': 0.7905, 'grad_norm': 42.208106994628906, 'learning_rate': 9.588163081497427e-06, 'epoch': 2.57}\n",
      "{'loss': 0.8107, 'grad_norm': 1.6555641889572144, 'learning_rate': 9.141329809371803e-06, 'epoch': 2.64}\n",
      "{'loss': 0.7759, 'grad_norm': 40.70805740356445, 'learning_rate': 8.696217907941941e-06, 'epoch': 2.71}\n",
      "{'loss': 0.773, 'grad_norm': 21.481807708740234, 'learning_rate': 8.253719690219079e-06, 'epoch': 2.78}\n",
      "{'loss': 0.7244, 'grad_norm': 41.79093933105469, 'learning_rate': 7.814722229579263e-06, 'epoch': 2.85}\n",
      "{'loss': 0.7949, 'grad_norm': 12.187923431396484, 'learning_rate': 7.380105581452988e-06, 'epoch': 2.92}\n",
      "{'loss': 0.7678, 'grad_norm': 15.15867805480957, 'learning_rate': 6.9507410190836174e-06, 'epoch': 2.99}\n"
     ]
    },
    {
     "data": {
      "application/vnd.jupyter.widget-view+json": {
       "model_id": "f1edff64944040fdbbb406ef67d522bb",
       "version_major": 2,
       "version_minor": 0
      },
      "text/plain": [
       "  0%|          | 0/860 [00:00<?, ?it/s]"
      ]
     },
     "metadata": {},
     "output_type": "display_data"
    },
    {
     "name": "stdout",
     "output_type": "stream",
     "text": [
      "{'eval_loss': 0.779824101229457, 'eval_accuracy_emotions': 0.7445, 'eval_accuracy_triggers': 0.8144, 'eval_u_avg_f1': 0.7058, 'eval_u_f1scores_emotions': 0.713, 'eval_u_f1scores_triggers': 0.6985, 'eval_d_f1scores_emotions': 0.7299, 'eval_d_f1scores_triggers': 0.7743, 'eval_runtime': 688.1385, 'eval_samples_per_second': 4.995, 'eval_steps_per_second': 1.25, 'epoch': 3.0}\n",
      "{'loss': 0.6464, 'grad_norm': 15.554058074951172, 'learning_rate': 6.527489286891458e-06, 'epoch': 3.06}\n",
      "{'loss': 0.6993, 'grad_norm': 7.9339094161987305, 'learning_rate': 6.111198874944846e-06, 'epoch': 3.14}\n",
      "{'loss': 0.6084, 'grad_norm': 37.627559661865234, 'learning_rate': 5.702704317997491e-06, 'epoch': 3.21}\n",
      "{'loss': 0.6303, 'grad_norm': 6.557735919952393, 'learning_rate': 5.302824522501931e-06, 'epoch': 3.28}\n",
      "{'loss': 0.6743, 'grad_norm': 52.76289749145508, 'learning_rate': 4.912361124952949e-06, 'epoch': 3.35}\n",
      "{'loss': 0.6129, 'grad_norm': 58.15658950805664, 'learning_rate': 4.532096884851978e-06, 'epoch': 3.42}\n",
      "{'loss': 0.592, 'grad_norm': 13.346929550170898, 'learning_rate': 4.162794115514078e-06, 'epoch': 3.49}\n",
      "{'loss': 0.621, 'grad_norm': 44.1950798034668, 'learning_rate': 3.805193155863247e-06, 'epoch': 3.56}\n",
      "{'loss': 0.6042, 'grad_norm': 79.66496276855469, 'learning_rate': 3.460010886279681e-06, 'epoch': 3.63}\n",
      "{'loss': 0.5808, 'grad_norm': 7.751137733459473, 'learning_rate': 3.1279392914742047e-06, 'epoch': 3.71}\n",
      "{'loss': 0.6102, 'grad_norm': 4.222662448883057, 'learning_rate': 2.8096440732709085e-06, 'epoch': 3.78}\n",
      "{'loss': 0.6092, 'grad_norm': 5.730465888977051, 'learning_rate': 2.5057633160789186e-06, 'epoch': 3.85}\n",
      "{'loss': 0.5665, 'grad_norm': 19.96959686279297, 'learning_rate': 2.2169062077286072e-06, 'epoch': 3.92}\n",
      "{'loss': 0.5453, 'grad_norm': 12.934331893920898, 'learning_rate': 1.943651818236616e-06, 'epoch': 3.99}\n"
     ]
    },
    {
     "data": {
      "application/vnd.jupyter.widget-view+json": {
       "model_id": "603aa6b362224cf1929f042f302e8fd3",
       "version_major": 2,
       "version_minor": 0
      },
      "text/plain": [
       "  0%|          | 0/860 [00:00<?, ?it/s]"
      ]
     },
     "metadata": {},
     "output_type": "display_data"
    },
    {
     "name": "stdout",
     "output_type": "stream",
     "text": [
      "{'eval_loss': 0.7137157415534108, 'eval_accuracy_emotions': 0.8056, 'eval_accuracy_triggers': 0.8161, 'eval_u_avg_f1': 0.7374, 'eval_u_f1scores_emotions': 0.7853, 'eval_u_f1scores_triggers': 0.6895, 'eval_d_f1scores_emotions': 0.7971, 'eval_d_f1scores_triggers': 0.7721, 'eval_runtime': 688.0824, 'eval_samples_per_second': 4.995, 'eval_steps_per_second': 1.25, 'epoch': 4.0}\n",
      "{'loss': 0.5375, 'grad_norm': 14.192309379577637, 'learning_rate': 1.6865479389478545e-06, 'epoch': 4.06}\n",
      "{'loss': 0.5463, 'grad_norm': 62.915950775146484, 'learning_rate': 1.4461099843816684e-06, 'epoch': 4.13}\n",
      "{'loss': 0.5498, 'grad_norm': 14.207857131958008, 'learning_rate': 1.2228199589835998e-06, 'epoch': 4.2}\n",
      "{'loss': 0.5701, 'grad_norm': 19.491853713989258, 'learning_rate': 1.0171254908541373e-06, 'epoch': 4.28}\n",
      "{'loss': 0.5497, 'grad_norm': 11.624287605285645, 'learning_rate': 8.294389343914899e-07, 'epoch': 4.35}\n",
      "{'loss': 0.5366, 'grad_norm': 8.002408027648926, 'learning_rate': 6.601365436473439e-07, 'epoch': 4.42}\n",
      "{'loss': 0.5311, 'grad_norm': 16.673986434936523, 'learning_rate': 5.095577180527378e-07, 'epoch': 4.49}\n",
      "{'loss': 0.511, 'grad_norm': 50.558067321777344, 'learning_rate': 3.780043220261764e-07, 'epoch': 4.56}\n",
      "{'loss': 0.5441, 'grad_norm': 2.3260765075683594, 'learning_rate': 2.6574007982793857e-07, 'epoch': 4.63}\n",
      "{'loss': 0.5051, 'grad_norm': 26.003870010375977, 'learning_rate': 1.7299004687372666e-07, 'epoch': 4.7}\n",
      "{'loss': 0.5573, 'grad_norm': 22.115392684936523, 'learning_rate': 9.994015856749528e-08, 'epoch': 4.77}\n",
      "{'loss': 0.5032, 'grad_norm': 20.317434310913086, 'learning_rate': 4.673685755792523e-08, 'epoch': 4.85}\n",
      "{'loss': 0.5222, 'grad_norm': 58.7807731628418, 'learning_rate': 1.3486800165773972e-08, 'epoch': 4.92}\n",
      "{'loss': 0.5269, 'grad_norm': 13.005830764770508, 'learning_rate': 2.5664257062185673e-10, 'epoch': 4.99}\n"
     ]
    },
    {
     "data": {
      "application/vnd.jupyter.widget-view+json": {
       "model_id": "4f8184ff8a8c4407a9b7debc1347b6f6",
       "version_major": 2,
       "version_minor": 0
      },
      "text/plain": [
       "  0%|          | 0/860 [00:00<?, ?it/s]"
      ]
     },
     "metadata": {},
     "output_type": "display_data"
    },
    {
     "name": "stdout",
     "output_type": "stream",
     "text": [
      "{'eval_loss': 0.7223600885174735, 'eval_accuracy_emotions': 0.8152, 'eval_accuracy_triggers': 0.8219, 'eval_u_avg_f1': 0.7443, 'eval_u_f1scores_emotions': 0.8025, 'eval_u_f1scores_triggers': 0.6861, 'eval_d_f1scores_emotions': 0.8021, 'eval_d_f1scores_triggers': 0.7791, 'eval_runtime': 687.9513, 'eval_samples_per_second': 4.996, 'eval_steps_per_second': 1.25, 'epoch': 5.0}\n",
      "{'train_runtime': 11142.1656, 'train_samples_per_second': 12.593, 'train_steps_per_second': 3.148, 'train_loss': 0.865916392196951, 'epoch': 5.0}\n"
     ]
    }
   ],
   "source": [
    "# Training model with seed 77\n",
    "train_extr_model(77, model_card)"
   ]
  },
  {
   "cell_type": "code",
   "execution_count": 16,
   "metadata": {},
   "outputs": [
    {
     "name": "stderr",
     "output_type": "stream",
     "text": [
      "c:\\Users\\marco\\anaconda3\\lib\\site-packages\\datasets\\table.py:1395: FutureWarning: promote has been superseded by mode='default'.\n",
      "  block_group = [InMemoryTable(cls._concat_blocks(list(block_group), axis=axis))]\n",
      "c:\\Users\\marco\\anaconda3\\lib\\site-packages\\datasets\\table.py:1421: FutureWarning: promote has been superseded by mode='default'.\n",
      "  table = cls._concat_blocks(blocks, axis=0)\n"
     ]
    },
    {
     "name": "stdout",
     "output_type": "stream",
     "text": [
      "Training EXTRACTION MODEL with seed 111:\n"
     ]
    },
    {
     "data": {
      "application/vnd.jupyter.widget-view+json": {
       "model_id": "c749a863c21c455ba42fe611bd18e498",
       "version_major": 2,
       "version_minor": 0
      },
      "text/plain": [
       "  0%|          | 0/35080 [00:00<?, ?it/s]"
      ]
     },
     "metadata": {},
     "output_type": "display_data"
    },
    {
     "name": "stderr",
     "output_type": "stream",
     "text": [
      "Could not estimate the number of tokens of the input, floating-point operations will not be computed\n"
     ]
    },
    {
     "name": "stdout",
     "output_type": "stream",
     "text": [
      "{'loss': 1.5547, 'grad_norm': 17.89653778076172, 'learning_rate': 1.9989976531650042e-05, 'epoch': 0.07}\n",
      "{'loss': 1.5031, 'grad_norm': 28.77094841003418, 'learning_rate': 1.9959926220583713e-05, 'epoch': 0.14}\n",
      "{'loss': 1.3796, 'grad_norm': 3.3197789192199707, 'learning_rate': 1.9909909308469398e-05, 'epoch': 0.21}\n",
      "{'loss': 1.3599, 'grad_norm': 21.892202377319336, 'learning_rate': 1.9840026063894193e-05, 'epoch': 0.29}\n",
      "{'loss': 1.3732, 'grad_norm': 3.5873613357543945, 'learning_rate': 1.9750416581356147e-05, 'epoch': 0.36}\n",
      "{'loss': 1.3494, 'grad_norm': 2.694654703140259, 'learning_rate': 1.9641260500417672e-05, 'epoch': 0.43}\n",
      "{'loss': 1.3449, 'grad_norm': 4.54103946685791, 'learning_rate': 1.9512776645583266e-05, 'epoch': 0.5}\n",
      "{'loss': 1.2746, 'grad_norm': 24.71185302734375, 'learning_rate': 1.9365222587623407e-05, 'epoch': 0.57}\n",
      "{'loss': 1.3182, 'grad_norm': 4.146399974822998, 'learning_rate': 1.9198894127224075e-05, 'epoch': 0.64}\n",
      "{'loss': 1.3174, 'grad_norm': 5.558351039886475, 'learning_rate': 1.9014124701996973e-05, 'epoch': 0.71}\n",
      "{'loss': 1.2686, 'grad_norm': 5.840646266937256, 'learning_rate': 1.881128471803926e-05, 'epoch': 0.78}\n",
      "{'loss': 1.3263, 'grad_norm': 3.514124631881714, 'learning_rate': 1.859078080738279e-05, 'epoch': 0.86}\n",
      "{'loss': 1.2188, 'grad_norm': 7.028210163116455, 'learning_rate': 1.835305501282148e-05, 'epoch': 0.93}\n",
      "{'loss': 1.2649, 'grad_norm': 9.277682304382324, 'learning_rate': 1.809858390175087e-05, 'epoch': 1.0}\n"
     ]
    },
    {
     "data": {
      "application/vnd.jupyter.widget-view+json": {
       "model_id": "a4c33807f73847389db608a540277a25",
       "version_major": 2,
       "version_minor": 0
      },
      "text/plain": [
       "  0%|          | 0/860 [00:00<?, ?it/s]"
      ]
     },
     "metadata": {},
     "output_type": "display_data"
    },
    {
     "name": "stdout",
     "output_type": "stream",
     "text": [
      "{'eval_loss': 1.228665440281951, 'eval_accuracy_emotions': 0.4489, 'eval_accuracy_triggers': 0.817, 'eval_u_avg_f1': 0.5128, 'eval_u_f1scores_emotions': 0.3529, 'eval_u_f1scores_triggers': 0.6727, 'eval_d_f1scores_emotions': 0.4622, 'eval_d_f1scores_triggers': 0.779, 'eval_runtime': 688.0627, 'eval_samples_per_second': 4.995, 'eval_steps_per_second': 1.25, 'epoch': 1.0}\n",
      "{'loss': 1.2239, 'grad_norm': 4.233496189117432, 'learning_rate': 1.7827877610796515e-05, 'epoch': 1.07}\n",
      "{'loss': 1.2358, 'grad_norm': 8.18569278717041, 'learning_rate': 1.7541478823146328e-05, 'epoch': 1.14}\n",
      "{'loss': 1.1641, 'grad_norm': 17.71514129638672, 'learning_rate': 1.7239961680637002e-05, 'epoch': 1.21}\n",
      "{'loss': 1.1927, 'grad_norm': 6.716207504272461, 'learning_rate': 1.6923930632775517e-05, 'epoch': 1.28}\n",
      "{'loss': 1.1201, 'grad_norm': 7.243381500244141, 'learning_rate': 1.6594019225003043e-05, 'epoch': 1.35}\n",
      "{'loss': 1.149, 'grad_norm': 7.283588886260986, 'learning_rate': 1.62508888286304e-05, 'epoch': 1.43}\n",
      "{'loss': 1.2107, 'grad_norm': 3.097245454788208, 'learning_rate': 1.589522731499118e-05, 'epoch': 1.5}\n",
      "{'loss': 1.0935, 'grad_norm': 29.199148178100586, 'learning_rate': 1.552774767647043e-05, 'epoch': 1.57}\n",
      "{'loss': 1.1747, 'grad_norm': 5.241938591003418, 'learning_rate': 1.5149186597173348e-05, 'epoch': 1.64}\n",
      "{'loss': 1.0749, 'grad_norm': 14.376627922058105, 'learning_rate': 1.4760302976099305e-05, 'epoch': 1.71}\n",
      "{'loss': 1.0954, 'grad_norm': 5.955470561981201, 'learning_rate': 1.4361876405781835e-05, 'epoch': 1.78}\n",
      "{'loss': 1.0894, 'grad_norm': 10.7125883102417, 'learning_rate': 1.3954705609444403e-05, 'epoch': 1.85}\n",
      "{'loss': 1.0857, 'grad_norm': 9.084578514099121, 'learning_rate': 1.3539606839805037e-05, 'epoch': 1.92}\n",
      "{'loss': 1.0668, 'grad_norm': 53.460575103759766, 'learning_rate': 1.3117412242739655e-05, 'epoch': 2.0}\n"
     ]
    },
    {
     "data": {
      "application/vnd.jupyter.widget-view+json": {
       "model_id": "fe09ac229aa745b6bcd424ea9f7256f8",
       "version_major": 2,
       "version_minor": 0
      },
      "text/plain": [
       "  0%|          | 0/860 [00:00<?, ?it/s]"
      ]
     },
     "metadata": {},
     "output_type": "display_data"
    },
    {
     "name": "stdout",
     "output_type": "stream",
     "text": [
      "{'eval_loss': 1.0796683882507376, 'eval_accuracy_emotions': 0.5921, 'eval_accuracy_triggers': 0.8254, 'eval_u_avg_f1': 0.5933, 'eval_u_f1scores_emotions': 0.5269, 'eval_u_f1scores_triggers': 0.6596, 'eval_d_f1scores_emotions': 0.5911, 'eval_d_f1scores_triggers': 0.7868, 'eval_runtime': 688.0894, 'eval_samples_per_second': 4.995, 'eval_steps_per_second': 1.25, 'epoch': 2.0}\n",
      "{'loss': 0.9636, 'grad_norm': 5.827549934387207, 'learning_rate': 1.2688968189084494e-05, 'epoch': 2.07}\n",
      "{'loss': 0.9599, 'grad_norm': 4.711796760559082, 'learning_rate': 1.225513357792187e-05, 'epoch': 2.14}\n",
      "{'loss': 0.9357, 'grad_norm': 31.187774658203125, 'learning_rate': 1.1816778114750594e-05, 'epoch': 2.21}\n",
      "{'loss': 0.9407, 'grad_norm': 5.3724775314331055, 'learning_rate': 1.13747805679929e-05, 'epoch': 2.28}\n",
      "{'loss': 0.9871, 'grad_norm': 17.622352600097656, 'learning_rate': 1.0930027007332924e-05, 'epoch': 2.35}\n",
      "{'loss': 0.9455, 'grad_norm': 73.21424865722656, 'learning_rate': 1.0483409027418426e-05, 'epoch': 2.42}\n",
      "{'loss': 0.8956, 'grad_norm': 12.567240715026855, 'learning_rate': 1.0035821960486643e-05, 'epoch': 2.49}\n",
      "{'loss': 0.8872, 'grad_norm': 18.97389030456543, 'learning_rate': 9.588163081497427e-06, 'epoch': 2.57}\n",
      "{'loss': 0.8894, 'grad_norm': 4.423419952392578, 'learning_rate': 9.141329809371803e-06, 'epoch': 2.64}\n",
      "{'loss': 0.8803, 'grad_norm': 62.968666076660156, 'learning_rate': 8.696217907941941e-06, 'epoch': 2.71}\n",
      "{'loss': 0.8881, 'grad_norm': 15.738504409790039, 'learning_rate': 8.253719690219079e-06, 'epoch': 2.78}\n",
      "{'loss': 0.8371, 'grad_norm': 31.426193237304688, 'learning_rate': 7.814722229579263e-06, 'epoch': 2.85}\n",
      "{'loss': 0.8832, 'grad_norm': 7.432913303375244, 'learning_rate': 7.380105581452988e-06, 'epoch': 2.92}\n",
      "{'loss': 0.8391, 'grad_norm': 29.344215393066406, 'learning_rate': 6.9507410190836174e-06, 'epoch': 2.99}\n"
     ]
    },
    {
     "data": {
      "application/vnd.jupyter.widget-view+json": {
       "model_id": "ead53707dd944782a2636a5b48bde8ce",
       "version_major": 2,
       "version_minor": 0
      },
      "text/plain": [
       "  0%|          | 0/860 [00:00<?, ?it/s]"
      ]
     },
     "metadata": {},
     "output_type": "display_data"
    },
    {
     "name": "stdout",
     "output_type": "stream",
     "text": [
      "{'eval_loss': 0.8567845772288228, 'eval_accuracy_emotions': 0.6864, 'eval_accuracy_triggers': 0.8048, 'eval_u_avg_f1': 0.6641, 'eval_u_f1scores_emotions': 0.6303, 'eval_u_f1scores_triggers': 0.6979, 'eval_d_f1scores_emotions': 0.6738, 'eval_d_f1scores_triggers': 0.7637, 'eval_runtime': 688.0888, 'eval_samples_per_second': 4.995, 'eval_steps_per_second': 1.25, 'epoch': 3.0}\n",
      "{'loss': 0.7443, 'grad_norm': 12.245230674743652, 'learning_rate': 6.527489286891458e-06, 'epoch': 3.06}\n",
      "{'loss': 0.7907, 'grad_norm': 8.418944358825684, 'learning_rate': 6.111198874944846e-06, 'epoch': 3.14}\n",
      "{'loss': 0.7325, 'grad_norm': 29.323875427246094, 'learning_rate': 5.702704317997491e-06, 'epoch': 3.21}\n",
      "{'loss': 0.7363, 'grad_norm': 7.589890003204346, 'learning_rate': 5.302824522501931e-06, 'epoch': 3.28}\n",
      "{'loss': 0.7442, 'grad_norm': 84.50823974609375, 'learning_rate': 4.912361124952949e-06, 'epoch': 3.35}\n",
      "{'loss': 0.6948, 'grad_norm': 47.93317413330078, 'learning_rate': 4.532096884851978e-06, 'epoch': 3.42}\n",
      "{'loss': 0.7185, 'grad_norm': 15.314689636230469, 'learning_rate': 4.162794115514078e-06, 'epoch': 3.49}\n",
      "{'loss': 0.7292, 'grad_norm': 34.02716827392578, 'learning_rate': 3.805193155863247e-06, 'epoch': 3.56}\n",
      "{'loss': 0.6988, 'grad_norm': 57.73391342163086, 'learning_rate': 3.460010886279681e-06, 'epoch': 3.63}\n",
      "{'loss': 0.6846, 'grad_norm': 40.21868133544922, 'learning_rate': 3.1279392914742047e-06, 'epoch': 3.71}\n",
      "{'loss': 0.7178, 'grad_norm': 2.4850709438323975, 'learning_rate': 2.8096440732709085e-06, 'epoch': 3.78}\n",
      "{'loss': 0.7145, 'grad_norm': 8.6047945022583, 'learning_rate': 2.5057633160789186e-06, 'epoch': 3.85}\n",
      "{'loss': 0.6751, 'grad_norm': 20.81237030029297, 'learning_rate': 2.2169062077286072e-06, 'epoch': 3.92}\n",
      "{'loss': 0.6601, 'grad_norm': 7.8646674156188965, 'learning_rate': 1.943651818236616e-06, 'epoch': 3.99}\n"
     ]
    },
    {
     "data": {
      "application/vnd.jupyter.widget-view+json": {
       "model_id": "dd41b0b24e89425895d788a724a9691b",
       "version_major": 2,
       "version_minor": 0
      },
      "text/plain": [
       "  0%|          | 0/860 [00:00<?, ?it/s]"
      ]
     },
     "metadata": {},
     "output_type": "display_data"
    },
    {
     "name": "stdout",
     "output_type": "stream",
     "text": [
      "{'eval_loss': 0.799468365038622, 'eval_accuracy_emotions': 0.7617, 'eval_accuracy_triggers': 0.8164, 'eval_u_avg_f1': 0.7096, 'eval_u_f1scores_emotions': 0.723, 'eval_u_f1scores_triggers': 0.6962, 'eval_d_f1scores_emotions': 0.7513, 'eval_d_f1scores_triggers': 0.7785, 'eval_runtime': 688.0545, 'eval_samples_per_second': 4.995, 'eval_steps_per_second': 1.25, 'epoch': 4.0}\n",
      "{'loss': 0.6102, 'grad_norm': 12.554176330566406, 'learning_rate': 1.6865479389478545e-06, 'epoch': 4.06}\n",
      "{'loss': 0.6394, 'grad_norm': 144.2042694091797, 'learning_rate': 1.4461099843816684e-06, 'epoch': 4.13}\n",
      "{'loss': 0.6233, 'grad_norm': 26.036357879638672, 'learning_rate': 1.2228199589835998e-06, 'epoch': 4.2}\n",
      "{'loss': 0.678, 'grad_norm': 15.784579277038574, 'learning_rate': 1.0171254908541373e-06, 'epoch': 4.28}\n",
      "{'loss': 0.6432, 'grad_norm': 7.162163734436035, 'learning_rate': 8.294389343914899e-07, 'epoch': 4.35}\n",
      "{'loss': 0.6358, 'grad_norm': 8.224676132202148, 'learning_rate': 6.601365436473439e-07, 'epoch': 4.42}\n",
      "{'loss': 0.6313, 'grad_norm': 33.34459686279297, 'learning_rate': 5.095577180527378e-07, 'epoch': 4.49}\n",
      "{'loss': 0.613, 'grad_norm': 37.301822662353516, 'learning_rate': 3.780043220261764e-07, 'epoch': 4.56}\n",
      "{'loss': 0.6457, 'grad_norm': 5.026070594787598, 'learning_rate': 2.6574007982793857e-07, 'epoch': 4.63}\n",
      "{'loss': 0.6031, 'grad_norm': 8.41162109375, 'learning_rate': 1.7299004687372666e-07, 'epoch': 4.7}\n",
      "{'loss': 0.6497, 'grad_norm': 17.296527862548828, 'learning_rate': 9.994015856749528e-08, 'epoch': 4.77}\n",
      "{'loss': 0.5807, 'grad_norm': 15.758045196533203, 'learning_rate': 4.673685755792523e-08, 'epoch': 4.85}\n",
      "{'loss': 0.623, 'grad_norm': 56.685115814208984, 'learning_rate': 1.3486800165773972e-08, 'epoch': 4.92}\n",
      "{'loss': 0.5937, 'grad_norm': 14.71564769744873, 'learning_rate': 2.5664257062185673e-10, 'epoch': 4.99}\n"
     ]
    },
    {
     "data": {
      "application/vnd.jupyter.widget-view+json": {
       "model_id": "6fb1672aa24e4534b07e2737657760da",
       "version_major": 2,
       "version_minor": 0
      },
      "text/plain": [
       "  0%|          | 0/860 [00:00<?, ?it/s]"
      ]
     },
     "metadata": {},
     "output_type": "display_data"
    },
    {
     "name": "stdout",
     "output_type": "stream",
     "text": [
      "{'eval_loss': 0.7984874646421296, 'eval_accuracy_emotions': 0.776, 'eval_accuracy_triggers': 0.8167, 'eval_u_avg_f1': 0.7161, 'eval_u_f1scores_emotions': 0.7453, 'eval_u_f1scores_triggers': 0.6869, 'eval_d_f1scores_emotions': 0.7621, 'eval_d_f1scores_triggers': 0.776, 'eval_runtime': 688.0548, 'eval_samples_per_second': 4.995, 'eval_steps_per_second': 1.25, 'epoch': 5.0}\n",
      "{'train_runtime': 11182.3991, 'train_samples_per_second': 12.547, 'train_steps_per_second': 3.137, 'train_loss': 0.9473706626022147, 'epoch': 5.0}\n"
     ]
    }
   ],
   "source": [
    "# Training model with seed 111\n",
    "train_extr_model(111, model_card)"
   ]
  },
  {
   "cell_type": "markdown",
   "metadata": {},
   "source": [
    "Train freezed model"
   ]
  },
  {
   "cell_type": "code",
   "execution_count": null,
   "metadata": {},
   "outputs": [],
   "source": [
    "# Training model with seed 49\n",
    "train_extr_model(49, True)"
   ]
  },
  {
   "cell_type": "code",
   "execution_count": null,
   "metadata": {},
   "outputs": [],
   "source": [
    "# Training model with seed 666\n",
    "train_extr_model(666, True)"
   ]
  },
  {
   "cell_type": "code",
   "execution_count": null,
   "metadata": {},
   "outputs": [],
   "source": [
    "# Training model with seed 51\n",
    "train_extr_model(51, True)"
   ]
  },
  {
   "cell_type": "code",
   "execution_count": null,
   "metadata": {},
   "outputs": [],
   "source": [
    "# Training model with seed 77\n",
    "train_extr_model(77, True)"
   ]
  },
  {
   "cell_type": "code",
   "execution_count": null,
   "metadata": {},
   "outputs": [],
   "source": [
    "# Training model with seed 111\n",
    "train_extr_model(111, True)"
   ]
  }
 ],
 "metadata": {
  "kernelspec": {
   "display_name": "base",
   "language": "python",
   "name": "python3"
  },
  "language_info": {
   "codemirror_mode": {
    "name": "ipython",
    "version": 3
   },
   "file_extension": ".py",
   "mimetype": "text/x-python",
   "name": "python",
   "nbconvert_exporter": "python",
   "pygments_lexer": "ipython3",
   "version": "3.9.12"
  }
 },
 "nbformat": 4,
 "nbformat_minor": 2
}
