{
 "cells": [
  {
   "cell_type": "code",
   "execution_count": 1,
   "metadata": {},
   "outputs": [
    {
     "name": "stderr",
     "output_type": "stream",
     "text": [
      "c:\\Users\\marco\\anaconda3\\lib\\site-packages\\scipy\\__init__.py:146: UserWarning: A NumPy version >=1.16.5 and <1.23.0 is required for this version of SciPy (detected version 1.26.2\n",
      "  warnings.warn(f\"A NumPy version >={np_minversion} and <{np_maxversion}\"\n"
     ]
    },
    {
     "name": "stdout",
     "output_type": "stream",
     "text": [
      "WARNING:tensorflow:From c:\\Users\\marco\\anaconda3\\lib\\site-packages\\keras\\src\\losses.py:2976: The name tf.losses.sparse_softmax_cross_entropy is deprecated. Please use tf.compat.v1.losses.sparse_softmax_cross_entropy instead.\n",
      "\n"
     ]
    }
   ],
   "source": [
    "import torch\n",
    "import torch.nn.functional as F\n",
    "from src.utils import *\n",
    "from src.models.models import Model_Phrase_Concatenation, Model_Phrase_Extraction, Model_concat_nopooling\n",
    "from src.models.baseline import Baseline\n",
    "from datasets import concatenate_datasets\n",
    "from sklearn.utils.class_weight import compute_class_weight\n",
    "from transformers import DefaultDataCollator, AutoTokenizer, TrainingArguments, Trainer"
   ]
  },
  {
   "cell_type": "code",
   "execution_count": 2,
   "metadata": {},
   "outputs": [
    {
     "name": "stdout",
     "output_type": "stream",
     "text": [
      "2.1.0+cu121\n",
      "True\n"
     ]
    }
   ],
   "source": [
    "RANDOM_SEED = 42\n",
    "set_seeds(RANDOM_SEED)\n",
    "\n",
    "print(torch.__version__)\n",
    "print(torch.cuda.is_available())"
   ]
  },
  {
   "cell_type": "code",
   "execution_count": 3,
   "metadata": {},
   "outputs": [
    {
     "name": "stdout",
     "output_type": "stream",
     "text": [
      "Current work directory: c:\\Users\\marco\\OneDrive\\Immagini\\Documenti\\GitHub\\ediref\n"
     ]
    },
    {
     "data": {
      "text/html": [
       "<div>\n",
       "<style scoped>\n",
       "    .dataframe tbody tr th:only-of-type {\n",
       "        vertical-align: middle;\n",
       "    }\n",
       "\n",
       "    .dataframe tbody tr th {\n",
       "        vertical-align: top;\n",
       "    }\n",
       "\n",
       "    .dataframe thead th {\n",
       "        text-align: right;\n",
       "    }\n",
       "</style>\n",
       "<table border=\"1\" class=\"dataframe\">\n",
       "  <thead>\n",
       "    <tr style=\"text-align: right;\">\n",
       "      <th></th>\n",
       "      <th>episode</th>\n",
       "      <th>emotions</th>\n",
       "      <th>utterances</th>\n",
       "      <th>triggers</th>\n",
       "      <th>emotions_id</th>\n",
       "    </tr>\n",
       "  </thead>\n",
       "  <tbody>\n",
       "    <tr>\n",
       "      <th>0</th>\n",
       "      <td>utterance_0</td>\n",
       "      <td>[neutral, neutral, neutral, neutral, surprise]</td>\n",
       "      <td>[also I was the point person on my company's t...</td>\n",
       "      <td>[0, 0, 0, 1, 0]</td>\n",
       "      <td>[4, 4, 4, 4, 3]</td>\n",
       "    </tr>\n",
       "    <tr>\n",
       "      <th>1</th>\n",
       "      <td>utterance_1</td>\n",
       "      <td>[neutral, neutral, neutral, neutral, surprise,...</td>\n",
       "      <td>[also I was the point person on my company's t...</td>\n",
       "      <td>[0, 0, 0, 0, 0, 1, 0]</td>\n",
       "      <td>[4, 4, 4, 4, 3, 4, 4]</td>\n",
       "    </tr>\n",
       "    <tr>\n",
       "      <th>2</th>\n",
       "      <td>utterance_2</td>\n",
       "      <td>[neutral, neutral, neutral, neutral, surprise,...</td>\n",
       "      <td>[also I was the point person on my company's t...</td>\n",
       "      <td>[0, 0, 0, 0, 0, 0, 0, 1, 0, 1, 0]</td>\n",
       "      <td>[4, 4, 4, 4, 3, 4, 4, 4, 4, 4, 1]</td>\n",
       "    </tr>\n",
       "    <tr>\n",
       "      <th>3</th>\n",
       "      <td>utterance_3</td>\n",
       "      <td>[neutral, neutral, neutral, neutral, surprise,...</td>\n",
       "      <td>[also I was the point person on my company's t...</td>\n",
       "      <td>[0, 0, 0, 0, 0, 0, 0, 0, 0, 0, 0, 1, 0]</td>\n",
       "      <td>[4, 4, 4, 4, 3, 4, 4, 4, 4, 4, 1, 4, 3]</td>\n",
       "    </tr>\n",
       "    <tr>\n",
       "      <th>4</th>\n",
       "      <td>utterance_4</td>\n",
       "      <td>[surprise, sadness, surprise, fear]</td>\n",
       "      <td>[But then who? The waitress I went out with la...</td>\n",
       "      <td>[0, 0, 1, 0]</td>\n",
       "      <td>[3, 0, 3, 1]</td>\n",
       "    </tr>\n",
       "    <tr>\n",
       "      <th>...</th>\n",
       "      <td>...</td>\n",
       "      <td>...</td>\n",
       "      <td>...</td>\n",
       "      <td>...</td>\n",
       "      <td>...</td>\n",
       "    </tr>\n",
       "    <tr>\n",
       "      <th>3995</th>\n",
       "      <td>utterance_3995</td>\n",
       "      <td>[neutral, joy, neutral, neutral, surprise, dis...</td>\n",
       "      <td>[Hey., Hey!, So how was Joan?, I broke up with...</td>\n",
       "      <td>[0, 0, 0, 0, 0, 0, 0, 0, 0, 0, 0, 1]</td>\n",
       "      <td>[4, 6, 4, 4, 3, 2, 4, 2, 3, 4, 4, 2]</td>\n",
       "    </tr>\n",
       "    <tr>\n",
       "      <th>3996</th>\n",
       "      <td>utterance_3996</td>\n",
       "      <td>[neutral, joy, neutral, neutral, surprise, dis...</td>\n",
       "      <td>[Hey., Hey!, So how was Joan?, I broke up with...</td>\n",
       "      <td>[0, 0, 0, 0, 0, 0, 0, 0, 0, 0, 0, 0, 0, 1]</td>\n",
       "      <td>[4, 6, 4, 4, 3, 2, 4, 2, 3, 4, 4, 2, 2, 4]</td>\n",
       "    </tr>\n",
       "    <tr>\n",
       "      <th>3997</th>\n",
       "      <td>utterance_3997</td>\n",
       "      <td>[neutral, joy, neutral, neutral, surprise, dis...</td>\n",
       "      <td>[Hey., Hey!, So how was Joan?, I broke up with...</td>\n",
       "      <td>[0, 0, 0, 0, 0, 0, 0, 0, 0, 0, 0, 0, 0, 1, 0]</td>\n",
       "      <td>[4, 6, 4, 4, 3, 2, 4, 2, 3, 4, 4, 2, 2, 4, 4]</td>\n",
       "    </tr>\n",
       "    <tr>\n",
       "      <th>3998</th>\n",
       "      <td>utterance_3998</td>\n",
       "      <td>[neutral, joy, neutral, neutral, surprise, dis...</td>\n",
       "      <td>[Hey., Hey!, So how was Joan?, I broke up with...</td>\n",
       "      <td>[0, 0, 0, 0, 0, 0, 0, 0, 0, 0, 0, 0, 0, 0, 1, 0]</td>\n",
       "      <td>[4, 6, 4, 4, 3, 2, 4, 2, 3, 4, 4, 2, 2, 4, 4, 3]</td>\n",
       "    </tr>\n",
       "    <tr>\n",
       "      <th>3999</th>\n",
       "      <td>utterance_3999</td>\n",
       "      <td>[neutral, joy, neutral, neutral, surprise, dis...</td>\n",
       "      <td>[Hey., Hey!, So how was Joan?, I broke up with...</td>\n",
       "      <td>[0, 0, 0, 0, 0, 0, 0, 0, 0, 0, 0, 0, 0, 0, 0, ...</td>\n",
       "      <td>[4, 6, 4, 4, 3, 2, 4, 2, 3, 4, 4, 2, 2, 4, 4, ...</td>\n",
       "    </tr>\n",
       "  </tbody>\n",
       "</table>\n",
       "<p>4000 rows × 5 columns</p>\n",
       "</div>"
      ],
      "text/plain": [
       "             episode                                           emotions  \\\n",
       "0        utterance_0     [neutral, neutral, neutral, neutral, surprise]   \n",
       "1        utterance_1  [neutral, neutral, neutral, neutral, surprise,...   \n",
       "2        utterance_2  [neutral, neutral, neutral, neutral, surprise,...   \n",
       "3        utterance_3  [neutral, neutral, neutral, neutral, surprise,...   \n",
       "4        utterance_4                [surprise, sadness, surprise, fear]   \n",
       "...              ...                                                ...   \n",
       "3995  utterance_3995  [neutral, joy, neutral, neutral, surprise, dis...   \n",
       "3996  utterance_3996  [neutral, joy, neutral, neutral, surprise, dis...   \n",
       "3997  utterance_3997  [neutral, joy, neutral, neutral, surprise, dis...   \n",
       "3998  utterance_3998  [neutral, joy, neutral, neutral, surprise, dis...   \n",
       "3999  utterance_3999  [neutral, joy, neutral, neutral, surprise, dis...   \n",
       "\n",
       "                                             utterances  \\\n",
       "0     [also I was the point person on my company's t...   \n",
       "1     [also I was the point person on my company's t...   \n",
       "2     [also I was the point person on my company's t...   \n",
       "3     [also I was the point person on my company's t...   \n",
       "4     [But then who? The waitress I went out with la...   \n",
       "...                                                 ...   \n",
       "3995  [Hey., Hey!, So how was Joan?, I broke up with...   \n",
       "3996  [Hey., Hey!, So how was Joan?, I broke up with...   \n",
       "3997  [Hey., Hey!, So how was Joan?, I broke up with...   \n",
       "3998  [Hey., Hey!, So how was Joan?, I broke up with...   \n",
       "3999  [Hey., Hey!, So how was Joan?, I broke up with...   \n",
       "\n",
       "                                               triggers  \\\n",
       "0                                       [0, 0, 0, 1, 0]   \n",
       "1                                 [0, 0, 0, 0, 0, 1, 0]   \n",
       "2                     [0, 0, 0, 0, 0, 0, 0, 1, 0, 1, 0]   \n",
       "3               [0, 0, 0, 0, 0, 0, 0, 0, 0, 0, 0, 1, 0]   \n",
       "4                                          [0, 0, 1, 0]   \n",
       "...                                                 ...   \n",
       "3995               [0, 0, 0, 0, 0, 0, 0, 0, 0, 0, 0, 1]   \n",
       "3996         [0, 0, 0, 0, 0, 0, 0, 0, 0, 0, 0, 0, 0, 1]   \n",
       "3997      [0, 0, 0, 0, 0, 0, 0, 0, 0, 0, 0, 0, 0, 1, 0]   \n",
       "3998   [0, 0, 0, 0, 0, 0, 0, 0, 0, 0, 0, 0, 0, 0, 1, 0]   \n",
       "3999  [0, 0, 0, 0, 0, 0, 0, 0, 0, 0, 0, 0, 0, 0, 0, ...   \n",
       "\n",
       "                                            emotions_id  \n",
       "0                                       [4, 4, 4, 4, 3]  \n",
       "1                                 [4, 4, 4, 4, 3, 4, 4]  \n",
       "2                     [4, 4, 4, 4, 3, 4, 4, 4, 4, 4, 1]  \n",
       "3               [4, 4, 4, 4, 3, 4, 4, 4, 4, 4, 1, 4, 3]  \n",
       "4                                          [3, 0, 3, 1]  \n",
       "...                                                 ...  \n",
       "3995               [4, 6, 4, 4, 3, 2, 4, 2, 3, 4, 4, 2]  \n",
       "3996         [4, 6, 4, 4, 3, 2, 4, 2, 3, 4, 4, 2, 2, 4]  \n",
       "3997      [4, 6, 4, 4, 3, 2, 4, 2, 3, 4, 4, 2, 2, 4, 4]  \n",
       "3998   [4, 6, 4, 4, 3, 2, 4, 2, 3, 4, 4, 2, 2, 4, 4, 3]  \n",
       "3999  [4, 6, 4, 4, 3, 2, 4, 2, 3, 4, 4, 2, 2, 4, 4, ...  \n",
       "\n",
       "[4000 rows x 5 columns]"
      ]
     },
     "execution_count": 3,
     "metadata": {},
     "output_type": "execute_result"
    }
   ],
   "source": [
    "url = \"https://drive.google.com/uc?export=download&id=1wVNU2XvvhqjaGXZM-JLJwOt97gt4g9j2\"\n",
    "dataset_name = \"MELD_train_efr.json\"\n",
    "\n",
    "df_manager = DataframeManager(url, dataset_name)\n",
    "\n",
    "df = df_manager.produce_df()\n",
    "df"
   ]
  },
  {
   "cell_type": "code",
   "execution_count": 4,
   "metadata": {},
   "outputs": [],
   "source": [
    "model_card = 'google/electra-base-discriminator'\n",
    "\n",
    "tokenizer = AutoTokenizer.from_pretrained(model_card)\n",
    "\n",
    "model_dir = \"./model_dir/\"+model_card.split(\"/\")[-1]+\"/\"\n",
    "data_collator = DefaultDataCollator()"
   ]
  },
  {
   "cell_type": "code",
   "execution_count": 5,
   "metadata": {},
   "outputs": [],
   "source": [
    "train_data_tokenized, val_data_tokenized, test_data_tokenized = df_manager.produce_dataset(tokenizer, RANDOM_SEED)"
   ]
  },
  {
   "cell_type": "code",
   "execution_count": 6,
   "metadata": {},
   "outputs": [
    {
     "data": {
      "text/plain": [
       "28062"
      ]
     },
     "execution_count": 6,
     "metadata": {},
     "output_type": "execute_result"
    }
   ],
   "source": [
    "len(train_data_tokenized)"
   ]
  },
  {
   "cell_type": "code",
   "execution_count": 7,
   "metadata": {},
   "outputs": [],
   "source": [
    "def init_pos_weight(data, labels_column, class_weights=True, factor=1):\n",
    "    y = data[labels_column].numpy()\n",
    "    if class_weights:\n",
    "        return torch.tensor(compute_class_weight(class_weight=\"balanced\", classes=np.unique(y), y=y)).to(\"cuda\")\n",
    "    else:\n",
    "        return torch.tensor(compute_class_weight(class_weight=None, classes=np.unique(y), y=y)).to(\"cuda\")"
   ]
  },
  {
   "cell_type": "code",
   "execution_count": 8,
   "metadata": {},
   "outputs": [],
   "source": [
    "class MultiLabelTrainer(Trainer):\n",
    "    def __init__(self, pos_weight=None, **kwargs):\n",
    "        self.emotions_pos_weight, self.triggers_pos_weight = pos_weight\n",
    "        super().__init__(**kwargs)\n",
    "\n",
    "    def compute_loss(self, model, inputs, return_outputs=False):\n",
    "        emotions_true = inputs[\"emotions_id_one_hot_encoding\"].to(\"cuda\")\n",
    "        triggers_true = inputs[\"triggers\"].unsqueeze(1).float().to(\"cuda\")\n",
    "\n",
    "        result = model(**inputs)\n",
    "        \n",
    "        emotion_logits = result['emotion_logits'].to(\"cuda\")\n",
    "        trigger_logits = result['trigger_logits'].to(\"cuda\")\n",
    "        \n",
    "        loss_fct_emotions = torch.nn.CrossEntropyLoss(weight=self.emotions_pos_weight).to(\"cuda\")        \n",
    "        loss_fct_triggers = torch.nn.BCEWithLogitsLoss(pos_weight=self.triggers_pos_weight[1]).to(\"cuda\")\n",
    "        \n",
    "        loss_emotions = loss_fct_emotions(emotion_logits, emotions_true.float())\n",
    "        loss_triggers = loss_fct_triggers(trigger_logits, triggers_true)\n",
    "\n",
    "\n",
    "        loss_emotions_wt = 0.5\n",
    "        loss_triggers_wt = 0.5\n",
    "\n",
    "        loss = loss_emotions_wt*loss_emotions + loss_triggers_wt*loss_triggers\n",
    "        return (loss, {'emotion_logits': emotion_logits, 'trigger_logits': trigger_logits}) if return_outputs else loss\n",
    "\n",
    "def get_trainer(model, train, val, model_dir, class_weights=True, batch_size=1, epochs=20):\n",
    "    training_args = TrainingArguments(\n",
    "        output_dir=model_dir,\n",
    "        learning_rate=2e-5,\n",
    "        per_device_train_batch_size=batch_size,\n",
    "        per_device_eval_batch_size=batch_size,\n",
    "        num_train_epochs=epochs,\n",
    "        weight_decay=0.01,\n",
    "        evaluation_strategy=\"epoch\",\n",
    "        save_strategy=\"epoch\",\n",
    "        save_total_limit=1,\n",
    "        lr_scheduler_type=\"cosine\",\n",
    "        metric_for_best_model='u_avg_f1',\n",
    "        report_to='none',\n",
    "        label_names=[\"emotions_id\", \"triggers\", \"dialogue_index\"],\n",
    "    )\n",
    "\n",
    "    full_dataset = concatenate_datasets([train_data_tokenized, val_data_tokenized, test_data_tokenized])\n",
    "    pos_weight = (init_pos_weight(full_dataset, df_manager.column_emotions_id, class_weights), init_pos_weight(full_dataset, df_manager.column_triggers, class_weights))\n",
    "\n",
    "    trainer = MultiLabelTrainer(\n",
    "        pos_weight=pos_weight,\n",
    "        model=model,\n",
    "        args=training_args,\n",
    "        train_dataset=train,\n",
    "        eval_dataset=val,\n",
    "        tokenizer=tokenizer,\n",
    "        data_collator=data_collator,\n",
    "        compute_metrics=lambda pred: compute_metrics(pred, len(df_manager.emotion2id.keys()))\n",
    "    )\n",
    "\n",
    "    return trainer"
   ]
  },
  {
   "cell_type": "code",
   "execution_count": 8,
   "metadata": {},
   "outputs": [],
   "source": [
    "# How to load a model\n",
    "# b = Model_Phrase_Extraction(len(df_manager.unique_emotions), tokenizer.sep_token_id)\n",
    "# model_path = model_dir + \"bert_extraction_51\"\n",
    "# b.load_state_dict(torch.load(model_path+\"/bert_extraction_51.pth\"))\n",
    "# tr = get_trainer(b, train_data_tokenized, val_data_tokenized, model_path, class_weights=True, batch_size=4, epochs=5)\n",
    "# tr.evaluate(val_data_tokenized)"
   ]
  },
  {
   "cell_type": "code",
   "execution_count": 11,
   "metadata": {},
   "outputs": [],
   "source": [
    "def train_extr_model(seed, freeze=False):\n",
    "    set_seeds(seed)\n",
    "    base_model = Model_Phrase_Extraction(len(df_manager.unique_emotions), tokenizer.sep_token_id, freeze)\n",
    "    model_path = model_dir+\"electra_extraction_freeze_\"+str(seed) if freeze else model_dir+\"electra_extraction_\"+str(seed)\n",
    "\n",
    "    trainer = get_trainer(base_model, train_data_tokenized, val_data_tokenized, model_path, class_weights=True, batch_size=4, epochs=5)\n",
    "\n",
    "    print(f'Training EXTRACTION MODEL with seed {seed}:')\n",
    "\n",
    "    trainer.train()\n",
    "    save_name = \"/electra_extraction_freeze_\"+str(seed)+\".pth\" if freeze else \"/electra_extraction_\"+str(seed)+\".pth\"\n",
    "    torch.save(base_model.state_dict(), model_path+save_name)"
   ]
  },
  {
   "cell_type": "code",
   "execution_count": 10,
   "metadata": {},
   "outputs": [],
   "source": [
    "seeds = [49, 666, 51, 77, 111]"
   ]
  },
  {
   "cell_type": "code",
   "execution_count": 18,
   "metadata": {},
   "outputs": [
    {
     "name": "stderr",
     "output_type": "stream",
     "text": [
      "c:\\Users\\marco\\anaconda3\\lib\\site-packages\\datasets\\table.py:1395: FutureWarning: promote has been superseded by mode='default'.\n",
      "  block_group = [InMemoryTable(cls._concat_blocks(list(block_group), axis=axis))]\n",
      "c:\\Users\\marco\\anaconda3\\lib\\site-packages\\datasets\\table.py:1421: FutureWarning: promote has been superseded by mode='default'.\n",
      "  table = cls._concat_blocks(blocks, axis=0)\n",
      "c:\\Users\\marco\\anaconda3\\lib\\site-packages\\accelerate\\accelerator.py:436: FutureWarning: Passing the following arguments to `Accelerator` is deprecated and will be removed in version 1.0 of Accelerate: dict_keys(['dispatch_batches', 'split_batches']). Please pass an `accelerate.DataLoaderConfiguration` instead: \n",
      "dataloader_config = DataLoaderConfiguration(dispatch_batches=None, split_batches=False)\n",
      "  warnings.warn(\n"
     ]
    },
    {
     "name": "stdout",
     "output_type": "stream",
     "text": [
      "Training EXTRACTION MODEL with seed 49:\n"
     ]
    },
    {
     "data": {
      "application/vnd.jupyter.widget-view+json": {
       "model_id": "3e491a58088446bf85fe0c5564ac0c85",
       "version_major": 2,
       "version_minor": 0
      },
      "text/plain": [
       "  0%|          | 0/35080 [00:00<?, ?it/s]"
      ]
     },
     "metadata": {},
     "output_type": "display_data"
    },
    {
     "name": "stderr",
     "output_type": "stream",
     "text": [
      "Could not estimate the number of tokens of the input, floating-point operations will not be computed\n"
     ]
    },
    {
     "name": "stdout",
     "output_type": "stream",
     "text": [
      "{'loss': 1.5421, 'learning_rate': 1.9989976531650042e-05, 'epoch': 0.07}\n",
      "{'loss': 1.3779, 'learning_rate': 1.9959926220583713e-05, 'epoch': 0.14}\n",
      "{'loss': 1.3744, 'learning_rate': 1.9909909308469398e-05, 'epoch': 0.21}\n",
      "{'loss': 1.3762, 'learning_rate': 1.9840026063894193e-05, 'epoch': 0.29}\n",
      "{'loss': 1.3867, 'learning_rate': 1.9750416581356147e-05, 'epoch': 0.36}\n",
      "{'loss': 1.3281, 'learning_rate': 1.9641260500417672e-05, 'epoch': 0.43}\n",
      "{'loss': 1.3626, 'learning_rate': 1.9512776645583266e-05, 'epoch': 0.5}\n",
      "{'loss': 1.3262, 'learning_rate': 1.9365222587623407e-05, 'epoch': 0.57}\n",
      "{'loss': 1.3487, 'learning_rate': 1.9198894127224075e-05, 'epoch': 0.64}\n",
      "{'loss': 1.2573, 'learning_rate': 1.9014124701996973e-05, 'epoch': 0.71}\n",
      "{'loss': 1.2816, 'learning_rate': 1.881128471803926e-05, 'epoch': 0.78}\n",
      "{'loss': 1.2973, 'learning_rate': 1.859078080738279e-05, 'epoch': 0.86}\n",
      "{'loss': 1.2123, 'learning_rate': 1.835305501282148e-05, 'epoch': 0.93}\n",
      "{'loss': 1.2163, 'learning_rate': 1.809858390175087e-05, 'epoch': 1.0}\n"
     ]
    },
    {
     "data": {
      "application/vnd.jupyter.widget-view+json": {
       "model_id": "19f5abde18704e8e81e3aabd3b0fede9",
       "version_major": 2,
       "version_minor": 0
      },
      "text/plain": [
       "  0%|          | 0/860 [00:00<?, ?it/s]"
      ]
     },
     "metadata": {},
     "output_type": "display_data"
    },
    {
     "name": "stdout",
     "output_type": "stream",
     "text": [
      "{'eval_loss': 1.2541837124130122, 'eval_accuracy_emotions': 0.391, 'eval_accuracy_triggers': 0.8266, 'eval_u_avg_f1': 0.4742, 'eval_u_f1scores_emotions': 0.3452, 'eval_u_f1scores_triggers': 0.6031, 'eval_d_f1scores_emotions': 0.3912, 'eval_d_f1scores_triggers': 0.7891, 'eval_runtime': 688.0922, 'eval_samples_per_second': 4.995, 'eval_steps_per_second': 1.25, 'epoch': 1.0}\n",
      "{'loss': 1.194, 'learning_rate': 1.7827877610796515e-05, 'epoch': 1.07}\n",
      "{'loss': 1.201, 'learning_rate': 1.7541478823146328e-05, 'epoch': 1.14}\n",
      "{'loss': 1.1459, 'learning_rate': 1.7239961680637002e-05, 'epoch': 1.21}\n",
      "{'loss': 1.1182, 'learning_rate': 1.6923930632775517e-05, 'epoch': 1.28}\n",
      "{'loss': 1.0956, 'learning_rate': 1.6594019225003043e-05, 'epoch': 1.35}\n",
      "{'loss': 1.0822, 'learning_rate': 1.62508888286304e-05, 'epoch': 1.43}\n",
      "{'loss': 1.1032, 'learning_rate': 1.589522731499118e-05, 'epoch': 1.5}\n",
      "{'loss': 1.1011, 'learning_rate': 1.552774767647043e-05, 'epoch': 1.57}\n",
      "{'loss': 1.0756, 'learning_rate': 1.5149186597173348e-05, 'epoch': 1.64}\n",
      "{'loss': 1.0247, 'learning_rate': 1.4760302976099305e-05, 'epoch': 1.71}\n",
      "{'loss': 1.0519, 'learning_rate': 1.4361876405781835e-05, 'epoch': 1.78}\n",
      "{'loss': 1.063, 'learning_rate': 1.3954705609444403e-05, 'epoch': 1.85}\n",
      "{'loss': 1.0349, 'learning_rate': 1.3539606839805037e-05, 'epoch': 1.92}\n",
      "{'loss': 1.0345, 'learning_rate': 1.3117412242739655e-05, 'epoch': 2.0}\n"
     ]
    },
    {
     "data": {
      "application/vnd.jupyter.widget-view+json": {
       "model_id": "47159c503c2d469795b25e23c7311a36",
       "version_major": 2,
       "version_minor": 0
      },
      "text/plain": [
       "  0%|          | 0/860 [00:00<?, ?it/s]"
      ]
     },
     "metadata": {},
     "output_type": "display_data"
    },
    {
     "name": "stdout",
     "output_type": "stream",
     "text": [
      "{'eval_loss': 0.9898325523333407, 'eval_accuracy_emotions': 0.5703, 'eval_accuracy_triggers': 0.7992, 'eval_u_avg_f1': 0.6029, 'eval_u_f1scores_emotions': 0.5153, 'eval_u_f1scores_triggers': 0.6905, 'eval_d_f1scores_emotions': 0.5578, 'eval_d_f1scores_triggers': 0.7691, 'eval_runtime': 690.1991, 'eval_samples_per_second': 4.98, 'eval_steps_per_second': 1.246, 'epoch': 2.0}\n",
      "{'loss': 0.8988, 'learning_rate': 1.2688968189084494e-05, 'epoch': 2.07}\n",
      "{'loss': 0.9175, 'learning_rate': 1.225513357792187e-05, 'epoch': 2.14}\n",
      "{'loss': 0.9029, 'learning_rate': 1.1816778114750594e-05, 'epoch': 2.21}\n",
      "{'loss': 0.9076, 'learning_rate': 1.13747805679929e-05, 'epoch': 2.28}\n",
      "{'loss': 0.8742, 'learning_rate': 1.0930027007332924e-05, 'epoch': 2.35}\n",
      "{'loss': 0.8301, 'learning_rate': 1.0483409027418426e-05, 'epoch': 2.42}\n",
      "{'loss': 0.8369, 'learning_rate': 1.0035821960486643e-05, 'epoch': 2.49}\n",
      "{'loss': 0.796, 'learning_rate': 9.588163081497427e-06, 'epoch': 2.57}\n",
      "{'loss': 0.8533, 'learning_rate': 9.141329809371803e-06, 'epoch': 2.64}\n",
      "{'loss': 0.8143, 'learning_rate': 8.696217907941941e-06, 'epoch': 2.71}\n",
      "{'loss': 0.8265, 'learning_rate': 8.253719690219079e-06, 'epoch': 2.78}\n",
      "{'loss': 0.7861, 'learning_rate': 7.814722229579263e-06, 'epoch': 2.85}\n",
      "{'loss': 0.7712, 'learning_rate': 7.380105581452988e-06, 'epoch': 2.92}\n",
      "{'loss': 0.8023, 'learning_rate': 6.9507410190836174e-06, 'epoch': 2.99}\n"
     ]
    },
    {
     "data": {
      "application/vnd.jupyter.widget-view+json": {
       "model_id": "ad6c6da7276442348ae24e185bfa77b9",
       "version_major": 2,
       "version_minor": 0
      },
      "text/plain": [
       "  0%|          | 0/860 [00:00<?, ?it/s]"
      ]
     },
     "metadata": {},
     "output_type": "display_data"
    },
    {
     "name": "stdout",
     "output_type": "stream",
     "text": [
      "{'eval_loss': 0.8383831019836456, 'eval_accuracy_emotions': 0.6805, 'eval_accuracy_triggers': 0.7981, 'eval_u_avg_f1': 0.6634, 'eval_u_f1scores_emotions': 0.6314, 'eval_u_f1scores_triggers': 0.6955, 'eval_d_f1scores_emotions': 0.6662, 'eval_d_f1scores_triggers': 0.7552, 'eval_runtime': 688.1009, 'eval_samples_per_second': 4.995, 'eval_steps_per_second': 1.25, 'epoch': 3.0}\n",
      "{'loss': 0.7012, 'learning_rate': 6.527489286891458e-06, 'epoch': 3.06}\n",
      "{'loss': 0.6537, 'learning_rate': 6.111198874944846e-06, 'epoch': 3.14}\n",
      "{'loss': 0.6662, 'learning_rate': 5.702704317997491e-06, 'epoch': 3.21}\n",
      "{'loss': 0.6652, 'learning_rate': 5.302824522501931e-06, 'epoch': 3.28}\n",
      "{'loss': 0.6859, 'learning_rate': 4.912361124952949e-06, 'epoch': 3.35}\n",
      "{'loss': 0.6768, 'learning_rate': 4.532096884851978e-06, 'epoch': 3.42}\n",
      "{'loss': 0.6672, 'learning_rate': 4.162794115514078e-06, 'epoch': 3.49}\n",
      "{'loss': 0.6466, 'learning_rate': 3.805193155863247e-06, 'epoch': 3.56}\n",
      "{'loss': 0.6467, 'learning_rate': 3.460010886279681e-06, 'epoch': 3.63}\n",
      "{'loss': 0.6456, 'learning_rate': 3.1279392914742047e-06, 'epoch': 3.71}\n",
      "{'loss': 0.6511, 'learning_rate': 2.8096440732709085e-06, 'epoch': 3.78}\n",
      "{'loss': 0.6468, 'learning_rate': 2.5057633160789186e-06, 'epoch': 3.85}\n",
      "{'loss': 0.6811, 'learning_rate': 2.2169062077286072e-06, 'epoch': 3.92}\n",
      "{'loss': 0.6457, 'learning_rate': 1.943651818236616e-06, 'epoch': 3.99}\n"
     ]
    },
    {
     "data": {
      "application/vnd.jupyter.widget-view+json": {
       "model_id": "01bf0c472dde4028a45ce0979194731d",
       "version_major": 2,
       "version_minor": 0
      },
      "text/plain": [
       "  0%|          | 0/860 [00:00<?, ?it/s]"
      ]
     },
     "metadata": {},
     "output_type": "display_data"
    },
    {
     "name": "stdout",
     "output_type": "stream",
     "text": [
      "{'eval_loss': 0.7778449919411695, 'eval_accuracy_emotions': 0.7966, 'eval_accuracy_triggers': 0.8248, 'eval_u_avg_f1': 0.7354, 'eval_u_f1scores_emotions': 0.7767, 'eval_u_f1scores_triggers': 0.6941, 'eval_d_f1scores_emotions': 0.7866, 'eval_d_f1scores_triggers': 0.7868, 'eval_runtime': 688.1652, 'eval_samples_per_second': 4.994, 'eval_steps_per_second': 1.25, 'epoch': 4.0}\n",
      "{'loss': 0.5893, 'learning_rate': 1.6865479389478545e-06, 'epoch': 4.06}\n",
      "{'loss': 0.5765, 'learning_rate': 1.4461099843816684e-06, 'epoch': 4.13}\n",
      "{'loss': 0.6095, 'learning_rate': 1.2228199589835998e-06, 'epoch': 4.2}\n",
      "{'loss': 0.5745, 'learning_rate': 1.0171254908541373e-06, 'epoch': 4.28}\n",
      "{'loss': 0.5515, 'learning_rate': 8.294389343914899e-07, 'epoch': 4.35}\n",
      "{'loss': 0.5725, 'learning_rate': 6.601365436473439e-07, 'epoch': 4.42}\n",
      "{'loss': 0.5594, 'learning_rate': 5.095577180527378e-07, 'epoch': 4.49}\n",
      "{'loss': 0.5649, 'learning_rate': 3.780043220261764e-07, 'epoch': 4.56}\n",
      "{'loss': 0.5594, 'learning_rate': 2.6574007982793857e-07, 'epoch': 4.63}\n",
      "{'loss': 0.5758, 'learning_rate': 1.7299004687372666e-07, 'epoch': 4.7}\n",
      "{'loss': 0.5564, 'learning_rate': 9.994015856749528e-08, 'epoch': 4.77}\n",
      "{'loss': 0.5622, 'learning_rate': 4.673685755792523e-08, 'epoch': 4.85}\n",
      "{'loss': 0.6286, 'learning_rate': 1.3486800165773972e-08, 'epoch': 4.92}\n",
      "{'loss': 0.5845, 'learning_rate': 2.5664257062185673e-10, 'epoch': 4.99}\n"
     ]
    },
    {
     "data": {
      "application/vnd.jupyter.widget-view+json": {
       "model_id": "b1af47fbb7f04432bc6faeecb73747db",
       "version_major": 2,
       "version_minor": 0
      },
      "text/plain": [
       "  0%|          | 0/860 [00:00<?, ?it/s]"
      ]
     },
     "metadata": {},
     "output_type": "display_data"
    },
    {
     "name": "stdout",
     "output_type": "stream",
     "text": [
      "{'eval_loss': 0.7620718345346947, 'eval_accuracy_emotions': 0.8004, 'eval_accuracy_triggers': 0.8208, 'eval_u_avg_f1': 0.7363, 'eval_u_f1scores_emotions': 0.7827, 'eval_u_f1scores_triggers': 0.6899, 'eval_d_f1scores_emotions': 0.7851, 'eval_d_f1scores_triggers': 0.7805, 'eval_runtime': 689.194, 'eval_samples_per_second': 4.987, 'eval_steps_per_second': 1.248, 'epoch': 5.0}\n",
      "{'train_runtime': 11083.7652, 'train_samples_per_second': 12.659, 'train_steps_per_second': 3.165, 'train_loss': 0.9017104922026022, 'epoch': 5.0}\n"
     ]
    }
   ],
   "source": [
    "# Training model with seed 49\n",
    "train_extr_model(49)"
   ]
  },
  {
   "cell_type": "code",
   "execution_count": 12,
   "metadata": {},
   "outputs": [
    {
     "name": "stderr",
     "output_type": "stream",
     "text": [
      "c:\\Users\\marco\\anaconda3\\lib\\site-packages\\datasets\\table.py:1395: FutureWarning: promote has been superseded by mode='default'.\n",
      "  block_group = [InMemoryTable(cls._concat_blocks(list(block_group), axis=axis))]\n",
      "c:\\Users\\marco\\anaconda3\\lib\\site-packages\\datasets\\table.py:1421: FutureWarning: promote has been superseded by mode='default'.\n",
      "  table = cls._concat_blocks(blocks, axis=0)\n"
     ]
    },
    {
     "name": "stdout",
     "output_type": "stream",
     "text": [
      "Training EXTRACTION MODEL with seed 666:\n"
     ]
    },
    {
     "data": {
      "application/vnd.jupyter.widget-view+json": {
       "model_id": "48f2f99a57384511a275d52ebaa55d81",
       "version_major": 2,
       "version_minor": 0
      },
      "text/plain": [
       "  0%|          | 0/35080 [00:00<?, ?it/s]"
      ]
     },
     "metadata": {},
     "output_type": "display_data"
    },
    {
     "name": "stderr",
     "output_type": "stream",
     "text": [
      "Could not estimate the number of tokens of the input, floating-point operations will not be computed\n"
     ]
    },
    {
     "name": "stdout",
     "output_type": "stream",
     "text": [
      "{'loss': 1.5455, 'grad_norm': 17.883642196655273, 'learning_rate': 1.9989976531650042e-05, 'epoch': 0.07}\n",
      "{'loss': 1.4613, 'grad_norm': 6.613398551940918, 'learning_rate': 1.9959926220583713e-05, 'epoch': 0.14}\n",
      "{'loss': 1.3438, 'grad_norm': 3.1198196411132812, 'learning_rate': 1.9909909308469398e-05, 'epoch': 0.21}\n",
      "{'loss': 1.3474, 'grad_norm': 15.932950973510742, 'learning_rate': 1.9840026063894193e-05, 'epoch': 0.29}\n",
      "{'loss': 1.3518, 'grad_norm': 4.3627848625183105, 'learning_rate': 1.9750416581356147e-05, 'epoch': 0.36}\n",
      "{'loss': 1.3196, 'grad_norm': 1.7432825565338135, 'learning_rate': 1.9641260500417672e-05, 'epoch': 0.43}\n",
      "{'loss': 1.3413, 'grad_norm': 7.337068557739258, 'learning_rate': 1.9512776645583266e-05, 'epoch': 0.5}\n",
      "{'loss': 1.2773, 'grad_norm': 26.30140495300293, 'learning_rate': 1.9365222587623407e-05, 'epoch': 0.57}\n",
      "{'loss': 1.2863, 'grad_norm': 5.915427207946777, 'learning_rate': 1.9198894127224075e-05, 'epoch': 0.64}\n",
      "{'loss': 1.286, 'grad_norm': 7.643270969390869, 'learning_rate': 1.9014124701996973e-05, 'epoch': 0.71}\n",
      "{'loss': 1.2441, 'grad_norm': 6.1755242347717285, 'learning_rate': 1.881128471803926e-05, 'epoch': 0.78}\n",
      "{'loss': 1.3107, 'grad_norm': 3.9276349544525146, 'learning_rate': 1.859078080738279e-05, 'epoch': 0.86}\n",
      "{'loss': 1.1763, 'grad_norm': 7.577219009399414, 'learning_rate': 1.835305501282148e-05, 'epoch': 0.93}\n",
      "{'loss': 1.2331, 'grad_norm': 10.167333602905273, 'learning_rate': 1.809858390175087e-05, 'epoch': 1.0}\n"
     ]
    },
    {
     "data": {
      "application/vnd.jupyter.widget-view+json": {
       "model_id": "155552115abb4a5ca1683906d235ebab",
       "version_major": 2,
       "version_minor": 0
      },
      "text/plain": [
       "  0%|          | 0/860 [00:00<?, ?it/s]"
      ]
     },
     "metadata": {},
     "output_type": "display_data"
    },
    {
     "name": "stdout",
     "output_type": "stream",
     "text": [
      "{'eval_loss': 1.1965432638697076, 'eval_accuracy_emotions': 0.533, 'eval_accuracy_triggers': 0.8065, 'eval_u_avg_f1': 0.5392, 'eval_u_f1scores_emotions': 0.4077, 'eval_u_f1scores_triggers': 0.6706, 'eval_d_f1scores_emotions': 0.5346, 'eval_d_f1scores_triggers': 0.7693, 'eval_runtime': 687.72, 'eval_samples_per_second': 4.998, 'eval_steps_per_second': 1.251, 'epoch': 1.0}\n",
      "{'loss': 1.1747, 'grad_norm': 6.383932590484619, 'learning_rate': 1.7827877610796515e-05, 'epoch': 1.07}\n",
      "{'loss': 1.1745, 'grad_norm': 9.974156379699707, 'learning_rate': 1.7541478823146328e-05, 'epoch': 1.14}\n",
      "{'loss': 1.119, 'grad_norm': 10.338711738586426, 'learning_rate': 1.7239961680637002e-05, 'epoch': 1.21}\n",
      "{'loss': 1.1223, 'grad_norm': 8.359457969665527, 'learning_rate': 1.6923930632775517e-05, 'epoch': 1.28}\n",
      "{'loss': 1.0602, 'grad_norm': 4.319998741149902, 'learning_rate': 1.6594019225003043e-05, 'epoch': 1.35}\n",
      "{'loss': 1.0866, 'grad_norm': 5.423220634460449, 'learning_rate': 1.62508888286304e-05, 'epoch': 1.43}\n",
      "{'loss': 1.1437, 'grad_norm': 4.680651664733887, 'learning_rate': 1.589522731499118e-05, 'epoch': 1.5}\n",
      "{'loss': 1.0334, 'grad_norm': 24.961084365844727, 'learning_rate': 1.552774767647043e-05, 'epoch': 1.57}\n",
      "{'loss': 1.0829, 'grad_norm': 2.3156566619873047, 'learning_rate': 1.5149186597173348e-05, 'epoch': 1.64}\n",
      "{'loss': 1.0065, 'grad_norm': 17.852920532226562, 'learning_rate': 1.4760302976099305e-05, 'epoch': 1.71}\n",
      "{'loss': 0.9965, 'grad_norm': 9.817002296447754, 'learning_rate': 1.4361876405781835e-05, 'epoch': 1.78}\n",
      "{'loss': 1.004, 'grad_norm': 4.904285907745361, 'learning_rate': 1.3954705609444403e-05, 'epoch': 1.85}\n",
      "{'loss': 1.0039, 'grad_norm': 15.350953102111816, 'learning_rate': 1.3539606839805037e-05, 'epoch': 1.92}\n",
      "{'loss': 0.972, 'grad_norm': 20.10147476196289, 'learning_rate': 1.3117412242739655e-05, 'epoch': 2.0}\n"
     ]
    },
    {
     "data": {
      "application/vnd.jupyter.widget-view+json": {
       "model_id": "33143519d35041e89559395c79020858",
       "version_major": 2,
       "version_minor": 0
      },
      "text/plain": [
       "  0%|          | 0/860 [00:00<?, ?it/s]"
      ]
     },
     "metadata": {},
     "output_type": "display_data"
    },
    {
     "name": "stdout",
     "output_type": "stream",
     "text": [
      "{'eval_loss': 1.021186722708281, 'eval_accuracy_emotions': 0.6078, 'eval_accuracy_triggers': 0.8205, 'eval_u_avg_f1': 0.6088, 'eval_u_f1scores_emotions': 0.5456, 'eval_u_f1scores_triggers': 0.6721, 'eval_d_f1scores_emotions': 0.6031, 'eval_d_f1scores_triggers': 0.7813, 'eval_runtime': 688.1476, 'eval_samples_per_second': 4.995, 'eval_steps_per_second': 1.25, 'epoch': 2.0}\n",
      "{'loss': 0.8766, 'grad_norm': 5.208678722381592, 'learning_rate': 1.2688968189084494e-05, 'epoch': 2.07}\n",
      "{'loss': 0.8927, 'grad_norm': 4.651729583740234, 'learning_rate': 1.225513357792187e-05, 'epoch': 2.14}\n",
      "{'loss': 0.8764, 'grad_norm': 28.970102310180664, 'learning_rate': 1.1816778114750594e-05, 'epoch': 2.21}\n",
      "{'loss': 0.8502, 'grad_norm': 6.044000625610352, 'learning_rate': 1.13747805679929e-05, 'epoch': 2.28}\n",
      "{'loss': 0.875, 'grad_norm': 12.26456069946289, 'learning_rate': 1.0930027007332924e-05, 'epoch': 2.35}\n",
      "{'loss': 0.8709, 'grad_norm': 48.30747604370117, 'learning_rate': 1.0483409027418426e-05, 'epoch': 2.42}\n",
      "{'loss': 0.8064, 'grad_norm': 22.16484832763672, 'learning_rate': 1.0035821960486643e-05, 'epoch': 2.49}\n",
      "{'loss': 0.8352, 'grad_norm': 22.17677116394043, 'learning_rate': 9.588163081497427e-06, 'epoch': 2.57}\n",
      "{'loss': 0.8203, 'grad_norm': 5.44455623626709, 'learning_rate': 9.141329809371803e-06, 'epoch': 2.64}\n",
      "{'loss': 0.8143, 'grad_norm': 35.570594787597656, 'learning_rate': 8.696217907941941e-06, 'epoch': 2.71}\n",
      "{'loss': 0.8173, 'grad_norm': 18.7852783203125, 'learning_rate': 8.253719690219079e-06, 'epoch': 2.78}\n",
      "{'loss': 0.7459, 'grad_norm': 27.34844207763672, 'learning_rate': 7.814722229579263e-06, 'epoch': 2.85}\n",
      "{'loss': 0.8063, 'grad_norm': 5.922713279724121, 'learning_rate': 7.380105581452988e-06, 'epoch': 2.92}\n",
      "{'loss': 0.7804, 'grad_norm': 15.070128440856934, 'learning_rate': 6.9507410190836174e-06, 'epoch': 2.99}\n"
     ]
    },
    {
     "data": {
      "application/vnd.jupyter.widget-view+json": {
       "model_id": "35891036bcb041e09e2fba1244fbf8a1",
       "version_major": 2,
       "version_minor": 0
      },
      "text/plain": [
       "  0%|          | 0/860 [00:00<?, ?it/s]"
      ]
     },
     "metadata": {},
     "output_type": "display_data"
    },
    {
     "name": "stdout",
     "output_type": "stream",
     "text": [
      "{'eval_loss': 0.8041666043396103, 'eval_accuracy_emotions': 0.7349, 'eval_accuracy_triggers': 0.8187, 'eval_u_avg_f1': 0.6946, 'eval_u_f1scores_emotions': 0.6871, 'eval_u_f1scores_triggers': 0.7022, 'eval_d_f1scores_emotions': 0.7177, 'eval_d_f1scores_triggers': 0.7828, 'eval_runtime': 688.3264, 'eval_samples_per_second': 4.993, 'eval_steps_per_second': 1.249, 'epoch': 3.0}\n",
      "{'loss': 0.6828, 'grad_norm': 18.10382652282715, 'learning_rate': 6.527489286891458e-06, 'epoch': 3.06}\n",
      "{'loss': 0.7285, 'grad_norm': 9.364639282226562, 'learning_rate': 6.111198874944846e-06, 'epoch': 3.14}\n",
      "{'loss': 0.6343, 'grad_norm': 28.35895538330078, 'learning_rate': 5.702704317997491e-06, 'epoch': 3.21}\n",
      "{'loss': 0.6462, 'grad_norm': 8.710488319396973, 'learning_rate': 5.302824522501931e-06, 'epoch': 3.28}\n",
      "{'loss': 0.6763, 'grad_norm': 17.407514572143555, 'learning_rate': 4.912361124952949e-06, 'epoch': 3.35}\n",
      "{'loss': 0.6236, 'grad_norm': 37.24601745605469, 'learning_rate': 4.532096884851978e-06, 'epoch': 3.42}\n",
      "{'loss': 0.6455, 'grad_norm': 73.12812805175781, 'learning_rate': 4.162794115514078e-06, 'epoch': 3.49}\n",
      "{'loss': 0.6525, 'grad_norm': 46.18777847290039, 'learning_rate': 3.805193155863247e-06, 'epoch': 3.56}\n",
      "{'loss': 0.637, 'grad_norm': 95.77540588378906, 'learning_rate': 3.460010886279681e-06, 'epoch': 3.63}\n",
      "{'loss': 0.6229, 'grad_norm': 31.63456916809082, 'learning_rate': 3.1279392914742047e-06, 'epoch': 3.71}\n",
      "{'loss': 0.6267, 'grad_norm': 11.022844314575195, 'learning_rate': 2.8096440732709085e-06, 'epoch': 3.78}\n",
      "{'loss': 0.6249, 'grad_norm': 6.901886463165283, 'learning_rate': 2.5057633160789186e-06, 'epoch': 3.85}\n",
      "{'loss': 0.6079, 'grad_norm': 23.853445053100586, 'learning_rate': 2.2169062077286072e-06, 'epoch': 3.92}\n",
      "{'loss': 0.5806, 'grad_norm': 9.271303176879883, 'learning_rate': 1.943651818236616e-06, 'epoch': 3.99}\n"
     ]
    },
    {
     "data": {
      "application/vnd.jupyter.widget-view+json": {
       "model_id": "804a340826874881948771fbcd100a6a",
       "version_major": 2,
       "version_minor": 0
      },
      "text/plain": [
       "  0%|          | 0/860 [00:00<?, ?it/s]"
      ]
     },
     "metadata": {},
     "output_type": "display_data"
    },
    {
     "name": "stdout",
     "output_type": "stream",
     "text": [
      "{'eval_loss': 0.7298704705726259, 'eval_accuracy_emotions': 0.8086, 'eval_accuracy_triggers': 0.8167, 'eval_u_avg_f1': 0.7381, 'eval_u_f1scores_emotions': 0.7775, 'eval_u_f1scores_triggers': 0.6987, 'eval_d_f1scores_emotions': 0.7987, 'eval_d_f1scores_triggers': 0.7743, 'eval_runtime': 688.6431, 'eval_samples_per_second': 4.991, 'eval_steps_per_second': 1.249, 'epoch': 4.0}\n",
      "{'loss': 0.5512, 'grad_norm': 8.321831703186035, 'learning_rate': 1.6865479389478545e-06, 'epoch': 4.06}\n",
      "{'loss': 0.565, 'grad_norm': 35.19001007080078, 'learning_rate': 1.4461099843816684e-06, 'epoch': 4.13}\n",
      "{'loss': 0.5447, 'grad_norm': 8.165038108825684, 'learning_rate': 1.2228199589835998e-06, 'epoch': 4.2}\n",
      "{'loss': 0.5972, 'grad_norm': 16.562562942504883, 'learning_rate': 1.0171254908541373e-06, 'epoch': 4.28}\n",
      "{'loss': 0.5549, 'grad_norm': 11.985882759094238, 'learning_rate': 8.294389343914899e-07, 'epoch': 4.35}\n",
      "{'loss': 0.5572, 'grad_norm': 10.403803825378418, 'learning_rate': 6.601365436473439e-07, 'epoch': 4.42}\n",
      "{'loss': 0.5587, 'grad_norm': 13.504671096801758, 'learning_rate': 5.095577180527378e-07, 'epoch': 4.49}\n",
      "{'loss': 0.5302, 'grad_norm': 50.72241973876953, 'learning_rate': 3.780043220261764e-07, 'epoch': 4.56}\n",
      "{'loss': 0.5845, 'grad_norm': 1.0793317556381226, 'learning_rate': 2.6574007982793857e-07, 'epoch': 4.63}\n",
      "{'loss': 0.5301, 'grad_norm': 25.253650665283203, 'learning_rate': 1.7299004687372666e-07, 'epoch': 4.7}\n",
      "{'loss': 0.5786, 'grad_norm': 16.837251663208008, 'learning_rate': 9.994015856749528e-08, 'epoch': 4.77}\n",
      "{'loss': 0.5326, 'grad_norm': 7.4649152755737305, 'learning_rate': 4.673685755792523e-08, 'epoch': 4.85}\n",
      "{'loss': 0.5505, 'grad_norm': 28.764806747436523, 'learning_rate': 1.3486800165773972e-08, 'epoch': 4.92}\n",
      "{'loss': 0.5414, 'grad_norm': 14.06982135772705, 'learning_rate': 2.5664257062185673e-10, 'epoch': 4.99}\n"
     ]
    },
    {
     "data": {
      "application/vnd.jupyter.widget-view+json": {
       "model_id": "19fe9d48aad34bf7841915923b855eb5",
       "version_major": 2,
       "version_minor": 0
      },
      "text/plain": [
       "  0%|          | 0/860 [00:00<?, ?it/s]"
      ]
     },
     "metadata": {},
     "output_type": "display_data"
    },
    {
     "name": "stdout",
     "output_type": "stream",
     "text": [
      "{'eval_loss': 0.7408899538003193, 'eval_accuracy_emotions': 0.8179, 'eval_accuracy_triggers': 0.826, 'eval_u_avg_f1': 0.7428, 'eval_u_f1scores_emotions': 0.7958, 'eval_u_f1scores_triggers': 0.6899, 'eval_d_f1scores_emotions': 0.8085, 'eval_d_f1scores_triggers': 0.7841, 'eval_runtime': 688.0756, 'eval_samples_per_second': 4.995, 'eval_steps_per_second': 1.25, 'epoch': 5.0}\n",
      "{'train_runtime': 10956.4467, 'train_samples_per_second': 12.806, 'train_steps_per_second': 3.202, 'train_loss': 0.8841403148872958, 'epoch': 5.0}\n"
     ]
    }
   ],
   "source": [
    "# Training model with seed 666\n",
    "train_extr_model(666)"
   ]
  },
  {
   "cell_type": "code",
   "execution_count": 13,
   "metadata": {},
   "outputs": [
    {
     "name": "stderr",
     "output_type": "stream",
     "text": [
      "c:\\Users\\marco\\anaconda3\\lib\\site-packages\\datasets\\table.py:1395: FutureWarning: promote has been superseded by mode='default'.\n",
      "  block_group = [InMemoryTable(cls._concat_blocks(list(block_group), axis=axis))]\n",
      "c:\\Users\\marco\\anaconda3\\lib\\site-packages\\datasets\\table.py:1421: FutureWarning: promote has been superseded by mode='default'.\n",
      "  table = cls._concat_blocks(blocks, axis=0)\n"
     ]
    },
    {
     "name": "stdout",
     "output_type": "stream",
     "text": [
      "Training EXTRACTION MODEL with seed 51:\n"
     ]
    },
    {
     "data": {
      "application/vnd.jupyter.widget-view+json": {
       "model_id": "db2d42a4d7764f3bb8295b1fd288c3ca",
       "version_major": 2,
       "version_minor": 0
      },
      "text/plain": [
       "  0%|          | 0/35080 [00:00<?, ?it/s]"
      ]
     },
     "metadata": {},
     "output_type": "display_data"
    },
    {
     "name": "stderr",
     "output_type": "stream",
     "text": [
      "Could not estimate the number of tokens of the input, floating-point operations will not be computed\n"
     ]
    },
    {
     "name": "stdout",
     "output_type": "stream",
     "text": [
      "{'loss': 1.5555, 'grad_norm': 18.832500457763672, 'learning_rate': 1.9989976531650042e-05, 'epoch': 0.07}\n",
      "{'loss': 1.4938, 'grad_norm': 7.642202854156494, 'learning_rate': 1.9959926220583713e-05, 'epoch': 0.14}\n",
      "{'loss': 1.3579, 'grad_norm': 3.605273962020874, 'learning_rate': 1.9909909308469398e-05, 'epoch': 0.21}\n",
      "{'loss': 1.3526, 'grad_norm': 18.823993682861328, 'learning_rate': 1.9840026063894193e-05, 'epoch': 0.29}\n",
      "{'loss': 1.3796, 'grad_norm': 3.944539785385132, 'learning_rate': 1.9750416581356147e-05, 'epoch': 0.36}\n",
      "{'loss': 1.346, 'grad_norm': 2.5796878337860107, 'learning_rate': 1.9641260500417672e-05, 'epoch': 0.43}\n",
      "{'loss': 1.3666, 'grad_norm': 5.86821985244751, 'learning_rate': 1.9512776645583266e-05, 'epoch': 0.5}\n",
      "{'loss': 1.2946, 'grad_norm': 29.448530197143555, 'learning_rate': 1.9365222587623407e-05, 'epoch': 0.57}\n",
      "{'loss': 1.3371, 'grad_norm': 4.3936614990234375, 'learning_rate': 1.9198894127224075e-05, 'epoch': 0.64}\n",
      "{'loss': 1.3334, 'grad_norm': 5.497613906860352, 'learning_rate': 1.9014124701996973e-05, 'epoch': 0.71}\n",
      "{'loss': 1.2816, 'grad_norm': 5.389469623565674, 'learning_rate': 1.881128471803926e-05, 'epoch': 0.78}\n",
      "{'loss': 1.356, 'grad_norm': 3.7482101917266846, 'learning_rate': 1.859078080738279e-05, 'epoch': 0.86}\n",
      "{'loss': 1.2351, 'grad_norm': 7.134990215301514, 'learning_rate': 1.835305501282148e-05, 'epoch': 0.93}\n",
      "{'loss': 1.2787, 'grad_norm': 16.2694091796875, 'learning_rate': 1.809858390175087e-05, 'epoch': 1.0}\n"
     ]
    },
    {
     "data": {
      "application/vnd.jupyter.widget-view+json": {
       "model_id": "ba7a8cbe06f94eee8cc760624509c30a",
       "version_major": 2,
       "version_minor": 0
      },
      "text/plain": [
       "  0%|          | 0/860 [00:00<?, ?it/s]"
      ]
     },
     "metadata": {},
     "output_type": "display_data"
    },
    {
     "name": "stdout",
     "output_type": "stream",
     "text": [
      "{'eval_loss': 1.264062178365112, 'eval_accuracy_emotions': 0.485, 'eval_accuracy_triggers': 0.8074, 'eval_u_avg_f1': 0.4979, 'eval_u_f1scores_emotions': 0.3171, 'eval_u_f1scores_triggers': 0.6787, 'eval_d_f1scores_emotions': 0.5005, 'eval_d_f1scores_triggers': 0.7676, 'eval_runtime': 689.5299, 'eval_samples_per_second': 4.985, 'eval_steps_per_second': 1.247, 'epoch': 1.0}\n",
      "{'loss': 1.2804, 'grad_norm': 4.7781147956848145, 'learning_rate': 1.7827877610796515e-05, 'epoch': 1.07}\n",
      "{'loss': 1.2683, 'grad_norm': 8.709813117980957, 'learning_rate': 1.7541478823146328e-05, 'epoch': 1.14}\n",
      "{'loss': 1.2159, 'grad_norm': 12.892685890197754, 'learning_rate': 1.7239961680637002e-05, 'epoch': 1.21}\n",
      "{'loss': 1.2208, 'grad_norm': 11.913092613220215, 'learning_rate': 1.6923930632775517e-05, 'epoch': 1.28}\n",
      "{'loss': 1.1638, 'grad_norm': 9.596714973449707, 'learning_rate': 1.6594019225003043e-05, 'epoch': 1.35}\n",
      "{'loss': 1.1809, 'grad_norm': 6.788118839263916, 'learning_rate': 1.62508888286304e-05, 'epoch': 1.43}\n",
      "{'loss': 1.2316, 'grad_norm': 6.213817596435547, 'learning_rate': 1.589522731499118e-05, 'epoch': 1.5}\n",
      "{'loss': 1.1251, 'grad_norm': 21.870277404785156, 'learning_rate': 1.552774767647043e-05, 'epoch': 1.57}\n",
      "{'loss': 1.1828, 'grad_norm': 1.9042809009552002, 'learning_rate': 1.5149186597173348e-05, 'epoch': 1.64}\n",
      "{'loss': 1.0991, 'grad_norm': 16.265907287597656, 'learning_rate': 1.4760302976099305e-05, 'epoch': 1.71}\n",
      "{'loss': 1.1161, 'grad_norm': 6.778221607208252, 'learning_rate': 1.4361876405781835e-05, 'epoch': 1.78}\n",
      "{'loss': 1.119, 'grad_norm': 5.9569878578186035, 'learning_rate': 1.3954705609444403e-05, 'epoch': 1.85}\n",
      "{'loss': 1.1232, 'grad_norm': 10.556565284729004, 'learning_rate': 1.3539606839805037e-05, 'epoch': 1.92}\n",
      "{'loss': 1.074, 'grad_norm': 24.871488571166992, 'learning_rate': 1.3117412242739655e-05, 'epoch': 2.0}\n"
     ]
    },
    {
     "data": {
      "application/vnd.jupyter.widget-view+json": {
       "model_id": "1f2734176b5d4f199b8a82ee6eb5b183",
       "version_major": 2,
       "version_minor": 0
      },
      "text/plain": [
       "  0%|          | 0/860 [00:00<?, ?it/s]"
      ]
     },
     "metadata": {},
     "output_type": "display_data"
    },
    {
     "name": "stdout",
     "output_type": "stream",
     "text": [
      "{'eval_loss': 1.1089428116450675, 'eval_accuracy_emotions': 0.5386, 'eval_accuracy_triggers': 0.8179, 'eval_u_avg_f1': 0.5686, 'eval_u_f1scores_emotions': 0.4705, 'eval_u_f1scores_triggers': 0.6666, 'eval_d_f1scores_emotions': 0.5482, 'eval_d_f1scores_triggers': 0.781, 'eval_runtime': 688.0653, 'eval_samples_per_second': 4.995, 'eval_steps_per_second': 1.25, 'epoch': 2.0}\n",
      "{'loss': 0.9922, 'grad_norm': 13.011868476867676, 'learning_rate': 1.2688968189084494e-05, 'epoch': 2.07}\n",
      "{'loss': 0.9976, 'grad_norm': 4.57537841796875, 'learning_rate': 1.225513357792187e-05, 'epoch': 2.14}\n",
      "{'loss': 0.9775, 'grad_norm': 47.5555534362793, 'learning_rate': 1.1816778114750594e-05, 'epoch': 2.21}\n",
      "{'loss': 0.9727, 'grad_norm': 9.01534652709961, 'learning_rate': 1.13747805679929e-05, 'epoch': 2.28}\n",
      "{'loss': 1.0023, 'grad_norm': 23.69876480102539, 'learning_rate': 1.0930027007332924e-05, 'epoch': 2.35}\n",
      "{'loss': 0.9738, 'grad_norm': 45.41794204711914, 'learning_rate': 1.0483409027418426e-05, 'epoch': 2.42}\n",
      "{'loss': 0.9099, 'grad_norm': 8.818656921386719, 'learning_rate': 1.0035821960486643e-05, 'epoch': 2.49}\n",
      "{'loss': 0.9479, 'grad_norm': 35.38209533691406, 'learning_rate': 9.588163081497427e-06, 'epoch': 2.57}\n",
      "{'loss': 0.9179, 'grad_norm': 5.142099857330322, 'learning_rate': 9.141329809371803e-06, 'epoch': 2.64}\n",
      "{'loss': 0.9118, 'grad_norm': 45.095306396484375, 'learning_rate': 8.696217907941941e-06, 'epoch': 2.71}\n",
      "{'loss': 0.9089, 'grad_norm': 16.880874633789062, 'learning_rate': 8.253719690219079e-06, 'epoch': 2.78}\n",
      "{'loss': 0.8718, 'grad_norm': 24.668954849243164, 'learning_rate': 7.814722229579263e-06, 'epoch': 2.85}\n",
      "{'loss': 0.9306, 'grad_norm': 6.898287773132324, 'learning_rate': 7.380105581452988e-06, 'epoch': 2.92}\n",
      "{'loss': 0.895, 'grad_norm': 22.644229888916016, 'learning_rate': 6.9507410190836174e-06, 'epoch': 2.99}\n"
     ]
    },
    {
     "data": {
      "application/vnd.jupyter.widget-view+json": {
       "model_id": "6ff996682a68461ab5e539980db7c240",
       "version_major": 2,
       "version_minor": 0
      },
      "text/plain": [
       "  0%|          | 0/860 [00:00<?, ?it/s]"
      ]
     },
     "metadata": {},
     "output_type": "display_data"
    },
    {
     "name": "stdout",
     "output_type": "stream",
     "text": [
      "{'eval_loss': 0.9089449520619204, 'eval_accuracy_emotions': 0.6791, 'eval_accuracy_triggers': 0.8144, 'eval_u_avg_f1': 0.6641, 'eval_u_f1scores_emotions': 0.6276, 'eval_u_f1scores_triggers': 0.7006, 'eval_d_f1scores_emotions': 0.6729, 'eval_d_f1scores_triggers': 0.7778, 'eval_runtime': 688.1643, 'eval_samples_per_second': 4.994, 'eval_steps_per_second': 1.25, 'epoch': 3.0}\n",
      "{'loss': 0.7764, 'grad_norm': 13.635966300964355, 'learning_rate': 6.527489286891458e-06, 'epoch': 3.06}\n",
      "{'loss': 0.8378, 'grad_norm': 9.083273887634277, 'learning_rate': 6.111198874944846e-06, 'epoch': 3.14}\n",
      "{'loss': 0.7524, 'grad_norm': 31.2106876373291, 'learning_rate': 5.702704317997491e-06, 'epoch': 3.21}\n",
      "{'loss': 0.7624, 'grad_norm': 14.432787895202637, 'learning_rate': 5.302824522501931e-06, 'epoch': 3.28}\n",
      "{'loss': 0.7926, 'grad_norm': 97.30465698242188, 'learning_rate': 4.912361124952949e-06, 'epoch': 3.35}\n",
      "{'loss': 0.7403, 'grad_norm': 43.10676574707031, 'learning_rate': 4.532096884851978e-06, 'epoch': 3.42}\n",
      "{'loss': 0.7431, 'grad_norm': 55.60447692871094, 'learning_rate': 4.162794115514078e-06, 'epoch': 3.49}\n",
      "{'loss': 0.7584, 'grad_norm': 35.77888870239258, 'learning_rate': 3.805193155863247e-06, 'epoch': 3.56}\n",
      "{'loss': 0.7286, 'grad_norm': 84.46614074707031, 'learning_rate': 3.460010886279681e-06, 'epoch': 3.63}\n",
      "{'loss': 0.7184, 'grad_norm': 12.47534465789795, 'learning_rate': 3.1279392914742047e-06, 'epoch': 3.71}\n",
      "{'loss': 0.7569, 'grad_norm': 3.659508466720581, 'learning_rate': 2.8096440732709085e-06, 'epoch': 3.78}\n",
      "{'loss': 0.741, 'grad_norm': 6.727537155151367, 'learning_rate': 2.5057633160789186e-06, 'epoch': 3.85}\n",
      "{'loss': 0.6888, 'grad_norm': 12.902487754821777, 'learning_rate': 2.2169062077286072e-06, 'epoch': 3.92}\n",
      "{'loss': 0.6635, 'grad_norm': 8.895620346069336, 'learning_rate': 1.943651818236616e-06, 'epoch': 3.99}\n"
     ]
    },
    {
     "data": {
      "application/vnd.jupyter.widget-view+json": {
       "model_id": "974845dc8b1a4421945c50098e2dcc02",
       "version_major": 2,
       "version_minor": 0
      },
      "text/plain": [
       "  0%|          | 0/860 [00:00<?, ?it/s]"
      ]
     },
     "metadata": {},
     "output_type": "display_data"
    },
    {
     "name": "stdout",
     "output_type": "stream",
     "text": [
      "{'eval_loss': 0.8097074884282444, 'eval_accuracy_emotions': 0.7425, 'eval_accuracy_triggers': 0.8164, 'eval_u_avg_f1': 0.7044, 'eval_u_f1scores_emotions': 0.7024, 'eval_u_f1scores_triggers': 0.7064, 'eval_d_f1scores_emotions': 0.7451, 'eval_d_f1scores_triggers': 0.7749, 'eval_runtime': 688.7865, 'eval_samples_per_second': 4.99, 'eval_steps_per_second': 1.249, 'epoch': 4.0}\n",
      "{'loss': 0.6395, 'grad_norm': 9.754467010498047, 'learning_rate': 1.6865479389478545e-06, 'epoch': 4.06}\n",
      "{'loss': 0.6727, 'grad_norm': 106.34945678710938, 'learning_rate': 1.4461099843816684e-06, 'epoch': 4.13}\n",
      "{'loss': 0.6378, 'grad_norm': 26.245515823364258, 'learning_rate': 1.2228199589835998e-06, 'epoch': 4.2}\n",
      "{'loss': 0.6795, 'grad_norm': 19.640962600708008, 'learning_rate': 1.0171254908541373e-06, 'epoch': 4.28}\n",
      "{'loss': 0.6551, 'grad_norm': 8.009134292602539, 'learning_rate': 8.294389343914899e-07, 'epoch': 4.35}\n",
      "{'loss': 0.6645, 'grad_norm': 11.364273071289062, 'learning_rate': 6.601365436473439e-07, 'epoch': 4.42}\n",
      "{'loss': 0.658, 'grad_norm': 19.152572631835938, 'learning_rate': 5.095577180527378e-07, 'epoch': 4.49}\n",
      "{'loss': 0.6383, 'grad_norm': 33.826744079589844, 'learning_rate': 3.780043220261764e-07, 'epoch': 4.56}\n",
      "{'loss': 0.6896, 'grad_norm': 1.282148838043213, 'learning_rate': 2.6574007982793857e-07, 'epoch': 4.63}\n",
      "{'loss': 0.6431, 'grad_norm': 8.405571937561035, 'learning_rate': 1.7299004687372666e-07, 'epoch': 4.7}\n",
      "{'loss': 0.6742, 'grad_norm': 12.054601669311523, 'learning_rate': 9.994015856749528e-08, 'epoch': 4.77}\n",
      "{'loss': 0.6098, 'grad_norm': 18.376266479492188, 'learning_rate': 4.673685755792523e-08, 'epoch': 4.85}\n",
      "{'loss': 0.6291, 'grad_norm': 30.414405822753906, 'learning_rate': 1.3486800165773972e-08, 'epoch': 4.92}\n",
      "{'loss': 0.6183, 'grad_norm': 15.859907150268555, 'learning_rate': 2.5664257062185673e-10, 'epoch': 4.99}\n"
     ]
    },
    {
     "data": {
      "application/vnd.jupyter.widget-view+json": {
       "model_id": "d8f5cb624b8447b6a48f839e4c4071ed",
       "version_major": 2,
       "version_minor": 0
      },
      "text/plain": [
       "  0%|          | 0/860 [00:00<?, ?it/s]"
      ]
     },
     "metadata": {},
     "output_type": "display_data"
    },
    {
     "name": "stdout",
     "output_type": "stream",
     "text": [
      "{'eval_loss': 0.8072840056462811, 'eval_accuracy_emotions': 0.7664, 'eval_accuracy_triggers': 0.8184, 'eval_u_avg_f1': 0.715, 'eval_u_f1scores_emotions': 0.7386, 'eval_u_f1scores_triggers': 0.6915, 'eval_d_f1scores_emotions': 0.7632, 'eval_d_f1scores_triggers': 0.7775, 'eval_runtime': 688.0235, 'eval_samples_per_second': 4.995, 'eval_steps_per_second': 1.25, 'epoch': 5.0}\n",
      "{'train_runtime': 11150.5212, 'train_samples_per_second': 12.583, 'train_steps_per_second': 3.146, 'train_loss': 0.9727949126144635, 'epoch': 5.0}\n"
     ]
    }
   ],
   "source": [
    "# Training model with seed 51\n",
    "train_extr_model(51)"
   ]
  },
  {
   "cell_type": "code",
   "execution_count": 14,
   "metadata": {},
   "outputs": [
    {
     "name": "stderr",
     "output_type": "stream",
     "text": [
      "c:\\Users\\marco\\anaconda3\\lib\\site-packages\\datasets\\table.py:1395: FutureWarning: promote has been superseded by mode='default'.\n",
      "  block_group = [InMemoryTable(cls._concat_blocks(list(block_group), axis=axis))]\n",
      "c:\\Users\\marco\\anaconda3\\lib\\site-packages\\datasets\\table.py:1421: FutureWarning: promote has been superseded by mode='default'.\n",
      "  table = cls._concat_blocks(blocks, axis=0)\n"
     ]
    },
    {
     "name": "stdout",
     "output_type": "stream",
     "text": [
      "Training EXTRACTION MODEL with seed 77:\n"
     ]
    },
    {
     "data": {
      "application/vnd.jupyter.widget-view+json": {
       "model_id": "f5994a2555c146eab36f5e32558a53ae",
       "version_major": 2,
       "version_minor": 0
      },
      "text/plain": [
       "  0%|          | 0/35080 [00:00<?, ?it/s]"
      ]
     },
     "metadata": {},
     "output_type": "display_data"
    },
    {
     "name": "stderr",
     "output_type": "stream",
     "text": [
      "Could not estimate the number of tokens of the input, floating-point operations will not be computed\n"
     ]
    },
    {
     "name": "stdout",
     "output_type": "stream",
     "text": [
      "{'loss': 1.5665, 'grad_norm': 18.377416610717773, 'learning_rate': 1.9989976531650042e-05, 'epoch': 0.07}\n",
      "{'loss': 1.5145, 'grad_norm': 7.188172817230225, 'learning_rate': 1.9959926220583713e-05, 'epoch': 0.14}\n",
      "{'loss': 1.3948, 'grad_norm': 3.081557273864746, 'learning_rate': 1.9909909308469398e-05, 'epoch': 0.21}\n",
      "{'loss': 1.4106, 'grad_norm': 20.663869857788086, 'learning_rate': 1.9840026063894193e-05, 'epoch': 0.29}\n",
      "{'loss': 1.4141, 'grad_norm': 4.097904682159424, 'learning_rate': 1.9750416581356147e-05, 'epoch': 0.36}\n",
      "{'loss': 1.3724, 'grad_norm': 3.805527925491333, 'learning_rate': 1.9641260500417672e-05, 'epoch': 0.43}\n",
      "{'loss': 1.3709, 'grad_norm': 6.701464653015137, 'learning_rate': 1.9512776645583266e-05, 'epoch': 0.5}\n",
      "{'loss': 1.3068, 'grad_norm': 24.170408248901367, 'learning_rate': 1.9365222587623407e-05, 'epoch': 0.57}\n",
      "{'loss': 1.3509, 'grad_norm': 3.4699249267578125, 'learning_rate': 1.9198894127224075e-05, 'epoch': 0.64}\n",
      "{'loss': 1.3392, 'grad_norm': 6.089230060577393, 'learning_rate': 1.9014124701996973e-05, 'epoch': 0.71}\n",
      "{'loss': 1.2995, 'grad_norm': 5.099404811859131, 'learning_rate': 1.881128471803926e-05, 'epoch': 0.78}\n",
      "{'loss': 1.3675, 'grad_norm': 3.8938028812408447, 'learning_rate': 1.859078080738279e-05, 'epoch': 0.86}\n",
      "{'loss': 1.262, 'grad_norm': 7.975705146789551, 'learning_rate': 1.835305501282148e-05, 'epoch': 0.93}\n",
      "{'loss': 1.2983, 'grad_norm': 12.270520210266113, 'learning_rate': 1.809858390175087e-05, 'epoch': 1.0}\n"
     ]
    },
    {
     "data": {
      "application/vnd.jupyter.widget-view+json": {
       "model_id": "fc8acd79bd36473bbd451115af562177",
       "version_major": 2,
       "version_minor": 0
      },
      "text/plain": [
       "  0%|          | 0/860 [00:00<?, ?it/s]"
      ]
     },
     "metadata": {},
     "output_type": "display_data"
    },
    {
     "name": "stdout",
     "output_type": "stream",
     "text": [
      "{'eval_loss': 1.2840577164118785, 'eval_accuracy_emotions': 0.4274, 'eval_accuracy_triggers': 0.8272, 'eval_u_avg_f1': 0.4934, 'eval_u_f1scores_emotions': 0.3, 'eval_u_f1scores_triggers': 0.6868, 'eval_d_f1scores_emotions': 0.4446, 'eval_d_f1scores_triggers': 0.7906, 'eval_runtime': 688.1328, 'eval_samples_per_second': 4.995, 'eval_steps_per_second': 1.25, 'epoch': 1.0}\n",
      "{'loss': 1.2751, 'grad_norm': 5.145366668701172, 'learning_rate': 1.7827877610796515e-05, 'epoch': 1.07}\n",
      "{'loss': 1.2846, 'grad_norm': 7.035181522369385, 'learning_rate': 1.7541478823146328e-05, 'epoch': 1.14}\n",
      "{'loss': 1.235, 'grad_norm': 7.122843265533447, 'learning_rate': 1.7239961680637002e-05, 'epoch': 1.21}\n",
      "{'loss': 1.237, 'grad_norm': 7.4482293128967285, 'learning_rate': 1.6923930632775517e-05, 'epoch': 1.28}\n",
      "{'loss': 1.1926, 'grad_norm': 4.841318607330322, 'learning_rate': 1.6594019225003043e-05, 'epoch': 1.35}\n",
      "{'loss': 1.2115, 'grad_norm': 8.111562728881836, 'learning_rate': 1.62508888286304e-05, 'epoch': 1.43}\n",
      "{'loss': 1.2879, 'grad_norm': 3.605949640274048, 'learning_rate': 1.589522731499118e-05, 'epoch': 1.5}\n",
      "{'loss': 1.1593, 'grad_norm': 20.989303588867188, 'learning_rate': 1.552774767647043e-05, 'epoch': 1.57}\n",
      "{'loss': 1.237, 'grad_norm': 4.454388618469238, 'learning_rate': 1.5149186597173348e-05, 'epoch': 1.64}\n",
      "{'loss': 1.131, 'grad_norm': 13.852839469909668, 'learning_rate': 1.4760302976099305e-05, 'epoch': 1.71}\n",
      "{'loss': 1.1371, 'grad_norm': 8.013567924499512, 'learning_rate': 1.4361876405781835e-05, 'epoch': 1.78}\n",
      "{'loss': 1.1593, 'grad_norm': 9.829216003417969, 'learning_rate': 1.3954705609444403e-05, 'epoch': 1.85}\n",
      "{'loss': 1.1937, 'grad_norm': 13.815990447998047, 'learning_rate': 1.3539606839805037e-05, 'epoch': 1.92}\n",
      "{'loss': 1.145, 'grad_norm': 12.28516674041748, 'learning_rate': 1.3117412242739655e-05, 'epoch': 2.0}\n"
     ]
    },
    {
     "data": {
      "application/vnd.jupyter.widget-view+json": {
       "model_id": "7abcfc650cef4a90bc3aad7aeb4a774d",
       "version_major": 2,
       "version_minor": 0
      },
      "text/plain": [
       "  0%|          | 0/860 [00:00<?, ?it/s]"
      ]
     },
     "metadata": {},
     "output_type": "display_data"
    },
    {
     "name": "stdout",
     "output_type": "stream",
     "text": [
      "{'eval_loss': 1.1667199411279008, 'eval_accuracy_emotions': 0.5356, 'eval_accuracy_triggers': 0.8176, 'eval_u_avg_f1': 0.55, 'eval_u_f1scores_emotions': 0.4308, 'eval_u_f1scores_triggers': 0.6692, 'eval_d_f1scores_emotions': 0.5445, 'eval_d_f1scores_triggers': 0.7797, 'eval_runtime': 688.0028, 'eval_samples_per_second': 4.996, 'eval_steps_per_second': 1.25, 'epoch': 2.0}\n",
      "{'loss': 1.0767, 'grad_norm': 7.3604302406311035, 'learning_rate': 1.2688968189084494e-05, 'epoch': 2.07}\n",
      "{'loss': 1.0532, 'grad_norm': 2.6837282180786133, 'learning_rate': 1.225513357792187e-05, 'epoch': 2.14}\n",
      "{'loss': 1.0494, 'grad_norm': 34.13399124145508, 'learning_rate': 1.1816778114750594e-05, 'epoch': 2.21}\n",
      "{'loss': 1.0511, 'grad_norm': 8.345114707946777, 'learning_rate': 1.13747805679929e-05, 'epoch': 2.28}\n",
      "{'loss': 1.0875, 'grad_norm': 8.688597679138184, 'learning_rate': 1.0930027007332924e-05, 'epoch': 2.35}\n",
      "{'loss': 1.0332, 'grad_norm': 93.12825775146484, 'learning_rate': 1.0483409027418426e-05, 'epoch': 2.42}\n",
      "{'loss': 0.9831, 'grad_norm': 7.247027397155762, 'learning_rate': 1.0035821960486643e-05, 'epoch': 2.49}\n",
      "{'loss': 0.9826, 'grad_norm': 24.921039581298828, 'learning_rate': 9.588163081497427e-06, 'epoch': 2.57}\n",
      "{'loss': 0.9932, 'grad_norm': 14.008461952209473, 'learning_rate': 9.141329809371803e-06, 'epoch': 2.64}\n",
      "{'loss': 0.9798, 'grad_norm': 77.84880065917969, 'learning_rate': 8.696217907941941e-06, 'epoch': 2.71}\n",
      "{'loss': 0.9914, 'grad_norm': 11.104613304138184, 'learning_rate': 8.253719690219079e-06, 'epoch': 2.78}\n",
      "{'loss': 0.9292, 'grad_norm': 16.21489143371582, 'learning_rate': 7.814722229579263e-06, 'epoch': 2.85}\n",
      "{'loss': 0.9925, 'grad_norm': 10.899611473083496, 'learning_rate': 7.380105581452988e-06, 'epoch': 2.92}\n",
      "{'loss': 0.9516, 'grad_norm': 23.80299186706543, 'learning_rate': 6.9507410190836174e-06, 'epoch': 2.99}\n"
     ]
    },
    {
     "data": {
      "application/vnd.jupyter.widget-view+json": {
       "model_id": "c863966337384afebb6e3e3ce5e50439",
       "version_major": 2,
       "version_minor": 0
      },
      "text/plain": [
       "  0%|          | 0/860 [00:00<?, ?it/s]"
      ]
     },
     "metadata": {},
     "output_type": "display_data"
    },
    {
     "name": "stdout",
     "output_type": "stream",
     "text": [
      "{'eval_loss': 0.9640400430791959, 'eval_accuracy_emotions': 0.6223, 'eval_accuracy_triggers': 0.7958, 'eval_u_avg_f1': 0.6176, 'eval_u_f1scores_emotions': 0.554, 'eval_u_f1scores_triggers': 0.6811, 'eval_d_f1scores_emotions': 0.6091, 'eval_d_f1scores_triggers': 0.759, 'eval_runtime': 688.1537, 'eval_samples_per_second': 4.995, 'eval_steps_per_second': 1.25, 'epoch': 3.0}\n",
      "{'loss': 0.8424, 'grad_norm': 14.6768798828125, 'learning_rate': 6.527489286891458e-06, 'epoch': 3.06}\n",
      "{'loss': 0.8731, 'grad_norm': 10.729345321655273, 'learning_rate': 6.111198874944846e-06, 'epoch': 3.14}\n",
      "{'loss': 0.8183, 'grad_norm': 27.23920440673828, 'learning_rate': 5.702704317997491e-06, 'epoch': 3.21}\n",
      "{'loss': 0.8236, 'grad_norm': 20.687496185302734, 'learning_rate': 5.302824522501931e-06, 'epoch': 3.28}\n",
      "{'loss': 0.8696, 'grad_norm': 74.28255462646484, 'learning_rate': 4.912361124952949e-06, 'epoch': 3.35}\n",
      "{'loss': 0.8118, 'grad_norm': 27.098796844482422, 'learning_rate': 4.532096884851978e-06, 'epoch': 3.42}\n",
      "{'loss': 0.8038, 'grad_norm': 31.933229446411133, 'learning_rate': 4.162794115514078e-06, 'epoch': 3.49}\n",
      "{'loss': 0.8056, 'grad_norm': 62.884761810302734, 'learning_rate': 3.805193155863247e-06, 'epoch': 3.56}\n",
      "{'loss': 0.7904, 'grad_norm': 40.67734909057617, 'learning_rate': 3.460010886279681e-06, 'epoch': 3.63}\n",
      "{'loss': 0.7673, 'grad_norm': 14.88040828704834, 'learning_rate': 3.1279392914742047e-06, 'epoch': 3.71}\n",
      "{'loss': 0.802, 'grad_norm': 4.563460826873779, 'learning_rate': 2.8096440732709085e-06, 'epoch': 3.78}\n",
      "{'loss': 0.7949, 'grad_norm': 9.854113578796387, 'learning_rate': 2.5057633160789186e-06, 'epoch': 3.85}\n",
      "{'loss': 0.7833, 'grad_norm': 19.042499542236328, 'learning_rate': 2.2169062077286072e-06, 'epoch': 3.92}\n",
      "{'loss': 0.7256, 'grad_norm': 8.880021095275879, 'learning_rate': 1.943651818236616e-06, 'epoch': 3.99}\n"
     ]
    },
    {
     "data": {
      "application/vnd.jupyter.widget-view+json": {
       "model_id": "665c66ff398349e9995c4eb67f167982",
       "version_major": 2,
       "version_minor": 0
      },
      "text/plain": [
       "  0%|          | 0/860 [00:00<?, ?it/s]"
      ]
     },
     "metadata": {},
     "output_type": "display_data"
    },
    {
     "name": "stdout",
     "output_type": "stream",
     "text": [
      "{'eval_loss': 0.8707716455246146, 'eval_accuracy_emotions': 0.7181, 'eval_accuracy_triggers': 0.8074, 'eval_u_avg_f1': 0.6752, 'eval_u_f1scores_emotions': 0.658, 'eval_u_f1scores_triggers': 0.6925, 'eval_d_f1scores_emotions': 0.7103, 'eval_d_f1scores_triggers': 0.7705, 'eval_runtime': 688.0853, 'eval_samples_per_second': 4.995, 'eval_steps_per_second': 1.25, 'epoch': 4.0}\n",
      "{'loss': 0.7047, 'grad_norm': 11.683077812194824, 'learning_rate': 1.6865479389478545e-06, 'epoch': 4.06}\n",
      "{'loss': 0.7281, 'grad_norm': 62.7010383605957, 'learning_rate': 1.4461099843816684e-06, 'epoch': 4.13}\n",
      "{'loss': 0.6868, 'grad_norm': 23.74823760986328, 'learning_rate': 1.2228199589835998e-06, 'epoch': 4.2}\n",
      "{'loss': 0.7344, 'grad_norm': 17.786006927490234, 'learning_rate': 1.0171254908541373e-06, 'epoch': 4.28}\n",
      "{'loss': 0.7351, 'grad_norm': 6.203692436218262, 'learning_rate': 8.294389343914899e-07, 'epoch': 4.35}\n",
      "{'loss': 0.7063, 'grad_norm': 13.621657371520996, 'learning_rate': 6.601365436473439e-07, 'epoch': 4.42}\n",
      "{'loss': 0.7128, 'grad_norm': 27.9608097076416, 'learning_rate': 5.095577180527378e-07, 'epoch': 4.49}\n",
      "{'loss': 0.7095, 'grad_norm': 32.18104934692383, 'learning_rate': 3.780043220261764e-07, 'epoch': 4.56}\n",
      "{'loss': 0.7359, 'grad_norm': 2.1953489780426025, 'learning_rate': 2.6574007982793857e-07, 'epoch': 4.63}\n",
      "{'loss': 0.684, 'grad_norm': 138.55776977539062, 'learning_rate': 1.7299004687372666e-07, 'epoch': 4.7}\n",
      "{'loss': 0.7237, 'grad_norm': 14.723156929016113, 'learning_rate': 9.994015856749528e-08, 'epoch': 4.77}\n",
      "{'loss': 0.6471, 'grad_norm': 21.15260124206543, 'learning_rate': 4.673685755792523e-08, 'epoch': 4.85}\n",
      "{'loss': 0.6694, 'grad_norm': 41.16729736328125, 'learning_rate': 1.3486800165773972e-08, 'epoch': 4.92}\n",
      "{'loss': 0.6753, 'grad_norm': 9.48182487487793, 'learning_rate': 2.5664257062185673e-10, 'epoch': 4.99}\n"
     ]
    },
    {
     "data": {
      "application/vnd.jupyter.widget-view+json": {
       "model_id": "8e07887886434060b4eba7a5d909afa1",
       "version_major": 2,
       "version_minor": 0
      },
      "text/plain": [
       "  0%|          | 0/860 [00:00<?, ?it/s]"
      ]
     },
     "metadata": {},
     "output_type": "display_data"
    },
    {
     "name": "stdout",
     "output_type": "stream",
     "text": [
      "{'eval_loss': 0.855483139147214, 'eval_accuracy_emotions': 0.7303, 'eval_accuracy_triggers': 0.8173, 'eval_u_avg_f1': 0.6849, 'eval_u_f1scores_emotions': 0.6811, 'eval_u_f1scores_triggers': 0.6887, 'eval_d_f1scores_emotions': 0.7196, 'eval_d_f1scores_triggers': 0.7768, 'eval_runtime': 687.981, 'eval_samples_per_second': 4.996, 'eval_steps_per_second': 1.25, 'epoch': 5.0}\n",
      "{'train_runtime': 11066.6479, 'train_samples_per_second': 12.679, 'train_steps_per_second': 3.17, 'train_loss': 1.020235451270944, 'epoch': 5.0}\n"
     ]
    }
   ],
   "source": [
    "# Training model with seed 77\n",
    "train_extr_model(77)"
   ]
  },
  {
   "cell_type": "code",
   "execution_count": 15,
   "metadata": {},
   "outputs": [
    {
     "name": "stderr",
     "output_type": "stream",
     "text": [
      "c:\\Users\\marco\\anaconda3\\lib\\site-packages\\datasets\\table.py:1395: FutureWarning: promote has been superseded by mode='default'.\n",
      "  block_group = [InMemoryTable(cls._concat_blocks(list(block_group), axis=axis))]\n",
      "c:\\Users\\marco\\anaconda3\\lib\\site-packages\\datasets\\table.py:1421: FutureWarning: promote has been superseded by mode='default'.\n",
      "  table = cls._concat_blocks(blocks, axis=0)\n"
     ]
    },
    {
     "name": "stdout",
     "output_type": "stream",
     "text": [
      "Training EXTRACTION MODEL with seed 111:\n"
     ]
    },
    {
     "data": {
      "application/vnd.jupyter.widget-view+json": {
       "model_id": "1a8f7885f832456c8a741c6f296187d2",
       "version_major": 2,
       "version_minor": 0
      },
      "text/plain": [
       "  0%|          | 0/35080 [00:00<?, ?it/s]"
      ]
     },
     "metadata": {},
     "output_type": "display_data"
    },
    {
     "name": "stderr",
     "output_type": "stream",
     "text": [
      "Could not estimate the number of tokens of the input, floating-point operations will not be computed\n"
     ]
    },
    {
     "name": "stdout",
     "output_type": "stream",
     "text": [
      "{'loss': 1.5486, 'grad_norm': 17.80193328857422, 'learning_rate': 1.9989976531650042e-05, 'epoch': 0.07}\n",
      "{'loss': 1.4818, 'grad_norm': 8.996939659118652, 'learning_rate': 1.9959926220583713e-05, 'epoch': 0.14}\n",
      "{'loss': 1.3533, 'grad_norm': 4.325868129730225, 'learning_rate': 1.9909909308469398e-05, 'epoch': 0.21}\n",
      "{'loss': 1.3473, 'grad_norm': 15.984439849853516, 'learning_rate': 1.9840026063894193e-05, 'epoch': 0.29}\n",
      "{'loss': 1.374, 'grad_norm': 3.700855016708374, 'learning_rate': 1.9750416581356147e-05, 'epoch': 0.36}\n",
      "{'loss': 1.3339, 'grad_norm': 2.0504705905914307, 'learning_rate': 1.9641260500417672e-05, 'epoch': 0.43}\n",
      "{'loss': 1.3508, 'grad_norm': 7.986011505126953, 'learning_rate': 1.9512776645583266e-05, 'epoch': 0.5}\n",
      "{'loss': 1.277, 'grad_norm': 34.078277587890625, 'learning_rate': 1.9365222587623407e-05, 'epoch': 0.57}\n",
      "{'loss': 1.3119, 'grad_norm': 4.179061412811279, 'learning_rate': 1.9198894127224075e-05, 'epoch': 0.64}\n",
      "{'loss': 1.2988, 'grad_norm': 5.24502420425415, 'learning_rate': 1.9014124701996973e-05, 'epoch': 0.71}\n",
      "{'loss': 1.2624, 'grad_norm': 5.469994068145752, 'learning_rate': 1.881128471803926e-05, 'epoch': 0.78}\n",
      "{'loss': 1.3378, 'grad_norm': 4.861839294433594, 'learning_rate': 1.859078080738279e-05, 'epoch': 0.86}\n",
      "{'loss': 1.2205, 'grad_norm': 5.619431972503662, 'learning_rate': 1.835305501282148e-05, 'epoch': 0.93}\n",
      "{'loss': 1.2499, 'grad_norm': 12.762581825256348, 'learning_rate': 1.809858390175087e-05, 'epoch': 1.0}\n"
     ]
    },
    {
     "data": {
      "application/vnd.jupyter.widget-view+json": {
       "model_id": "50ec5a873b6c40b98ac0256473d9b75b",
       "version_major": 2,
       "version_minor": 0
      },
      "text/plain": [
       "  0%|          | 0/860 [00:00<?, ?it/s]"
      ]
     },
     "metadata": {},
     "output_type": "display_data"
    },
    {
     "name": "stdout",
     "output_type": "stream",
     "text": [
      "{'eval_loss': 1.2414930243544164, 'eval_accuracy_emotions': 0.476, 'eval_accuracy_triggers': 0.8147, 'eval_u_avg_f1': 0.5144, 'eval_u_f1scores_emotions': 0.3664, 'eval_u_f1scores_triggers': 0.6625, 'eval_d_f1scores_emotions': 0.4812, 'eval_d_f1scores_triggers': 0.777, 'eval_runtime': 688.1959, 'eval_samples_per_second': 4.994, 'eval_steps_per_second': 1.25, 'epoch': 1.0}\n",
      "{'loss': 1.2053, 'grad_norm': 4.374792098999023, 'learning_rate': 1.7827877610796515e-05, 'epoch': 1.07}\n",
      "{'loss': 1.2017, 'grad_norm': 10.007293701171875, 'learning_rate': 1.7541478823146328e-05, 'epoch': 1.14}\n",
      "{'loss': 1.1783, 'grad_norm': 13.580232620239258, 'learning_rate': 1.7239961680637002e-05, 'epoch': 1.21}\n",
      "{'loss': 1.1782, 'grad_norm': 6.268212795257568, 'learning_rate': 1.6923930632775517e-05, 'epoch': 1.28}\n",
      "{'loss': 1.1034, 'grad_norm': 6.264955997467041, 'learning_rate': 1.6594019225003043e-05, 'epoch': 1.35}\n",
      "{'loss': 1.1428, 'grad_norm': 8.674097061157227, 'learning_rate': 1.62508888286304e-05, 'epoch': 1.43}\n",
      "{'loss': 1.1977, 'grad_norm': 3.9553799629211426, 'learning_rate': 1.589522731499118e-05, 'epoch': 1.5}\n",
      "{'loss': 1.0621, 'grad_norm': 40.36129379272461, 'learning_rate': 1.552774767647043e-05, 'epoch': 1.57}\n",
      "{'loss': 1.1495, 'grad_norm': 2.0671017169952393, 'learning_rate': 1.5149186597173348e-05, 'epoch': 1.64}\n",
      "{'loss': 1.05, 'grad_norm': 21.08570098876953, 'learning_rate': 1.4760302976099305e-05, 'epoch': 1.71}\n",
      "{'loss': 1.0557, 'grad_norm': 7.201554298400879, 'learning_rate': 1.4361876405781835e-05, 'epoch': 1.78}\n",
      "{'loss': 1.064, 'grad_norm': 4.555069923400879, 'learning_rate': 1.3954705609444403e-05, 'epoch': 1.85}\n",
      "{'loss': 1.0425, 'grad_norm': 9.925602912902832, 'learning_rate': 1.3539606839805037e-05, 'epoch': 1.92}\n",
      "{'loss': 1.0016, 'grad_norm': 44.92448043823242, 'learning_rate': 1.3117412242739655e-05, 'epoch': 2.0}\n"
     ]
    },
    {
     "data": {
      "application/vnd.jupyter.widget-view+json": {
       "model_id": "2ed06c7ed1454637b622d5720574b0d2",
       "version_major": 2,
       "version_minor": 0
      },
      "text/plain": [
       "  0%|          | 0/860 [00:00<?, ?it/s]"
      ]
     },
     "metadata": {},
     "output_type": "display_data"
    },
    {
     "name": "stdout",
     "output_type": "stream",
     "text": [
      "{'eval_loss': 1.062898746321832, 'eval_accuracy_emotions': 0.5534, 'eval_accuracy_triggers': 0.8251, 'eval_u_avg_f1': 0.5776, 'eval_u_f1scores_emotions': 0.4886, 'eval_u_f1scores_triggers': 0.6666, 'eval_d_f1scores_emotions': 0.5556, 'eval_d_f1scores_triggers': 0.7865, 'eval_runtime': 688.0692, 'eval_samples_per_second': 4.995, 'eval_steps_per_second': 1.25, 'epoch': 2.0}\n",
      "{'loss': 0.9377, 'grad_norm': 8.050713539123535, 'learning_rate': 1.2688968189084494e-05, 'epoch': 2.07}\n",
      "{'loss': 0.9373, 'grad_norm': 6.193169593811035, 'learning_rate': 1.225513357792187e-05, 'epoch': 2.14}\n",
      "{'loss': 0.9199, 'grad_norm': 44.868011474609375, 'learning_rate': 1.1816778114750594e-05, 'epoch': 2.21}\n",
      "{'loss': 0.9013, 'grad_norm': 7.290295124053955, 'learning_rate': 1.13747805679929e-05, 'epoch': 2.28}\n",
      "{'loss': 0.9357, 'grad_norm': 16.711355209350586, 'learning_rate': 1.0930027007332924e-05, 'epoch': 2.35}\n",
      "{'loss': 0.9337, 'grad_norm': 80.26470184326172, 'learning_rate': 1.0483409027418426e-05, 'epoch': 2.42}\n",
      "{'loss': 0.8641, 'grad_norm': 12.10429573059082, 'learning_rate': 1.0035821960486643e-05, 'epoch': 2.49}\n",
      "{'loss': 0.8694, 'grad_norm': 24.772737503051758, 'learning_rate': 9.588163081497427e-06, 'epoch': 2.57}\n",
      "{'loss': 0.8484, 'grad_norm': 2.5006396770477295, 'learning_rate': 9.141329809371803e-06, 'epoch': 2.64}\n",
      "{'loss': 0.8498, 'grad_norm': 32.70418167114258, 'learning_rate': 8.696217907941941e-06, 'epoch': 2.71}\n",
      "{'loss': 0.8463, 'grad_norm': 21.550390243530273, 'learning_rate': 8.253719690219079e-06, 'epoch': 2.78}\n",
      "{'loss': 0.8015, 'grad_norm': 21.42188262939453, 'learning_rate': 7.814722229579263e-06, 'epoch': 2.85}\n",
      "{'loss': 0.8671, 'grad_norm': 8.978997230529785, 'learning_rate': 7.380105581452988e-06, 'epoch': 2.92}\n",
      "{'loss': 0.8265, 'grad_norm': 19.065349578857422, 'learning_rate': 6.9507410190836174e-06, 'epoch': 2.99}\n"
     ]
    },
    {
     "data": {
      "application/vnd.jupyter.widget-view+json": {
       "model_id": "ea0cd6e6683b469a956c766cfb46f0c8",
       "version_major": 2,
       "version_minor": 0
      },
      "text/plain": [
       "  0%|          | 0/860 [00:00<?, ?it/s]"
      ]
     },
     "metadata": {},
     "output_type": "display_data"
    },
    {
     "name": "stdout",
     "output_type": "stream",
     "text": [
      "{'eval_loss': 0.8320291438148364, 'eval_accuracy_emotions': 0.691, 'eval_accuracy_triggers': 0.8176, 'eval_u_avg_f1': 0.6756, 'eval_u_f1scores_emotions': 0.6467, 'eval_u_f1scores_triggers': 0.7045, 'eval_d_f1scores_emotions': 0.6702, 'eval_d_f1scores_triggers': 0.7785, 'eval_runtime': 688.0174, 'eval_samples_per_second': 4.996, 'eval_steps_per_second': 1.25, 'epoch': 3.0}\n",
      "{'loss': 0.7316, 'grad_norm': 20.102375030517578, 'learning_rate': 6.527489286891458e-06, 'epoch': 3.06}\n",
      "{'loss': 0.7868, 'grad_norm': 9.32190227508545, 'learning_rate': 6.111198874944846e-06, 'epoch': 3.14}\n",
      "{'loss': 0.6971, 'grad_norm': 45.53240966796875, 'learning_rate': 5.702704317997491e-06, 'epoch': 3.21}\n",
      "{'loss': 0.6974, 'grad_norm': 8.432028770446777, 'learning_rate': 5.302824522501931e-06, 'epoch': 3.28}\n",
      "{'loss': 0.7387, 'grad_norm': 75.95780181884766, 'learning_rate': 4.912361124952949e-06, 'epoch': 3.35}\n",
      "{'loss': 0.6739, 'grad_norm': 36.87929916381836, 'learning_rate': 4.532096884851978e-06, 'epoch': 3.42}\n",
      "{'loss': 0.6666, 'grad_norm': 27.375354766845703, 'learning_rate': 4.162794115514078e-06, 'epoch': 3.49}\n",
      "{'loss': 0.6866, 'grad_norm': 45.60110855102539, 'learning_rate': 3.805193155863247e-06, 'epoch': 3.56}\n",
      "{'loss': 0.6532, 'grad_norm': 33.035728454589844, 'learning_rate': 3.460010886279681e-06, 'epoch': 3.63}\n",
      "{'loss': 0.6476, 'grad_norm': 11.591699600219727, 'learning_rate': 3.1279392914742047e-06, 'epoch': 3.71}\n",
      "{'loss': 0.6736, 'grad_norm': 6.650328159332275, 'learning_rate': 2.8096440732709085e-06, 'epoch': 3.78}\n",
      "{'loss': 0.655, 'grad_norm': 8.250913619995117, 'learning_rate': 2.5057633160789186e-06, 'epoch': 3.85}\n",
      "{'loss': 0.6442, 'grad_norm': 24.026611328125, 'learning_rate': 2.2169062077286072e-06, 'epoch': 3.92}\n",
      "{'loss': 0.6234, 'grad_norm': 13.353082656860352, 'learning_rate': 1.943651818236616e-06, 'epoch': 3.99}\n"
     ]
    },
    {
     "data": {
      "application/vnd.jupyter.widget-view+json": {
       "model_id": "042356294e3a4b3282698b548605dba7",
       "version_major": 2,
       "version_minor": 0
      },
      "text/plain": [
       "  0%|          | 0/860 [00:00<?, ?it/s]"
      ]
     },
     "metadata": {},
     "output_type": "display_data"
    },
    {
     "name": "stdout",
     "output_type": "stream",
     "text": [
      "{'eval_loss': 0.7570977134885727, 'eval_accuracy_emotions': 0.7701, 'eval_accuracy_triggers': 0.819, 'eval_u_avg_f1': 0.7207, 'eval_u_f1scores_emotions': 0.7378, 'eval_u_f1scores_triggers': 0.7036, 'eval_d_f1scores_emotions': 0.7611, 'eval_d_f1scores_triggers': 0.7776, 'eval_runtime': 688.2168, 'eval_samples_per_second': 4.994, 'eval_steps_per_second': 1.25, 'epoch': 4.0}\n",
      "{'loss': 0.5883, 'grad_norm': 9.0853910446167, 'learning_rate': 1.6865479389478545e-06, 'epoch': 4.06}\n",
      "{'loss': 0.6092, 'grad_norm': 44.74871063232422, 'learning_rate': 1.4461099843816684e-06, 'epoch': 4.13}\n",
      "{'loss': 0.5904, 'grad_norm': 16.358474731445312, 'learning_rate': 1.2228199589835998e-06, 'epoch': 4.2}\n",
      "{'loss': 0.6186, 'grad_norm': 14.376166343688965, 'learning_rate': 1.0171254908541373e-06, 'epoch': 4.28}\n",
      "{'loss': 0.605, 'grad_norm': 7.927257061004639, 'learning_rate': 8.294389343914899e-07, 'epoch': 4.35}\n",
      "{'loss': 0.5805, 'grad_norm': 17.53046417236328, 'learning_rate': 6.601365436473439e-07, 'epoch': 4.42}\n",
      "{'loss': 0.6016, 'grad_norm': 26.998966217041016, 'learning_rate': 5.095577180527378e-07, 'epoch': 4.49}\n",
      "{'loss': 0.5798, 'grad_norm': 31.774995803833008, 'learning_rate': 3.780043220261764e-07, 'epoch': 4.56}\n",
      "{'loss': 0.6087, 'grad_norm': 3.5380187034606934, 'learning_rate': 2.6574007982793857e-07, 'epoch': 4.63}\n",
      "{'loss': 0.5628, 'grad_norm': 17.044130325317383, 'learning_rate': 1.7299004687372666e-07, 'epoch': 4.7}\n",
      "{'loss': 0.6357, 'grad_norm': 15.83751392364502, 'learning_rate': 9.994015856749528e-08, 'epoch': 4.77}\n",
      "{'loss': 0.5601, 'grad_norm': 10.379165649414062, 'learning_rate': 4.673685755792523e-08, 'epoch': 4.85}\n",
      "{'loss': 0.5875, 'grad_norm': 24.590362548828125, 'learning_rate': 1.3486800165773972e-08, 'epoch': 4.92}\n",
      "{'loss': 0.5737, 'grad_norm': 9.411850929260254, 'learning_rate': 2.5664257062185673e-10, 'epoch': 4.99}\n"
     ]
    },
    {
     "data": {
      "application/vnd.jupyter.widget-view+json": {
       "model_id": "2bb3d65563684ff0b9b7b3fa47608c6a",
       "version_major": 2,
       "version_minor": 0
      },
      "text/plain": [
       "  0%|          | 0/860 [00:00<?, ?it/s]"
      ]
     },
     "metadata": {},
     "output_type": "display_data"
    },
    {
     "name": "stdout",
     "output_type": "stream",
     "text": [
      "{'eval_loss': 0.7610925864617913, 'eval_accuracy_emotions': 0.7847, 'eval_accuracy_triggers': 0.8228, 'eval_u_avg_f1': 0.7281, 'eval_u_f1scores_emotions': 0.7618, 'eval_u_f1scores_triggers': 0.6944, 'eval_d_f1scores_emotions': 0.7713, 'eval_d_f1scores_triggers': 0.7819, 'eval_runtime': 688.0019, 'eval_samples_per_second': 4.996, 'eval_steps_per_second': 1.25, 'epoch': 5.0}\n",
      "{'train_runtime': 11063.3541, 'train_samples_per_second': 12.682, 'train_steps_per_second': 3.171, 'train_loss': 0.9220450930883566, 'epoch': 5.0}\n"
     ]
    }
   ],
   "source": [
    "# Training model with seed 111\n",
    "train_extr_model(111)"
   ]
  },
  {
   "cell_type": "markdown",
   "metadata": {},
   "source": [
    "Train freezed model"
   ]
  },
  {
   "cell_type": "code",
   "execution_count": null,
   "metadata": {},
   "outputs": [],
   "source": [
    "# Training model with seed 49\n",
    "train_extr_model(49, True)"
   ]
  },
  {
   "cell_type": "code",
   "execution_count": null,
   "metadata": {},
   "outputs": [],
   "source": [
    "# Training model with seed 666\n",
    "train_extr_model(666, True)"
   ]
  },
  {
   "cell_type": "code",
   "execution_count": null,
   "metadata": {},
   "outputs": [],
   "source": [
    "# Training model with seed 51\n",
    "train_extr_model(51, True)"
   ]
  },
  {
   "cell_type": "code",
   "execution_count": null,
   "metadata": {},
   "outputs": [],
   "source": [
    "# Training model with seed 77\n",
    "train_extr_model(77, True)"
   ]
  },
  {
   "cell_type": "code",
   "execution_count": null,
   "metadata": {},
   "outputs": [],
   "source": [
    "# Training model with seed 111\n",
    "train_extr_model(111, True)"
   ]
  }
 ],
 "metadata": {
  "kernelspec": {
   "display_name": "base",
   "language": "python",
   "name": "python3"
  },
  "language_info": {
   "codemirror_mode": {
    "name": "ipython",
    "version": 3
   },
   "file_extension": ".py",
   "mimetype": "text/x-python",
   "name": "python",
   "nbconvert_exporter": "python",
   "pygments_lexer": "ipython3",
   "version": "3.9.12"
  }
 },
 "nbformat": 4,
 "nbformat_minor": 2
}
